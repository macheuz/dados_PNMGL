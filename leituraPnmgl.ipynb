{
 "cells": [
  {
   "cell_type": "markdown",
   "source": [
    "Funcoes utilizadas\n",
    "Criar uma lista de comprimentos de strings em cada célula da coluna especificada\n",
    "comprimentos = [len(str(celula)) for celula in df.iloc[: ,4]]\n",
    "Encontrar o índice da célula com o maior número de caracteres\n",
    "indice_maior = comprimentos.index(max(comprimentos))\n",
    "Extrair a célula com o maior número de caracteres\n",
    "celula_maior = df.iloc[indice_maior][4] df.iloc[: , 4][indice_maior] df.iloc[: , 4].value_counts() celula_maior df.iloc[:,0]\n",
    "index = df.columns.get_loc(‘abcz’)\n",
    "index df"
   ],
   "metadata": {
    "collapsed": false
   }
  },
  {
   "cell_type": "markdown",
   "source": [
    "IDANIMAL = CHAVE UNICA\n",
    "MP = CHAVE UNICA -  Mes parto\n",
    "AP = CHAVE UNICA - -Ano parto\n",
    "\n",
    "LTOT = lactacao total\n",
    "L365 = lactacao em ate 365 dias\n",
    "L305 = lactacao em ate 305 dias\n",
    "DE = Data de Secagem\n",
    "ME = Mes de secagem\n",
    "AE = ANO de Secagem\n",
    "caso o LTOT, L365 e L305, DE, ME e AE sejam iguais ao arquivo old, pode ser descartado"
   ],
   "metadata": {
    "collapsed": false
   }
  },
  {
   "cell_type": "code",
   "execution_count": 18,
   "outputs": [],
   "source": [
    "import pandas as pd\n",
    "import warnings\n",
    "warnings.filterwarnings('ignore')"
   ],
   "metadata": {
    "collapsed": false
   }
  },
  {
   "cell_type": "markdown",
   "source": [
    "## conectando no banco de dados"
   ],
   "metadata": {
    "collapsed": false
   }
  },
  {
   "cell_type": "code",
   "execution_count": 19,
   "outputs": [],
   "source": [
    "import mysql.connector\n",
    "\n",
    "mydb = mysql.connector.connect(\n",
    "  host=\"127.0.0.1\",\n",
    "  user=\"root\",\n",
    "  password=\"4d5f0l9k\",\n",
    "  database=\"bioinformatica_new\"\n",
    ")"
   ],
   "metadata": {
    "collapsed": false
   }
  },
  {
   "cell_type": "markdown",
   "source": [
    "## Retornando toda tabela genealogia_embrapa e genealogia_abcz do banco de dados para dataframes"
   ],
   "metadata": {
    "collapsed": false
   }
  },
  {
   "cell_type": "code",
   "execution_count": 20,
   "outputs": [],
   "source": [
    "sql = f\"WITH tabela_virtual AS (SELECT * FROM genealogia_embrapa) SELECT tv.*, (SELECT registro FROM tabela_virtual AS pai WHERE pai.id_produto = tv.id_touro) AS registro_pai, (SELECT registro FROM tabela_virtual AS mae WHERE mae.id_produto = tv.id_vaca) AS registro_mae FROM tabela_virtual AS tv\"\n",
    "sql1 = \"SELECT * FROM genealogia_abcz\"\n",
    "df_genealogia_embrapa = pd.read_sql(sql, mydb)\n",
    "df_genealogia_embrapa=df_genealogia_embrapa.rename(columns={'idanimal': 'IDANIMAL'})\n",
    "df_genealogia_abcz = pd.read_sql(sql1, mydb)\n"
   ],
   "metadata": {
    "collapsed": false
   }
  },
  {
   "cell_type": "markdown",
   "source": [
    "## Lendo planilhas"
   ],
   "metadata": {
    "collapsed": false
   }
  },
  {
   "cell_type": "code",
   "execution_count": null,
   "outputs": [],
   "source": [
    "pedigree = pd.read_csv(\"pedrigree - Girolando - 17-02-2023.txt\", encoding='ISO-8859-1')\n",
    "dados_2023 = pd.read_csv(\"PNMGL - Dados girolando - 17-02-23.txt\", encoding='ISO-8859-1')\n",
    "dados_2022 = pd.read_csv(\"PNMGL - Dados_old - 17-02-2023.txt\", encoding='ISO-8859-1')"
   ],
   "metadata": {
    "collapsed": false
   }
  },
  {
   "cell_type": "code",
   "execution_count": null,
   "outputs": [],
   "source": [
    "pedigree"
   ],
   "metadata": {
    "collapsed": false
   }
  },
  {
   "cell_type": "code",
   "execution_count": null,
   "outputs": [],
   "source": [
    "dados_2022"
   ],
   "metadata": {
    "collapsed": false
   }
  },
  {
   "cell_type": "code",
   "execution_count": null,
   "outputs": [],
   "source": [
    "dados_2023"
   ],
   "metadata": {
    "collapsed": false
   }
  },
  {
   "cell_type": "code",
   "execution_count": 21,
   "outputs": [
    {
     "data": {
      "text/plain": "       id_produto         id  abcz registro      nome sexo paternidade  \\\n0            0001       0001  None     None       nan    M        None   \n1            0003       0003  None     None       nan    M        None   \n2            0006       0006  None     None       nan    M        None   \n3       02418-249  02418-249  None     2418       nan    F        None   \n4              03         03  None     None       nan    M        None   \n...           ...        ...   ...      ...       ...  ...         ...   \n463543       ZZZ7       ZZZ7     S     ZZZ7   AMBICAO    F        None   \n463544       ZZZ8       ZZZ8     S     ZZZ8  AGASALHO    M        None   \n463545       ZZZ9       ZZZ9     S     ZZZ9   BACABAL    M        None   \n463546      ZZZA1      ZZZA1     S    ZZZA1     ANITA    F        None   \n463547      ZZZA2      ZZZA2     S    ZZZA2    ANDREA    F        None   \n\n       ck_sire id_touro  id_vaca  ... gr_tp     rebc2_cri      rebc2_pr   cat  \\\n0         None     None     None  ...     0         99999         99999  None   \n1         None     None     None  ...     0         99999         99999  None   \n2         None     None     None  ...     0         99999         99999  None   \n3         None   108115   108615  ...     0         99999         99999  None   \n4         None     None     None  ...     0         99999         99999  None   \n...        ...      ...      ...  ...   ...           ...           ...   ...   \n463543    None   KCA472   135177  ...     0   7145-ABCZ 1  11958-ABCZ 1    PO   \n463544    None   121118   131985  ...     0   7145-ABCZ 1   7145-ABCZ 1    PO   \n463545    None   133175   178922  ...     0   7145-ABCZ 1   7145-ABCZ 1    PO   \n463546    None   EFC383  JDRB874  ...     0   7145-ABCZ 1   7145-ABCZ 1    PO   \n463547    None  RRP5224   177993  ...     0   7145-ABCZ 1   7145-ABCZ 1    PO   \n\n        ficha_a  cod_prod  IDANIMAL  origem  registro_pai registro_mae  \n0             0         0         0  OUTRAS          None         None  \n1             0         0         0  OUTRAS          None         None  \n2             0         0         0  OUTRAS          None         None  \n3             0         0         0  OUTRAS         A1343        18935  \n4             0         0         0  OUTRAS          None         None  \n...         ...       ...       ...     ...           ...          ...  \n463543  1351780   3158020         0  ABCGIL        KCA472        KB429  \n463544        0   3247323         0    ABCZ          K830       KA7368  \n463545        0   3247322         0    ABCZ          K974       KA9422  \n463546        0   9499094         0    ABCZ        EFC383      JDRB874  \n463547        0   9499095         0    ABCZ       RRP5224       AB7320  \n\n[463548 rows x 28 columns]",
      "text/html": "<div>\n<style scoped>\n    .dataframe tbody tr th:only-of-type {\n        vertical-align: middle;\n    }\n\n    .dataframe tbody tr th {\n        vertical-align: top;\n    }\n\n    .dataframe thead th {\n        text-align: right;\n    }\n</style>\n<table border=\"1\" class=\"dataframe\">\n  <thead>\n    <tr style=\"text-align: right;\">\n      <th></th>\n      <th>id_produto</th>\n      <th>id</th>\n      <th>abcz</th>\n      <th>registro</th>\n      <th>nome</th>\n      <th>sexo</th>\n      <th>paternidade</th>\n      <th>ck_sire</th>\n      <th>id_touro</th>\n      <th>id_vaca</th>\n      <th>...</th>\n      <th>gr_tp</th>\n      <th>rebc2_cri</th>\n      <th>rebc2_pr</th>\n      <th>cat</th>\n      <th>ficha_a</th>\n      <th>cod_prod</th>\n      <th>IDANIMAL</th>\n      <th>origem</th>\n      <th>registro_pai</th>\n      <th>registro_mae</th>\n    </tr>\n  </thead>\n  <tbody>\n    <tr>\n      <th>0</th>\n      <td>0001</td>\n      <td>0001</td>\n      <td>None</td>\n      <td>None</td>\n      <td>nan</td>\n      <td>M</td>\n      <td>None</td>\n      <td>None</td>\n      <td>None</td>\n      <td>None</td>\n      <td>...</td>\n      <td>0</td>\n      <td>99999</td>\n      <td>99999</td>\n      <td>None</td>\n      <td>0</td>\n      <td>0</td>\n      <td>0</td>\n      <td>OUTRAS</td>\n      <td>None</td>\n      <td>None</td>\n    </tr>\n    <tr>\n      <th>1</th>\n      <td>0003</td>\n      <td>0003</td>\n      <td>None</td>\n      <td>None</td>\n      <td>nan</td>\n      <td>M</td>\n      <td>None</td>\n      <td>None</td>\n      <td>None</td>\n      <td>None</td>\n      <td>...</td>\n      <td>0</td>\n      <td>99999</td>\n      <td>99999</td>\n      <td>None</td>\n      <td>0</td>\n      <td>0</td>\n      <td>0</td>\n      <td>OUTRAS</td>\n      <td>None</td>\n      <td>None</td>\n    </tr>\n    <tr>\n      <th>2</th>\n      <td>0006</td>\n      <td>0006</td>\n      <td>None</td>\n      <td>None</td>\n      <td>nan</td>\n      <td>M</td>\n      <td>None</td>\n      <td>None</td>\n      <td>None</td>\n      <td>None</td>\n      <td>...</td>\n      <td>0</td>\n      <td>99999</td>\n      <td>99999</td>\n      <td>None</td>\n      <td>0</td>\n      <td>0</td>\n      <td>0</td>\n      <td>OUTRAS</td>\n      <td>None</td>\n      <td>None</td>\n    </tr>\n    <tr>\n      <th>3</th>\n      <td>02418-249</td>\n      <td>02418-249</td>\n      <td>None</td>\n      <td>2418</td>\n      <td>nan</td>\n      <td>F</td>\n      <td>None</td>\n      <td>None</td>\n      <td>108115</td>\n      <td>108615</td>\n      <td>...</td>\n      <td>0</td>\n      <td>99999</td>\n      <td>99999</td>\n      <td>None</td>\n      <td>0</td>\n      <td>0</td>\n      <td>0</td>\n      <td>OUTRAS</td>\n      <td>A1343</td>\n      <td>18935</td>\n    </tr>\n    <tr>\n      <th>4</th>\n      <td>03</td>\n      <td>03</td>\n      <td>None</td>\n      <td>None</td>\n      <td>nan</td>\n      <td>M</td>\n      <td>None</td>\n      <td>None</td>\n      <td>None</td>\n      <td>None</td>\n      <td>...</td>\n      <td>0</td>\n      <td>99999</td>\n      <td>99999</td>\n      <td>None</td>\n      <td>0</td>\n      <td>0</td>\n      <td>0</td>\n      <td>OUTRAS</td>\n      <td>None</td>\n      <td>None</td>\n    </tr>\n    <tr>\n      <th>...</th>\n      <td>...</td>\n      <td>...</td>\n      <td>...</td>\n      <td>...</td>\n      <td>...</td>\n      <td>...</td>\n      <td>...</td>\n      <td>...</td>\n      <td>...</td>\n      <td>...</td>\n      <td>...</td>\n      <td>...</td>\n      <td>...</td>\n      <td>...</td>\n      <td>...</td>\n      <td>...</td>\n      <td>...</td>\n      <td>...</td>\n      <td>...</td>\n      <td>...</td>\n      <td>...</td>\n    </tr>\n    <tr>\n      <th>463543</th>\n      <td>ZZZ7</td>\n      <td>ZZZ7</td>\n      <td>S</td>\n      <td>ZZZ7</td>\n      <td>AMBICAO</td>\n      <td>F</td>\n      <td>None</td>\n      <td>None</td>\n      <td>KCA472</td>\n      <td>135177</td>\n      <td>...</td>\n      <td>0</td>\n      <td>7145-ABCZ 1</td>\n      <td>11958-ABCZ 1</td>\n      <td>PO</td>\n      <td>1351780</td>\n      <td>3158020</td>\n      <td>0</td>\n      <td>ABCGIL</td>\n      <td>KCA472</td>\n      <td>KB429</td>\n    </tr>\n    <tr>\n      <th>463544</th>\n      <td>ZZZ8</td>\n      <td>ZZZ8</td>\n      <td>S</td>\n      <td>ZZZ8</td>\n      <td>AGASALHO</td>\n      <td>M</td>\n      <td>None</td>\n      <td>None</td>\n      <td>121118</td>\n      <td>131985</td>\n      <td>...</td>\n      <td>0</td>\n      <td>7145-ABCZ 1</td>\n      <td>7145-ABCZ 1</td>\n      <td>PO</td>\n      <td>0</td>\n      <td>3247323</td>\n      <td>0</td>\n      <td>ABCZ</td>\n      <td>K830</td>\n      <td>KA7368</td>\n    </tr>\n    <tr>\n      <th>463545</th>\n      <td>ZZZ9</td>\n      <td>ZZZ9</td>\n      <td>S</td>\n      <td>ZZZ9</td>\n      <td>BACABAL</td>\n      <td>M</td>\n      <td>None</td>\n      <td>None</td>\n      <td>133175</td>\n      <td>178922</td>\n      <td>...</td>\n      <td>0</td>\n      <td>7145-ABCZ 1</td>\n      <td>7145-ABCZ 1</td>\n      <td>PO</td>\n      <td>0</td>\n      <td>3247322</td>\n      <td>0</td>\n      <td>ABCZ</td>\n      <td>K974</td>\n      <td>KA9422</td>\n    </tr>\n    <tr>\n      <th>463546</th>\n      <td>ZZZA1</td>\n      <td>ZZZA1</td>\n      <td>S</td>\n      <td>ZZZA1</td>\n      <td>ANITA</td>\n      <td>F</td>\n      <td>None</td>\n      <td>None</td>\n      <td>EFC383</td>\n      <td>JDRB874</td>\n      <td>...</td>\n      <td>0</td>\n      <td>7145-ABCZ 1</td>\n      <td>7145-ABCZ 1</td>\n      <td>PO</td>\n      <td>0</td>\n      <td>9499094</td>\n      <td>0</td>\n      <td>ABCZ</td>\n      <td>EFC383</td>\n      <td>JDRB874</td>\n    </tr>\n    <tr>\n      <th>463547</th>\n      <td>ZZZA2</td>\n      <td>ZZZA2</td>\n      <td>S</td>\n      <td>ZZZA2</td>\n      <td>ANDREA</td>\n      <td>F</td>\n      <td>None</td>\n      <td>None</td>\n      <td>RRP5224</td>\n      <td>177993</td>\n      <td>...</td>\n      <td>0</td>\n      <td>7145-ABCZ 1</td>\n      <td>7145-ABCZ 1</td>\n      <td>PO</td>\n      <td>0</td>\n      <td>9499095</td>\n      <td>0</td>\n      <td>ABCZ</td>\n      <td>RRP5224</td>\n      <td>AB7320</td>\n    </tr>\n  </tbody>\n</table>\n<p>463548 rows × 28 columns</p>\n</div>"
     },
     "execution_count": 21,
     "metadata": {},
     "output_type": "execute_result"
    }
   ],
   "source": [
    "df_genealogia_embrapa"
   ],
   "metadata": {
    "collapsed": false
   }
  },
  {
   "cell_type": "code",
   "execution_count": null,
   "outputs": [],
   "source": [
    "df_genealogia_abcz"
   ],
   "metadata": {
    "collapsed": false
   }
  },
  {
   "cell_type": "markdown",
   "source": [
    "## Criando um dataframe que é a junção dos dois dataframes, dados_2022 e dados_2023, pelas celulas que possuem os mesmos valores nas colunas IDANIMAL, AP, MP, L305, LTOT, L365, ME e AE."
   ],
   "metadata": {
    "collapsed": false
   }
  },
  {
   "cell_type": "code",
   "execution_count": null,
   "outputs": [],
   "source": [
    "df_dados_repetidos_entre_2022_2023 = pd.merge(dados_2023, dados_2022, on=['IDANIMAL', 'AP', 'MP','L305', 'LTOT', 'L365', 'ME', 'AE', 'CAUSA'],suffixes=('', '_drop'))\n",
    "df_dados_repetidos_entre_2022_2023 = df_dados_repetidos_entre_2022_2023.drop(df_dados_repetidos_entre_2022_2023.filter(regex='_drop$').columns, axis=1)\n",
    "df_dados_repetidos_entre_2022_2023 = df_dados_repetidos_entre_2022_2023.drop_duplicates()\n",
    "df_dados_repetidos_entre_2022_2023"
   ],
   "metadata": {
    "collapsed": false
   }
  },
  {
   "cell_type": "markdown",
   "source": [
    "## Criando um dataframe com somente os novos dados inseridos em 2023\n",
    "Esses são os dados que precisam ser inseridos no banco de dados"
   ],
   "metadata": {
    "collapsed": false
   }
  },
  {
   "cell_type": "code",
   "execution_count": null,
   "outputs": [],
   "source": [
    "# faz o merge entre os dois dataframes, o dados com os dados repetidos\n",
    "df_merge = pd.merge(dados_2023, df_dados_repetidos_entre_2022_2023, how='left', indicator=True, suffixes=('', '_drop'))\n",
    "\n",
    "# filtra somente as linhas que estão no dataframe da esquerda\n",
    "df_dados_novos_2023 = df_merge[df_merge['_merge'] == 'left_only']\n",
    "\n",
    "# remove a coluna \"_merge\"\n",
    "df_dados_novos_2023.drop('_merge', axis=1, inplace=True)\n",
    "\n",
    "df_dados_novos_2023 = df_dados_novos_2023.drop(df_merge.filter(regex='_drop$').columns, axis=1)\n",
    "df_dados_novos_2023 = df_dados_novos_2023.drop_duplicates()\n",
    "df_dados_novos_2023"
   ],
   "metadata": {
    "collapsed": false
   }
  },
  {
   "cell_type": "markdown",
   "source": [
    "# Adicionando coluna GS, oriunda do dataframe Pedigree, no dataframe df_dados_novos\n",
    "inclusão necessária para localizar o animal"
   ],
   "metadata": {
    "collapsed": false
   }
  },
  {
   "cell_type": "code",
   "execution_count": null,
   "outputs": [],
   "source": [
    "df_temporaria = pd.merge(df_dados_novos_2023, pedigree[['IDANIMAL', 'gs', 'SEXO']], on=['IDANIMAL'], suffixes=('', '_drop'))\n",
    "df_dados_novos_2023=df_temporaria\n",
    "df_dados_novos_2023\n",
    "\n",
    "nome_antigo = 'SEXO'\n",
    "nome_novo = 'sexo'\n",
    "indice_coluna = df_dados_novos_2023.columns.get_loc(nome_antigo)\n",
    "df_dados_novos_2023.rename(columns={nome_antigo: nome_novo}, inplace=True)\n",
    "df_dados_novos_2023\n",
    "\n",
    "#df_dados_novos_2023 = df_dados_novos_2023.rename(columns={'SEXO': 'sexo'})"
   ],
   "metadata": {
    "collapsed": false
   }
  },
  {
   "cell_type": "markdown",
   "source": [
    "# Criando subtabela com somente gs = 0"
   ],
   "metadata": {
    "collapsed": false
   }
  },
  {
   "cell_type": "code",
   "execution_count": null,
   "outputs": [],
   "source": [
    "sub_tabela_gs_0 = df_dados_novos_2023[df_dados_novos_2023['gs'] == 0]\n",
    "sub_tabela_gs_0"
   ],
   "metadata": {
    "collapsed": false
   }
  },
  {
   "cell_type": "markdown",
   "source": [
    "# Adicionando coluna cod_prod, oriunda do dataframe df_genealogia_abcz, na subtabela gs"
   ],
   "metadata": {
    "collapsed": false
   }
  },
  {
   "cell_type": "code",
   "execution_count": null,
   "outputs": [],
   "source": [
    "df_genealogia_abcz = df_genealogia_abcz.rename(columns={'rgd2': 'RGVACA'})\n",
    "df_temporaria1 = pd.merge(sub_tabela_gs_0, df_genealogia_abcz[['RGVACA', 'cod_prod']], on=['RGVACA'], how='left', suffixes=('', '_drop'))\n",
    "sub_tabela_gs_0=df_temporaria1\n",
    "sub_tabela_gs_0 = sub_tabela_gs_0.drop_duplicates()\n",
    "sub_tabela_gs_0"
   ],
   "metadata": {
    "collapsed": false
   }
  },
  {
   "cell_type": "markdown",
   "source": [
    "# Adicionando codprod no dataframe df_dados_novos_2023 a partir do dataframe sub_tabela_gs_0"
   ],
   "metadata": {
    "collapsed": false
   }
  },
  {
   "cell_type": "code",
   "execution_count": null,
   "outputs": [],
   "source": [
    "df_temporaria2 = pd.merge(df_dados_novos_2023, sub_tabela_gs_0[['RGVACA', 'cod_prod', 'IDANIMAL']], on=['RGVACA', 'IDANIMAL'], how='left', suffixes=('', '_drop'))\n",
    "df_dados_novos_2023=df_temporaria2\n",
    "df_dados_novos_2023 = df_dados_novos_2023.drop_duplicates()\n",
    "df_dados_novos_2023"
   ],
   "metadata": {
    "collapsed": false
   }
  },
  {
   "cell_type": "markdown",
   "source": [
    "## Calculando a diferença entre a data dos novos partos com as ultimas datas presentes na tabela de dados_2022 para validar se ha alguma inconsistência\n",
    "\n",
    "obs: Caso a diferença seja menor que 250 dias é provável que haja alguma falha."
   ],
   "metadata": {
    "collapsed": false
   }
  },
  {
   "cell_type": "code",
   "execution_count": null,
   "outputs": [],
   "source": [
    "\n",
    "mesclado = pd.merge(df_dados_novos_2023, dados_2022, on=['IDANIMAL'], suffixes=('', '_drop'))\n",
    "mesclado = mesclado.drop_duplicates()\n",
    "#mesclado = mesclado.drop(mesclado.filter(regex='_drop$').columns, axis=1)\n",
    "mesclado[['parto', 'parto_drop']] = mesclado[['parto', 'parto_drop']].astype(str)\n",
    "mesclado[['parto', 'parto_drop']] = mesclado[['parto', 'parto_drop']].apply(pd.to_datetime)\n",
    "mesclado['diferenca_em_dias'] = (mesclado['parto'] - mesclado['parto_drop']).dt.days\n",
    "mesclado[['parto', 'parto_drop', 'diferenca_em_dias']]"
   ],
   "metadata": {
    "collapsed": false
   }
  },
  {
   "cell_type": "markdown",
   "source": [
    "## Pegando da tabela de animais que serão inseridos no banco aqueles que ja possuem IDANIMAL cadastrado\n",
    "Comparado ao dataframe  dados_2022"
   ],
   "metadata": {
    "collapsed": false
   }
  },
  {
   "cell_type": "code",
   "execution_count": null,
   "outputs": [],
   "source": [
    "df_animais_com_ID = pd.merge(df_dados_novos_2023, dados_2022, on =['IDANIMAL'], suffixes=('', '_drop'))\n",
    "df_animais_com_ID = df_animais_com_ID.drop(df_animais_com_ID.filter(regex='_drop$').columns, axis=1)\n",
    "df_animais_com_ID = df_animais_com_ID.drop_duplicates()\n",
    "df_animais_com_ID"
   ],
   "metadata": {
    "collapsed": false
   }
  },
  {
   "cell_type": "markdown",
   "source": [
    "## Pegando da tabela de animais que serão inseridos no banco, todos aqueles que não possuem IDANIMAL cadastrado\n",
    "comparado ao dataframe dados_2022"
   ],
   "metadata": {
    "collapsed": false
   }
  },
  {
   "cell_type": "code",
   "execution_count": null,
   "outputs": [],
   "source": [
    "merged_df = pd.merge(df_dados_novos_2023, dados_2022, on='IDANIMAL', how='left', indicator=True, suffixes=('', '_drop'))\n",
    "merged_df = merged_df.drop(merged_df.filter(regex='_drop$').columns, axis=1)\n",
    "merged_df = merged_df[merged_df['_merge'] == 'left_only'].drop(columns='_merge')\n",
    "df_animais_sem_id = merged_df\n",
    "df_animais_sem_id"
   ],
   "metadata": {
    "collapsed": false
   }
  },
  {
   "cell_type": "code",
   "execution_count": null,
   "outputs": [],
   "source": [
    "#dados_2022[dados_2022['IDANIMAL'] == 1631099]"
   ],
   "metadata": {
    "collapsed": false
   }
  },
  {
   "cell_type": "markdown",
   "source": [
    "# Criando o dataframe df_verificando_animais_com_id_na_genealogia_embrapa que é a junção dos dataframes genealogia_embrapa e df_animais_com_ID, pela coluna IDANIMAL e adicionando a coluna id_produto no dataframe df_verificando_animais_com_id_na_genealogia_embrapa"
   ],
   "metadata": {
    "collapsed": false
   }
  },
  {
   "cell_type": "code",
   "execution_count": null,
   "outputs": [],
   "source": [
    "df_genealogia_embrapa['IDANIMAL'] = df_genealogia_embrapa['IDANIMAL'].astype('int')\n",
    "df_verificando_animais_com_id_na_genealogia_embrapa = pd.merge(df_animais_com_ID, df_genealogia_embrapa[['IDANIMAL', 'id_produto']], on='IDANIMAL', how='left', indicator=True)\n"
   ],
   "metadata": {
    "collapsed": false
   }
  },
  {
   "cell_type": "markdown",
   "source": [
    "# Excluindo itens duplicados"
   ],
   "metadata": {
    "collapsed": false
   }
  },
  {
   "cell_type": "code",
   "execution_count": null,
   "outputs": [],
   "source": [
    "df_verificando_animais_com_id_na_genealogia_embrapa = df_verificando_animais_com_id_na_genealogia_embrapa.drop_duplicates()\n",
    "df_verificando_animais_com_id_na_genealogia_embrapa = df_verificando_animais_com_id_na_genealogia_embrapa.drop(columns='_merge')\n",
    "df_verificando_animais_com_id_na_genealogia_embrapa"
   ],
   "metadata": {
    "collapsed": false
   }
  },
  {
   "cell_type": "markdown",
   "source": [
    "## Lista de animais do dataframe sem ID em relacao a dados_2022 e que possuem ID_animal no dataframe da genealogia_Embrapa\n",
    "Obs: Tem que ter ID_produto"
   ],
   "metadata": {
    "collapsed": false
   }
  },
  {
   "cell_type": "code",
   "execution_count": null,
   "outputs": [],
   "source": [
    "df_animais_sem_id = df_animais_sem_id.add_suffix('_esq')\n",
    "df_genealogia_embrapa = df_genealogia_embrapa.add_suffix('_dir')\n",
    "\n",
    "df_verificando_animais_com_id_df_sem_id_na_genealogia_embrapa = pd.merge(df_animais_sem_id, df_genealogia_embrapa, left_on=['IDANIMAL_esq'], right_on=['IDANIMAL_dir'], how='left', indicator=True)\n",
    "\n",
    "\n",
    "df_verificando_animais_com_id_df_sem_id_na_genealogia_embrapa.drop_duplicates()\n",
    "df_verificando_animais_com_id_df_sem_id_na_genealogia_embrapa = df_verificando_animais_com_id_df_sem_id_na_genealogia_embrapa.drop(df_verificando_animais_com_id_df_sem_id_na_genealogia_embrapa.filter(regex='_drop$').columns, axis=1)\n",
    "df_com_id_df_na_genealogia_embrapa = df_verificando_animais_com_id_df_sem_id_na_genealogia_embrapa[df_verificando_animais_com_id_df_sem_id_na_genealogia_embrapa['_merge'] == 'both']\n",
    "df_com_id_df_na_genealogia_embrapa\n",
    "# dropa as colunas que não são necessárias\n",
    "df_com_id_df_na_genealogia_embrapa = df_com_id_df_na_genealogia_embrapa.drop(df_verificando_animais_com_id_df_sem_id_na_genealogia_embrapa.filter(regex='_dir').columns.difference(['id_produto_dir']), axis=1)\n",
    "df_com_id_df_na_genealogia_embrapa = df_com_id_df_na_genealogia_embrapa.rename(columns=lambda x: x.replace('_esq', '') if '_esq' in x else x)\n",
    "df_com_id_df_na_genealogia_embrapa = df_com_id_df_na_genealogia_embrapa.rename(columns=lambda x: x.replace('_dir', '') if '_dir' in x else x)\n",
    "df_com_id_df_na_genealogia_embrapa.drop(columns='_merge')\n",
    "df_com_id_df_na_genealogia_embrapa"
   ],
   "metadata": {
    "collapsed": false
   }
  },
  {
   "cell_type": "markdown",
   "source": [
    "# Localizando ID dos animais dos animais sem id por outros campos na tabela genealogia_embrapa"
   ],
   "metadata": {
    "collapsed": false
   }
  },
  {
   "cell_type": "code",
   "execution_count": 24,
   "outputs": [
    {
     "data": {
      "text/plain": "     reb_giro_esq                        nomea_esq  COMPRAC_esq RGVACA_esq  \\\n0            7461   NANA IMPERADOR BAXTER RF SAO F         5858    6353-AH   \n1           10639  LANAA FIV AFTERSHOCK BON.BELEM           12    9592-AG   \n2            6039   EDILAINE IMPERIO FIV 4303 JARD           12   AADA0352   \n3            1945             ARMA MERIDIAN DA MBL           12    1025-AN   \n4           73119   CELESTE 136 TEATRO FIV COOPERR           12    1239-BF   \n..            ...                              ...          ...        ...   \n713          1945   JPZ QUIRERA SHAMROCK ASTER FIV           12     4032-Z   \n714          2381   DALIA I FIV BRADLEY JM NOVO HO           12    4906-AZ   \n715           132        QUINTA I COLE AGM TRIUNFO           34    9243-AG   \n716          6915                  LIA DAS ARABIAS         5858    6125-BR   \n717          6029          GERMANA FEBO FR RECREIO         5858    9069-AS   \n\n                         nomep_esq  GSPAI_esq RGPAI_esq  \\\n0      IMPERADOR BAXTER VOLTA FRIA         58      1459   \n1    MS ATLEES SHT AFTERSHOCK - ET         10  AX129928   \n2           IMPERIO TE STA EDWIGES         11    RIG163   \n3           SULLY HART MERIDIAN-ET         10  AX138576   \n4               TEATRO DA SILVANIA         11    EFC383   \n..                             ...        ...       ...   \n713     LADYS-MANOR PL SHAMROCK-ET         10  AX135714   \n714               ROCKALLI BRADLEY         10  AX117720   \n715         CO-OP TOYSTORY COLE-ET         10  AX129567   \n716              TURBO DAS ARABIAS       5858      0079   \n717                FEBO FR RECREIO         58    6300-N   \n\n                         nomem_esq  GSMAE_esq     RGMAE_esq  ...  rebc2_cri  \\\n0    JURITI HERBY RF SAO FRANCISCO         58        6877-N  ...        NaN   \n1                 JOANE FIV KUBERA         11      ACFG1840  ...        NaN   \n2    SERTEC QATAR FABIANA PROGRESS         10  HBB/B-291392  ...        NaN   \n3                             FAMA         11        JNR167  ...      99999   \n4       LAGOS ASTRE QUIMICA 795 TE         10      BX335536  ...      99999   \n..                             ...        ...           ...  ...        ...   \n713                  JPZ ASTER FIV         11         JPZ64  ...        NaN   \n714           DALIA NOVO HORIZONTE         11        JMCH76  ...        NaN   \n715                   QUINTA FIV M         12        0473-O  ...        NaN   \n716             LILIKA DAS ARABIAS         58       4916-AW  ...        NaN   \n717            CAMPANHA FR RECREIO         58        6180-N  ...        NaN   \n\n     rebc2_pr   cat ficha_a  cod_prod  IDANIMAL        origem  registro_pai  \\\n0         NaN   NaN     NaN       NaN       NaN           NaN           NaN   \n1         NaN   NaN     NaN       NaN       NaN           NaN           NaN   \n2         NaN   NaN     NaN       NaN       NaN           NaN           NaN   \n3       99999  None       0       0.0   1608484    GIRO202202      AX138576   \n4       99999  None       0       0.0   1149462  GIRO20170301        EFC383   \n..        ...   ...     ...       ...       ...           ...           ...   \n713       NaN   NaN     NaN       NaN       NaN           NaN           NaN   \n714       NaN   NaN     NaN       NaN       NaN           NaN           NaN   \n715       NaN   NaN     NaN       NaN       NaN           NaN           NaN   \n716       NaN   NaN     NaN       NaN       NaN           NaN           NaN   \n717       NaN   NaN     NaN       NaN       NaN           NaN           NaN   \n\n     registro_mae     _merge  \n0             NaN  left_only  \n1             NaN  left_only  \n2             NaN  left_only  \n3          JNR167       both  \n4        BX335536       both  \n..            ...        ...  \n713           NaN  left_only  \n714           NaN  left_only  \n715           NaN  left_only  \n716           NaN  left_only  \n717           NaN  left_only  \n\n[718 rows x 76 columns]",
      "text/html": "<div>\n<style scoped>\n    .dataframe tbody tr th:only-of-type {\n        vertical-align: middle;\n    }\n\n    .dataframe tbody tr th {\n        vertical-align: top;\n    }\n\n    .dataframe thead th {\n        text-align: right;\n    }\n</style>\n<table border=\"1\" class=\"dataframe\">\n  <thead>\n    <tr style=\"text-align: right;\">\n      <th></th>\n      <th>reb_giro_esq</th>\n      <th>nomea_esq</th>\n      <th>COMPRAC_esq</th>\n      <th>RGVACA_esq</th>\n      <th>nomep_esq</th>\n      <th>GSPAI_esq</th>\n      <th>RGPAI_esq</th>\n      <th>nomem_esq</th>\n      <th>GSMAE_esq</th>\n      <th>RGMAE_esq</th>\n      <th>...</th>\n      <th>rebc2_cri</th>\n      <th>rebc2_pr</th>\n      <th>cat</th>\n      <th>ficha_a</th>\n      <th>cod_prod</th>\n      <th>IDANIMAL</th>\n      <th>origem</th>\n      <th>registro_pai</th>\n      <th>registro_mae</th>\n      <th>_merge</th>\n    </tr>\n  </thead>\n  <tbody>\n    <tr>\n      <th>0</th>\n      <td>7461</td>\n      <td>NANA IMPERADOR BAXTER RF SAO F</td>\n      <td>5858</td>\n      <td>6353-AH</td>\n      <td>IMPERADOR BAXTER VOLTA FRIA</td>\n      <td>58</td>\n      <td>1459</td>\n      <td>JURITI HERBY RF SAO FRANCISCO</td>\n      <td>58</td>\n      <td>6877-N</td>\n      <td>...</td>\n      <td>NaN</td>\n      <td>NaN</td>\n      <td>NaN</td>\n      <td>NaN</td>\n      <td>NaN</td>\n      <td>NaN</td>\n      <td>NaN</td>\n      <td>NaN</td>\n      <td>NaN</td>\n      <td>left_only</td>\n    </tr>\n    <tr>\n      <th>1</th>\n      <td>10639</td>\n      <td>LANAA FIV AFTERSHOCK BON.BELEM</td>\n      <td>12</td>\n      <td>9592-AG</td>\n      <td>MS ATLEES SHT AFTERSHOCK - ET</td>\n      <td>10</td>\n      <td>AX129928</td>\n      <td>JOANE FIV KUBERA</td>\n      <td>11</td>\n      <td>ACFG1840</td>\n      <td>...</td>\n      <td>NaN</td>\n      <td>NaN</td>\n      <td>NaN</td>\n      <td>NaN</td>\n      <td>NaN</td>\n      <td>NaN</td>\n      <td>NaN</td>\n      <td>NaN</td>\n      <td>NaN</td>\n      <td>left_only</td>\n    </tr>\n    <tr>\n      <th>2</th>\n      <td>6039</td>\n      <td>EDILAINE IMPERIO FIV 4303 JARD</td>\n      <td>12</td>\n      <td>AADA0352</td>\n      <td>IMPERIO TE STA EDWIGES</td>\n      <td>11</td>\n      <td>RIG163</td>\n      <td>SERTEC QATAR FABIANA PROGRESS</td>\n      <td>10</td>\n      <td>HBB/B-291392</td>\n      <td>...</td>\n      <td>NaN</td>\n      <td>NaN</td>\n      <td>NaN</td>\n      <td>NaN</td>\n      <td>NaN</td>\n      <td>NaN</td>\n      <td>NaN</td>\n      <td>NaN</td>\n      <td>NaN</td>\n      <td>left_only</td>\n    </tr>\n    <tr>\n      <th>3</th>\n      <td>1945</td>\n      <td>ARMA MERIDIAN DA MBL</td>\n      <td>12</td>\n      <td>1025-AN</td>\n      <td>SULLY HART MERIDIAN-ET</td>\n      <td>10</td>\n      <td>AX138576</td>\n      <td>FAMA</td>\n      <td>11</td>\n      <td>JNR167</td>\n      <td>...</td>\n      <td>99999</td>\n      <td>99999</td>\n      <td>None</td>\n      <td>0</td>\n      <td>0.0</td>\n      <td>1608484</td>\n      <td>GIRO202202</td>\n      <td>AX138576</td>\n      <td>JNR167</td>\n      <td>both</td>\n    </tr>\n    <tr>\n      <th>4</th>\n      <td>73119</td>\n      <td>CELESTE 136 TEATRO FIV COOPERR</td>\n      <td>12</td>\n      <td>1239-BF</td>\n      <td>TEATRO DA SILVANIA</td>\n      <td>11</td>\n      <td>EFC383</td>\n      <td>LAGOS ASTRE QUIMICA 795 TE</td>\n      <td>10</td>\n      <td>BX335536</td>\n      <td>...</td>\n      <td>99999</td>\n      <td>99999</td>\n      <td>None</td>\n      <td>0</td>\n      <td>0.0</td>\n      <td>1149462</td>\n      <td>GIRO20170301</td>\n      <td>EFC383</td>\n      <td>BX335536</td>\n      <td>both</td>\n    </tr>\n    <tr>\n      <th>...</th>\n      <td>...</td>\n      <td>...</td>\n      <td>...</td>\n      <td>...</td>\n      <td>...</td>\n      <td>...</td>\n      <td>...</td>\n      <td>...</td>\n      <td>...</td>\n      <td>...</td>\n      <td>...</td>\n      <td>...</td>\n      <td>...</td>\n      <td>...</td>\n      <td>...</td>\n      <td>...</td>\n      <td>...</td>\n      <td>...</td>\n      <td>...</td>\n      <td>...</td>\n      <td>...</td>\n    </tr>\n    <tr>\n      <th>713</th>\n      <td>1945</td>\n      <td>JPZ QUIRERA SHAMROCK ASTER FIV</td>\n      <td>12</td>\n      <td>4032-Z</td>\n      <td>LADYS-MANOR PL SHAMROCK-ET</td>\n      <td>10</td>\n      <td>AX135714</td>\n      <td>JPZ ASTER FIV</td>\n      <td>11</td>\n      <td>JPZ64</td>\n      <td>...</td>\n      <td>NaN</td>\n      <td>NaN</td>\n      <td>NaN</td>\n      <td>NaN</td>\n      <td>NaN</td>\n      <td>NaN</td>\n      <td>NaN</td>\n      <td>NaN</td>\n      <td>NaN</td>\n      <td>left_only</td>\n    </tr>\n    <tr>\n      <th>714</th>\n      <td>2381</td>\n      <td>DALIA I FIV BRADLEY JM NOVO HO</td>\n      <td>12</td>\n      <td>4906-AZ</td>\n      <td>ROCKALLI BRADLEY</td>\n      <td>10</td>\n      <td>AX117720</td>\n      <td>DALIA NOVO HORIZONTE</td>\n      <td>11</td>\n      <td>JMCH76</td>\n      <td>...</td>\n      <td>NaN</td>\n      <td>NaN</td>\n      <td>NaN</td>\n      <td>NaN</td>\n      <td>NaN</td>\n      <td>NaN</td>\n      <td>NaN</td>\n      <td>NaN</td>\n      <td>NaN</td>\n      <td>left_only</td>\n    </tr>\n    <tr>\n      <th>715</th>\n      <td>132</td>\n      <td>QUINTA I COLE AGM TRIUNFO</td>\n      <td>34</td>\n      <td>9243-AG</td>\n      <td>CO-OP TOYSTORY COLE-ET</td>\n      <td>10</td>\n      <td>AX129567</td>\n      <td>QUINTA FIV M</td>\n      <td>12</td>\n      <td>0473-O</td>\n      <td>...</td>\n      <td>NaN</td>\n      <td>NaN</td>\n      <td>NaN</td>\n      <td>NaN</td>\n      <td>NaN</td>\n      <td>NaN</td>\n      <td>NaN</td>\n      <td>NaN</td>\n      <td>NaN</td>\n      <td>left_only</td>\n    </tr>\n    <tr>\n      <th>716</th>\n      <td>6915</td>\n      <td>LIA DAS ARABIAS</td>\n      <td>5858</td>\n      <td>6125-BR</td>\n      <td>TURBO DAS ARABIAS</td>\n      <td>5858</td>\n      <td>0079</td>\n      <td>LILIKA DAS ARABIAS</td>\n      <td>58</td>\n      <td>4916-AW</td>\n      <td>...</td>\n      <td>NaN</td>\n      <td>NaN</td>\n      <td>NaN</td>\n      <td>NaN</td>\n      <td>NaN</td>\n      <td>NaN</td>\n      <td>NaN</td>\n      <td>NaN</td>\n      <td>NaN</td>\n      <td>left_only</td>\n    </tr>\n    <tr>\n      <th>717</th>\n      <td>6029</td>\n      <td>GERMANA FEBO FR RECREIO</td>\n      <td>5858</td>\n      <td>9069-AS</td>\n      <td>FEBO FR RECREIO</td>\n      <td>58</td>\n      <td>6300-N</td>\n      <td>CAMPANHA FR RECREIO</td>\n      <td>58</td>\n      <td>6180-N</td>\n      <td>...</td>\n      <td>NaN</td>\n      <td>NaN</td>\n      <td>NaN</td>\n      <td>NaN</td>\n      <td>NaN</td>\n      <td>NaN</td>\n      <td>NaN</td>\n      <td>NaN</td>\n      <td>NaN</td>\n      <td>left_only</td>\n    </tr>\n  </tbody>\n</table>\n<p>718 rows × 76 columns</p>\n</div>"
     },
     "execution_count": 24,
     "metadata": {},
     "output_type": "execute_result"
    }
   ],
   "source": [
    "testeZ = pd.merge(df_animais_sem_id, df_genealogia_embrapa, left_on=['gs_esq', 'RGPAI_esq', 'RGMAE_esq'], right_on=['gs', 'registro_pai', 'registro_mae'], how='left', indicator=True)\n",
    "testeZ"
   ],
   "metadata": {
    "collapsed": false
   }
  },
  {
   "cell_type": "markdown",
   "source": [
    "# Pegando a lista de todos os animais que não possuem id no banco de dados\n",
    "Obs: Não pode ter id_produto"
   ],
   "metadata": {
    "collapsed": false
   }
  },
  {
   "cell_type": "code",
   "execution_count": 22,
   "outputs": [
    {
     "data": {
      "text/plain": "     reb_giro                            nomea  COMPRAC    RGVACA  \\\n0        7461   NANA IMPERADOR BAXTER RF SAO F     5858   6353-AH   \n1       10639  LANAA FIV AFTERSHOCK BON.BELEM       12   9592-AG   \n2        6039   EDILAINE IMPERIO FIV 4303 JARD       12  AADA0352   \n3        1945             ARMA MERIDIAN DA MBL       12   1025-AN   \n4       73119   CELESTE 136 TEATRO FIV COOPERR       12   1239-BF   \n..        ...                              ...      ...       ...   \n617      1945   JPZ QUIRERA SHAMROCK ASTER FIV       12    4032-Z   \n618      2381   DALIA I FIV BRADLEY JM NOVO HO       12   4906-AZ   \n619       132        QUINTA I COLE AGM TRIUNFO       34   9243-AG   \n620      6915                  LIA DAS ARABIAS     5858   6125-BR   \n621      6029          GERMANA FEBO FR RECREIO     5858   9069-AS   \n\n                             nomep  GSPAI     RGPAI  \\\n0      IMPERADOR BAXTER VOLTA FRIA     58      1459   \n1    MS ATLEES SHT AFTERSHOCK - ET     10  AX129928   \n2           IMPERIO TE STA EDWIGES     11    RIG163   \n3           SULLY HART MERIDIAN-ET     10  AX138576   \n4               TEATRO DA SILVANIA     11    EFC383   \n..                             ...    ...       ...   \n617     LADYS-MANOR PL SHAMROCK-ET     10  AX135714   \n618               ROCKALLI BRADLEY     10  AX117720   \n619         CO-OP TOYSTORY COLE-ET     10  AX129567   \n620              TURBO DAS ARABIAS   5858      0079   \n621                FEBO FR RECREIO     58    6300-N   \n\n                             nomem  GSMAE         RGMAE  ...  anop_menos1c  \\\n0    JURITI HERBY RF SAO FRANCISCO     58        6877-N  ...          2019   \n1                 JOANE FIV KUBERA     11      ACFG1840  ...          2021   \n2    SERTEC QATAR FABIANA PROGRESS     10  HBB/B-291392  ...          2020   \n3                             FAMA     11        JNR167  ...          2020   \n4       LAGOS ASTRE QUIMICA 795 TE     10      BX335536  ...          2020   \n..                             ...    ...           ...  ...           ...   \n617                  JPZ ASTER FIV     11         JPZ64  ...          2021   \n618           DALIA NOVO HORIZONTE     11        JMCH76  ...          2020   \n619                   QUINTA FIV M     12        0473-O  ...          2018   \n620             LILIKA DAS ARABIAS     58       4916-AW  ...          2020   \n621            CAMPANHA FR RECREIO     58        6180-N  ...          2018   \n\n      rebc  rac nordc       rebanoe  ordem  gs  sexo  cod_prod  id_produto  \n0     7461    2     2   74612019122    NaN   5     F       NaN         NaN  \n1    10639    2     2  106392021122    NaN   4     F       NaN         NaN  \n2     6039    2     2   60392020122    NaN   4     F       NaN         NaN  \n3     1945    2     2   19452021222    NaN   4     F       NaN         NaN  \n4    73119    2     2  731192021222    NaN   4     F       NaN         NaN  \n..     ...  ...   ...           ...    ...  ..   ...       ...         ...  \n617   1945    2     2   19452022222    NaN   4     F       NaN         NaN  \n618   2381    2     2   23812021222    NaN   4     F       NaN         NaN  \n619    132    2     2    1322019222    NaN   6     F       NaN         NaN  \n620   6915    2     2   69152021222    NaN   5     F       NaN         NaN  \n621   6029    2     2   60292019122    NaN   5     F       NaN         NaN  \n\n[583 rows x 48 columns]",
      "text/html": "<div>\n<style scoped>\n    .dataframe tbody tr th:only-of-type {\n        vertical-align: middle;\n    }\n\n    .dataframe tbody tr th {\n        vertical-align: top;\n    }\n\n    .dataframe thead th {\n        text-align: right;\n    }\n</style>\n<table border=\"1\" class=\"dataframe\">\n  <thead>\n    <tr style=\"text-align: right;\">\n      <th></th>\n      <th>reb_giro</th>\n      <th>nomea</th>\n      <th>COMPRAC</th>\n      <th>RGVACA</th>\n      <th>nomep</th>\n      <th>GSPAI</th>\n      <th>RGPAI</th>\n      <th>nomem</th>\n      <th>GSMAE</th>\n      <th>RGMAE</th>\n      <th>...</th>\n      <th>anop_menos1c</th>\n      <th>rebc</th>\n      <th>rac</th>\n      <th>nordc</th>\n      <th>rebanoe</th>\n      <th>ordem</th>\n      <th>gs</th>\n      <th>sexo</th>\n      <th>cod_prod</th>\n      <th>id_produto</th>\n    </tr>\n  </thead>\n  <tbody>\n    <tr>\n      <th>0</th>\n      <td>7461</td>\n      <td>NANA IMPERADOR BAXTER RF SAO F</td>\n      <td>5858</td>\n      <td>6353-AH</td>\n      <td>IMPERADOR BAXTER VOLTA FRIA</td>\n      <td>58</td>\n      <td>1459</td>\n      <td>JURITI HERBY RF SAO FRANCISCO</td>\n      <td>58</td>\n      <td>6877-N</td>\n      <td>...</td>\n      <td>2019</td>\n      <td>7461</td>\n      <td>2</td>\n      <td>2</td>\n      <td>74612019122</td>\n      <td>NaN</td>\n      <td>5</td>\n      <td>F</td>\n      <td>NaN</td>\n      <td>NaN</td>\n    </tr>\n    <tr>\n      <th>1</th>\n      <td>10639</td>\n      <td>LANAA FIV AFTERSHOCK BON.BELEM</td>\n      <td>12</td>\n      <td>9592-AG</td>\n      <td>MS ATLEES SHT AFTERSHOCK - ET</td>\n      <td>10</td>\n      <td>AX129928</td>\n      <td>JOANE FIV KUBERA</td>\n      <td>11</td>\n      <td>ACFG1840</td>\n      <td>...</td>\n      <td>2021</td>\n      <td>10639</td>\n      <td>2</td>\n      <td>2</td>\n      <td>106392021122</td>\n      <td>NaN</td>\n      <td>4</td>\n      <td>F</td>\n      <td>NaN</td>\n      <td>NaN</td>\n    </tr>\n    <tr>\n      <th>2</th>\n      <td>6039</td>\n      <td>EDILAINE IMPERIO FIV 4303 JARD</td>\n      <td>12</td>\n      <td>AADA0352</td>\n      <td>IMPERIO TE STA EDWIGES</td>\n      <td>11</td>\n      <td>RIG163</td>\n      <td>SERTEC QATAR FABIANA PROGRESS</td>\n      <td>10</td>\n      <td>HBB/B-291392</td>\n      <td>...</td>\n      <td>2020</td>\n      <td>6039</td>\n      <td>2</td>\n      <td>2</td>\n      <td>60392020122</td>\n      <td>NaN</td>\n      <td>4</td>\n      <td>F</td>\n      <td>NaN</td>\n      <td>NaN</td>\n    </tr>\n    <tr>\n      <th>3</th>\n      <td>1945</td>\n      <td>ARMA MERIDIAN DA MBL</td>\n      <td>12</td>\n      <td>1025-AN</td>\n      <td>SULLY HART MERIDIAN-ET</td>\n      <td>10</td>\n      <td>AX138576</td>\n      <td>FAMA</td>\n      <td>11</td>\n      <td>JNR167</td>\n      <td>...</td>\n      <td>2020</td>\n      <td>1945</td>\n      <td>2</td>\n      <td>2</td>\n      <td>19452021222</td>\n      <td>NaN</td>\n      <td>4</td>\n      <td>F</td>\n      <td>NaN</td>\n      <td>NaN</td>\n    </tr>\n    <tr>\n      <th>4</th>\n      <td>73119</td>\n      <td>CELESTE 136 TEATRO FIV COOPERR</td>\n      <td>12</td>\n      <td>1239-BF</td>\n      <td>TEATRO DA SILVANIA</td>\n      <td>11</td>\n      <td>EFC383</td>\n      <td>LAGOS ASTRE QUIMICA 795 TE</td>\n      <td>10</td>\n      <td>BX335536</td>\n      <td>...</td>\n      <td>2020</td>\n      <td>73119</td>\n      <td>2</td>\n      <td>2</td>\n      <td>731192021222</td>\n      <td>NaN</td>\n      <td>4</td>\n      <td>F</td>\n      <td>NaN</td>\n      <td>NaN</td>\n    </tr>\n    <tr>\n      <th>...</th>\n      <td>...</td>\n      <td>...</td>\n      <td>...</td>\n      <td>...</td>\n      <td>...</td>\n      <td>...</td>\n      <td>...</td>\n      <td>...</td>\n      <td>...</td>\n      <td>...</td>\n      <td>...</td>\n      <td>...</td>\n      <td>...</td>\n      <td>...</td>\n      <td>...</td>\n      <td>...</td>\n      <td>...</td>\n      <td>...</td>\n      <td>...</td>\n      <td>...</td>\n      <td>...</td>\n    </tr>\n    <tr>\n      <th>617</th>\n      <td>1945</td>\n      <td>JPZ QUIRERA SHAMROCK ASTER FIV</td>\n      <td>12</td>\n      <td>4032-Z</td>\n      <td>LADYS-MANOR PL SHAMROCK-ET</td>\n      <td>10</td>\n      <td>AX135714</td>\n      <td>JPZ ASTER FIV</td>\n      <td>11</td>\n      <td>JPZ64</td>\n      <td>...</td>\n      <td>2021</td>\n      <td>1945</td>\n      <td>2</td>\n      <td>2</td>\n      <td>19452022222</td>\n      <td>NaN</td>\n      <td>4</td>\n      <td>F</td>\n      <td>NaN</td>\n      <td>NaN</td>\n    </tr>\n    <tr>\n      <th>618</th>\n      <td>2381</td>\n      <td>DALIA I FIV BRADLEY JM NOVO HO</td>\n      <td>12</td>\n      <td>4906-AZ</td>\n      <td>ROCKALLI BRADLEY</td>\n      <td>10</td>\n      <td>AX117720</td>\n      <td>DALIA NOVO HORIZONTE</td>\n      <td>11</td>\n      <td>JMCH76</td>\n      <td>...</td>\n      <td>2020</td>\n      <td>2381</td>\n      <td>2</td>\n      <td>2</td>\n      <td>23812021222</td>\n      <td>NaN</td>\n      <td>4</td>\n      <td>F</td>\n      <td>NaN</td>\n      <td>NaN</td>\n    </tr>\n    <tr>\n      <th>619</th>\n      <td>132</td>\n      <td>QUINTA I COLE AGM TRIUNFO</td>\n      <td>34</td>\n      <td>9243-AG</td>\n      <td>CO-OP TOYSTORY COLE-ET</td>\n      <td>10</td>\n      <td>AX129567</td>\n      <td>QUINTA FIV M</td>\n      <td>12</td>\n      <td>0473-O</td>\n      <td>...</td>\n      <td>2018</td>\n      <td>132</td>\n      <td>2</td>\n      <td>2</td>\n      <td>1322019222</td>\n      <td>NaN</td>\n      <td>6</td>\n      <td>F</td>\n      <td>NaN</td>\n      <td>NaN</td>\n    </tr>\n    <tr>\n      <th>620</th>\n      <td>6915</td>\n      <td>LIA DAS ARABIAS</td>\n      <td>5858</td>\n      <td>6125-BR</td>\n      <td>TURBO DAS ARABIAS</td>\n      <td>5858</td>\n      <td>0079</td>\n      <td>LILIKA DAS ARABIAS</td>\n      <td>58</td>\n      <td>4916-AW</td>\n      <td>...</td>\n      <td>2020</td>\n      <td>6915</td>\n      <td>2</td>\n      <td>2</td>\n      <td>69152021222</td>\n      <td>NaN</td>\n      <td>5</td>\n      <td>F</td>\n      <td>NaN</td>\n      <td>NaN</td>\n    </tr>\n    <tr>\n      <th>621</th>\n      <td>6029</td>\n      <td>GERMANA FEBO FR RECREIO</td>\n      <td>5858</td>\n      <td>9069-AS</td>\n      <td>FEBO FR RECREIO</td>\n      <td>58</td>\n      <td>6300-N</td>\n      <td>CAMPANHA FR RECREIO</td>\n      <td>58</td>\n      <td>6180-N</td>\n      <td>...</td>\n      <td>2018</td>\n      <td>6029</td>\n      <td>2</td>\n      <td>2</td>\n      <td>60292019122</td>\n      <td>NaN</td>\n      <td>5</td>\n      <td>F</td>\n      <td>NaN</td>\n      <td>NaN</td>\n    </tr>\n  </tbody>\n</table>\n<p>583 rows × 48 columns</p>\n</div>"
     },
     "execution_count": 22,
     "metadata": {},
     "output_type": "execute_result"
    }
   ],
   "source": [
    "df_sem_id_na_genealogia_embrapa = df_verificando_animais_com_id_df_sem_id_na_genealogia_embrapa[df_verificando_animais_com_id_df_sem_id_na_genealogia_embrapa['_merge'] == 'left_only']\n",
    "df_sem_id_na_genealogia_embrapa = df_sem_id_na_genealogia_embrapa.drop(df_sem_id_na_genealogia_embrapa.filter(regex='_dir').columns.difference(['id_produto_dir']), axis=1)\n",
    "# renomeia as colunas que possuem o sufixo '_esq'\n",
    "df_sem_id_na_genealogia_embrapa = df_sem_id_na_genealogia_embrapa.rename(columns=lambda x: x.replace('_esq', '') if '_esq' in x else x)\n",
    "df_sem_id_na_genealogia_embrapa = df_sem_id_na_genealogia_embrapa.rename(columns=lambda x: x.replace('_dir', '') if '_dir' in x else x)\n",
    "df_sem_id_na_genealogia_embrapa = df_sem_id_na_genealogia_embrapa.drop(columns='_merge')\n",
    "df_sem_id_na_genealogia_embrapa"
   ],
   "metadata": {
    "collapsed": false
   }
  },
  {
   "cell_type": "markdown",
   "source": [
    "# Numero de animais que possuem e que não possuem IDANIMAL no genealogia_embrapa\n",
    "both = possui\n",
    "left_only = não possui"
   ],
   "metadata": {
    "collapsed": false
   }
  },
  {
   "cell_type": "code",
   "execution_count": null,
   "outputs": [],
   "source": [
    "df_localizando_animais_sem_id_genealogia = pd.merge(df_sem_id_na_genealogia_embrapa, df_genealogia_embrapa, on=['gs', 'RGVACA', 'sexo'],suffixes=('', '_drop'), how='left', indicator=True)\n",
    "df_localizando_animais_sem_id_genealogia.value_counts(subset='_merge')"
   ],
   "metadata": {
    "collapsed": false
   }
  },
  {
   "cell_type": "markdown",
   "source": [
    "# Identificando os animais que possuem IDANIMAL no dataframe da genealogia_embrapa"
   ],
   "metadata": {
    "collapsed": false
   }
  },
  {
   "cell_type": "code",
   "execution_count": null,
   "outputs": [],
   "source": [
    "df_com_idanimal_genealogia = df_localizando_animais_sem_id_genealogia[df_localizando_animais_sem_id_genealogia['_merge'] == 'both']"
   ],
   "metadata": {
    "collapsed": false
   }
  },
  {
   "cell_type": "markdown",
   "source": [
    "# Identificando os animais que não possuem IDANIMAL no dataframe do genealogia_embrapa\n",
    "Usando os campos gs, sexo, rgvaca, rgpai e anoNascimento"
   ],
   "metadata": {
    "collapsed": false
   }
  },
  {
   "cell_type": "code",
   "execution_count": null,
   "outputs": [],
   "source": [
    "df_sem_idanimal_genealogia = df_localizando_animais_sem_id_genealogia[df_localizando_animais_sem_id_genealogia['_merge'] == 'left_only']\n",
    "df_sem_idanimal_genealogia"
   ],
   "metadata": {
    "collapsed": false
   }
  },
  {
   "cell_type": "code",
   "execution_count": null,
   "outputs": [],
   "source": [
    "df_genealogia_embrapa"
   ],
   "metadata": {
    "collapsed": false
   }
  },
  {
   "cell_type": "code",
   "execution_count": null,
   "outputs": [],
   "source": [
    "#1376776\n",
    "df_verificando_animais_com_id_na_genealogia_embrapa[df_verificando_animais_com_id_na_genealogia_embrapa['RGVACA'] == 'MBL18']"
   ],
   "metadata": {
    "collapsed": false
   }
  },
  {
   "cell_type": "markdown",
   "source": [
    "Ano nascimento tabela genealogia\n",
    "acrescentar os 14 na lista dos que ja possuem id produto (teste)\n"
   ],
   "metadata": {
    "collapsed": false
   }
  }
 ],
 "metadata": {
  "kernelspec": {
   "display_name": "Python 3",
   "language": "python",
   "name": "python3"
  },
  "language_info": {
   "codemirror_mode": {
    "name": "ipython",
    "version": 2
   },
   "file_extension": ".py",
   "mimetype": "text/x-python",
   "name": "python",
   "nbconvert_exporter": "python",
   "pygments_lexer": "ipython2",
   "version": "2.7.6"
  }
 },
 "nbformat": 4,
 "nbformat_minor": 0
}
