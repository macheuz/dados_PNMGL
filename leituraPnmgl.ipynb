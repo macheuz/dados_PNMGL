{
 "cells": [
  {
   "cell_type": "markdown",
   "source": [
    "Funcoes utilizadas\n",
    "Criar uma lista de comprimentos de strings em cada célula da coluna especificada\n",
    "comprimentos = [len(str(celula)) for celula in df.iloc[: ,4]]\n",
    "Encontrar o índice da célula com o maior número de caracteres\n",
    "indice_maior = comprimentos.index(max(comprimentos))\n",
    "Extrair a célula com o maior número de caracteres\n",
    "celula_maior = df.iloc[indice_maior][4] df.iloc[: , 4][indice_maior] df.iloc[: , 4].value_counts() celula_maior df.iloc[:,0]\n",
    "index = df.columns.get_loc(‘abcz’)\n",
    "index df"
   ],
   "metadata": {
    "collapsed": false
   }
  },
  {
   "cell_type": "markdown",
   "source": [
    "IDANIMAL = CHAVE UNICA\n",
    "MP = CHAVE UNICA -  Mes parto\n",
    "AP = CHAVE UNICA - -Ano parto\n",
    "\n",
    "LTOT = lactacao total\n",
    "L365 = lactacao em ate 365 dias\n",
    "L305 = lactacao em ate 305 dias\n",
    "DE = Data de Secagem\n",
    "ME = Mes de secagem\n",
    "AE = ANO de Secagem\n",
    "caso o LTOT, L365 e L305, DE, ME e AE sejam iguais ao arquivo old, pode ser descartado"
   ],
   "metadata": {
    "collapsed": false
   }
  },
  {
   "cell_type": "code",
   "execution_count": 1,
   "outputs": [],
   "source": [
    "import pandas as pd"
   ],
   "metadata": {
    "collapsed": false
   }
  },
  {
   "cell_type": "code",
   "execution_count": 2,
   "outputs": [],
   "source": [
    "pedigree = pd.read_csv(\"pedrigree - Girolando - 17-02-2023.txt\", encoding='ISO-8859-1')\n",
    "dados_2023 = pd.read_csv(\"PNMGL - Dados girolando - 17-02-23.txt\", encoding='ISO-8859-1')\n",
    "dados_2022 = pd.read_csv(\"PNMGL - Dados_old - 17-02-2023.txt\", encoding='ISO-8859-1')"
   ],
   "metadata": {
    "collapsed": false
   }
  },
  {
   "cell_type": "code",
   "execution_count": 3,
   "outputs": [],
   "source": [
    "#pedigree"
   ],
   "metadata": {
    "collapsed": false
   }
  },
  {
   "cell_type": "code",
   "execution_count": 4,
   "outputs": [],
   "source": [
    "#dados_2023\n",
    "\n",
    "#LTOT ="
   ],
   "metadata": {
    "collapsed": false
   }
  },
  {
   "cell_type": "code",
   "execution_count": 5,
   "outputs": [],
   "source": [
    "#dados_2022"
   ],
   "metadata": {
    "collapsed": false
   }
  },
  {
   "cell_type": "code",
   "execution_count": 6,
   "outputs": [],
   "source": [
    "#dados_2023"
   ],
   "metadata": {
    "collapsed": false
   }
  },
  {
   "cell_type": "markdown",
   "source": [
    "## Criando um dataframe que é a junção dos dois dataframes, pelas celulas que possuem os mesmos valores nas colunas IDANIMAL, AP, MP, L305, LTOT, L365, ME e AE."
   ],
   "metadata": {
    "collapsed": false
   }
  },
  {
   "cell_type": "code",
   "execution_count": 7,
   "outputs": [],
   "source": [
    "df_dados_repetidos_entre_2022_2023 = pd.merge(dados_2023, dados_2022, on=['IDANIMAL', 'AP', 'MP','L305', 'LTOT', 'L365', 'ME', 'AE', 'CAUSA'],suffixes=('', '_drop'))\n",
    "df_dados_repetidos_entre_2022_2023 = df_dados_repetidos_entre_2022_2023.drop(df_dados_repetidos_entre_2022_2023.filter(regex='_drop$').columns, axis=1)\n",
    "df_dados_repetidos_entre_2022_2023 = df_dados_repetidos_entre_2022_2023.drop_duplicates()"
   ],
   "metadata": {
    "collapsed": false
   }
  },
  {
   "cell_type": "markdown",
   "source": [
    "\n",
    "\n",
    "\n",
    "## Pegando somente os dados que estão no dataframe dados_2023"
   ],
   "metadata": {
    "collapsed": false
   }
  },
  {
   "cell_type": "code",
   "execution_count": 8,
   "outputs": [
    {
     "name": "stderr",
     "output_type": "stream",
     "text": [
      "/var/folders/qy/dy55ydmj485_n1ncrjtk1hgr0000gp/T/ipykernel_496/1727689658.py:8: SettingWithCopyWarning: \n",
      "A value is trying to be set on a copy of a slice from a DataFrame\n",
      "\n",
      "See the caveats in the documentation: https://pandas.pydata.org/pandas-docs/stable/user_guide/indexing.html#returning-a-view-versus-a-copy\n",
      "  df_dados_novos_2023.drop('_merge', axis=1, inplace=True)\n"
     ]
    }
   ],
   "source": [
    "# faz o merge entre os dois dataframes, o dados com os dados repetidos\n",
    "df_merge = pd.merge(dados_2023, df_dados_repetidos_entre_2022_2023, how='left', indicator=True, suffixes=('', '_drop'))\n",
    "\n",
    "# filtra somente as linhas que estão no dataframe da esquerda\n",
    "df_dados_novos_2023 = df_merge[df_merge['_merge'] == 'left_only']\n",
    "\n",
    "# remove a coluna \"_merge\"\n",
    "df_dados_novos_2023.drop('_merge', axis=1, inplace=True)\n",
    "\n",
    "df_dados_novos_2023 = df_dados_novos_2023.drop(df_merge.filter(regex='_drop$').columns, axis=1)\n",
    "df_dados_novos_2023 = df_dados_novos_2023.drop_duplicates()\n",
    "df_dados_novos_2023"
   ],
   "metadata": {
    "collapsed": false
   }
  },
  {
   "cell_type": "markdown",
   "source": [
    "## Calculando a diferenca entre as datas"
   ],
   "metadata": {
    "collapsed": false
   }
  },
  {
   "cell_type": "code",
   "execution_count": 10,
   "outputs": [
    {
     "data": {
      "text/plain": "         parto parto_drop  diferenca_em_dias\n0   2021-11-23 2020-01-09                684\n1   2020-10-09 2019-01-31                617\n2   2021-03-15 2020-01-24                416\n3   2021-03-15 2018-02-01               1138\n4   2021-06-28 2020-07-22                341\n..         ...        ...                ...\n682 2021-03-23 2017-11-17               1222\n683 2021-03-23 2020-03-10                378\n684 2021-01-25 2019-05-03                633\n685 2021-04-22 2020-05-13                344\n686 2021-08-01 2020-01-05                574\n\n[687 rows x 3 columns]",
      "text/html": "<div>\n<style scoped>\n    .dataframe tbody tr th:only-of-type {\n        vertical-align: middle;\n    }\n\n    .dataframe tbody tr th {\n        vertical-align: top;\n    }\n\n    .dataframe thead th {\n        text-align: right;\n    }\n</style>\n<table border=\"1\" class=\"dataframe\">\n  <thead>\n    <tr style=\"text-align: right;\">\n      <th></th>\n      <th>parto</th>\n      <th>parto_drop</th>\n      <th>diferenca_em_dias</th>\n    </tr>\n  </thead>\n  <tbody>\n    <tr>\n      <th>0</th>\n      <td>2021-11-23</td>\n      <td>2020-01-09</td>\n      <td>684</td>\n    </tr>\n    <tr>\n      <th>1</th>\n      <td>2020-10-09</td>\n      <td>2019-01-31</td>\n      <td>617</td>\n    </tr>\n    <tr>\n      <th>2</th>\n      <td>2021-03-15</td>\n      <td>2020-01-24</td>\n      <td>416</td>\n    </tr>\n    <tr>\n      <th>3</th>\n      <td>2021-03-15</td>\n      <td>2018-02-01</td>\n      <td>1138</td>\n    </tr>\n    <tr>\n      <th>4</th>\n      <td>2021-06-28</td>\n      <td>2020-07-22</td>\n      <td>341</td>\n    </tr>\n    <tr>\n      <th>...</th>\n      <td>...</td>\n      <td>...</td>\n      <td>...</td>\n    </tr>\n    <tr>\n      <th>682</th>\n      <td>2021-03-23</td>\n      <td>2017-11-17</td>\n      <td>1222</td>\n    </tr>\n    <tr>\n      <th>683</th>\n      <td>2021-03-23</td>\n      <td>2020-03-10</td>\n      <td>378</td>\n    </tr>\n    <tr>\n      <th>684</th>\n      <td>2021-01-25</td>\n      <td>2019-05-03</td>\n      <td>633</td>\n    </tr>\n    <tr>\n      <th>685</th>\n      <td>2021-04-22</td>\n      <td>2020-05-13</td>\n      <td>344</td>\n    </tr>\n    <tr>\n      <th>686</th>\n      <td>2021-08-01</td>\n      <td>2020-01-05</td>\n      <td>574</td>\n    </tr>\n  </tbody>\n</table>\n<p>687 rows × 3 columns</p>\n</div>"
     },
     "execution_count": 10,
     "metadata": {},
     "output_type": "execute_result"
    }
   ],
   "source": [
    "\n",
    "mesclado = pd.merge(df_dados_novos_2023, dados_2022, on=['IDANIMAL'], suffixes=('', '_drop'))\n",
    "mesclado = mesclado.drop_duplicates()\n",
    "#mesclado = mesclado.drop(mesclado.filter(regex='_drop$').columns, axis=1)\n",
    "mesclado[['parto', 'parto_drop']] = mesclado[['parto', 'parto_drop']].astype(str)\n",
    "mesclado[['parto', 'parto_drop']] = mesclado[['parto', 'parto_drop']].apply(pd.to_datetime)\n",
    "mesclado['diferenca_em_dias'] = (mesclado['parto'] - mesclado['parto_drop']).dt.days\n",
    "mesclado[['parto', 'parto_drop', 'diferenca_em_dias']]"
   ],
   "metadata": {
    "collapsed": false
   }
  },
  {
   "cell_type": "markdown",
   "source": [
    "## Animais que ja possuiam IDANIMAL existentes"
   ],
   "metadata": {
    "collapsed": false
   }
  },
  {
   "cell_type": "code",
   "execution_count": 11,
   "outputs": [
    {
     "data": {
      "text/plain": "     reb_giro                            nomea  COMPRAC   RGVACA  \\\n0        6029               DEMASIA FR RECREIO       14   0869-T   \n1        7450                JACA JAYZ SJ LALU       34  6411-AH   \n2        3304   CAITA OCIDENTE MJP DA CAPELA P       12   8634-X   \n4        5569   LONDRINA GENGIS KHAN RECANTO D       12  0021-AW   \n5        5569          BABALU METEORO DO MORRO       38  0148-AK   \n..        ...                              ...      ...      ...   \n680      1129                   MORADIA ANGICO        7   9556-F   \n681      2381  CLASSICA OCIDENTE JM NOVO HORI       14  5193-AE   \n684      5569           GABI FIV VALE OURO EVD       14  4417-AT   \n685      6029                DUNCAN FR RECREIO       14   0928-T   \n686     83436                    LINDA SJ LALU       34  2734-BK   \n\n                       nomep  GSPAI     RGPAI                           nomem  \\\n0       JAGUAR TE DO GAVIAO     11    GAV291            ERMELINDA MERGULHAO    \n1           HORNLAND JAYZ-ET     10  AX118150         GAYA FIV SANSAO SJ LALU   \n2    OCIDENTE BEM FEITOR CAL     11   CAL4605          MARINA DA CAPELA PAIVA   \n4    GENGIS KHAN DE BRASILIA     11   RRP6097   MEARA JUDITH GOLDWYN BELLA-TE   \n5        METEORO DE BRASILIA     11     B5226                SEGUNDA DO MORRO   \n..                       ...    ...       ...                             ...   \n680    VALE OURO DE BRASILIA     11     A6796                   CABANA ANGICO   \n681  OCIDENTE BEM FEITOR CAL     11   CAL4605  CINDERELA MODELO JM NOVO HORIZ   \n684    VALE OURO TE SILVANIA     11    EFC464    LAMBADA DRAMATIC SANTA LUZIA   \n685     JAGUAR TE DO GAVIAO     11    GAV291            NILOPOLIS FR RECREIO   \n686                        0      0         0                               0   \n\n     GSMAE     RGMAE  ...        nasc       parto     secagem anopc  \\\n0       12   AD-1407  ...  2013-04-18  2021-11-23  2022-07-30  2021   \n1       12    1898-P  ...  2014-07-12  2020-10-09  2022-02-18  2020   \n2       10    A-3096  ...  2012-07-20  2021-03-15  2022-01-13  2021   \n4       10  BX410396  ...  2017-09-25  2021-06-28  2022-02-10  2021   \n5       34    7468-T  ...  2015-06-12  2021-09-13  2022-02-10  2021   \n..     ...       ...  ...         ...         ...         ...   ...   \n680     78      1606  ...  2010-02-19  2021-05-23  2022-10-01  2021   \n681     12   AF-2652  ...  2014-06-09  2021-03-23  2022-01-24  2021   \n684     12   AG-0944  ...  2016-04-23  2021-01-25  2021-09-13  2021   \n685     12   AB-0524  ...  2013-04-18  2021-04-22  2022-03-04  2021   \n686      0         0  ...  2017-02-04  2021-08-01  2022-04-22  2021   \n\n     anop_menos1c   rebc  rac  nordc       rebanoe  ordem  \n0            2020   6029    2      2   60292021122    NaN  \n1            2019   7450    3      2   74502020132    NaN  \n2            2020   3304    2      2   33042020122    NaN  \n4            2020   5569    2      2   55692021222    NaN  \n5            2020   5569    2      2   55692021222    NaN  \n..            ...    ...  ...    ...           ...    ...  \n680          2020   1129    2      2   11292021222    NaN  \n681          2020   2381    2      2   23812020122    NaN  \n684          2020   5569    2      2   55692020122    NaN  \n685          2020   6029    2      2   60292021222    NaN  \n686          2020  83436    3      2  834362021232    NaN  \n\n[417 rows x 44 columns]",
      "text/html": "<div>\n<style scoped>\n    .dataframe tbody tr th:only-of-type {\n        vertical-align: middle;\n    }\n\n    .dataframe tbody tr th {\n        vertical-align: top;\n    }\n\n    .dataframe thead th {\n        text-align: right;\n    }\n</style>\n<table border=\"1\" class=\"dataframe\">\n  <thead>\n    <tr style=\"text-align: right;\">\n      <th></th>\n      <th>reb_giro</th>\n      <th>nomea</th>\n      <th>COMPRAC</th>\n      <th>RGVACA</th>\n      <th>nomep</th>\n      <th>GSPAI</th>\n      <th>RGPAI</th>\n      <th>nomem</th>\n      <th>GSMAE</th>\n      <th>RGMAE</th>\n      <th>...</th>\n      <th>nasc</th>\n      <th>parto</th>\n      <th>secagem</th>\n      <th>anopc</th>\n      <th>anop_menos1c</th>\n      <th>rebc</th>\n      <th>rac</th>\n      <th>nordc</th>\n      <th>rebanoe</th>\n      <th>ordem</th>\n    </tr>\n  </thead>\n  <tbody>\n    <tr>\n      <th>0</th>\n      <td>6029</td>\n      <td>DEMASIA FR RECREIO</td>\n      <td>14</td>\n      <td>0869-T</td>\n      <td>JAGUAR TE DO GAVIAO</td>\n      <td>11</td>\n      <td>GAV291</td>\n      <td>ERMELINDA MERGULHAO</td>\n      <td>12</td>\n      <td>AD-1407</td>\n      <td>...</td>\n      <td>2013-04-18</td>\n      <td>2021-11-23</td>\n      <td>2022-07-30</td>\n      <td>2021</td>\n      <td>2020</td>\n      <td>6029</td>\n      <td>2</td>\n      <td>2</td>\n      <td>60292021122</td>\n      <td>NaN</td>\n    </tr>\n    <tr>\n      <th>1</th>\n      <td>7450</td>\n      <td>JACA JAYZ SJ LALU</td>\n      <td>34</td>\n      <td>6411-AH</td>\n      <td>HORNLAND JAYZ-ET</td>\n      <td>10</td>\n      <td>AX118150</td>\n      <td>GAYA FIV SANSAO SJ LALU</td>\n      <td>12</td>\n      <td>1898-P</td>\n      <td>...</td>\n      <td>2014-07-12</td>\n      <td>2020-10-09</td>\n      <td>2022-02-18</td>\n      <td>2020</td>\n      <td>2019</td>\n      <td>7450</td>\n      <td>3</td>\n      <td>2</td>\n      <td>74502020132</td>\n      <td>NaN</td>\n    </tr>\n    <tr>\n      <th>2</th>\n      <td>3304</td>\n      <td>CAITA OCIDENTE MJP DA CAPELA P</td>\n      <td>12</td>\n      <td>8634-X</td>\n      <td>OCIDENTE BEM FEITOR CAL</td>\n      <td>11</td>\n      <td>CAL4605</td>\n      <td>MARINA DA CAPELA PAIVA</td>\n      <td>10</td>\n      <td>A-3096</td>\n      <td>...</td>\n      <td>2012-07-20</td>\n      <td>2021-03-15</td>\n      <td>2022-01-13</td>\n      <td>2021</td>\n      <td>2020</td>\n      <td>3304</td>\n      <td>2</td>\n      <td>2</td>\n      <td>33042020122</td>\n      <td>NaN</td>\n    </tr>\n    <tr>\n      <th>4</th>\n      <td>5569</td>\n      <td>LONDRINA GENGIS KHAN RECANTO D</td>\n      <td>12</td>\n      <td>0021-AW</td>\n      <td>GENGIS KHAN DE BRASILIA</td>\n      <td>11</td>\n      <td>RRP6097</td>\n      <td>MEARA JUDITH GOLDWYN BELLA-TE</td>\n      <td>10</td>\n      <td>BX410396</td>\n      <td>...</td>\n      <td>2017-09-25</td>\n      <td>2021-06-28</td>\n      <td>2022-02-10</td>\n      <td>2021</td>\n      <td>2020</td>\n      <td>5569</td>\n      <td>2</td>\n      <td>2</td>\n      <td>55692021222</td>\n      <td>NaN</td>\n    </tr>\n    <tr>\n      <th>5</th>\n      <td>5569</td>\n      <td>BABALU METEORO DO MORRO</td>\n      <td>38</td>\n      <td>0148-AK</td>\n      <td>METEORO DE BRASILIA</td>\n      <td>11</td>\n      <td>B5226</td>\n      <td>SEGUNDA DO MORRO</td>\n      <td>34</td>\n      <td>7468-T</td>\n      <td>...</td>\n      <td>2015-06-12</td>\n      <td>2021-09-13</td>\n      <td>2022-02-10</td>\n      <td>2021</td>\n      <td>2020</td>\n      <td>5569</td>\n      <td>2</td>\n      <td>2</td>\n      <td>55692021222</td>\n      <td>NaN</td>\n    </tr>\n    <tr>\n      <th>...</th>\n      <td>...</td>\n      <td>...</td>\n      <td>...</td>\n      <td>...</td>\n      <td>...</td>\n      <td>...</td>\n      <td>...</td>\n      <td>...</td>\n      <td>...</td>\n      <td>...</td>\n      <td>...</td>\n      <td>...</td>\n      <td>...</td>\n      <td>...</td>\n      <td>...</td>\n      <td>...</td>\n      <td>...</td>\n      <td>...</td>\n      <td>...</td>\n      <td>...</td>\n      <td>...</td>\n    </tr>\n    <tr>\n      <th>680</th>\n      <td>1129</td>\n      <td>MORADIA ANGICO</td>\n      <td>7</td>\n      <td>9556-F</td>\n      <td>VALE OURO DE BRASILIA</td>\n      <td>11</td>\n      <td>A6796</td>\n      <td>CABANA ANGICO</td>\n      <td>78</td>\n      <td>1606</td>\n      <td>...</td>\n      <td>2010-02-19</td>\n      <td>2021-05-23</td>\n      <td>2022-10-01</td>\n      <td>2021</td>\n      <td>2020</td>\n      <td>1129</td>\n      <td>2</td>\n      <td>2</td>\n      <td>11292021222</td>\n      <td>NaN</td>\n    </tr>\n    <tr>\n      <th>681</th>\n      <td>2381</td>\n      <td>CLASSICA OCIDENTE JM NOVO HORI</td>\n      <td>14</td>\n      <td>5193-AE</td>\n      <td>OCIDENTE BEM FEITOR CAL</td>\n      <td>11</td>\n      <td>CAL4605</td>\n      <td>CINDERELA MODELO JM NOVO HORIZ</td>\n      <td>12</td>\n      <td>AF-2652</td>\n      <td>...</td>\n      <td>2014-06-09</td>\n      <td>2021-03-23</td>\n      <td>2022-01-24</td>\n      <td>2021</td>\n      <td>2020</td>\n      <td>2381</td>\n      <td>2</td>\n      <td>2</td>\n      <td>23812020122</td>\n      <td>NaN</td>\n    </tr>\n    <tr>\n      <th>684</th>\n      <td>5569</td>\n      <td>GABI FIV VALE OURO EVD</td>\n      <td>14</td>\n      <td>4417-AT</td>\n      <td>VALE OURO TE SILVANIA</td>\n      <td>11</td>\n      <td>EFC464</td>\n      <td>LAMBADA DRAMATIC SANTA LUZIA</td>\n      <td>12</td>\n      <td>AG-0944</td>\n      <td>...</td>\n      <td>2016-04-23</td>\n      <td>2021-01-25</td>\n      <td>2021-09-13</td>\n      <td>2021</td>\n      <td>2020</td>\n      <td>5569</td>\n      <td>2</td>\n      <td>2</td>\n      <td>55692020122</td>\n      <td>NaN</td>\n    </tr>\n    <tr>\n      <th>685</th>\n      <td>6029</td>\n      <td>DUNCAN FR RECREIO</td>\n      <td>14</td>\n      <td>0928-T</td>\n      <td>JAGUAR TE DO GAVIAO</td>\n      <td>11</td>\n      <td>GAV291</td>\n      <td>NILOPOLIS FR RECREIO</td>\n      <td>12</td>\n      <td>AB-0524</td>\n      <td>...</td>\n      <td>2013-04-18</td>\n      <td>2021-04-22</td>\n      <td>2022-03-04</td>\n      <td>2021</td>\n      <td>2020</td>\n      <td>6029</td>\n      <td>2</td>\n      <td>2</td>\n      <td>60292021222</td>\n      <td>NaN</td>\n    </tr>\n    <tr>\n      <th>686</th>\n      <td>83436</td>\n      <td>LINDA SJ LALU</td>\n      <td>34</td>\n      <td>2734-BK</td>\n      <td>0</td>\n      <td>0</td>\n      <td>0</td>\n      <td>0</td>\n      <td>0</td>\n      <td>0</td>\n      <td>...</td>\n      <td>2017-02-04</td>\n      <td>2021-08-01</td>\n      <td>2022-04-22</td>\n      <td>2021</td>\n      <td>2020</td>\n      <td>83436</td>\n      <td>3</td>\n      <td>2</td>\n      <td>834362021232</td>\n      <td>NaN</td>\n    </tr>\n  </tbody>\n</table>\n<p>417 rows × 44 columns</p>\n</div>"
     },
     "execution_count": 11,
     "metadata": {},
     "output_type": "execute_result"
    }
   ],
   "source": [
    "df_animais_com_ID = pd.merge(df_dados_novos_2023, dados_2022, on =['IDANIMAL'], suffixes=('', '_drop'))\n",
    "df_animais_com_ID = df_animais_com_ID.drop(df_animais_com_ID.filter(regex='_drop$').columns, axis=1)\n",
    "df_animais_com_ID = df_animais_com_ID.drop_duplicates()\n",
    "df_animais_com_ID"
   ],
   "metadata": {
    "collapsed": false
   }
  },
  {
   "cell_type": "markdown",
   "source": [
    "## Animais que nao possuiam IDANIMAL na dados_2022, somente na dados_2023"
   ],
   "metadata": {
    "collapsed": false
   }
  },
  {
   "cell_type": "code",
   "execution_count": 12,
   "outputs": [
    {
     "data": {
      "text/plain": "      reb_giro_x                          nomea_x  COMPRAC_x  RGVACA_x  \\\n0           7461   NANA IMPERADOR BAXTER RF SAO F       5858   6353-AH   \n1          10639  LANAA FIV AFTERSHOCK BON.BELEM         12   9592-AG   \n2           6039   EDILAINE IMPERIO FIV 4303 JARD         12  AADA0352   \n3           1945             ARMA MERIDIAN DA MBL         12   1025-AN   \n4          73119   CELESTE 136 TEATRO FIV COOPERR         12   1239-BF   \n...          ...                              ...        ...       ...   \n1298        1945   JPZ QUIRERA SHAMROCK ASTER FIV         12    4032-Z   \n1299        2381   DALIA I FIV BRADLEY JM NOVO HO         12   4906-AZ   \n1305         132        QUINTA I COLE AGM TRIUNFO         34   9243-AG   \n1306        6915                  LIA DAS ARABIAS       5858   6125-BR   \n1307        6029          GERMANA FEBO FR RECREIO       5858   9069-AS   \n\n                            nomep_x  GSPAI_x   RGPAI_x  \\\n0       IMPERADOR BAXTER VOLTA FRIA       58      1459   \n1     MS ATLEES SHT AFTERSHOCK - ET       10  AX129928   \n2            IMPERIO TE STA EDWIGES       11    RIG163   \n3            SULLY HART MERIDIAN-ET       10  AX138576   \n4                TEATRO DA SILVANIA       11    EFC383   \n...                             ...      ...       ...   \n1298     LADYS-MANOR PL SHAMROCK-ET       10  AX135714   \n1299               ROCKALLI BRADLEY       10  AX117720   \n1305         CO-OP TOYSTORY COLE-ET       10  AX129567   \n1306              TURBO DAS ARABIAS     5858      0079   \n1307                FEBO FR RECREIO       58    6300-N   \n\n                            nomem_x  GSMAE_x       RGMAE_x  ...  \\\n0     JURITI HERBY RF SAO FRANCISCO       58        6877-N  ...   \n1                  JOANE FIV KUBERA       11      ACFG1840  ...   \n2     SERTEC QATAR FABIANA PROGRESS       10  HBB/B-291392  ...   \n3                              FAMA       11        JNR167  ...   \n4        LAGOS ASTRE QUIMICA 795 TE       10      BX335536  ...   \n...                             ...      ...           ...  ...   \n1298                  JPZ ASTER FIV       11         JPZ64  ...   \n1299           DALIA NOVO HORIZONTE       11        JMCH76  ...   \n1305                   QUINTA FIV M       12        0473-O  ...   \n1306             LILIKA DAS ARABIAS       58       4916-AW  ...   \n1307            CAMPANHA FR RECREIO       58        6180-N  ...   \n\n      QTD_ORDENHAS_y  nasc_y  parto_y secagem_y  anopc_y  anop_menos1c_y  \\\n0                NaN     NaN      NaN       NaN      NaN             NaN   \n1                NaN     NaN      NaN       NaN      NaN             NaN   \n2                NaN     NaN      NaN       NaN      NaN             NaN   \n3                NaN     NaN      NaN       NaN      NaN             NaN   \n4                NaN     NaN      NaN       NaN      NaN             NaN   \n...              ...     ...      ...       ...      ...             ...   \n1298             NaN     NaN      NaN       NaN      NaN             NaN   \n1299             NaN     NaN      NaN       NaN      NaN             NaN   \n1305             NaN     NaN      NaN       NaN      NaN             NaN   \n1306             NaN     NaN      NaN       NaN      NaN             NaN   \n1307             NaN     NaN      NaN       NaN      NaN             NaN   \n\n      rebc_y  rac_y  nordc_y  rebanoe_y  \n0        NaN    NaN      NaN        NaN  \n1        NaN    NaN      NaN        NaN  \n2        NaN    NaN      NaN        NaN  \n3        NaN    NaN      NaN        NaN  \n4        NaN    NaN      NaN        NaN  \n...      ...    ...      ...        ...  \n1298     NaN    NaN      NaN        NaN  \n1299     NaN    NaN      NaN        NaN  \n1305     NaN    NaN      NaN        NaN  \n1306     NaN    NaN      NaN        NaN  \n1307     NaN    NaN      NaN        NaN  \n\n[622 rows x 87 columns]",
      "text/html": "<div>\n<style scoped>\n    .dataframe tbody tr th:only-of-type {\n        vertical-align: middle;\n    }\n\n    .dataframe tbody tr th {\n        vertical-align: top;\n    }\n\n    .dataframe thead th {\n        text-align: right;\n    }\n</style>\n<table border=\"1\" class=\"dataframe\">\n  <thead>\n    <tr style=\"text-align: right;\">\n      <th></th>\n      <th>reb_giro_x</th>\n      <th>nomea_x</th>\n      <th>COMPRAC_x</th>\n      <th>RGVACA_x</th>\n      <th>nomep_x</th>\n      <th>GSPAI_x</th>\n      <th>RGPAI_x</th>\n      <th>nomem_x</th>\n      <th>GSMAE_x</th>\n      <th>RGMAE_x</th>\n      <th>...</th>\n      <th>QTD_ORDENHAS_y</th>\n      <th>nasc_y</th>\n      <th>parto_y</th>\n      <th>secagem_y</th>\n      <th>anopc_y</th>\n      <th>anop_menos1c_y</th>\n      <th>rebc_y</th>\n      <th>rac_y</th>\n      <th>nordc_y</th>\n      <th>rebanoe_y</th>\n    </tr>\n  </thead>\n  <tbody>\n    <tr>\n      <th>0</th>\n      <td>7461</td>\n      <td>NANA IMPERADOR BAXTER RF SAO F</td>\n      <td>5858</td>\n      <td>6353-AH</td>\n      <td>IMPERADOR BAXTER VOLTA FRIA</td>\n      <td>58</td>\n      <td>1459</td>\n      <td>JURITI HERBY RF SAO FRANCISCO</td>\n      <td>58</td>\n      <td>6877-N</td>\n      <td>...</td>\n      <td>NaN</td>\n      <td>NaN</td>\n      <td>NaN</td>\n      <td>NaN</td>\n      <td>NaN</td>\n      <td>NaN</td>\n      <td>NaN</td>\n      <td>NaN</td>\n      <td>NaN</td>\n      <td>NaN</td>\n    </tr>\n    <tr>\n      <th>1</th>\n      <td>10639</td>\n      <td>LANAA FIV AFTERSHOCK BON.BELEM</td>\n      <td>12</td>\n      <td>9592-AG</td>\n      <td>MS ATLEES SHT AFTERSHOCK - ET</td>\n      <td>10</td>\n      <td>AX129928</td>\n      <td>JOANE FIV KUBERA</td>\n      <td>11</td>\n      <td>ACFG1840</td>\n      <td>...</td>\n      <td>NaN</td>\n      <td>NaN</td>\n      <td>NaN</td>\n      <td>NaN</td>\n      <td>NaN</td>\n      <td>NaN</td>\n      <td>NaN</td>\n      <td>NaN</td>\n      <td>NaN</td>\n      <td>NaN</td>\n    </tr>\n    <tr>\n      <th>2</th>\n      <td>6039</td>\n      <td>EDILAINE IMPERIO FIV 4303 JARD</td>\n      <td>12</td>\n      <td>AADA0352</td>\n      <td>IMPERIO TE STA EDWIGES</td>\n      <td>11</td>\n      <td>RIG163</td>\n      <td>SERTEC QATAR FABIANA PROGRESS</td>\n      <td>10</td>\n      <td>HBB/B-291392</td>\n      <td>...</td>\n      <td>NaN</td>\n      <td>NaN</td>\n      <td>NaN</td>\n      <td>NaN</td>\n      <td>NaN</td>\n      <td>NaN</td>\n      <td>NaN</td>\n      <td>NaN</td>\n      <td>NaN</td>\n      <td>NaN</td>\n    </tr>\n    <tr>\n      <th>3</th>\n      <td>1945</td>\n      <td>ARMA MERIDIAN DA MBL</td>\n      <td>12</td>\n      <td>1025-AN</td>\n      <td>SULLY HART MERIDIAN-ET</td>\n      <td>10</td>\n      <td>AX138576</td>\n      <td>FAMA</td>\n      <td>11</td>\n      <td>JNR167</td>\n      <td>...</td>\n      <td>NaN</td>\n      <td>NaN</td>\n      <td>NaN</td>\n      <td>NaN</td>\n      <td>NaN</td>\n      <td>NaN</td>\n      <td>NaN</td>\n      <td>NaN</td>\n      <td>NaN</td>\n      <td>NaN</td>\n    </tr>\n    <tr>\n      <th>4</th>\n      <td>73119</td>\n      <td>CELESTE 136 TEATRO FIV COOPERR</td>\n      <td>12</td>\n      <td>1239-BF</td>\n      <td>TEATRO DA SILVANIA</td>\n      <td>11</td>\n      <td>EFC383</td>\n      <td>LAGOS ASTRE QUIMICA 795 TE</td>\n      <td>10</td>\n      <td>BX335536</td>\n      <td>...</td>\n      <td>NaN</td>\n      <td>NaN</td>\n      <td>NaN</td>\n      <td>NaN</td>\n      <td>NaN</td>\n      <td>NaN</td>\n      <td>NaN</td>\n      <td>NaN</td>\n      <td>NaN</td>\n      <td>NaN</td>\n    </tr>\n    <tr>\n      <th>...</th>\n      <td>...</td>\n      <td>...</td>\n      <td>...</td>\n      <td>...</td>\n      <td>...</td>\n      <td>...</td>\n      <td>...</td>\n      <td>...</td>\n      <td>...</td>\n      <td>...</td>\n      <td>...</td>\n      <td>...</td>\n      <td>...</td>\n      <td>...</td>\n      <td>...</td>\n      <td>...</td>\n      <td>...</td>\n      <td>...</td>\n      <td>...</td>\n      <td>...</td>\n      <td>...</td>\n    </tr>\n    <tr>\n      <th>1298</th>\n      <td>1945</td>\n      <td>JPZ QUIRERA SHAMROCK ASTER FIV</td>\n      <td>12</td>\n      <td>4032-Z</td>\n      <td>LADYS-MANOR PL SHAMROCK-ET</td>\n      <td>10</td>\n      <td>AX135714</td>\n      <td>JPZ ASTER FIV</td>\n      <td>11</td>\n      <td>JPZ64</td>\n      <td>...</td>\n      <td>NaN</td>\n      <td>NaN</td>\n      <td>NaN</td>\n      <td>NaN</td>\n      <td>NaN</td>\n      <td>NaN</td>\n      <td>NaN</td>\n      <td>NaN</td>\n      <td>NaN</td>\n      <td>NaN</td>\n    </tr>\n    <tr>\n      <th>1299</th>\n      <td>2381</td>\n      <td>DALIA I FIV BRADLEY JM NOVO HO</td>\n      <td>12</td>\n      <td>4906-AZ</td>\n      <td>ROCKALLI BRADLEY</td>\n      <td>10</td>\n      <td>AX117720</td>\n      <td>DALIA NOVO HORIZONTE</td>\n      <td>11</td>\n      <td>JMCH76</td>\n      <td>...</td>\n      <td>NaN</td>\n      <td>NaN</td>\n      <td>NaN</td>\n      <td>NaN</td>\n      <td>NaN</td>\n      <td>NaN</td>\n      <td>NaN</td>\n      <td>NaN</td>\n      <td>NaN</td>\n      <td>NaN</td>\n    </tr>\n    <tr>\n      <th>1305</th>\n      <td>132</td>\n      <td>QUINTA I COLE AGM TRIUNFO</td>\n      <td>34</td>\n      <td>9243-AG</td>\n      <td>CO-OP TOYSTORY COLE-ET</td>\n      <td>10</td>\n      <td>AX129567</td>\n      <td>QUINTA FIV M</td>\n      <td>12</td>\n      <td>0473-O</td>\n      <td>...</td>\n      <td>NaN</td>\n      <td>NaN</td>\n      <td>NaN</td>\n      <td>NaN</td>\n      <td>NaN</td>\n      <td>NaN</td>\n      <td>NaN</td>\n      <td>NaN</td>\n      <td>NaN</td>\n      <td>NaN</td>\n    </tr>\n    <tr>\n      <th>1306</th>\n      <td>6915</td>\n      <td>LIA DAS ARABIAS</td>\n      <td>5858</td>\n      <td>6125-BR</td>\n      <td>TURBO DAS ARABIAS</td>\n      <td>5858</td>\n      <td>0079</td>\n      <td>LILIKA DAS ARABIAS</td>\n      <td>58</td>\n      <td>4916-AW</td>\n      <td>...</td>\n      <td>NaN</td>\n      <td>NaN</td>\n      <td>NaN</td>\n      <td>NaN</td>\n      <td>NaN</td>\n      <td>NaN</td>\n      <td>NaN</td>\n      <td>NaN</td>\n      <td>NaN</td>\n      <td>NaN</td>\n    </tr>\n    <tr>\n      <th>1307</th>\n      <td>6029</td>\n      <td>GERMANA FEBO FR RECREIO</td>\n      <td>5858</td>\n      <td>9069-AS</td>\n      <td>FEBO FR RECREIO</td>\n      <td>58</td>\n      <td>6300-N</td>\n      <td>CAMPANHA FR RECREIO</td>\n      <td>58</td>\n      <td>6180-N</td>\n      <td>...</td>\n      <td>NaN</td>\n      <td>NaN</td>\n      <td>NaN</td>\n      <td>NaN</td>\n      <td>NaN</td>\n      <td>NaN</td>\n      <td>NaN</td>\n      <td>NaN</td>\n      <td>NaN</td>\n      <td>NaN</td>\n    </tr>\n  </tbody>\n</table>\n<p>622 rows × 87 columns</p>\n</div>"
     },
     "execution_count": 12,
     "metadata": {},
     "output_type": "execute_result"
    }
   ],
   "source": [
    "merged_df = pd.merge(df_dados_novos_2023, dados_2022, on='IDANIMAL', how='left', indicator=True)\n",
    "df_animais_sem_id = merged_df[merged_df['_merge'] == 'left_only'].drop(columns='_merge')\n",
    "df_animais_sem_id"
   ],
   "metadata": {
    "collapsed": false
   }
  },
  {
   "cell_type": "code",
   "execution_count": 13,
   "outputs": [],
   "source": [
    "#dados_2022[dados_2022['IDANIMAL'] == 1631099]"
   ],
   "metadata": {
    "collapsed": false
   }
  },
  {
   "cell_type": "markdown",
   "source": [
    "## conectando no banco de dados"
   ],
   "metadata": {
    "collapsed": false
   }
  },
  {
   "cell_type": "code",
   "execution_count": 14,
   "outputs": [],
   "source": [
    "import mysql.connector\n",
    "\n",
    "mydb = mysql.connector.connect(\n",
    "  host=\"127.0.0.1\",\n",
    "  user=\"root\",\n",
    "  password=\"4d5f0l9k\",\n",
    "  database=\"bioinformatica_new\"\n",
    ")\n",
    "\n"
   ],
   "metadata": {
    "collapsed": false
   }
  },
  {
   "cell_type": "markdown",
   "source": [
    "## Retornando a consulta do banco para um dataframe"
   ],
   "metadata": {
    "collapsed": false
   }
  },
  {
   "cell_type": "code",
   "execution_count": 15,
   "outputs": [
    {
     "name": "stderr",
     "output_type": "stream",
     "text": [
      "/var/folders/qy/dy55ydmj485_n1ncrjtk1hgr0000gp/T/ipykernel_496/2476982863.py:3: UserWarning: pandas only supports SQLAlchemy connectable (engine/connection) or database string URI or sqlite3 DBAPI2 connection. Other DBAPI2 objects are not tested. Please consider using SQLAlchemy.\n",
      "  df_genealogia_embrapa = pd.read_sql(sql, mydb)\n"
     ]
    }
   ],
   "source": [
    "\n",
    "sql = \"SELECT * FROM genealogia_embrapa\"\n",
    "\n",
    "df_genealogia_embrapa = pd.read_sql(sql, mydb)\n",
    "df_genealogia_embrapa=df_genealogia_embrapa.rename(columns={'idanimal': 'IDANIMAL'})\n"
   ],
   "metadata": {
    "collapsed": false
   }
  },
  {
   "cell_type": "markdown",
   "source": [
    "# Juntando o dataframe da genealogia embrapa com o dataframe df_animais_com_ID"
   ],
   "metadata": {
    "collapsed": false
   }
  },
  {
   "cell_type": "code",
   "execution_count": 16,
   "outputs": [],
   "source": [
    "df_genealogia_embrapa['IDANIMAL'] = df_genealogia_embrapa['IDANIMAL'].astype('int')\n",
    "df_verificando_animais_com_id_na_genealogia_embrapa = pd.merge(df_animais_com_ID, df_genealogia_embrapa[['IDANIMAL', 'id_produto']], on='IDANIMAL', how='left', indicator=True)\n"
   ],
   "metadata": {
    "collapsed": false
   }
  },
  {
   "cell_type": "markdown",
   "source": [
    "# Retira os itens duplicados, isso ocorre pois pode haver alteracao em algum dos campos do df_genealogia_embrapa"
   ],
   "metadata": {
    "collapsed": false
   }
  },
  {
   "cell_type": "code",
   "execution_count": 23,
   "outputs": [
    {
     "ename": "KeyError",
     "evalue": "\"['_merge'] not found in axis\"",
     "output_type": "error",
     "traceback": [
      "\u001B[0;31m---------------------------------------------------------------------------\u001B[0m",
      "\u001B[0;31mKeyError\u001B[0m                                  Traceback (most recent call last)",
      "Cell \u001B[0;32mIn[23], line 2\u001B[0m\n\u001B[1;32m      1\u001B[0m df_verificando_animais_com_id_na_genealogia_embrapa \u001B[38;5;241m=\u001B[39m df_verificando_animais_com_id_na_genealogia_embrapa\u001B[38;5;241m.\u001B[39mdrop_duplicates()\n\u001B[0;32m----> 2\u001B[0m df_verificando_animais_com_id_na_genealogia_embrapa \u001B[38;5;241m=\u001B[39m \u001B[43mdf_verificando_animais_com_id_na_genealogia_embrapa\u001B[49m\u001B[38;5;241;43m.\u001B[39;49m\u001B[43mdrop\u001B[49m\u001B[43m(\u001B[49m\u001B[43mcolumns\u001B[49m\u001B[38;5;241;43m=\u001B[39;49m\u001B[38;5;124;43m'\u001B[39;49m\u001B[38;5;124;43m_merge\u001B[39;49m\u001B[38;5;124;43m'\u001B[39;49m\u001B[43m)\u001B[49m\n\u001B[1;32m      3\u001B[0m df_verificando_animais_com_id_na_genealogia_embrapa\n",
      "File \u001B[0;32m/Library/Frameworks/Python.framework/Versions/3.10/lib/python3.10/site-packages/pandas/util/_decorators.py:317\u001B[0m, in \u001B[0;36mdeprecate_nonkeyword_arguments.<locals>.decorate.<locals>.wrapper\u001B[0;34m(*args, **kwargs)\u001B[0m\n\u001B[1;32m    311\u001B[0m \u001B[38;5;28;01mif\u001B[39;00m \u001B[38;5;28mlen\u001B[39m(args) \u001B[38;5;241m>\u001B[39m num_allow_args:\n\u001B[1;32m    312\u001B[0m     warnings\u001B[38;5;241m.\u001B[39mwarn(\n\u001B[1;32m    313\u001B[0m         msg\u001B[38;5;241m.\u001B[39mformat(arguments\u001B[38;5;241m=\u001B[39marguments),\n\u001B[1;32m    314\u001B[0m         \u001B[38;5;167;01mFutureWarning\u001B[39;00m,\n\u001B[1;32m    315\u001B[0m         stacklevel\u001B[38;5;241m=\u001B[39mfind_stack_level(inspect\u001B[38;5;241m.\u001B[39mcurrentframe()),\n\u001B[1;32m    316\u001B[0m     )\n\u001B[0;32m--> 317\u001B[0m \u001B[38;5;28;01mreturn\u001B[39;00m \u001B[43mfunc\u001B[49m\u001B[43m(\u001B[49m\u001B[38;5;241;43m*\u001B[39;49m\u001B[43margs\u001B[49m\u001B[43m,\u001B[49m\u001B[43m \u001B[49m\u001B[38;5;241;43m*\u001B[39;49m\u001B[38;5;241;43m*\u001B[39;49m\u001B[43mkwargs\u001B[49m\u001B[43m)\u001B[49m\n",
      "File \u001B[0;32m/Library/Frameworks/Python.framework/Versions/3.10/lib/python3.10/site-packages/pandas/core/frame.py:5391\u001B[0m, in \u001B[0;36mDataFrame.drop\u001B[0;34m(self, labels, axis, index, columns, level, inplace, errors)\u001B[0m\n\u001B[1;32m   5243\u001B[0m \u001B[38;5;129m@deprecate_nonkeyword_arguments\u001B[39m(version\u001B[38;5;241m=\u001B[39m\u001B[38;5;28;01mNone\u001B[39;00m, allowed_args\u001B[38;5;241m=\u001B[39m[\u001B[38;5;124m\"\u001B[39m\u001B[38;5;124mself\u001B[39m\u001B[38;5;124m\"\u001B[39m, \u001B[38;5;124m\"\u001B[39m\u001B[38;5;124mlabels\u001B[39m\u001B[38;5;124m\"\u001B[39m])\n\u001B[1;32m   5244\u001B[0m \u001B[38;5;28;01mdef\u001B[39;00m \u001B[38;5;21mdrop\u001B[39m(  \u001B[38;5;66;03m# type: ignore[override]\u001B[39;00m\n\u001B[1;32m   5245\u001B[0m     \u001B[38;5;28mself\u001B[39m,\n\u001B[0;32m   (...)\u001B[0m\n\u001B[1;32m   5252\u001B[0m     errors: IgnoreRaise \u001B[38;5;241m=\u001B[39m \u001B[38;5;124m\"\u001B[39m\u001B[38;5;124mraise\u001B[39m\u001B[38;5;124m\"\u001B[39m,\n\u001B[1;32m   5253\u001B[0m ) \u001B[38;5;241m-\u001B[39m\u001B[38;5;241m>\u001B[39m DataFrame \u001B[38;5;241m|\u001B[39m \u001B[38;5;28;01mNone\u001B[39;00m:\n\u001B[1;32m   5254\u001B[0m \u001B[38;5;250m    \u001B[39m\u001B[38;5;124;03m\"\"\"\u001B[39;00m\n\u001B[1;32m   5255\u001B[0m \u001B[38;5;124;03m    Drop specified labels from rows or columns.\u001B[39;00m\n\u001B[1;32m   5256\u001B[0m \n\u001B[0;32m   (...)\u001B[0m\n\u001B[1;32m   5389\u001B[0m \u001B[38;5;124;03m            weight  1.0     0.8\u001B[39;00m\n\u001B[1;32m   5390\u001B[0m \u001B[38;5;124;03m    \"\"\"\u001B[39;00m\n\u001B[0;32m-> 5391\u001B[0m     \u001B[38;5;28;01mreturn\u001B[39;00m \u001B[38;5;28;43msuper\u001B[39;49m\u001B[43m(\u001B[49m\u001B[43m)\u001B[49m\u001B[38;5;241;43m.\u001B[39;49m\u001B[43mdrop\u001B[49m\u001B[43m(\u001B[49m\n\u001B[1;32m   5392\u001B[0m \u001B[43m        \u001B[49m\u001B[43mlabels\u001B[49m\u001B[38;5;241;43m=\u001B[39;49m\u001B[43mlabels\u001B[49m\u001B[43m,\u001B[49m\n\u001B[1;32m   5393\u001B[0m \u001B[43m        \u001B[49m\u001B[43maxis\u001B[49m\u001B[38;5;241;43m=\u001B[39;49m\u001B[43maxis\u001B[49m\u001B[43m,\u001B[49m\n\u001B[1;32m   5394\u001B[0m \u001B[43m        \u001B[49m\u001B[43mindex\u001B[49m\u001B[38;5;241;43m=\u001B[39;49m\u001B[43mindex\u001B[49m\u001B[43m,\u001B[49m\n\u001B[1;32m   5395\u001B[0m \u001B[43m        \u001B[49m\u001B[43mcolumns\u001B[49m\u001B[38;5;241;43m=\u001B[39;49m\u001B[43mcolumns\u001B[49m\u001B[43m,\u001B[49m\n\u001B[1;32m   5396\u001B[0m \u001B[43m        \u001B[49m\u001B[43mlevel\u001B[49m\u001B[38;5;241;43m=\u001B[39;49m\u001B[43mlevel\u001B[49m\u001B[43m,\u001B[49m\n\u001B[1;32m   5397\u001B[0m \u001B[43m        \u001B[49m\u001B[43minplace\u001B[49m\u001B[38;5;241;43m=\u001B[39;49m\u001B[43minplace\u001B[49m\u001B[43m,\u001B[49m\n\u001B[1;32m   5398\u001B[0m \u001B[43m        \u001B[49m\u001B[43merrors\u001B[49m\u001B[38;5;241;43m=\u001B[39;49m\u001B[43merrors\u001B[49m\u001B[43m,\u001B[49m\n\u001B[1;32m   5399\u001B[0m \u001B[43m    \u001B[49m\u001B[43m)\u001B[49m\n",
      "File \u001B[0;32m/Library/Frameworks/Python.framework/Versions/3.10/lib/python3.10/site-packages/pandas/util/_decorators.py:317\u001B[0m, in \u001B[0;36mdeprecate_nonkeyword_arguments.<locals>.decorate.<locals>.wrapper\u001B[0;34m(*args, **kwargs)\u001B[0m\n\u001B[1;32m    311\u001B[0m \u001B[38;5;28;01mif\u001B[39;00m \u001B[38;5;28mlen\u001B[39m(args) \u001B[38;5;241m>\u001B[39m num_allow_args:\n\u001B[1;32m    312\u001B[0m     warnings\u001B[38;5;241m.\u001B[39mwarn(\n\u001B[1;32m    313\u001B[0m         msg\u001B[38;5;241m.\u001B[39mformat(arguments\u001B[38;5;241m=\u001B[39marguments),\n\u001B[1;32m    314\u001B[0m         \u001B[38;5;167;01mFutureWarning\u001B[39;00m,\n\u001B[1;32m    315\u001B[0m         stacklevel\u001B[38;5;241m=\u001B[39mfind_stack_level(inspect\u001B[38;5;241m.\u001B[39mcurrentframe()),\n\u001B[1;32m    316\u001B[0m     )\n\u001B[0;32m--> 317\u001B[0m \u001B[38;5;28;01mreturn\u001B[39;00m \u001B[43mfunc\u001B[49m\u001B[43m(\u001B[49m\u001B[38;5;241;43m*\u001B[39;49m\u001B[43margs\u001B[49m\u001B[43m,\u001B[49m\u001B[43m \u001B[49m\u001B[38;5;241;43m*\u001B[39;49m\u001B[38;5;241;43m*\u001B[39;49m\u001B[43mkwargs\u001B[49m\u001B[43m)\u001B[49m\n",
      "File \u001B[0;32m/Library/Frameworks/Python.framework/Versions/3.10/lib/python3.10/site-packages/pandas/core/generic.py:4510\u001B[0m, in \u001B[0;36mNDFrame.drop\u001B[0;34m(self, labels, axis, index, columns, level, inplace, errors)\u001B[0m\n\u001B[1;32m   4508\u001B[0m \u001B[38;5;28;01mfor\u001B[39;00m axis, labels \u001B[38;5;129;01min\u001B[39;00m axes\u001B[38;5;241m.\u001B[39mitems():\n\u001B[1;32m   4509\u001B[0m     \u001B[38;5;28;01mif\u001B[39;00m labels \u001B[38;5;129;01mis\u001B[39;00m \u001B[38;5;129;01mnot\u001B[39;00m \u001B[38;5;28;01mNone\u001B[39;00m:\n\u001B[0;32m-> 4510\u001B[0m         obj \u001B[38;5;241m=\u001B[39m \u001B[43mobj\u001B[49m\u001B[38;5;241;43m.\u001B[39;49m\u001B[43m_drop_axis\u001B[49m\u001B[43m(\u001B[49m\u001B[43mlabels\u001B[49m\u001B[43m,\u001B[49m\u001B[43m \u001B[49m\u001B[43maxis\u001B[49m\u001B[43m,\u001B[49m\u001B[43m \u001B[49m\u001B[43mlevel\u001B[49m\u001B[38;5;241;43m=\u001B[39;49m\u001B[43mlevel\u001B[49m\u001B[43m,\u001B[49m\u001B[43m \u001B[49m\u001B[43merrors\u001B[49m\u001B[38;5;241;43m=\u001B[39;49m\u001B[43merrors\u001B[49m\u001B[43m)\u001B[49m\n\u001B[1;32m   4512\u001B[0m \u001B[38;5;28;01mif\u001B[39;00m inplace:\n\u001B[1;32m   4513\u001B[0m     \u001B[38;5;28mself\u001B[39m\u001B[38;5;241m.\u001B[39m_update_inplace(obj)\n",
      "File \u001B[0;32m/Library/Frameworks/Python.framework/Versions/3.10/lib/python3.10/site-packages/pandas/core/generic.py:4551\u001B[0m, in \u001B[0;36mNDFrame._drop_axis\u001B[0;34m(self, labels, axis, level, errors, only_slice)\u001B[0m\n\u001B[1;32m   4549\u001B[0m         new_axis \u001B[38;5;241m=\u001B[39m axis\u001B[38;5;241m.\u001B[39mdrop(labels, level\u001B[38;5;241m=\u001B[39mlevel, errors\u001B[38;5;241m=\u001B[39merrors)\n\u001B[1;32m   4550\u001B[0m     \u001B[38;5;28;01melse\u001B[39;00m:\n\u001B[0;32m-> 4551\u001B[0m         new_axis \u001B[38;5;241m=\u001B[39m \u001B[43maxis\u001B[49m\u001B[38;5;241;43m.\u001B[39;49m\u001B[43mdrop\u001B[49m\u001B[43m(\u001B[49m\u001B[43mlabels\u001B[49m\u001B[43m,\u001B[49m\u001B[43m \u001B[49m\u001B[43merrors\u001B[49m\u001B[38;5;241;43m=\u001B[39;49m\u001B[43merrors\u001B[49m\u001B[43m)\u001B[49m\n\u001B[1;32m   4552\u001B[0m     indexer \u001B[38;5;241m=\u001B[39m axis\u001B[38;5;241m.\u001B[39mget_indexer(new_axis)\n\u001B[1;32m   4554\u001B[0m \u001B[38;5;66;03m# Case for non-unique axis\u001B[39;00m\n\u001B[1;32m   4555\u001B[0m \u001B[38;5;28;01melse\u001B[39;00m:\n",
      "File \u001B[0;32m/Library/Frameworks/Python.framework/Versions/3.10/lib/python3.10/site-packages/pandas/core/indexes/base.py:6972\u001B[0m, in \u001B[0;36mIndex.drop\u001B[0;34m(self, labels, errors)\u001B[0m\n\u001B[1;32m   6970\u001B[0m \u001B[38;5;28;01mif\u001B[39;00m mask\u001B[38;5;241m.\u001B[39many():\n\u001B[1;32m   6971\u001B[0m     \u001B[38;5;28;01mif\u001B[39;00m errors \u001B[38;5;241m!=\u001B[39m \u001B[38;5;124m\"\u001B[39m\u001B[38;5;124mignore\u001B[39m\u001B[38;5;124m\"\u001B[39m:\n\u001B[0;32m-> 6972\u001B[0m         \u001B[38;5;28;01mraise\u001B[39;00m \u001B[38;5;167;01mKeyError\u001B[39;00m(\u001B[38;5;124mf\u001B[39m\u001B[38;5;124m\"\u001B[39m\u001B[38;5;132;01m{\u001B[39;00m\u001B[38;5;28mlist\u001B[39m(labels[mask])\u001B[38;5;132;01m}\u001B[39;00m\u001B[38;5;124m not found in axis\u001B[39m\u001B[38;5;124m\"\u001B[39m)\n\u001B[1;32m   6973\u001B[0m     indexer \u001B[38;5;241m=\u001B[39m indexer[\u001B[38;5;241m~\u001B[39mmask]\n\u001B[1;32m   6974\u001B[0m \u001B[38;5;28;01mreturn\u001B[39;00m \u001B[38;5;28mself\u001B[39m\u001B[38;5;241m.\u001B[39mdelete(indexer)\n",
      "\u001B[0;31mKeyError\u001B[0m: \"['_merge'] not found in axis\""
     ]
    }
   ],
   "source": [
    "df_verificando_animais_com_id_na_genealogia_embrapa = df_verificando_animais_com_id_na_genealogia_embrapa.drop_duplicates()\n",
    "df_verificando_animais_com_id_na_genealogia_embrapa = df_verificando_animais_com_id_na_genealogia_embrapa.drop(columns='_merge')\n",
    "df_verificando_animais_com_id_na_genealogia_embrapa"
   ],
   "metadata": {
    "collapsed": false
   }
  },
  {
   "cell_type": "markdown",
   "source": [
    "## Lista de animais sem ID no banco de dados"
   ],
   "metadata": {
    "collapsed": false
   }
  },
  {
   "cell_type": "code",
   "execution_count": 18,
   "outputs": [
    {
     "name": "stderr",
     "output_type": "stream",
     "text": [
      "/var/folders/qy/dy55ydmj485_n1ncrjtk1hgr0000gp/T/ipykernel_496/4294006464.py:3: UserWarning: Boolean Series key will be reindexed to match DataFrame index.\n",
      "  animais_sem_id_2022 = tt[merged_df['_merge'] == 'left_only'].drop(columns='_merge')\n"
     ]
    },
    {
     "data": {
      "text/plain": "     reb_giro                            nomea  COMPRAC   RGVACA  \\\n0        6029               DEMASIA FR RECREIO       14   0869-T   \n1        7450                JACA JAYZ SJ LALU       34  6411-AH   \n2        3304   CAITA OCIDENTE MJP DA CAPELA P       12   8634-X   \n3        5569   LONDRINA GENGIS KHAN RECANTO D       12  0021-AW   \n4        5569          BABALU METEORO DO MORRO       38  0148-AK   \n..        ...                              ...      ...      ...   \n452      2384   PANTERA 437 JAGUAR FIV JM MONT       14   0348-X   \n454      5569          CAMPISTA MAJOR DO MORRO       14  3881-AT   \n455      1129                   MORADIA ANGICO        7   9556-F   \n456      2381  CLASSICA OCIDENTE JM NOVO HORI       14  5193-AE   \n457      5569           GABI FIV VALE OURO EVD       14  4417-AT   \n\n                       nomep  GSPAI     RGPAI                           nomem  \\\n0       JAGUAR TE DO GAVIAO     11    GAV291            ERMELINDA MERGULHAO    \n1           HORNLAND JAYZ-ET     10  AX118150         GAYA FIV SANSAO SJ LALU   \n2    OCIDENTE BEM FEITOR CAL     11   CAL4605          MARINA DA CAPELA PAIVA   \n3    GENGIS KHAN DE BRASILIA     11   RRP6097   MEARA JUDITH GOLDWYN BELLA-TE   \n4        METEORO DE BRASILIA     11     B5226                SEGUNDA DO MORRO   \n..                       ...    ...       ...                             ...   \n452     JAGUAR TE DO GAVIAO     11    GAV291    DESTRUIDORA JM MONTE ALVERNE   \n454      MAJOR TE DOS POCOES     11   APPG801             SUELLEN II DO MORRO   \n455    VALE OURO DE BRASILIA     11     A6796                   CABANA ANGICO   \n456  OCIDENTE BEM FEITOR CAL     11   CAL4605  CINDERELA MODELO JM NOVO HORIZ   \n457    VALE OURO TE SILVANIA     11    EFC464    LAMBADA DRAMATIC SANTA LUZIA   \n\n     GSMAE     RGMAE  ...       parto     secagem  anopc anop_menos1c  rebc  \\\n0       12   AD-1407  ...  2021-11-23  2022-07-30   2021         2020  6029   \n1       12    1898-P  ...  2020-10-09  2022-02-18   2020         2019  7450   \n2       10    A-3096  ...  2021-03-15  2022-01-13   2021         2020  3304   \n3       10  BX410396  ...  2021-06-28  2022-02-10   2021         2020  5569   \n4       34    7468-T  ...  2021-09-13  2022-02-10   2021         2020  5569   \n..     ...       ...  ...         ...         ...    ...          ...   ...   \n452     12   AE-9119  ...  2021-05-01  2022-02-10   2021         2020  2384   \n454     12    2777-K  ...  2021-04-09  2021-09-16   2021         2020  5569   \n455     78      1606  ...  2021-05-23  2022-10-01   2021         2020  1129   \n456     12   AF-2652  ...  2021-03-23  2022-01-24   2021         2020  2381   \n457     12   AG-0944  ...  2021-01-25  2021-09-13   2021         2020  5569   \n\n     rac  nordc      rebanoe  ordem   id_produto  \n0      2      2  60292021122    NaN  GIRO1383626  \n1      3      2  74502020132    NaN  GIRO1608903  \n2      2      2  33042020122    NaN  GIRO1215331  \n3      2      2  55692021222    NaN  GIRO2022656  \n4      2      2  55692021222    NaN  GIRO1653303  \n..   ...    ...          ...    ...          ...  \n452    2      2  23842021222    NaN  GIRO1384770  \n454    2      2  55692021222    NaN  GIRO1797876  \n455    2      2  11292021222    NaN  GIRO1066128  \n456    2      2  23812020122    NaN  GIRO1571455  \n457    2      2  55692020122    NaN  GIRO1797713  \n\n[219 rows x 45 columns]",
      "text/html": "<div>\n<style scoped>\n    .dataframe tbody tr th:only-of-type {\n        vertical-align: middle;\n    }\n\n    .dataframe tbody tr th {\n        vertical-align: top;\n    }\n\n    .dataframe thead th {\n        text-align: right;\n    }\n</style>\n<table border=\"1\" class=\"dataframe\">\n  <thead>\n    <tr style=\"text-align: right;\">\n      <th></th>\n      <th>reb_giro</th>\n      <th>nomea</th>\n      <th>COMPRAC</th>\n      <th>RGVACA</th>\n      <th>nomep</th>\n      <th>GSPAI</th>\n      <th>RGPAI</th>\n      <th>nomem</th>\n      <th>GSMAE</th>\n      <th>RGMAE</th>\n      <th>...</th>\n      <th>parto</th>\n      <th>secagem</th>\n      <th>anopc</th>\n      <th>anop_menos1c</th>\n      <th>rebc</th>\n      <th>rac</th>\n      <th>nordc</th>\n      <th>rebanoe</th>\n      <th>ordem</th>\n      <th>id_produto</th>\n    </tr>\n  </thead>\n  <tbody>\n    <tr>\n      <th>0</th>\n      <td>6029</td>\n      <td>DEMASIA FR RECREIO</td>\n      <td>14</td>\n      <td>0869-T</td>\n      <td>JAGUAR TE DO GAVIAO</td>\n      <td>11</td>\n      <td>GAV291</td>\n      <td>ERMELINDA MERGULHAO</td>\n      <td>12</td>\n      <td>AD-1407</td>\n      <td>...</td>\n      <td>2021-11-23</td>\n      <td>2022-07-30</td>\n      <td>2021</td>\n      <td>2020</td>\n      <td>6029</td>\n      <td>2</td>\n      <td>2</td>\n      <td>60292021122</td>\n      <td>NaN</td>\n      <td>GIRO1383626</td>\n    </tr>\n    <tr>\n      <th>1</th>\n      <td>7450</td>\n      <td>JACA JAYZ SJ LALU</td>\n      <td>34</td>\n      <td>6411-AH</td>\n      <td>HORNLAND JAYZ-ET</td>\n      <td>10</td>\n      <td>AX118150</td>\n      <td>GAYA FIV SANSAO SJ LALU</td>\n      <td>12</td>\n      <td>1898-P</td>\n      <td>...</td>\n      <td>2020-10-09</td>\n      <td>2022-02-18</td>\n      <td>2020</td>\n      <td>2019</td>\n      <td>7450</td>\n      <td>3</td>\n      <td>2</td>\n      <td>74502020132</td>\n      <td>NaN</td>\n      <td>GIRO1608903</td>\n    </tr>\n    <tr>\n      <th>2</th>\n      <td>3304</td>\n      <td>CAITA OCIDENTE MJP DA CAPELA P</td>\n      <td>12</td>\n      <td>8634-X</td>\n      <td>OCIDENTE BEM FEITOR CAL</td>\n      <td>11</td>\n      <td>CAL4605</td>\n      <td>MARINA DA CAPELA PAIVA</td>\n      <td>10</td>\n      <td>A-3096</td>\n      <td>...</td>\n      <td>2021-03-15</td>\n      <td>2022-01-13</td>\n      <td>2021</td>\n      <td>2020</td>\n      <td>3304</td>\n      <td>2</td>\n      <td>2</td>\n      <td>33042020122</td>\n      <td>NaN</td>\n      <td>GIRO1215331</td>\n    </tr>\n    <tr>\n      <th>3</th>\n      <td>5569</td>\n      <td>LONDRINA GENGIS KHAN RECANTO D</td>\n      <td>12</td>\n      <td>0021-AW</td>\n      <td>GENGIS KHAN DE BRASILIA</td>\n      <td>11</td>\n      <td>RRP6097</td>\n      <td>MEARA JUDITH GOLDWYN BELLA-TE</td>\n      <td>10</td>\n      <td>BX410396</td>\n      <td>...</td>\n      <td>2021-06-28</td>\n      <td>2022-02-10</td>\n      <td>2021</td>\n      <td>2020</td>\n      <td>5569</td>\n      <td>2</td>\n      <td>2</td>\n      <td>55692021222</td>\n      <td>NaN</td>\n      <td>GIRO2022656</td>\n    </tr>\n    <tr>\n      <th>4</th>\n      <td>5569</td>\n      <td>BABALU METEORO DO MORRO</td>\n      <td>38</td>\n      <td>0148-AK</td>\n      <td>METEORO DE BRASILIA</td>\n      <td>11</td>\n      <td>B5226</td>\n      <td>SEGUNDA DO MORRO</td>\n      <td>34</td>\n      <td>7468-T</td>\n      <td>...</td>\n      <td>2021-09-13</td>\n      <td>2022-02-10</td>\n      <td>2021</td>\n      <td>2020</td>\n      <td>5569</td>\n      <td>2</td>\n      <td>2</td>\n      <td>55692021222</td>\n      <td>NaN</td>\n      <td>GIRO1653303</td>\n    </tr>\n    <tr>\n      <th>...</th>\n      <td>...</td>\n      <td>...</td>\n      <td>...</td>\n      <td>...</td>\n      <td>...</td>\n      <td>...</td>\n      <td>...</td>\n      <td>...</td>\n      <td>...</td>\n      <td>...</td>\n      <td>...</td>\n      <td>...</td>\n      <td>...</td>\n      <td>...</td>\n      <td>...</td>\n      <td>...</td>\n      <td>...</td>\n      <td>...</td>\n      <td>...</td>\n      <td>...</td>\n      <td>...</td>\n    </tr>\n    <tr>\n      <th>452</th>\n      <td>2384</td>\n      <td>PANTERA 437 JAGUAR FIV JM MONT</td>\n      <td>14</td>\n      <td>0348-X</td>\n      <td>JAGUAR TE DO GAVIAO</td>\n      <td>11</td>\n      <td>GAV291</td>\n      <td>DESTRUIDORA JM MONTE ALVERNE</td>\n      <td>12</td>\n      <td>AE-9119</td>\n      <td>...</td>\n      <td>2021-05-01</td>\n      <td>2022-02-10</td>\n      <td>2021</td>\n      <td>2020</td>\n      <td>2384</td>\n      <td>2</td>\n      <td>2</td>\n      <td>23842021222</td>\n      <td>NaN</td>\n      <td>GIRO1384770</td>\n    </tr>\n    <tr>\n      <th>454</th>\n      <td>5569</td>\n      <td>CAMPISTA MAJOR DO MORRO</td>\n      <td>14</td>\n      <td>3881-AT</td>\n      <td>MAJOR TE DOS POCOES</td>\n      <td>11</td>\n      <td>APPG801</td>\n      <td>SUELLEN II DO MORRO</td>\n      <td>12</td>\n      <td>2777-K</td>\n      <td>...</td>\n      <td>2021-04-09</td>\n      <td>2021-09-16</td>\n      <td>2021</td>\n      <td>2020</td>\n      <td>5569</td>\n      <td>2</td>\n      <td>2</td>\n      <td>55692021222</td>\n      <td>NaN</td>\n      <td>GIRO1797876</td>\n    </tr>\n    <tr>\n      <th>455</th>\n      <td>1129</td>\n      <td>MORADIA ANGICO</td>\n      <td>7</td>\n      <td>9556-F</td>\n      <td>VALE OURO DE BRASILIA</td>\n      <td>11</td>\n      <td>A6796</td>\n      <td>CABANA ANGICO</td>\n      <td>78</td>\n      <td>1606</td>\n      <td>...</td>\n      <td>2021-05-23</td>\n      <td>2022-10-01</td>\n      <td>2021</td>\n      <td>2020</td>\n      <td>1129</td>\n      <td>2</td>\n      <td>2</td>\n      <td>11292021222</td>\n      <td>NaN</td>\n      <td>GIRO1066128</td>\n    </tr>\n    <tr>\n      <th>456</th>\n      <td>2381</td>\n      <td>CLASSICA OCIDENTE JM NOVO HORI</td>\n      <td>14</td>\n      <td>5193-AE</td>\n      <td>OCIDENTE BEM FEITOR CAL</td>\n      <td>11</td>\n      <td>CAL4605</td>\n      <td>CINDERELA MODELO JM NOVO HORIZ</td>\n      <td>12</td>\n      <td>AF-2652</td>\n      <td>...</td>\n      <td>2021-03-23</td>\n      <td>2022-01-24</td>\n      <td>2021</td>\n      <td>2020</td>\n      <td>2381</td>\n      <td>2</td>\n      <td>2</td>\n      <td>23812020122</td>\n      <td>NaN</td>\n      <td>GIRO1571455</td>\n    </tr>\n    <tr>\n      <th>457</th>\n      <td>5569</td>\n      <td>GABI FIV VALE OURO EVD</td>\n      <td>14</td>\n      <td>4417-AT</td>\n      <td>VALE OURO TE SILVANIA</td>\n      <td>11</td>\n      <td>EFC464</td>\n      <td>LAMBADA DRAMATIC SANTA LUZIA</td>\n      <td>12</td>\n      <td>AG-0944</td>\n      <td>...</td>\n      <td>2021-01-25</td>\n      <td>2021-09-13</td>\n      <td>2021</td>\n      <td>2020</td>\n      <td>5569</td>\n      <td>2</td>\n      <td>2</td>\n      <td>55692020122</td>\n      <td>NaN</td>\n      <td>GIRO1797713</td>\n    </tr>\n  </tbody>\n</table>\n<p>219 rows × 45 columns</p>\n</div>"
     },
     "execution_count": 18,
     "metadata": {},
     "output_type": "execute_result"
    }
   ],
   "source": [
    "tt = pd.merge(df_animais_com_ID,df_verificando_animais_com_id_na_genealogia_embrapa, on=['IDANIMAL'], how='left', indicator=True, suffixes=('', '_drop'))\n",
    "animais_sem_id_2022 = tt[merged_df['_merge'] == 'left_only'].drop(columns='_merge')\n",
    "animais_sem_id_2022 = animais_sem_id_2022.drop(animais_sem_id_2022.filter(regex='_drop$').columns, axis=1)\n",
    "animais_sem_id_2022 = animais_sem_id_2022.drop_duplicates()\n",
    "animais_sem_id_2022"
   ],
   "metadata": {
    "collapsed": false
   }
  },
  {
   "cell_type": "markdown",
   "source": [
    "## Adicionando coluna IDPRODUTO no dataframe de dados repetidos"
   ],
   "metadata": {
    "collapsed": false
   }
  },
  {
   "cell_type": "code",
   "execution_count": 20,
   "outputs": [],
   "source": [
    "df_verificando_animais_com_id_na_genealogia_embrapa['id_produto'] = df_verificando_animais_com_id_na_genealogia_embrapa['id_produto'].fillna(df_genealogia_embrapa['id_produto'])"
   ],
   "metadata": {
    "collapsed": false
   }
  },
  {
   "cell_type": "code",
   "execution_count": 21,
   "outputs": [
    {
     "data": {
      "text/plain": "     reb_giro                            nomea  COMPRAC   RGVACA  \\\n0        6029               DEMASIA FR RECREIO       14   0869-T   \n1        7450                JACA JAYZ SJ LALU       34  6411-AH   \n2        3304   CAITA OCIDENTE MJP DA CAPELA P       12   8634-X   \n3        5569   LONDRINA GENGIS KHAN RECANTO D       12  0021-AW   \n4        5569          BABALU METEORO DO MORRO       38  0148-AK   \n..        ...                              ...      ...      ...   \n415      1129                   MORADIA ANGICO        7   9556-F   \n416      2381  CLASSICA OCIDENTE JM NOVO HORI       14  5193-AE   \n417      5569           GABI FIV VALE OURO EVD       14  4417-AT   \n418      6029                DUNCAN FR RECREIO       14   0928-T   \n419     83436                    LINDA SJ LALU       34  2734-BK   \n\n                       nomep  GSPAI     RGPAI                           nomem  \\\n0       JAGUAR TE DO GAVIAO     11    GAV291            ERMELINDA MERGULHAO    \n1           HORNLAND JAYZ-ET     10  AX118150         GAYA FIV SANSAO SJ LALU   \n2    OCIDENTE BEM FEITOR CAL     11   CAL4605          MARINA DA CAPELA PAIVA   \n3    GENGIS KHAN DE BRASILIA     11   RRP6097   MEARA JUDITH GOLDWYN BELLA-TE   \n4        METEORO DE BRASILIA     11     B5226                SEGUNDA DO MORRO   \n..                       ...    ...       ...                             ...   \n415    VALE OURO DE BRASILIA     11     A6796                   CABANA ANGICO   \n416  OCIDENTE BEM FEITOR CAL     11   CAL4605  CINDERELA MODELO JM NOVO HORIZ   \n417    VALE OURO TE SILVANIA     11    EFC464    LAMBADA DRAMATIC SANTA LUZIA   \n418     JAGUAR TE DO GAVIAO     11    GAV291            NILOPOLIS FR RECREIO   \n419                        0      0         0                               0   \n\n     GSMAE     RGMAE  ...       parto     secagem  anopc anop_menos1c   rebc  \\\n0       12   AD-1407  ...  2021-11-23  2022-07-30   2021         2020   6029   \n1       12    1898-P  ...  2020-10-09  2022-02-18   2020         2019   7450   \n2       10    A-3096  ...  2021-03-15  2022-01-13   2021         2020   3304   \n3       10  BX410396  ...  2021-06-28  2022-02-10   2021         2020   5569   \n4       34    7468-T  ...  2021-09-13  2022-02-10   2021         2020   5569   \n..     ...       ...  ...         ...         ...    ...          ...    ...   \n415     78      1606  ...  2021-05-23  2022-10-01   2021         2020   1129   \n416     12   AF-2652  ...  2021-03-23  2022-01-24   2021         2020   2381   \n417     12   AG-0944  ...  2021-01-25  2021-09-13   2021         2020   5569   \n418     12   AB-0524  ...  2021-04-22  2022-03-04   2021         2020   6029   \n419      0         0  ...  2021-08-01  2022-04-22   2021         2020  83436   \n\n     rac  nordc       rebanoe  ordem   id_produto  \n0      2      2   60292021122    NaN  GIRO1383626  \n1      3      2   74502020132    NaN  GIRO1608903  \n2      2      2   33042020122    NaN  GIRO1215331  \n3      2      2   55692021222    NaN  GIRO2022656  \n4      2      2   55692021222    NaN  GIRO1653303  \n..   ...    ...           ...    ...          ...  \n415    2      2   11292021222    NaN  GIRO1066128  \n416    2      2   23812020122    NaN  GIRO1571455  \n417    2      2   55692020122    NaN  GIRO1797713  \n418    2      2   60292021222    NaN  GIRO1383629  \n419    3      2  834362021232    NaN  GIRO2900035  \n\n[420 rows x 45 columns]",
      "text/html": "<div>\n<style scoped>\n    .dataframe tbody tr th:only-of-type {\n        vertical-align: middle;\n    }\n\n    .dataframe tbody tr th {\n        vertical-align: top;\n    }\n\n    .dataframe thead th {\n        text-align: right;\n    }\n</style>\n<table border=\"1\" class=\"dataframe\">\n  <thead>\n    <tr style=\"text-align: right;\">\n      <th></th>\n      <th>reb_giro</th>\n      <th>nomea</th>\n      <th>COMPRAC</th>\n      <th>RGVACA</th>\n      <th>nomep</th>\n      <th>GSPAI</th>\n      <th>RGPAI</th>\n      <th>nomem</th>\n      <th>GSMAE</th>\n      <th>RGMAE</th>\n      <th>...</th>\n      <th>parto</th>\n      <th>secagem</th>\n      <th>anopc</th>\n      <th>anop_menos1c</th>\n      <th>rebc</th>\n      <th>rac</th>\n      <th>nordc</th>\n      <th>rebanoe</th>\n      <th>ordem</th>\n      <th>id_produto</th>\n    </tr>\n  </thead>\n  <tbody>\n    <tr>\n      <th>0</th>\n      <td>6029</td>\n      <td>DEMASIA FR RECREIO</td>\n      <td>14</td>\n      <td>0869-T</td>\n      <td>JAGUAR TE DO GAVIAO</td>\n      <td>11</td>\n      <td>GAV291</td>\n      <td>ERMELINDA MERGULHAO</td>\n      <td>12</td>\n      <td>AD-1407</td>\n      <td>...</td>\n      <td>2021-11-23</td>\n      <td>2022-07-30</td>\n      <td>2021</td>\n      <td>2020</td>\n      <td>6029</td>\n      <td>2</td>\n      <td>2</td>\n      <td>60292021122</td>\n      <td>NaN</td>\n      <td>GIRO1383626</td>\n    </tr>\n    <tr>\n      <th>1</th>\n      <td>7450</td>\n      <td>JACA JAYZ SJ LALU</td>\n      <td>34</td>\n      <td>6411-AH</td>\n      <td>HORNLAND JAYZ-ET</td>\n      <td>10</td>\n      <td>AX118150</td>\n      <td>GAYA FIV SANSAO SJ LALU</td>\n      <td>12</td>\n      <td>1898-P</td>\n      <td>...</td>\n      <td>2020-10-09</td>\n      <td>2022-02-18</td>\n      <td>2020</td>\n      <td>2019</td>\n      <td>7450</td>\n      <td>3</td>\n      <td>2</td>\n      <td>74502020132</td>\n      <td>NaN</td>\n      <td>GIRO1608903</td>\n    </tr>\n    <tr>\n      <th>2</th>\n      <td>3304</td>\n      <td>CAITA OCIDENTE MJP DA CAPELA P</td>\n      <td>12</td>\n      <td>8634-X</td>\n      <td>OCIDENTE BEM FEITOR CAL</td>\n      <td>11</td>\n      <td>CAL4605</td>\n      <td>MARINA DA CAPELA PAIVA</td>\n      <td>10</td>\n      <td>A-3096</td>\n      <td>...</td>\n      <td>2021-03-15</td>\n      <td>2022-01-13</td>\n      <td>2021</td>\n      <td>2020</td>\n      <td>3304</td>\n      <td>2</td>\n      <td>2</td>\n      <td>33042020122</td>\n      <td>NaN</td>\n      <td>GIRO1215331</td>\n    </tr>\n    <tr>\n      <th>3</th>\n      <td>5569</td>\n      <td>LONDRINA GENGIS KHAN RECANTO D</td>\n      <td>12</td>\n      <td>0021-AW</td>\n      <td>GENGIS KHAN DE BRASILIA</td>\n      <td>11</td>\n      <td>RRP6097</td>\n      <td>MEARA JUDITH GOLDWYN BELLA-TE</td>\n      <td>10</td>\n      <td>BX410396</td>\n      <td>...</td>\n      <td>2021-06-28</td>\n      <td>2022-02-10</td>\n      <td>2021</td>\n      <td>2020</td>\n      <td>5569</td>\n      <td>2</td>\n      <td>2</td>\n      <td>55692021222</td>\n      <td>NaN</td>\n      <td>GIRO2022656</td>\n    </tr>\n    <tr>\n      <th>4</th>\n      <td>5569</td>\n      <td>BABALU METEORO DO MORRO</td>\n      <td>38</td>\n      <td>0148-AK</td>\n      <td>METEORO DE BRASILIA</td>\n      <td>11</td>\n      <td>B5226</td>\n      <td>SEGUNDA DO MORRO</td>\n      <td>34</td>\n      <td>7468-T</td>\n      <td>...</td>\n      <td>2021-09-13</td>\n      <td>2022-02-10</td>\n      <td>2021</td>\n      <td>2020</td>\n      <td>5569</td>\n      <td>2</td>\n      <td>2</td>\n      <td>55692021222</td>\n      <td>NaN</td>\n      <td>GIRO1653303</td>\n    </tr>\n    <tr>\n      <th>...</th>\n      <td>...</td>\n      <td>...</td>\n      <td>...</td>\n      <td>...</td>\n      <td>...</td>\n      <td>...</td>\n      <td>...</td>\n      <td>...</td>\n      <td>...</td>\n      <td>...</td>\n      <td>...</td>\n      <td>...</td>\n      <td>...</td>\n      <td>...</td>\n      <td>...</td>\n      <td>...</td>\n      <td>...</td>\n      <td>...</td>\n      <td>...</td>\n      <td>...</td>\n      <td>...</td>\n    </tr>\n    <tr>\n      <th>415</th>\n      <td>1129</td>\n      <td>MORADIA ANGICO</td>\n      <td>7</td>\n      <td>9556-F</td>\n      <td>VALE OURO DE BRASILIA</td>\n      <td>11</td>\n      <td>A6796</td>\n      <td>CABANA ANGICO</td>\n      <td>78</td>\n      <td>1606</td>\n      <td>...</td>\n      <td>2021-05-23</td>\n      <td>2022-10-01</td>\n      <td>2021</td>\n      <td>2020</td>\n      <td>1129</td>\n      <td>2</td>\n      <td>2</td>\n      <td>11292021222</td>\n      <td>NaN</td>\n      <td>GIRO1066128</td>\n    </tr>\n    <tr>\n      <th>416</th>\n      <td>2381</td>\n      <td>CLASSICA OCIDENTE JM NOVO HORI</td>\n      <td>14</td>\n      <td>5193-AE</td>\n      <td>OCIDENTE BEM FEITOR CAL</td>\n      <td>11</td>\n      <td>CAL4605</td>\n      <td>CINDERELA MODELO JM NOVO HORIZ</td>\n      <td>12</td>\n      <td>AF-2652</td>\n      <td>...</td>\n      <td>2021-03-23</td>\n      <td>2022-01-24</td>\n      <td>2021</td>\n      <td>2020</td>\n      <td>2381</td>\n      <td>2</td>\n      <td>2</td>\n      <td>23812020122</td>\n      <td>NaN</td>\n      <td>GIRO1571455</td>\n    </tr>\n    <tr>\n      <th>417</th>\n      <td>5569</td>\n      <td>GABI FIV VALE OURO EVD</td>\n      <td>14</td>\n      <td>4417-AT</td>\n      <td>VALE OURO TE SILVANIA</td>\n      <td>11</td>\n      <td>EFC464</td>\n      <td>LAMBADA DRAMATIC SANTA LUZIA</td>\n      <td>12</td>\n      <td>AG-0944</td>\n      <td>...</td>\n      <td>2021-01-25</td>\n      <td>2021-09-13</td>\n      <td>2021</td>\n      <td>2020</td>\n      <td>5569</td>\n      <td>2</td>\n      <td>2</td>\n      <td>55692020122</td>\n      <td>NaN</td>\n      <td>GIRO1797713</td>\n    </tr>\n    <tr>\n      <th>418</th>\n      <td>6029</td>\n      <td>DUNCAN FR RECREIO</td>\n      <td>14</td>\n      <td>0928-T</td>\n      <td>JAGUAR TE DO GAVIAO</td>\n      <td>11</td>\n      <td>GAV291</td>\n      <td>NILOPOLIS FR RECREIO</td>\n      <td>12</td>\n      <td>AB-0524</td>\n      <td>...</td>\n      <td>2021-04-22</td>\n      <td>2022-03-04</td>\n      <td>2021</td>\n      <td>2020</td>\n      <td>6029</td>\n      <td>2</td>\n      <td>2</td>\n      <td>60292021222</td>\n      <td>NaN</td>\n      <td>GIRO1383629</td>\n    </tr>\n    <tr>\n      <th>419</th>\n      <td>83436</td>\n      <td>LINDA SJ LALU</td>\n      <td>34</td>\n      <td>2734-BK</td>\n      <td>0</td>\n      <td>0</td>\n      <td>0</td>\n      <td>0</td>\n      <td>0</td>\n      <td>0</td>\n      <td>...</td>\n      <td>2021-08-01</td>\n      <td>2022-04-22</td>\n      <td>2021</td>\n      <td>2020</td>\n      <td>83436</td>\n      <td>3</td>\n      <td>2</td>\n      <td>834362021232</td>\n      <td>NaN</td>\n      <td>GIRO2900035</td>\n    </tr>\n  </tbody>\n</table>\n<p>420 rows × 45 columns</p>\n</div>"
     },
     "execution_count": 21,
     "metadata": {},
     "output_type": "execute_result"
    }
   ],
   "source": [
    "df_verificando_animais_com_id_na_genealogia_embrapa"
   ],
   "metadata": {
    "collapsed": false
   }
  },
  {
   "cell_type": "code",
   "execution_count": 22,
   "outputs": [],
   "source": [
    "#1376776\n",
    "#df_verificando_animais_com_id_na_genealogia_embrapa[df_verificando_animais_com_id_na_genealogia_embrapa['IDANIMAL'] == 1376776]"
   ],
   "metadata": {
    "collapsed": false
   }
  }
 ],
 "metadata": {
  "kernelspec": {
   "display_name": "Python 3",
   "language": "python",
   "name": "python3"
  },
  "language_info": {
   "codemirror_mode": {
    "name": "ipython",
    "version": 2
   },
   "file_extension": ".py",
   "mimetype": "text/x-python",
   "name": "python",
   "nbconvert_exporter": "python",
   "pygments_lexer": "ipython2",
   "version": "2.7.6"
  }
 },
 "nbformat": 4,
 "nbformat_minor": 0
}
