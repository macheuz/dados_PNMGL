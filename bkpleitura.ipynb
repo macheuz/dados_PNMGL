{
 "cells": [
  {
   "cell_type": "markdown",
   "source": [
    "Funcoes utilizadas\n",
    "Criar uma lista de comprimentos de strings em cada célula da coluna especificada\n",
    "comprimentos = [len(str(celula)) for celula in df.iloc[: ,4]]\n",
    "Encontrar o índice da célula com o maior número de caracteres\n",
    "indice_maior = comprimentos.index(max(comprimentos))\n",
    "Extrair a célula com o maior número de caracteres\n",
    "celula_maior = df.iloc[indice_maior][4] df.iloc[: , 4][indice_maior] df.iloc[: , 4].value_counts() celula_maior df.iloc[:,0]\n",
    "index = df.columns.get_loc(‘abcz’)\n",
    "index df"
   ],
   "metadata": {
    "collapsed": false
   }
  },
  {
   "cell_type": "markdown",
   "source": [
    "IDANIMAL = CHAVE UNICA\n",
    "MP = CHAVE UNICA -  Mes parto\n",
    "AP = CHAVE UNICA - -Ano parto\n",
    "\n",
    "LTOT = lactacao total\n",
    "L365 = lactacao em ate 365 dias\n",
    "L305 = lactacao em ate 305 dias\n",
    "DE = Data de Secagem\n",
    "ME = Mes de secagem\n",
    "AE = ANO de Secagem\n",
    "caso o LTOT, L365 e L305, DE, ME e AE sejam iguais ao arquivo old, pode ser descartado"
   ],
   "metadata": {
    "collapsed": false
   }
  },
  {
   "cell_type": "code",
   "execution_count": 50,
   "outputs": [],
   "source": [
    "import pandas as pd\n",
    "import warnings\n",
    "import re\n",
    "import tables\n",
    "warnings.filterwarnings('ignore')"
   ],
   "metadata": {
    "collapsed": false
   }
  },
  {
   "cell_type": "markdown",
   "source": [
    "## conectando no banco de dados"
   ],
   "metadata": {
    "collapsed": false
   }
  },
  {
   "cell_type": "code",
   "execution_count": 51,
   "outputs": [],
   "source": [
    "import mysql.connector\n",
    "\n",
    "mydb = mysql.connector.connect(\n",
    "  host=\"127.0.0.1\",\n",
    "  user=\"root\",\n",
    "  password=\"4d5f0l9k\",\n",
    "  database=\"bioinformatica_new\"\n",
    ")"
   ],
   "metadata": {
    "collapsed": false
   }
  },
  {
   "cell_type": "markdown",
   "source": [
    "## Retornando toda tabela genealogia_embrapa e genealogia_abcz e tabela criadores do banco de dados para dataframes"
   ],
   "metadata": {
    "collapsed": false
   }
  },
  {
   "cell_type": "code",
   "execution_count": 52,
   "outputs": [],
   "source": [
    "sql = f\"WITH tabela_virtual AS (SELECT * FROM genealogia_embrapa) SELECT tv.*, (SELECT registro FROM tabela_virtual AS pai WHERE pai.id_produto = tv.id_touro) AS registro_pai, (SELECT registro FROM tabela_virtual AS mae WHERE mae.id_produto = tv.id_vaca) AS registro_mae FROM tabela_virtual AS tv\"\n",
    "sql1 = \"SELECT * FROM genealogia_abcz\"\n",
    "sql2 = \"SELECT * FROM criadores\"\n",
    "sql3 = \"SELECT * FROM producao_embrapa\"\n",
    "df_genealogia_embrapa = pd.read_sql(sql, mydb)\n",
    "df_genealogia_embrapa=df_genealogia_embrapa.rename(columns={'idanimal': 'IDANIMAL'})\n",
    "df_genealogia_abcz = pd.read_sql(sql1, mydb)\n",
    "df_criadores = pd.read_sql(sql2, mydb)\n",
    "df_producao = pd.read_sql(sql3, mydb)\n"
   ],
   "metadata": {
    "collapsed": false
   }
  },
  {
   "cell_type": "markdown",
   "source": [
    "## Lendo planilhas"
   ],
   "metadata": {
    "collapsed": false
   }
  },
  {
   "cell_type": "code",
   "execution_count": 53,
   "outputs": [],
   "source": [
    "pedigree = pd.read_csv(\"pedrigree - Girolando - 17-02-2023.txt\", encoding='ISO-8859-1')\n",
    "dados_2023 = pd.read_csv(\"PNMGL - Dados girolando - 17-02-23.txt\", encoding='ISO-8859-1')\n",
    "dados_2022 = pd.read_csv(\"PNMGL - Dados_old - 17-02-2023.txt\", encoding='ISO-8859-1')"
   ],
   "metadata": {
    "collapsed": false
   }
  },
  {
   "cell_type": "code",
   "execution_count": 54,
   "outputs": [],
   "source": [
    "#pedigree"
   ],
   "metadata": {
    "collapsed": false
   }
  },
  {
   "cell_type": "code",
   "execution_count": 55,
   "outputs": [],
   "source": [
    "#dados_2022"
   ],
   "metadata": {
    "collapsed": false
   }
  },
  {
   "cell_type": "code",
   "execution_count": 56,
   "outputs": [],
   "source": [
    "#dados_2023"
   ],
   "metadata": {
    "collapsed": false
   }
  },
  {
   "cell_type": "code",
   "execution_count": 57,
   "outputs": [],
   "source": [
    "#df_genealogia_embrapa"
   ],
   "metadata": {
    "collapsed": false
   }
  },
  {
   "cell_type": "code",
   "execution_count": 58,
   "outputs": [],
   "source": [
    "#df_genealogia_abcz"
   ],
   "metadata": {
    "collapsed": false
   }
  },
  {
   "cell_type": "code",
   "execution_count": 59,
   "outputs": [],
   "source": [
    "#df_criadores"
   ],
   "metadata": {
    "collapsed": false
   }
  },
  {
   "cell_type": "code",
   "execution_count": 60,
   "outputs": [],
   "source": [
    "#df_producao"
   ],
   "metadata": {
    "collapsed": false
   }
  },
  {
   "cell_type": "markdown",
   "source": [
    "## Criando um dataframe que é a junção dos dois dataframes, dados_2022 e dados_2023, pelas celulas que possuem os mesmos valores nas colunas IDANIMAL, AP, MP, L305, LTOT, L365, ME e AE."
   ],
   "metadata": {
    "collapsed": false
   }
  },
  {
   "cell_type": "code",
   "execution_count": 61,
   "outputs": [],
   "source": [
    "df_dados_sem_atualizacao_entre_2022_2023 = pd.merge(dados_2023, dados_2022, on=['IDANIMAL', 'AP', 'MP','L305', 'LTOT', 'L365', 'ME', 'AE', 'CAUSA'],suffixes=('', '_drop'))\n",
    "df_dados_sem_atualizacao_entre_2022_2023 = df_dados_sem_atualizacao_entre_2022_2023.drop(df_dados_sem_atualizacao_entre_2022_2023.filter(regex='_drop$').columns, axis=1)\n",
    "df_dados_sem_atualizacao_entre_2022_2023 = df_dados_sem_atualizacao_entre_2022_2023.drop_duplicates()\n",
    "#df_dados_sem_atualizacao_entre_2022_2023"
   ],
   "metadata": {
    "collapsed": false
   }
  },
  {
   "cell_type": "markdown",
   "source": [
    "## Criando um dataframe com somente os novos dados inseridos em 2023\n",
    "Esses são os dados que precisam ser inseridos no banco de dados"
   ],
   "metadata": {
    "collapsed": false
   }
  },
  {
   "cell_type": "code",
   "execution_count": 62,
   "outputs": [],
   "source": [
    "# faz o merge entre os dois dataframes, o dados com os dados repetidos\n",
    "df_merge = pd.merge(dados_2023, df_dados_sem_atualizacao_entre_2022_2023, how='left', indicator=True, suffixes=('', '_drop'))\n",
    "\n",
    "# filtra somente as linhas que estão no dataframe da esquerda\n",
    "df_dados_novos_para_insercao_no_banco_de_dados = df_merge[df_merge['_merge'] == 'left_only']\n",
    "\n",
    "# remove a coluna \"_merge\"\n",
    "df_dados_novos_para_insercao_no_banco_de_dados.drop('_merge', axis=1, inplace=True)\n",
    "\n",
    "df_dados_novos_para_insercao_no_banco_de_dados = df_dados_novos_para_insercao_no_banco_de_dados.drop(df_merge.filter(regex='_drop$').columns, axis=1)\n",
    "df_dados_novos_para_insercao_no_banco_de_dados = df_dados_novos_para_insercao_no_banco_de_dados.drop_duplicates()\n",
    "#df_dados_novos_para_insercao_no_banco_de_dados"
   ],
   "metadata": {
    "collapsed": false
   }
  },
  {
   "cell_type": "markdown",
   "source": [
    "# Adicionando coluna GS, oriunda do dataframe Pedigree, no dataframe df_dados_novos_para_insercao_no_banco_de_dados\n",
    "inclusão necessária para localizar o animal"
   ],
   "metadata": {
    "collapsed": false
   }
  },
  {
   "cell_type": "code",
   "execution_count": 63,
   "outputs": [],
   "source": [
    "df_temporaria = pd.merge(df_dados_novos_para_insercao_no_banco_de_dados, pedigree[['IDANIMAL', 'gs', 'SEXO']], on=['IDANIMAL'], suffixes=('', '_drop'))\n",
    "df_dados_novos_para_insercao_no_banco_de_dados=df_temporaria\n",
    "df_dados_novos_para_insercao_no_banco_de_dados\n",
    "\n",
    "nome_antigo = 'SEXO'\n",
    "nome_novo = 'sexo'\n",
    "indice_coluna = df_dados_novos_para_insercao_no_banco_de_dados.columns.get_loc(nome_antigo)\n",
    "df_dados_novos_para_insercao_no_banco_de_dados.rename(columns={nome_antigo: nome_novo}, inplace=True)\n",
    "#df_dados_novos_para_insercao_no_banco_de_dados"
   ],
   "metadata": {
    "collapsed": false
   }
  },
  {
   "cell_type": "markdown",
   "source": [
    "# Criando subtabela com somente as linhas que possuem gs = 0 no dataframe df_dados_novos_para_insercao_no_banco_de_dados"
   ],
   "metadata": {
    "collapsed": false
   }
  },
  {
   "cell_type": "code",
   "execution_count": 64,
   "outputs": [],
   "source": [
    "sub_tabela_gs_0 = df_dados_novos_para_insercao_no_banco_de_dados[df_dados_novos_para_insercao_no_banco_de_dados['gs'] == 0]\n",
    "#sub_tabela_gs_0"
   ],
   "metadata": {
    "collapsed": false
   }
  },
  {
   "cell_type": "markdown",
   "source": [
    "# Adicionando coluna cod_prod, cod_pai e cod_mae, oriundos do dataframe df_genealogia_abcz, na subtabela gs_0 dos animais que sao gs=0"
   ],
   "metadata": {
    "collapsed": false
   }
  },
  {
   "cell_type": "code",
   "execution_count": 65,
   "outputs": [],
   "source": [
    "df_genealogia_abcz = df_genealogia_abcz.rename(columns={'rgd2': 'RGVACA'})\n",
    "df_temporaria1 = pd.merge(sub_tabela_gs_0, df_genealogia_abcz[['RGVACA', 'cod_prod', 'cod_pai', 'cod_mae']], on=['RGVACA'], how='left', suffixes=('', '_drop'))\n",
    "sub_tabela_gs_0=df_temporaria1\n",
    "sub_tabela_gs_0 = sub_tabela_gs_0.drop_duplicates()\n",
    "#sub_tabela_gs_0"
   ],
   "metadata": {
    "collapsed": false
   }
  },
  {
   "cell_type": "markdown",
   "source": [
    "# Adicionando codprod, cod_pai, cod_mae no dataframe df_dados_novos_para_insercao_no_banco_de_dados a partir do dataframe sub_tabela_gs_0"
   ],
   "metadata": {
    "collapsed": false
   }
  },
  {
   "cell_type": "code",
   "execution_count": 66,
   "outputs": [],
   "source": [
    "df_temporaria4 = pd.merge(df_dados_novos_para_insercao_no_banco_de_dados, sub_tabela_gs_0[['RGVACA', 'cod_prod', 'cod_pai', 'cod_mae', 'IDANIMAL']], on=['RGVACA', 'IDANIMAL'], how='left', suffixes=('', '_drop'))\n",
    "df_dados_novos_para_insercao_no_banco_de_dados=df_temporaria4\n",
    "df_dados_novos_para_insercao_no_banco_de_dados = df_dados_novos_para_insercao_no_banco_de_dados.drop_duplicates()\n",
    "#df_dados_novos_para_insercao_no_banco_de_dados\n",
    "\n"
   ],
   "metadata": {
    "collapsed": false
   }
  },
  {
   "cell_type": "markdown",
   "source": [
    "# Criando subtabela com os animais em que o gs da mae = 11 e que o rgmae comece com 3 letras"
   ],
   "metadata": {
    "collapsed": false
   }
  },
  {
   "cell_type": "code",
   "execution_count": 67,
   "outputs": [],
   "source": [
    "sub_tabela_cod_mae_0 = df_dados_novos_para_insercao_no_banco_de_dados[df_dados_novos_para_insercao_no_banco_de_dados['GSMAE'] == 11]\n",
    "#e o cod_mae e nulo\n",
    "sub_tabela_cod_mae_0\n",
    "# selecionar apenas as linhas que começam com letras\n",
    "sub_tabela_cod_mae_0 = sub_tabela_cod_mae_0[sub_tabela_cod_mae_0['RGMAE'].apply(lambda x: bool(re.match(r'^[a-zA-Z]{3}', x)))]"
   ],
   "metadata": {
    "collapsed": false
   }
  },
  {
   "cell_type": "markdown",
   "source": [
    "# Pegando o cod_prod das maes no dataframe genealogia_abcz"
   ],
   "metadata": {
    "collapsed": false
   }
  },
  {
   "cell_type": "code",
   "execution_count": 68,
   "outputs": [],
   "source": [
    "df_genealogia_abcz = df_genealogia_abcz.rename(columns={'cod_prod':'cod_prod_mae_gen'})\n",
    "sub_tabela_cod_mae_0 = pd.merge(sub_tabela_cod_mae_0, df_genealogia_abcz[['RGVACA', 'cod_prod_mae_gen']], left_on=['RGMAE'], right_on=['RGVACA'], how='left', indicator=True, suffixes=('', '_drop'))\n",
    "sub_tabela_cod_mae_0 = sub_tabela_cod_mae_0.drop_duplicates()\n",
    "sub_tabela_cod_mae_0 = sub_tabela_cod_mae_0.drop(sub_tabela_cod_mae_0.filter(regex='_drop$').columns, axis=1)\n",
    "sub_tabela_cod_mae_0 = sub_tabela_cod_mae_0[sub_tabela_cod_mae_0['_merge'] == 'both'].drop(columns='_merge')\n",
    "#sub_tabela_cod_mae_0\n"
   ],
   "metadata": {
    "collapsed": false
   }
  },
  {
   "cell_type": "markdown",
   "source": [
    "# Adicionando o cod_prod_mae_gen das maes no dataframe df_dados_novos"
   ],
   "metadata": {
    "collapsed": false
   }
  },
  {
   "cell_type": "code",
   "execution_count": 69,
   "outputs": [],
   "source": [
    "df_temporaria5 = pd.merge(df_dados_novos_para_insercao_no_banco_de_dados, sub_tabela_cod_mae_0[['RGMAE', 'cod_prod_mae_gen']], left_on=['RGMAE'], right_on=['RGMAE'], how='left', suffixes=('', '_drop'))\n",
    "#df_dados_novos_para_insercao_no_banco_de_dados=df_temporaria4\n",
    "#df_dados_novos_para_insercao_no_banco_de_dados = df_dados_novos_para_insercao_no_banco_de_dados.drop_duplicates()\n",
    "#df_dados_novos_para_insercao_no_banco_de_dados\n",
    "df_temporaria5 = df_temporaria5.drop_duplicates()\n",
    "df_dados_novos_para_insercao_no_banco_de_dados = df_temporaria5\n",
    "#df_dados_novos_para_insercao_no_banco_de_dados\n"
   ],
   "metadata": {
    "collapsed": false
   }
  },
  {
   "cell_type": "markdown",
   "source": [
    "# Criando subtabela em que o gs do pai = 11 e que os 3 primeiros caracteres do rgpai sao letras"
   ],
   "metadata": {
    "collapsed": false
   }
  },
  {
   "cell_type": "code",
   "execution_count": 70,
   "outputs": [],
   "source": [
    "sub_tabela_cod_pai_0 = df_dados_novos_para_insercao_no_banco_de_dados[df_dados_novos_para_insercao_no_banco_de_dados['GSPAI'] == 11]\n",
    "#e o cod_mae e nulo\n",
    "sub_tabela_cod_pai_0\n",
    "# selecionar apenas as linhas que começam com letras\n",
    "sub_tabela_cod_pai_0 = sub_tabela_cod_pai_0[sub_tabela_cod_pai_0['RGPAI'].apply(lambda x: bool(re.match(r'^[a-zA-Z]{3}', x)))]"
   ],
   "metadata": {
    "collapsed": false
   }
  },
  {
   "cell_type": "markdown",
   "source": [
    "# Pegando o cod_prod dos pais no dataframe genealogia_abcz"
   ],
   "metadata": {
    "collapsed": false
   }
  },
  {
   "cell_type": "code",
   "execution_count": 71,
   "outputs": [],
   "source": [
    "df_genealogia_abcz = df_genealogia_abcz.rename(columns={'cod_prod_mae_gen':'cod_prod_pai_gen'})\n",
    "sub_tabela_cod_pai_0 = pd.merge(sub_tabela_cod_pai_0, df_genealogia_abcz[['RGVACA', 'cod_prod_pai_gen']], left_on=['RGPAI'], right_on=['RGVACA'], how='left', indicator=True, suffixes=('', '_drop'))\n",
    "sub_tabela_cod_pai_0 = sub_tabela_cod_pai_0.drop_duplicates()\n",
    "sub_tabela_cod_pai_0 = sub_tabela_cod_pai_0.drop(sub_tabela_cod_pai_0.filter(regex='_drop$').columns, axis=1)\n",
    "sub_tabela_cod_pai_0 = sub_tabela_cod_pai_0[sub_tabela_cod_pai_0['_merge'] == 'both'].drop(columns='_merge')\n",
    "#sub_tabela_cod_pai_0"
   ],
   "metadata": {
    "collapsed": false
   }
  },
  {
   "cell_type": "markdown",
   "source": [
    "# Adicionando o cod_prod_pai_gen dos pais no dataframe df_dados_novos"
   ],
   "metadata": {
    "collapsed": false
   }
  },
  {
   "cell_type": "code",
   "execution_count": 72,
   "outputs": [],
   "source": [
    "df_temporaria6 = pd.merge(df_dados_novos_para_insercao_no_banco_de_dados, sub_tabela_cod_pai_0[['RGPAI', 'cod_prod_pai_gen']], left_on=['RGPAI'], right_on=['RGPAI'], how='left', suffixes=('', '_drop'))\n",
    "df_temporaria6 = df_temporaria6.drop_duplicates()\n",
    "df_dados_novos_para_insercao_no_banco_de_dados = df_temporaria6\n",
    "#df_dados_novos_para_insercao_no_banco_de_dados"
   ],
   "metadata": {
    "collapsed": false
   }
  },
  {
   "cell_type": "markdown",
   "source": [
    "# Pegando valores das colunas cod_prod_pai_gen e cod_prod_mae_gen e atualizando colunas  cod_pai e cod_mae no DF_DADOS_NOVOS"
   ],
   "metadata": {
    "collapsed": false
   }
  },
  {
   "cell_type": "code",
   "execution_count": 73,
   "outputs": [],
   "source": [
    "df_temporaria6 = df_temporaria5\n",
    "df_dados_novos_para_insercao_no_banco_de_dados['cod_pai'].fillna(df_dados_novos_para_insercao_no_banco_de_dados['cod_prod_pai_gen'], inplace=True)\n",
    "df_dados_novos_para_insercao_no_banco_de_dados['cod_mae'].fillna(df_dados_novos_para_insercao_no_banco_de_dados['cod_prod_mae_gen'], inplace=True)\n",
    "#Dando drop nas colunas antigas\n",
    "df_dados_novos_para_insercao_no_banco_de_dados = df_dados_novos_para_insercao_no_banco_de_dados.drop(columns='cod_prod_pai_gen')\n",
    "df_dados_novos_para_insercao_no_banco_de_dados = df_dados_novos_para_insercao_no_banco_de_dados.drop(columns='cod_prod_mae_gen')\n",
    "#df_dados_novos_para_insercao_no_banco_de_dados"
   ],
   "metadata": {
    "collapsed": false
   }
  },
  {
   "cell_type": "markdown",
   "source": [
    "# Criando subtabela em que o gs do pai = 11 mas os 3 primeiros caracteres do rgpai nao sao letras"
   ],
   "metadata": {
    "collapsed": false
   }
  },
  {
   "cell_type": "code",
   "execution_count": 74,
   "outputs": [],
   "source": [
    "sub_tabela_cod_pai_0 = df_dados_novos_para_insercao_no_banco_de_dados[df_dados_novos_para_insercao_no_banco_de_dados['GSPAI'] == 11]\n",
    "#e o cod_mae e nulo\n",
    "sub_tabela_cod_pai_0\n",
    "# selecionar apenas as linhas que NÃO começam com letras\n",
    "sub_tabela_cod_pai_0 = sub_tabela_cod_pai_0[~sub_tabela_cod_pai_0['RGPAI'].apply(lambda x: bool(re.match(r'^[a-zA-Z]{3}', x)))]"
   ],
   "metadata": {
    "collapsed": false
   }
  },
  {
   "cell_type": "markdown",
   "source": [
    "# Pegando cod_prod_pai no genealogia_abcz dos animais em que o registro nao comeca com 3 letras"
   ],
   "metadata": {
    "collapsed": false
   }
  },
  {
   "cell_type": "code",
   "execution_count": 75,
   "outputs": [],
   "source": [
    "sub_tabela_cod_pai_0 = sub_tabela_cod_pai_0.drop_duplicates()\n",
    "df_genealogia_abcz = df_genealogia_abcz.drop_duplicates()\n",
    "#criando coluna com os 10 caracteres do nome\n",
    "sub_tabela_cod_pai_0['nome11caracteres'] = sub_tabela_cod_pai_0['nomep'].str.slice(start=0, stop=11)\n",
    "df_genealogia_abcz['nome11caracteres'] = df_genealogia_abcz['nome'].str.slice(start=0, stop=11)\n",
    "#removendo os espacos em branco das celulas\n",
    "#sub_tabela_cod_pai_0['nome10caracteres'] = sub_tabela_cod_pai_0['nome10caracteres'].str.replace('\\s+', '', regex=True)\n",
    "#df_genealogia_abcz['nome10caracteres'] = df_genealogia_abcz['nome10caracteres'].str.replace('\\s+', '', regex=True)\n",
    "\n",
    "sub_tabela_cod_pai_0 = pd.merge(sub_tabela_cod_pai_0, df_genealogia_abcz[['RGVACA', 'nome11caracteres','cod_prod_pai_gen']], left_on=['RGPAI', 'nome11caracteres'], right_on=['RGVACA', 'nome11caracteres'], how='left', indicator=True, suffixes=('', '_drop'))\n",
    "sub_tabela_cod_pai_0 = sub_tabela_cod_pai_0.drop_duplicates()\n",
    "sub_tabela_cod_pai_0 = sub_tabela_cod_pai_0.drop(sub_tabela_cod_pai_0.filter(regex='_drop$').columns, axis=1)\n",
    "sub_tabela_cod_pai_0 = sub_tabela_cod_pai_0[sub_tabela_cod_pai_0['_merge'] == 'both'].drop(columns='_merge')\n",
    "#sub_tabela_cod_pai_0"
   ],
   "metadata": {
    "collapsed": false
   }
  },
  {
   "cell_type": "markdown",
   "source": [
    "# Adicionando o cod_prod_pai_gen dos pais no dataframe df_dados_novos\n",
    "obs: dos REGPAI que nao comecam com 3 caracteres"
   ],
   "metadata": {
    "collapsed": false
   }
  },
  {
   "cell_type": "code",
   "execution_count": 76,
   "outputs": [],
   "source": [
    "df_temporaria7 = pd.merge(df_dados_novos_para_insercao_no_banco_de_dados, sub_tabela_cod_pai_0[['RGPAI', 'cod_prod_pai_gen']], left_on=['RGPAI'], right_on=['RGPAI'], how='left', suffixes=('', '_drop'))\n",
    "#df_dados_novos_para_insercao_no_banco_de_dados=df_temporaria5\n",
    "#df_dados_novos_para_insercao_no_banco_de_dados = df_dados_novos_para_insercao_no_banco_de_dados.drop_duplicates()\n",
    "#df_dados_novos_para_insercao_no_banco_de_dados = df_dados_novos_para_insercao_no_banco_de_dados.drop(df_dados_novos_para_insercao_no_banco_de_dados.filter(regex='_drop$').columns, axis=1)\n",
    "#df_dados_novos_para_insercao_no_banco_de_dados\n",
    "df_temporaria7 = df_temporaria7.drop_duplicates()\n",
    "df_dados_novos_para_insercao_no_banco_de_dados = df_temporaria7\n",
    "#df_dados_novos_para_insercao_no_banco_de_dados"
   ],
   "metadata": {
    "collapsed": false
   }
  },
  {
   "cell_type": "markdown",
   "source": [
    "# Criando subtabela em que o gs da mae = 11 mas os 3 primeiros caracteres do rgmae nao sao letras"
   ],
   "metadata": {
    "collapsed": false
   }
  },
  {
   "cell_type": "code",
   "execution_count": 77,
   "outputs": [],
   "source": [
    "sub_tabela_cod_mae_0 = df_dados_novos_para_insercao_no_banco_de_dados[df_dados_novos_para_insercao_no_banco_de_dados['GSMAE'] == 11]\n",
    "#e o cod_mae e nulo\n",
    "sub_tabela_cod_mae_0\n",
    "# selecionar apenas as linhas que NÃO começam com letras\n",
    "sub_tabela_cod_mae_0 = sub_tabela_cod_mae_0[~sub_tabela_cod_mae_0['RGMAE'].apply(lambda x: bool(re.match(r'^[a-zA-Z]{3}', x)))]"
   ],
   "metadata": {
    "collapsed": false
   }
  },
  {
   "cell_type": "markdown",
   "source": [
    "# Pegando cod_prod_mae no genealogia abcz dos animais em que o registro nao comeca com 3 letras"
   ],
   "metadata": {
    "collapsed": false
   }
  },
  {
   "cell_type": "code",
   "execution_count": 78,
   "outputs": [],
   "source": [
    "sub_tabela_cod_mae_0['nome11caracteres'] = sub_tabela_cod_mae_0['nomem'].str.slice(start=0, stop=11)\n",
    "df_genealogia_abcz = df_genealogia_abcz.rename(columns={'cod_prod_pai_gen':'cod_prod_mae_gen'})\n",
    "#criando coluna com os 10 caracteres do nome\n",
    "sub_tabela_cod_mae_0 = pd.merge(sub_tabela_cod_mae_0, df_genealogia_abcz[['RGVACA','nome11caracteres' ,'cod_prod_mae_gen']], left_on=['RGMAE', 'nome11caracteres'], right_on=['RGVACA', 'nome11caracteres'], how='left', indicator=True, suffixes=('', '_drop'))\n",
    "sub_tabela_cod_mae_0 = sub_tabela_cod_mae_0.drop_duplicates()\n",
    "sub_tabela_cod_mae_0 = sub_tabela_cod_mae_0.drop(sub_tabela_cod_mae_0.filter(regex='_drop$').columns, axis=1)\n",
    "sub_tabela_cod_mae_0 = sub_tabela_cod_mae_0[sub_tabela_cod_mae_0['_merge'] == 'both'].drop(columns='_merge')\n",
    "#sub_tabela_cod_mae_0\n"
   ],
   "metadata": {
    "collapsed": false
   }
  },
  {
   "cell_type": "markdown",
   "source": [
    "# Adicionando cod_prod_mae_gen no df_dados_novos\n",
    "Obs: regmae com menos de 3 caracteres"
   ],
   "metadata": {
    "collapsed": false
   }
  },
  {
   "cell_type": "code",
   "execution_count": 79,
   "outputs": [],
   "source": [
    "df_temporaria8 = pd.merge(df_dados_novos_para_insercao_no_banco_de_dados, sub_tabela_cod_mae_0[['RGMAE', 'cod_prod_mae_gen']], left_on=['RGMAE'], right_on=['RGMAE'], how='left', suffixes=('', '_drop'))\n",
    "df_temporaria8 = df_temporaria8.drop_duplicates()\n",
    "df_dados_novos_para_insercao_no_banco_de_dados = df_temporaria8\n",
    "#df_dados_novos_para_insercao_no_banco_de_dados"
   ],
   "metadata": {
    "collapsed": false
   }
  },
  {
   "cell_type": "markdown",
   "source": [
    "# Adicionando os dados do cod_prod_mae_gen e do cod_prod_pai_gen no cod_pai e cod_mae\n",
    "OBS: dados com o regpai e regmae com < 3 letras"
   ],
   "metadata": {
    "collapsed": false
   }
  },
  {
   "cell_type": "code",
   "execution_count": 80,
   "outputs": [],
   "source": [
    "df_dados_novos_para_insercao_no_banco_de_dados['cod_pai'].fillna(df_dados_novos_para_insercao_no_banco_de_dados['cod_prod_pai_gen'], inplace=True)\n",
    "df_dados_novos_para_insercao_no_banco_de_dados['cod_mae'].fillna(df_dados_novos_para_insercao_no_banco_de_dados['cod_prod_mae_gen'], inplace=True)\n",
    "#Dando drop nas colunas antigas\n",
    "df_dados_novos_para_insercao_no_banco_de_dados = df_dados_novos_para_insercao_no_banco_de_dados.drop(columns='cod_prod_pai_gen')\n",
    "df_dados_novos_para_insercao_no_banco_de_dados = df_dados_novos_para_insercao_no_banco_de_dados.drop(columns='cod_prod_mae_gen')\n",
    "#df_dados_novos_para_insercao_no_banco_de_dados"
   ],
   "metadata": {
    "collapsed": false
   }
  },
  {
   "cell_type": "markdown",
   "source": [
    "# Adicionando reb no dataframe df_dados_novos_para_insercao_no_banco_de_dados\n",
    "Obs: Cod_gil esta na tabela de criadores"
   ],
   "metadata": {
    "collapsed": false
   }
  },
  {
   "cell_type": "code",
   "execution_count": 81,
   "outputs": [],
   "source": [
    "df_criadores = df_criadores.rename(columns={'codgiro':'reb_giro'})\n",
    "df_dados_novos_para_insercao_no_banco_de_dados = pd.merge(df_dados_novos_para_insercao_no_banco_de_dados, df_criadores[['reb_giro', 'reb']], on=['reb_giro'], how='left')\n",
    "df_dados_novos_para_insercao_no_banco_de_dados = df_dados_novos_para_insercao_no_banco_de_dados.drop_duplicates()"
   ],
   "metadata": {
    "collapsed": false
   }
  },
  {
   "cell_type": "code",
   "execution_count": 82,
   "outputs": [],
   "source": [
    "#verifica_reb = df_criadores.groupby('reb_giro')['reb'].nunique()\n",
    "#verifica_reb"
   ],
   "metadata": {
    "collapsed": false
   }
  },
  {
   "cell_type": "markdown",
   "source": [
    "## Calculando a diferença entre a data dos novos partos com as ultimas datas presentes na tabela de dados_2022 para validar se ha alguma inconsistência\n",
    "\n",
    "obs: Caso a diferença seja menor que 250 dias é provável que haja alguma falha."
   ],
   "metadata": {
    "collapsed": false
   }
  },
  {
   "cell_type": "code",
   "execution_count": 83,
   "outputs": [],
   "source": [
    "\n",
    "df_diferenca_entre_partos_novos_e_do_banco = pd.merge(df_dados_novos_para_insercao_no_banco_de_dados, dados_2022, on=['IDANIMAL'], suffixes=('', '_drop'))\n",
    "df_diferenca_entre_partos_novos_e_do_banco = df_diferenca_entre_partos_novos_e_do_banco.drop_duplicates()\n",
    "#df_diferenca_entre_partos_novos_e_do_banco = df_diferenca_entre_partos_novos_e_do_banco.drop(df_diferenca_entre_partos_novos_e_do_banco.filter(regex='_drop$').columns, axis=1)\n",
    "df_diferenca_entre_partos_novos_e_do_banco[['parto', 'parto_drop']] = df_diferenca_entre_partos_novos_e_do_banco[['parto', 'parto_drop']].astype(str)\n",
    "df_diferenca_entre_partos_novos_e_do_banco[['parto', 'parto_drop']] = df_diferenca_entre_partos_novos_e_do_banco[['parto', 'parto_drop']].apply(pd.to_datetime)\n",
    "df_diferenca_entre_partos_novos_e_do_banco['diferenca_em_dias'] = (df_diferenca_entre_partos_novos_e_do_banco['parto'] - df_diferenca_entre_partos_novos_e_do_banco['parto_drop']).dt.days\n",
    "#df_diferenca_entre_partos_novos_e_do_banco[['parto', 'parto_drop', 'diferenca_em_dias']]"
   ],
   "metadata": {
    "collapsed": false
   }
  },
  {
   "cell_type": "markdown",
   "source": [
    "## Pegando da tabela de animais que serão inseridos no banco aqueles que ja possuem IDANIMAL cadastrado\n",
    "Comparado ao dataframe  dados_2022"
   ],
   "metadata": {
    "collapsed": false
   }
  },
  {
   "cell_type": "code",
   "execution_count": 84,
   "outputs": [
    {
     "data": {
      "text/plain": "     reb_giro                            nomea  COMPRAC   RGVACA  \\\n0        6029               DEMASIA FR RECREIO       14   0869-T   \n1        7450                JACA JAYZ SJ LALU       34  6411-AH   \n2        3304   CAITA OCIDENTE MJP DA CAPELA P       12   8634-X   \n4        5569   LONDRINA GENGIS KHAN RECANTO D       12  0021-AW   \n5        5569          BABALU METEORO DO MORRO       38  0148-AK   \n..        ...                              ...      ...      ...   \n680      1129                   MORADIA ANGICO        7   9556-F   \n681      2381  CLASSICA OCIDENTE JM NOVO HORI       14  5193-AE   \n684      5569           GABI FIV VALE OURO EVD       14  4417-AT   \n685      6029                DUNCAN FR RECREIO       14   0928-T   \n686     83436                    LINDA SJ LALU       34  2734-BK   \n\n                       nomep  GSPAI     RGPAI                           nomem  \\\n0       JAGUAR TE DO GAVIAO     11    GAV291            ERMELINDA MERGULHAO    \n1           HORNLAND JAYZ-ET     10  AX118150         GAYA FIV SANSAO SJ LALU   \n2    OCIDENTE BEM FEITOR CAL     11   CAL4605          MARINA DA CAPELA PAIVA   \n4    GENGIS KHAN DE BRASILIA     11   RRP6097   MEARA JUDITH GOLDWYN BELLA-TE   \n5        METEORO DE BRASILIA     11     B5226                SEGUNDA DO MORRO   \n..                       ...    ...       ...                             ...   \n680    VALE OURO DE BRASILIA     11     A6796                   CABANA ANGICO   \n681  OCIDENTE BEM FEITOR CAL     11   CAL4605  CINDERELA MODELO JM NOVO HORIZ   \n684    VALE OURO TE SILVANIA     11    EFC464    LAMBADA DRAMATIC SANTA LUZIA   \n685     JAGUAR TE DO GAVIAO     11    GAV291            NILOPOLIS FR RECREIO   \n686                        0      0         0                               0   \n\n     GSMAE     RGMAE  ...  rac  nordc       rebanoe ordem  gs  sexo  cod_prod  \\\n0       12   AD-1407  ...    2      2   60292021122   NaN   2     F       NaN   \n1       12    1898-P  ...    3      2   74502020132   NaN   6     F       NaN   \n2       10    A-3096  ...    2      2   33042020122   NaN   4     F       NaN   \n4       10  BX410396  ...    2      2   55692021222   NaN   4     F       NaN   \n5       34    7468-T  ...    2      2   55692021222   NaN   3     F       NaN   \n..     ...       ...  ...  ...    ...           ...   ...  ..   ...       ...   \n680     78      1606  ...    2      2   11292021222   NaN   4     F       NaN   \n681     12   AF-2652  ...    2      2   23812020122   NaN   2     F       NaN   \n684     12   AG-0944  ...    2      2   55692020122   NaN   2     F       NaN   \n685     12   AB-0524  ...    2      2   60292021222   NaN   2     F       NaN   \n686      0         0  ...    3      2  834362021232   NaN   6     F       NaN   \n\n       cod_pai  cod_mae         reb  \n0    4176523.0      NaN  31365-ABCZ  \n1          NaN      NaN   7450-GIRO  \n2    3287666.0      NaN   3304-GIRO  \n4    9265878.0      NaN   5569-GIRO  \n5    2225848.0      NaN   5569-GIRO  \n..         ...      ...         ...  \n680  1351076.0      NaN       52721  \n681  3287666.0      NaN  31300-ABCZ  \n684  3890526.0      NaN   5569-GIRO  \n685  4176523.0      NaN  31365-ABCZ  \n686        NaN      NaN  83436-GIRO  \n\n[417 rows x 50 columns]",
      "text/html": "<div>\n<style scoped>\n    .dataframe tbody tr th:only-of-type {\n        vertical-align: middle;\n    }\n\n    .dataframe tbody tr th {\n        vertical-align: top;\n    }\n\n    .dataframe thead th {\n        text-align: right;\n    }\n</style>\n<table border=\"1\" class=\"dataframe\">\n  <thead>\n    <tr style=\"text-align: right;\">\n      <th></th>\n      <th>reb_giro</th>\n      <th>nomea</th>\n      <th>COMPRAC</th>\n      <th>RGVACA</th>\n      <th>nomep</th>\n      <th>GSPAI</th>\n      <th>RGPAI</th>\n      <th>nomem</th>\n      <th>GSMAE</th>\n      <th>RGMAE</th>\n      <th>...</th>\n      <th>rac</th>\n      <th>nordc</th>\n      <th>rebanoe</th>\n      <th>ordem</th>\n      <th>gs</th>\n      <th>sexo</th>\n      <th>cod_prod</th>\n      <th>cod_pai</th>\n      <th>cod_mae</th>\n      <th>reb</th>\n    </tr>\n  </thead>\n  <tbody>\n    <tr>\n      <th>0</th>\n      <td>6029</td>\n      <td>DEMASIA FR RECREIO</td>\n      <td>14</td>\n      <td>0869-T</td>\n      <td>JAGUAR TE DO GAVIAO</td>\n      <td>11</td>\n      <td>GAV291</td>\n      <td>ERMELINDA MERGULHAO</td>\n      <td>12</td>\n      <td>AD-1407</td>\n      <td>...</td>\n      <td>2</td>\n      <td>2</td>\n      <td>60292021122</td>\n      <td>NaN</td>\n      <td>2</td>\n      <td>F</td>\n      <td>NaN</td>\n      <td>4176523.0</td>\n      <td>NaN</td>\n      <td>31365-ABCZ</td>\n    </tr>\n    <tr>\n      <th>1</th>\n      <td>7450</td>\n      <td>JACA JAYZ SJ LALU</td>\n      <td>34</td>\n      <td>6411-AH</td>\n      <td>HORNLAND JAYZ-ET</td>\n      <td>10</td>\n      <td>AX118150</td>\n      <td>GAYA FIV SANSAO SJ LALU</td>\n      <td>12</td>\n      <td>1898-P</td>\n      <td>...</td>\n      <td>3</td>\n      <td>2</td>\n      <td>74502020132</td>\n      <td>NaN</td>\n      <td>6</td>\n      <td>F</td>\n      <td>NaN</td>\n      <td>NaN</td>\n      <td>NaN</td>\n      <td>7450-GIRO</td>\n    </tr>\n    <tr>\n      <th>2</th>\n      <td>3304</td>\n      <td>CAITA OCIDENTE MJP DA CAPELA P</td>\n      <td>12</td>\n      <td>8634-X</td>\n      <td>OCIDENTE BEM FEITOR CAL</td>\n      <td>11</td>\n      <td>CAL4605</td>\n      <td>MARINA DA CAPELA PAIVA</td>\n      <td>10</td>\n      <td>A-3096</td>\n      <td>...</td>\n      <td>2</td>\n      <td>2</td>\n      <td>33042020122</td>\n      <td>NaN</td>\n      <td>4</td>\n      <td>F</td>\n      <td>NaN</td>\n      <td>3287666.0</td>\n      <td>NaN</td>\n      <td>3304-GIRO</td>\n    </tr>\n    <tr>\n      <th>4</th>\n      <td>5569</td>\n      <td>LONDRINA GENGIS KHAN RECANTO D</td>\n      <td>12</td>\n      <td>0021-AW</td>\n      <td>GENGIS KHAN DE BRASILIA</td>\n      <td>11</td>\n      <td>RRP6097</td>\n      <td>MEARA JUDITH GOLDWYN BELLA-TE</td>\n      <td>10</td>\n      <td>BX410396</td>\n      <td>...</td>\n      <td>2</td>\n      <td>2</td>\n      <td>55692021222</td>\n      <td>NaN</td>\n      <td>4</td>\n      <td>F</td>\n      <td>NaN</td>\n      <td>9265878.0</td>\n      <td>NaN</td>\n      <td>5569-GIRO</td>\n    </tr>\n    <tr>\n      <th>5</th>\n      <td>5569</td>\n      <td>BABALU METEORO DO MORRO</td>\n      <td>38</td>\n      <td>0148-AK</td>\n      <td>METEORO DE BRASILIA</td>\n      <td>11</td>\n      <td>B5226</td>\n      <td>SEGUNDA DO MORRO</td>\n      <td>34</td>\n      <td>7468-T</td>\n      <td>...</td>\n      <td>2</td>\n      <td>2</td>\n      <td>55692021222</td>\n      <td>NaN</td>\n      <td>3</td>\n      <td>F</td>\n      <td>NaN</td>\n      <td>2225848.0</td>\n      <td>NaN</td>\n      <td>5569-GIRO</td>\n    </tr>\n    <tr>\n      <th>...</th>\n      <td>...</td>\n      <td>...</td>\n      <td>...</td>\n      <td>...</td>\n      <td>...</td>\n      <td>...</td>\n      <td>...</td>\n      <td>...</td>\n      <td>...</td>\n      <td>...</td>\n      <td>...</td>\n      <td>...</td>\n      <td>...</td>\n      <td>...</td>\n      <td>...</td>\n      <td>...</td>\n      <td>...</td>\n      <td>...</td>\n      <td>...</td>\n      <td>...</td>\n      <td>...</td>\n    </tr>\n    <tr>\n      <th>680</th>\n      <td>1129</td>\n      <td>MORADIA ANGICO</td>\n      <td>7</td>\n      <td>9556-F</td>\n      <td>VALE OURO DE BRASILIA</td>\n      <td>11</td>\n      <td>A6796</td>\n      <td>CABANA ANGICO</td>\n      <td>78</td>\n      <td>1606</td>\n      <td>...</td>\n      <td>2</td>\n      <td>2</td>\n      <td>11292021222</td>\n      <td>NaN</td>\n      <td>4</td>\n      <td>F</td>\n      <td>NaN</td>\n      <td>1351076.0</td>\n      <td>NaN</td>\n      <td>52721</td>\n    </tr>\n    <tr>\n      <th>681</th>\n      <td>2381</td>\n      <td>CLASSICA OCIDENTE JM NOVO HORI</td>\n      <td>14</td>\n      <td>5193-AE</td>\n      <td>OCIDENTE BEM FEITOR CAL</td>\n      <td>11</td>\n      <td>CAL4605</td>\n      <td>CINDERELA MODELO JM NOVO HORIZ</td>\n      <td>12</td>\n      <td>AF-2652</td>\n      <td>...</td>\n      <td>2</td>\n      <td>2</td>\n      <td>23812020122</td>\n      <td>NaN</td>\n      <td>2</td>\n      <td>F</td>\n      <td>NaN</td>\n      <td>3287666.0</td>\n      <td>NaN</td>\n      <td>31300-ABCZ</td>\n    </tr>\n    <tr>\n      <th>684</th>\n      <td>5569</td>\n      <td>GABI FIV VALE OURO EVD</td>\n      <td>14</td>\n      <td>4417-AT</td>\n      <td>VALE OURO TE SILVANIA</td>\n      <td>11</td>\n      <td>EFC464</td>\n      <td>LAMBADA DRAMATIC SANTA LUZIA</td>\n      <td>12</td>\n      <td>AG-0944</td>\n      <td>...</td>\n      <td>2</td>\n      <td>2</td>\n      <td>55692020122</td>\n      <td>NaN</td>\n      <td>2</td>\n      <td>F</td>\n      <td>NaN</td>\n      <td>3890526.0</td>\n      <td>NaN</td>\n      <td>5569-GIRO</td>\n    </tr>\n    <tr>\n      <th>685</th>\n      <td>6029</td>\n      <td>DUNCAN FR RECREIO</td>\n      <td>14</td>\n      <td>0928-T</td>\n      <td>JAGUAR TE DO GAVIAO</td>\n      <td>11</td>\n      <td>GAV291</td>\n      <td>NILOPOLIS FR RECREIO</td>\n      <td>12</td>\n      <td>AB-0524</td>\n      <td>...</td>\n      <td>2</td>\n      <td>2</td>\n      <td>60292021222</td>\n      <td>NaN</td>\n      <td>2</td>\n      <td>F</td>\n      <td>NaN</td>\n      <td>4176523.0</td>\n      <td>NaN</td>\n      <td>31365-ABCZ</td>\n    </tr>\n    <tr>\n      <th>686</th>\n      <td>83436</td>\n      <td>LINDA SJ LALU</td>\n      <td>34</td>\n      <td>2734-BK</td>\n      <td>0</td>\n      <td>0</td>\n      <td>0</td>\n      <td>0</td>\n      <td>0</td>\n      <td>0</td>\n      <td>...</td>\n      <td>3</td>\n      <td>2</td>\n      <td>834362021232</td>\n      <td>NaN</td>\n      <td>6</td>\n      <td>F</td>\n      <td>NaN</td>\n      <td>NaN</td>\n      <td>NaN</td>\n      <td>83436-GIRO</td>\n    </tr>\n  </tbody>\n</table>\n<p>417 rows × 50 columns</p>\n</div>"
     },
     "execution_count": 84,
     "metadata": {},
     "output_type": "execute_result"
    }
   ],
   "source": [
    "df_animais_com_ID = pd.merge(df_dados_novos_para_insercao_no_banco_de_dados, dados_2022, on =['IDANIMAL'], suffixes=('', '_drop'))\n",
    "df_animais_com_ID = df_animais_com_ID.drop(df_animais_com_ID.filter(regex='_drop$').columns, axis=1)\n",
    "df_animais_com_ID = df_animais_com_ID.drop_duplicates()\n",
    "df_animais_com_ID"
   ],
   "metadata": {
    "collapsed": false
   }
  },
  {
   "cell_type": "markdown",
   "source": [
    "## Pegando da tabela de animais que serão inseridos no banco, todos aqueles que não possuem IDANIMAL cadastrado\n",
    "comparado ao dataframe dados_2022"
   ],
   "metadata": {
    "collapsed": false
   }
  },
  {
   "cell_type": "code",
   "execution_count": 85,
   "outputs": [],
   "source": [
    "df_animais_sem_id = pd.merge(df_dados_novos_para_insercao_no_banco_de_dados, dados_2022, on='IDANIMAL', how='left', indicator=True, suffixes=('', '_drop'))\n",
    "df_animais_sem_id = df_animais_sem_id.drop(df_animais_sem_id.filter(regex='_drop$').columns, axis=1)\n",
    "df_animais_sem_id = df_animais_sem_id[df_animais_sem_id['_merge'] == 'left_only'].drop(columns='_merge')\n",
    "#df_animais_sem_id"
   ],
   "metadata": {
    "collapsed": false
   }
  },
  {
   "cell_type": "code",
   "execution_count": 86,
   "outputs": [],
   "source": [
    "#dados_2022[dados_2022['IDANIMAL'] == 1631099]\n",
    "#df_verificando_animais_com_id_na_genealogia_embrapa['IDANIMAL'].value_counts()\n",
    "#verifica_reb = df_verificando_animais_com_id_na_genealogia_embrapa.groupby('IDANIMAL')['id_produto'].nunique()\n",
    "#verifica_reb"
   ],
   "metadata": {
    "collapsed": false
   }
  },
  {
   "cell_type": "markdown",
   "source": [
    "# Adicionando a coluna id_produto ao dataframe df_animais_com_ID"
   ],
   "metadata": {
    "collapsed": false
   }
  },
  {
   "cell_type": "code",
   "execution_count": 87,
   "outputs": [],
   "source": [
    "df_genealogia_embrapa['IDANIMAL'] = df_genealogia_embrapa['IDANIMAL'].astype('int')\n",
    "df_animais_com_ID = pd.merge(df_animais_com_ID, df_genealogia_embrapa[['IDANIMAL', 'id_produto']], on='IDANIMAL', how='left', indicator=True)\n",
    "df_animais_com_ID = df_animais_com_ID.drop_duplicates()\n",
    "df_animais_com_ID = df_animais_com_ID.drop(columns='_merge')\n",
    "#df_animais_com_ID"
   ],
   "metadata": {
    "collapsed": false
   }
  },
  {
   "cell_type": "markdown",
   "source": [
    "## Lista de animais do dataframe sem ID em relacao a dados_2022 e que possuem ID_animal no dataframe da genealogia_Embrapa\n",
    "Obs: Tem que ter ID_produto"
   ],
   "metadata": {
    "collapsed": false
   }
  },
  {
   "cell_type": "code",
   "execution_count": 88,
   "outputs": [],
   "source": [
    "df_animais_sem_id = df_animais_sem_id.add_suffix('_esq')\n",
    "df_genealogia_embrapa = df_genealogia_embrapa.add_suffix('_dir')\n",
    "\n",
    "df_animais_sem_id_2022_que_possuem_id_no_banco = pd.merge(df_animais_sem_id, df_genealogia_embrapa, left_on=['IDANIMAL_esq'], right_on=['IDANIMAL_dir'], how='left', indicator=True)\n",
    "df_animais_sem_id_2022_que_possuem_id_no_banco = df_animais_sem_id_2022_que_possuem_id_no_banco.drop_duplicates()\n",
    "df_animais_sem_id_2022_que_possuem_id_no_banco = df_animais_sem_id_2022_que_possuem_id_no_banco.drop(df_animais_sem_id_2022_que_possuem_id_no_banco.filter(regex='_drop$').columns, axis=1)\n",
    "df_animais_sem_id_2022_que_possuem_id_no_banco = df_animais_sem_id_2022_que_possuem_id_no_banco[df_animais_sem_id_2022_que_possuem_id_no_banco['_merge'] == 'both']\n",
    "\n",
    "# dropa as colunas que não são necessárias\n",
    "df_animais_sem_id_2022_que_possuem_id_no_banco = df_animais_sem_id_2022_que_possuem_id_no_banco.drop(df_animais_sem_id_2022_que_possuem_id_no_banco.filter(regex='_dir').columns.difference(['id_produto_dir']), axis=1)\n",
    "df_animais_sem_id_2022_que_possuem_id_no_banco = df_animais_sem_id_2022_que_possuem_id_no_banco.rename(columns=lambda x: x.replace('_esq', '') if '_esq' in x else x)\n",
    "df_animais_sem_id_2022_que_possuem_id_no_banco = df_animais_sem_id_2022_que_possuem_id_no_banco.rename(columns=lambda x: x.replace('_dir', '') if '_dir' in x else x)\n",
    "df_animais_sem_id_2022_que_possuem_id_no_banco.drop(columns='_merge')\n",
    "df_animais_sem_id_2022_que_possuem_id_no_banco = df_animais_sem_id_2022_que_possuem_id_no_banco.drop(columns='_merge')\n",
    "#df_animais_sem_id_2022_que_possuem_id_no_banco"
   ],
   "metadata": {
    "collapsed": false
   }
  },
  {
   "cell_type": "markdown",
   "source": [
    "# Atualizando lista de animais que possuem ID encontrado"
   ],
   "metadata": {
    "collapsed": false
   }
  },
  {
   "cell_type": "code",
   "execution_count": 89,
   "outputs": [],
   "source": [
    "# Juntando os dataframes\n",
    "df_animais_com_ID = pd.concat([df_animais_com_ID, df_animais_sem_id_2022_que_possuem_id_no_banco])\n",
    "#df_animais_com_ID"
   ],
   "metadata": {
    "collapsed": false
   }
  },
  {
   "cell_type": "markdown",
   "source": [
    "# Atualizando lista de animais sem ID"
   ],
   "metadata": {
    "collapsed": false
   }
  },
  {
   "cell_type": "code",
   "execution_count": 90,
   "outputs": [],
   "source": [
    "#Tirando o sufixo da tabela\n",
    "df_animais_sem_id = df_animais_sem_id.rename(columns=lambda x: x.replace('_esq', '') if '_esq' in x else x)\n",
    "# Imprimir o resultado\n",
    "df_animais_sem_id = pd.merge(df_animais_sem_id, df_animais_com_ID, on=['IDANIMAL'], how='left', indicator=True, suffixes=('', '_drop'))\n",
    "df_animais_sem_id = df_animais_sem_id.drop(df_animais_sem_id.filter(regex='_drop$').columns, axis=1)\n",
    "# Seleciona apenas as linhas que possuem valores nulos na coluna \"id_produto\"\n",
    "df_animais_sem_id = df_animais_sem_id[df_animais_sem_id['id_produto'].isnull()]\n",
    "df_animais_sem_id = df_animais_sem_id.drop(columns='_merge')\n",
    "#df_animais_sem_id"
   ],
   "metadata": {
    "collapsed": false
   }
  },
  {
   "cell_type": "markdown",
   "source": [
    "# Fazendo busca no dataframe producao para encontrar id_produto dos animais sem id\n",
    "conferir manualmente se entram ou não no banco"
   ],
   "metadata": {
    "collapsed": false
   }
  },
  {
   "cell_type": "code",
   "execution_count": 91,
   "outputs": [
    {
     "data": {
      "text/plain": "     reb_giro                           nomea  COMPRAC    RGVACA  \\\n216     11818               BACANA CABO VERDE       11  JCVL2511   \n388      2381  GALENA FABULOSO JM NOVO HORIZO       38   7020-BC   \n459      2381  FANTASIA FABULOSO JM NOVO HORI       38   4896-AZ   \n\n                nomep  GSPAI   RGPAI                            nomem  GSMAE  \\\n216  GABEIRA GIROESTE     11  LUF182               VISCAYA CABO VERDE     11   \n388  FABULOSO DO BASA     11  BASP63   ALVORADA 122 JM NOVO HORIZONTE     34   \n459  FABULOSO DO BASA     11  BASP63  NOVIAA I FIV GOLDEN JM NOVO HO     34   \n\n        RGMAE  ...       rebanoe  ordem  gs sexo    cod_prod     cod_pai  \\\n216  JCVL1482  ...  118182021232    NaN   0    F  16530248.0   9518703.0   \n388   2686-AG  ...   23812021222    NaN   3    F         NaN  10796351.0   \n459    3673-U  ...   23812021222    NaN   3    F         NaN  10796351.0   \n\n        cod_mae         reb  nome10caracteres  id_produto  \n216  13499194.0  39977-ABCZ        BACANACABO    JCVL2511  \n388         NaN  31300-ABCZ        GALENAFABU      216096  \n459         NaN  31300-ABCZ        FANTASIAFA      216094  \n\n[3 rows x 52 columns]",
      "text/html": "<div>\n<style scoped>\n    .dataframe tbody tr th:only-of-type {\n        vertical-align: middle;\n    }\n\n    .dataframe tbody tr th {\n        vertical-align: top;\n    }\n\n    .dataframe thead th {\n        text-align: right;\n    }\n</style>\n<table border=\"1\" class=\"dataframe\">\n  <thead>\n    <tr style=\"text-align: right;\">\n      <th></th>\n      <th>reb_giro</th>\n      <th>nomea</th>\n      <th>COMPRAC</th>\n      <th>RGVACA</th>\n      <th>nomep</th>\n      <th>GSPAI</th>\n      <th>RGPAI</th>\n      <th>nomem</th>\n      <th>GSMAE</th>\n      <th>RGMAE</th>\n      <th>...</th>\n      <th>rebanoe</th>\n      <th>ordem</th>\n      <th>gs</th>\n      <th>sexo</th>\n      <th>cod_prod</th>\n      <th>cod_pai</th>\n      <th>cod_mae</th>\n      <th>reb</th>\n      <th>nome10caracteres</th>\n      <th>id_produto</th>\n    </tr>\n  </thead>\n  <tbody>\n    <tr>\n      <th>216</th>\n      <td>11818</td>\n      <td>BACANA CABO VERDE</td>\n      <td>11</td>\n      <td>JCVL2511</td>\n      <td>GABEIRA GIROESTE</td>\n      <td>11</td>\n      <td>LUF182</td>\n      <td>VISCAYA CABO VERDE</td>\n      <td>11</td>\n      <td>JCVL1482</td>\n      <td>...</td>\n      <td>118182021232</td>\n      <td>NaN</td>\n      <td>0</td>\n      <td>F</td>\n      <td>16530248.0</td>\n      <td>9518703.0</td>\n      <td>13499194.0</td>\n      <td>39977-ABCZ</td>\n      <td>BACANACABO</td>\n      <td>JCVL2511</td>\n    </tr>\n    <tr>\n      <th>388</th>\n      <td>2381</td>\n      <td>GALENA FABULOSO JM NOVO HORIZO</td>\n      <td>38</td>\n      <td>7020-BC</td>\n      <td>FABULOSO DO BASA</td>\n      <td>11</td>\n      <td>BASP63</td>\n      <td>ALVORADA 122 JM NOVO HORIZONTE</td>\n      <td>34</td>\n      <td>2686-AG</td>\n      <td>...</td>\n      <td>23812021222</td>\n      <td>NaN</td>\n      <td>3</td>\n      <td>F</td>\n      <td>NaN</td>\n      <td>10796351.0</td>\n      <td>NaN</td>\n      <td>31300-ABCZ</td>\n      <td>GALENAFABU</td>\n      <td>216096</td>\n    </tr>\n    <tr>\n      <th>459</th>\n      <td>2381</td>\n      <td>FANTASIA FABULOSO JM NOVO HORI</td>\n      <td>38</td>\n      <td>4896-AZ</td>\n      <td>FABULOSO DO BASA</td>\n      <td>11</td>\n      <td>BASP63</td>\n      <td>NOVIAA I FIV GOLDEN JM NOVO HO</td>\n      <td>34</td>\n      <td>3673-U</td>\n      <td>...</td>\n      <td>23812021222</td>\n      <td>NaN</td>\n      <td>3</td>\n      <td>F</td>\n      <td>NaN</td>\n      <td>10796351.0</td>\n      <td>NaN</td>\n      <td>31300-ABCZ</td>\n      <td>FANTASIAFA</td>\n      <td>216094</td>\n    </tr>\n  </tbody>\n</table>\n<p>3 rows × 52 columns</p>\n</div>"
     },
     "execution_count": 91,
     "metadata": {},
     "output_type": "execute_result"
    }
   ],
   "source": [
    "#Criando coluna com o ano de parto e mes parto no dataframe df_producao\n",
    "df_producao['parto'] = df_producao['parto'].astype(str)\n",
    "df_producao['AP'] = df_producao['parto'].str.slice(start=0, stop=4)\n",
    "df_producao['MP'] = df_producao['parto'].str.slice(start=5, stop=7)\n",
    "#Pegando os 10 primeiros caracteres de nome dos dataframes aniamis sem id e producao\n",
    "df_producao['nome10caracteres'] = df_producao['nome'].str.slice(start=0, stop=11)\n",
    "df_animais_sem_id['nome10caracteres'] = df_animais_sem_id['nomea'].str.slice(start=0, stop=11)\n",
    "#removendo os espacos em branco das celulas\n",
    "df_producao['nome10caracteres'] = df_producao['nome10caracteres'].str.replace('\\s+', '', regex=True)\n",
    "df_animais_sem_id['nome10caracteres'] = df_animais_sem_id['nome10caracteres'].str.replace('\\s+', '', regex=True)\n",
    "\n",
    "df_animais_sem_id = df_animais_sem_id.drop(df_animais_sem_id.filter(regex='_drop$').columns, axis=1)\n",
    "df_producao = df_producao.drop(df_producao.filter(regex='_drop$').columns, axis=1)\n",
    "\n",
    "df_producao['AP'] = df_producao['AP'].astype(int)\n",
    "df_producao['MP'] = df_producao['MP'].astype(int)\n",
    "df_animais_sem_id['AP'] = df_animais_sem_id['AP'].astype(int)\n",
    "df_animais_sem_id['MP'] = df_animais_sem_id['MP'].astype(int)\n",
    "df_animais_com_id_na_producao = pd.merge(df_animais_sem_id, df_producao[['reb','AP', 'MP', 'nome10caracteres','id_produto']], on=['reb', 'AP', 'MP', 'nome10caracteres'], how='left', indicator=True, suffixes=('', '_drop'))\n",
    "df_animais_com_id_na_producao = df_animais_com_id_na_producao[df_animais_com_id_na_producao['_merge'] == 'both']\n",
    "df_animais_com_id_na_producao = df_animais_com_id_na_producao.drop(columns={'_merge', 'id_produto'})\n",
    "df_animais_com_id_na_producao = df_animais_com_id_na_producao.rename(columns={'id_produto_drop': 'id_produto'})\n",
    "df_animais_com_id_na_producao"
   ],
   "metadata": {
    "collapsed": false
   }
  },
  {
   "cell_type": "markdown",
   "source": [
    "# Atualizando animais com id com os novos ids_produtos encontrados no dataframe de producao"
   ],
   "metadata": {
    "collapsed": false
   }
  },
  {
   "cell_type": "code",
   "execution_count": 92,
   "outputs": [
    {
     "data": {
      "text/plain": "     reb_giro                           nomea  COMPRAC    RGVACA  \\\n0        6029              DEMASIA FR RECREIO       14    0869-T   \n1        7450               JACA JAYZ SJ LALU       34   6411-AH   \n2        3304  CAITA OCIDENTE MJP DA CAPELA P       12    8634-X   \n3        5569  LONDRINA GENGIS KHAN RECANTO D       12   0021-AW   \n4        5569         BABALU METEORO DO MORRO       38   0148-AK   \n..        ...                             ...      ...       ...   \n569      6029                GRUTA FR RECREIO       12   4847-BG   \n591      1945           ABAMA 2 FIV M. VERDE        11  ISPG1286   \n216     11818               BACANA CABO VERDE       11  JCVL2511   \n388      2381  GALENA FABULOSO JM NOVO HORIZO       38   7020-BC   \n459      2381  FANTASIA FABULOSO JM NOVO HORI       38   4896-AZ   \n\n                       nomep  GSPAI     RGPAI  \\\n0       JAGUAR TE DO GAVIAO     11    GAV291   \n1           HORNLAND JAYZ-ET     10  AX118150   \n2    OCIDENTE BEM FEITOR CAL     11   CAL4605   \n3    GENGIS KHAN DE BRASILIA     11   RRP6097   \n4        METEORO DE BRASILIA     11     B5226   \n..                       ...    ...       ...   \n569                        0      0         0   \n591             C.A.SANSAO      11    KCA472   \n216         GABEIRA GIROESTE     11    LUF182   \n388         FABULOSO DO BASA     11    BASP63   \n459         FABULOSO DO BASA     11    BASP63   \n\n                               nomem  GSMAE     RGMAE  ...       rebanoe  \\\n0               ERMELINDA MERGULHAO      12   AD-1407  ...   60292021122   \n1            GAYA FIV SANSAO SJ LALU     12    1898-P  ...   74502020132   \n2             MARINA DA CAPELA PAIVA     10    A-3096  ...   33042020122   \n3      MEARA JUDITH GOLDWYN BELLA-TE     10  BX410396  ...   55692021222   \n4                   SEGUNDA DO MORRO     34    7468-T  ...   55692021222   \n..                               ...    ...       ...  ...           ...   \n569                                0      0         0  ...   60292021222   \n591               ABAMA TE DE KUBERA     11    ACFG80  ...   19452021222   \n216               VISCAYA CABO VERDE     11  JCVL1482  ...  118182021232   \n388   ALVORADA 122 JM NOVO HORIZONTE     34   2686-AG  ...   23812021222   \n459  NOVIAA I FIV GOLDEN JM NOVO HO     34    3673-U  ...   23812021222   \n\n     ordem  gs sexo    cod_prod     cod_pai     cod_mae         reb  \\\n0      NaN   2    F         NaN   4176523.0         NaN  31365-ABCZ   \n1      NaN   6    F         NaN         NaN         NaN   7450-GIRO   \n2      NaN   4    F         NaN   3287666.0         NaN   3304-GIRO   \n3      NaN   4    F         NaN   9265878.0         NaN   5569-GIRO   \n4      NaN   3    F         NaN   2225848.0         NaN   5569-GIRO   \n..     ...  ..  ...         ...         ...         ...         ...   \n569    NaN   4    F         NaN         NaN         NaN  31365-ABCZ   \n591    NaN   0    F  11869706.0   2730835.0   3332560.0  37634-ABCZ   \n216    NaN   0    F  16530248.0   9518703.0  13499194.0  39977-ABCZ   \n388    NaN   3    F         NaN  10796351.0         NaN  31300-ABCZ   \n459    NaN   3    F         NaN  10796351.0         NaN  31300-ABCZ   \n\n      id_produto  nome10caracteres  \n0    GIRO1383626               NaN  \n1    GIRO1608903               NaN  \n2    GIRO1215331               NaN  \n3    GIRO2022656               NaN  \n4    GIRO1653303               NaN  \n..           ...               ...  \n569       214852               NaN  \n591     ISPG1286               NaN  \n216     JCVL2511        BACANACABO  \n388       216096        GALENAFABU  \n459       216094        FANTASIAFA  \n\n[462 rows x 52 columns]",
      "text/html": "<div>\n<style scoped>\n    .dataframe tbody tr th:only-of-type {\n        vertical-align: middle;\n    }\n\n    .dataframe tbody tr th {\n        vertical-align: top;\n    }\n\n    .dataframe thead th {\n        text-align: right;\n    }\n</style>\n<table border=\"1\" class=\"dataframe\">\n  <thead>\n    <tr style=\"text-align: right;\">\n      <th></th>\n      <th>reb_giro</th>\n      <th>nomea</th>\n      <th>COMPRAC</th>\n      <th>RGVACA</th>\n      <th>nomep</th>\n      <th>GSPAI</th>\n      <th>RGPAI</th>\n      <th>nomem</th>\n      <th>GSMAE</th>\n      <th>RGMAE</th>\n      <th>...</th>\n      <th>rebanoe</th>\n      <th>ordem</th>\n      <th>gs</th>\n      <th>sexo</th>\n      <th>cod_prod</th>\n      <th>cod_pai</th>\n      <th>cod_mae</th>\n      <th>reb</th>\n      <th>id_produto</th>\n      <th>nome10caracteres</th>\n    </tr>\n  </thead>\n  <tbody>\n    <tr>\n      <th>0</th>\n      <td>6029</td>\n      <td>DEMASIA FR RECREIO</td>\n      <td>14</td>\n      <td>0869-T</td>\n      <td>JAGUAR TE DO GAVIAO</td>\n      <td>11</td>\n      <td>GAV291</td>\n      <td>ERMELINDA MERGULHAO</td>\n      <td>12</td>\n      <td>AD-1407</td>\n      <td>...</td>\n      <td>60292021122</td>\n      <td>NaN</td>\n      <td>2</td>\n      <td>F</td>\n      <td>NaN</td>\n      <td>4176523.0</td>\n      <td>NaN</td>\n      <td>31365-ABCZ</td>\n      <td>GIRO1383626</td>\n      <td>NaN</td>\n    </tr>\n    <tr>\n      <th>1</th>\n      <td>7450</td>\n      <td>JACA JAYZ SJ LALU</td>\n      <td>34</td>\n      <td>6411-AH</td>\n      <td>HORNLAND JAYZ-ET</td>\n      <td>10</td>\n      <td>AX118150</td>\n      <td>GAYA FIV SANSAO SJ LALU</td>\n      <td>12</td>\n      <td>1898-P</td>\n      <td>...</td>\n      <td>74502020132</td>\n      <td>NaN</td>\n      <td>6</td>\n      <td>F</td>\n      <td>NaN</td>\n      <td>NaN</td>\n      <td>NaN</td>\n      <td>7450-GIRO</td>\n      <td>GIRO1608903</td>\n      <td>NaN</td>\n    </tr>\n    <tr>\n      <th>2</th>\n      <td>3304</td>\n      <td>CAITA OCIDENTE MJP DA CAPELA P</td>\n      <td>12</td>\n      <td>8634-X</td>\n      <td>OCIDENTE BEM FEITOR CAL</td>\n      <td>11</td>\n      <td>CAL4605</td>\n      <td>MARINA DA CAPELA PAIVA</td>\n      <td>10</td>\n      <td>A-3096</td>\n      <td>...</td>\n      <td>33042020122</td>\n      <td>NaN</td>\n      <td>4</td>\n      <td>F</td>\n      <td>NaN</td>\n      <td>3287666.0</td>\n      <td>NaN</td>\n      <td>3304-GIRO</td>\n      <td>GIRO1215331</td>\n      <td>NaN</td>\n    </tr>\n    <tr>\n      <th>3</th>\n      <td>5569</td>\n      <td>LONDRINA GENGIS KHAN RECANTO D</td>\n      <td>12</td>\n      <td>0021-AW</td>\n      <td>GENGIS KHAN DE BRASILIA</td>\n      <td>11</td>\n      <td>RRP6097</td>\n      <td>MEARA JUDITH GOLDWYN BELLA-TE</td>\n      <td>10</td>\n      <td>BX410396</td>\n      <td>...</td>\n      <td>55692021222</td>\n      <td>NaN</td>\n      <td>4</td>\n      <td>F</td>\n      <td>NaN</td>\n      <td>9265878.0</td>\n      <td>NaN</td>\n      <td>5569-GIRO</td>\n      <td>GIRO2022656</td>\n      <td>NaN</td>\n    </tr>\n    <tr>\n      <th>4</th>\n      <td>5569</td>\n      <td>BABALU METEORO DO MORRO</td>\n      <td>38</td>\n      <td>0148-AK</td>\n      <td>METEORO DE BRASILIA</td>\n      <td>11</td>\n      <td>B5226</td>\n      <td>SEGUNDA DO MORRO</td>\n      <td>34</td>\n      <td>7468-T</td>\n      <td>...</td>\n      <td>55692021222</td>\n      <td>NaN</td>\n      <td>3</td>\n      <td>F</td>\n      <td>NaN</td>\n      <td>2225848.0</td>\n      <td>NaN</td>\n      <td>5569-GIRO</td>\n      <td>GIRO1653303</td>\n      <td>NaN</td>\n    </tr>\n    <tr>\n      <th>...</th>\n      <td>...</td>\n      <td>...</td>\n      <td>...</td>\n      <td>...</td>\n      <td>...</td>\n      <td>...</td>\n      <td>...</td>\n      <td>...</td>\n      <td>...</td>\n      <td>...</td>\n      <td>...</td>\n      <td>...</td>\n      <td>...</td>\n      <td>...</td>\n      <td>...</td>\n      <td>...</td>\n      <td>...</td>\n      <td>...</td>\n      <td>...</td>\n      <td>...</td>\n      <td>...</td>\n    </tr>\n    <tr>\n      <th>569</th>\n      <td>6029</td>\n      <td>GRUTA FR RECREIO</td>\n      <td>12</td>\n      <td>4847-BG</td>\n      <td>0</td>\n      <td>0</td>\n      <td>0</td>\n      <td>0</td>\n      <td>0</td>\n      <td>0</td>\n      <td>...</td>\n      <td>60292021222</td>\n      <td>NaN</td>\n      <td>4</td>\n      <td>F</td>\n      <td>NaN</td>\n      <td>NaN</td>\n      <td>NaN</td>\n      <td>31365-ABCZ</td>\n      <td>214852</td>\n      <td>NaN</td>\n    </tr>\n    <tr>\n      <th>591</th>\n      <td>1945</td>\n      <td>ABAMA 2 FIV M. VERDE</td>\n      <td>11</td>\n      <td>ISPG1286</td>\n      <td>C.A.SANSAO</td>\n      <td>11</td>\n      <td>KCA472</td>\n      <td>ABAMA TE DE KUBERA</td>\n      <td>11</td>\n      <td>ACFG80</td>\n      <td>...</td>\n      <td>19452021222</td>\n      <td>NaN</td>\n      <td>0</td>\n      <td>F</td>\n      <td>11869706.0</td>\n      <td>2730835.0</td>\n      <td>3332560.0</td>\n      <td>37634-ABCZ</td>\n      <td>ISPG1286</td>\n      <td>NaN</td>\n    </tr>\n    <tr>\n      <th>216</th>\n      <td>11818</td>\n      <td>BACANA CABO VERDE</td>\n      <td>11</td>\n      <td>JCVL2511</td>\n      <td>GABEIRA GIROESTE</td>\n      <td>11</td>\n      <td>LUF182</td>\n      <td>VISCAYA CABO VERDE</td>\n      <td>11</td>\n      <td>JCVL1482</td>\n      <td>...</td>\n      <td>118182021232</td>\n      <td>NaN</td>\n      <td>0</td>\n      <td>F</td>\n      <td>16530248.0</td>\n      <td>9518703.0</td>\n      <td>13499194.0</td>\n      <td>39977-ABCZ</td>\n      <td>JCVL2511</td>\n      <td>BACANACABO</td>\n    </tr>\n    <tr>\n      <th>388</th>\n      <td>2381</td>\n      <td>GALENA FABULOSO JM NOVO HORIZO</td>\n      <td>38</td>\n      <td>7020-BC</td>\n      <td>FABULOSO DO BASA</td>\n      <td>11</td>\n      <td>BASP63</td>\n      <td>ALVORADA 122 JM NOVO HORIZONTE</td>\n      <td>34</td>\n      <td>2686-AG</td>\n      <td>...</td>\n      <td>23812021222</td>\n      <td>NaN</td>\n      <td>3</td>\n      <td>F</td>\n      <td>NaN</td>\n      <td>10796351.0</td>\n      <td>NaN</td>\n      <td>31300-ABCZ</td>\n      <td>216096</td>\n      <td>GALENAFABU</td>\n    </tr>\n    <tr>\n      <th>459</th>\n      <td>2381</td>\n      <td>FANTASIA FABULOSO JM NOVO HORI</td>\n      <td>38</td>\n      <td>4896-AZ</td>\n      <td>FABULOSO DO BASA</td>\n      <td>11</td>\n      <td>BASP63</td>\n      <td>NOVIAA I FIV GOLDEN JM NOVO HO</td>\n      <td>34</td>\n      <td>3673-U</td>\n      <td>...</td>\n      <td>23812021222</td>\n      <td>NaN</td>\n      <td>3</td>\n      <td>F</td>\n      <td>NaN</td>\n      <td>10796351.0</td>\n      <td>NaN</td>\n      <td>31300-ABCZ</td>\n      <td>216094</td>\n      <td>FANTASIAFA</td>\n    </tr>\n  </tbody>\n</table>\n<p>462 rows × 52 columns</p>\n</div>"
     },
     "execution_count": 92,
     "metadata": {},
     "output_type": "execute_result"
    }
   ],
   "source": [
    "df_animais_com_ID = pd.concat([df_animais_com_ID, df_animais_com_id_na_producao])\n",
    "df_animais_com_ID"
   ],
   "metadata": {
    "collapsed": false
   }
  },
  {
   "cell_type": "markdown",
   "source": [
    "# Atualizando lista de animais sem id"
   ],
   "metadata": {
    "collapsed": false
   }
  },
  {
   "cell_type": "code",
   "execution_count": 93,
   "outputs": [
    {
     "data": {
      "text/plain": "     reb_giro                            nomea  COMPRAC    RGVACA  \\\n0        7461   NANA IMPERADOR BAXTER RF SAO F     5858   6353-AH   \n1       10639  LANAA FIV AFTERSHOCK BON.BELEM       12   9592-AG   \n2        6039   EDILAINE IMPERIO FIV 4303 JARD       12  AADA0352   \n3        1945             ARMA MERIDIAN DA MBL       12   1025-AN   \n4       73119   CELESTE 136 TEATRO FIV COOPERR       12   1239-BF   \n..        ...                              ...      ...       ...   \n578      1945   JPZ QUIRERA SHAMROCK ASTER FIV       12    4032-Z   \n579      2381   DALIA I FIV BRADLEY JM NOVO HO       12   4906-AZ   \n580       132        QUINTA I COLE AGM TRIUNFO       34   9243-AG   \n581      6915                  LIA DAS ARABIAS     5858   6125-BR   \n582      6029          GERMANA FEBO FR RECREIO     5858   9069-AS   \n\n                             nomep  GSPAI     RGPAI  \\\n0      IMPERADOR BAXTER VOLTA FRIA     58      1459   \n1    MS ATLEES SHT AFTERSHOCK - ET     10  AX129928   \n2           IMPERIO TE STA EDWIGES     11    RIG163   \n3           SULLY HART MERIDIAN-ET     10  AX138576   \n4               TEATRO DA SILVANIA     11    EFC383   \n..                             ...    ...       ...   \n578     LADYS-MANOR PL SHAMROCK-ET     10  AX135714   \n579               ROCKALLI BRADLEY     10  AX117720   \n580         CO-OP TOYSTORY COLE-ET     10  AX129567   \n581              TURBO DAS ARABIAS   5858      0079   \n582                FEBO FR RECREIO     58    6300-N   \n\n                             nomem  GSMAE         RGMAE  ...       rebanoe  \\\n0    JURITI HERBY RF SAO FRANCISCO     58        6877-N  ...   74612019122   \n1                 JOANE FIV KUBERA     11      ACFG1840  ...  106392021122   \n2    SERTEC QATAR FABIANA PROGRESS     10  HBB/B-291392  ...   60392020122   \n3                             FAMA     11        JNR167  ...   19452021222   \n4       LAGOS ASTRE QUIMICA 795 TE     10      BX335536  ...  731192021222   \n..                             ...    ...           ...  ...           ...   \n578                  JPZ ASTER FIV     11         JPZ64  ...   19452022222   \n579           DALIA NOVO HORIZONTE     11        JMCH76  ...   23812021222   \n580                   QUINTA FIV M     12        0473-O  ...    1322019222   \n581             LILIKA DAS ARABIAS     58       4916-AW  ...   69152021222   \n582            CAMPANHA FR RECREIO     58        6180-N  ...   60292019122   \n\n     ordem  gs sexo  cod_prod    cod_pai     cod_mae         reb  id_produto  \\\n0      NaN   5    F       NaN        NaN         NaN        1291         NaN   \n1      NaN   4    F       NaN        NaN   9513273.0  10639-GIRO         NaN   \n2      NaN   4    F       NaN  4320031.0         NaN         NaN         NaN   \n3      NaN   4    F       NaN        NaN  10621711.0  37634-ABCZ         NaN   \n4      NaN   4    F       NaN  3540404.0         NaN         NaN         NaN   \n..     ...  ..  ...       ...        ...         ...         ...         ...   \n578    NaN   4    F       NaN        NaN  11428022.0  37634-ABCZ         NaN   \n579    NaN   4    F       NaN        NaN  12866148.0  31300-ABCZ         NaN   \n580    NaN   6    F       NaN        NaN         NaN  31835-ABCZ         NaN   \n581    NaN   5    F       NaN        NaN         NaN  27729-ABCZ         NaN   \n582    NaN   5    F       NaN        NaN         NaN  31365-ABCZ         NaN   \n\n     nome10caracteres  \n0          NANAIMPERA  \n1           LANAAFIV  \n2          EDILAINEIM  \n3          ARMAMERIDI  \n4          CELESTE136  \n..                ...  \n578        JPZQUIRERA  \n579         DALIAIFIV  \n580         QUINTAICO  \n581         LIADASARA  \n582        GERMANAFEB  \n\n[580 rows x 52 columns]",
      "text/html": "<div>\n<style scoped>\n    .dataframe tbody tr th:only-of-type {\n        vertical-align: middle;\n    }\n\n    .dataframe tbody tr th {\n        vertical-align: top;\n    }\n\n    .dataframe thead th {\n        text-align: right;\n    }\n</style>\n<table border=\"1\" class=\"dataframe\">\n  <thead>\n    <tr style=\"text-align: right;\">\n      <th></th>\n      <th>reb_giro</th>\n      <th>nomea</th>\n      <th>COMPRAC</th>\n      <th>RGVACA</th>\n      <th>nomep</th>\n      <th>GSPAI</th>\n      <th>RGPAI</th>\n      <th>nomem</th>\n      <th>GSMAE</th>\n      <th>RGMAE</th>\n      <th>...</th>\n      <th>rebanoe</th>\n      <th>ordem</th>\n      <th>gs</th>\n      <th>sexo</th>\n      <th>cod_prod</th>\n      <th>cod_pai</th>\n      <th>cod_mae</th>\n      <th>reb</th>\n      <th>id_produto</th>\n      <th>nome10caracteres</th>\n    </tr>\n  </thead>\n  <tbody>\n    <tr>\n      <th>0</th>\n      <td>7461</td>\n      <td>NANA IMPERADOR BAXTER RF SAO F</td>\n      <td>5858</td>\n      <td>6353-AH</td>\n      <td>IMPERADOR BAXTER VOLTA FRIA</td>\n      <td>58</td>\n      <td>1459</td>\n      <td>JURITI HERBY RF SAO FRANCISCO</td>\n      <td>58</td>\n      <td>6877-N</td>\n      <td>...</td>\n      <td>74612019122</td>\n      <td>NaN</td>\n      <td>5</td>\n      <td>F</td>\n      <td>NaN</td>\n      <td>NaN</td>\n      <td>NaN</td>\n      <td>1291</td>\n      <td>NaN</td>\n      <td>NANAIMPERA</td>\n    </tr>\n    <tr>\n      <th>1</th>\n      <td>10639</td>\n      <td>LANAA FIV AFTERSHOCK BON.BELEM</td>\n      <td>12</td>\n      <td>9592-AG</td>\n      <td>MS ATLEES SHT AFTERSHOCK - ET</td>\n      <td>10</td>\n      <td>AX129928</td>\n      <td>JOANE FIV KUBERA</td>\n      <td>11</td>\n      <td>ACFG1840</td>\n      <td>...</td>\n      <td>106392021122</td>\n      <td>NaN</td>\n      <td>4</td>\n      <td>F</td>\n      <td>NaN</td>\n      <td>NaN</td>\n      <td>9513273.0</td>\n      <td>10639-GIRO</td>\n      <td>NaN</td>\n      <td>LANAAFIV</td>\n    </tr>\n    <tr>\n      <th>2</th>\n      <td>6039</td>\n      <td>EDILAINE IMPERIO FIV 4303 JARD</td>\n      <td>12</td>\n      <td>AADA0352</td>\n      <td>IMPERIO TE STA EDWIGES</td>\n      <td>11</td>\n      <td>RIG163</td>\n      <td>SERTEC QATAR FABIANA PROGRESS</td>\n      <td>10</td>\n      <td>HBB/B-291392</td>\n      <td>...</td>\n      <td>60392020122</td>\n      <td>NaN</td>\n      <td>4</td>\n      <td>F</td>\n      <td>NaN</td>\n      <td>4320031.0</td>\n      <td>NaN</td>\n      <td>NaN</td>\n      <td>NaN</td>\n      <td>EDILAINEIM</td>\n    </tr>\n    <tr>\n      <th>3</th>\n      <td>1945</td>\n      <td>ARMA MERIDIAN DA MBL</td>\n      <td>12</td>\n      <td>1025-AN</td>\n      <td>SULLY HART MERIDIAN-ET</td>\n      <td>10</td>\n      <td>AX138576</td>\n      <td>FAMA</td>\n      <td>11</td>\n      <td>JNR167</td>\n      <td>...</td>\n      <td>19452021222</td>\n      <td>NaN</td>\n      <td>4</td>\n      <td>F</td>\n      <td>NaN</td>\n      <td>NaN</td>\n      <td>10621711.0</td>\n      <td>37634-ABCZ</td>\n      <td>NaN</td>\n      <td>ARMAMERIDI</td>\n    </tr>\n    <tr>\n      <th>4</th>\n      <td>73119</td>\n      <td>CELESTE 136 TEATRO FIV COOPERR</td>\n      <td>12</td>\n      <td>1239-BF</td>\n      <td>TEATRO DA SILVANIA</td>\n      <td>11</td>\n      <td>EFC383</td>\n      <td>LAGOS ASTRE QUIMICA 795 TE</td>\n      <td>10</td>\n      <td>BX335536</td>\n      <td>...</td>\n      <td>731192021222</td>\n      <td>NaN</td>\n      <td>4</td>\n      <td>F</td>\n      <td>NaN</td>\n      <td>3540404.0</td>\n      <td>NaN</td>\n      <td>NaN</td>\n      <td>NaN</td>\n      <td>CELESTE136</td>\n    </tr>\n    <tr>\n      <th>...</th>\n      <td>...</td>\n      <td>...</td>\n      <td>...</td>\n      <td>...</td>\n      <td>...</td>\n      <td>...</td>\n      <td>...</td>\n      <td>...</td>\n      <td>...</td>\n      <td>...</td>\n      <td>...</td>\n      <td>...</td>\n      <td>...</td>\n      <td>...</td>\n      <td>...</td>\n      <td>...</td>\n      <td>...</td>\n      <td>...</td>\n      <td>...</td>\n      <td>...</td>\n      <td>...</td>\n    </tr>\n    <tr>\n      <th>578</th>\n      <td>1945</td>\n      <td>JPZ QUIRERA SHAMROCK ASTER FIV</td>\n      <td>12</td>\n      <td>4032-Z</td>\n      <td>LADYS-MANOR PL SHAMROCK-ET</td>\n      <td>10</td>\n      <td>AX135714</td>\n      <td>JPZ ASTER FIV</td>\n      <td>11</td>\n      <td>JPZ64</td>\n      <td>...</td>\n      <td>19452022222</td>\n      <td>NaN</td>\n      <td>4</td>\n      <td>F</td>\n      <td>NaN</td>\n      <td>NaN</td>\n      <td>11428022.0</td>\n      <td>37634-ABCZ</td>\n      <td>NaN</td>\n      <td>JPZQUIRERA</td>\n    </tr>\n    <tr>\n      <th>579</th>\n      <td>2381</td>\n      <td>DALIA I FIV BRADLEY JM NOVO HO</td>\n      <td>12</td>\n      <td>4906-AZ</td>\n      <td>ROCKALLI BRADLEY</td>\n      <td>10</td>\n      <td>AX117720</td>\n      <td>DALIA NOVO HORIZONTE</td>\n      <td>11</td>\n      <td>JMCH76</td>\n      <td>...</td>\n      <td>23812021222</td>\n      <td>NaN</td>\n      <td>4</td>\n      <td>F</td>\n      <td>NaN</td>\n      <td>NaN</td>\n      <td>12866148.0</td>\n      <td>31300-ABCZ</td>\n      <td>NaN</td>\n      <td>DALIAIFIV</td>\n    </tr>\n    <tr>\n      <th>580</th>\n      <td>132</td>\n      <td>QUINTA I COLE AGM TRIUNFO</td>\n      <td>34</td>\n      <td>9243-AG</td>\n      <td>CO-OP TOYSTORY COLE-ET</td>\n      <td>10</td>\n      <td>AX129567</td>\n      <td>QUINTA FIV M</td>\n      <td>12</td>\n      <td>0473-O</td>\n      <td>...</td>\n      <td>1322019222</td>\n      <td>NaN</td>\n      <td>6</td>\n      <td>F</td>\n      <td>NaN</td>\n      <td>NaN</td>\n      <td>NaN</td>\n      <td>31835-ABCZ</td>\n      <td>NaN</td>\n      <td>QUINTAICO</td>\n    </tr>\n    <tr>\n      <th>581</th>\n      <td>6915</td>\n      <td>LIA DAS ARABIAS</td>\n      <td>5858</td>\n      <td>6125-BR</td>\n      <td>TURBO DAS ARABIAS</td>\n      <td>5858</td>\n      <td>0079</td>\n      <td>LILIKA DAS ARABIAS</td>\n      <td>58</td>\n      <td>4916-AW</td>\n      <td>...</td>\n      <td>69152021222</td>\n      <td>NaN</td>\n      <td>5</td>\n      <td>F</td>\n      <td>NaN</td>\n      <td>NaN</td>\n      <td>NaN</td>\n      <td>27729-ABCZ</td>\n      <td>NaN</td>\n      <td>LIADASARA</td>\n    </tr>\n    <tr>\n      <th>582</th>\n      <td>6029</td>\n      <td>GERMANA FEBO FR RECREIO</td>\n      <td>5858</td>\n      <td>9069-AS</td>\n      <td>FEBO FR RECREIO</td>\n      <td>58</td>\n      <td>6300-N</td>\n      <td>CAMPANHA FR RECREIO</td>\n      <td>58</td>\n      <td>6180-N</td>\n      <td>...</td>\n      <td>60292019122</td>\n      <td>NaN</td>\n      <td>5</td>\n      <td>F</td>\n      <td>NaN</td>\n      <td>NaN</td>\n      <td>NaN</td>\n      <td>31365-ABCZ</td>\n      <td>NaN</td>\n      <td>GERMANAFEB</td>\n    </tr>\n  </tbody>\n</table>\n<p>580 rows × 52 columns</p>\n</div>"
     },
     "execution_count": 93,
     "metadata": {},
     "output_type": "execute_result"
    }
   ],
   "source": [
    "df_animais_sem_id = pd.merge(df_animais_sem_id, df_animais_com_ID, on=['IDANIMAL'], how='left', indicator=True, suffixes=('', '_drop'))\n",
    "df_animais_sem_id = df_animais_sem_id[df_animais_sem_id['id_produto_drop'].isnull()]\n",
    "df_animais_sem_id = df_animais_sem_id.drop(df_animais_sem_id.filter(regex='_drop$').columns, axis=1)\n",
    "df_animais_sem_id = df_animais_sem_id.drop(columns='_merge')\n",
    "# Seleciona apenas as linhas que possuem valores nulos na coluna \"id_produto\"\n",
    "df_animais_sem_id"
   ],
   "metadata": {
    "collapsed": false
   }
  },
  {
   "cell_type": "markdown",
   "source": [
    "# Criando subtabela dos animais sem id em que o comprac = 11 e o rgvaca comeca com 3 letras"
   ],
   "metadata": {
    "collapsed": false
   }
  },
  {
   "cell_type": "code",
   "execution_count": 94,
   "outputs": [],
   "source": [
    "df_animais_com_id_na_genealogia0 = df_animais_sem_id[df_animais_sem_id['COMPRAC']==11]\n",
    "# selecionar apenas as linhas que começam com letras\n",
    "df_animais_com_id_na_genealogia0 = df_animais_com_id_na_genealogia0[df_animais_com_id_na_genealogia0['RGVACA'].apply(lambda x: bool(re.match(r'^[a-zA-Z]{3}', x)))]\n",
    "#df_animais_com_id_na_genealogia0"
   ],
   "metadata": {
    "collapsed": false
   }
  },
  {
   "cell_type": "markdown",
   "source": [
    "# Criando subtabela da df_genealogia_embrapa em que o gs= 0"
   ],
   "metadata": {
    "collapsed": false
   }
  },
  {
   "cell_type": "code",
   "execution_count": 95,
   "outputs": [],
   "source": [
    "#Tirando o sufixo da tabela\n",
    "df_genealogia_embrapa = df_genealogia_embrapa.rename(columns=lambda x: x.replace('_dir', '') if '_dir' in x else x)\n",
    "df_subtabela_genealogia_emb = df_genealogia_embrapa[df_genealogia_embrapa['gs']==0]\n",
    "#df_subtabela_genealogia_emb"
   ],
   "metadata": {
    "collapsed": false
   }
  },
  {
   "cell_type": "markdown",
   "source": [
    "# Procurando animais na genealogia embrapa atraves da subtabela"
   ],
   "metadata": {
    "collapsed": false
   }
  },
  {
   "cell_type": "code",
   "execution_count": 96,
   "outputs": [
    {
     "data": {
      "text/plain": "    reb_giro                   nomea  COMPRAC    RGVACA  \\\n2       5192  URUPIANGA FIV DE BRAS.       11   RRP8772   \n3       5192     PRENDA FIV DE BRAS.       11   RRP8191   \n5      22541   FELICE FIV CABO VERDE       11  JCVL3334   \n7      42583         BARILOCHE KENYO       11    KOK844   \n9       5192      RAGIN FIV DE BRAS.       11   RRP8395   \n10      5192          RUANA DE BRAS.       11   RRP8430   \n11      5192              LIZ TEATRO       11    RARS10   \n12     42583            MILENA KENYO       11    KOK846   \n17      5192       REDE FIV DE BRAS.       11   RRP8488   \n18      5192   RENUNCIA FIV DE BRAS.       11   RRP8249   \n19      5192     ROTINA FIV DE BRAS.       11   RRP8273   \n24      5192     PILLAR FIV DE BRAS.       11   RRP8130   \n25      2389   RELIQUIA FIV DE BRAS.       11   RRP8261   \n\n                      nomep  GSPAI    RGPAI                           nomem  \\\n2      JAGUAR TE DO GAVIAO     11   GAV291              HONDA FIV DE BRAS.   \n3   GENGIS KHAN DE BRASILIA     11  RRP6097         FERVURA FIV DE BRASILIA   \n5      JAGUAR TE DO GAVIAO     11   GAV291            ZILAH FIV CABO VERDE   \n7        ELDORADO FIV KENYO     11    KOK96              IZABELLE FIV KENYO   \n9      JAGUAR TE DO GAVIAO     11   GAV291                ISCA DE BRASILIA   \n10             BACO DA RTPA     11   NLT130                   LALA DE BRAS.   \n11       TEATRO DA SILVANIA     11   EFC383           RENUNCIA FIV DE BRAS.   \n12            NOBRE TE CAL      11  CAL4397                JARANA FIV KENYO   \n17  GENGIS KHAN DE BRASILIA     11  RRP6097                   DELI DE BRAS.   \n18        FARDO FIV F.MUTUM     11   MUT697  ESFERA DE BRASILIA TN2 DE BRAS   \n19        FARDO FIV F.MUTUM     11   MUT697               ILDA FIV DE BRAS.   \n24  DIAMANTE TE DE BRASILIA     11  RRP5640         JAMARIA FIV DE BRASILIA   \n25        FARDO FIV F.MUTUM     11   MUT697         JAMARIA FIV DE BRASILIA   \n\n    GSMAE     RGMAE  ...  ordem  gs  sexo    cod_prod     cod_pai     cod_mae  \\\n2      11   RRP6268  ...    NaN   0     F  17054525.0   4176523.0  13961623.0   \n3      11   RRP5998  ...    NaN   0     F  14926361.0   9265878.0   8720772.0   \n5      11  JCVL1624  ...    NaN   0     F  17198554.0   4176523.0  13865301.0   \n7      11    KOK526  ...    NaN   0     F  14672175.0   9451056.0  12324993.0   \n9      11   RRP6699  ...    NaN   0     F  15421321.0   4176523.0  11066847.0   \n10     11   RRP7119  ...    NaN   0     F  15438291.0  12480405.0  12161575.0   \n11     11   RRP8249  ...    NaN   0     F  17112475.0   3540404.0  15128061.0   \n12     11    KOK625  ...    NaN   0     F  14673091.0   2989503.0  12894710.0   \n17     11   RRP5562  ...    NaN   0     F  15617034.0   9265878.0   6293655.0   \n18     11   RRP7530  ...    NaN   0     F  15128061.0   8530023.0  13305655.0   \n19     11   RRP6695  ...    NaN   0     F  15163671.0   8530023.0  11066844.0   \n24     11   RRP6958  ...    NaN   0     F  14820082.0   6716196.0  11600828.0   \n25     11   RRP6958  ...    NaN   0     F  15128073.0   8530023.0  11600828.0   \n\n          reb  id_produto_x  nome10caracteres  id_produto_y  \n2   5192-GIRO           NaN        URUPIANGAF       RRP8772  \n3   5192-GIRO           NaN         PRENDAFIV       RRP8191  \n5         NaN           NaN         FELICEFIV      JCVL3334  \n7         NaN           NaN        BARILOCHEK        KOK844  \n9   5192-GIRO           NaN         RAGINFIVD       RRP8395  \n10  5192-GIRO           NaN         RUANADEBR       RRP8430  \n11  5192-GIRO           NaN         LIZTEATRO        RARS10  \n12        NaN           NaN        MILENAKENY        KOK846  \n17  5192-GIRO           NaN         REDEFIVDE       RRP8488  \n18  5192-GIRO           NaN        RENUNCIAFI       RRP8249  \n19  5192-GIRO           NaN         ROTINAFIV       RRP8273  \n24  5192-GIRO           NaN         PILLARFIV       RRP8130  \n25  2389-GIRO           NaN        RELIQUIAFI       RRP8261  \n\n[13 rows x 53 columns]",
      "text/html": "<div>\n<style scoped>\n    .dataframe tbody tr th:only-of-type {\n        vertical-align: middle;\n    }\n\n    .dataframe tbody tr th {\n        vertical-align: top;\n    }\n\n    .dataframe thead th {\n        text-align: right;\n    }\n</style>\n<table border=\"1\" class=\"dataframe\">\n  <thead>\n    <tr style=\"text-align: right;\">\n      <th></th>\n      <th>reb_giro</th>\n      <th>nomea</th>\n      <th>COMPRAC</th>\n      <th>RGVACA</th>\n      <th>nomep</th>\n      <th>GSPAI</th>\n      <th>RGPAI</th>\n      <th>nomem</th>\n      <th>GSMAE</th>\n      <th>RGMAE</th>\n      <th>...</th>\n      <th>ordem</th>\n      <th>gs</th>\n      <th>sexo</th>\n      <th>cod_prod</th>\n      <th>cod_pai</th>\n      <th>cod_mae</th>\n      <th>reb</th>\n      <th>id_produto_x</th>\n      <th>nome10caracteres</th>\n      <th>id_produto_y</th>\n    </tr>\n  </thead>\n  <tbody>\n    <tr>\n      <th>2</th>\n      <td>5192</td>\n      <td>URUPIANGA FIV DE BRAS.</td>\n      <td>11</td>\n      <td>RRP8772</td>\n      <td>JAGUAR TE DO GAVIAO</td>\n      <td>11</td>\n      <td>GAV291</td>\n      <td>HONDA FIV DE BRAS.</td>\n      <td>11</td>\n      <td>RRP6268</td>\n      <td>...</td>\n      <td>NaN</td>\n      <td>0</td>\n      <td>F</td>\n      <td>17054525.0</td>\n      <td>4176523.0</td>\n      <td>13961623.0</td>\n      <td>5192-GIRO</td>\n      <td>NaN</td>\n      <td>URUPIANGAF</td>\n      <td>RRP8772</td>\n    </tr>\n    <tr>\n      <th>3</th>\n      <td>5192</td>\n      <td>PRENDA FIV DE BRAS.</td>\n      <td>11</td>\n      <td>RRP8191</td>\n      <td>GENGIS KHAN DE BRASILIA</td>\n      <td>11</td>\n      <td>RRP6097</td>\n      <td>FERVURA FIV DE BRASILIA</td>\n      <td>11</td>\n      <td>RRP5998</td>\n      <td>...</td>\n      <td>NaN</td>\n      <td>0</td>\n      <td>F</td>\n      <td>14926361.0</td>\n      <td>9265878.0</td>\n      <td>8720772.0</td>\n      <td>5192-GIRO</td>\n      <td>NaN</td>\n      <td>PRENDAFIV</td>\n      <td>RRP8191</td>\n    </tr>\n    <tr>\n      <th>5</th>\n      <td>22541</td>\n      <td>FELICE FIV CABO VERDE</td>\n      <td>11</td>\n      <td>JCVL3334</td>\n      <td>JAGUAR TE DO GAVIAO</td>\n      <td>11</td>\n      <td>GAV291</td>\n      <td>ZILAH FIV CABO VERDE</td>\n      <td>11</td>\n      <td>JCVL1624</td>\n      <td>...</td>\n      <td>NaN</td>\n      <td>0</td>\n      <td>F</td>\n      <td>17198554.0</td>\n      <td>4176523.0</td>\n      <td>13865301.0</td>\n      <td>NaN</td>\n      <td>NaN</td>\n      <td>FELICEFIV</td>\n      <td>JCVL3334</td>\n    </tr>\n    <tr>\n      <th>7</th>\n      <td>42583</td>\n      <td>BARILOCHE KENYO</td>\n      <td>11</td>\n      <td>KOK844</td>\n      <td>ELDORADO FIV KENYO</td>\n      <td>11</td>\n      <td>KOK96</td>\n      <td>IZABELLE FIV KENYO</td>\n      <td>11</td>\n      <td>KOK526</td>\n      <td>...</td>\n      <td>NaN</td>\n      <td>0</td>\n      <td>F</td>\n      <td>14672175.0</td>\n      <td>9451056.0</td>\n      <td>12324993.0</td>\n      <td>NaN</td>\n      <td>NaN</td>\n      <td>BARILOCHEK</td>\n      <td>KOK844</td>\n    </tr>\n    <tr>\n      <th>9</th>\n      <td>5192</td>\n      <td>RAGIN FIV DE BRAS.</td>\n      <td>11</td>\n      <td>RRP8395</td>\n      <td>JAGUAR TE DO GAVIAO</td>\n      <td>11</td>\n      <td>GAV291</td>\n      <td>ISCA DE BRASILIA</td>\n      <td>11</td>\n      <td>RRP6699</td>\n      <td>...</td>\n      <td>NaN</td>\n      <td>0</td>\n      <td>F</td>\n      <td>15421321.0</td>\n      <td>4176523.0</td>\n      <td>11066847.0</td>\n      <td>5192-GIRO</td>\n      <td>NaN</td>\n      <td>RAGINFIVD</td>\n      <td>RRP8395</td>\n    </tr>\n    <tr>\n      <th>10</th>\n      <td>5192</td>\n      <td>RUANA DE BRAS.</td>\n      <td>11</td>\n      <td>RRP8430</td>\n      <td>BACO DA RTPA</td>\n      <td>11</td>\n      <td>NLT130</td>\n      <td>LALA DE BRAS.</td>\n      <td>11</td>\n      <td>RRP7119</td>\n      <td>...</td>\n      <td>NaN</td>\n      <td>0</td>\n      <td>F</td>\n      <td>15438291.0</td>\n      <td>12480405.0</td>\n      <td>12161575.0</td>\n      <td>5192-GIRO</td>\n      <td>NaN</td>\n      <td>RUANADEBR</td>\n      <td>RRP8430</td>\n    </tr>\n    <tr>\n      <th>11</th>\n      <td>5192</td>\n      <td>LIZ TEATRO</td>\n      <td>11</td>\n      <td>RARS10</td>\n      <td>TEATRO DA SILVANIA</td>\n      <td>11</td>\n      <td>EFC383</td>\n      <td>RENUNCIA FIV DE BRAS.</td>\n      <td>11</td>\n      <td>RRP8249</td>\n      <td>...</td>\n      <td>NaN</td>\n      <td>0</td>\n      <td>F</td>\n      <td>17112475.0</td>\n      <td>3540404.0</td>\n      <td>15128061.0</td>\n      <td>5192-GIRO</td>\n      <td>NaN</td>\n      <td>LIZTEATRO</td>\n      <td>RARS10</td>\n    </tr>\n    <tr>\n      <th>12</th>\n      <td>42583</td>\n      <td>MILENA KENYO</td>\n      <td>11</td>\n      <td>KOK846</td>\n      <td>NOBRE TE CAL</td>\n      <td>11</td>\n      <td>CAL4397</td>\n      <td>JARANA FIV KENYO</td>\n      <td>11</td>\n      <td>KOK625</td>\n      <td>...</td>\n      <td>NaN</td>\n      <td>0</td>\n      <td>F</td>\n      <td>14673091.0</td>\n      <td>2989503.0</td>\n      <td>12894710.0</td>\n      <td>NaN</td>\n      <td>NaN</td>\n      <td>MILENAKENY</td>\n      <td>KOK846</td>\n    </tr>\n    <tr>\n      <th>17</th>\n      <td>5192</td>\n      <td>REDE FIV DE BRAS.</td>\n      <td>11</td>\n      <td>RRP8488</td>\n      <td>GENGIS KHAN DE BRASILIA</td>\n      <td>11</td>\n      <td>RRP6097</td>\n      <td>DELI DE BRAS.</td>\n      <td>11</td>\n      <td>RRP5562</td>\n      <td>...</td>\n      <td>NaN</td>\n      <td>0</td>\n      <td>F</td>\n      <td>15617034.0</td>\n      <td>9265878.0</td>\n      <td>6293655.0</td>\n      <td>5192-GIRO</td>\n      <td>NaN</td>\n      <td>REDEFIVDE</td>\n      <td>RRP8488</td>\n    </tr>\n    <tr>\n      <th>18</th>\n      <td>5192</td>\n      <td>RENUNCIA FIV DE BRAS.</td>\n      <td>11</td>\n      <td>RRP8249</td>\n      <td>FARDO FIV F.MUTUM</td>\n      <td>11</td>\n      <td>MUT697</td>\n      <td>ESFERA DE BRASILIA TN2 DE BRAS</td>\n      <td>11</td>\n      <td>RRP7530</td>\n      <td>...</td>\n      <td>NaN</td>\n      <td>0</td>\n      <td>F</td>\n      <td>15128061.0</td>\n      <td>8530023.0</td>\n      <td>13305655.0</td>\n      <td>5192-GIRO</td>\n      <td>NaN</td>\n      <td>RENUNCIAFI</td>\n      <td>RRP8249</td>\n    </tr>\n    <tr>\n      <th>19</th>\n      <td>5192</td>\n      <td>ROTINA FIV DE BRAS.</td>\n      <td>11</td>\n      <td>RRP8273</td>\n      <td>FARDO FIV F.MUTUM</td>\n      <td>11</td>\n      <td>MUT697</td>\n      <td>ILDA FIV DE BRAS.</td>\n      <td>11</td>\n      <td>RRP6695</td>\n      <td>...</td>\n      <td>NaN</td>\n      <td>0</td>\n      <td>F</td>\n      <td>15163671.0</td>\n      <td>8530023.0</td>\n      <td>11066844.0</td>\n      <td>5192-GIRO</td>\n      <td>NaN</td>\n      <td>ROTINAFIV</td>\n      <td>RRP8273</td>\n    </tr>\n    <tr>\n      <th>24</th>\n      <td>5192</td>\n      <td>PILLAR FIV DE BRAS.</td>\n      <td>11</td>\n      <td>RRP8130</td>\n      <td>DIAMANTE TE DE BRASILIA</td>\n      <td>11</td>\n      <td>RRP5640</td>\n      <td>JAMARIA FIV DE BRASILIA</td>\n      <td>11</td>\n      <td>RRP6958</td>\n      <td>...</td>\n      <td>NaN</td>\n      <td>0</td>\n      <td>F</td>\n      <td>14820082.0</td>\n      <td>6716196.0</td>\n      <td>11600828.0</td>\n      <td>5192-GIRO</td>\n      <td>NaN</td>\n      <td>PILLARFIV</td>\n      <td>RRP8130</td>\n    </tr>\n    <tr>\n      <th>25</th>\n      <td>2389</td>\n      <td>RELIQUIA FIV DE BRAS.</td>\n      <td>11</td>\n      <td>RRP8261</td>\n      <td>FARDO FIV F.MUTUM</td>\n      <td>11</td>\n      <td>MUT697</td>\n      <td>JAMARIA FIV DE BRASILIA</td>\n      <td>11</td>\n      <td>RRP6958</td>\n      <td>...</td>\n      <td>NaN</td>\n      <td>0</td>\n      <td>F</td>\n      <td>15128073.0</td>\n      <td>8530023.0</td>\n      <td>11600828.0</td>\n      <td>2389-GIRO</td>\n      <td>NaN</td>\n      <td>RELIQUIAFI</td>\n      <td>RRP8261</td>\n    </tr>\n  </tbody>\n</table>\n<p>13 rows × 53 columns</p>\n</div>"
     },
     "execution_count": 96,
     "metadata": {},
     "output_type": "execute_result"
    }
   ],
   "source": [
    "df_animais_encontrados_subtabela_genealogia = pd.merge(df_animais_com_id_na_genealogia0,df_subtabela_genealogia_emb[['id_produto', 'registro']], left_on=['RGVACA'], right_on=['registro'], how='left', indicator=True)\n",
    "df_animais_encontrados_subtabela_genealogia = df_animais_encontrados_subtabela_genealogia[df_animais_encontrados_subtabela_genealogia['_merge'] == 'both']\n",
    "df_animais_encontrados_subtabela_genealogia = df_animais_encontrados_subtabela_genealogia.drop(columns='_merge')\n",
    "df_animais_encontrados_subtabela_genealogia = df_animais_encontrados_subtabela_genealogia.drop(columns='registro')\n",
    "df_animais_encontrados_subtabela_genealogia = df_animais_encontrados_subtabela_genealogia.drop_duplicates()\n",
    "df_animais_encontrados_subtabela_genealogia"
   ],
   "metadata": {
    "collapsed": false
   }
  },
  {
   "cell_type": "markdown",
   "source": [
    "# Atualizando lista de animais com id"
   ],
   "metadata": {
    "collapsed": false
   }
  },
  {
   "cell_type": "code",
   "execution_count": 97,
   "outputs": [
    {
     "data": {
      "text/plain": "    reb_giro                           nomea  COMPRAC   RGVACA  \\\n0       6029              DEMASIA FR RECREIO       14   0869-T   \n1       7450               JACA JAYZ SJ LALU       34  6411-AH   \n2       3304  CAITA OCIDENTE MJP DA CAPELA P       12   8634-X   \n3       5569  LONDRINA GENGIS KHAN RECANTO D       12  0021-AW   \n4       5569         BABALU METEORO DO MORRO       38  0148-AK   \n..       ...                             ...      ...      ...   \n17      5192               REDE FIV DE BRAS.       11  RRP8488   \n18      5192           RENUNCIA FIV DE BRAS.       11  RRP8249   \n19      5192             ROTINA FIV DE BRAS.       11  RRP8273   \n24      5192             PILLAR FIV DE BRAS.       11  RRP8130   \n25      2389           RELIQUIA FIV DE BRAS.       11  RRP8261   \n\n                      nomep  GSPAI     RGPAI                           nomem  \\\n0      JAGUAR TE DO GAVIAO     11    GAV291            ERMELINDA MERGULHAO    \n1          HORNLAND JAYZ-ET     10  AX118150         GAYA FIV SANSAO SJ LALU   \n2   OCIDENTE BEM FEITOR CAL     11   CAL4605          MARINA DA CAPELA PAIVA   \n3   GENGIS KHAN DE BRASILIA     11   RRP6097   MEARA JUDITH GOLDWYN BELLA-TE   \n4       METEORO DE BRASILIA     11     B5226                SEGUNDA DO MORRO   \n..                      ...    ...       ...                             ...   \n17  GENGIS KHAN DE BRASILIA     11   RRP6097                   DELI DE BRAS.   \n18        FARDO FIV F.MUTUM     11    MUT697  ESFERA DE BRASILIA TN2 DE BRAS   \n19        FARDO FIV F.MUTUM     11    MUT697               ILDA FIV DE BRAS.   \n24  DIAMANTE TE DE BRASILIA     11   RRP5640         JAMARIA FIV DE BRASILIA   \n25        FARDO FIV F.MUTUM     11    MUT697         JAMARIA FIV DE BRASILIA   \n\n    GSMAE     RGMAE  ...      rebanoe  ordem  gs sexo    cod_prod    cod_pai  \\\n0      12   AD-1407  ...  60292021122    NaN   2    F         NaN  4176523.0   \n1      12    1898-P  ...  74502020132    NaN   6    F         NaN        NaN   \n2      10    A-3096  ...  33042020122    NaN   4    F         NaN  3287666.0   \n3      10  BX410396  ...  55692021222    NaN   4    F         NaN  9265878.0   \n4      34    7468-T  ...  55692021222    NaN   3    F         NaN  2225848.0   \n..    ...       ...  ...          ...    ...  ..  ...         ...        ...   \n17     11   RRP5562  ...  51922020132    NaN   0    F  15617034.0  9265878.0   \n18     11   RRP7530  ...  51922020132    NaN   0    F  15128061.0  8530023.0   \n19     11   RRP6695  ...  51922020132    NaN   0    F  15163671.0  8530023.0   \n24     11   RRP6958  ...  51922021132    NaN   0    F  14820082.0  6716196.0   \n25     11   RRP6958  ...  23892019122    NaN   0    F  15128073.0  8530023.0   \n\n       cod_mae         reb   id_produto  nome10caracteres  \n0          NaN  31365-ABCZ  GIRO1383626               NaN  \n1          NaN   7450-GIRO  GIRO1608903               NaN  \n2          NaN   3304-GIRO  GIRO1215331               NaN  \n3          NaN   5569-GIRO  GIRO2022656               NaN  \n4          NaN   5569-GIRO  GIRO1653303               NaN  \n..         ...         ...          ...               ...  \n17   6293655.0   5192-GIRO      RRP8488         REDEFIVDE  \n18  13305655.0   5192-GIRO      RRP8249        RENUNCIAFI  \n19  11066844.0   5192-GIRO      RRP8273         ROTINAFIV  \n24  11600828.0   5192-GIRO      RRP8130         PILLARFIV  \n25  11600828.0   2389-GIRO      RRP8261        RELIQUIAFI  \n\n[475 rows x 52 columns]",
      "text/html": "<div>\n<style scoped>\n    .dataframe tbody tr th:only-of-type {\n        vertical-align: middle;\n    }\n\n    .dataframe tbody tr th {\n        vertical-align: top;\n    }\n\n    .dataframe thead th {\n        text-align: right;\n    }\n</style>\n<table border=\"1\" class=\"dataframe\">\n  <thead>\n    <tr style=\"text-align: right;\">\n      <th></th>\n      <th>reb_giro</th>\n      <th>nomea</th>\n      <th>COMPRAC</th>\n      <th>RGVACA</th>\n      <th>nomep</th>\n      <th>GSPAI</th>\n      <th>RGPAI</th>\n      <th>nomem</th>\n      <th>GSMAE</th>\n      <th>RGMAE</th>\n      <th>...</th>\n      <th>rebanoe</th>\n      <th>ordem</th>\n      <th>gs</th>\n      <th>sexo</th>\n      <th>cod_prod</th>\n      <th>cod_pai</th>\n      <th>cod_mae</th>\n      <th>reb</th>\n      <th>id_produto</th>\n      <th>nome10caracteres</th>\n    </tr>\n  </thead>\n  <tbody>\n    <tr>\n      <th>0</th>\n      <td>6029</td>\n      <td>DEMASIA FR RECREIO</td>\n      <td>14</td>\n      <td>0869-T</td>\n      <td>JAGUAR TE DO GAVIAO</td>\n      <td>11</td>\n      <td>GAV291</td>\n      <td>ERMELINDA MERGULHAO</td>\n      <td>12</td>\n      <td>AD-1407</td>\n      <td>...</td>\n      <td>60292021122</td>\n      <td>NaN</td>\n      <td>2</td>\n      <td>F</td>\n      <td>NaN</td>\n      <td>4176523.0</td>\n      <td>NaN</td>\n      <td>31365-ABCZ</td>\n      <td>GIRO1383626</td>\n      <td>NaN</td>\n    </tr>\n    <tr>\n      <th>1</th>\n      <td>7450</td>\n      <td>JACA JAYZ SJ LALU</td>\n      <td>34</td>\n      <td>6411-AH</td>\n      <td>HORNLAND JAYZ-ET</td>\n      <td>10</td>\n      <td>AX118150</td>\n      <td>GAYA FIV SANSAO SJ LALU</td>\n      <td>12</td>\n      <td>1898-P</td>\n      <td>...</td>\n      <td>74502020132</td>\n      <td>NaN</td>\n      <td>6</td>\n      <td>F</td>\n      <td>NaN</td>\n      <td>NaN</td>\n      <td>NaN</td>\n      <td>7450-GIRO</td>\n      <td>GIRO1608903</td>\n      <td>NaN</td>\n    </tr>\n    <tr>\n      <th>2</th>\n      <td>3304</td>\n      <td>CAITA OCIDENTE MJP DA CAPELA P</td>\n      <td>12</td>\n      <td>8634-X</td>\n      <td>OCIDENTE BEM FEITOR CAL</td>\n      <td>11</td>\n      <td>CAL4605</td>\n      <td>MARINA DA CAPELA PAIVA</td>\n      <td>10</td>\n      <td>A-3096</td>\n      <td>...</td>\n      <td>33042020122</td>\n      <td>NaN</td>\n      <td>4</td>\n      <td>F</td>\n      <td>NaN</td>\n      <td>3287666.0</td>\n      <td>NaN</td>\n      <td>3304-GIRO</td>\n      <td>GIRO1215331</td>\n      <td>NaN</td>\n    </tr>\n    <tr>\n      <th>3</th>\n      <td>5569</td>\n      <td>LONDRINA GENGIS KHAN RECANTO D</td>\n      <td>12</td>\n      <td>0021-AW</td>\n      <td>GENGIS KHAN DE BRASILIA</td>\n      <td>11</td>\n      <td>RRP6097</td>\n      <td>MEARA JUDITH GOLDWYN BELLA-TE</td>\n      <td>10</td>\n      <td>BX410396</td>\n      <td>...</td>\n      <td>55692021222</td>\n      <td>NaN</td>\n      <td>4</td>\n      <td>F</td>\n      <td>NaN</td>\n      <td>9265878.0</td>\n      <td>NaN</td>\n      <td>5569-GIRO</td>\n      <td>GIRO2022656</td>\n      <td>NaN</td>\n    </tr>\n    <tr>\n      <th>4</th>\n      <td>5569</td>\n      <td>BABALU METEORO DO MORRO</td>\n      <td>38</td>\n      <td>0148-AK</td>\n      <td>METEORO DE BRASILIA</td>\n      <td>11</td>\n      <td>B5226</td>\n      <td>SEGUNDA DO MORRO</td>\n      <td>34</td>\n      <td>7468-T</td>\n      <td>...</td>\n      <td>55692021222</td>\n      <td>NaN</td>\n      <td>3</td>\n      <td>F</td>\n      <td>NaN</td>\n      <td>2225848.0</td>\n      <td>NaN</td>\n      <td>5569-GIRO</td>\n      <td>GIRO1653303</td>\n      <td>NaN</td>\n    </tr>\n    <tr>\n      <th>...</th>\n      <td>...</td>\n      <td>...</td>\n      <td>...</td>\n      <td>...</td>\n      <td>...</td>\n      <td>...</td>\n      <td>...</td>\n      <td>...</td>\n      <td>...</td>\n      <td>...</td>\n      <td>...</td>\n      <td>...</td>\n      <td>...</td>\n      <td>...</td>\n      <td>...</td>\n      <td>...</td>\n      <td>...</td>\n      <td>...</td>\n      <td>...</td>\n      <td>...</td>\n      <td>...</td>\n    </tr>\n    <tr>\n      <th>17</th>\n      <td>5192</td>\n      <td>REDE FIV DE BRAS.</td>\n      <td>11</td>\n      <td>RRP8488</td>\n      <td>GENGIS KHAN DE BRASILIA</td>\n      <td>11</td>\n      <td>RRP6097</td>\n      <td>DELI DE BRAS.</td>\n      <td>11</td>\n      <td>RRP5562</td>\n      <td>...</td>\n      <td>51922020132</td>\n      <td>NaN</td>\n      <td>0</td>\n      <td>F</td>\n      <td>15617034.0</td>\n      <td>9265878.0</td>\n      <td>6293655.0</td>\n      <td>5192-GIRO</td>\n      <td>RRP8488</td>\n      <td>REDEFIVDE</td>\n    </tr>\n    <tr>\n      <th>18</th>\n      <td>5192</td>\n      <td>RENUNCIA FIV DE BRAS.</td>\n      <td>11</td>\n      <td>RRP8249</td>\n      <td>FARDO FIV F.MUTUM</td>\n      <td>11</td>\n      <td>MUT697</td>\n      <td>ESFERA DE BRASILIA TN2 DE BRAS</td>\n      <td>11</td>\n      <td>RRP7530</td>\n      <td>...</td>\n      <td>51922020132</td>\n      <td>NaN</td>\n      <td>0</td>\n      <td>F</td>\n      <td>15128061.0</td>\n      <td>8530023.0</td>\n      <td>13305655.0</td>\n      <td>5192-GIRO</td>\n      <td>RRP8249</td>\n      <td>RENUNCIAFI</td>\n    </tr>\n    <tr>\n      <th>19</th>\n      <td>5192</td>\n      <td>ROTINA FIV DE BRAS.</td>\n      <td>11</td>\n      <td>RRP8273</td>\n      <td>FARDO FIV F.MUTUM</td>\n      <td>11</td>\n      <td>MUT697</td>\n      <td>ILDA FIV DE BRAS.</td>\n      <td>11</td>\n      <td>RRP6695</td>\n      <td>...</td>\n      <td>51922020132</td>\n      <td>NaN</td>\n      <td>0</td>\n      <td>F</td>\n      <td>15163671.0</td>\n      <td>8530023.0</td>\n      <td>11066844.0</td>\n      <td>5192-GIRO</td>\n      <td>RRP8273</td>\n      <td>ROTINAFIV</td>\n    </tr>\n    <tr>\n      <th>24</th>\n      <td>5192</td>\n      <td>PILLAR FIV DE BRAS.</td>\n      <td>11</td>\n      <td>RRP8130</td>\n      <td>DIAMANTE TE DE BRASILIA</td>\n      <td>11</td>\n      <td>RRP5640</td>\n      <td>JAMARIA FIV DE BRASILIA</td>\n      <td>11</td>\n      <td>RRP6958</td>\n      <td>...</td>\n      <td>51922021132</td>\n      <td>NaN</td>\n      <td>0</td>\n      <td>F</td>\n      <td>14820082.0</td>\n      <td>6716196.0</td>\n      <td>11600828.0</td>\n      <td>5192-GIRO</td>\n      <td>RRP8130</td>\n      <td>PILLARFIV</td>\n    </tr>\n    <tr>\n      <th>25</th>\n      <td>2389</td>\n      <td>RELIQUIA FIV DE BRAS.</td>\n      <td>11</td>\n      <td>RRP8261</td>\n      <td>FARDO FIV F.MUTUM</td>\n      <td>11</td>\n      <td>MUT697</td>\n      <td>JAMARIA FIV DE BRASILIA</td>\n      <td>11</td>\n      <td>RRP6958</td>\n      <td>...</td>\n      <td>23892019122</td>\n      <td>NaN</td>\n      <td>0</td>\n      <td>F</td>\n      <td>15128073.0</td>\n      <td>8530023.0</td>\n      <td>11600828.0</td>\n      <td>2389-GIRO</td>\n      <td>RRP8261</td>\n      <td>RELIQUIAFI</td>\n    </tr>\n  </tbody>\n</table>\n<p>475 rows × 52 columns</p>\n</div>"
     },
     "execution_count": 97,
     "metadata": {},
     "output_type": "execute_result"
    }
   ],
   "source": [
    "df_animais_com_ID = pd.concat([df_animais_com_ID, df_animais_encontrados_subtabela_genealogia])\n",
    "\n",
    "df_animais_com_ID['id_produto'].fillna(df_animais_com_ID['id_produto_x'], inplace=True)\n",
    "df_animais_com_ID['id_produto'].fillna(df_animais_com_ID['id_produto_y'], inplace=True)\n",
    "df_animais_com_ID = df_animais_com_ID.drop(columns='id_produto_x')\n",
    "df_animais_com_ID = df_animais_com_ID.drop(columns='id_produto_y')\n",
    "df_animais_com_ID = df_animais_com_ID.drop_duplicates()\n",
    "\n",
    "df_animais_com_ID"
   ],
   "metadata": {
    "collapsed": false
   }
  },
  {
   "cell_type": "markdown",
   "source": [
    "# Atualizando lista de animais sem id"
   ],
   "metadata": {
    "collapsed": false
   }
  },
  {
   "cell_type": "code",
   "execution_count": 98,
   "outputs": [
    {
     "data": {
      "text/plain": "     reb_giro                            nomea  COMPRAC    RGVACA  \\\n0        7461   NANA IMPERADOR BAXTER RF SAO F     5858   6353-AH   \n1       10639  LANAA FIV AFTERSHOCK BON.BELEM       12   9592-AG   \n2        6039   EDILAINE IMPERIO FIV 4303 JARD       12  AADA0352   \n3        1945             ARMA MERIDIAN DA MBL       12   1025-AN   \n4       73119   CELESTE 136 TEATRO FIV COOPERR       12   1239-BF   \n..        ...                              ...      ...       ...   \n575      1945   JPZ QUIRERA SHAMROCK ASTER FIV       12    4032-Z   \n576      2381   DALIA I FIV BRADLEY JM NOVO HO       12   4906-AZ   \n577       132        QUINTA I COLE AGM TRIUNFO       34   9243-AG   \n578      6915                  LIA DAS ARABIAS     5858   6125-BR   \n579      6029          GERMANA FEBO FR RECREIO     5858   9069-AS   \n\n                             nomep  GSPAI     RGPAI  \\\n0      IMPERADOR BAXTER VOLTA FRIA     58      1459   \n1    MS ATLEES SHT AFTERSHOCK - ET     10  AX129928   \n2           IMPERIO TE STA EDWIGES     11    RIG163   \n3           SULLY HART MERIDIAN-ET     10  AX138576   \n4               TEATRO DA SILVANIA     11    EFC383   \n..                             ...    ...       ...   \n575     LADYS-MANOR PL SHAMROCK-ET     10  AX135714   \n576               ROCKALLI BRADLEY     10  AX117720   \n577         CO-OP TOYSTORY COLE-ET     10  AX129567   \n578              TURBO DAS ARABIAS   5858      0079   \n579                FEBO FR RECREIO     58    6300-N   \n\n                             nomem  GSMAE         RGMAE  ...  gs  sexo  \\\n0    JURITI HERBY RF SAO FRANCISCO     58        6877-N  ...   5     F   \n1                 JOANE FIV KUBERA     11      ACFG1840  ...   4     F   \n2    SERTEC QATAR FABIANA PROGRESS     10  HBB/B-291392  ...   4     F   \n3                             FAMA     11        JNR167  ...   4     F   \n4       LAGOS ASTRE QUIMICA 795 TE     10      BX335536  ...   4     F   \n..                             ...    ...           ...  ...  ..   ...   \n575                  JPZ ASTER FIV     11         JPZ64  ...   4     F   \n576           DALIA NOVO HORIZONTE     11        JMCH76  ...   4     F   \n577                   QUINTA FIV M     12        0473-O  ...   6     F   \n578             LILIKA DAS ARABIAS     58       4916-AW  ...   5     F   \n579            CAMPANHA FR RECREIO     58        6180-N  ...   5     F   \n\n     cod_prod    cod_pai     cod_mae         reb  id_produto  \\\n0         NaN        NaN         NaN        1291         NaN   \n1         NaN        NaN   9513273.0  10639-GIRO         NaN   \n2         NaN  4320031.0         NaN         NaN         NaN   \n3         NaN        NaN  10621711.0  37634-ABCZ         NaN   \n4         NaN  3540404.0         NaN         NaN         NaN   \n..        ...        ...         ...         ...         ...   \n575       NaN        NaN  11428022.0  37634-ABCZ         NaN   \n576       NaN        NaN  12866148.0  31300-ABCZ         NaN   \n577       NaN        NaN         NaN  31835-ABCZ         NaN   \n578       NaN        NaN         NaN  27729-ABCZ         NaN   \n579       NaN        NaN         NaN  31365-ABCZ         NaN   \n\n     nome10caracteres  id_produto_x  id_produto_y  \n0          NANAIMPERA           NaN           NaN  \n1           LANAAFIV           NaN           NaN  \n2          EDILAINEIM           NaN           NaN  \n3          ARMAMERIDI           NaN           NaN  \n4          CELESTE136           NaN           NaN  \n..                ...           ...           ...  \n575        JPZQUIRERA           NaN           NaN  \n576         DALIAIFIV           NaN           NaN  \n577         QUINTAICO           NaN           NaN  \n578         LIADASARA           NaN           NaN  \n579        GERMANAFEB           NaN           NaN  \n\n[567 rows x 54 columns]",
      "text/html": "<div>\n<style scoped>\n    .dataframe tbody tr th:only-of-type {\n        vertical-align: middle;\n    }\n\n    .dataframe tbody tr th {\n        vertical-align: top;\n    }\n\n    .dataframe thead th {\n        text-align: right;\n    }\n</style>\n<table border=\"1\" class=\"dataframe\">\n  <thead>\n    <tr style=\"text-align: right;\">\n      <th></th>\n      <th>reb_giro</th>\n      <th>nomea</th>\n      <th>COMPRAC</th>\n      <th>RGVACA</th>\n      <th>nomep</th>\n      <th>GSPAI</th>\n      <th>RGPAI</th>\n      <th>nomem</th>\n      <th>GSMAE</th>\n      <th>RGMAE</th>\n      <th>...</th>\n      <th>gs</th>\n      <th>sexo</th>\n      <th>cod_prod</th>\n      <th>cod_pai</th>\n      <th>cod_mae</th>\n      <th>reb</th>\n      <th>id_produto</th>\n      <th>nome10caracteres</th>\n      <th>id_produto_x</th>\n      <th>id_produto_y</th>\n    </tr>\n  </thead>\n  <tbody>\n    <tr>\n      <th>0</th>\n      <td>7461</td>\n      <td>NANA IMPERADOR BAXTER RF SAO F</td>\n      <td>5858</td>\n      <td>6353-AH</td>\n      <td>IMPERADOR BAXTER VOLTA FRIA</td>\n      <td>58</td>\n      <td>1459</td>\n      <td>JURITI HERBY RF SAO FRANCISCO</td>\n      <td>58</td>\n      <td>6877-N</td>\n      <td>...</td>\n      <td>5</td>\n      <td>F</td>\n      <td>NaN</td>\n      <td>NaN</td>\n      <td>NaN</td>\n      <td>1291</td>\n      <td>NaN</td>\n      <td>NANAIMPERA</td>\n      <td>NaN</td>\n      <td>NaN</td>\n    </tr>\n    <tr>\n      <th>1</th>\n      <td>10639</td>\n      <td>LANAA FIV AFTERSHOCK BON.BELEM</td>\n      <td>12</td>\n      <td>9592-AG</td>\n      <td>MS ATLEES SHT AFTERSHOCK - ET</td>\n      <td>10</td>\n      <td>AX129928</td>\n      <td>JOANE FIV KUBERA</td>\n      <td>11</td>\n      <td>ACFG1840</td>\n      <td>...</td>\n      <td>4</td>\n      <td>F</td>\n      <td>NaN</td>\n      <td>NaN</td>\n      <td>9513273.0</td>\n      <td>10639-GIRO</td>\n      <td>NaN</td>\n      <td>LANAAFIV</td>\n      <td>NaN</td>\n      <td>NaN</td>\n    </tr>\n    <tr>\n      <th>2</th>\n      <td>6039</td>\n      <td>EDILAINE IMPERIO FIV 4303 JARD</td>\n      <td>12</td>\n      <td>AADA0352</td>\n      <td>IMPERIO TE STA EDWIGES</td>\n      <td>11</td>\n      <td>RIG163</td>\n      <td>SERTEC QATAR FABIANA PROGRESS</td>\n      <td>10</td>\n      <td>HBB/B-291392</td>\n      <td>...</td>\n      <td>4</td>\n      <td>F</td>\n      <td>NaN</td>\n      <td>4320031.0</td>\n      <td>NaN</td>\n      <td>NaN</td>\n      <td>NaN</td>\n      <td>EDILAINEIM</td>\n      <td>NaN</td>\n      <td>NaN</td>\n    </tr>\n    <tr>\n      <th>3</th>\n      <td>1945</td>\n      <td>ARMA MERIDIAN DA MBL</td>\n      <td>12</td>\n      <td>1025-AN</td>\n      <td>SULLY HART MERIDIAN-ET</td>\n      <td>10</td>\n      <td>AX138576</td>\n      <td>FAMA</td>\n      <td>11</td>\n      <td>JNR167</td>\n      <td>...</td>\n      <td>4</td>\n      <td>F</td>\n      <td>NaN</td>\n      <td>NaN</td>\n      <td>10621711.0</td>\n      <td>37634-ABCZ</td>\n      <td>NaN</td>\n      <td>ARMAMERIDI</td>\n      <td>NaN</td>\n      <td>NaN</td>\n    </tr>\n    <tr>\n      <th>4</th>\n      <td>73119</td>\n      <td>CELESTE 136 TEATRO FIV COOPERR</td>\n      <td>12</td>\n      <td>1239-BF</td>\n      <td>TEATRO DA SILVANIA</td>\n      <td>11</td>\n      <td>EFC383</td>\n      <td>LAGOS ASTRE QUIMICA 795 TE</td>\n      <td>10</td>\n      <td>BX335536</td>\n      <td>...</td>\n      <td>4</td>\n      <td>F</td>\n      <td>NaN</td>\n      <td>3540404.0</td>\n      <td>NaN</td>\n      <td>NaN</td>\n      <td>NaN</td>\n      <td>CELESTE136</td>\n      <td>NaN</td>\n      <td>NaN</td>\n    </tr>\n    <tr>\n      <th>...</th>\n      <td>...</td>\n      <td>...</td>\n      <td>...</td>\n      <td>...</td>\n      <td>...</td>\n      <td>...</td>\n      <td>...</td>\n      <td>...</td>\n      <td>...</td>\n      <td>...</td>\n      <td>...</td>\n      <td>...</td>\n      <td>...</td>\n      <td>...</td>\n      <td>...</td>\n      <td>...</td>\n      <td>...</td>\n      <td>...</td>\n      <td>...</td>\n      <td>...</td>\n      <td>...</td>\n    </tr>\n    <tr>\n      <th>575</th>\n      <td>1945</td>\n      <td>JPZ QUIRERA SHAMROCK ASTER FIV</td>\n      <td>12</td>\n      <td>4032-Z</td>\n      <td>LADYS-MANOR PL SHAMROCK-ET</td>\n      <td>10</td>\n      <td>AX135714</td>\n      <td>JPZ ASTER FIV</td>\n      <td>11</td>\n      <td>JPZ64</td>\n      <td>...</td>\n      <td>4</td>\n      <td>F</td>\n      <td>NaN</td>\n      <td>NaN</td>\n      <td>11428022.0</td>\n      <td>37634-ABCZ</td>\n      <td>NaN</td>\n      <td>JPZQUIRERA</td>\n      <td>NaN</td>\n      <td>NaN</td>\n    </tr>\n    <tr>\n      <th>576</th>\n      <td>2381</td>\n      <td>DALIA I FIV BRADLEY JM NOVO HO</td>\n      <td>12</td>\n      <td>4906-AZ</td>\n      <td>ROCKALLI BRADLEY</td>\n      <td>10</td>\n      <td>AX117720</td>\n      <td>DALIA NOVO HORIZONTE</td>\n      <td>11</td>\n      <td>JMCH76</td>\n      <td>...</td>\n      <td>4</td>\n      <td>F</td>\n      <td>NaN</td>\n      <td>NaN</td>\n      <td>12866148.0</td>\n      <td>31300-ABCZ</td>\n      <td>NaN</td>\n      <td>DALIAIFIV</td>\n      <td>NaN</td>\n      <td>NaN</td>\n    </tr>\n    <tr>\n      <th>577</th>\n      <td>132</td>\n      <td>QUINTA I COLE AGM TRIUNFO</td>\n      <td>34</td>\n      <td>9243-AG</td>\n      <td>CO-OP TOYSTORY COLE-ET</td>\n      <td>10</td>\n      <td>AX129567</td>\n      <td>QUINTA FIV M</td>\n      <td>12</td>\n      <td>0473-O</td>\n      <td>...</td>\n      <td>6</td>\n      <td>F</td>\n      <td>NaN</td>\n      <td>NaN</td>\n      <td>NaN</td>\n      <td>31835-ABCZ</td>\n      <td>NaN</td>\n      <td>QUINTAICO</td>\n      <td>NaN</td>\n      <td>NaN</td>\n    </tr>\n    <tr>\n      <th>578</th>\n      <td>6915</td>\n      <td>LIA DAS ARABIAS</td>\n      <td>5858</td>\n      <td>6125-BR</td>\n      <td>TURBO DAS ARABIAS</td>\n      <td>5858</td>\n      <td>0079</td>\n      <td>LILIKA DAS ARABIAS</td>\n      <td>58</td>\n      <td>4916-AW</td>\n      <td>...</td>\n      <td>5</td>\n      <td>F</td>\n      <td>NaN</td>\n      <td>NaN</td>\n      <td>NaN</td>\n      <td>27729-ABCZ</td>\n      <td>NaN</td>\n      <td>LIADASARA</td>\n      <td>NaN</td>\n      <td>NaN</td>\n    </tr>\n    <tr>\n      <th>579</th>\n      <td>6029</td>\n      <td>GERMANA FEBO FR RECREIO</td>\n      <td>5858</td>\n      <td>9069-AS</td>\n      <td>FEBO FR RECREIO</td>\n      <td>58</td>\n      <td>6300-N</td>\n      <td>CAMPANHA FR RECREIO</td>\n      <td>58</td>\n      <td>6180-N</td>\n      <td>...</td>\n      <td>5</td>\n      <td>F</td>\n      <td>NaN</td>\n      <td>NaN</td>\n      <td>NaN</td>\n      <td>31365-ABCZ</td>\n      <td>NaN</td>\n      <td>GERMANAFEB</td>\n      <td>NaN</td>\n      <td>NaN</td>\n    </tr>\n  </tbody>\n</table>\n<p>567 rows × 54 columns</p>\n</div>"
     },
     "execution_count": 98,
     "metadata": {},
     "output_type": "execute_result"
    }
   ],
   "source": [
    "df_animais_sem_id = pd.merge(df_animais_sem_id, df_animais_encontrados_subtabela_genealogia, on=['IDANIMAL'], how='left', indicator=True, suffixes=('', '_drop'))\n",
    "df_animais_sem_id = df_animais_sem_id[df_animais_sem_id['id_produto_y'].isnull()]\n",
    "df_animais_sem_id = df_animais_sem_id.drop(df_animais_sem_id.filter(regex='_drop$').columns, axis=1)\n",
    "df_animais_sem_id = df_animais_sem_id.drop(columns='_merge')\n",
    "df_animais_sem_id = df_animais_sem_id.drop_duplicates()\n",
    "# Seleciona apenas as linhas que possuem valores nulos na coluna \"id_produto\"\n",
    "#df_animais_sem_ID = df_animais_com_ID.drop(columns='id_produto_x', axis =1)\n",
    "#df_animais_sem_ID = df_animais_com_ID.drop(columns='id_produto_y', axis =1)\n",
    "df_animais_sem_id"
   ],
   "metadata": {
    "collapsed": false
   }
  },
  {
   "cell_type": "markdown",
   "source": [
    "# Fazendo a busca na tabela genealogia_embrapa\n",
    "Fazer verificacao manual"
   ],
   "metadata": {
    "collapsed": false
   }
  },
  {
   "cell_type": "code",
   "execution_count": 99,
   "outputs": [
    {
     "data": {
      "text/plain": "Empty DataFrame\nColumns: [reb_giro, nomea, COMPRAC, RGVACA, nomep, GSPAI, RGPAI, nomem, GSMAE, RGMAE, DNV, MNV, ANV, UF, OP, DP, MP, AP, DURLAC, LTOT, L365, L305, DE, ME, AE, CAUSA, INTER, IDPAI, IDMAE, IDANIMAL, TORNEIO, RA, TIPO, QTD_ORDENHAS, nasc, parto, secagem, anopc, anop_menos1c, rebc, rac, nordc, rebanoe, ordem, gs, sexo, cod_prod, cod_pai, cod_mae, reb, nome10caracteres, id_produto_x, id_produto_y, AN, id_produto]\nIndex: []\n\n[0 rows x 55 columns]",
      "text/html": "<div>\n<style scoped>\n    .dataframe tbody tr th:only-of-type {\n        vertical-align: middle;\n    }\n\n    .dataframe tbody tr th {\n        vertical-align: top;\n    }\n\n    .dataframe thead th {\n        text-align: right;\n    }\n</style>\n<table border=\"1\" class=\"dataframe\">\n  <thead>\n    <tr style=\"text-align: right;\">\n      <th></th>\n      <th>reb_giro</th>\n      <th>nomea</th>\n      <th>COMPRAC</th>\n      <th>RGVACA</th>\n      <th>nomep</th>\n      <th>GSPAI</th>\n      <th>RGPAI</th>\n      <th>nomem</th>\n      <th>GSMAE</th>\n      <th>RGMAE</th>\n      <th>...</th>\n      <th>sexo</th>\n      <th>cod_prod</th>\n      <th>cod_pai</th>\n      <th>cod_mae</th>\n      <th>reb</th>\n      <th>nome10caracteres</th>\n      <th>id_produto_x</th>\n      <th>id_produto_y</th>\n      <th>AN</th>\n      <th>id_produto</th>\n    </tr>\n  </thead>\n  <tbody>\n  </tbody>\n</table>\n<p>0 rows × 55 columns</p>\n</div>"
     },
     "execution_count": 99,
     "metadata": {},
     "output_type": "execute_result"
    }
   ],
   "source": [
    "#Retirando sufixo tabela genealogia\n",
    "df_genealogia_embrapa = df_genealogia_embrapa.rename(columns=lambda x: x.replace('_dir', '') if '_dir' in x else x)\n",
    "#Pegando ano nascimento nas colunas\n",
    "df_genealogia_embrapa['nasc_est'] = df_genealogia_embrapa['nasc_est'].astype(str)\n",
    "df_genealogia_embrapa['AN'] = df_genealogia_embrapa['nasc_est'].str.slice(start=0, stop=4)\n",
    "df_animais_sem_id['nasc'] = df_animais_sem_id['nasc'].astype(str)\n",
    "df_animais_sem_id['AN'] = df_animais_sem_id['nasc'].str.slice(start=0, stop=4)\n",
    "#Criando coluna com os 10 caracteres do nome na genealogia_embrapa\n",
    "df_genealogia_embrapa['nome10caracteres'] = df_genealogia_embrapa['nome'].str.slice(start=0, stop=11)\n",
    "#Convertendo coluna ano e mes para tipo inteiro\n",
    "#df_genealogia_embrapa['AN'] = df_genealogia_embrapa['AN'].astype(int)\n",
    "#Limpando tabelas\n",
    "df_animais_sem_id = df_animais_sem_id.drop(df_animais_sem_id.filter(regex='_drop$').columns, axis=1)\n",
    "df_genealogia_embrapa = df_genealogia_embrapa.drop(df_genealogia_embrapa.filter(regex='_drop$').columns, axis=1)\n",
    "#criando dataframe com os ids_encontrados\n",
    "df_animais_com_id_na_genealogia = pd.merge(df_animais_sem_id, df_genealogia_embrapa[['nome10caracteres','gs', 'registro_mae', 'registro_pai', 'sexo', 'AN','id_produto']], left_on=['nome10caracteres', 'gs','RGMAE', 'RGPAI', 'sexo', 'AN'], right_on=['nome10caracteres','gs', 'registro_mae', 'registro_pai', 'sexo', 'AN'], how='left', indicator=True, suffixes=('', '_drop'))\n",
    "df_animais_com_id_na_genealogia = df_animais_com_id_na_genealogia[df_animais_com_id_na_genealogia['_merge'] == 'both']\n",
    "df_animais_com_id_na_genealogia = df_animais_com_id_na_genealogia.drop(columns={'_merge', 'id_produto', 'registro_mae', 'registro_pai'})\n",
    "df_animais_com_id_na_genealogia = df_animais_com_id_na_genealogia.rename(columns={'id_produto_drop': 'id_produto'})\n",
    "df_animais_com_id_na_genealogia = df_animais_com_id_na_genealogia.drop(df_animais_com_id_na_genealogia.filter(regex='_drop$').columns, axis=1)\n",
    "df_animais_com_id_na_genealogia"
   ],
   "metadata": {
    "collapsed": false
   }
  },
  {
   "cell_type": "code",
   "execution_count": 100,
   "outputs": [
    {
     "data": {
      "text/plain": "     reb_giro      nomea  COMPRAC  RGVACA                    nomep  GSPAI  \\\n401      1945  BAILARINA       11  MBLO12  GENGIS KHAN DE BRASILIA     11   \n406      1945   FANTASIA       11  MBLO18     JAGUAR TE DO GAVIAO     11   \n\n       RGPAI                 nomem  GSMAE  RGMAE  ...    cod_pai     cod_mae  \\\n401  RRP6097           BEL DA RTPA     11  NLT89  ...  9265878.0  12335487.0   \n406   GAV291  ELECTRA FIV PEDREIRA     11  PPG41  ...  4176523.0  10767949.0   \n\n            reb id_produto  nome10caracteres  id_produto_x  id_produto_y  \\\n401  37634-ABCZ        NaN         BAILARINA           NaN           NaN   \n406  37634-ABCZ        NaN          FANTASIA           NaN           NaN   \n\n       AN  id_produto_drop  _merge  \n401  2020           RGIR34    both  \n406  2020           TAN219    both  \n\n[2 rows x 57 columns]",
      "text/html": "<div>\n<style scoped>\n    .dataframe tbody tr th:only-of-type {\n        vertical-align: middle;\n    }\n\n    .dataframe tbody tr th {\n        vertical-align: top;\n    }\n\n    .dataframe thead th {\n        text-align: right;\n    }\n</style>\n<table border=\"1\" class=\"dataframe\">\n  <thead>\n    <tr style=\"text-align: right;\">\n      <th></th>\n      <th>reb_giro</th>\n      <th>nomea</th>\n      <th>COMPRAC</th>\n      <th>RGVACA</th>\n      <th>nomep</th>\n      <th>GSPAI</th>\n      <th>RGPAI</th>\n      <th>nomem</th>\n      <th>GSMAE</th>\n      <th>RGMAE</th>\n      <th>...</th>\n      <th>cod_pai</th>\n      <th>cod_mae</th>\n      <th>reb</th>\n      <th>id_produto</th>\n      <th>nome10caracteres</th>\n      <th>id_produto_x</th>\n      <th>id_produto_y</th>\n      <th>AN</th>\n      <th>id_produto_drop</th>\n      <th>_merge</th>\n    </tr>\n  </thead>\n  <tbody>\n    <tr>\n      <th>401</th>\n      <td>1945</td>\n      <td>BAILARINA</td>\n      <td>11</td>\n      <td>MBLO12</td>\n      <td>GENGIS KHAN DE BRASILIA</td>\n      <td>11</td>\n      <td>RRP6097</td>\n      <td>BEL DA RTPA</td>\n      <td>11</td>\n      <td>NLT89</td>\n      <td>...</td>\n      <td>9265878.0</td>\n      <td>12335487.0</td>\n      <td>37634-ABCZ</td>\n      <td>NaN</td>\n      <td>BAILARINA</td>\n      <td>NaN</td>\n      <td>NaN</td>\n      <td>2020</td>\n      <td>RGIR34</td>\n      <td>both</td>\n    </tr>\n    <tr>\n      <th>406</th>\n      <td>1945</td>\n      <td>FANTASIA</td>\n      <td>11</td>\n      <td>MBLO18</td>\n      <td>JAGUAR TE DO GAVIAO</td>\n      <td>11</td>\n      <td>GAV291</td>\n      <td>ELECTRA FIV PEDREIRA</td>\n      <td>11</td>\n      <td>PPG41</td>\n      <td>...</td>\n      <td>4176523.0</td>\n      <td>10767949.0</td>\n      <td>37634-ABCZ</td>\n      <td>NaN</td>\n      <td>FANTASIA</td>\n      <td>NaN</td>\n      <td>NaN</td>\n      <td>2020</td>\n      <td>TAN219</td>\n      <td>both</td>\n    </tr>\n  </tbody>\n</table>\n<p>2 rows × 57 columns</p>\n</div>"
     },
     "execution_count": 100,
     "metadata": {},
     "output_type": "execute_result"
    }
   ],
   "source": [
    "df_animais_com_id_na_genealogia1 = pd.merge(df_animais_sem_id, df_genealogia_embrapa[['nome10caracteres','gs', 'sexo', 'AN','id_produto']], left_on=['nome10caracteres', 'gs', 'sexo', 'AN'], right_on=['nome10caracteres','gs', 'sexo', 'AN'], how='left', indicator=True, suffixes=('', '_drop'))\n",
    "df_animais_com_id_na_genealogia1 = df_animais_com_id_na_genealogia1[df_animais_com_id_na_genealogia1['_merge'] == 'both']\n",
    "df_animais_com_id_na_genealogia1"
   ],
   "metadata": {
    "collapsed": false
   }
  },
  {
   "cell_type": "markdown",
   "source": [
    "# Salvando df_animais_sem_id"
   ],
   "metadata": {
    "collapsed": false
   }
  },
  {
   "cell_type": "code",
   "execution_count": 101,
   "outputs": [],
   "source": [
    "df_animais_sem_id.to_hdf('df_animais_sem_id.h5', key='df', mode='w')\n",
    "df_genealogia_embrapa.to_hdf('df_genealogia_embrapa.h5', key='df', mode='w')"
   ],
   "metadata": {
    "collapsed": false
   }
  },
  {
   "cell_type": "code",
   "execution_count": 102,
   "outputs": [],
   "source": [
    "df_genealogia_embrapa.to_hdf('df_genealogia_embrapa.h5', key='df', mode='w')"
   ],
   "metadata": {
    "collapsed": false
   }
  },
  {
   "cell_type": "code",
   "execution_count": null,
   "outputs": [],
   "source": [],
   "metadata": {
    "collapsed": false
   }
  }
 ],
 "metadata": {
  "kernelspec": {
   "display_name": "Python 3",
   "language": "python",
   "name": "python3"
  },
  "language_info": {
   "codemirror_mode": {
    "name": "ipython",
    "version": 2
   },
   "file_extension": ".py",
   "mimetype": "text/x-python",
   "name": "python",
   "nbconvert_exporter": "python",
   "pygments_lexer": "ipython2",
   "version": "2.7.6"
  }
 },
 "nbformat": 4,
 "nbformat_minor": 0
}
