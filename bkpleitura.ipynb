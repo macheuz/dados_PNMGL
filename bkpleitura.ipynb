{
 "cells": [
  {
   "cell_type": "markdown",
   "source": [
    "Funcoes utilizadas\n",
    "Criar uma lista de comprimentos de strings em cada célula da coluna especificada\n",
    "comprimentos = [len(str(celula)) for celula in df.iloc[: ,4]]\n",
    "Encontrar o índice da célula com o maior número de caracteres\n",
    "indice_maior = comprimentos.index(max(comprimentos))\n",
    "Extrair a célula com o maior número de caracteres\n",
    "celula_maior = df.iloc[indice_maior][4] df.iloc[: , 4][indice_maior] df.iloc[: , 4].value_counts() celula_maior df.iloc[:,0]\n",
    "index = df.columns.get_loc(‘abcz’)\n",
    "index df"
   ],
   "metadata": {
    "collapsed": false
   }
  },
  {
   "cell_type": "markdown",
   "source": [
    "IDANIMAL = CHAVE UNICA\n",
    "MP = CHAVE UNICA -  Mes parto\n",
    "AP = CHAVE UNICA - -Ano parto\n",
    "\n",
    "LTOT = lactacao total\n",
    "L365 = lactacao em ate 365 dias\n",
    "L305 = lactacao em ate 305 dias\n",
    "DE = Data de Secagem\n",
    "ME = Mes de secagem\n",
    "AE = ANO de Secagem\n",
    "caso o LTOT, L365 e L305, DE, ME e AE sejam iguais ao arquivo old, pode ser descartado"
   ],
   "metadata": {
    "collapsed": false
   }
  },
  {
   "cell_type": "code",
   "execution_count": 1,
   "outputs": [],
   "source": [
    "import pandas as pd\n",
    "import warnings\n",
    "import re\n",
    "warnings.filterwarnings('ignore')"
   ],
   "metadata": {
    "collapsed": false
   }
  },
  {
   "cell_type": "markdown",
   "source": [
    "## conectando no banco de dados"
   ],
   "metadata": {
    "collapsed": false
   }
  },
  {
   "cell_type": "code",
   "execution_count": 2,
   "outputs": [],
   "source": [
    "import mysql.connector\n",
    "\n",
    "mydb = mysql.connector.connect(\n",
    "  host=\"127.0.0.1\",\n",
    "  user=\"root\",\n",
    "  password=\"4d5f0l9k\",\n",
    "  database=\"bioinformatica_new\"\n",
    ")"
   ],
   "metadata": {
    "collapsed": false
   }
  },
  {
   "cell_type": "markdown",
   "source": [
    "## Retornando toda tabela genealogia_embrapa e genealogia_abcz e tabela criadores do banco de dados para dataframes"
   ],
   "metadata": {
    "collapsed": false
   }
  },
  {
   "cell_type": "code",
   "execution_count": 3,
   "outputs": [],
   "source": [
    "sql = f\"WITH tabela_virtual AS (SELECT * FROM genealogia_embrapa) SELECT tv.*, (SELECT registro FROM tabela_virtual AS pai WHERE pai.id_produto = tv.id_touro) AS registro_pai, (SELECT registro FROM tabela_virtual AS mae WHERE mae.id_produto = tv.id_vaca) AS registro_mae FROM tabela_virtual AS tv\"\n",
    "sql1 = \"SELECT * FROM genealogia_abcz\"\n",
    "sql2 = \"SELECT * FROM criadores\"\n",
    "sql3 = \"SELECT * FROM producao_embrapa\"\n",
    "df_genealogia_embrapa = pd.read_sql(sql, mydb)\n",
    "df_genealogia_embrapa=df_genealogia_embrapa.rename(columns={'idanimal': 'IDANIMAL'})\n",
    "df_genealogia_abcz = pd.read_sql(sql1, mydb)\n",
    "df_criadores = pd.read_sql(sql2, mydb)\n",
    "df_producao = pd.read_sql(sql3, mydb)\n"
   ],
   "metadata": {
    "collapsed": false
   }
  },
  {
   "cell_type": "markdown",
   "source": [
    "## Lendo planilhas"
   ],
   "metadata": {
    "collapsed": false
   }
  },
  {
   "cell_type": "code",
   "execution_count": 4,
   "outputs": [],
   "source": [
    "pedigree = pd.read_csv(\"pedrigree - Girolando - 17-02-2023.txt\", encoding='ISO-8859-1')\n",
    "dados_2023 = pd.read_csv(\"PNMGL - Dados girolando - 17-02-23.txt\", encoding='ISO-8859-1')\n",
    "dados_2022 = pd.read_csv(\"PNMGL - Dados_old - 17-02-2023.txt\", encoding='ISO-8859-1')"
   ],
   "metadata": {
    "collapsed": false
   }
  },
  {
   "cell_type": "code",
   "execution_count": null,
   "outputs": [],
   "source": [
    "#pedigree"
   ],
   "metadata": {
    "collapsed": false
   }
  },
  {
   "cell_type": "code",
   "execution_count": null,
   "outputs": [],
   "source": [
    "#dados_2022"
   ],
   "metadata": {
    "collapsed": false
   }
  },
  {
   "cell_type": "code",
   "execution_count": null,
   "outputs": [],
   "source": [
    "#dados_2023"
   ],
   "metadata": {
    "collapsed": false
   }
  },
  {
   "cell_type": "code",
   "execution_count": null,
   "outputs": [],
   "source": [
    "#df_genealogia_embrapa"
   ],
   "metadata": {
    "collapsed": false
   }
  },
  {
   "cell_type": "code",
   "execution_count": null,
   "outputs": [],
   "source": [
    "df_genealogia_abcz"
   ],
   "metadata": {
    "collapsed": false
   }
  },
  {
   "cell_type": "code",
   "execution_count": null,
   "outputs": [],
   "source": [
    "#df_criadores"
   ],
   "metadata": {
    "collapsed": false
   }
  },
  {
   "cell_type": "code",
   "execution_count": null,
   "outputs": [],
   "source": [
    "#df_producao"
   ],
   "metadata": {
    "collapsed": false
   }
  },
  {
   "cell_type": "markdown",
   "source": [
    "## Criando um dataframe que é a junção dos dois dataframes, dados_2022 e dados_2023, pelas celulas que possuem os mesmos valores nas colunas IDANIMAL, AP, MP, L305, LTOT, L365, ME e AE."
   ],
   "metadata": {
    "collapsed": false
   }
  },
  {
   "cell_type": "code",
   "execution_count": 5,
   "outputs": [],
   "source": [
    "df_dados_sem_atualizacao_entre_2022_2023 = pd.merge(dados_2023, dados_2022, on=['IDANIMAL', 'AP', 'MP','L305', 'LTOT', 'L365', 'ME', 'AE', 'CAUSA'],suffixes=('', '_drop'))\n",
    "df_dados_sem_atualizacao_entre_2022_2023 = df_dados_sem_atualizacao_entre_2022_2023.drop(df_dados_sem_atualizacao_entre_2022_2023.filter(regex='_drop$').columns, axis=1)\n",
    "df_dados_sem_atualizacao_entre_2022_2023 = df_dados_sem_atualizacao_entre_2022_2023.drop_duplicates()\n",
    "#df_dados_sem_atualizacao_entre_2022_2023"
   ],
   "metadata": {
    "collapsed": false
   }
  },
  {
   "cell_type": "markdown",
   "source": [
    "## Criando um dataframe com somente os novos dados inseridos em 2023\n",
    "Esses são os dados que precisam ser inseridos no banco de dados"
   ],
   "metadata": {
    "collapsed": false
   }
  },
  {
   "cell_type": "code",
   "execution_count": 6,
   "outputs": [],
   "source": [
    "# faz o merge entre os dois dataframes, o dados com os dados repetidos\n",
    "df_merge = pd.merge(dados_2023, df_dados_sem_atualizacao_entre_2022_2023, how='left', indicator=True, suffixes=('', '_drop'))\n",
    "\n",
    "# filtra somente as linhas que estão no dataframe da esquerda\n",
    "df_dados_novos_para_insercao_no_banco_de_dados = df_merge[df_merge['_merge'] == 'left_only']\n",
    "\n",
    "# remove a coluna \"_merge\"\n",
    "df_dados_novos_para_insercao_no_banco_de_dados.drop('_merge', axis=1, inplace=True)\n",
    "\n",
    "df_dados_novos_para_insercao_no_banco_de_dados = df_dados_novos_para_insercao_no_banco_de_dados.drop(df_merge.filter(regex='_drop$').columns, axis=1)\n",
    "df_dados_novos_para_insercao_no_banco_de_dados = df_dados_novos_para_insercao_no_banco_de_dados.drop_duplicates()\n",
    "#df_dados_novos_para_insercao_no_banco_de_dados"
   ],
   "metadata": {
    "collapsed": false
   }
  },
  {
   "cell_type": "markdown",
   "source": [
    "# Adicionando coluna GS, oriunda do dataframe Pedigree, no dataframe df_dados_novos_para_insercao_no_banco_de_dados\n",
    "inclusão necessária para localizar o animal"
   ],
   "metadata": {
    "collapsed": false
   }
  },
  {
   "cell_type": "code",
   "execution_count": 7,
   "outputs": [],
   "source": [
    "df_temporaria = pd.merge(df_dados_novos_para_insercao_no_banco_de_dados, pedigree[['IDANIMAL', 'gs', 'SEXO']], on=['IDANIMAL'], suffixes=('', '_drop'))\n",
    "df_dados_novos_para_insercao_no_banco_de_dados=df_temporaria\n",
    "df_dados_novos_para_insercao_no_banco_de_dados\n",
    "\n",
    "nome_antigo = 'SEXO'\n",
    "nome_novo = 'sexo'\n",
    "indice_coluna = df_dados_novos_para_insercao_no_banco_de_dados.columns.get_loc(nome_antigo)\n",
    "df_dados_novos_para_insercao_no_banco_de_dados.rename(columns={nome_antigo: nome_novo}, inplace=True)\n",
    "#df_dados_novos_para_insercao_no_banco_de_dados"
   ],
   "metadata": {
    "collapsed": false
   }
  },
  {
   "cell_type": "markdown",
   "source": [
    "# Criando subtabela com somente as linhas que possuem gs = 0 no dataframe df_dados_novos_para_insercao_no_banco_de_dados"
   ],
   "metadata": {
    "collapsed": false
   }
  },
  {
   "cell_type": "code",
   "execution_count": 8,
   "outputs": [
    {
     "data": {
      "text/plain": "      reb_giro                   nomea  COMPRAC   RGVACA  \\\n53        5191           IBERICA FARDO       11   APKK18   \n79        1945     BROMELIA FIV DO JRD       11   JRDG28   \n81        4667          DAMA F.INDIANA       11  SNFP140   \n99        4667    MEIA NOITE F.INDIANA       11   SNFN48   \n184       5192  URUPIANGA FIV DE BRAS.       11  RRP8772   \n...        ...                     ...      ...      ...   \n993       5192     PILLAR FIV DE BRAS.       11  RRP8130   \n995       4667      IRLANDA F. INDIANA       11   SNFN16   \n1000      6915       DEJUA DAS ARABIAS       11   RHBR63   \n1002      6915       PRATA DAS ARABIAS       11   RHBR49   \n1005      2389   RELIQUIA FIV DE BRAS.       11  RRP8261   \n\n                        nomep  GSPAI    RGPAI                    nomem  GSMAE  \\\n53          FARDO FIV F.MUTUM     11   MUT697                ESPANHOLA     11   \n79           RADAR DOS POCOES     11    A7368                PROFANA 6     11   \n81          FARDO FIV F.MUTUM     11   MUT697      SOBERANA F. INDIANA     11   \n99         MAESTRO TE F.MUTUM     11   MUT214        ESTRELA F.INDIANA     11   \n184      JAGUAR TE DO GAVIAO     11   GAV291       HONDA FIV DE BRAS.     11   \n...                       ...    ...      ...                      ...    ...   \n993   DIAMANTE TE DE BRASILIA     11  RRP5640  JAMARIA FIV DE BRASILIA     11   \n995         FARDO FIV F.MUTUM     11   MUT697      LONDRINA F. INDIANA     11   \n1000      MAJOR TE DOS POCOES     11  APPG801         DEJUA TE F.MUTUM     11   \n1002    VALE OURO TE SILVANIA     11   EFC464                     JADE     11   \n1005        FARDO FIV F.MUTUM     11   MUT697  JAMARIA FIV DE BRASILIA     11   \n\n        RGMAE  ...     secagem  anopc  anop_menos1c  rebc  rac  nordc  \\\n53      APKK1  ...  2021-04-14   2020          2019  5191    2      2   \n79      EBQG1  ...  2022-08-25   2022          2021  1945    2      2   \n81      Z3236  ...  2022-01-28   2021          2020  4667    2      2   \n99     SNFP87  ...  2022-07-06   2021          2020  4667    2      2   \n184   RRP6268  ...  2022-07-13   2021          2020  5192    3      2   \n...       ...  ...         ...    ...           ...   ...  ...    ...   \n993   RRP6958  ...  2022-11-12   2022          2021  5192    3      2   \n995    SNFP44  ...  2022-10-08   2022          2021  4667    2      2   \n1000   MUT395  ...  2022-04-26   2021          2020  6915    2      2   \n1002    RHBR4  ...  2022-03-01   2021          2020  6915    2      2   \n1005  RRP6958  ...  2020-05-09   2019          2018  2389    2      2   \n\n          rebanoe  ordem  gs  sexo  \n53    51912020222    NaN   0     F  \n79    19452022222    NaN   0     F  \n81    46672021222    NaN   0     F  \n99    46672020122    NaN   0     F  \n184   51922021232    NaN   0     F  \n...           ...    ...  ..   ...  \n993   51922021132    NaN   0     F  \n995   46672022222    NaN   0     F  \n1000  69152021222    NaN   0     F  \n1002  69152021222    NaN   0     F  \n1005  23892019122    NaN   0     F  \n\n[79 rows x 46 columns]",
      "text/html": "<div>\n<style scoped>\n    .dataframe tbody tr th:only-of-type {\n        vertical-align: middle;\n    }\n\n    .dataframe tbody tr th {\n        vertical-align: top;\n    }\n\n    .dataframe thead th {\n        text-align: right;\n    }\n</style>\n<table border=\"1\" class=\"dataframe\">\n  <thead>\n    <tr style=\"text-align: right;\">\n      <th></th>\n      <th>reb_giro</th>\n      <th>nomea</th>\n      <th>COMPRAC</th>\n      <th>RGVACA</th>\n      <th>nomep</th>\n      <th>GSPAI</th>\n      <th>RGPAI</th>\n      <th>nomem</th>\n      <th>GSMAE</th>\n      <th>RGMAE</th>\n      <th>...</th>\n      <th>secagem</th>\n      <th>anopc</th>\n      <th>anop_menos1c</th>\n      <th>rebc</th>\n      <th>rac</th>\n      <th>nordc</th>\n      <th>rebanoe</th>\n      <th>ordem</th>\n      <th>gs</th>\n      <th>sexo</th>\n    </tr>\n  </thead>\n  <tbody>\n    <tr>\n      <th>53</th>\n      <td>5191</td>\n      <td>IBERICA FARDO</td>\n      <td>11</td>\n      <td>APKK18</td>\n      <td>FARDO FIV F.MUTUM</td>\n      <td>11</td>\n      <td>MUT697</td>\n      <td>ESPANHOLA</td>\n      <td>11</td>\n      <td>APKK1</td>\n      <td>...</td>\n      <td>2021-04-14</td>\n      <td>2020</td>\n      <td>2019</td>\n      <td>5191</td>\n      <td>2</td>\n      <td>2</td>\n      <td>51912020222</td>\n      <td>NaN</td>\n      <td>0</td>\n      <td>F</td>\n    </tr>\n    <tr>\n      <th>79</th>\n      <td>1945</td>\n      <td>BROMELIA FIV DO JRD</td>\n      <td>11</td>\n      <td>JRDG28</td>\n      <td>RADAR DOS POCOES</td>\n      <td>11</td>\n      <td>A7368</td>\n      <td>PROFANA 6</td>\n      <td>11</td>\n      <td>EBQG1</td>\n      <td>...</td>\n      <td>2022-08-25</td>\n      <td>2022</td>\n      <td>2021</td>\n      <td>1945</td>\n      <td>2</td>\n      <td>2</td>\n      <td>19452022222</td>\n      <td>NaN</td>\n      <td>0</td>\n      <td>F</td>\n    </tr>\n    <tr>\n      <th>81</th>\n      <td>4667</td>\n      <td>DAMA F.INDIANA</td>\n      <td>11</td>\n      <td>SNFP140</td>\n      <td>FARDO FIV F.MUTUM</td>\n      <td>11</td>\n      <td>MUT697</td>\n      <td>SOBERANA F. INDIANA</td>\n      <td>11</td>\n      <td>Z3236</td>\n      <td>...</td>\n      <td>2022-01-28</td>\n      <td>2021</td>\n      <td>2020</td>\n      <td>4667</td>\n      <td>2</td>\n      <td>2</td>\n      <td>46672021222</td>\n      <td>NaN</td>\n      <td>0</td>\n      <td>F</td>\n    </tr>\n    <tr>\n      <th>99</th>\n      <td>4667</td>\n      <td>MEIA NOITE F.INDIANA</td>\n      <td>11</td>\n      <td>SNFN48</td>\n      <td>MAESTRO TE F.MUTUM</td>\n      <td>11</td>\n      <td>MUT214</td>\n      <td>ESTRELA F.INDIANA</td>\n      <td>11</td>\n      <td>SNFP87</td>\n      <td>...</td>\n      <td>2022-07-06</td>\n      <td>2021</td>\n      <td>2020</td>\n      <td>4667</td>\n      <td>2</td>\n      <td>2</td>\n      <td>46672020122</td>\n      <td>NaN</td>\n      <td>0</td>\n      <td>F</td>\n    </tr>\n    <tr>\n      <th>184</th>\n      <td>5192</td>\n      <td>URUPIANGA FIV DE BRAS.</td>\n      <td>11</td>\n      <td>RRP8772</td>\n      <td>JAGUAR TE DO GAVIAO</td>\n      <td>11</td>\n      <td>GAV291</td>\n      <td>HONDA FIV DE BRAS.</td>\n      <td>11</td>\n      <td>RRP6268</td>\n      <td>...</td>\n      <td>2022-07-13</td>\n      <td>2021</td>\n      <td>2020</td>\n      <td>5192</td>\n      <td>3</td>\n      <td>2</td>\n      <td>51922021232</td>\n      <td>NaN</td>\n      <td>0</td>\n      <td>F</td>\n    </tr>\n    <tr>\n      <th>...</th>\n      <td>...</td>\n      <td>...</td>\n      <td>...</td>\n      <td>...</td>\n      <td>...</td>\n      <td>...</td>\n      <td>...</td>\n      <td>...</td>\n      <td>...</td>\n      <td>...</td>\n      <td>...</td>\n      <td>...</td>\n      <td>...</td>\n      <td>...</td>\n      <td>...</td>\n      <td>...</td>\n      <td>...</td>\n      <td>...</td>\n      <td>...</td>\n      <td>...</td>\n      <td>...</td>\n    </tr>\n    <tr>\n      <th>993</th>\n      <td>5192</td>\n      <td>PILLAR FIV DE BRAS.</td>\n      <td>11</td>\n      <td>RRP8130</td>\n      <td>DIAMANTE TE DE BRASILIA</td>\n      <td>11</td>\n      <td>RRP5640</td>\n      <td>JAMARIA FIV DE BRASILIA</td>\n      <td>11</td>\n      <td>RRP6958</td>\n      <td>...</td>\n      <td>2022-11-12</td>\n      <td>2022</td>\n      <td>2021</td>\n      <td>5192</td>\n      <td>3</td>\n      <td>2</td>\n      <td>51922021132</td>\n      <td>NaN</td>\n      <td>0</td>\n      <td>F</td>\n    </tr>\n    <tr>\n      <th>995</th>\n      <td>4667</td>\n      <td>IRLANDA F. INDIANA</td>\n      <td>11</td>\n      <td>SNFN16</td>\n      <td>FARDO FIV F.MUTUM</td>\n      <td>11</td>\n      <td>MUT697</td>\n      <td>LONDRINA F. INDIANA</td>\n      <td>11</td>\n      <td>SNFP44</td>\n      <td>...</td>\n      <td>2022-10-08</td>\n      <td>2022</td>\n      <td>2021</td>\n      <td>4667</td>\n      <td>2</td>\n      <td>2</td>\n      <td>46672022222</td>\n      <td>NaN</td>\n      <td>0</td>\n      <td>F</td>\n    </tr>\n    <tr>\n      <th>1000</th>\n      <td>6915</td>\n      <td>DEJUA DAS ARABIAS</td>\n      <td>11</td>\n      <td>RHBR63</td>\n      <td>MAJOR TE DOS POCOES</td>\n      <td>11</td>\n      <td>APPG801</td>\n      <td>DEJUA TE F.MUTUM</td>\n      <td>11</td>\n      <td>MUT395</td>\n      <td>...</td>\n      <td>2022-04-26</td>\n      <td>2021</td>\n      <td>2020</td>\n      <td>6915</td>\n      <td>2</td>\n      <td>2</td>\n      <td>69152021222</td>\n      <td>NaN</td>\n      <td>0</td>\n      <td>F</td>\n    </tr>\n    <tr>\n      <th>1002</th>\n      <td>6915</td>\n      <td>PRATA DAS ARABIAS</td>\n      <td>11</td>\n      <td>RHBR49</td>\n      <td>VALE OURO TE SILVANIA</td>\n      <td>11</td>\n      <td>EFC464</td>\n      <td>JADE</td>\n      <td>11</td>\n      <td>RHBR4</td>\n      <td>...</td>\n      <td>2022-03-01</td>\n      <td>2021</td>\n      <td>2020</td>\n      <td>6915</td>\n      <td>2</td>\n      <td>2</td>\n      <td>69152021222</td>\n      <td>NaN</td>\n      <td>0</td>\n      <td>F</td>\n    </tr>\n    <tr>\n      <th>1005</th>\n      <td>2389</td>\n      <td>RELIQUIA FIV DE BRAS.</td>\n      <td>11</td>\n      <td>RRP8261</td>\n      <td>FARDO FIV F.MUTUM</td>\n      <td>11</td>\n      <td>MUT697</td>\n      <td>JAMARIA FIV DE BRASILIA</td>\n      <td>11</td>\n      <td>RRP6958</td>\n      <td>...</td>\n      <td>2020-05-09</td>\n      <td>2019</td>\n      <td>2018</td>\n      <td>2389</td>\n      <td>2</td>\n      <td>2</td>\n      <td>23892019122</td>\n      <td>NaN</td>\n      <td>0</td>\n      <td>F</td>\n    </tr>\n  </tbody>\n</table>\n<p>79 rows × 46 columns</p>\n</div>"
     },
     "execution_count": 8,
     "metadata": {},
     "output_type": "execute_result"
    }
   ],
   "source": [
    "sub_tabela_gs_0 = df_dados_novos_para_insercao_no_banco_de_dados[df_dados_novos_para_insercao_no_banco_de_dados['gs'] == 0]\n",
    "sub_tabela_gs_0"
   ],
   "metadata": {
    "collapsed": false
   }
  },
  {
   "cell_type": "markdown",
   "source": [
    "# Adicionando coluna cod_prod, cod_pai e cod_mae, oriundos do dataframe df_genealogia_abcz, na subtabela gs_0 dos animais que sao gs=0"
   ],
   "metadata": {
    "collapsed": false
   }
  },
  {
   "cell_type": "code",
   "execution_count": 9,
   "outputs": [
    {
     "data": {
      "text/plain": "    reb_giro                   nomea  COMPRAC   RGVACA  \\\n0       5191           IBERICA FARDO       11   APKK18   \n1       1945     BROMELIA FIV DO JRD       11   JRDG28   \n2       4667          DAMA F.INDIANA       11  SNFP140   \n3       4667    MEIA NOITE F.INDIANA       11   SNFN48   \n4       5192  URUPIANGA FIV DE BRAS.       11  RRP8772   \n..       ...                     ...      ...      ...   \n74      5192     PILLAR FIV DE BRAS.       11  RRP8130   \n75      4667      IRLANDA F. INDIANA       11   SNFN16   \n76      6915       DEJUA DAS ARABIAS       11   RHBR63   \n77      6915       PRATA DAS ARABIAS       11   RHBR49   \n78      2389   RELIQUIA FIV DE BRAS.       11  RRP8261   \n\n                      nomep  GSPAI    RGPAI                    nomem  GSMAE  \\\n0         FARDO FIV F.MUTUM     11   MUT697                ESPANHOLA     11   \n1          RADAR DOS POCOES     11    A7368                PROFANA 6     11   \n2         FARDO FIV F.MUTUM     11   MUT697      SOBERANA F. INDIANA     11   \n3        MAESTRO TE F.MUTUM     11   MUT214        ESTRELA F.INDIANA     11   \n4      JAGUAR TE DO GAVIAO     11   GAV291       HONDA FIV DE BRAS.     11   \n..                      ...    ...      ...                      ...    ...   \n74  DIAMANTE TE DE BRASILIA     11  RRP5640  JAMARIA FIV DE BRASILIA     11   \n75        FARDO FIV F.MUTUM     11   MUT697      LONDRINA F. INDIANA     11   \n76      MAJOR TE DOS POCOES     11  APPG801         DEJUA TE F.MUTUM     11   \n77    VALE OURO TE SILVANIA     11   EFC464                     JADE     11   \n78        FARDO FIV F.MUTUM     11   MUT697  JAMARIA FIV DE BRASILIA     11   \n\n      RGMAE  ...  rebc  rac  nordc      rebanoe  ordem  gs  sexo    cod_prod  \\\n0     APKK1  ...  5191    2      2  51912020222    NaN   0     F  13672891.0   \n1     EBQG1  ...  1945    2      2  19452022222    NaN   0     F  12005290.0   \n2     Z3236  ...  4667    2      2  46672021222    NaN   0     F  12175694.0   \n3    SNFP87  ...  4667    2      2  46672020122    NaN   0     F  12971292.0   \n4   RRP6268  ...  5192    3      2  51922021232    NaN   0     F  17054525.0   \n..      ...  ...   ...  ...    ...          ...    ...  ..   ...         ...   \n74  RRP6958  ...  5192    3      2  51922021132    NaN   0     F  14820082.0   \n75   SNFP44  ...  4667    2      2  46672022222    NaN   0     F  11921127.0   \n76   MUT395  ...  6915    2      2  69152021222    NaN   0     F  13478123.0   \n77    RHBR4  ...  6915    2      2  69152021222    NaN   0     F  11470928.0   \n78  RRP6958  ...  2389    2      2  23892019122    NaN   0     F  15128073.0   \n\n      cod_pai     cod_mae  \n0   8530023.0  10614116.0  \n1   1615985.0  10091814.0  \n2   8530023.0  10905624.0  \n3   5932826.0   9691642.0  \n4   4176523.0  13961623.0  \n..        ...         ...  \n74  6716196.0  11600828.0  \n75  8530023.0   6352036.0  \n76  3196251.0   8006397.0  \n77  3890526.0   9469537.0  \n78  8530023.0  11600828.0  \n\n[79 rows x 49 columns]",
      "text/html": "<div>\n<style scoped>\n    .dataframe tbody tr th:only-of-type {\n        vertical-align: middle;\n    }\n\n    .dataframe tbody tr th {\n        vertical-align: top;\n    }\n\n    .dataframe thead th {\n        text-align: right;\n    }\n</style>\n<table border=\"1\" class=\"dataframe\">\n  <thead>\n    <tr style=\"text-align: right;\">\n      <th></th>\n      <th>reb_giro</th>\n      <th>nomea</th>\n      <th>COMPRAC</th>\n      <th>RGVACA</th>\n      <th>nomep</th>\n      <th>GSPAI</th>\n      <th>RGPAI</th>\n      <th>nomem</th>\n      <th>GSMAE</th>\n      <th>RGMAE</th>\n      <th>...</th>\n      <th>rebc</th>\n      <th>rac</th>\n      <th>nordc</th>\n      <th>rebanoe</th>\n      <th>ordem</th>\n      <th>gs</th>\n      <th>sexo</th>\n      <th>cod_prod</th>\n      <th>cod_pai</th>\n      <th>cod_mae</th>\n    </tr>\n  </thead>\n  <tbody>\n    <tr>\n      <th>0</th>\n      <td>5191</td>\n      <td>IBERICA FARDO</td>\n      <td>11</td>\n      <td>APKK18</td>\n      <td>FARDO FIV F.MUTUM</td>\n      <td>11</td>\n      <td>MUT697</td>\n      <td>ESPANHOLA</td>\n      <td>11</td>\n      <td>APKK1</td>\n      <td>...</td>\n      <td>5191</td>\n      <td>2</td>\n      <td>2</td>\n      <td>51912020222</td>\n      <td>NaN</td>\n      <td>0</td>\n      <td>F</td>\n      <td>13672891.0</td>\n      <td>8530023.0</td>\n      <td>10614116.0</td>\n    </tr>\n    <tr>\n      <th>1</th>\n      <td>1945</td>\n      <td>BROMELIA FIV DO JRD</td>\n      <td>11</td>\n      <td>JRDG28</td>\n      <td>RADAR DOS POCOES</td>\n      <td>11</td>\n      <td>A7368</td>\n      <td>PROFANA 6</td>\n      <td>11</td>\n      <td>EBQG1</td>\n      <td>...</td>\n      <td>1945</td>\n      <td>2</td>\n      <td>2</td>\n      <td>19452022222</td>\n      <td>NaN</td>\n      <td>0</td>\n      <td>F</td>\n      <td>12005290.0</td>\n      <td>1615985.0</td>\n      <td>10091814.0</td>\n    </tr>\n    <tr>\n      <th>2</th>\n      <td>4667</td>\n      <td>DAMA F.INDIANA</td>\n      <td>11</td>\n      <td>SNFP140</td>\n      <td>FARDO FIV F.MUTUM</td>\n      <td>11</td>\n      <td>MUT697</td>\n      <td>SOBERANA F. INDIANA</td>\n      <td>11</td>\n      <td>Z3236</td>\n      <td>...</td>\n      <td>4667</td>\n      <td>2</td>\n      <td>2</td>\n      <td>46672021222</td>\n      <td>NaN</td>\n      <td>0</td>\n      <td>F</td>\n      <td>12175694.0</td>\n      <td>8530023.0</td>\n      <td>10905624.0</td>\n    </tr>\n    <tr>\n      <th>3</th>\n      <td>4667</td>\n      <td>MEIA NOITE F.INDIANA</td>\n      <td>11</td>\n      <td>SNFN48</td>\n      <td>MAESTRO TE F.MUTUM</td>\n      <td>11</td>\n      <td>MUT214</td>\n      <td>ESTRELA F.INDIANA</td>\n      <td>11</td>\n      <td>SNFP87</td>\n      <td>...</td>\n      <td>4667</td>\n      <td>2</td>\n      <td>2</td>\n      <td>46672020122</td>\n      <td>NaN</td>\n      <td>0</td>\n      <td>F</td>\n      <td>12971292.0</td>\n      <td>5932826.0</td>\n      <td>9691642.0</td>\n    </tr>\n    <tr>\n      <th>4</th>\n      <td>5192</td>\n      <td>URUPIANGA FIV DE BRAS.</td>\n      <td>11</td>\n      <td>RRP8772</td>\n      <td>JAGUAR TE DO GAVIAO</td>\n      <td>11</td>\n      <td>GAV291</td>\n      <td>HONDA FIV DE BRAS.</td>\n      <td>11</td>\n      <td>RRP6268</td>\n      <td>...</td>\n      <td>5192</td>\n      <td>3</td>\n      <td>2</td>\n      <td>51922021232</td>\n      <td>NaN</td>\n      <td>0</td>\n      <td>F</td>\n      <td>17054525.0</td>\n      <td>4176523.0</td>\n      <td>13961623.0</td>\n    </tr>\n    <tr>\n      <th>...</th>\n      <td>...</td>\n      <td>...</td>\n      <td>...</td>\n      <td>...</td>\n      <td>...</td>\n      <td>...</td>\n      <td>...</td>\n      <td>...</td>\n      <td>...</td>\n      <td>...</td>\n      <td>...</td>\n      <td>...</td>\n      <td>...</td>\n      <td>...</td>\n      <td>...</td>\n      <td>...</td>\n      <td>...</td>\n      <td>...</td>\n      <td>...</td>\n      <td>...</td>\n      <td>...</td>\n    </tr>\n    <tr>\n      <th>74</th>\n      <td>5192</td>\n      <td>PILLAR FIV DE BRAS.</td>\n      <td>11</td>\n      <td>RRP8130</td>\n      <td>DIAMANTE TE DE BRASILIA</td>\n      <td>11</td>\n      <td>RRP5640</td>\n      <td>JAMARIA FIV DE BRASILIA</td>\n      <td>11</td>\n      <td>RRP6958</td>\n      <td>...</td>\n      <td>5192</td>\n      <td>3</td>\n      <td>2</td>\n      <td>51922021132</td>\n      <td>NaN</td>\n      <td>0</td>\n      <td>F</td>\n      <td>14820082.0</td>\n      <td>6716196.0</td>\n      <td>11600828.0</td>\n    </tr>\n    <tr>\n      <th>75</th>\n      <td>4667</td>\n      <td>IRLANDA F. INDIANA</td>\n      <td>11</td>\n      <td>SNFN16</td>\n      <td>FARDO FIV F.MUTUM</td>\n      <td>11</td>\n      <td>MUT697</td>\n      <td>LONDRINA F. INDIANA</td>\n      <td>11</td>\n      <td>SNFP44</td>\n      <td>...</td>\n      <td>4667</td>\n      <td>2</td>\n      <td>2</td>\n      <td>46672022222</td>\n      <td>NaN</td>\n      <td>0</td>\n      <td>F</td>\n      <td>11921127.0</td>\n      <td>8530023.0</td>\n      <td>6352036.0</td>\n    </tr>\n    <tr>\n      <th>76</th>\n      <td>6915</td>\n      <td>DEJUA DAS ARABIAS</td>\n      <td>11</td>\n      <td>RHBR63</td>\n      <td>MAJOR TE DOS POCOES</td>\n      <td>11</td>\n      <td>APPG801</td>\n      <td>DEJUA TE F.MUTUM</td>\n      <td>11</td>\n      <td>MUT395</td>\n      <td>...</td>\n      <td>6915</td>\n      <td>2</td>\n      <td>2</td>\n      <td>69152021222</td>\n      <td>NaN</td>\n      <td>0</td>\n      <td>F</td>\n      <td>13478123.0</td>\n      <td>3196251.0</td>\n      <td>8006397.0</td>\n    </tr>\n    <tr>\n      <th>77</th>\n      <td>6915</td>\n      <td>PRATA DAS ARABIAS</td>\n      <td>11</td>\n      <td>RHBR49</td>\n      <td>VALE OURO TE SILVANIA</td>\n      <td>11</td>\n      <td>EFC464</td>\n      <td>JADE</td>\n      <td>11</td>\n      <td>RHBR4</td>\n      <td>...</td>\n      <td>6915</td>\n      <td>2</td>\n      <td>2</td>\n      <td>69152021222</td>\n      <td>NaN</td>\n      <td>0</td>\n      <td>F</td>\n      <td>11470928.0</td>\n      <td>3890526.0</td>\n      <td>9469537.0</td>\n    </tr>\n    <tr>\n      <th>78</th>\n      <td>2389</td>\n      <td>RELIQUIA FIV DE BRAS.</td>\n      <td>11</td>\n      <td>RRP8261</td>\n      <td>FARDO FIV F.MUTUM</td>\n      <td>11</td>\n      <td>MUT697</td>\n      <td>JAMARIA FIV DE BRASILIA</td>\n      <td>11</td>\n      <td>RRP6958</td>\n      <td>...</td>\n      <td>2389</td>\n      <td>2</td>\n      <td>2</td>\n      <td>23892019122</td>\n      <td>NaN</td>\n      <td>0</td>\n      <td>F</td>\n      <td>15128073.0</td>\n      <td>8530023.0</td>\n      <td>11600828.0</td>\n    </tr>\n  </tbody>\n</table>\n<p>79 rows × 49 columns</p>\n</div>"
     },
     "execution_count": 9,
     "metadata": {},
     "output_type": "execute_result"
    }
   ],
   "source": [
    "df_genealogia_abcz = df_genealogia_abcz.rename(columns={'rgd2': 'RGVACA'})\n",
    "df_temporaria1 = pd.merge(sub_tabela_gs_0, df_genealogia_abcz[['RGVACA', 'cod_prod', 'cod_pai', 'cod_mae']], on=['RGVACA'], how='left', suffixes=('', '_drop'))\n",
    "sub_tabela_gs_0=df_temporaria1\n",
    "sub_tabela_gs_0 = sub_tabela_gs_0.drop_duplicates()\n",
    "sub_tabela_gs_0"
   ],
   "metadata": {
    "collapsed": false
   }
  },
  {
   "cell_type": "markdown",
   "source": [
    "# Adicionando codprod, cod_pai, cod_mae no dataframe df_dados_novos_para_insercao_no_banco_de_dados a partir do dataframe sub_tabela_gs_0"
   ],
   "metadata": {
    "collapsed": false
   }
  },
  {
   "cell_type": "code",
   "execution_count": 10,
   "outputs": [
    {
     "data": {
      "text/plain": "      reb_giro                            nomea  COMPRAC    RGVACA  \\\n0         7461   NANA IMPERADOR BAXTER RF SAO F     5858   6353-AH   \n1        10639  LANAA FIV AFTERSHOCK BON.BELEM       12   9592-AG   \n2         6039   EDILAINE IMPERIO FIV 4303 JARD       12  AADA0352   \n3         1945             ARMA MERIDIAN DA MBL       12   1025-AN   \n4        73119   CELESTE 136 TEATRO FIV COOPERR       12   1239-BF   \n...        ...                              ...      ...       ...   \n1038      6029                DUNCAN FR RECREIO       14    0928-T   \n1039       132        QUINTA I COLE AGM TRIUNFO       34   9243-AG   \n1040      6915                  LIA DAS ARABIAS     5858   6125-BR   \n1041      6029          GERMANA FEBO FR RECREIO     5858   9069-AS   \n1042     83436                    LINDA SJ LALU       34   2734-BK   \n\n                              nomep  GSPAI     RGPAI  \\\n0       IMPERADOR BAXTER VOLTA FRIA     58      1459   \n1     MS ATLEES SHT AFTERSHOCK - ET     10  AX129928   \n2            IMPERIO TE STA EDWIGES     11    RIG163   \n3            SULLY HART MERIDIAN-ET     10  AX138576   \n4                TEATRO DA SILVANIA     11    EFC383   \n...                             ...    ...       ...   \n1038           JAGUAR TE DO GAVIAO     11    GAV291   \n1039         CO-OP TOYSTORY COLE-ET     10  AX129567   \n1040              TURBO DAS ARABIAS   5858      0079   \n1041                FEBO FR RECREIO     58    6300-N   \n1042                              0      0         0   \n\n                              nomem  GSMAE         RGMAE  ...   rebc  rac  \\\n0     JURITI HERBY RF SAO FRANCISCO     58        6877-N  ...   7461    2   \n1                  JOANE FIV KUBERA     11      ACFG1840  ...  10639    2   \n2     SERTEC QATAR FABIANA PROGRESS     10  HBB/B-291392  ...   6039    2   \n3                              FAMA     11        JNR167  ...   1945    2   \n4        LAGOS ASTRE QUIMICA 795 TE     10      BX335536  ...  73119    2   \n...                             ...    ...           ...  ...    ...  ...   \n1038           NILOPOLIS FR RECREIO     12       AB-0524  ...   6029    2   \n1039                   QUINTA FIV M     12        0473-O  ...    132    2   \n1040             LILIKA DAS ARABIAS     58       4916-AW  ...   6915    2   \n1041            CAMPANHA FR RECREIO     58        6180-N  ...   6029    2   \n1042                              0      0             0  ...  83436    3   \n\n      nordc       rebanoe  ordem  gs  sexo  cod_prod  cod_pai  cod_mae  \n0         2   74612019122    NaN   5     F       NaN      NaN      NaN  \n1         2  106392021122    NaN   4     F       NaN      NaN      NaN  \n2         2   60392020122    NaN   4     F       NaN      NaN      NaN  \n3         2   19452021222    NaN   4     F       NaN      NaN      NaN  \n4         2  731192021222    NaN   4     F       NaN      NaN      NaN  \n...     ...           ...    ...  ..   ...       ...      ...      ...  \n1038      2   60292021222    NaN   2     F       NaN      NaN      NaN  \n1039      2    1322019222    NaN   6     F       NaN      NaN      NaN  \n1040      2   69152021222    NaN   5     F       NaN      NaN      NaN  \n1041      2   60292019122    NaN   5     F       NaN      NaN      NaN  \n1042      2  834362021232    NaN   6     F       NaN      NaN      NaN  \n\n[1039 rows x 49 columns]",
      "text/html": "<div>\n<style scoped>\n    .dataframe tbody tr th:only-of-type {\n        vertical-align: middle;\n    }\n\n    .dataframe tbody tr th {\n        vertical-align: top;\n    }\n\n    .dataframe thead th {\n        text-align: right;\n    }\n</style>\n<table border=\"1\" class=\"dataframe\">\n  <thead>\n    <tr style=\"text-align: right;\">\n      <th></th>\n      <th>reb_giro</th>\n      <th>nomea</th>\n      <th>COMPRAC</th>\n      <th>RGVACA</th>\n      <th>nomep</th>\n      <th>GSPAI</th>\n      <th>RGPAI</th>\n      <th>nomem</th>\n      <th>GSMAE</th>\n      <th>RGMAE</th>\n      <th>...</th>\n      <th>rebc</th>\n      <th>rac</th>\n      <th>nordc</th>\n      <th>rebanoe</th>\n      <th>ordem</th>\n      <th>gs</th>\n      <th>sexo</th>\n      <th>cod_prod</th>\n      <th>cod_pai</th>\n      <th>cod_mae</th>\n    </tr>\n  </thead>\n  <tbody>\n    <tr>\n      <th>0</th>\n      <td>7461</td>\n      <td>NANA IMPERADOR BAXTER RF SAO F</td>\n      <td>5858</td>\n      <td>6353-AH</td>\n      <td>IMPERADOR BAXTER VOLTA FRIA</td>\n      <td>58</td>\n      <td>1459</td>\n      <td>JURITI HERBY RF SAO FRANCISCO</td>\n      <td>58</td>\n      <td>6877-N</td>\n      <td>...</td>\n      <td>7461</td>\n      <td>2</td>\n      <td>2</td>\n      <td>74612019122</td>\n      <td>NaN</td>\n      <td>5</td>\n      <td>F</td>\n      <td>NaN</td>\n      <td>NaN</td>\n      <td>NaN</td>\n    </tr>\n    <tr>\n      <th>1</th>\n      <td>10639</td>\n      <td>LANAA FIV AFTERSHOCK BON.BELEM</td>\n      <td>12</td>\n      <td>9592-AG</td>\n      <td>MS ATLEES SHT AFTERSHOCK - ET</td>\n      <td>10</td>\n      <td>AX129928</td>\n      <td>JOANE FIV KUBERA</td>\n      <td>11</td>\n      <td>ACFG1840</td>\n      <td>...</td>\n      <td>10639</td>\n      <td>2</td>\n      <td>2</td>\n      <td>106392021122</td>\n      <td>NaN</td>\n      <td>4</td>\n      <td>F</td>\n      <td>NaN</td>\n      <td>NaN</td>\n      <td>NaN</td>\n    </tr>\n    <tr>\n      <th>2</th>\n      <td>6039</td>\n      <td>EDILAINE IMPERIO FIV 4303 JARD</td>\n      <td>12</td>\n      <td>AADA0352</td>\n      <td>IMPERIO TE STA EDWIGES</td>\n      <td>11</td>\n      <td>RIG163</td>\n      <td>SERTEC QATAR FABIANA PROGRESS</td>\n      <td>10</td>\n      <td>HBB/B-291392</td>\n      <td>...</td>\n      <td>6039</td>\n      <td>2</td>\n      <td>2</td>\n      <td>60392020122</td>\n      <td>NaN</td>\n      <td>4</td>\n      <td>F</td>\n      <td>NaN</td>\n      <td>NaN</td>\n      <td>NaN</td>\n    </tr>\n    <tr>\n      <th>3</th>\n      <td>1945</td>\n      <td>ARMA MERIDIAN DA MBL</td>\n      <td>12</td>\n      <td>1025-AN</td>\n      <td>SULLY HART MERIDIAN-ET</td>\n      <td>10</td>\n      <td>AX138576</td>\n      <td>FAMA</td>\n      <td>11</td>\n      <td>JNR167</td>\n      <td>...</td>\n      <td>1945</td>\n      <td>2</td>\n      <td>2</td>\n      <td>19452021222</td>\n      <td>NaN</td>\n      <td>4</td>\n      <td>F</td>\n      <td>NaN</td>\n      <td>NaN</td>\n      <td>NaN</td>\n    </tr>\n    <tr>\n      <th>4</th>\n      <td>73119</td>\n      <td>CELESTE 136 TEATRO FIV COOPERR</td>\n      <td>12</td>\n      <td>1239-BF</td>\n      <td>TEATRO DA SILVANIA</td>\n      <td>11</td>\n      <td>EFC383</td>\n      <td>LAGOS ASTRE QUIMICA 795 TE</td>\n      <td>10</td>\n      <td>BX335536</td>\n      <td>...</td>\n      <td>73119</td>\n      <td>2</td>\n      <td>2</td>\n      <td>731192021222</td>\n      <td>NaN</td>\n      <td>4</td>\n      <td>F</td>\n      <td>NaN</td>\n      <td>NaN</td>\n      <td>NaN</td>\n    </tr>\n    <tr>\n      <th>...</th>\n      <td>...</td>\n      <td>...</td>\n      <td>...</td>\n      <td>...</td>\n      <td>...</td>\n      <td>...</td>\n      <td>...</td>\n      <td>...</td>\n      <td>...</td>\n      <td>...</td>\n      <td>...</td>\n      <td>...</td>\n      <td>...</td>\n      <td>...</td>\n      <td>...</td>\n      <td>...</td>\n      <td>...</td>\n      <td>...</td>\n      <td>...</td>\n      <td>...</td>\n      <td>...</td>\n    </tr>\n    <tr>\n      <th>1038</th>\n      <td>6029</td>\n      <td>DUNCAN FR RECREIO</td>\n      <td>14</td>\n      <td>0928-T</td>\n      <td>JAGUAR TE DO GAVIAO</td>\n      <td>11</td>\n      <td>GAV291</td>\n      <td>NILOPOLIS FR RECREIO</td>\n      <td>12</td>\n      <td>AB-0524</td>\n      <td>...</td>\n      <td>6029</td>\n      <td>2</td>\n      <td>2</td>\n      <td>60292021222</td>\n      <td>NaN</td>\n      <td>2</td>\n      <td>F</td>\n      <td>NaN</td>\n      <td>NaN</td>\n      <td>NaN</td>\n    </tr>\n    <tr>\n      <th>1039</th>\n      <td>132</td>\n      <td>QUINTA I COLE AGM TRIUNFO</td>\n      <td>34</td>\n      <td>9243-AG</td>\n      <td>CO-OP TOYSTORY COLE-ET</td>\n      <td>10</td>\n      <td>AX129567</td>\n      <td>QUINTA FIV M</td>\n      <td>12</td>\n      <td>0473-O</td>\n      <td>...</td>\n      <td>132</td>\n      <td>2</td>\n      <td>2</td>\n      <td>1322019222</td>\n      <td>NaN</td>\n      <td>6</td>\n      <td>F</td>\n      <td>NaN</td>\n      <td>NaN</td>\n      <td>NaN</td>\n    </tr>\n    <tr>\n      <th>1040</th>\n      <td>6915</td>\n      <td>LIA DAS ARABIAS</td>\n      <td>5858</td>\n      <td>6125-BR</td>\n      <td>TURBO DAS ARABIAS</td>\n      <td>5858</td>\n      <td>0079</td>\n      <td>LILIKA DAS ARABIAS</td>\n      <td>58</td>\n      <td>4916-AW</td>\n      <td>...</td>\n      <td>6915</td>\n      <td>2</td>\n      <td>2</td>\n      <td>69152021222</td>\n      <td>NaN</td>\n      <td>5</td>\n      <td>F</td>\n      <td>NaN</td>\n      <td>NaN</td>\n      <td>NaN</td>\n    </tr>\n    <tr>\n      <th>1041</th>\n      <td>6029</td>\n      <td>GERMANA FEBO FR RECREIO</td>\n      <td>5858</td>\n      <td>9069-AS</td>\n      <td>FEBO FR RECREIO</td>\n      <td>58</td>\n      <td>6300-N</td>\n      <td>CAMPANHA FR RECREIO</td>\n      <td>58</td>\n      <td>6180-N</td>\n      <td>...</td>\n      <td>6029</td>\n      <td>2</td>\n      <td>2</td>\n      <td>60292019122</td>\n      <td>NaN</td>\n      <td>5</td>\n      <td>F</td>\n      <td>NaN</td>\n      <td>NaN</td>\n      <td>NaN</td>\n    </tr>\n    <tr>\n      <th>1042</th>\n      <td>83436</td>\n      <td>LINDA SJ LALU</td>\n      <td>34</td>\n      <td>2734-BK</td>\n      <td>0</td>\n      <td>0</td>\n      <td>0</td>\n      <td>0</td>\n      <td>0</td>\n      <td>0</td>\n      <td>...</td>\n      <td>83436</td>\n      <td>3</td>\n      <td>2</td>\n      <td>834362021232</td>\n      <td>NaN</td>\n      <td>6</td>\n      <td>F</td>\n      <td>NaN</td>\n      <td>NaN</td>\n      <td>NaN</td>\n    </tr>\n  </tbody>\n</table>\n<p>1039 rows × 49 columns</p>\n</div>"
     },
     "execution_count": 10,
     "metadata": {},
     "output_type": "execute_result"
    }
   ],
   "source": [
    "df_temporaria4 = pd.merge(df_dados_novos_para_insercao_no_banco_de_dados, sub_tabela_gs_0[['RGVACA', 'cod_prod', 'cod_pai', 'cod_mae', 'IDANIMAL']], on=['RGVACA', 'IDANIMAL'], how='left', suffixes=('', '_drop'))\n",
    "df_dados_novos_para_insercao_no_banco_de_dados=df_temporaria4\n",
    "df_dados_novos_para_insercao_no_banco_de_dados = df_dados_novos_para_insercao_no_banco_de_dados.drop_duplicates()\n",
    "df_dados_novos_para_insercao_no_banco_de_dados\n",
    "\n"
   ],
   "metadata": {
    "collapsed": false
   }
  },
  {
   "cell_type": "markdown",
   "source": [
    "# Criando subtabela com os animais em que o gs da mae = 11"
   ],
   "metadata": {
    "collapsed": false
   }
  },
  {
   "cell_type": "code",
   "execution_count": 11,
   "outputs": [],
   "source": [
    "sub_tabela_cod_mae_0 = df_dados_novos_para_insercao_no_banco_de_dados[df_dados_novos_para_insercao_no_banco_de_dados['GSMAE'] == 11]\n",
    "#e o cod_mae e nulo\n",
    "sub_tabela_cod_mae_0\n",
    "# selecionar apenas as linhas que começam com letras\n",
    "sub_tabela_cod_mae_0 = sub_tabela_cod_mae_0[sub_tabela_cod_mae_0['RGMAE'].apply(lambda x: bool(re.match(r'^[a-zA-Z]{3}', x)))]"
   ],
   "metadata": {
    "collapsed": false
   }
  },
  {
   "cell_type": "markdown",
   "source": [
    "# Pegando o cod_prod das maes no dataframe genealogia_abcz"
   ],
   "metadata": {
    "collapsed": false
   }
  },
  {
   "cell_type": "code",
   "execution_count": 12,
   "outputs": [
    {
     "data": {
      "text/plain": "     reb_giro                            nomea  COMPRAC   RGVACA  \\\n0       10639  LANAA FIV AFTERSHOCK BON.BELEM       12  9592-AG   \n1        1945             ARMA MERIDIAN DA MBL       12  1025-AN   \n2       83436         PURA FIV DOORMAN SJ LALU       12  2678-BK   \n3        2381   GOTA CHELIOS JM NOVO HORIZONTE       12  7006-BC   \n4        7461   NOIVA FIV HUNTER RF SAO FRANCI       12  5567-AK   \n..        ...                              ...      ...      ...   \n267     11818    FABULOSA FIV BRADNICK DA JJPZ       12  3852-BN   \n268      3304     JOIA FIV AFTERSHOCK DA MU-MU       12   9069-Y   \n269      2381   ESTIVA QUIZAR JM NOVO HORIZONT       12  9958-AS   \n270      1945   JPZ QUIRERA SHAMROCK ASTER FIV       12   4032-Z   \n271      2381   DALIA I FIV BRADLEY JM NOVO HO       12  4906-AZ   \n\n                             nomep  GSPAI     RGPAI                 nomem  \\\n0    MS ATLEES SHT AFTERSHOCK - ET     10  AX129928      JOANE FIV KUBERA   \n1           SULLY HART MERIDIAN-ET     10  AX138576                  FAMA   \n2               VAL-BISSON DOORMAN     10  AX140558             KANETA DP   \n3                 DOMICOLE CHELIOS     10  AX131313  DALIA NOVO HORIZONTE   \n4          COOKIECUTTER MOM HUNTER     10  AX137355       OFENSA DO U.A.    \n..                             ...    ...       ...                   ...   \n267  REGANCREST-GV S BRADNICK- ET      10  AX134761             FABIA FIV   \n268  MS ATLEES SHT AFTERSHOCK - ET     10  AX129928    LIBIA FIV RIO VALE   \n269            COLLEM FEVER QUIZAR     10  AX134708  SC MANCHETE PALADINO   \n270     LADYS-MANOR PL SHAMROCK-ET     10  AX135714         JPZ ASTER FIV   \n271               ROCKALLI BRADLEY     10  AX117720  DALIA NOVO HORIZONTE   \n\n     GSMAE     RGMAE  ...  rac  nordc       rebanoe ordem  gs  sexo  cod_prod  \\\n0       11  ACFG1840  ...    2      2  106392021122   NaN   4     F       NaN   \n1       11    JNR167  ...    2      2   19452021222   NaN   4     F       NaN   \n2       11    DPJ955  ...    3      2  834362021232   NaN   4     F       NaN   \n3       11    JMCH76  ...    2      2   23812021222   NaN   4     F       NaN   \n4       11   UAC2324  ...    2      2   74612019122   NaN   4     F       NaN   \n..     ...       ...  ...  ...    ...           ...   ...  ..   ...       ...   \n267     11    UDI823  ...    3      2  118182021232   NaN   4     F       NaN   \n268     11   CAVE242  ...    2      2   33042020122   NaN   4     F       NaN   \n269     11   MJJS411  ...    2      2   23812020122   NaN   4     F       NaN   \n270     11     JPZ64  ...    2      2   19452022222   NaN   4     F       NaN   \n271     11    JMCH76  ...    2      2   23812021222   NaN   4     F       NaN   \n\n     cod_pai  cod_mae  cod_prod_mae_gen  \n0        NaN      NaN         9513273.0  \n1        NaN      NaN        10621711.0  \n2        NaN      NaN        12718455.0  \n3        NaN      NaN        12866148.0  \n4        NaN      NaN         8174644.0  \n..       ...      ...               ...  \n267      NaN      NaN        13327464.0  \n268      NaN      NaN        12090148.0  \n269      NaN      NaN         4220695.0  \n270      NaN      NaN        11428022.0  \n271      NaN      NaN        12866148.0  \n\n[271 rows x 50 columns]",
      "text/html": "<div>\n<style scoped>\n    .dataframe tbody tr th:only-of-type {\n        vertical-align: middle;\n    }\n\n    .dataframe tbody tr th {\n        vertical-align: top;\n    }\n\n    .dataframe thead th {\n        text-align: right;\n    }\n</style>\n<table border=\"1\" class=\"dataframe\">\n  <thead>\n    <tr style=\"text-align: right;\">\n      <th></th>\n      <th>reb_giro</th>\n      <th>nomea</th>\n      <th>COMPRAC</th>\n      <th>RGVACA</th>\n      <th>nomep</th>\n      <th>GSPAI</th>\n      <th>RGPAI</th>\n      <th>nomem</th>\n      <th>GSMAE</th>\n      <th>RGMAE</th>\n      <th>...</th>\n      <th>rac</th>\n      <th>nordc</th>\n      <th>rebanoe</th>\n      <th>ordem</th>\n      <th>gs</th>\n      <th>sexo</th>\n      <th>cod_prod</th>\n      <th>cod_pai</th>\n      <th>cod_mae</th>\n      <th>cod_prod_mae_gen</th>\n    </tr>\n  </thead>\n  <tbody>\n    <tr>\n      <th>0</th>\n      <td>10639</td>\n      <td>LANAA FIV AFTERSHOCK BON.BELEM</td>\n      <td>12</td>\n      <td>9592-AG</td>\n      <td>MS ATLEES SHT AFTERSHOCK - ET</td>\n      <td>10</td>\n      <td>AX129928</td>\n      <td>JOANE FIV KUBERA</td>\n      <td>11</td>\n      <td>ACFG1840</td>\n      <td>...</td>\n      <td>2</td>\n      <td>2</td>\n      <td>106392021122</td>\n      <td>NaN</td>\n      <td>4</td>\n      <td>F</td>\n      <td>NaN</td>\n      <td>NaN</td>\n      <td>NaN</td>\n      <td>9513273.0</td>\n    </tr>\n    <tr>\n      <th>1</th>\n      <td>1945</td>\n      <td>ARMA MERIDIAN DA MBL</td>\n      <td>12</td>\n      <td>1025-AN</td>\n      <td>SULLY HART MERIDIAN-ET</td>\n      <td>10</td>\n      <td>AX138576</td>\n      <td>FAMA</td>\n      <td>11</td>\n      <td>JNR167</td>\n      <td>...</td>\n      <td>2</td>\n      <td>2</td>\n      <td>19452021222</td>\n      <td>NaN</td>\n      <td>4</td>\n      <td>F</td>\n      <td>NaN</td>\n      <td>NaN</td>\n      <td>NaN</td>\n      <td>10621711.0</td>\n    </tr>\n    <tr>\n      <th>2</th>\n      <td>83436</td>\n      <td>PURA FIV DOORMAN SJ LALU</td>\n      <td>12</td>\n      <td>2678-BK</td>\n      <td>VAL-BISSON DOORMAN</td>\n      <td>10</td>\n      <td>AX140558</td>\n      <td>KANETA DP</td>\n      <td>11</td>\n      <td>DPJ955</td>\n      <td>...</td>\n      <td>3</td>\n      <td>2</td>\n      <td>834362021232</td>\n      <td>NaN</td>\n      <td>4</td>\n      <td>F</td>\n      <td>NaN</td>\n      <td>NaN</td>\n      <td>NaN</td>\n      <td>12718455.0</td>\n    </tr>\n    <tr>\n      <th>3</th>\n      <td>2381</td>\n      <td>GOTA CHELIOS JM NOVO HORIZONTE</td>\n      <td>12</td>\n      <td>7006-BC</td>\n      <td>DOMICOLE CHELIOS</td>\n      <td>10</td>\n      <td>AX131313</td>\n      <td>DALIA NOVO HORIZONTE</td>\n      <td>11</td>\n      <td>JMCH76</td>\n      <td>...</td>\n      <td>2</td>\n      <td>2</td>\n      <td>23812021222</td>\n      <td>NaN</td>\n      <td>4</td>\n      <td>F</td>\n      <td>NaN</td>\n      <td>NaN</td>\n      <td>NaN</td>\n      <td>12866148.0</td>\n    </tr>\n    <tr>\n      <th>4</th>\n      <td>7461</td>\n      <td>NOIVA FIV HUNTER RF SAO FRANCI</td>\n      <td>12</td>\n      <td>5567-AK</td>\n      <td>COOKIECUTTER MOM HUNTER</td>\n      <td>10</td>\n      <td>AX137355</td>\n      <td>OFENSA DO U.A.</td>\n      <td>11</td>\n      <td>UAC2324</td>\n      <td>...</td>\n      <td>2</td>\n      <td>2</td>\n      <td>74612019122</td>\n      <td>NaN</td>\n      <td>4</td>\n      <td>F</td>\n      <td>NaN</td>\n      <td>NaN</td>\n      <td>NaN</td>\n      <td>8174644.0</td>\n    </tr>\n    <tr>\n      <th>...</th>\n      <td>...</td>\n      <td>...</td>\n      <td>...</td>\n      <td>...</td>\n      <td>...</td>\n      <td>...</td>\n      <td>...</td>\n      <td>...</td>\n      <td>...</td>\n      <td>...</td>\n      <td>...</td>\n      <td>...</td>\n      <td>...</td>\n      <td>...</td>\n      <td>...</td>\n      <td>...</td>\n      <td>...</td>\n      <td>...</td>\n      <td>...</td>\n      <td>...</td>\n      <td>...</td>\n    </tr>\n    <tr>\n      <th>267</th>\n      <td>11818</td>\n      <td>FABULOSA FIV BRADNICK DA JJPZ</td>\n      <td>12</td>\n      <td>3852-BN</td>\n      <td>REGANCREST-GV S BRADNICK- ET</td>\n      <td>10</td>\n      <td>AX134761</td>\n      <td>FABIA FIV</td>\n      <td>11</td>\n      <td>UDI823</td>\n      <td>...</td>\n      <td>3</td>\n      <td>2</td>\n      <td>118182021232</td>\n      <td>NaN</td>\n      <td>4</td>\n      <td>F</td>\n      <td>NaN</td>\n      <td>NaN</td>\n      <td>NaN</td>\n      <td>13327464.0</td>\n    </tr>\n    <tr>\n      <th>268</th>\n      <td>3304</td>\n      <td>JOIA FIV AFTERSHOCK DA MU-MU</td>\n      <td>12</td>\n      <td>9069-Y</td>\n      <td>MS ATLEES SHT AFTERSHOCK - ET</td>\n      <td>10</td>\n      <td>AX129928</td>\n      <td>LIBIA FIV RIO VALE</td>\n      <td>11</td>\n      <td>CAVE242</td>\n      <td>...</td>\n      <td>2</td>\n      <td>2</td>\n      <td>33042020122</td>\n      <td>NaN</td>\n      <td>4</td>\n      <td>F</td>\n      <td>NaN</td>\n      <td>NaN</td>\n      <td>NaN</td>\n      <td>12090148.0</td>\n    </tr>\n    <tr>\n      <th>269</th>\n      <td>2381</td>\n      <td>ESTIVA QUIZAR JM NOVO HORIZONT</td>\n      <td>12</td>\n      <td>9958-AS</td>\n      <td>COLLEM FEVER QUIZAR</td>\n      <td>10</td>\n      <td>AX134708</td>\n      <td>SC MANCHETE PALADINO</td>\n      <td>11</td>\n      <td>MJJS411</td>\n      <td>...</td>\n      <td>2</td>\n      <td>2</td>\n      <td>23812020122</td>\n      <td>NaN</td>\n      <td>4</td>\n      <td>F</td>\n      <td>NaN</td>\n      <td>NaN</td>\n      <td>NaN</td>\n      <td>4220695.0</td>\n    </tr>\n    <tr>\n      <th>270</th>\n      <td>1945</td>\n      <td>JPZ QUIRERA SHAMROCK ASTER FIV</td>\n      <td>12</td>\n      <td>4032-Z</td>\n      <td>LADYS-MANOR PL SHAMROCK-ET</td>\n      <td>10</td>\n      <td>AX135714</td>\n      <td>JPZ ASTER FIV</td>\n      <td>11</td>\n      <td>JPZ64</td>\n      <td>...</td>\n      <td>2</td>\n      <td>2</td>\n      <td>19452022222</td>\n      <td>NaN</td>\n      <td>4</td>\n      <td>F</td>\n      <td>NaN</td>\n      <td>NaN</td>\n      <td>NaN</td>\n      <td>11428022.0</td>\n    </tr>\n    <tr>\n      <th>271</th>\n      <td>2381</td>\n      <td>DALIA I FIV BRADLEY JM NOVO HO</td>\n      <td>12</td>\n      <td>4906-AZ</td>\n      <td>ROCKALLI BRADLEY</td>\n      <td>10</td>\n      <td>AX117720</td>\n      <td>DALIA NOVO HORIZONTE</td>\n      <td>11</td>\n      <td>JMCH76</td>\n      <td>...</td>\n      <td>2</td>\n      <td>2</td>\n      <td>23812021222</td>\n      <td>NaN</td>\n      <td>4</td>\n      <td>F</td>\n      <td>NaN</td>\n      <td>NaN</td>\n      <td>NaN</td>\n      <td>12866148.0</td>\n    </tr>\n  </tbody>\n</table>\n<p>271 rows × 50 columns</p>\n</div>"
     },
     "execution_count": 12,
     "metadata": {},
     "output_type": "execute_result"
    }
   ],
   "source": [
    "df_genealogia_abcz = df_genealogia_abcz.rename(columns={'cod_prod':'cod_prod_mae_gen'})\n",
    "sub_tabela_cod_mae_0 = pd.merge(sub_tabela_cod_mae_0, df_genealogia_abcz[['RGVACA', 'cod_prod_mae_gen']], left_on=['RGMAE'], right_on=['RGVACA'], how='left', indicator=True, suffixes=('', '_drop'))\n",
    "sub_tabela_cod_mae_0 = sub_tabela_cod_mae_0.drop_duplicates()\n",
    "sub_tabela_cod_mae_0 = sub_tabela_cod_mae_0.drop(sub_tabela_cod_mae_0.filter(regex='_drop$').columns, axis=1)\n",
    "sub_tabela_cod_mae_0 = sub_tabela_cod_mae_0[sub_tabela_cod_mae_0['_merge'] == 'both'].drop(columns='_merge')\n",
    "sub_tabela_cod_mae_0\n"
   ],
   "metadata": {
    "collapsed": false
   }
  },
  {
   "cell_type": "markdown",
   "source": [
    "# Adicionando o cod_prod_mae_gen das maes no dataframe df_dados_novos"
   ],
   "metadata": {
    "collapsed": false
   }
  },
  {
   "cell_type": "code",
   "execution_count": 13,
   "outputs": [
    {
     "data": {
      "text/plain": "      reb_giro                            nomea  COMPRAC    RGVACA  \\\n0         7461   NANA IMPERADOR BAXTER RF SAO F     5858   6353-AH   \n1        10639  LANAA FIV AFTERSHOCK BON.BELEM       12   9592-AG   \n2         6039   EDILAINE IMPERIO FIV 4303 JARD       12  AADA0352   \n3         1945             ARMA MERIDIAN DA MBL       12   1025-AN   \n5        73119   CELESTE 136 TEATRO FIV COOPERR       12   1239-BF   \n...        ...                              ...      ...       ...   \n1116      6029                DUNCAN FR RECREIO       14    0928-T   \n1117       132        QUINTA I COLE AGM TRIUNFO       34   9243-AG   \n1118      6915                  LIA DAS ARABIAS     5858   6125-BR   \n1119      6029          GERMANA FEBO FR RECREIO     5858   9069-AS   \n1120     83436                    LINDA SJ LALU       34   2734-BK   \n\n                              nomep  GSPAI     RGPAI  \\\n0       IMPERADOR BAXTER VOLTA FRIA     58      1459   \n1     MS ATLEES SHT AFTERSHOCK - ET     10  AX129928   \n2            IMPERIO TE STA EDWIGES     11    RIG163   \n3            SULLY HART MERIDIAN-ET     10  AX138576   \n5                TEATRO DA SILVANIA     11    EFC383   \n...                             ...    ...       ...   \n1116           JAGUAR TE DO GAVIAO     11    GAV291   \n1117         CO-OP TOYSTORY COLE-ET     10  AX129567   \n1118              TURBO DAS ARABIAS   5858      0079   \n1119                FEBO FR RECREIO     58    6300-N   \n1120                              0      0         0   \n\n                              nomem  GSMAE         RGMAE  ...  rac  nordc  \\\n0     JURITI HERBY RF SAO FRANCISCO     58        6877-N  ...    2      2   \n1                  JOANE FIV KUBERA     11      ACFG1840  ...    2      2   \n2     SERTEC QATAR FABIANA PROGRESS     10  HBB/B-291392  ...    2      2   \n3                              FAMA     11        JNR167  ...    2      2   \n5        LAGOS ASTRE QUIMICA 795 TE     10      BX335536  ...    2      2   \n...                             ...    ...           ...  ...  ...    ...   \n1116           NILOPOLIS FR RECREIO     12       AB-0524  ...    2      2   \n1117                   QUINTA FIV M     12        0473-O  ...    2      2   \n1118             LILIKA DAS ARABIAS     58       4916-AW  ...    2      2   \n1119            CAMPANHA FR RECREIO     58        6180-N  ...    2      2   \n1120                              0      0             0  ...    3      2   \n\n           rebanoe ordem  gs  sexo  cod_prod  cod_pai  cod_mae  \\\n0      74612019122   NaN   5     F       NaN      NaN      NaN   \n1     106392021122   NaN   4     F       NaN      NaN      NaN   \n2      60392020122   NaN   4     F       NaN      NaN      NaN   \n3      19452021222   NaN   4     F       NaN      NaN      NaN   \n5     731192021222   NaN   4     F       NaN      NaN      NaN   \n...            ...   ...  ..   ...       ...      ...      ...   \n1116   60292021222   NaN   2     F       NaN      NaN      NaN   \n1117    1322019222   NaN   6     F       NaN      NaN      NaN   \n1118   69152021222   NaN   5     F       NaN      NaN      NaN   \n1119   60292019122   NaN   5     F       NaN      NaN      NaN   \n1120  834362021232   NaN   6     F       NaN      NaN      NaN   \n\n      cod_prod_mae_gen  \n0                  NaN  \n1            9513273.0  \n2                  NaN  \n3           10621711.0  \n5                  NaN  \n...                ...  \n1116               NaN  \n1117               NaN  \n1118               NaN  \n1119               NaN  \n1120               NaN  \n\n[1039 rows x 50 columns]",
      "text/html": "<div>\n<style scoped>\n    .dataframe tbody tr th:only-of-type {\n        vertical-align: middle;\n    }\n\n    .dataframe tbody tr th {\n        vertical-align: top;\n    }\n\n    .dataframe thead th {\n        text-align: right;\n    }\n</style>\n<table border=\"1\" class=\"dataframe\">\n  <thead>\n    <tr style=\"text-align: right;\">\n      <th></th>\n      <th>reb_giro</th>\n      <th>nomea</th>\n      <th>COMPRAC</th>\n      <th>RGVACA</th>\n      <th>nomep</th>\n      <th>GSPAI</th>\n      <th>RGPAI</th>\n      <th>nomem</th>\n      <th>GSMAE</th>\n      <th>RGMAE</th>\n      <th>...</th>\n      <th>rac</th>\n      <th>nordc</th>\n      <th>rebanoe</th>\n      <th>ordem</th>\n      <th>gs</th>\n      <th>sexo</th>\n      <th>cod_prod</th>\n      <th>cod_pai</th>\n      <th>cod_mae</th>\n      <th>cod_prod_mae_gen</th>\n    </tr>\n  </thead>\n  <tbody>\n    <tr>\n      <th>0</th>\n      <td>7461</td>\n      <td>NANA IMPERADOR BAXTER RF SAO F</td>\n      <td>5858</td>\n      <td>6353-AH</td>\n      <td>IMPERADOR BAXTER VOLTA FRIA</td>\n      <td>58</td>\n      <td>1459</td>\n      <td>JURITI HERBY RF SAO FRANCISCO</td>\n      <td>58</td>\n      <td>6877-N</td>\n      <td>...</td>\n      <td>2</td>\n      <td>2</td>\n      <td>74612019122</td>\n      <td>NaN</td>\n      <td>5</td>\n      <td>F</td>\n      <td>NaN</td>\n      <td>NaN</td>\n      <td>NaN</td>\n      <td>NaN</td>\n    </tr>\n    <tr>\n      <th>1</th>\n      <td>10639</td>\n      <td>LANAA FIV AFTERSHOCK BON.BELEM</td>\n      <td>12</td>\n      <td>9592-AG</td>\n      <td>MS ATLEES SHT AFTERSHOCK - ET</td>\n      <td>10</td>\n      <td>AX129928</td>\n      <td>JOANE FIV KUBERA</td>\n      <td>11</td>\n      <td>ACFG1840</td>\n      <td>...</td>\n      <td>2</td>\n      <td>2</td>\n      <td>106392021122</td>\n      <td>NaN</td>\n      <td>4</td>\n      <td>F</td>\n      <td>NaN</td>\n      <td>NaN</td>\n      <td>NaN</td>\n      <td>9513273.0</td>\n    </tr>\n    <tr>\n      <th>2</th>\n      <td>6039</td>\n      <td>EDILAINE IMPERIO FIV 4303 JARD</td>\n      <td>12</td>\n      <td>AADA0352</td>\n      <td>IMPERIO TE STA EDWIGES</td>\n      <td>11</td>\n      <td>RIG163</td>\n      <td>SERTEC QATAR FABIANA PROGRESS</td>\n      <td>10</td>\n      <td>HBB/B-291392</td>\n      <td>...</td>\n      <td>2</td>\n      <td>2</td>\n      <td>60392020122</td>\n      <td>NaN</td>\n      <td>4</td>\n      <td>F</td>\n      <td>NaN</td>\n      <td>NaN</td>\n      <td>NaN</td>\n      <td>NaN</td>\n    </tr>\n    <tr>\n      <th>3</th>\n      <td>1945</td>\n      <td>ARMA MERIDIAN DA MBL</td>\n      <td>12</td>\n      <td>1025-AN</td>\n      <td>SULLY HART MERIDIAN-ET</td>\n      <td>10</td>\n      <td>AX138576</td>\n      <td>FAMA</td>\n      <td>11</td>\n      <td>JNR167</td>\n      <td>...</td>\n      <td>2</td>\n      <td>2</td>\n      <td>19452021222</td>\n      <td>NaN</td>\n      <td>4</td>\n      <td>F</td>\n      <td>NaN</td>\n      <td>NaN</td>\n      <td>NaN</td>\n      <td>10621711.0</td>\n    </tr>\n    <tr>\n      <th>5</th>\n      <td>73119</td>\n      <td>CELESTE 136 TEATRO FIV COOPERR</td>\n      <td>12</td>\n      <td>1239-BF</td>\n      <td>TEATRO DA SILVANIA</td>\n      <td>11</td>\n      <td>EFC383</td>\n      <td>LAGOS ASTRE QUIMICA 795 TE</td>\n      <td>10</td>\n      <td>BX335536</td>\n      <td>...</td>\n      <td>2</td>\n      <td>2</td>\n      <td>731192021222</td>\n      <td>NaN</td>\n      <td>4</td>\n      <td>F</td>\n      <td>NaN</td>\n      <td>NaN</td>\n      <td>NaN</td>\n      <td>NaN</td>\n    </tr>\n    <tr>\n      <th>...</th>\n      <td>...</td>\n      <td>...</td>\n      <td>...</td>\n      <td>...</td>\n      <td>...</td>\n      <td>...</td>\n      <td>...</td>\n      <td>...</td>\n      <td>...</td>\n      <td>...</td>\n      <td>...</td>\n      <td>...</td>\n      <td>...</td>\n      <td>...</td>\n      <td>...</td>\n      <td>...</td>\n      <td>...</td>\n      <td>...</td>\n      <td>...</td>\n      <td>...</td>\n      <td>...</td>\n    </tr>\n    <tr>\n      <th>1116</th>\n      <td>6029</td>\n      <td>DUNCAN FR RECREIO</td>\n      <td>14</td>\n      <td>0928-T</td>\n      <td>JAGUAR TE DO GAVIAO</td>\n      <td>11</td>\n      <td>GAV291</td>\n      <td>NILOPOLIS FR RECREIO</td>\n      <td>12</td>\n      <td>AB-0524</td>\n      <td>...</td>\n      <td>2</td>\n      <td>2</td>\n      <td>60292021222</td>\n      <td>NaN</td>\n      <td>2</td>\n      <td>F</td>\n      <td>NaN</td>\n      <td>NaN</td>\n      <td>NaN</td>\n      <td>NaN</td>\n    </tr>\n    <tr>\n      <th>1117</th>\n      <td>132</td>\n      <td>QUINTA I COLE AGM TRIUNFO</td>\n      <td>34</td>\n      <td>9243-AG</td>\n      <td>CO-OP TOYSTORY COLE-ET</td>\n      <td>10</td>\n      <td>AX129567</td>\n      <td>QUINTA FIV M</td>\n      <td>12</td>\n      <td>0473-O</td>\n      <td>...</td>\n      <td>2</td>\n      <td>2</td>\n      <td>1322019222</td>\n      <td>NaN</td>\n      <td>6</td>\n      <td>F</td>\n      <td>NaN</td>\n      <td>NaN</td>\n      <td>NaN</td>\n      <td>NaN</td>\n    </tr>\n    <tr>\n      <th>1118</th>\n      <td>6915</td>\n      <td>LIA DAS ARABIAS</td>\n      <td>5858</td>\n      <td>6125-BR</td>\n      <td>TURBO DAS ARABIAS</td>\n      <td>5858</td>\n      <td>0079</td>\n      <td>LILIKA DAS ARABIAS</td>\n      <td>58</td>\n      <td>4916-AW</td>\n      <td>...</td>\n      <td>2</td>\n      <td>2</td>\n      <td>69152021222</td>\n      <td>NaN</td>\n      <td>5</td>\n      <td>F</td>\n      <td>NaN</td>\n      <td>NaN</td>\n      <td>NaN</td>\n      <td>NaN</td>\n    </tr>\n    <tr>\n      <th>1119</th>\n      <td>6029</td>\n      <td>GERMANA FEBO FR RECREIO</td>\n      <td>5858</td>\n      <td>9069-AS</td>\n      <td>FEBO FR RECREIO</td>\n      <td>58</td>\n      <td>6300-N</td>\n      <td>CAMPANHA FR RECREIO</td>\n      <td>58</td>\n      <td>6180-N</td>\n      <td>...</td>\n      <td>2</td>\n      <td>2</td>\n      <td>60292019122</td>\n      <td>NaN</td>\n      <td>5</td>\n      <td>F</td>\n      <td>NaN</td>\n      <td>NaN</td>\n      <td>NaN</td>\n      <td>NaN</td>\n    </tr>\n    <tr>\n      <th>1120</th>\n      <td>83436</td>\n      <td>LINDA SJ LALU</td>\n      <td>34</td>\n      <td>2734-BK</td>\n      <td>0</td>\n      <td>0</td>\n      <td>0</td>\n      <td>0</td>\n      <td>0</td>\n      <td>0</td>\n      <td>...</td>\n      <td>3</td>\n      <td>2</td>\n      <td>834362021232</td>\n      <td>NaN</td>\n      <td>6</td>\n      <td>F</td>\n      <td>NaN</td>\n      <td>NaN</td>\n      <td>NaN</td>\n      <td>NaN</td>\n    </tr>\n  </tbody>\n</table>\n<p>1039 rows × 50 columns</p>\n</div>"
     },
     "execution_count": 13,
     "metadata": {},
     "output_type": "execute_result"
    }
   ],
   "source": [
    "df_temporaria5 = pd.merge(df_dados_novos_para_insercao_no_banco_de_dados, sub_tabela_cod_mae_0[['RGMAE', 'cod_prod_mae_gen']], left_on=['RGMAE'], right_on=['RGMAE'], how='left', suffixes=('', '_drop'))\n",
    "#df_dados_novos_para_insercao_no_banco_de_dados=df_temporaria4\n",
    "#df_dados_novos_para_insercao_no_banco_de_dados = df_dados_novos_para_insercao_no_banco_de_dados.drop_duplicates()\n",
    "#df_dados_novos_para_insercao_no_banco_de_dados\n",
    "df_temporaria5 = df_temporaria5.drop_duplicates()\n",
    "df_dados_novos_para_insercao_no_banco_de_dados = df_temporaria5\n",
    "df_dados_novos_para_insercao_no_banco_de_dados\n"
   ],
   "metadata": {
    "collapsed": false
   }
  },
  {
   "cell_type": "markdown",
   "source": [
    "# Criando subtabela em que o gs do pai = 11 e que os 3 primeiros caracteres do rgpai sao letras"
   ],
   "metadata": {
    "collapsed": false
   }
  },
  {
   "cell_type": "code",
   "execution_count": 14,
   "outputs": [],
   "source": [
    "sub_tabela_cod_pai_0 = df_dados_novos_para_insercao_no_banco_de_dados[df_dados_novos_para_insercao_no_banco_de_dados['GSPAI'] == 11]\n",
    "#e o cod_mae e nulo\n",
    "sub_tabela_cod_pai_0\n",
    "# selecionar apenas as linhas que começam com letras\n",
    "sub_tabela_cod_pai_0 = sub_tabela_cod_pai_0[sub_tabela_cod_pai_0['RGPAI'].apply(lambda x: bool(re.match(r'^[a-zA-Z]{3}', x)))]"
   ],
   "metadata": {
    "collapsed": false
   }
  },
  {
   "cell_type": "markdown",
   "source": [
    "# Pegando o cod_prod dos pais no dataframe genealogia_abcz"
   ],
   "metadata": {
    "collapsed": false
   }
  },
  {
   "cell_type": "code",
   "execution_count": 15,
   "outputs": [
    {
     "data": {
      "text/plain": "     reb_giro                            nomea  COMPRAC    RGVACA  \\\n0        6039   EDILAINE IMPERIO FIV 4303 JARD       12  AADA0352   \n1       73119   CELESTE 136 TEATRO FIV COOPERR       12   1239-BF   \n2       10586              JHV CANASTRA ENLEVO       12   5011-BG   \n3        6029               DEMASIA FR RECREIO       14    0869-T   \n4        3304   CAITA OCIDENTE MJP DA CAPELA P       12    8634-X   \n..        ...                              ...      ...       ...   \n452      9330                      PALMADA CAL       14   0383-BN   \n453      5569          CAMPISTA MAJOR DO MORRO       14   3881-AT   \n454      2381  CLASSICA OCIDENTE JM NOVO HORI       14   5193-AE   \n455      5569           GABI FIV VALE OURO EVD       14   4417-AT   \n456      6029                DUNCAN FR RECREIO       14    0928-T   \n\n                       nomep  GSPAI    RGPAI                           nomem  \\\n0     IMPERIO TE STA EDWIGES     11   RIG163   SERTEC QATAR FABIANA PROGRESS   \n1         TEATRO DA SILVANIA     11   EFC383      LAGOS ASTRE QUIMICA 795 TE   \n2            ENLEVO SILVANIA     11   EFC717               JHV FORMATURA 315   \n3       JAGUAR TE DO GAVIAO     11   GAV291            ERMELINDA MERGULHAO    \n4    OCIDENTE BEM FEITOR CAL     11  CAL4605          MARINA DA CAPELA PAIVA   \n..                       ...    ...      ...                             ...   \n452              DIORITO CAL     11  CAL9630                   ILHOA FIV CAL   \n453      MAJOR TE DOS POCOES     11  APPG801             SUELLEN II DO MORRO   \n454  OCIDENTE BEM FEITOR CAL     11  CAL4605  CINDERELA MODELO JM NOVO HORIZ   \n455    VALE OURO TE SILVANIA     11   EFC464    LAMBADA DRAMATIC SANTA LUZIA   \n456     JAGUAR TE DO GAVIAO     11   GAV291            NILOPOLIS FR RECREIO   \n\n     GSMAE         RGMAE  ...  nordc       rebanoe  ordem gs  sexo  cod_prod  \\\n0       10  HBB/B-291392  ...      2   60392020122    NaN  4     F       NaN   \n1       10      BX335536  ...      2  731192021222    NaN  4     F       NaN   \n2       10        C-3602  ...      2  105862021132    NaN  4     F       NaN   \n3       12       AD-1407  ...      2   60292021122    NaN  2     F       NaN   \n4       10        A-3096  ...      2   33042020122    NaN  4     F       NaN   \n..     ...           ...  ...    ...           ...    ... ..   ...       ...   \n452     12       7229-AG  ...      2   93302022232    NaN  2     F       NaN   \n453     12        2777-K  ...      2   55692021222    NaN  2     F       NaN   \n454     12       AF-2652  ...      2   23812020122    NaN  2     F       NaN   \n455     12       AG-0944  ...      2   55692020122    NaN  2     F       NaN   \n456     12       AB-0524  ...      2   60292021222    NaN  2     F       NaN   \n\n     cod_pai  cod_mae  cod_prod_mae_gen  cod_prod_pai_gen  \n0        NaN      NaN               NaN         4320031.0  \n1        NaN      NaN               NaN         3540404.0  \n2        NaN      NaN               NaN         6915068.0  \n3        NaN      NaN               NaN         4176523.0  \n4        NaN      NaN               NaN         3287666.0  \n..       ...      ...               ...               ...  \n452      NaN      NaN               NaN        11785662.0  \n453      NaN      NaN               NaN         3196251.0  \n454      NaN      NaN               NaN         3287666.0  \n455      NaN      NaN               NaN         3890526.0  \n456      NaN      NaN               NaN         4176523.0  \n\n[453 rows x 51 columns]",
      "text/html": "<div>\n<style scoped>\n    .dataframe tbody tr th:only-of-type {\n        vertical-align: middle;\n    }\n\n    .dataframe tbody tr th {\n        vertical-align: top;\n    }\n\n    .dataframe thead th {\n        text-align: right;\n    }\n</style>\n<table border=\"1\" class=\"dataframe\">\n  <thead>\n    <tr style=\"text-align: right;\">\n      <th></th>\n      <th>reb_giro</th>\n      <th>nomea</th>\n      <th>COMPRAC</th>\n      <th>RGVACA</th>\n      <th>nomep</th>\n      <th>GSPAI</th>\n      <th>RGPAI</th>\n      <th>nomem</th>\n      <th>GSMAE</th>\n      <th>RGMAE</th>\n      <th>...</th>\n      <th>nordc</th>\n      <th>rebanoe</th>\n      <th>ordem</th>\n      <th>gs</th>\n      <th>sexo</th>\n      <th>cod_prod</th>\n      <th>cod_pai</th>\n      <th>cod_mae</th>\n      <th>cod_prod_mae_gen</th>\n      <th>cod_prod_pai_gen</th>\n    </tr>\n  </thead>\n  <tbody>\n    <tr>\n      <th>0</th>\n      <td>6039</td>\n      <td>EDILAINE IMPERIO FIV 4303 JARD</td>\n      <td>12</td>\n      <td>AADA0352</td>\n      <td>IMPERIO TE STA EDWIGES</td>\n      <td>11</td>\n      <td>RIG163</td>\n      <td>SERTEC QATAR FABIANA PROGRESS</td>\n      <td>10</td>\n      <td>HBB/B-291392</td>\n      <td>...</td>\n      <td>2</td>\n      <td>60392020122</td>\n      <td>NaN</td>\n      <td>4</td>\n      <td>F</td>\n      <td>NaN</td>\n      <td>NaN</td>\n      <td>NaN</td>\n      <td>NaN</td>\n      <td>4320031.0</td>\n    </tr>\n    <tr>\n      <th>1</th>\n      <td>73119</td>\n      <td>CELESTE 136 TEATRO FIV COOPERR</td>\n      <td>12</td>\n      <td>1239-BF</td>\n      <td>TEATRO DA SILVANIA</td>\n      <td>11</td>\n      <td>EFC383</td>\n      <td>LAGOS ASTRE QUIMICA 795 TE</td>\n      <td>10</td>\n      <td>BX335536</td>\n      <td>...</td>\n      <td>2</td>\n      <td>731192021222</td>\n      <td>NaN</td>\n      <td>4</td>\n      <td>F</td>\n      <td>NaN</td>\n      <td>NaN</td>\n      <td>NaN</td>\n      <td>NaN</td>\n      <td>3540404.0</td>\n    </tr>\n    <tr>\n      <th>2</th>\n      <td>10586</td>\n      <td>JHV CANASTRA ENLEVO</td>\n      <td>12</td>\n      <td>5011-BG</td>\n      <td>ENLEVO SILVANIA</td>\n      <td>11</td>\n      <td>EFC717</td>\n      <td>JHV FORMATURA 315</td>\n      <td>10</td>\n      <td>C-3602</td>\n      <td>...</td>\n      <td>2</td>\n      <td>105862021132</td>\n      <td>NaN</td>\n      <td>4</td>\n      <td>F</td>\n      <td>NaN</td>\n      <td>NaN</td>\n      <td>NaN</td>\n      <td>NaN</td>\n      <td>6915068.0</td>\n    </tr>\n    <tr>\n      <th>3</th>\n      <td>6029</td>\n      <td>DEMASIA FR RECREIO</td>\n      <td>14</td>\n      <td>0869-T</td>\n      <td>JAGUAR TE DO GAVIAO</td>\n      <td>11</td>\n      <td>GAV291</td>\n      <td>ERMELINDA MERGULHAO</td>\n      <td>12</td>\n      <td>AD-1407</td>\n      <td>...</td>\n      <td>2</td>\n      <td>60292021122</td>\n      <td>NaN</td>\n      <td>2</td>\n      <td>F</td>\n      <td>NaN</td>\n      <td>NaN</td>\n      <td>NaN</td>\n      <td>NaN</td>\n      <td>4176523.0</td>\n    </tr>\n    <tr>\n      <th>4</th>\n      <td>3304</td>\n      <td>CAITA OCIDENTE MJP DA CAPELA P</td>\n      <td>12</td>\n      <td>8634-X</td>\n      <td>OCIDENTE BEM FEITOR CAL</td>\n      <td>11</td>\n      <td>CAL4605</td>\n      <td>MARINA DA CAPELA PAIVA</td>\n      <td>10</td>\n      <td>A-3096</td>\n      <td>...</td>\n      <td>2</td>\n      <td>33042020122</td>\n      <td>NaN</td>\n      <td>4</td>\n      <td>F</td>\n      <td>NaN</td>\n      <td>NaN</td>\n      <td>NaN</td>\n      <td>NaN</td>\n      <td>3287666.0</td>\n    </tr>\n    <tr>\n      <th>...</th>\n      <td>...</td>\n      <td>...</td>\n      <td>...</td>\n      <td>...</td>\n      <td>...</td>\n      <td>...</td>\n      <td>...</td>\n      <td>...</td>\n      <td>...</td>\n      <td>...</td>\n      <td>...</td>\n      <td>...</td>\n      <td>...</td>\n      <td>...</td>\n      <td>...</td>\n      <td>...</td>\n      <td>...</td>\n      <td>...</td>\n      <td>...</td>\n      <td>...</td>\n      <td>...</td>\n    </tr>\n    <tr>\n      <th>452</th>\n      <td>9330</td>\n      <td>PALMADA CAL</td>\n      <td>14</td>\n      <td>0383-BN</td>\n      <td>DIORITO CAL</td>\n      <td>11</td>\n      <td>CAL9630</td>\n      <td>ILHOA FIV CAL</td>\n      <td>12</td>\n      <td>7229-AG</td>\n      <td>...</td>\n      <td>2</td>\n      <td>93302022232</td>\n      <td>NaN</td>\n      <td>2</td>\n      <td>F</td>\n      <td>NaN</td>\n      <td>NaN</td>\n      <td>NaN</td>\n      <td>NaN</td>\n      <td>11785662.0</td>\n    </tr>\n    <tr>\n      <th>453</th>\n      <td>5569</td>\n      <td>CAMPISTA MAJOR DO MORRO</td>\n      <td>14</td>\n      <td>3881-AT</td>\n      <td>MAJOR TE DOS POCOES</td>\n      <td>11</td>\n      <td>APPG801</td>\n      <td>SUELLEN II DO MORRO</td>\n      <td>12</td>\n      <td>2777-K</td>\n      <td>...</td>\n      <td>2</td>\n      <td>55692021222</td>\n      <td>NaN</td>\n      <td>2</td>\n      <td>F</td>\n      <td>NaN</td>\n      <td>NaN</td>\n      <td>NaN</td>\n      <td>NaN</td>\n      <td>3196251.0</td>\n    </tr>\n    <tr>\n      <th>454</th>\n      <td>2381</td>\n      <td>CLASSICA OCIDENTE JM NOVO HORI</td>\n      <td>14</td>\n      <td>5193-AE</td>\n      <td>OCIDENTE BEM FEITOR CAL</td>\n      <td>11</td>\n      <td>CAL4605</td>\n      <td>CINDERELA MODELO JM NOVO HORIZ</td>\n      <td>12</td>\n      <td>AF-2652</td>\n      <td>...</td>\n      <td>2</td>\n      <td>23812020122</td>\n      <td>NaN</td>\n      <td>2</td>\n      <td>F</td>\n      <td>NaN</td>\n      <td>NaN</td>\n      <td>NaN</td>\n      <td>NaN</td>\n      <td>3287666.0</td>\n    </tr>\n    <tr>\n      <th>455</th>\n      <td>5569</td>\n      <td>GABI FIV VALE OURO EVD</td>\n      <td>14</td>\n      <td>4417-AT</td>\n      <td>VALE OURO TE SILVANIA</td>\n      <td>11</td>\n      <td>EFC464</td>\n      <td>LAMBADA DRAMATIC SANTA LUZIA</td>\n      <td>12</td>\n      <td>AG-0944</td>\n      <td>...</td>\n      <td>2</td>\n      <td>55692020122</td>\n      <td>NaN</td>\n      <td>2</td>\n      <td>F</td>\n      <td>NaN</td>\n      <td>NaN</td>\n      <td>NaN</td>\n      <td>NaN</td>\n      <td>3890526.0</td>\n    </tr>\n    <tr>\n      <th>456</th>\n      <td>6029</td>\n      <td>DUNCAN FR RECREIO</td>\n      <td>14</td>\n      <td>0928-T</td>\n      <td>JAGUAR TE DO GAVIAO</td>\n      <td>11</td>\n      <td>GAV291</td>\n      <td>NILOPOLIS FR RECREIO</td>\n      <td>12</td>\n      <td>AB-0524</td>\n      <td>...</td>\n      <td>2</td>\n      <td>60292021222</td>\n      <td>NaN</td>\n      <td>2</td>\n      <td>F</td>\n      <td>NaN</td>\n      <td>NaN</td>\n      <td>NaN</td>\n      <td>NaN</td>\n      <td>4176523.0</td>\n    </tr>\n  </tbody>\n</table>\n<p>453 rows × 51 columns</p>\n</div>"
     },
     "execution_count": 15,
     "metadata": {},
     "output_type": "execute_result"
    }
   ],
   "source": [
    "df_genealogia_abcz = df_genealogia_abcz.rename(columns={'cod_prod_mae_gen':'cod_prod_pai_gen'})\n",
    "sub_tabela_cod_pai_0 = pd.merge(sub_tabela_cod_pai_0, df_genealogia_abcz[['RGVACA', 'cod_prod_pai_gen']], left_on=['RGPAI'], right_on=['RGVACA'], how='left', indicator=True, suffixes=('', '_drop'))\n",
    "sub_tabela_cod_pai_0 = sub_tabela_cod_pai_0.drop_duplicates()\n",
    "sub_tabela_cod_pai_0 = sub_tabela_cod_pai_0.drop(sub_tabela_cod_pai_0.filter(regex='_drop$').columns, axis=1)\n",
    "sub_tabela_cod_pai_0 = sub_tabela_cod_pai_0[sub_tabela_cod_pai_0['_merge'] == 'both'].drop(columns='_merge')\n",
    "sub_tabela_cod_pai_0"
   ],
   "metadata": {
    "collapsed": false
   }
  },
  {
   "cell_type": "markdown",
   "source": [
    "# Adicionando o cod_prod_pai_gen dos pais no dataframe df_dados_novos"
   ],
   "metadata": {
    "collapsed": false
   }
  },
  {
   "cell_type": "code",
   "execution_count": 16,
   "outputs": [
    {
     "data": {
      "text/plain": "       reb_giro                            nomea  COMPRAC    RGVACA  \\\n0          7461   NANA IMPERADOR BAXTER RF SAO F     5858   6353-AH   \n1         10639  LANAA FIV AFTERSHOCK BON.BELEM       12   9592-AG   \n2          6039   EDILAINE IMPERIO FIV 4303 JARD       12  AADA0352   \n3          1945             ARMA MERIDIAN DA MBL       12   1025-AN   \n4         73119   CELESTE 136 TEATRO FIV COOPERR       12   1239-BF   \n...         ...                              ...      ...       ...   \n10243      6029                DUNCAN FR RECREIO       14    0928-T   \n10285       132        QUINTA I COLE AGM TRIUNFO       34   9243-AG   \n10286      6915                  LIA DAS ARABIAS     5858   6125-BR   \n10287      6029          GERMANA FEBO FR RECREIO     5858   9069-AS   \n10288     83436                    LINDA SJ LALU       34   2734-BK   \n\n                               nomep  GSPAI     RGPAI  \\\n0        IMPERADOR BAXTER VOLTA FRIA     58      1459   \n1      MS ATLEES SHT AFTERSHOCK - ET     10  AX129928   \n2             IMPERIO TE STA EDWIGES     11    RIG163   \n3             SULLY HART MERIDIAN-ET     10  AX138576   \n4                 TEATRO DA SILVANIA     11    EFC383   \n...                              ...    ...       ...   \n10243           JAGUAR TE DO GAVIAO     11    GAV291   \n10285         CO-OP TOYSTORY COLE-ET     10  AX129567   \n10286              TURBO DAS ARABIAS   5858      0079   \n10287                FEBO FR RECREIO     58    6300-N   \n10288                              0      0         0   \n\n                               nomem  GSMAE         RGMAE  ...  nordc  \\\n0      JURITI HERBY RF SAO FRANCISCO     58        6877-N  ...      2   \n1                   JOANE FIV KUBERA     11      ACFG1840  ...      2   \n2      SERTEC QATAR FABIANA PROGRESS     10  HBB/B-291392  ...      2   \n3                               FAMA     11        JNR167  ...      2   \n4         LAGOS ASTRE QUIMICA 795 TE     10      BX335536  ...      2   \n...                              ...    ...           ...  ...    ...   \n10243           NILOPOLIS FR RECREIO     12       AB-0524  ...      2   \n10285                   QUINTA FIV M     12        0473-O  ...      2   \n10286             LILIKA DAS ARABIAS     58       4916-AW  ...      2   \n10287            CAMPANHA FR RECREIO     58        6180-N  ...      2   \n10288                              0      0             0  ...      2   \n\n            rebanoe  ordem gs  sexo  cod_prod  cod_pai  cod_mae  \\\n0       74612019122    NaN  5     F       NaN      NaN      NaN   \n1      106392021122    NaN  4     F       NaN      NaN      NaN   \n2       60392020122    NaN  4     F       NaN      NaN      NaN   \n3       19452021222    NaN  4     F       NaN      NaN      NaN   \n4      731192021222    NaN  4     F       NaN      NaN      NaN   \n...             ...    ... ..   ...       ...      ...      ...   \n10243   60292021222    NaN  2     F       NaN      NaN      NaN   \n10285    1322019222    NaN  6     F       NaN      NaN      NaN   \n10286   69152021222    NaN  5     F       NaN      NaN      NaN   \n10287   60292019122    NaN  5     F       NaN      NaN      NaN   \n10288  834362021232    NaN  6     F       NaN      NaN      NaN   \n\n       cod_prod_mae_gen  cod_prod_pai_gen  \n0                   NaN               NaN  \n1             9513273.0               NaN  \n2                   NaN         4320031.0  \n3            10621711.0               NaN  \n4                   NaN         3540404.0  \n...                 ...               ...  \n10243               NaN         4176523.0  \n10285               NaN               NaN  \n10286               NaN               NaN  \n10287               NaN               NaN  \n10288               NaN               NaN  \n\n[1039 rows x 51 columns]",
      "text/html": "<div>\n<style scoped>\n    .dataframe tbody tr th:only-of-type {\n        vertical-align: middle;\n    }\n\n    .dataframe tbody tr th {\n        vertical-align: top;\n    }\n\n    .dataframe thead th {\n        text-align: right;\n    }\n</style>\n<table border=\"1\" class=\"dataframe\">\n  <thead>\n    <tr style=\"text-align: right;\">\n      <th></th>\n      <th>reb_giro</th>\n      <th>nomea</th>\n      <th>COMPRAC</th>\n      <th>RGVACA</th>\n      <th>nomep</th>\n      <th>GSPAI</th>\n      <th>RGPAI</th>\n      <th>nomem</th>\n      <th>GSMAE</th>\n      <th>RGMAE</th>\n      <th>...</th>\n      <th>nordc</th>\n      <th>rebanoe</th>\n      <th>ordem</th>\n      <th>gs</th>\n      <th>sexo</th>\n      <th>cod_prod</th>\n      <th>cod_pai</th>\n      <th>cod_mae</th>\n      <th>cod_prod_mae_gen</th>\n      <th>cod_prod_pai_gen</th>\n    </tr>\n  </thead>\n  <tbody>\n    <tr>\n      <th>0</th>\n      <td>7461</td>\n      <td>NANA IMPERADOR BAXTER RF SAO F</td>\n      <td>5858</td>\n      <td>6353-AH</td>\n      <td>IMPERADOR BAXTER VOLTA FRIA</td>\n      <td>58</td>\n      <td>1459</td>\n      <td>JURITI HERBY RF SAO FRANCISCO</td>\n      <td>58</td>\n      <td>6877-N</td>\n      <td>...</td>\n      <td>2</td>\n      <td>74612019122</td>\n      <td>NaN</td>\n      <td>5</td>\n      <td>F</td>\n      <td>NaN</td>\n      <td>NaN</td>\n      <td>NaN</td>\n      <td>NaN</td>\n      <td>NaN</td>\n    </tr>\n    <tr>\n      <th>1</th>\n      <td>10639</td>\n      <td>LANAA FIV AFTERSHOCK BON.BELEM</td>\n      <td>12</td>\n      <td>9592-AG</td>\n      <td>MS ATLEES SHT AFTERSHOCK - ET</td>\n      <td>10</td>\n      <td>AX129928</td>\n      <td>JOANE FIV KUBERA</td>\n      <td>11</td>\n      <td>ACFG1840</td>\n      <td>...</td>\n      <td>2</td>\n      <td>106392021122</td>\n      <td>NaN</td>\n      <td>4</td>\n      <td>F</td>\n      <td>NaN</td>\n      <td>NaN</td>\n      <td>NaN</td>\n      <td>9513273.0</td>\n      <td>NaN</td>\n    </tr>\n    <tr>\n      <th>2</th>\n      <td>6039</td>\n      <td>EDILAINE IMPERIO FIV 4303 JARD</td>\n      <td>12</td>\n      <td>AADA0352</td>\n      <td>IMPERIO TE STA EDWIGES</td>\n      <td>11</td>\n      <td>RIG163</td>\n      <td>SERTEC QATAR FABIANA PROGRESS</td>\n      <td>10</td>\n      <td>HBB/B-291392</td>\n      <td>...</td>\n      <td>2</td>\n      <td>60392020122</td>\n      <td>NaN</td>\n      <td>4</td>\n      <td>F</td>\n      <td>NaN</td>\n      <td>NaN</td>\n      <td>NaN</td>\n      <td>NaN</td>\n      <td>4320031.0</td>\n    </tr>\n    <tr>\n      <th>3</th>\n      <td>1945</td>\n      <td>ARMA MERIDIAN DA MBL</td>\n      <td>12</td>\n      <td>1025-AN</td>\n      <td>SULLY HART MERIDIAN-ET</td>\n      <td>10</td>\n      <td>AX138576</td>\n      <td>FAMA</td>\n      <td>11</td>\n      <td>JNR167</td>\n      <td>...</td>\n      <td>2</td>\n      <td>19452021222</td>\n      <td>NaN</td>\n      <td>4</td>\n      <td>F</td>\n      <td>NaN</td>\n      <td>NaN</td>\n      <td>NaN</td>\n      <td>10621711.0</td>\n      <td>NaN</td>\n    </tr>\n    <tr>\n      <th>4</th>\n      <td>73119</td>\n      <td>CELESTE 136 TEATRO FIV COOPERR</td>\n      <td>12</td>\n      <td>1239-BF</td>\n      <td>TEATRO DA SILVANIA</td>\n      <td>11</td>\n      <td>EFC383</td>\n      <td>LAGOS ASTRE QUIMICA 795 TE</td>\n      <td>10</td>\n      <td>BX335536</td>\n      <td>...</td>\n      <td>2</td>\n      <td>731192021222</td>\n      <td>NaN</td>\n      <td>4</td>\n      <td>F</td>\n      <td>NaN</td>\n      <td>NaN</td>\n      <td>NaN</td>\n      <td>NaN</td>\n      <td>3540404.0</td>\n    </tr>\n    <tr>\n      <th>...</th>\n      <td>...</td>\n      <td>...</td>\n      <td>...</td>\n      <td>...</td>\n      <td>...</td>\n      <td>...</td>\n      <td>...</td>\n      <td>...</td>\n      <td>...</td>\n      <td>...</td>\n      <td>...</td>\n      <td>...</td>\n      <td>...</td>\n      <td>...</td>\n      <td>...</td>\n      <td>...</td>\n      <td>...</td>\n      <td>...</td>\n      <td>...</td>\n      <td>...</td>\n      <td>...</td>\n    </tr>\n    <tr>\n      <th>10243</th>\n      <td>6029</td>\n      <td>DUNCAN FR RECREIO</td>\n      <td>14</td>\n      <td>0928-T</td>\n      <td>JAGUAR TE DO GAVIAO</td>\n      <td>11</td>\n      <td>GAV291</td>\n      <td>NILOPOLIS FR RECREIO</td>\n      <td>12</td>\n      <td>AB-0524</td>\n      <td>...</td>\n      <td>2</td>\n      <td>60292021222</td>\n      <td>NaN</td>\n      <td>2</td>\n      <td>F</td>\n      <td>NaN</td>\n      <td>NaN</td>\n      <td>NaN</td>\n      <td>NaN</td>\n      <td>4176523.0</td>\n    </tr>\n    <tr>\n      <th>10285</th>\n      <td>132</td>\n      <td>QUINTA I COLE AGM TRIUNFO</td>\n      <td>34</td>\n      <td>9243-AG</td>\n      <td>CO-OP TOYSTORY COLE-ET</td>\n      <td>10</td>\n      <td>AX129567</td>\n      <td>QUINTA FIV M</td>\n      <td>12</td>\n      <td>0473-O</td>\n      <td>...</td>\n      <td>2</td>\n      <td>1322019222</td>\n      <td>NaN</td>\n      <td>6</td>\n      <td>F</td>\n      <td>NaN</td>\n      <td>NaN</td>\n      <td>NaN</td>\n      <td>NaN</td>\n      <td>NaN</td>\n    </tr>\n    <tr>\n      <th>10286</th>\n      <td>6915</td>\n      <td>LIA DAS ARABIAS</td>\n      <td>5858</td>\n      <td>6125-BR</td>\n      <td>TURBO DAS ARABIAS</td>\n      <td>5858</td>\n      <td>0079</td>\n      <td>LILIKA DAS ARABIAS</td>\n      <td>58</td>\n      <td>4916-AW</td>\n      <td>...</td>\n      <td>2</td>\n      <td>69152021222</td>\n      <td>NaN</td>\n      <td>5</td>\n      <td>F</td>\n      <td>NaN</td>\n      <td>NaN</td>\n      <td>NaN</td>\n      <td>NaN</td>\n      <td>NaN</td>\n    </tr>\n    <tr>\n      <th>10287</th>\n      <td>6029</td>\n      <td>GERMANA FEBO FR RECREIO</td>\n      <td>5858</td>\n      <td>9069-AS</td>\n      <td>FEBO FR RECREIO</td>\n      <td>58</td>\n      <td>6300-N</td>\n      <td>CAMPANHA FR RECREIO</td>\n      <td>58</td>\n      <td>6180-N</td>\n      <td>...</td>\n      <td>2</td>\n      <td>60292019122</td>\n      <td>NaN</td>\n      <td>5</td>\n      <td>F</td>\n      <td>NaN</td>\n      <td>NaN</td>\n      <td>NaN</td>\n      <td>NaN</td>\n      <td>NaN</td>\n    </tr>\n    <tr>\n      <th>10288</th>\n      <td>83436</td>\n      <td>LINDA SJ LALU</td>\n      <td>34</td>\n      <td>2734-BK</td>\n      <td>0</td>\n      <td>0</td>\n      <td>0</td>\n      <td>0</td>\n      <td>0</td>\n      <td>0</td>\n      <td>...</td>\n      <td>2</td>\n      <td>834362021232</td>\n      <td>NaN</td>\n      <td>6</td>\n      <td>F</td>\n      <td>NaN</td>\n      <td>NaN</td>\n      <td>NaN</td>\n      <td>NaN</td>\n      <td>NaN</td>\n    </tr>\n  </tbody>\n</table>\n<p>1039 rows × 51 columns</p>\n</div>"
     },
     "execution_count": 16,
     "metadata": {},
     "output_type": "execute_result"
    }
   ],
   "source": [
    "df_temporaria6 = pd.merge(df_dados_novos_para_insercao_no_banco_de_dados, sub_tabela_cod_pai_0[['RGPAI', 'cod_prod_pai_gen']], left_on=['RGPAI'], right_on=['RGPAI'], how='left', suffixes=('', '_drop'))\n",
    "#df_dados_novos_para_insercao_no_banco_de_dados=df_temporaria5\n",
    "#df_dados_novos_para_insercao_no_banco_de_dados = df_dados_novos_para_insercao_no_banco_de_dados.drop_duplicates()\n",
    "#df_dados_novos_para_insercao_no_banco_de_dados = df_dados_novos_para_insercao_no_banco_de_dados.drop(df_dados_novos_para_insercao_no_banco_de_dados.filter(regex='_drop$').columns, axis=1)\n",
    "#df_dados_novos_para_insercao_no_banco_de_dados\n",
    "df_temporaria6 = df_temporaria6.drop_duplicates()\n",
    "df_dados_novos_para_insercao_no_banco_de_dados = df_temporaria6\n",
    "df_dados_novos_para_insercao_no_banco_de_dados"
   ],
   "metadata": {
    "collapsed": false
   }
  },
  {
   "cell_type": "markdown",
   "source": [
    "# Pegando valores das colunas cod_prod_pai_gen e cod_prod_mae_gen e atualizando colunas  cod_pai e cod_mae no DF_DADOS_NOVOS"
   ],
   "metadata": {
    "collapsed": false
   }
  },
  {
   "cell_type": "code",
   "execution_count": 17,
   "outputs": [
    {
     "data": {
      "text/plain": "       reb_giro                            nomea  COMPRAC    RGVACA  \\\n0          7461   NANA IMPERADOR BAXTER RF SAO F     5858   6353-AH   \n1         10639  LANAA FIV AFTERSHOCK BON.BELEM       12   9592-AG   \n2          6039   EDILAINE IMPERIO FIV 4303 JARD       12  AADA0352   \n3          1945             ARMA MERIDIAN DA MBL       12   1025-AN   \n4         73119   CELESTE 136 TEATRO FIV COOPERR       12   1239-BF   \n...         ...                              ...      ...       ...   \n10243      6029                DUNCAN FR RECREIO       14    0928-T   \n10285       132        QUINTA I COLE AGM TRIUNFO       34   9243-AG   \n10286      6915                  LIA DAS ARABIAS     5858   6125-BR   \n10287      6029          GERMANA FEBO FR RECREIO     5858   9069-AS   \n10288     83436                    LINDA SJ LALU       34   2734-BK   \n\n                               nomep  GSPAI     RGPAI  \\\n0        IMPERADOR BAXTER VOLTA FRIA     58      1459   \n1      MS ATLEES SHT AFTERSHOCK - ET     10  AX129928   \n2             IMPERIO TE STA EDWIGES     11    RIG163   \n3             SULLY HART MERIDIAN-ET     10  AX138576   \n4                 TEATRO DA SILVANIA     11    EFC383   \n...                              ...    ...       ...   \n10243           JAGUAR TE DO GAVIAO     11    GAV291   \n10285         CO-OP TOYSTORY COLE-ET     10  AX129567   \n10286              TURBO DAS ARABIAS   5858      0079   \n10287                FEBO FR RECREIO     58    6300-N   \n10288                              0      0         0   \n\n                               nomem  GSMAE         RGMAE  ...   rebc  rac  \\\n0      JURITI HERBY RF SAO FRANCISCO     58        6877-N  ...   7461    2   \n1                   JOANE FIV KUBERA     11      ACFG1840  ...  10639    2   \n2      SERTEC QATAR FABIANA PROGRESS     10  HBB/B-291392  ...   6039    2   \n3                               FAMA     11        JNR167  ...   1945    2   \n4         LAGOS ASTRE QUIMICA 795 TE     10      BX335536  ...  73119    2   \n...                              ...    ...           ...  ...    ...  ...   \n10243           NILOPOLIS FR RECREIO     12       AB-0524  ...   6029    2   \n10285                   QUINTA FIV M     12        0473-O  ...    132    2   \n10286             LILIKA DAS ARABIAS     58       4916-AW  ...   6915    2   \n10287            CAMPANHA FR RECREIO     58        6180-N  ...   6029    2   \n10288                              0      0             0  ...  83436    3   \n\n       nordc       rebanoe  ordem  gs  sexo  cod_prod    cod_pai     cod_mae  \n0          2   74612019122    NaN   5     F       NaN        NaN         NaN  \n1          2  106392021122    NaN   4     F       NaN        NaN   9513273.0  \n2          2   60392020122    NaN   4     F       NaN  4320031.0         NaN  \n3          2   19452021222    NaN   4     F       NaN        NaN  10621711.0  \n4          2  731192021222    NaN   4     F       NaN  3540404.0         NaN  \n...      ...           ...    ...  ..   ...       ...        ...         ...  \n10243      2   60292021222    NaN   2     F       NaN  4176523.0         NaN  \n10285      2    1322019222    NaN   6     F       NaN        NaN         NaN  \n10286      2   69152021222    NaN   5     F       NaN        NaN         NaN  \n10287      2   60292019122    NaN   5     F       NaN        NaN         NaN  \n10288      2  834362021232    NaN   6     F       NaN        NaN         NaN  \n\n[1039 rows x 49 columns]",
      "text/html": "<div>\n<style scoped>\n    .dataframe tbody tr th:only-of-type {\n        vertical-align: middle;\n    }\n\n    .dataframe tbody tr th {\n        vertical-align: top;\n    }\n\n    .dataframe thead th {\n        text-align: right;\n    }\n</style>\n<table border=\"1\" class=\"dataframe\">\n  <thead>\n    <tr style=\"text-align: right;\">\n      <th></th>\n      <th>reb_giro</th>\n      <th>nomea</th>\n      <th>COMPRAC</th>\n      <th>RGVACA</th>\n      <th>nomep</th>\n      <th>GSPAI</th>\n      <th>RGPAI</th>\n      <th>nomem</th>\n      <th>GSMAE</th>\n      <th>RGMAE</th>\n      <th>...</th>\n      <th>rebc</th>\n      <th>rac</th>\n      <th>nordc</th>\n      <th>rebanoe</th>\n      <th>ordem</th>\n      <th>gs</th>\n      <th>sexo</th>\n      <th>cod_prod</th>\n      <th>cod_pai</th>\n      <th>cod_mae</th>\n    </tr>\n  </thead>\n  <tbody>\n    <tr>\n      <th>0</th>\n      <td>7461</td>\n      <td>NANA IMPERADOR BAXTER RF SAO F</td>\n      <td>5858</td>\n      <td>6353-AH</td>\n      <td>IMPERADOR BAXTER VOLTA FRIA</td>\n      <td>58</td>\n      <td>1459</td>\n      <td>JURITI HERBY RF SAO FRANCISCO</td>\n      <td>58</td>\n      <td>6877-N</td>\n      <td>...</td>\n      <td>7461</td>\n      <td>2</td>\n      <td>2</td>\n      <td>74612019122</td>\n      <td>NaN</td>\n      <td>5</td>\n      <td>F</td>\n      <td>NaN</td>\n      <td>NaN</td>\n      <td>NaN</td>\n    </tr>\n    <tr>\n      <th>1</th>\n      <td>10639</td>\n      <td>LANAA FIV AFTERSHOCK BON.BELEM</td>\n      <td>12</td>\n      <td>9592-AG</td>\n      <td>MS ATLEES SHT AFTERSHOCK - ET</td>\n      <td>10</td>\n      <td>AX129928</td>\n      <td>JOANE FIV KUBERA</td>\n      <td>11</td>\n      <td>ACFG1840</td>\n      <td>...</td>\n      <td>10639</td>\n      <td>2</td>\n      <td>2</td>\n      <td>106392021122</td>\n      <td>NaN</td>\n      <td>4</td>\n      <td>F</td>\n      <td>NaN</td>\n      <td>NaN</td>\n      <td>9513273.0</td>\n    </tr>\n    <tr>\n      <th>2</th>\n      <td>6039</td>\n      <td>EDILAINE IMPERIO FIV 4303 JARD</td>\n      <td>12</td>\n      <td>AADA0352</td>\n      <td>IMPERIO TE STA EDWIGES</td>\n      <td>11</td>\n      <td>RIG163</td>\n      <td>SERTEC QATAR FABIANA PROGRESS</td>\n      <td>10</td>\n      <td>HBB/B-291392</td>\n      <td>...</td>\n      <td>6039</td>\n      <td>2</td>\n      <td>2</td>\n      <td>60392020122</td>\n      <td>NaN</td>\n      <td>4</td>\n      <td>F</td>\n      <td>NaN</td>\n      <td>4320031.0</td>\n      <td>NaN</td>\n    </tr>\n    <tr>\n      <th>3</th>\n      <td>1945</td>\n      <td>ARMA MERIDIAN DA MBL</td>\n      <td>12</td>\n      <td>1025-AN</td>\n      <td>SULLY HART MERIDIAN-ET</td>\n      <td>10</td>\n      <td>AX138576</td>\n      <td>FAMA</td>\n      <td>11</td>\n      <td>JNR167</td>\n      <td>...</td>\n      <td>1945</td>\n      <td>2</td>\n      <td>2</td>\n      <td>19452021222</td>\n      <td>NaN</td>\n      <td>4</td>\n      <td>F</td>\n      <td>NaN</td>\n      <td>NaN</td>\n      <td>10621711.0</td>\n    </tr>\n    <tr>\n      <th>4</th>\n      <td>73119</td>\n      <td>CELESTE 136 TEATRO FIV COOPERR</td>\n      <td>12</td>\n      <td>1239-BF</td>\n      <td>TEATRO DA SILVANIA</td>\n      <td>11</td>\n      <td>EFC383</td>\n      <td>LAGOS ASTRE QUIMICA 795 TE</td>\n      <td>10</td>\n      <td>BX335536</td>\n      <td>...</td>\n      <td>73119</td>\n      <td>2</td>\n      <td>2</td>\n      <td>731192021222</td>\n      <td>NaN</td>\n      <td>4</td>\n      <td>F</td>\n      <td>NaN</td>\n      <td>3540404.0</td>\n      <td>NaN</td>\n    </tr>\n    <tr>\n      <th>...</th>\n      <td>...</td>\n      <td>...</td>\n      <td>...</td>\n      <td>...</td>\n      <td>...</td>\n      <td>...</td>\n      <td>...</td>\n      <td>...</td>\n      <td>...</td>\n      <td>...</td>\n      <td>...</td>\n      <td>...</td>\n      <td>...</td>\n      <td>...</td>\n      <td>...</td>\n      <td>...</td>\n      <td>...</td>\n      <td>...</td>\n      <td>...</td>\n      <td>...</td>\n      <td>...</td>\n    </tr>\n    <tr>\n      <th>10243</th>\n      <td>6029</td>\n      <td>DUNCAN FR RECREIO</td>\n      <td>14</td>\n      <td>0928-T</td>\n      <td>JAGUAR TE DO GAVIAO</td>\n      <td>11</td>\n      <td>GAV291</td>\n      <td>NILOPOLIS FR RECREIO</td>\n      <td>12</td>\n      <td>AB-0524</td>\n      <td>...</td>\n      <td>6029</td>\n      <td>2</td>\n      <td>2</td>\n      <td>60292021222</td>\n      <td>NaN</td>\n      <td>2</td>\n      <td>F</td>\n      <td>NaN</td>\n      <td>4176523.0</td>\n      <td>NaN</td>\n    </tr>\n    <tr>\n      <th>10285</th>\n      <td>132</td>\n      <td>QUINTA I COLE AGM TRIUNFO</td>\n      <td>34</td>\n      <td>9243-AG</td>\n      <td>CO-OP TOYSTORY COLE-ET</td>\n      <td>10</td>\n      <td>AX129567</td>\n      <td>QUINTA FIV M</td>\n      <td>12</td>\n      <td>0473-O</td>\n      <td>...</td>\n      <td>132</td>\n      <td>2</td>\n      <td>2</td>\n      <td>1322019222</td>\n      <td>NaN</td>\n      <td>6</td>\n      <td>F</td>\n      <td>NaN</td>\n      <td>NaN</td>\n      <td>NaN</td>\n    </tr>\n    <tr>\n      <th>10286</th>\n      <td>6915</td>\n      <td>LIA DAS ARABIAS</td>\n      <td>5858</td>\n      <td>6125-BR</td>\n      <td>TURBO DAS ARABIAS</td>\n      <td>5858</td>\n      <td>0079</td>\n      <td>LILIKA DAS ARABIAS</td>\n      <td>58</td>\n      <td>4916-AW</td>\n      <td>...</td>\n      <td>6915</td>\n      <td>2</td>\n      <td>2</td>\n      <td>69152021222</td>\n      <td>NaN</td>\n      <td>5</td>\n      <td>F</td>\n      <td>NaN</td>\n      <td>NaN</td>\n      <td>NaN</td>\n    </tr>\n    <tr>\n      <th>10287</th>\n      <td>6029</td>\n      <td>GERMANA FEBO FR RECREIO</td>\n      <td>5858</td>\n      <td>9069-AS</td>\n      <td>FEBO FR RECREIO</td>\n      <td>58</td>\n      <td>6300-N</td>\n      <td>CAMPANHA FR RECREIO</td>\n      <td>58</td>\n      <td>6180-N</td>\n      <td>...</td>\n      <td>6029</td>\n      <td>2</td>\n      <td>2</td>\n      <td>60292019122</td>\n      <td>NaN</td>\n      <td>5</td>\n      <td>F</td>\n      <td>NaN</td>\n      <td>NaN</td>\n      <td>NaN</td>\n    </tr>\n    <tr>\n      <th>10288</th>\n      <td>83436</td>\n      <td>LINDA SJ LALU</td>\n      <td>34</td>\n      <td>2734-BK</td>\n      <td>0</td>\n      <td>0</td>\n      <td>0</td>\n      <td>0</td>\n      <td>0</td>\n      <td>0</td>\n      <td>...</td>\n      <td>83436</td>\n      <td>3</td>\n      <td>2</td>\n      <td>834362021232</td>\n      <td>NaN</td>\n      <td>6</td>\n      <td>F</td>\n      <td>NaN</td>\n      <td>NaN</td>\n      <td>NaN</td>\n    </tr>\n  </tbody>\n</table>\n<p>1039 rows × 49 columns</p>\n</div>"
     },
     "execution_count": 17,
     "metadata": {},
     "output_type": "execute_result"
    }
   ],
   "source": [
    "df_temporaria6 = df_temporaria5\n",
    "df_dados_novos_para_insercao_no_banco_de_dados['cod_pai'].fillna(df_dados_novos_para_insercao_no_banco_de_dados['cod_prod_pai_gen'], inplace=True)\n",
    "df_dados_novos_para_insercao_no_banco_de_dados['cod_mae'].fillna(df_dados_novos_para_insercao_no_banco_de_dados['cod_prod_mae_gen'], inplace=True)\n",
    "#Dando drop nas colunas antigas\n",
    "df_dados_novos_para_insercao_no_banco_de_dados = df_dados_novos_para_insercao_no_banco_de_dados.drop(columns='cod_prod_pai_gen')\n",
    "df_dados_novos_para_insercao_no_banco_de_dados = df_dados_novos_para_insercao_no_banco_de_dados.drop(columns='cod_prod_mae_gen')\n",
    "df_dados_novos_para_insercao_no_banco_de_dados"
   ],
   "metadata": {
    "collapsed": false
   }
  },
  {
   "cell_type": "markdown",
   "source": [
    "# Criando subtabela em que o gs do pai = 11 mas os 3 primeiros caracteres do rgpai nao sao letras"
   ],
   "metadata": {
    "collapsed": false
   }
  },
  {
   "cell_type": "code",
   "execution_count": 18,
   "outputs": [],
   "source": [
    "sub_tabela_cod_pai_0 = df_dados_novos_para_insercao_no_banco_de_dados[df_dados_novos_para_insercao_no_banco_de_dados['GSPAI'] == 11]\n",
    "#e o cod_mae e nulo\n",
    "sub_tabela_cod_pai_0\n",
    "# selecionar apenas as linhas que NÃO começam com letras\n",
    "sub_tabela_cod_pai_0 = sub_tabela_cod_pai_0[~sub_tabela_cod_pai_0['nomea'].apply(lambda x: bool(re.match(r'^[a-zA-Z]{3}', x)))]"
   ],
   "metadata": {
    "collapsed": false
   }
  },
  {
   "cell_type": "markdown",
   "source": [
    "# Pegando cod_prod_pai no genealogia_abcz dos animais em que o registro nao comeca com 3 letras"
   ],
   "metadata": {
    "collapsed": false
   }
  },
  {
   "cell_type": "code",
   "execution_count": 19,
   "outputs": [
    {
     "data": {
      "text/plain": "Empty DataFrame\nColumns: [reb_giro, nomea, COMPRAC, RGVACA, nomep, GSPAI, RGPAI, nomem, GSMAE, RGMAE, DNV, MNV, ANV, UF, OP, DP, MP, AP, DURLAC, LTOT, L365, L305, DE, ME, AE, CAUSA, INTER, IDPAI, IDMAE, IDANIMAL, TORNEIO, RA, TIPO, QTD_ORDENHAS, nasc, parto, secagem, anopc, anop_menos1c, rebc, rac, nordc, rebanoe, ordem, gs, sexo, cod_prod, cod_pai, cod_mae, nome11caracteres, cod_prod_pai_gen]\nIndex: []\n\n[0 rows x 51 columns]",
      "text/html": "<div>\n<style scoped>\n    .dataframe tbody tr th:only-of-type {\n        vertical-align: middle;\n    }\n\n    .dataframe tbody tr th {\n        vertical-align: top;\n    }\n\n    .dataframe thead th {\n        text-align: right;\n    }\n</style>\n<table border=\"1\" class=\"dataframe\">\n  <thead>\n    <tr style=\"text-align: right;\">\n      <th></th>\n      <th>reb_giro</th>\n      <th>nomea</th>\n      <th>COMPRAC</th>\n      <th>RGVACA</th>\n      <th>nomep</th>\n      <th>GSPAI</th>\n      <th>RGPAI</th>\n      <th>nomem</th>\n      <th>GSMAE</th>\n      <th>RGMAE</th>\n      <th>...</th>\n      <th>nordc</th>\n      <th>rebanoe</th>\n      <th>ordem</th>\n      <th>gs</th>\n      <th>sexo</th>\n      <th>cod_prod</th>\n      <th>cod_pai</th>\n      <th>cod_mae</th>\n      <th>nome11caracteres</th>\n      <th>cod_prod_pai_gen</th>\n    </tr>\n  </thead>\n  <tbody>\n  </tbody>\n</table>\n<p>0 rows × 51 columns</p>\n</div>"
     },
     "execution_count": 19,
     "metadata": {},
     "output_type": "execute_result"
    }
   ],
   "source": [
    "sub_tabela_cod_pai_0 = sub_tabela_cod_pai_0.drop_duplicates()\n",
    "df_genealogia_abcz = df_genealogia_abcz.drop_duplicates()\n",
    "#criando coluna com os 10 caracteres do nome\n",
    "sub_tabela_cod_pai_0['nome11caracteres'] = sub_tabela_cod_pai_0['nomea'].str.slice(start=0, stop=11)\n",
    "df_genealogia_abcz['nome11caracteres'] = df_genealogia_abcz['nome'].str.slice(start=0, stop=11)\n",
    "#removendo os espacos em branco das celulas\n",
    "#sub_tabela_cod_pai_0['nome10caracteres'] = sub_tabela_cod_pai_0['nome10caracteres'].str.replace('\\s+', '', regex=True)\n",
    "#df_genealogia_abcz['nome10caracteres'] = df_genealogia_abcz['nome10caracteres'].str.replace('\\s+', '', regex=True)\n",
    "\n",
    "sub_tabela_cod_pai_0 = pd.merge(sub_tabela_cod_pai_0, df_genealogia_abcz[['RGVACA', 'nome11caracteres','cod_prod_pai_gen']], left_on=['RGPAI', 'nome11caracteres'], right_on=['RGVACA', 'nome11caracteres'], how='left', indicator=True, suffixes=('', '_drop'))\n",
    "sub_tabela_cod_pai_0 = sub_tabela_cod_pai_0.drop_duplicates()\n",
    "sub_tabela_cod_pai_0 = sub_tabela_cod_pai_0.drop(sub_tabela_cod_pai_0.filter(regex='_drop$').columns, axis=1)\n",
    "sub_tabela_cod_pai_0 = sub_tabela_cod_pai_0[sub_tabela_cod_pai_0['_merge'] == 'both'].drop(columns='_merge')\n",
    "sub_tabela_cod_pai_0"
   ],
   "metadata": {
    "collapsed": false
   }
  },
  {
   "cell_type": "markdown",
   "source": [
    "# Adicionando o cod_prod_pai_gen dos pais no dataframe df_dados_novos\n",
    "obs: dos REGPAI que nao comecam com 3 caracteres"
   ],
   "metadata": {
    "collapsed": false
   }
  },
  {
   "cell_type": "code",
   "execution_count": 20,
   "outputs": [
    {
     "data": {
      "text/plain": "      reb_giro                            nomea  COMPRAC    RGVACA  \\\n0         7461   NANA IMPERADOR BAXTER RF SAO F     5858   6353-AH   \n1        10639  LANAA FIV AFTERSHOCK BON.BELEM       12   9592-AG   \n2         6039   EDILAINE IMPERIO FIV 4303 JARD       12  AADA0352   \n3         1945             ARMA MERIDIAN DA MBL       12   1025-AN   \n4        73119   CELESTE 136 TEATRO FIV COOPERR       12   1239-BF   \n...        ...                              ...      ...       ...   \n1034      6029                DUNCAN FR RECREIO       14    0928-T   \n1035       132        QUINTA I COLE AGM TRIUNFO       34   9243-AG   \n1036      6915                  LIA DAS ARABIAS     5858   6125-BR   \n1037      6029          GERMANA FEBO FR RECREIO     5858   9069-AS   \n1038     83436                    LINDA SJ LALU       34   2734-BK   \n\n                              nomep  GSPAI     RGPAI  \\\n0       IMPERADOR BAXTER VOLTA FRIA     58      1459   \n1     MS ATLEES SHT AFTERSHOCK - ET     10  AX129928   \n2            IMPERIO TE STA EDWIGES     11    RIG163   \n3            SULLY HART MERIDIAN-ET     10  AX138576   \n4                TEATRO DA SILVANIA     11    EFC383   \n...                             ...    ...       ...   \n1034           JAGUAR TE DO GAVIAO     11    GAV291   \n1035         CO-OP TOYSTORY COLE-ET     10  AX129567   \n1036              TURBO DAS ARABIAS   5858      0079   \n1037                FEBO FR RECREIO     58    6300-N   \n1038                              0      0         0   \n\n                              nomem  GSMAE         RGMAE  ...  rac  nordc  \\\n0     JURITI HERBY RF SAO FRANCISCO     58        6877-N  ...    2      2   \n1                  JOANE FIV KUBERA     11      ACFG1840  ...    2      2   \n2     SERTEC QATAR FABIANA PROGRESS     10  HBB/B-291392  ...    2      2   \n3                              FAMA     11        JNR167  ...    2      2   \n4        LAGOS ASTRE QUIMICA 795 TE     10      BX335536  ...    2      2   \n...                             ...    ...           ...  ...  ...    ...   \n1034           NILOPOLIS FR RECREIO     12       AB-0524  ...    2      2   \n1035                   QUINTA FIV M     12        0473-O  ...    2      2   \n1036             LILIKA DAS ARABIAS     58       4916-AW  ...    2      2   \n1037            CAMPANHA FR RECREIO     58        6180-N  ...    2      2   \n1038                              0      0             0  ...    3      2   \n\n           rebanoe ordem  gs  sexo  cod_prod    cod_pai     cod_mae  \\\n0      74612019122   NaN   5     F       NaN        NaN         NaN   \n1     106392021122   NaN   4     F       NaN        NaN   9513273.0   \n2      60392020122   NaN   4     F       NaN  4320031.0         NaN   \n3      19452021222   NaN   4     F       NaN        NaN  10621711.0   \n4     731192021222   NaN   4     F       NaN  3540404.0         NaN   \n...            ...   ...  ..   ...       ...        ...         ...   \n1034   60292021222   NaN   2     F       NaN  4176523.0         NaN   \n1035    1322019222   NaN   6     F       NaN        NaN         NaN   \n1036   69152021222   NaN   5     F       NaN        NaN         NaN   \n1037   60292019122   NaN   5     F       NaN        NaN         NaN   \n1038  834362021232   NaN   6     F       NaN        NaN         NaN   \n\n      cod_prod_pai_gen  \n0                  NaN  \n1                  NaN  \n2                  NaN  \n3                  NaN  \n4                  NaN  \n...                ...  \n1034               NaN  \n1035               NaN  \n1036               NaN  \n1037               NaN  \n1038               NaN  \n\n[1039 rows x 50 columns]",
      "text/html": "<div>\n<style scoped>\n    .dataframe tbody tr th:only-of-type {\n        vertical-align: middle;\n    }\n\n    .dataframe tbody tr th {\n        vertical-align: top;\n    }\n\n    .dataframe thead th {\n        text-align: right;\n    }\n</style>\n<table border=\"1\" class=\"dataframe\">\n  <thead>\n    <tr style=\"text-align: right;\">\n      <th></th>\n      <th>reb_giro</th>\n      <th>nomea</th>\n      <th>COMPRAC</th>\n      <th>RGVACA</th>\n      <th>nomep</th>\n      <th>GSPAI</th>\n      <th>RGPAI</th>\n      <th>nomem</th>\n      <th>GSMAE</th>\n      <th>RGMAE</th>\n      <th>...</th>\n      <th>rac</th>\n      <th>nordc</th>\n      <th>rebanoe</th>\n      <th>ordem</th>\n      <th>gs</th>\n      <th>sexo</th>\n      <th>cod_prod</th>\n      <th>cod_pai</th>\n      <th>cod_mae</th>\n      <th>cod_prod_pai_gen</th>\n    </tr>\n  </thead>\n  <tbody>\n    <tr>\n      <th>0</th>\n      <td>7461</td>\n      <td>NANA IMPERADOR BAXTER RF SAO F</td>\n      <td>5858</td>\n      <td>6353-AH</td>\n      <td>IMPERADOR BAXTER VOLTA FRIA</td>\n      <td>58</td>\n      <td>1459</td>\n      <td>JURITI HERBY RF SAO FRANCISCO</td>\n      <td>58</td>\n      <td>6877-N</td>\n      <td>...</td>\n      <td>2</td>\n      <td>2</td>\n      <td>74612019122</td>\n      <td>NaN</td>\n      <td>5</td>\n      <td>F</td>\n      <td>NaN</td>\n      <td>NaN</td>\n      <td>NaN</td>\n      <td>NaN</td>\n    </tr>\n    <tr>\n      <th>1</th>\n      <td>10639</td>\n      <td>LANAA FIV AFTERSHOCK BON.BELEM</td>\n      <td>12</td>\n      <td>9592-AG</td>\n      <td>MS ATLEES SHT AFTERSHOCK - ET</td>\n      <td>10</td>\n      <td>AX129928</td>\n      <td>JOANE FIV KUBERA</td>\n      <td>11</td>\n      <td>ACFG1840</td>\n      <td>...</td>\n      <td>2</td>\n      <td>2</td>\n      <td>106392021122</td>\n      <td>NaN</td>\n      <td>4</td>\n      <td>F</td>\n      <td>NaN</td>\n      <td>NaN</td>\n      <td>9513273.0</td>\n      <td>NaN</td>\n    </tr>\n    <tr>\n      <th>2</th>\n      <td>6039</td>\n      <td>EDILAINE IMPERIO FIV 4303 JARD</td>\n      <td>12</td>\n      <td>AADA0352</td>\n      <td>IMPERIO TE STA EDWIGES</td>\n      <td>11</td>\n      <td>RIG163</td>\n      <td>SERTEC QATAR FABIANA PROGRESS</td>\n      <td>10</td>\n      <td>HBB/B-291392</td>\n      <td>...</td>\n      <td>2</td>\n      <td>2</td>\n      <td>60392020122</td>\n      <td>NaN</td>\n      <td>4</td>\n      <td>F</td>\n      <td>NaN</td>\n      <td>4320031.0</td>\n      <td>NaN</td>\n      <td>NaN</td>\n    </tr>\n    <tr>\n      <th>3</th>\n      <td>1945</td>\n      <td>ARMA MERIDIAN DA MBL</td>\n      <td>12</td>\n      <td>1025-AN</td>\n      <td>SULLY HART MERIDIAN-ET</td>\n      <td>10</td>\n      <td>AX138576</td>\n      <td>FAMA</td>\n      <td>11</td>\n      <td>JNR167</td>\n      <td>...</td>\n      <td>2</td>\n      <td>2</td>\n      <td>19452021222</td>\n      <td>NaN</td>\n      <td>4</td>\n      <td>F</td>\n      <td>NaN</td>\n      <td>NaN</td>\n      <td>10621711.0</td>\n      <td>NaN</td>\n    </tr>\n    <tr>\n      <th>4</th>\n      <td>73119</td>\n      <td>CELESTE 136 TEATRO FIV COOPERR</td>\n      <td>12</td>\n      <td>1239-BF</td>\n      <td>TEATRO DA SILVANIA</td>\n      <td>11</td>\n      <td>EFC383</td>\n      <td>LAGOS ASTRE QUIMICA 795 TE</td>\n      <td>10</td>\n      <td>BX335536</td>\n      <td>...</td>\n      <td>2</td>\n      <td>2</td>\n      <td>731192021222</td>\n      <td>NaN</td>\n      <td>4</td>\n      <td>F</td>\n      <td>NaN</td>\n      <td>3540404.0</td>\n      <td>NaN</td>\n      <td>NaN</td>\n    </tr>\n    <tr>\n      <th>...</th>\n      <td>...</td>\n      <td>...</td>\n      <td>...</td>\n      <td>...</td>\n      <td>...</td>\n      <td>...</td>\n      <td>...</td>\n      <td>...</td>\n      <td>...</td>\n      <td>...</td>\n      <td>...</td>\n      <td>...</td>\n      <td>...</td>\n      <td>...</td>\n      <td>...</td>\n      <td>...</td>\n      <td>...</td>\n      <td>...</td>\n      <td>...</td>\n      <td>...</td>\n      <td>...</td>\n    </tr>\n    <tr>\n      <th>1034</th>\n      <td>6029</td>\n      <td>DUNCAN FR RECREIO</td>\n      <td>14</td>\n      <td>0928-T</td>\n      <td>JAGUAR TE DO GAVIAO</td>\n      <td>11</td>\n      <td>GAV291</td>\n      <td>NILOPOLIS FR RECREIO</td>\n      <td>12</td>\n      <td>AB-0524</td>\n      <td>...</td>\n      <td>2</td>\n      <td>2</td>\n      <td>60292021222</td>\n      <td>NaN</td>\n      <td>2</td>\n      <td>F</td>\n      <td>NaN</td>\n      <td>4176523.0</td>\n      <td>NaN</td>\n      <td>NaN</td>\n    </tr>\n    <tr>\n      <th>1035</th>\n      <td>132</td>\n      <td>QUINTA I COLE AGM TRIUNFO</td>\n      <td>34</td>\n      <td>9243-AG</td>\n      <td>CO-OP TOYSTORY COLE-ET</td>\n      <td>10</td>\n      <td>AX129567</td>\n      <td>QUINTA FIV M</td>\n      <td>12</td>\n      <td>0473-O</td>\n      <td>...</td>\n      <td>2</td>\n      <td>2</td>\n      <td>1322019222</td>\n      <td>NaN</td>\n      <td>6</td>\n      <td>F</td>\n      <td>NaN</td>\n      <td>NaN</td>\n      <td>NaN</td>\n      <td>NaN</td>\n    </tr>\n    <tr>\n      <th>1036</th>\n      <td>6915</td>\n      <td>LIA DAS ARABIAS</td>\n      <td>5858</td>\n      <td>6125-BR</td>\n      <td>TURBO DAS ARABIAS</td>\n      <td>5858</td>\n      <td>0079</td>\n      <td>LILIKA DAS ARABIAS</td>\n      <td>58</td>\n      <td>4916-AW</td>\n      <td>...</td>\n      <td>2</td>\n      <td>2</td>\n      <td>69152021222</td>\n      <td>NaN</td>\n      <td>5</td>\n      <td>F</td>\n      <td>NaN</td>\n      <td>NaN</td>\n      <td>NaN</td>\n      <td>NaN</td>\n    </tr>\n    <tr>\n      <th>1037</th>\n      <td>6029</td>\n      <td>GERMANA FEBO FR RECREIO</td>\n      <td>5858</td>\n      <td>9069-AS</td>\n      <td>FEBO FR RECREIO</td>\n      <td>58</td>\n      <td>6300-N</td>\n      <td>CAMPANHA FR RECREIO</td>\n      <td>58</td>\n      <td>6180-N</td>\n      <td>...</td>\n      <td>2</td>\n      <td>2</td>\n      <td>60292019122</td>\n      <td>NaN</td>\n      <td>5</td>\n      <td>F</td>\n      <td>NaN</td>\n      <td>NaN</td>\n      <td>NaN</td>\n      <td>NaN</td>\n    </tr>\n    <tr>\n      <th>1038</th>\n      <td>83436</td>\n      <td>LINDA SJ LALU</td>\n      <td>34</td>\n      <td>2734-BK</td>\n      <td>0</td>\n      <td>0</td>\n      <td>0</td>\n      <td>0</td>\n      <td>0</td>\n      <td>0</td>\n      <td>...</td>\n      <td>3</td>\n      <td>2</td>\n      <td>834362021232</td>\n      <td>NaN</td>\n      <td>6</td>\n      <td>F</td>\n      <td>NaN</td>\n      <td>NaN</td>\n      <td>NaN</td>\n      <td>NaN</td>\n    </tr>\n  </tbody>\n</table>\n<p>1039 rows × 50 columns</p>\n</div>"
     },
     "execution_count": 20,
     "metadata": {},
     "output_type": "execute_result"
    }
   ],
   "source": [
    "df_temporaria7 = pd.merge(df_dados_novos_para_insercao_no_banco_de_dados, sub_tabela_cod_pai_0[['RGPAI', 'cod_prod_pai_gen']], left_on=['RGPAI'], right_on=['RGPAI'], how='left', suffixes=('', '_drop'))\n",
    "#df_dados_novos_para_insercao_no_banco_de_dados=df_temporaria5\n",
    "#df_dados_novos_para_insercao_no_banco_de_dados = df_dados_novos_para_insercao_no_banco_de_dados.drop_duplicates()\n",
    "#df_dados_novos_para_insercao_no_banco_de_dados = df_dados_novos_para_insercao_no_banco_de_dados.drop(df_dados_novos_para_insercao_no_banco_de_dados.filter(regex='_drop$').columns, axis=1)\n",
    "#df_dados_novos_para_insercao_no_banco_de_dados\n",
    "df_temporaria7 = df_temporaria7.drop_duplicates()\n",
    "df_dados_novos_para_insercao_no_banco_de_dados = df_temporaria7\n",
    "df_dados_novos_para_insercao_no_banco_de_dados"
   ],
   "metadata": {
    "collapsed": false
   }
  },
  {
   "cell_type": "markdown",
   "source": [
    "# Criando subtabela em que o gs da mae = 11 mas os 3 primeiros caracteres do rgmae nao sao letras"
   ],
   "metadata": {
    "collapsed": false
   }
  },
  {
   "cell_type": "code",
   "execution_count": 21,
   "outputs": [],
   "source": [
    "sub_tabela_cod_mae_0 = df_dados_novos_para_insercao_no_banco_de_dados[df_dados_novos_para_insercao_no_banco_de_dados['GSMAE'] == 11]\n",
    "#e o cod_mae e nulo\n",
    "sub_tabela_cod_mae_0\n",
    "# selecionar apenas as linhas que NÃO começam com letras\n",
    "sub_tabela_cod_mae_0 = sub_tabela_cod_mae_0[~sub_tabela_cod_mae_0['nomea'].apply(lambda x: bool(re.match(r'^[a-zA-Z]{3}', x)))]"
   ],
   "metadata": {
    "collapsed": false
   }
  },
  {
   "cell_type": "markdown",
   "source": [
    "# Pegando cod_prod_mae no genealogia abcz dos animais em que o registro nao comeca com 3 letras"
   ],
   "metadata": {
    "collapsed": false
   }
  },
  {
   "cell_type": "code",
   "execution_count": 22,
   "outputs": [
    {
     "data": {
      "text/plain": "Empty DataFrame\nColumns: [reb_giro, nomea, COMPRAC, RGVACA, nomep, GSPAI, RGPAI, nomem, GSMAE, RGMAE, DNV, MNV, ANV, UF, OP, DP, MP, AP, DURLAC, LTOT, L365, L305, DE, ME, AE, CAUSA, INTER, IDPAI, IDMAE, IDANIMAL, TORNEIO, RA, TIPO, QTD_ORDENHAS, nasc, parto, secagem, anopc, anop_menos1c, rebc, rac, nordc, rebanoe, ordem, gs, sexo, cod_prod, cod_pai, cod_mae, cod_prod_pai_gen, nome11caracteres, cod_prod_mae_gen]\nIndex: []\n\n[0 rows x 52 columns]",
      "text/html": "<div>\n<style scoped>\n    .dataframe tbody tr th:only-of-type {\n        vertical-align: middle;\n    }\n\n    .dataframe tbody tr th {\n        vertical-align: top;\n    }\n\n    .dataframe thead th {\n        text-align: right;\n    }\n</style>\n<table border=\"1\" class=\"dataframe\">\n  <thead>\n    <tr style=\"text-align: right;\">\n      <th></th>\n      <th>reb_giro</th>\n      <th>nomea</th>\n      <th>COMPRAC</th>\n      <th>RGVACA</th>\n      <th>nomep</th>\n      <th>GSPAI</th>\n      <th>RGPAI</th>\n      <th>nomem</th>\n      <th>GSMAE</th>\n      <th>RGMAE</th>\n      <th>...</th>\n      <th>rebanoe</th>\n      <th>ordem</th>\n      <th>gs</th>\n      <th>sexo</th>\n      <th>cod_prod</th>\n      <th>cod_pai</th>\n      <th>cod_mae</th>\n      <th>cod_prod_pai_gen</th>\n      <th>nome11caracteres</th>\n      <th>cod_prod_mae_gen</th>\n    </tr>\n  </thead>\n  <tbody>\n  </tbody>\n</table>\n<p>0 rows × 52 columns</p>\n</div>"
     },
     "execution_count": 22,
     "metadata": {},
     "output_type": "execute_result"
    }
   ],
   "source": [
    "sub_tabela_cod_mae_0['nome11caracteres'] = sub_tabela_cod_mae_0['nomea'].str.slice(start=0, stop=11)\n",
    "df_genealogia_abcz = df_genealogia_abcz.rename(columns={'cod_prod_pai_gen':'cod_prod_mae_gen'})\n",
    "sub_tabela_cod_mae_0 = pd.merge(sub_tabela_cod_mae_0, df_genealogia_abcz[['RGVACA','nome11caracteres' ,'cod_prod_mae_gen']], left_on=['RGMAE', 'nome11caracteres'], right_on=['RGVACA', 'nome11caracteres'], how='left', indicator=True, suffixes=('', '_drop'))\n",
    "sub_tabela_cod_mae_0 = sub_tabela_cod_mae_0.drop_duplicates()\n",
    "sub_tabela_cod_mae_0 = sub_tabela_cod_mae_0.drop(sub_tabela_cod_mae_0.filter(regex='_drop$').columns, axis=1)\n",
    "sub_tabela_cod_mae_0 = sub_tabela_cod_mae_0[sub_tabela_cod_mae_0['_merge'] == 'both'].drop(columns='_merge')\n",
    "sub_tabela_cod_mae_0\n"
   ],
   "metadata": {
    "collapsed": false
   }
  },
  {
   "cell_type": "markdown",
   "source": [
    "# Adicionando cod_prod_mae_gen no df_dados_novos\n",
    "Obs: regmae com menos de 3 caracteres"
   ],
   "metadata": {
    "collapsed": false
   }
  },
  {
   "cell_type": "code",
   "execution_count": 23,
   "outputs": [
    {
     "data": {
      "text/plain": "      reb_giro                            nomea  COMPRAC    RGVACA  \\\n0         7461   NANA IMPERADOR BAXTER RF SAO F     5858   6353-AH   \n1        10639  LANAA FIV AFTERSHOCK BON.BELEM       12   9592-AG   \n2         6039   EDILAINE IMPERIO FIV 4303 JARD       12  AADA0352   \n3         1945             ARMA MERIDIAN DA MBL       12   1025-AN   \n4        73119   CELESTE 136 TEATRO FIV COOPERR       12   1239-BF   \n...        ...                              ...      ...       ...   \n1034      6029                DUNCAN FR RECREIO       14    0928-T   \n1035       132        QUINTA I COLE AGM TRIUNFO       34   9243-AG   \n1036      6915                  LIA DAS ARABIAS     5858   6125-BR   \n1037      6029          GERMANA FEBO FR RECREIO     5858   9069-AS   \n1038     83436                    LINDA SJ LALU       34   2734-BK   \n\n                              nomep  GSPAI     RGPAI  \\\n0       IMPERADOR BAXTER VOLTA FRIA     58      1459   \n1     MS ATLEES SHT AFTERSHOCK - ET     10  AX129928   \n2            IMPERIO TE STA EDWIGES     11    RIG163   \n3            SULLY HART MERIDIAN-ET     10  AX138576   \n4                TEATRO DA SILVANIA     11    EFC383   \n...                             ...    ...       ...   \n1034           JAGUAR TE DO GAVIAO     11    GAV291   \n1035         CO-OP TOYSTORY COLE-ET     10  AX129567   \n1036              TURBO DAS ARABIAS   5858      0079   \n1037                FEBO FR RECREIO     58    6300-N   \n1038                              0      0         0   \n\n                              nomem  GSMAE         RGMAE  ...  nordc  \\\n0     JURITI HERBY RF SAO FRANCISCO     58        6877-N  ...      2   \n1                  JOANE FIV KUBERA     11      ACFG1840  ...      2   \n2     SERTEC QATAR FABIANA PROGRESS     10  HBB/B-291392  ...      2   \n3                              FAMA     11        JNR167  ...      2   \n4        LAGOS ASTRE QUIMICA 795 TE     10      BX335536  ...      2   \n...                             ...    ...           ...  ...    ...   \n1034           NILOPOLIS FR RECREIO     12       AB-0524  ...      2   \n1035                   QUINTA FIV M     12        0473-O  ...      2   \n1036             LILIKA DAS ARABIAS     58       4916-AW  ...      2   \n1037            CAMPANHA FR RECREIO     58        6180-N  ...      2   \n1038                              0      0             0  ...      2   \n\n           rebanoe  ordem gs  sexo  cod_prod    cod_pai     cod_mae  \\\n0      74612019122    NaN  5     F       NaN        NaN         NaN   \n1     106392021122    NaN  4     F       NaN        NaN   9513273.0   \n2      60392020122    NaN  4     F       NaN  4320031.0         NaN   \n3      19452021222    NaN  4     F       NaN        NaN  10621711.0   \n4     731192021222    NaN  4     F       NaN  3540404.0         NaN   \n...            ...    ... ..   ...       ...        ...         ...   \n1034   60292021222    NaN  2     F       NaN  4176523.0         NaN   \n1035    1322019222    NaN  6     F       NaN        NaN         NaN   \n1036   69152021222    NaN  5     F       NaN        NaN         NaN   \n1037   60292019122    NaN  5     F       NaN        NaN         NaN   \n1038  834362021232    NaN  6     F       NaN        NaN         NaN   \n\n      cod_prod_pai_gen  cod_prod_mae_gen  \n0                  NaN               NaN  \n1                  NaN               NaN  \n2                  NaN               NaN  \n3                  NaN               NaN  \n4                  NaN               NaN  \n...                ...               ...  \n1034               NaN               NaN  \n1035               NaN               NaN  \n1036               NaN               NaN  \n1037               NaN               NaN  \n1038               NaN               NaN  \n\n[1039 rows x 51 columns]",
      "text/html": "<div>\n<style scoped>\n    .dataframe tbody tr th:only-of-type {\n        vertical-align: middle;\n    }\n\n    .dataframe tbody tr th {\n        vertical-align: top;\n    }\n\n    .dataframe thead th {\n        text-align: right;\n    }\n</style>\n<table border=\"1\" class=\"dataframe\">\n  <thead>\n    <tr style=\"text-align: right;\">\n      <th></th>\n      <th>reb_giro</th>\n      <th>nomea</th>\n      <th>COMPRAC</th>\n      <th>RGVACA</th>\n      <th>nomep</th>\n      <th>GSPAI</th>\n      <th>RGPAI</th>\n      <th>nomem</th>\n      <th>GSMAE</th>\n      <th>RGMAE</th>\n      <th>...</th>\n      <th>nordc</th>\n      <th>rebanoe</th>\n      <th>ordem</th>\n      <th>gs</th>\n      <th>sexo</th>\n      <th>cod_prod</th>\n      <th>cod_pai</th>\n      <th>cod_mae</th>\n      <th>cod_prod_pai_gen</th>\n      <th>cod_prod_mae_gen</th>\n    </tr>\n  </thead>\n  <tbody>\n    <tr>\n      <th>0</th>\n      <td>7461</td>\n      <td>NANA IMPERADOR BAXTER RF SAO F</td>\n      <td>5858</td>\n      <td>6353-AH</td>\n      <td>IMPERADOR BAXTER VOLTA FRIA</td>\n      <td>58</td>\n      <td>1459</td>\n      <td>JURITI HERBY RF SAO FRANCISCO</td>\n      <td>58</td>\n      <td>6877-N</td>\n      <td>...</td>\n      <td>2</td>\n      <td>74612019122</td>\n      <td>NaN</td>\n      <td>5</td>\n      <td>F</td>\n      <td>NaN</td>\n      <td>NaN</td>\n      <td>NaN</td>\n      <td>NaN</td>\n      <td>NaN</td>\n    </tr>\n    <tr>\n      <th>1</th>\n      <td>10639</td>\n      <td>LANAA FIV AFTERSHOCK BON.BELEM</td>\n      <td>12</td>\n      <td>9592-AG</td>\n      <td>MS ATLEES SHT AFTERSHOCK - ET</td>\n      <td>10</td>\n      <td>AX129928</td>\n      <td>JOANE FIV KUBERA</td>\n      <td>11</td>\n      <td>ACFG1840</td>\n      <td>...</td>\n      <td>2</td>\n      <td>106392021122</td>\n      <td>NaN</td>\n      <td>4</td>\n      <td>F</td>\n      <td>NaN</td>\n      <td>NaN</td>\n      <td>9513273.0</td>\n      <td>NaN</td>\n      <td>NaN</td>\n    </tr>\n    <tr>\n      <th>2</th>\n      <td>6039</td>\n      <td>EDILAINE IMPERIO FIV 4303 JARD</td>\n      <td>12</td>\n      <td>AADA0352</td>\n      <td>IMPERIO TE STA EDWIGES</td>\n      <td>11</td>\n      <td>RIG163</td>\n      <td>SERTEC QATAR FABIANA PROGRESS</td>\n      <td>10</td>\n      <td>HBB/B-291392</td>\n      <td>...</td>\n      <td>2</td>\n      <td>60392020122</td>\n      <td>NaN</td>\n      <td>4</td>\n      <td>F</td>\n      <td>NaN</td>\n      <td>4320031.0</td>\n      <td>NaN</td>\n      <td>NaN</td>\n      <td>NaN</td>\n    </tr>\n    <tr>\n      <th>3</th>\n      <td>1945</td>\n      <td>ARMA MERIDIAN DA MBL</td>\n      <td>12</td>\n      <td>1025-AN</td>\n      <td>SULLY HART MERIDIAN-ET</td>\n      <td>10</td>\n      <td>AX138576</td>\n      <td>FAMA</td>\n      <td>11</td>\n      <td>JNR167</td>\n      <td>...</td>\n      <td>2</td>\n      <td>19452021222</td>\n      <td>NaN</td>\n      <td>4</td>\n      <td>F</td>\n      <td>NaN</td>\n      <td>NaN</td>\n      <td>10621711.0</td>\n      <td>NaN</td>\n      <td>NaN</td>\n    </tr>\n    <tr>\n      <th>4</th>\n      <td>73119</td>\n      <td>CELESTE 136 TEATRO FIV COOPERR</td>\n      <td>12</td>\n      <td>1239-BF</td>\n      <td>TEATRO DA SILVANIA</td>\n      <td>11</td>\n      <td>EFC383</td>\n      <td>LAGOS ASTRE QUIMICA 795 TE</td>\n      <td>10</td>\n      <td>BX335536</td>\n      <td>...</td>\n      <td>2</td>\n      <td>731192021222</td>\n      <td>NaN</td>\n      <td>4</td>\n      <td>F</td>\n      <td>NaN</td>\n      <td>3540404.0</td>\n      <td>NaN</td>\n      <td>NaN</td>\n      <td>NaN</td>\n    </tr>\n    <tr>\n      <th>...</th>\n      <td>...</td>\n      <td>...</td>\n      <td>...</td>\n      <td>...</td>\n      <td>...</td>\n      <td>...</td>\n      <td>...</td>\n      <td>...</td>\n      <td>...</td>\n      <td>...</td>\n      <td>...</td>\n      <td>...</td>\n      <td>...</td>\n      <td>...</td>\n      <td>...</td>\n      <td>...</td>\n      <td>...</td>\n      <td>...</td>\n      <td>...</td>\n      <td>...</td>\n      <td>...</td>\n    </tr>\n    <tr>\n      <th>1034</th>\n      <td>6029</td>\n      <td>DUNCAN FR RECREIO</td>\n      <td>14</td>\n      <td>0928-T</td>\n      <td>JAGUAR TE DO GAVIAO</td>\n      <td>11</td>\n      <td>GAV291</td>\n      <td>NILOPOLIS FR RECREIO</td>\n      <td>12</td>\n      <td>AB-0524</td>\n      <td>...</td>\n      <td>2</td>\n      <td>60292021222</td>\n      <td>NaN</td>\n      <td>2</td>\n      <td>F</td>\n      <td>NaN</td>\n      <td>4176523.0</td>\n      <td>NaN</td>\n      <td>NaN</td>\n      <td>NaN</td>\n    </tr>\n    <tr>\n      <th>1035</th>\n      <td>132</td>\n      <td>QUINTA I COLE AGM TRIUNFO</td>\n      <td>34</td>\n      <td>9243-AG</td>\n      <td>CO-OP TOYSTORY COLE-ET</td>\n      <td>10</td>\n      <td>AX129567</td>\n      <td>QUINTA FIV M</td>\n      <td>12</td>\n      <td>0473-O</td>\n      <td>...</td>\n      <td>2</td>\n      <td>1322019222</td>\n      <td>NaN</td>\n      <td>6</td>\n      <td>F</td>\n      <td>NaN</td>\n      <td>NaN</td>\n      <td>NaN</td>\n      <td>NaN</td>\n      <td>NaN</td>\n    </tr>\n    <tr>\n      <th>1036</th>\n      <td>6915</td>\n      <td>LIA DAS ARABIAS</td>\n      <td>5858</td>\n      <td>6125-BR</td>\n      <td>TURBO DAS ARABIAS</td>\n      <td>5858</td>\n      <td>0079</td>\n      <td>LILIKA DAS ARABIAS</td>\n      <td>58</td>\n      <td>4916-AW</td>\n      <td>...</td>\n      <td>2</td>\n      <td>69152021222</td>\n      <td>NaN</td>\n      <td>5</td>\n      <td>F</td>\n      <td>NaN</td>\n      <td>NaN</td>\n      <td>NaN</td>\n      <td>NaN</td>\n      <td>NaN</td>\n    </tr>\n    <tr>\n      <th>1037</th>\n      <td>6029</td>\n      <td>GERMANA FEBO FR RECREIO</td>\n      <td>5858</td>\n      <td>9069-AS</td>\n      <td>FEBO FR RECREIO</td>\n      <td>58</td>\n      <td>6300-N</td>\n      <td>CAMPANHA FR RECREIO</td>\n      <td>58</td>\n      <td>6180-N</td>\n      <td>...</td>\n      <td>2</td>\n      <td>60292019122</td>\n      <td>NaN</td>\n      <td>5</td>\n      <td>F</td>\n      <td>NaN</td>\n      <td>NaN</td>\n      <td>NaN</td>\n      <td>NaN</td>\n      <td>NaN</td>\n    </tr>\n    <tr>\n      <th>1038</th>\n      <td>83436</td>\n      <td>LINDA SJ LALU</td>\n      <td>34</td>\n      <td>2734-BK</td>\n      <td>0</td>\n      <td>0</td>\n      <td>0</td>\n      <td>0</td>\n      <td>0</td>\n      <td>0</td>\n      <td>...</td>\n      <td>2</td>\n      <td>834362021232</td>\n      <td>NaN</td>\n      <td>6</td>\n      <td>F</td>\n      <td>NaN</td>\n      <td>NaN</td>\n      <td>NaN</td>\n      <td>NaN</td>\n      <td>NaN</td>\n    </tr>\n  </tbody>\n</table>\n<p>1039 rows × 51 columns</p>\n</div>"
     },
     "execution_count": 23,
     "metadata": {},
     "output_type": "execute_result"
    }
   ],
   "source": [
    "df_temporaria8 = pd.merge(df_dados_novos_para_insercao_no_banco_de_dados, sub_tabela_cod_mae_0[['RGMAE', 'cod_prod_mae_gen']], left_on=['RGMAE'], right_on=['RGMAE'], how='left', suffixes=('', '_drop'))\n",
    "#df_dados_novos_para_insercao_no_banco_de_dados=df_temporaria5\n",
    "#df_dados_novos_para_insercao_no_banco_de_dados = df_dados_novos_para_insercao_no_banco_de_dados.drop_duplicates()\n",
    "#df_dados_novos_para_insercao_no_banco_de_dados = df_dados_novos_para_insercao_no_banco_de_dados.drop(df_dados_novos_para_insercao_no_banco_de_dados.filter(regex='_drop$').columns, axis=1)\n",
    "#df_dados_novos_para_insercao_no_banco_de_dados\n",
    "df_temporaria8 = df_temporaria8.drop_duplicates()\n",
    "df_dados_novos_para_insercao_no_banco_de_dados = df_temporaria8\n",
    "df_dados_novos_para_insercao_no_banco_de_dados"
   ],
   "metadata": {
    "collapsed": false
   }
  },
  {
   "cell_type": "markdown",
   "source": [
    "# Adicionando os dados do cod_prod_mae_gen e do cod_prod_pai_gen no cod_pai e cod_mae\n",
    "OBS: dados com o regpai e regmae com < 3 letras"
   ],
   "metadata": {
    "collapsed": false
   }
  },
  {
   "cell_type": "code",
   "execution_count": 24,
   "outputs": [
    {
     "data": {
      "text/plain": "      reb_giro                            nomea  COMPRAC    RGVACA  \\\n0         7461   NANA IMPERADOR BAXTER RF SAO F     5858   6353-AH   \n1        10639  LANAA FIV AFTERSHOCK BON.BELEM       12   9592-AG   \n2         6039   EDILAINE IMPERIO FIV 4303 JARD       12  AADA0352   \n3         1945             ARMA MERIDIAN DA MBL       12   1025-AN   \n4        73119   CELESTE 136 TEATRO FIV COOPERR       12   1239-BF   \n...        ...                              ...      ...       ...   \n1034      6029                DUNCAN FR RECREIO       14    0928-T   \n1035       132        QUINTA I COLE AGM TRIUNFO       34   9243-AG   \n1036      6915                  LIA DAS ARABIAS     5858   6125-BR   \n1037      6029          GERMANA FEBO FR RECREIO     5858   9069-AS   \n1038     83436                    LINDA SJ LALU       34   2734-BK   \n\n                              nomep  GSPAI     RGPAI  \\\n0       IMPERADOR BAXTER VOLTA FRIA     58      1459   \n1     MS ATLEES SHT AFTERSHOCK - ET     10  AX129928   \n2            IMPERIO TE STA EDWIGES     11    RIG163   \n3            SULLY HART MERIDIAN-ET     10  AX138576   \n4                TEATRO DA SILVANIA     11    EFC383   \n...                             ...    ...       ...   \n1034           JAGUAR TE DO GAVIAO     11    GAV291   \n1035         CO-OP TOYSTORY COLE-ET     10  AX129567   \n1036              TURBO DAS ARABIAS   5858      0079   \n1037                FEBO FR RECREIO     58    6300-N   \n1038                              0      0         0   \n\n                              nomem  GSMAE         RGMAE  ...   rebc  rac  \\\n0     JURITI HERBY RF SAO FRANCISCO     58        6877-N  ...   7461    2   \n1                  JOANE FIV KUBERA     11      ACFG1840  ...  10639    2   \n2     SERTEC QATAR FABIANA PROGRESS     10  HBB/B-291392  ...   6039    2   \n3                              FAMA     11        JNR167  ...   1945    2   \n4        LAGOS ASTRE QUIMICA 795 TE     10      BX335536  ...  73119    2   \n...                             ...    ...           ...  ...    ...  ...   \n1034           NILOPOLIS FR RECREIO     12       AB-0524  ...   6029    2   \n1035                   QUINTA FIV M     12        0473-O  ...    132    2   \n1036             LILIKA DAS ARABIAS     58       4916-AW  ...   6915    2   \n1037            CAMPANHA FR RECREIO     58        6180-N  ...   6029    2   \n1038                              0      0             0  ...  83436    3   \n\n      nordc       rebanoe  ordem  gs  sexo  cod_prod    cod_pai     cod_mae  \n0         2   74612019122    NaN   5     F       NaN        NaN         NaN  \n1         2  106392021122    NaN   4     F       NaN        NaN   9513273.0  \n2         2   60392020122    NaN   4     F       NaN  4320031.0         NaN  \n3         2   19452021222    NaN   4     F       NaN        NaN  10621711.0  \n4         2  731192021222    NaN   4     F       NaN  3540404.0         NaN  \n...     ...           ...    ...  ..   ...       ...        ...         ...  \n1034      2   60292021222    NaN   2     F       NaN  4176523.0         NaN  \n1035      2    1322019222    NaN   6     F       NaN        NaN         NaN  \n1036      2   69152021222    NaN   5     F       NaN        NaN         NaN  \n1037      2   60292019122    NaN   5     F       NaN        NaN         NaN  \n1038      2  834362021232    NaN   6     F       NaN        NaN         NaN  \n\n[1039 rows x 49 columns]",
      "text/html": "<div>\n<style scoped>\n    .dataframe tbody tr th:only-of-type {\n        vertical-align: middle;\n    }\n\n    .dataframe tbody tr th {\n        vertical-align: top;\n    }\n\n    .dataframe thead th {\n        text-align: right;\n    }\n</style>\n<table border=\"1\" class=\"dataframe\">\n  <thead>\n    <tr style=\"text-align: right;\">\n      <th></th>\n      <th>reb_giro</th>\n      <th>nomea</th>\n      <th>COMPRAC</th>\n      <th>RGVACA</th>\n      <th>nomep</th>\n      <th>GSPAI</th>\n      <th>RGPAI</th>\n      <th>nomem</th>\n      <th>GSMAE</th>\n      <th>RGMAE</th>\n      <th>...</th>\n      <th>rebc</th>\n      <th>rac</th>\n      <th>nordc</th>\n      <th>rebanoe</th>\n      <th>ordem</th>\n      <th>gs</th>\n      <th>sexo</th>\n      <th>cod_prod</th>\n      <th>cod_pai</th>\n      <th>cod_mae</th>\n    </tr>\n  </thead>\n  <tbody>\n    <tr>\n      <th>0</th>\n      <td>7461</td>\n      <td>NANA IMPERADOR BAXTER RF SAO F</td>\n      <td>5858</td>\n      <td>6353-AH</td>\n      <td>IMPERADOR BAXTER VOLTA FRIA</td>\n      <td>58</td>\n      <td>1459</td>\n      <td>JURITI HERBY RF SAO FRANCISCO</td>\n      <td>58</td>\n      <td>6877-N</td>\n      <td>...</td>\n      <td>7461</td>\n      <td>2</td>\n      <td>2</td>\n      <td>74612019122</td>\n      <td>NaN</td>\n      <td>5</td>\n      <td>F</td>\n      <td>NaN</td>\n      <td>NaN</td>\n      <td>NaN</td>\n    </tr>\n    <tr>\n      <th>1</th>\n      <td>10639</td>\n      <td>LANAA FIV AFTERSHOCK BON.BELEM</td>\n      <td>12</td>\n      <td>9592-AG</td>\n      <td>MS ATLEES SHT AFTERSHOCK - ET</td>\n      <td>10</td>\n      <td>AX129928</td>\n      <td>JOANE FIV KUBERA</td>\n      <td>11</td>\n      <td>ACFG1840</td>\n      <td>...</td>\n      <td>10639</td>\n      <td>2</td>\n      <td>2</td>\n      <td>106392021122</td>\n      <td>NaN</td>\n      <td>4</td>\n      <td>F</td>\n      <td>NaN</td>\n      <td>NaN</td>\n      <td>9513273.0</td>\n    </tr>\n    <tr>\n      <th>2</th>\n      <td>6039</td>\n      <td>EDILAINE IMPERIO FIV 4303 JARD</td>\n      <td>12</td>\n      <td>AADA0352</td>\n      <td>IMPERIO TE STA EDWIGES</td>\n      <td>11</td>\n      <td>RIG163</td>\n      <td>SERTEC QATAR FABIANA PROGRESS</td>\n      <td>10</td>\n      <td>HBB/B-291392</td>\n      <td>...</td>\n      <td>6039</td>\n      <td>2</td>\n      <td>2</td>\n      <td>60392020122</td>\n      <td>NaN</td>\n      <td>4</td>\n      <td>F</td>\n      <td>NaN</td>\n      <td>4320031.0</td>\n      <td>NaN</td>\n    </tr>\n    <tr>\n      <th>3</th>\n      <td>1945</td>\n      <td>ARMA MERIDIAN DA MBL</td>\n      <td>12</td>\n      <td>1025-AN</td>\n      <td>SULLY HART MERIDIAN-ET</td>\n      <td>10</td>\n      <td>AX138576</td>\n      <td>FAMA</td>\n      <td>11</td>\n      <td>JNR167</td>\n      <td>...</td>\n      <td>1945</td>\n      <td>2</td>\n      <td>2</td>\n      <td>19452021222</td>\n      <td>NaN</td>\n      <td>4</td>\n      <td>F</td>\n      <td>NaN</td>\n      <td>NaN</td>\n      <td>10621711.0</td>\n    </tr>\n    <tr>\n      <th>4</th>\n      <td>73119</td>\n      <td>CELESTE 136 TEATRO FIV COOPERR</td>\n      <td>12</td>\n      <td>1239-BF</td>\n      <td>TEATRO DA SILVANIA</td>\n      <td>11</td>\n      <td>EFC383</td>\n      <td>LAGOS ASTRE QUIMICA 795 TE</td>\n      <td>10</td>\n      <td>BX335536</td>\n      <td>...</td>\n      <td>73119</td>\n      <td>2</td>\n      <td>2</td>\n      <td>731192021222</td>\n      <td>NaN</td>\n      <td>4</td>\n      <td>F</td>\n      <td>NaN</td>\n      <td>3540404.0</td>\n      <td>NaN</td>\n    </tr>\n    <tr>\n      <th>...</th>\n      <td>...</td>\n      <td>...</td>\n      <td>...</td>\n      <td>...</td>\n      <td>...</td>\n      <td>...</td>\n      <td>...</td>\n      <td>...</td>\n      <td>...</td>\n      <td>...</td>\n      <td>...</td>\n      <td>...</td>\n      <td>...</td>\n      <td>...</td>\n      <td>...</td>\n      <td>...</td>\n      <td>...</td>\n      <td>...</td>\n      <td>...</td>\n      <td>...</td>\n      <td>...</td>\n    </tr>\n    <tr>\n      <th>1034</th>\n      <td>6029</td>\n      <td>DUNCAN FR RECREIO</td>\n      <td>14</td>\n      <td>0928-T</td>\n      <td>JAGUAR TE DO GAVIAO</td>\n      <td>11</td>\n      <td>GAV291</td>\n      <td>NILOPOLIS FR RECREIO</td>\n      <td>12</td>\n      <td>AB-0524</td>\n      <td>...</td>\n      <td>6029</td>\n      <td>2</td>\n      <td>2</td>\n      <td>60292021222</td>\n      <td>NaN</td>\n      <td>2</td>\n      <td>F</td>\n      <td>NaN</td>\n      <td>4176523.0</td>\n      <td>NaN</td>\n    </tr>\n    <tr>\n      <th>1035</th>\n      <td>132</td>\n      <td>QUINTA I COLE AGM TRIUNFO</td>\n      <td>34</td>\n      <td>9243-AG</td>\n      <td>CO-OP TOYSTORY COLE-ET</td>\n      <td>10</td>\n      <td>AX129567</td>\n      <td>QUINTA FIV M</td>\n      <td>12</td>\n      <td>0473-O</td>\n      <td>...</td>\n      <td>132</td>\n      <td>2</td>\n      <td>2</td>\n      <td>1322019222</td>\n      <td>NaN</td>\n      <td>6</td>\n      <td>F</td>\n      <td>NaN</td>\n      <td>NaN</td>\n      <td>NaN</td>\n    </tr>\n    <tr>\n      <th>1036</th>\n      <td>6915</td>\n      <td>LIA DAS ARABIAS</td>\n      <td>5858</td>\n      <td>6125-BR</td>\n      <td>TURBO DAS ARABIAS</td>\n      <td>5858</td>\n      <td>0079</td>\n      <td>LILIKA DAS ARABIAS</td>\n      <td>58</td>\n      <td>4916-AW</td>\n      <td>...</td>\n      <td>6915</td>\n      <td>2</td>\n      <td>2</td>\n      <td>69152021222</td>\n      <td>NaN</td>\n      <td>5</td>\n      <td>F</td>\n      <td>NaN</td>\n      <td>NaN</td>\n      <td>NaN</td>\n    </tr>\n    <tr>\n      <th>1037</th>\n      <td>6029</td>\n      <td>GERMANA FEBO FR RECREIO</td>\n      <td>5858</td>\n      <td>9069-AS</td>\n      <td>FEBO FR RECREIO</td>\n      <td>58</td>\n      <td>6300-N</td>\n      <td>CAMPANHA FR RECREIO</td>\n      <td>58</td>\n      <td>6180-N</td>\n      <td>...</td>\n      <td>6029</td>\n      <td>2</td>\n      <td>2</td>\n      <td>60292019122</td>\n      <td>NaN</td>\n      <td>5</td>\n      <td>F</td>\n      <td>NaN</td>\n      <td>NaN</td>\n      <td>NaN</td>\n    </tr>\n    <tr>\n      <th>1038</th>\n      <td>83436</td>\n      <td>LINDA SJ LALU</td>\n      <td>34</td>\n      <td>2734-BK</td>\n      <td>0</td>\n      <td>0</td>\n      <td>0</td>\n      <td>0</td>\n      <td>0</td>\n      <td>0</td>\n      <td>...</td>\n      <td>83436</td>\n      <td>3</td>\n      <td>2</td>\n      <td>834362021232</td>\n      <td>NaN</td>\n      <td>6</td>\n      <td>F</td>\n      <td>NaN</td>\n      <td>NaN</td>\n      <td>NaN</td>\n    </tr>\n  </tbody>\n</table>\n<p>1039 rows × 49 columns</p>\n</div>"
     },
     "execution_count": 24,
     "metadata": {},
     "output_type": "execute_result"
    }
   ],
   "source": [
    "df_dados_novos_para_insercao_no_banco_de_dados['cod_pai'].fillna(df_dados_novos_para_insercao_no_banco_de_dados['cod_prod_pai_gen'], inplace=True)\n",
    "df_dados_novos_para_insercao_no_banco_de_dados['cod_mae'].fillna(df_dados_novos_para_insercao_no_banco_de_dados['cod_prod_mae_gen'], inplace=True)\n",
    "#Dando drop nas colunas antigas\n",
    "df_dados_novos_para_insercao_no_banco_de_dados = df_dados_novos_para_insercao_no_banco_de_dados.drop(columns='cod_prod_pai_gen')\n",
    "df_dados_novos_para_insercao_no_banco_de_dados = df_dados_novos_para_insercao_no_banco_de_dados.drop(columns='cod_prod_mae_gen')\n",
    "df_dados_novos_para_insercao_no_banco_de_dados"
   ],
   "metadata": {
    "collapsed": false
   }
  },
  {
   "cell_type": "markdown",
   "source": [
    "# Adicionando reb no dataframe df_dados_novos_para_insercao_no_banco_de_dados\n",
    "Obs: Cod_gil esta na tabela de criadores"
   ],
   "metadata": {
    "collapsed": false
   }
  },
  {
   "cell_type": "code",
   "execution_count": 25,
   "outputs": [],
   "source": [
    "df_criadores = df_criadores.rename(columns={'codgiro':'reb_giro'})\n",
    "\n",
    "df_dados_novos_para_insercao_no_banco_de_dados = pd.merge(df_dados_novos_para_insercao_no_banco_de_dados, df_criadores[['reb_giro', 'reb']], on=['reb_giro'], how='left')\n",
    "df_dados_novos_para_insercao_no_banco_de_dados = df_dados_novos_para_insercao_no_banco_de_dados.drop_duplicates()\n"
   ],
   "metadata": {
    "collapsed": false
   }
  },
  {
   "cell_type": "code",
   "execution_count": 26,
   "outputs": [],
   "source": [
    "#Pegando os dados das colunas"
   ],
   "metadata": {
    "collapsed": false
   }
  },
  {
   "cell_type": "code",
   "execution_count": 27,
   "outputs": [],
   "source": [
    "#verifica_reb = df_criadores.groupby('reb_giro')['reb'].nunique()\n",
    "#verifica_reb"
   ],
   "metadata": {
    "collapsed": false
   }
  },
  {
   "cell_type": "markdown",
   "source": [
    "## Calculando a diferença entre a data dos novos partos com as ultimas datas presentes na tabela de dados_2022 para validar se ha alguma inconsistência\n",
    "\n",
    "obs: Caso a diferença seja menor que 250 dias é provável que haja alguma falha."
   ],
   "metadata": {
    "collapsed": false
   }
  },
  {
   "cell_type": "code",
   "execution_count": 28,
   "outputs": [
    {
     "data": {
      "text/plain": "         parto parto_drop  diferenca_em_dias\n0   2021-11-23 2020-01-09                684\n1   2020-10-09 2019-01-31                617\n2   2021-03-15 2020-01-24                416\n3   2021-03-15 2018-02-01               1138\n4   2021-06-28 2020-07-22                341\n..         ...        ...                ...\n682 2021-03-23 2017-11-17               1222\n683 2021-03-23 2020-03-10                378\n684 2021-01-25 2019-05-03                633\n685 2021-04-22 2020-05-13                344\n686 2021-08-01 2020-01-05                574\n\n[687 rows x 3 columns]",
      "text/html": "<div>\n<style scoped>\n    .dataframe tbody tr th:only-of-type {\n        vertical-align: middle;\n    }\n\n    .dataframe tbody tr th {\n        vertical-align: top;\n    }\n\n    .dataframe thead th {\n        text-align: right;\n    }\n</style>\n<table border=\"1\" class=\"dataframe\">\n  <thead>\n    <tr style=\"text-align: right;\">\n      <th></th>\n      <th>parto</th>\n      <th>parto_drop</th>\n      <th>diferenca_em_dias</th>\n    </tr>\n  </thead>\n  <tbody>\n    <tr>\n      <th>0</th>\n      <td>2021-11-23</td>\n      <td>2020-01-09</td>\n      <td>684</td>\n    </tr>\n    <tr>\n      <th>1</th>\n      <td>2020-10-09</td>\n      <td>2019-01-31</td>\n      <td>617</td>\n    </tr>\n    <tr>\n      <th>2</th>\n      <td>2021-03-15</td>\n      <td>2020-01-24</td>\n      <td>416</td>\n    </tr>\n    <tr>\n      <th>3</th>\n      <td>2021-03-15</td>\n      <td>2018-02-01</td>\n      <td>1138</td>\n    </tr>\n    <tr>\n      <th>4</th>\n      <td>2021-06-28</td>\n      <td>2020-07-22</td>\n      <td>341</td>\n    </tr>\n    <tr>\n      <th>...</th>\n      <td>...</td>\n      <td>...</td>\n      <td>...</td>\n    </tr>\n    <tr>\n      <th>682</th>\n      <td>2021-03-23</td>\n      <td>2017-11-17</td>\n      <td>1222</td>\n    </tr>\n    <tr>\n      <th>683</th>\n      <td>2021-03-23</td>\n      <td>2020-03-10</td>\n      <td>378</td>\n    </tr>\n    <tr>\n      <th>684</th>\n      <td>2021-01-25</td>\n      <td>2019-05-03</td>\n      <td>633</td>\n    </tr>\n    <tr>\n      <th>685</th>\n      <td>2021-04-22</td>\n      <td>2020-05-13</td>\n      <td>344</td>\n    </tr>\n    <tr>\n      <th>686</th>\n      <td>2021-08-01</td>\n      <td>2020-01-05</td>\n      <td>574</td>\n    </tr>\n  </tbody>\n</table>\n<p>687 rows × 3 columns</p>\n</div>"
     },
     "execution_count": 28,
     "metadata": {},
     "output_type": "execute_result"
    }
   ],
   "source": [
    "\n",
    "df_diferenca_entre_partos_novos_e_do_banco = pd.merge(df_dados_novos_para_insercao_no_banco_de_dados, dados_2022, on=['IDANIMAL'], suffixes=('', '_drop'))\n",
    "df_diferenca_entre_partos_novos_e_do_banco = df_diferenca_entre_partos_novos_e_do_banco.drop_duplicates()\n",
    "#df_diferenca_entre_partos_novos_e_do_banco = df_diferenca_entre_partos_novos_e_do_banco.drop(df_diferenca_entre_partos_novos_e_do_banco.filter(regex='_drop$').columns, axis=1)\n",
    "df_diferenca_entre_partos_novos_e_do_banco[['parto', 'parto_drop']] = df_diferenca_entre_partos_novos_e_do_banco[['parto', 'parto_drop']].astype(str)\n",
    "df_diferenca_entre_partos_novos_e_do_banco[['parto', 'parto_drop']] = df_diferenca_entre_partos_novos_e_do_banco[['parto', 'parto_drop']].apply(pd.to_datetime)\n",
    "df_diferenca_entre_partos_novos_e_do_banco['diferenca_em_dias'] = (df_diferenca_entre_partos_novos_e_do_banco['parto'] - df_diferenca_entre_partos_novos_e_do_banco['parto_drop']).dt.days\n",
    "df_diferenca_entre_partos_novos_e_do_banco[['parto', 'parto_drop', 'diferenca_em_dias']]"
   ],
   "metadata": {
    "collapsed": false
   }
  },
  {
   "cell_type": "markdown",
   "source": [
    "## Pegando da tabela de animais que serão inseridos no banco aqueles que ja possuem IDANIMAL cadastrado\n",
    "Comparado ao dataframe  dados_2022"
   ],
   "metadata": {
    "collapsed": false
   }
  },
  {
   "cell_type": "code",
   "execution_count": 29,
   "outputs": [
    {
     "data": {
      "text/plain": "     reb_giro                            nomea  COMPRAC   RGVACA  \\\n0        6029               DEMASIA FR RECREIO       14   0869-T   \n1        7450                JACA JAYZ SJ LALU       34  6411-AH   \n2        3304   CAITA OCIDENTE MJP DA CAPELA P       12   8634-X   \n4        5569   LONDRINA GENGIS KHAN RECANTO D       12  0021-AW   \n5        5569          BABALU METEORO DO MORRO       38  0148-AK   \n..        ...                              ...      ...      ...   \n680      1129                   MORADIA ANGICO        7   9556-F   \n681      2381  CLASSICA OCIDENTE JM NOVO HORI       14  5193-AE   \n684      5569           GABI FIV VALE OURO EVD       14  4417-AT   \n685      6029                DUNCAN FR RECREIO       14   0928-T   \n686     83436                    LINDA SJ LALU       34  2734-BK   \n\n                       nomep  GSPAI     RGPAI                           nomem  \\\n0       JAGUAR TE DO GAVIAO     11    GAV291            ERMELINDA MERGULHAO    \n1           HORNLAND JAYZ-ET     10  AX118150         GAYA FIV SANSAO SJ LALU   \n2    OCIDENTE BEM FEITOR CAL     11   CAL4605          MARINA DA CAPELA PAIVA   \n4    GENGIS KHAN DE BRASILIA     11   RRP6097   MEARA JUDITH GOLDWYN BELLA-TE   \n5        METEORO DE BRASILIA     11     B5226                SEGUNDA DO MORRO   \n..                       ...    ...       ...                             ...   \n680    VALE OURO DE BRASILIA     11     A6796                   CABANA ANGICO   \n681  OCIDENTE BEM FEITOR CAL     11   CAL4605  CINDERELA MODELO JM NOVO HORIZ   \n684    VALE OURO TE SILVANIA     11    EFC464    LAMBADA DRAMATIC SANTA LUZIA   \n685     JAGUAR TE DO GAVIAO     11    GAV291            NILOPOLIS FR RECREIO   \n686                        0      0         0                               0   \n\n     GSMAE     RGMAE  ...  rac  nordc       rebanoe ordem  gs  sexo  cod_prod  \\\n0       12   AD-1407  ...    2      2   60292021122   NaN   2     F       NaN   \n1       12    1898-P  ...    3      2   74502020132   NaN   6     F       NaN   \n2       10    A-3096  ...    2      2   33042020122   NaN   4     F       NaN   \n4       10  BX410396  ...    2      2   55692021222   NaN   4     F       NaN   \n5       34    7468-T  ...    2      2   55692021222   NaN   3     F       NaN   \n..     ...       ...  ...  ...    ...           ...   ...  ..   ...       ...   \n680     78      1606  ...    2      2   11292021222   NaN   4     F       NaN   \n681     12   AF-2652  ...    2      2   23812020122   NaN   2     F       NaN   \n684     12   AG-0944  ...    2      2   55692020122   NaN   2     F       NaN   \n685     12   AB-0524  ...    2      2   60292021222   NaN   2     F       NaN   \n686      0         0  ...    3      2  834362021232   NaN   6     F       NaN   \n\n       cod_pai  cod_mae         reb  \n0    4176523.0      NaN  31365-ABCZ  \n1          NaN      NaN   7450-GIRO  \n2    3287666.0      NaN   3304-GIRO  \n4    9265878.0      NaN   5569-GIRO  \n5          NaN      NaN   5569-GIRO  \n..         ...      ...         ...  \n680        NaN      NaN       52721  \n681  3287666.0      NaN  31300-ABCZ  \n684  3890526.0      NaN   5569-GIRO  \n685  4176523.0      NaN  31365-ABCZ  \n686        NaN      NaN  83436-GIRO  \n\n[417 rows x 50 columns]",
      "text/html": "<div>\n<style scoped>\n    .dataframe tbody tr th:only-of-type {\n        vertical-align: middle;\n    }\n\n    .dataframe tbody tr th {\n        vertical-align: top;\n    }\n\n    .dataframe thead th {\n        text-align: right;\n    }\n</style>\n<table border=\"1\" class=\"dataframe\">\n  <thead>\n    <tr style=\"text-align: right;\">\n      <th></th>\n      <th>reb_giro</th>\n      <th>nomea</th>\n      <th>COMPRAC</th>\n      <th>RGVACA</th>\n      <th>nomep</th>\n      <th>GSPAI</th>\n      <th>RGPAI</th>\n      <th>nomem</th>\n      <th>GSMAE</th>\n      <th>RGMAE</th>\n      <th>...</th>\n      <th>rac</th>\n      <th>nordc</th>\n      <th>rebanoe</th>\n      <th>ordem</th>\n      <th>gs</th>\n      <th>sexo</th>\n      <th>cod_prod</th>\n      <th>cod_pai</th>\n      <th>cod_mae</th>\n      <th>reb</th>\n    </tr>\n  </thead>\n  <tbody>\n    <tr>\n      <th>0</th>\n      <td>6029</td>\n      <td>DEMASIA FR RECREIO</td>\n      <td>14</td>\n      <td>0869-T</td>\n      <td>JAGUAR TE DO GAVIAO</td>\n      <td>11</td>\n      <td>GAV291</td>\n      <td>ERMELINDA MERGULHAO</td>\n      <td>12</td>\n      <td>AD-1407</td>\n      <td>...</td>\n      <td>2</td>\n      <td>2</td>\n      <td>60292021122</td>\n      <td>NaN</td>\n      <td>2</td>\n      <td>F</td>\n      <td>NaN</td>\n      <td>4176523.0</td>\n      <td>NaN</td>\n      <td>31365-ABCZ</td>\n    </tr>\n    <tr>\n      <th>1</th>\n      <td>7450</td>\n      <td>JACA JAYZ SJ LALU</td>\n      <td>34</td>\n      <td>6411-AH</td>\n      <td>HORNLAND JAYZ-ET</td>\n      <td>10</td>\n      <td>AX118150</td>\n      <td>GAYA FIV SANSAO SJ LALU</td>\n      <td>12</td>\n      <td>1898-P</td>\n      <td>...</td>\n      <td>3</td>\n      <td>2</td>\n      <td>74502020132</td>\n      <td>NaN</td>\n      <td>6</td>\n      <td>F</td>\n      <td>NaN</td>\n      <td>NaN</td>\n      <td>NaN</td>\n      <td>7450-GIRO</td>\n    </tr>\n    <tr>\n      <th>2</th>\n      <td>3304</td>\n      <td>CAITA OCIDENTE MJP DA CAPELA P</td>\n      <td>12</td>\n      <td>8634-X</td>\n      <td>OCIDENTE BEM FEITOR CAL</td>\n      <td>11</td>\n      <td>CAL4605</td>\n      <td>MARINA DA CAPELA PAIVA</td>\n      <td>10</td>\n      <td>A-3096</td>\n      <td>...</td>\n      <td>2</td>\n      <td>2</td>\n      <td>33042020122</td>\n      <td>NaN</td>\n      <td>4</td>\n      <td>F</td>\n      <td>NaN</td>\n      <td>3287666.0</td>\n      <td>NaN</td>\n      <td>3304-GIRO</td>\n    </tr>\n    <tr>\n      <th>4</th>\n      <td>5569</td>\n      <td>LONDRINA GENGIS KHAN RECANTO D</td>\n      <td>12</td>\n      <td>0021-AW</td>\n      <td>GENGIS KHAN DE BRASILIA</td>\n      <td>11</td>\n      <td>RRP6097</td>\n      <td>MEARA JUDITH GOLDWYN BELLA-TE</td>\n      <td>10</td>\n      <td>BX410396</td>\n      <td>...</td>\n      <td>2</td>\n      <td>2</td>\n      <td>55692021222</td>\n      <td>NaN</td>\n      <td>4</td>\n      <td>F</td>\n      <td>NaN</td>\n      <td>9265878.0</td>\n      <td>NaN</td>\n      <td>5569-GIRO</td>\n    </tr>\n    <tr>\n      <th>5</th>\n      <td>5569</td>\n      <td>BABALU METEORO DO MORRO</td>\n      <td>38</td>\n      <td>0148-AK</td>\n      <td>METEORO DE BRASILIA</td>\n      <td>11</td>\n      <td>B5226</td>\n      <td>SEGUNDA DO MORRO</td>\n      <td>34</td>\n      <td>7468-T</td>\n      <td>...</td>\n      <td>2</td>\n      <td>2</td>\n      <td>55692021222</td>\n      <td>NaN</td>\n      <td>3</td>\n      <td>F</td>\n      <td>NaN</td>\n      <td>NaN</td>\n      <td>NaN</td>\n      <td>5569-GIRO</td>\n    </tr>\n    <tr>\n      <th>...</th>\n      <td>...</td>\n      <td>...</td>\n      <td>...</td>\n      <td>...</td>\n      <td>...</td>\n      <td>...</td>\n      <td>...</td>\n      <td>...</td>\n      <td>...</td>\n      <td>...</td>\n      <td>...</td>\n      <td>...</td>\n      <td>...</td>\n      <td>...</td>\n      <td>...</td>\n      <td>...</td>\n      <td>...</td>\n      <td>...</td>\n      <td>...</td>\n      <td>...</td>\n      <td>...</td>\n    </tr>\n    <tr>\n      <th>680</th>\n      <td>1129</td>\n      <td>MORADIA ANGICO</td>\n      <td>7</td>\n      <td>9556-F</td>\n      <td>VALE OURO DE BRASILIA</td>\n      <td>11</td>\n      <td>A6796</td>\n      <td>CABANA ANGICO</td>\n      <td>78</td>\n      <td>1606</td>\n      <td>...</td>\n      <td>2</td>\n      <td>2</td>\n      <td>11292021222</td>\n      <td>NaN</td>\n      <td>4</td>\n      <td>F</td>\n      <td>NaN</td>\n      <td>NaN</td>\n      <td>NaN</td>\n      <td>52721</td>\n    </tr>\n    <tr>\n      <th>681</th>\n      <td>2381</td>\n      <td>CLASSICA OCIDENTE JM NOVO HORI</td>\n      <td>14</td>\n      <td>5193-AE</td>\n      <td>OCIDENTE BEM FEITOR CAL</td>\n      <td>11</td>\n      <td>CAL4605</td>\n      <td>CINDERELA MODELO JM NOVO HORIZ</td>\n      <td>12</td>\n      <td>AF-2652</td>\n      <td>...</td>\n      <td>2</td>\n      <td>2</td>\n      <td>23812020122</td>\n      <td>NaN</td>\n      <td>2</td>\n      <td>F</td>\n      <td>NaN</td>\n      <td>3287666.0</td>\n      <td>NaN</td>\n      <td>31300-ABCZ</td>\n    </tr>\n    <tr>\n      <th>684</th>\n      <td>5569</td>\n      <td>GABI FIV VALE OURO EVD</td>\n      <td>14</td>\n      <td>4417-AT</td>\n      <td>VALE OURO TE SILVANIA</td>\n      <td>11</td>\n      <td>EFC464</td>\n      <td>LAMBADA DRAMATIC SANTA LUZIA</td>\n      <td>12</td>\n      <td>AG-0944</td>\n      <td>...</td>\n      <td>2</td>\n      <td>2</td>\n      <td>55692020122</td>\n      <td>NaN</td>\n      <td>2</td>\n      <td>F</td>\n      <td>NaN</td>\n      <td>3890526.0</td>\n      <td>NaN</td>\n      <td>5569-GIRO</td>\n    </tr>\n    <tr>\n      <th>685</th>\n      <td>6029</td>\n      <td>DUNCAN FR RECREIO</td>\n      <td>14</td>\n      <td>0928-T</td>\n      <td>JAGUAR TE DO GAVIAO</td>\n      <td>11</td>\n      <td>GAV291</td>\n      <td>NILOPOLIS FR RECREIO</td>\n      <td>12</td>\n      <td>AB-0524</td>\n      <td>...</td>\n      <td>2</td>\n      <td>2</td>\n      <td>60292021222</td>\n      <td>NaN</td>\n      <td>2</td>\n      <td>F</td>\n      <td>NaN</td>\n      <td>4176523.0</td>\n      <td>NaN</td>\n      <td>31365-ABCZ</td>\n    </tr>\n    <tr>\n      <th>686</th>\n      <td>83436</td>\n      <td>LINDA SJ LALU</td>\n      <td>34</td>\n      <td>2734-BK</td>\n      <td>0</td>\n      <td>0</td>\n      <td>0</td>\n      <td>0</td>\n      <td>0</td>\n      <td>0</td>\n      <td>...</td>\n      <td>3</td>\n      <td>2</td>\n      <td>834362021232</td>\n      <td>NaN</td>\n      <td>6</td>\n      <td>F</td>\n      <td>NaN</td>\n      <td>NaN</td>\n      <td>NaN</td>\n      <td>83436-GIRO</td>\n    </tr>\n  </tbody>\n</table>\n<p>417 rows × 50 columns</p>\n</div>"
     },
     "execution_count": 29,
     "metadata": {},
     "output_type": "execute_result"
    }
   ],
   "source": [
    "df_animais_com_ID = pd.merge(df_dados_novos_para_insercao_no_banco_de_dados, dados_2022, on =['IDANIMAL'], suffixes=('', '_drop'))\n",
    "df_animais_com_ID = df_animais_com_ID.drop(df_animais_com_ID.filter(regex='_drop$').columns, axis=1)\n",
    "df_animais_com_ID = df_animais_com_ID.drop_duplicates()\n",
    "df_animais_com_ID"
   ],
   "metadata": {
    "collapsed": false
   }
  },
  {
   "cell_type": "markdown",
   "source": [
    "## Pegando da tabela de animais que serão inseridos no banco, todos aqueles que não possuem IDANIMAL cadastrado\n",
    "comparado ao dataframe dados_2022"
   ],
   "metadata": {
    "collapsed": false
   }
  },
  {
   "cell_type": "code",
   "execution_count": 30,
   "outputs": [
    {
     "data": {
      "text/plain": "      reb_giro                            nomea  COMPRAC    RGVACA  \\\n0         7461   NANA IMPERADOR BAXTER RF SAO F     5858   6353-AH   \n1        10639  LANAA FIV AFTERSHOCK BON.BELEM       12   9592-AG   \n2         6039   EDILAINE IMPERIO FIV 4303 JARD       12  AADA0352   \n3         1945             ARMA MERIDIAN DA MBL       12   1025-AN   \n4        73119   CELESTE 136 TEATRO FIV COOPERR       12   1239-BF   \n...        ...                              ...      ...       ...   \n1301      1945   JPZ QUIRERA SHAMROCK ASTER FIV       12    4032-Z   \n1302      2381   DALIA I FIV BRADLEY JM NOVO HO       12   4906-AZ   \n1305       132        QUINTA I COLE AGM TRIUNFO       34   9243-AG   \n1306      6915                  LIA DAS ARABIAS     5858   6125-BR   \n1307      6029          GERMANA FEBO FR RECREIO     5858   9069-AS   \n\n                              nomep  GSPAI     RGPAI  \\\n0       IMPERADOR BAXTER VOLTA FRIA     58      1459   \n1     MS ATLEES SHT AFTERSHOCK - ET     10  AX129928   \n2            IMPERIO TE STA EDWIGES     11    RIG163   \n3            SULLY HART MERIDIAN-ET     10  AX138576   \n4                TEATRO DA SILVANIA     11    EFC383   \n...                             ...    ...       ...   \n1301     LADYS-MANOR PL SHAMROCK-ET     10  AX135714   \n1302               ROCKALLI BRADLEY     10  AX117720   \n1305         CO-OP TOYSTORY COLE-ET     10  AX129567   \n1306              TURBO DAS ARABIAS   5858      0079   \n1307                FEBO FR RECREIO     58    6300-N   \n\n                              nomem  GSMAE         RGMAE  ...  rac  nordc  \\\n0     JURITI HERBY RF SAO FRANCISCO     58        6877-N  ...    2      2   \n1                  JOANE FIV KUBERA     11      ACFG1840  ...    2      2   \n2     SERTEC QATAR FABIANA PROGRESS     10  HBB/B-291392  ...    2      2   \n3                              FAMA     11        JNR167  ...    2      2   \n4        LAGOS ASTRE QUIMICA 795 TE     10      BX335536  ...    2      2   \n...                             ...    ...           ...  ...  ...    ...   \n1301                  JPZ ASTER FIV     11         JPZ64  ...    2      2   \n1302           DALIA NOVO HORIZONTE     11        JMCH76  ...    2      2   \n1305                   QUINTA FIV M     12        0473-O  ...    2      2   \n1306             LILIKA DAS ARABIAS     58       4916-AW  ...    2      2   \n1307            CAMPANHA FR RECREIO     58        6180-N  ...    2      2   \n\n           rebanoe ordem  gs  sexo  cod_prod    cod_pai     cod_mae  \\\n0      74612019122   NaN   5     F       NaN        NaN         NaN   \n1     106392021122   NaN   4     F       NaN        NaN   9513273.0   \n2      60392020122   NaN   4     F       NaN  4320031.0         NaN   \n3      19452021222   NaN   4     F       NaN        NaN  10621711.0   \n4     731192021222   NaN   4     F       NaN  3540404.0         NaN   \n...            ...   ...  ..   ...       ...        ...         ...   \n1301   19452022222   NaN   4     F       NaN        NaN  11428022.0   \n1302   23812021222   NaN   4     F       NaN        NaN  12866148.0   \n1305    1322019222   NaN   6     F       NaN        NaN         NaN   \n1306   69152021222   NaN   5     F       NaN        NaN         NaN   \n1307   60292019122   NaN   5     F       NaN        NaN         NaN   \n\n             reb  \n0           1291  \n1     10639-GIRO  \n2            NaN  \n3     37634-ABCZ  \n4            NaN  \n...          ...  \n1301  37634-ABCZ  \n1302  31300-ABCZ  \n1305  31835-ABCZ  \n1306  27729-ABCZ  \n1307  31365-ABCZ  \n\n[622 rows x 50 columns]",
      "text/html": "<div>\n<style scoped>\n    .dataframe tbody tr th:only-of-type {\n        vertical-align: middle;\n    }\n\n    .dataframe tbody tr th {\n        vertical-align: top;\n    }\n\n    .dataframe thead th {\n        text-align: right;\n    }\n</style>\n<table border=\"1\" class=\"dataframe\">\n  <thead>\n    <tr style=\"text-align: right;\">\n      <th></th>\n      <th>reb_giro</th>\n      <th>nomea</th>\n      <th>COMPRAC</th>\n      <th>RGVACA</th>\n      <th>nomep</th>\n      <th>GSPAI</th>\n      <th>RGPAI</th>\n      <th>nomem</th>\n      <th>GSMAE</th>\n      <th>RGMAE</th>\n      <th>...</th>\n      <th>rac</th>\n      <th>nordc</th>\n      <th>rebanoe</th>\n      <th>ordem</th>\n      <th>gs</th>\n      <th>sexo</th>\n      <th>cod_prod</th>\n      <th>cod_pai</th>\n      <th>cod_mae</th>\n      <th>reb</th>\n    </tr>\n  </thead>\n  <tbody>\n    <tr>\n      <th>0</th>\n      <td>7461</td>\n      <td>NANA IMPERADOR BAXTER RF SAO F</td>\n      <td>5858</td>\n      <td>6353-AH</td>\n      <td>IMPERADOR BAXTER VOLTA FRIA</td>\n      <td>58</td>\n      <td>1459</td>\n      <td>JURITI HERBY RF SAO FRANCISCO</td>\n      <td>58</td>\n      <td>6877-N</td>\n      <td>...</td>\n      <td>2</td>\n      <td>2</td>\n      <td>74612019122</td>\n      <td>NaN</td>\n      <td>5</td>\n      <td>F</td>\n      <td>NaN</td>\n      <td>NaN</td>\n      <td>NaN</td>\n      <td>1291</td>\n    </tr>\n    <tr>\n      <th>1</th>\n      <td>10639</td>\n      <td>LANAA FIV AFTERSHOCK BON.BELEM</td>\n      <td>12</td>\n      <td>9592-AG</td>\n      <td>MS ATLEES SHT AFTERSHOCK - ET</td>\n      <td>10</td>\n      <td>AX129928</td>\n      <td>JOANE FIV KUBERA</td>\n      <td>11</td>\n      <td>ACFG1840</td>\n      <td>...</td>\n      <td>2</td>\n      <td>2</td>\n      <td>106392021122</td>\n      <td>NaN</td>\n      <td>4</td>\n      <td>F</td>\n      <td>NaN</td>\n      <td>NaN</td>\n      <td>9513273.0</td>\n      <td>10639-GIRO</td>\n    </tr>\n    <tr>\n      <th>2</th>\n      <td>6039</td>\n      <td>EDILAINE IMPERIO FIV 4303 JARD</td>\n      <td>12</td>\n      <td>AADA0352</td>\n      <td>IMPERIO TE STA EDWIGES</td>\n      <td>11</td>\n      <td>RIG163</td>\n      <td>SERTEC QATAR FABIANA PROGRESS</td>\n      <td>10</td>\n      <td>HBB/B-291392</td>\n      <td>...</td>\n      <td>2</td>\n      <td>2</td>\n      <td>60392020122</td>\n      <td>NaN</td>\n      <td>4</td>\n      <td>F</td>\n      <td>NaN</td>\n      <td>4320031.0</td>\n      <td>NaN</td>\n      <td>NaN</td>\n    </tr>\n    <tr>\n      <th>3</th>\n      <td>1945</td>\n      <td>ARMA MERIDIAN DA MBL</td>\n      <td>12</td>\n      <td>1025-AN</td>\n      <td>SULLY HART MERIDIAN-ET</td>\n      <td>10</td>\n      <td>AX138576</td>\n      <td>FAMA</td>\n      <td>11</td>\n      <td>JNR167</td>\n      <td>...</td>\n      <td>2</td>\n      <td>2</td>\n      <td>19452021222</td>\n      <td>NaN</td>\n      <td>4</td>\n      <td>F</td>\n      <td>NaN</td>\n      <td>NaN</td>\n      <td>10621711.0</td>\n      <td>37634-ABCZ</td>\n    </tr>\n    <tr>\n      <th>4</th>\n      <td>73119</td>\n      <td>CELESTE 136 TEATRO FIV COOPERR</td>\n      <td>12</td>\n      <td>1239-BF</td>\n      <td>TEATRO DA SILVANIA</td>\n      <td>11</td>\n      <td>EFC383</td>\n      <td>LAGOS ASTRE QUIMICA 795 TE</td>\n      <td>10</td>\n      <td>BX335536</td>\n      <td>...</td>\n      <td>2</td>\n      <td>2</td>\n      <td>731192021222</td>\n      <td>NaN</td>\n      <td>4</td>\n      <td>F</td>\n      <td>NaN</td>\n      <td>3540404.0</td>\n      <td>NaN</td>\n      <td>NaN</td>\n    </tr>\n    <tr>\n      <th>...</th>\n      <td>...</td>\n      <td>...</td>\n      <td>...</td>\n      <td>...</td>\n      <td>...</td>\n      <td>...</td>\n      <td>...</td>\n      <td>...</td>\n      <td>...</td>\n      <td>...</td>\n      <td>...</td>\n      <td>...</td>\n      <td>...</td>\n      <td>...</td>\n      <td>...</td>\n      <td>...</td>\n      <td>...</td>\n      <td>...</td>\n      <td>...</td>\n      <td>...</td>\n      <td>...</td>\n    </tr>\n    <tr>\n      <th>1301</th>\n      <td>1945</td>\n      <td>JPZ QUIRERA SHAMROCK ASTER FIV</td>\n      <td>12</td>\n      <td>4032-Z</td>\n      <td>LADYS-MANOR PL SHAMROCK-ET</td>\n      <td>10</td>\n      <td>AX135714</td>\n      <td>JPZ ASTER FIV</td>\n      <td>11</td>\n      <td>JPZ64</td>\n      <td>...</td>\n      <td>2</td>\n      <td>2</td>\n      <td>19452022222</td>\n      <td>NaN</td>\n      <td>4</td>\n      <td>F</td>\n      <td>NaN</td>\n      <td>NaN</td>\n      <td>11428022.0</td>\n      <td>37634-ABCZ</td>\n    </tr>\n    <tr>\n      <th>1302</th>\n      <td>2381</td>\n      <td>DALIA I FIV BRADLEY JM NOVO HO</td>\n      <td>12</td>\n      <td>4906-AZ</td>\n      <td>ROCKALLI BRADLEY</td>\n      <td>10</td>\n      <td>AX117720</td>\n      <td>DALIA NOVO HORIZONTE</td>\n      <td>11</td>\n      <td>JMCH76</td>\n      <td>...</td>\n      <td>2</td>\n      <td>2</td>\n      <td>23812021222</td>\n      <td>NaN</td>\n      <td>4</td>\n      <td>F</td>\n      <td>NaN</td>\n      <td>NaN</td>\n      <td>12866148.0</td>\n      <td>31300-ABCZ</td>\n    </tr>\n    <tr>\n      <th>1305</th>\n      <td>132</td>\n      <td>QUINTA I COLE AGM TRIUNFO</td>\n      <td>34</td>\n      <td>9243-AG</td>\n      <td>CO-OP TOYSTORY COLE-ET</td>\n      <td>10</td>\n      <td>AX129567</td>\n      <td>QUINTA FIV M</td>\n      <td>12</td>\n      <td>0473-O</td>\n      <td>...</td>\n      <td>2</td>\n      <td>2</td>\n      <td>1322019222</td>\n      <td>NaN</td>\n      <td>6</td>\n      <td>F</td>\n      <td>NaN</td>\n      <td>NaN</td>\n      <td>NaN</td>\n      <td>31835-ABCZ</td>\n    </tr>\n    <tr>\n      <th>1306</th>\n      <td>6915</td>\n      <td>LIA DAS ARABIAS</td>\n      <td>5858</td>\n      <td>6125-BR</td>\n      <td>TURBO DAS ARABIAS</td>\n      <td>5858</td>\n      <td>0079</td>\n      <td>LILIKA DAS ARABIAS</td>\n      <td>58</td>\n      <td>4916-AW</td>\n      <td>...</td>\n      <td>2</td>\n      <td>2</td>\n      <td>69152021222</td>\n      <td>NaN</td>\n      <td>5</td>\n      <td>F</td>\n      <td>NaN</td>\n      <td>NaN</td>\n      <td>NaN</td>\n      <td>27729-ABCZ</td>\n    </tr>\n    <tr>\n      <th>1307</th>\n      <td>6029</td>\n      <td>GERMANA FEBO FR RECREIO</td>\n      <td>5858</td>\n      <td>9069-AS</td>\n      <td>FEBO FR RECREIO</td>\n      <td>58</td>\n      <td>6300-N</td>\n      <td>CAMPANHA FR RECREIO</td>\n      <td>58</td>\n      <td>6180-N</td>\n      <td>...</td>\n      <td>2</td>\n      <td>2</td>\n      <td>60292019122</td>\n      <td>NaN</td>\n      <td>5</td>\n      <td>F</td>\n      <td>NaN</td>\n      <td>NaN</td>\n      <td>NaN</td>\n      <td>31365-ABCZ</td>\n    </tr>\n  </tbody>\n</table>\n<p>622 rows × 50 columns</p>\n</div>"
     },
     "execution_count": 30,
     "metadata": {},
     "output_type": "execute_result"
    }
   ],
   "source": [
    "df_animais_sem_id = pd.merge(df_dados_novos_para_insercao_no_banco_de_dados, dados_2022, on='IDANIMAL', how='left', indicator=True, suffixes=('', '_drop'))\n",
    "df_animais_sem_id = df_animais_sem_id.drop(df_animais_sem_id.filter(regex='_drop$').columns, axis=1)\n",
    "df_animais_sem_id = df_animais_sem_id[df_animais_sem_id['_merge'] == 'left_only'].drop(columns='_merge')\n",
    "df_animais_sem_id"
   ],
   "metadata": {
    "collapsed": false
   }
  },
  {
   "cell_type": "code",
   "execution_count": 31,
   "outputs": [],
   "source": [
    "#dados_2022[dados_2022['IDANIMAL'] == 1631099]\n",
    "#df_verificando_animais_com_id_na_genealogia_embrapa['IDANIMAL'].value_counts()\n",
    "#verifica_reb = df_verificando_animais_com_id_na_genealogia_embrapa.groupby('IDANIMAL')['id_produto'].nunique()\n",
    "#verifica_reb"
   ],
   "metadata": {
    "collapsed": false
   }
  },
  {
   "cell_type": "markdown",
   "source": [
    "# Adicionando a coluna id_produto ao dataframe df_animais_com_ID"
   ],
   "metadata": {
    "collapsed": false
   }
  },
  {
   "cell_type": "code",
   "execution_count": null,
   "outputs": [],
   "source": [
    "df_genealogia_embrapa['IDANIMAL'] = df_genealogia_embrapa['IDANIMAL'].astype('int')\n",
    "df_animais_com_ID = pd.merge(df_animais_com_ID, df_genealogia_embrapa[['IDANIMAL', 'id_produto']], on='IDANIMAL', how='left', indicator=True)\n",
    "df_animais_com_ID = df_animais_com_ID.drop_duplicates()\n",
    "df_animais_com_ID = df_animais_com_ID.drop(columns='_merge')\n",
    "df_animais_com_ID"
   ],
   "metadata": {
    "collapsed": false
   }
  },
  {
   "cell_type": "markdown",
   "source": [
    "## Lista de animais do dataframe sem ID em relacao a dados_2022 e que possuem ID_animal no dataframe da genealogia_Embrapa\n",
    "Obs: Tem que ter ID_produto"
   ],
   "metadata": {
    "collapsed": false
   }
  },
  {
   "cell_type": "code",
   "execution_count": null,
   "outputs": [],
   "source": [
    "df_animais_sem_id = df_animais_sem_id.add_suffix('_esq')\n",
    "df_genealogia_embrapa = df_genealogia_embrapa.add_suffix('_dir')\n",
    "\n",
    "df_animais_sem_id_2022_que_possuem_id_no_banco = pd.merge(df_animais_sem_id, df_genealogia_embrapa, left_on=['IDANIMAL_esq'], right_on=['IDANIMAL_dir'], how='left', indicator=True)\n",
    "df_animais_sem_id_2022_que_possuem_id_no_banco.drop_duplicates()\n",
    "df_animais_sem_id_2022_que_possuem_id_no_banco = df_animais_sem_id_2022_que_possuem_id_no_banco.drop(df_animais_sem_id_2022_que_possuem_id_no_banco.filter(regex='_drop$').columns, axis=1)\n",
    "df_animais_sem_id_2022_que_possuem_id_no_banco = df_animais_sem_id_2022_que_possuem_id_no_banco[df_animais_sem_id_2022_que_possuem_id_no_banco['_merge'] == 'both']\n",
    "\n",
    "# dropa as colunas que não são necessárias\n",
    "df_animais_sem_id_2022_que_possuem_id_no_banco = df_animais_sem_id_2022_que_possuem_id_no_banco.drop(df_animais_sem_id_2022_que_possuem_id_no_banco.filter(regex='_dir').columns.difference(['id_produto_dir']), axis=1)\n",
    "df_animais_sem_id_2022_que_possuem_id_no_banco = df_animais_sem_id_2022_que_possuem_id_no_banco.rename(columns=lambda x: x.replace('_esq', '') if '_esq' in x else x)\n",
    "df_animais_sem_id_2022_que_possuem_id_no_banco = df_animais_sem_id_2022_que_possuem_id_no_banco.rename(columns=lambda x: x.replace('_dir', '') if '_dir' in x else x)\n",
    "df_animais_sem_id_2022_que_possuem_id_no_banco.drop(columns='_merge')\n",
    "df_animais_sem_id_2022_que_possuem_id_no_banco = df_animais_sem_id_2022_que_possuem_id_no_banco.drop(columns='_merge')\n",
    "df_animais_sem_id_2022_que_possuem_id_no_banco"
   ],
   "metadata": {
    "collapsed": false
   }
  },
  {
   "cell_type": "markdown",
   "source": [
    "# Atualizando lista de animais que possuem ID encontrado"
   ],
   "metadata": {
    "collapsed": false
   }
  },
  {
   "cell_type": "code",
   "execution_count": null,
   "outputs": [],
   "source": [
    "# Juntando os dataframes\n",
    "df_animais_com_ID = pd.concat([df_animais_com_ID, df_animais_sem_id_2022_que_possuem_id_no_banco])\n",
    "df_animais_com_ID"
   ],
   "metadata": {
    "collapsed": false
   }
  },
  {
   "cell_type": "markdown",
   "source": [
    "# Atualizando lista de animais sem ID"
   ],
   "metadata": {
    "collapsed": false
   }
  },
  {
   "cell_type": "code",
   "execution_count": null,
   "outputs": [],
   "source": [
    "#Tirando o sufixo da tabela\n",
    "df_animais_sem_id = df_animais_sem_id.rename(columns=lambda x: x.replace('_esq', '') if '_esq' in x else x)\n",
    "# Imprimir o resultado\n",
    "df_animais_sem_id = pd.merge(df_animais_sem_id, df_animais_com_ID, on=['IDANIMAL'], how='left', indicator=True, suffixes=('', '_drop'))\n",
    "df_animais_sem_id = df_animais_sem_id.drop(df_animais_sem_id.filter(regex='_drop$').columns, axis=1)\n",
    "# Seleciona apenas as linhas que possuem valores nulos na coluna \"id_produto\"\n",
    "df_animais_sem_id = df_animais_sem_id[df_animais_sem_id['id_produto'].isnull()]\n",
    "df_animais_sem_id"
   ],
   "metadata": {
    "collapsed": false
   }
  },
  {
   "cell_type": "markdown",
   "source": [
    "# Fazendo busca no dataframe producao para encontrar id_produto dos animais sem id\n",
    "conferir manualmente se entram ou não no banco"
   ],
   "metadata": {
    "collapsed": false
   }
  },
  {
   "cell_type": "code",
   "execution_count": null,
   "outputs": [],
   "source": [
    "#Criando coluna com o ano de parto e mes parto no dataframe df_producao\n",
    "df_producao['parto'] = df_producao['parto'].astype(str)\n",
    "df_producao['AP'] = df_producao['parto'].str.slice(start=0, stop=4)\n",
    "df_producao['MP'] = df_producao['parto'].str.slice(start=5, stop=7)\n",
    "#Pegando os 10 primeiros caracteres de nome dos dataframes aniamis sem id e producao\n",
    "df_producao['nome10caracteres'] = df_producao['nome'].str.slice(start=0, stop=11)\n",
    "df_animais_sem_id['nome10caracteres'] = df_animais_sem_id['nomea'].str.slice(start=0, stop=11)\n",
    "#removendo os espacos em branco das celulas\n",
    "df_producao['nome10caracteres'] = df_producao['nome10caracteres'].str.replace('\\s+', '', regex=True)\n",
    "df_animais_sem_id['nome10caracteres'] = df_animais_sem_id['nome10caracteres'].str.replace('\\s+', '', regex=True)\n",
    "\n",
    "df_animais_sem_id = df_animais_sem_id.drop(df_animais_sem_id.filter(regex='_drop$').columns, axis=1)\n",
    "df_producao = df_producao.drop(df_producao.filter(regex='_drop$').columns, axis=1)\n",
    "df_animais_sem_id = df_animais_sem_id.drop(columns='_merge')\n",
    "\n",
    "df_producao['AP'] = df_producao['AP'].astype(int)\n",
    "df_producao['MP'] = df_producao['MP'].astype(int)\n",
    "df_animais_sem_id['AP'] = df_animais_sem_id['AP'].astype(int)\n",
    "df_animais_sem_id['MP'] = df_animais_sem_id['MP'].astype(int)\n",
    "df_animais_com_id_na_producao = pd.merge(df_animais_sem_id, df_producao[['reb','AP', 'MP', 'nome10caracteres','id_produto']], on=['reb', 'AP', 'MP', 'nome10caracteres'], how='left', indicator=True, suffixes=('', '_drop'))\n",
    "df_animais_com_id_na_producao = df_animais_com_id_na_producao[df_animais_com_id_na_producao['_merge'] == 'both']\n",
    "df_animais_com_id_na_producao = df_animais_com_id_na_producao.drop(columns={'_merge', 'id_produto'})\n",
    "df_animais_com_id_na_producao = df_animais_com_id_na_producao.rename(columns={'id_produto_drop': 'id_produto'})\n",
    "df_animais_com_id_na_producao"
   ],
   "metadata": {
    "collapsed": false
   }
  },
  {
   "cell_type": "markdown",
   "source": [
    "# Atualizando animais com id com os novos ids_produtos encontrados no dataframe de producao"
   ],
   "metadata": {
    "collapsed": false
   }
  },
  {
   "cell_type": "code",
   "execution_count": null,
   "outputs": [],
   "source": [
    "df_animais_com_ID = pd.concat([df_animais_com_ID, df_animais_com_id_na_producao])\n",
    "df_animais_com_ID"
   ],
   "metadata": {
    "collapsed": false
   }
  },
  {
   "cell_type": "markdown",
   "source": [
    "# Atualizando lista de animais sem id"
   ],
   "metadata": {
    "collapsed": false
   }
  },
  {
   "cell_type": "code",
   "execution_count": null,
   "outputs": [],
   "source": [
    "df_animais_sem_id = pd.merge(df_animais_sem_id, df_animais_com_ID, on=['IDANIMAL'], how='left', indicator=True, suffixes=('', '_drop'))\n",
    "df_animais_sem_id = df_animais_sem_id[df_animais_sem_id['id_produto_drop'].isnull()]\n",
    "df_animais_sem_id = df_animais_sem_id.drop(df_animais_sem_id.filter(regex='_drop$').columns, axis=1)\n",
    "# Seleciona apenas as linhas que possuem valores nulos na coluna \"id_produto\"\n",
    "df_animais_sem_id"
   ],
   "metadata": {
    "collapsed": false
   }
  },
  {
   "cell_type": "markdown",
   "source": [
    "# Fazendo a busca na tabela genealogia_embrapa\n",
    "Fazer verificacao manual"
   ],
   "metadata": {
    "collapsed": false
   }
  },
  {
   "cell_type": "code",
   "execution_count": null,
   "outputs": [],
   "source": [
    "#Retirando sufixo tabela genealogia\n",
    "df_genealogia_embrapa = df_genealogia_embrapa.rename(columns=lambda x: x.replace('_dir', '') if '_dir' in x else x)\n",
    "#Pegando ano nascimento nas colunas\n",
    "df_genealogia_embrapa['nasc_est'] = df_genealogia_embrapa['nasc_est'].astype(str)\n",
    "df_genealogia_embrapa['AN'] = df_genealogia_embrapa['nasc_est'].str.slice(start=0, stop=4)\n",
    "df_animais_sem_id['nasc'] = df_animais_sem_id['nasc'].astype(str)\n",
    "df_animais_sem_id['AN'] = df_animais_sem_id['nasc'].str.slice(start=0, stop=4)\n",
    "#Criando coluna com os 10 caracteres do nome na genealogia_embrapa\n",
    "df_genealogia_embrapa['nome10caracteres'] = df_genealogia_embrapa['nome'].str.slice(start=0, stop=11)\n",
    "#Convertendo coluna ano e mes para tipo inteiro\n",
    "#df_genealogia_embrapa['AN'] = df_genealogia_embrapa['AN'].astype(int)\n",
    "#Limpando tabelas\n",
    "df_animais_sem_id = df_animais_sem_id.drop(df_animais_sem_id.filter(regex='_drop$').columns, axis=1)\n",
    "df_genealogia_embrapa = df_genealogia_embrapa.drop(df_genealogia_embrapa.filter(regex='_drop$').columns, axis=1)\n",
    "df_animais_sem_id = df_animais_sem_id.drop(columns={'_merge'})\n",
    "#criando dataframe com os ids_encontrados\n",
    "df_animais_com_id_na_genealogia = pd.merge(df_animais_sem_id, df_genealogia_embrapa[['nome10caracteres','gs', 'registro_mae', 'registro_pai', 'sexo', 'AN','id_produto']], left_on=['nome10caracteres', 'gs','RGMAE', 'RGPAI', 'sexo', 'AN'], right_on=['nome10caracteres','gs', 'registro_mae', 'registro_pai', 'sexo', 'AN'], how='left', indicator=True, suffixes=('', '_drop'))\n",
    "df_animais_com_id_na_genealogia = df_animais_com_id_na_genealogia[df_animais_com_id_na_genealogia['_merge'] == 'both']\n",
    "df_animais_com_id_na_genealogia = df_animais_com_id_na_genealogia.drop(columns={'_merge', 'id_produto', 'registro_mae', 'registro_pai'})\n",
    "df_animais_com_id_na_genealogia = df_animais_com_id_na_genealogia.rename(columns={'id_produto_drop': 'id_produto'})\n",
    "df_animais_com_id_na_genealogia = df_animais_com_id_na_genealogia.drop(df_animais_com_id_na_genealogia.filter(regex='_drop$').columns, axis=1)\n",
    "df_animais_com_id_na_genealogia"
   ],
   "metadata": {
    "collapsed": false
   }
  },
  {
   "cell_type": "code",
   "execution_count": null,
   "outputs": [],
   "source": [
    "#Conferência manual dos matchs com o dataframe da genealogia"
   ],
   "metadata": {
    "collapsed": false
   }
  },
  {
   "cell_type": "code",
   "execution_count": null,
   "outputs": [],
   "source": [
    "df_animais_com_id_na_genealogia1 = pd.merge(df_animais_sem_id, df_genealogia_embrapa[['nome10caracteres','gs', 'registro_pai', 'sexo', 'AN','id_produto']], left_on=['nome10caracteres', 'gs', 'RGPAI', 'sexo', 'AN'], right_on=['nome10caracteres','gs', 'registro_pai', 'sexo', 'AN'], how='left', indicator=True, suffixes=('', '_drop'))\n",
    "df_animais_com_id_na_genealogia1 = df_animais_com_id_na_genealogia1[df_animais_com_id_na_genealogia1['_merge'] == 'both']\n",
    "df_animais_com_id_na_genealogia1"
   ],
   "metadata": {
    "collapsed": false
   }
  },
  {
   "cell_type": "markdown",
   "source": [
    "# Adicionar o que ta escrito no quadro"
   ],
   "metadata": {
    "collapsed": false
   }
  },
  {
   "cell_type": "code",
   "execution_count": null,
   "outputs": [],
   "source": [],
   "metadata": {
    "collapsed": false
   }
  },
  {
   "cell_type": "code",
   "execution_count": null,
   "outputs": [],
   "source": [
    "df_animais_com_id_na_genealogia1 = pd.merge(df_animais_sem_id, df_genealogia_embrapa[['nome10caracteres','gs', 'sexo', 'AN','id_produto']], left_on=['nome10caracteres', 'gs', 'sexo', 'AN'], right_on=['nome10caracteres','gs', 'sexo', 'AN'], how='left', indicator=True, suffixes=('', '_drop'))\n",
    "df_animais_com_id_na_genealogia1 = df_animais_com_id_na_genealogia1[df_animais_com_id_na_genealogia1['_merge'] == 'both']\n",
    "df_animais_com_id_na_genealogia1"
   ],
   "metadata": {
    "collapsed": false
   }
  },
  {
   "cell_type": "code",
   "execution_count": null,
   "outputs": [],
   "source": [
    "df_animais_com_id_na_genealogia2 = pd.merge(df_animais_sem_id, df_genealogia_embrapa[['id_produto','cod_prod']], left_on=['cod_prod'], right_on=['cod_prod'], how='left', indicator=True, suffixes=('', '_drop'))\n",
    "df_animais_com_id_na_genealogia2 = df_animais_com_id_na_genealogia2[df_animais_com_id_na_genealogia2['_merge'] == 'both']\n",
    "df_animais_com_id_na_genealogia2"
   ],
   "metadata": {
    "collapsed": false
   }
  },
  {
   "cell_type": "code",
   "execution_count": null,
   "outputs": [],
   "source": [],
   "metadata": {
    "collapsed": false
   }
  }
 ],
 "metadata": {
  "kernelspec": {
   "display_name": "Python 3",
   "language": "python",
   "name": "python3"
  },
  "language_info": {
   "codemirror_mode": {
    "name": "ipython",
    "version": 2
   },
   "file_extension": ".py",
   "mimetype": "text/x-python",
   "name": "python",
   "nbconvert_exporter": "python",
   "pygments_lexer": "ipython2",
   "version": "2.7.6"
  }
 },
 "nbformat": 4,
 "nbformat_minor": 0
}
