{
 "cells": [
  {
   "cell_type": "code",
   "execution_count": 66,
   "outputs": [],
   "source": [
    "import pandas as pd\n",
    "import warnings\n",
    "import re\n",
    "import tables\n",
    "from datetime import datetime\n",
    "warnings.filterwarnings('ignore')"
   ],
   "metadata": {
    "collapsed": false
   }
  },
  {
   "cell_type": "code",
   "execution_count": 67,
   "outputs": [],
   "source": [
    "def cria_dataframe_base(animais_sem_id, df_pedigree):\n",
    "    df_animais_sem_id_completo = pd.merge(animais_sem_id, df_pedigree, on=['IDANIMAL'], how='left', indicator=True, suffixes=('','_drop'))\n",
    "    df_animais_sem_id_completo = df_animais_sem_id_completo.drop(df_animais_sem_id_completo.filter(regex='_drop$').columns, axis=1)\n",
    "    df_animais_sem_id_completo = df_animais_sem_id_completo[df_animais_sem_id_completo['_merge']=='both']\n",
    "    df_animais_sem_id_completo = df_animais_sem_id_completo.drop_duplicates(subset='IDANIMAL')\n",
    "    return df_animais_sem_id_completo"
   ],
   "metadata": {
    "collapsed": false
   }
  },
  {
   "cell_type": "code",
   "execution_count": 68,
   "outputs": [],
   "source": [
    "def cria_id_produto(df):\n",
    "    if 'id_produto' in df.columns:\n",
    "        df['id_produto'] = df['id_produto'].fillna('GIRO' + df['IDANIMAL'].astype(str))\n",
    "        if '_merge' in df.columns:\n",
    "            df = df.drop(columns='_merge')\n",
    "    else:\n",
    "        df = df.assign(id_produto=None)\n",
    "        df['id_produto'] = df['id_produto'].fillna('GIRO' + df['IDANIMAL'].astype(str))\n",
    "    return df"
   ],
   "metadata": {
    "collapsed": false
   }
  },
  {
   "cell_type": "code",
   "execution_count": 69,
   "outputs": [],
   "source": [
    "def busca_id_pai_mae_na_genealogia_embrapa(df):\n",
    "    df = pd.merge(df, df[['id_produto', 'IDANIMAL']],left_on=['IDPAI'], how='left', right_on=['IDANIMAL'], suffixes=('', '_drop'))\n",
    "    df = df.drop_duplicates()\n",
    "    df = pd.merge(df, df_genealogia_embrapa[['id_produto', 'IDANIMAL']],left_on=['IDMAE'], how='left', right_on=['IDANIMAL'], suffixes=('', '_tes'))\n",
    "    df = df.drop_duplicates()\n",
    "    if 'id_touro' in df.columns:\n",
    "        df = df.drop(columns='id_touro')\n",
    "    if 'id_vaca' in df.columns:\n",
    "        df = df.drop(columns='id_vaca')\n",
    "    df = df.rename(columns={'id_produto_drop':'id_touro'})\n",
    "    df = df.rename(columns={'id_produto_tes':'id_vaca'})\n",
    "    df = df.drop(columns='IDANIMAL_drop')\n",
    "    df = df.drop(columns='IDANIMAL_tes')\n",
    "    #df = df.drop(columns='_merge')\n",
    "    return df"
   ],
   "metadata": {
    "collapsed": false
   }
  },
  {
   "cell_type": "code",
   "execution_count": 70,
   "outputs": [],
   "source": [
    "def busca_id_touro_e_id_vaca_pelo_cod_prod_genealogia_embrapa(df):\n",
    "    if '_merge' in df.columns:\n",
    "        df = df.drop(columns='_merge')\n",
    "    df_id_touro = pd.merge(df, df_genealogia_embrapa[['id_produto', 'cod_prod']], left_on=['cod_pai'], right_on=['cod_prod'], suffixes=('', '_drop'))\n",
    "    #ID_TOURO\n",
    "    df = pd.merge(df, df_id_touro[['IDANIMAL','id_produto_drop']], on=['IDANIMAL'], how='left')\n",
    "    df = df.drop_duplicates()\n",
    "    df['id_touro'].fillna(df['id_produto_drop'], inplace=True)\n",
    "    df = df.drop(columns='id_produto_drop')\n",
    "\n",
    "    #ID_VACA\n",
    "    df_id_vaca = pd.merge(df, df_genealogia_embrapa[['id_produto', 'cod_prod']], left_on=['cod_mae'], right_on=['cod_prod'], indicator=True, suffixes=('', '_drop'))\n",
    "    df = pd.merge(df, df_id_vaca[['IDANIMAL','id_produto_drop']], on=['IDANIMAL'], how='left')\n",
    "    df = df.drop_duplicates()\n",
    "    df['id_vaca'].fillna(df['id_produto_drop'], inplace=True)\n",
    "    df = df.drop(columns='id_produto_drop')\n",
    "    return df"
   ],
   "metadata": {
    "collapsed": false
   }
  },
  {
   "cell_type": "code",
   "execution_count": 71,
   "outputs": [],
   "source": [
    "def pega_id_produto_genealogia_embrapa_registro_3_letras_e_GSPAI_GSMAE_11(df):\n",
    "    df['RGMAE'] = df['RGMAE'].astype(str)\n",
    "    df['RGPAI'] = df['RGPAI'].astype(str)\n",
    "    df_sub_tabela_gir = df[df['GSPAI']==11]\n",
    "    df_sub_tabela_gir = df[df['RGPAI'].apply(lambda x: bool(re.match(r'^[a-zA-Z]{3}', x)))]\n",
    "    df_sub_tabela_gir1 = df[df['GSMAE']==11]\n",
    "    df_sub_tabela_gir1 = df[df['RGMAE'].apply(lambda x: bool(re.match(r'^[a-zA-Z]{3}', x)))]\n",
    "    df_sub_touros_id = pd.merge(df_sub_tabela_gir, df_genealogia_embrapa[['id_produto','registro']], left_on=['RGPAI'], right_on=['registro'])\n",
    "    df_sub_vacas_id = pd.merge(df_sub_tabela_gir1, df_genealogia_embrapa[['id_produto','registro']], left_on=['RGMAE'], right_on=['registro'])\n",
    "\n",
    "    df = pd.merge(df, df_sub_touros_id[['IDANIMAL', 'id_produto_y']], on=['IDANIMAL'], how='left')\n",
    "    df['id_touro'].fillna(df['id_produto_y'], inplace=True)\n",
    "    df = df.drop(columns='id_produto_y')\n",
    "    df = pd.merge(df, df_sub_vacas_id[['IDANIMAL', 'id_produto_y']], on=['IDANIMAL'], how='left')\n",
    "    df['id_vaca'].fillna(df['id_produto_y'], inplace=True)\n",
    "    df = df.drop(columns='id_produto_y')\n",
    "    return df"
   ],
   "metadata": {
    "collapsed": false
   }
  },
  {
   "cell_type": "code",
   "execution_count": 72,
   "outputs": [],
   "source": [
    "def gera_lista_animais_pelo_id_produto_touros_vacas_genealogia_RG_menor_3(df):\n",
    "    df = df.drop_duplicates()\n",
    "    df = df.loc[~df.index.duplicated(keep='first')]\n",
    "    df.reset_index(inplace=True, drop=True)\n",
    "    df_sub_tabela_gir1 = df[df['GSPAI']==11]\n",
    "    df_sub_tabela_gir1 = df_sub_tabela_gir1[~df_sub_tabela_gir1['RGPAI'].apply(lambda x: bool(re.match(r'^[a-zA-Z]{3}', x)))]\n",
    "    #Pegando os 4 primeiros caracteres do nome\n",
    "    df_sub_tabela_gir1['nome4caracteres'] = df_sub_tabela_gir1['NOMEPAI'].str.slice(start=0, stop=4)\n",
    "    df_sub_tabela_gir1 = df_sub_tabela_gir1.drop_duplicates()\n",
    "    df_sub_tabela_gir1.reset_index(inplace=True, drop=True)\n",
    "\n",
    "    df_subtabela_genealogia = df_genealogia_embrapa\n",
    "    df_subtabela_genealogia = df_subtabela_genealogia[df_subtabela_genealogia['gs']==0]\n",
    "    df_subtabela_genealogia = df_subtabela_genealogia[df_subtabela_genealogia['sexo']=='M']\n",
    "    df_subtabela_genealogia = df_subtabela_genealogia[~df_subtabela_genealogia['registro'].isnull()]\n",
    "    df_subtabela_genealogia = df_subtabela_genealogia[~df_subtabela_genealogia['nome'].isnull()]\n",
    "    df_subtabela_genealogia = df_subtabela_genealogia[~df_subtabela_genealogia['registro'].apply(lambda x: bool(re.match(r'^[a-zA-Z]{3}', x)))]\n",
    "    df_subtabela_genealogia['nome4caracteres'] = df_subtabela_genealogia['nome'].str.slice(start=0, stop=4)\n",
    "    df_subtabela_genealogia = df_subtabela_genealogia.drop_duplicates()\n",
    "\n",
    "    dj_juntando_tabelas = pd.merge(df_sub_tabela_gir1, df_subtabela_genealogia[['id_produto', 'registro', 'nome4caracteres']], left_on=['nome4caracteres', 'RGPAI'], right_on=['nome4caracteres', 'registro'])\n",
    "    dj_juntando_tabelas = dj_juntando_tabelas.rename(columns={'id_produto_y':'id_touro_encontrado'})\n",
    "    dj_juntando_tabelas = dj_juntando_tabelas.reset_index(drop=True) # Reset index\n",
    "    dj_juntando_tabelas.reset_index(inplace=True, drop=True)\n",
    "\n",
    "    df_sub_tabela_gir2 = df_animais_sem_id_completo[df_animais_sem_id_completo['GSMAE']==11]\n",
    "    df_sub_tabela_gir2 = df_sub_tabela_gir2[~df_sub_tabela_gir2['RGMAE'].apply(lambda x: bool(re.match(r'^[a-zA-Z]{3}', x)))]\n",
    "    #Pegando os 4 primeiros caracteres do nome\n",
    "    df_sub_tabela_gir2['nome4caracteres'] = df_sub_tabela_gir2['NOMEMAE'].str.slice(start=0, stop=4)\n",
    "    df_sub_tabela_gir2.reset_index(inplace=True, drop=True)\n",
    "\n",
    "    df_subtabela_genealogia1 = df_genealogia_embrapa\n",
    "    df_subtabela_genealogia1 = df_subtabela_genealogia1[df_subtabela_genealogia1['gs']==0]\n",
    "    df_subtabela_genealogia1 = df_subtabela_genealogia1[df_subtabela_genealogia1['sexo']=='F']\n",
    "    df_subtabela_genealogia1 = df_subtabela_genealogia1[~df_subtabela_genealogia1['registro'].isnull()]\n",
    "    df_subtabela_genealogia1 = df_subtabela_genealogia1[~df_subtabela_genealogia1['nome'].isnull()]\n",
    "    df_subtabela_genealogia1 = df_subtabela_genealogia1[~df_subtabela_genealogia1['registro'].apply(lambda x: bool(re.match(r'^[a-zA-Z]{3}', x)))]\n",
    "    df_subtabela_genealogia1['nome4caracteres'] = df_subtabela_genealogia1['nome'].str.slice(start=0, stop=4)\n",
    "    df_subtabela_genealogia1 = df_subtabela_genealogia1.drop_duplicates()\n",
    "    df_subtabela_genealogia1.reset_index(inplace=True, drop=True)\n",
    "\n",
    "    dj_juntando_tabelas1 = pd.merge(df_sub_tabela_gir2, df_subtabela_genealogia1[['id_produto', 'registro', 'nome4caracteres']], left_on=['nome4caracteres', 'RGMAE'], right_on=['nome4caracteres', 'registro'])\n",
    "    dj_juntando_tabelas1 = dj_juntando_tabelas1.rename(columns={'id_produto_y':'id_vaca_encontrado'})\n",
    "    dj_juntando_tabelas1 = dj_juntando_tabelas1.reset_index(drop=True) # Reset index\n",
    "    dj_juntando_tabelas1.reset_index(inplace=True, drop=True)\n",
    "    dj_juntando_tabelas = dj_juntando_tabelas.drop_duplicates()\n",
    "    dj_juntando_tabelas1 = dj_juntando_tabelas1.drop_duplicates()\n",
    "\n",
    "    dj_juntando_tabelas = dj_juntando_tabelas.reset_index(drop=True) # Reset index\n",
    "    dj_juntando_tabelas1 = dj_juntando_tabelas1.reset_index(drop=True) # Reset index\n",
    "\n",
    "    tes = pd.concat([dj_juntando_tabelas,dj_juntando_tabelas1], axis =1)\n",
    "    tes= tes.drop_duplicates()\n",
    "    return tes\n"
   ],
   "metadata": {
    "collapsed": false
   }
  },
  {
   "cell_type": "code",
   "execution_count": 73,
   "outputs": [],
   "source": [
    "def adiciona_animais_rg_menor_3_no_dataframe_principal(df, lista):\n",
    "    df = pd.merge(df, lista[['IDANIMAL', 'id_vaca_encontrado', 'id_touro_encontrado']], on=['IDANIMAL'], how='left')\n",
    "    df['id_touro'].fillna(df['id_touro_encontrado'], inplace=True)\n",
    "    df = df.drop(columns='id_touro_encontrado')\n",
    "    df['id_vaca'].fillna(df['id_vaca_encontrado'], inplace=True)\n",
    "    df = df.drop(columns='id_vaca_encontrado')\n",
    "    return df"
   ],
   "metadata": {
    "collapsed": false
   }
  },
  {
   "cell_type": "code",
   "execution_count": 74,
   "outputs": [],
   "source": [
    "def formata_df_no_modelo_genealogia_embrapa(df):\n",
    "    #trata o dnasc\n",
    "    if 'DNASC' in df.columns:\n",
    "        df = df.rename(columns={'DNASC':'nasc'})\n",
    "    #trata o formata_df_no_modelo_genealogia_embrapa\n",
    "    if 'NOMEVACA' in df.columns:\n",
    "        df = df.rename(columns={'NOMEVACA':'nome'})\n",
    "    # Adiciona coluna \"id\"\n",
    "    df = df.assign(id=None)\n",
    "    #Atribui valores de id_produto a id\n",
    "    df['id'] = df['id_produto']\n",
    "    # Adiciona coluna \"abcz\" com valores iguais a null\n",
    "    df = df.assign(abcz=None)\n",
    "    #renomeia RGVACA para registro\n",
    "    df = df.rename(columns={'RGVACA':'registro'})\n",
    "    #renomeia nomea para nome\n",
    "    df = df.rename(columns={'nomea':'nome'})\n",
    "    #renomeia SEXO para sexo\n",
    "    df = df.rename(columns={'SEXO':'sexo'})\n",
    "    # Adiciona coluna \"paternidade\" com valores iguais a null\n",
    "    df = df.assign(paternidade=None)\n",
    "    # Adiciona coluna \"ck_sire\" com valores iguais a null\n",
    "    df = df.assign(ck_sire=None)\n",
    "    # Adiciona coluna \"ck_dam\" com valores iguais a null\n",
    "    df = df.assign(ck_dam=None)\n",
    "    # Adiciona coluna \"gen_valido\" com valores iguais a null\n",
    "    df = df.assign(gen_valido=None)\n",
    "    # Adiciona coluna \"nasc_est\"\n",
    "    df = df.assign(nasc_est=None)\n",
    "    #Atribui os valores de nasc a nasc_est\n",
    "    df['nasc_est'] = df['nasc']\n",
    "    # Adiciona coluna \"gr_psg\"\n",
    "    df = df.assign(gr_psg=None)\n",
    "    # Adiciona coluna \"gr_ps\"\n",
    "    df = df.assign(gr_ps=None)\n",
    "    # Adiciona coluna \"gr_tp\"\n",
    "    df = df.assign(gr_tp=None)\n",
    "    # Adiciona coluna \"rebc2_cri\"\n",
    "    df = df.assign(rebc_cri=None)\n",
    "    #renomeia rebc_or para rebc_pr\n",
    "    df = df.rename(columns={'rebc_or':'rebc_pr'})\n",
    "    # Adiciona coluna \"cat\"\n",
    "    if 'cat' in df.columns:\n",
    "        pass\n",
    "    else:\n",
    "        df = df.assign(cat=None)\n",
    "    # Adiciona coluna \"ficha_a\"\n",
    "    df = df.assign(ficha_a=None)\n",
    "    #renomeia IDANIMAL para idanimal\n",
    "    df = df.rename(columns={'IDANIMAL':'idanimal'})\n",
    "    # Adiciona coluna \"origem\"\n",
    "    df = df.assign(origem='GIRO')\n",
    "    # Adiciona coluna \"data_insercao\"\n",
    "    df = df.assign(data_insercao=None)\n",
    "    data_atual = datetime.today().strftime('%Y-%m-%d')\n",
    "    df['data_insercao'] = data_atual\n",
    "    df = df[['id_produto', 'id', 'abcz', 'registro','nome','sexo','paternidade','ck_sire','id_touro','id_vaca','ck_dam','gen_valido','nasc','nasc_est','cgen_a','gs','gr_psg','gr_ps','gr_tp','rebc_cri','rebc_pr','cat','ficha_a','cod_prod','idanimal','origem', 'data_insercao']]\n",
    "    return df\n"
   ],
   "metadata": {
    "collapsed": false
   }
  },
  {
   "cell_type": "code",
   "execution_count": 75,
   "outputs": [],
   "source": [
    "def gera_lista_de_animais_com_id_vaca_touro(df):\n",
    "    df = df.drop_duplicates()\n",
    "    animais_com_ids = df[~df['id_vaca'].isnull() & ~df['id_touro'].isnull()]\n",
    "    return animais_com_ids"
   ],
   "metadata": {
    "collapsed": false
   }
  },
  {
   "cell_type": "code",
   "execution_count": 76,
   "outputs": [],
   "source": [
    "def gera_lista_de_animais_sem_id_vaca_e_ou_sem_id_touro(animais_sem_id_completo):\n",
    "    animais_sem_id_vaca = animais_sem_id_completo[animais_sem_id_completo['id_vaca'].isnull()]\n",
    "    animais_sem_id_vaca = animais_sem_id_vaca.drop_duplicates()\n",
    "    animais_sem_id_touro = animais_sem_id_completo[animais_sem_id_completo['id_touro'].isnull()]\n",
    "    animais_sem_id_touro = animais_sem_id_touro.drop_duplicates()\n",
    "    animais_sem_id = pd.concat([animais_sem_id_touro, animais_sem_id_vaca])\n",
    "    animais_sem_id = animais_sem_id.drop_duplicates()\n",
    "\n",
    "\n",
    "    return animais_sem_id"
   ],
   "metadata": {
    "collapsed": false
   }
  },
  {
   "cell_type": "code",
   "execution_count": 77,
   "outputs": [],
   "source": [
    "def adiciona_colunas_codprod_codpai_cod_mae(df, genealogia_abcz):\n",
    "  sub_tabela_gs_0 = df[df['gs'] == 0]\n",
    "  genealogia_abcz = genealogia_abcz.rename(columns={'rgd2': 'RGVACA'})\n",
    "  df_temporaria1 = pd.merge(sub_tabela_gs_0, genealogia_abcz[['RGVACA', 'cod_prod', 'cod_pai', 'cod_mae']], on=['RGVACA'], how='left', suffixes=('', '_drop'))\n",
    "  sub_tabela_gs_0=df_temporaria1\n",
    "  sub_tabela_gs_0 = sub_tabela_gs_0.drop_duplicates()\n",
    "\n",
    "  df_temporaria4 = pd.merge(df, sub_tabela_gs_0[['RGVACA', 'cod_prod', 'cod_pai', 'cod_mae', 'IDANIMAL']], on=['RGVACA', 'IDANIMAL'], how='left', suffixes=('', '_drop'))\n",
    "  df=df_temporaria4\n",
    "  df = df.drop_duplicates()\n",
    "  return df"
   ],
   "metadata": {
    "collapsed": false
   }
  },
  {
   "cell_type": "code",
   "execution_count": 78,
   "outputs": [],
   "source": [
    "def pegar_codpai_codmae_abcz_rg_3_letras(df, genealogia_abcz):\n",
    "  if '_merge' in df.columns:\n",
    "      df = df.drop(columns='_merge')\n",
    "  if '_merge' in genealogia_abcz.columns:\n",
    "      df = df.drop(columns='_merge')\n",
    "\n",
    "  genealogia_abcz = genealogia_abcz.rename(columns={'rgd2': 'RGVACA'})\n",
    "  #Criando subtabela para maes\n",
    "  subtabela_mae = df[df['GSMAE'] == 11]\n",
    "  #e o cod_mae e nulo\n",
    "  subtabela_mae\n",
    "  # selecionar apenas as linhas que começam com letras\n",
    "  subtabela_mae = subtabela_mae[subtabela_mae['RGMAE'].apply(lambda x: bool(re.match(r'^[a-zA-Z]{3}', x)))]\n",
    "\n",
    "  #Buscando cod_mae na abcz\n",
    "  genealogia_abcz = genealogia_abcz.rename(columns={'cod_prod':'cod_prod_mae_gen'})\n",
    "  subtabela_mae = pd.merge(subtabela_mae, genealogia_abcz[['RGVACA', 'cod_prod_mae_gen']], left_on=['RGMAE'], right_on=['RGVACA'], how='left', indicator=True, suffixes=('', '_drop'))\n",
    "  subtabela_mae = subtabela_mae.drop_duplicates()\n",
    "  subtabela_mae = subtabela_mae.drop(subtabela_mae.filter(regex='_drop$').columns, axis=1)\n",
    "  subtabela_mae = subtabela_mae[subtabela_mae['_merge'] == 'both'].drop(columns='_merge')\n",
    "\n",
    "  #Adicionando coluna cod_prod_mae no df\n",
    "  df = pd.merge(df, subtabela_mae[['RGMAE', 'cod_prod_mae_gen']], left_on=['RGMAE'], right_on=['RGMAE'], how='left', suffixes=('', '_drop'))\n",
    "  df = df.drop_duplicates()\n",
    "\n",
    "  #Criando subtabela em que gspai = 11\n",
    "  subtabela_pai = df[df['GSPAI'] == 11]\n",
    "\n",
    "  # selecionar apenas as linhas que começam com letras\n",
    "  subtabela_pai = subtabela_pai[subtabela_pai['RGPAI'].apply(lambda x: bool(re.match(r'^[a-zA-Z]{3}', x)))]\n",
    "\n",
    "  #Pegando cod_pai na ABCZ\n",
    "  genealogia_abcz = genealogia_abcz.rename(columns={'cod_prod_mae_gen':'cod_prod_pai_gen'})\n",
    "  subtabela_pai = pd.merge(subtabela_pai, genealogia_abcz[['RGVACA', 'cod_prod_pai_gen']], left_on=['RGPAI'], right_on=['RGVACA'], how='left', indicator=True, suffixes=('', '_drop'))\n",
    "  subtabela_pai = subtabela_pai.drop_duplicates()\n",
    "  subtabela_pai = subtabela_pai.drop(subtabela_pai.filter(regex='_drop$').columns, axis=1)\n",
    "  subtabela_pai = subtabela_pai[subtabela_pai['_merge'] == 'both'].drop(columns='_merge')\n",
    "\n",
    "  #Criando coluna do cod_prod_pai_gen no df\n",
    "  df = pd.merge(df, subtabela_pai[['RGPAI', 'cod_prod_pai_gen']], left_on=['RGPAI'], right_on=['RGPAI'], how='left', suffixes=('', '_drop'))\n",
    "  df = df.drop_duplicates()\n",
    "\n",
    "  #Atualizando valores da cod_pai e cod_mae do df com os valores das colunas inseridas\n",
    "  df['cod_pai'].fillna(df['cod_prod_pai_gen'], inplace=True)\n",
    "  df['cod_mae'].fillna(df['cod_prod_mae_gen'], inplace=True)\n",
    "  #Dando drop nas colunas antigas\n",
    "  df = df.drop(columns='cod_prod_pai_gen')\n",
    "  df = df.drop(columns='cod_prod_mae_gen')\n",
    "\n",
    "  return df\n"
   ],
   "metadata": {
    "collapsed": false
   }
  },
  {
   "cell_type": "code",
   "execution_count": 79,
   "outputs": [],
   "source": [
    "def pegar_codpai_codmae_abcz_rg_diferente_3_letras(df, genealogia_abcz):\n",
    "  genealogia_abcz = genealogia_abcz.rename(columns={'rgd2': 'RGVACA'})\n",
    "  #Criando subtabela\n",
    "  subtabela_pai = df[df['GSPAI'] == 11]\n",
    "  # selecionar apenas as linhas que NÃO começam com letras\n",
    "  subtabela_pai = subtabela_pai[~subtabela_pai['RGPAI'].apply(lambda x: bool(re.match(r'^[a-zA-Z]{3}', x)))]\n",
    "\n",
    "  #Pegando cod_pai na abcz\n",
    "  genealogia_abcz = genealogia_abcz.rename(columns={'cod_prod':'cod_prod_pai_gen'})\n",
    "  subtabela_pai = subtabela_pai.drop_duplicates()\n",
    "  genealogia_abcz = genealogia_abcz.drop_duplicates()\n",
    "  subtabela_pai['nome4caracteres'] = subtabela_pai['NOMEPAI'].str.slice(start=0, stop=4)\n",
    "  genealogia_abcz['nome4caracteres'] = genealogia_abcz['nome'].str.slice(start=0, stop=4)\n",
    "  genealogia_abcz_pai = genealogia_abcz\n",
    "  genealogia_abcz_pai = genealogia_abcz[genealogia_abcz['sexo']== 'M']\n",
    "  subtabela_pai = pd.merge(subtabela_pai, genealogia_abcz_pai[['RGVACA', 'nome4caracteres','cod_prod_pai_gen']], left_on=['RGPAI', 'nome4caracteres'], right_on=['RGVACA', 'nome4caracteres'], how='left', indicator=True, suffixes=('', '_drop'))\n",
    "  subtabela_pai = subtabela_pai.drop_duplicates()\n",
    "  subtabela_pai = subtabela_pai.drop(subtabela_pai.filter(regex='_drop$').columns, axis=1)\n",
    "  subtabela_pai = subtabela_pai[subtabela_pai['_merge'] == 'both'].drop(columns='_merge')\n",
    "\n",
    "  #Adicionando coluna de cod_pai_gen no df\n",
    "  df = pd.merge(df, subtabela_pai[['RGPAI', 'cod_prod_pai_gen']], left_on=['RGPAI'], right_on=['RGPAI'], how='left', suffixes=('', '_drop'))\n",
    "  df = df.drop_duplicates()\n",
    "\n",
    "  #Criando subtabela mae\n",
    "  genealogia_abcz = genealogia_abcz.rename(columns={'cod_prod':'cod_prod_mae_gen'})\n",
    "  subtabela_mae = df[df['GSMAE'] == 11]\n",
    "  # selecionar apenas as linhas que NÃO começam com letras\n",
    "  subtabela_mae = subtabela_mae[~subtabela_mae['RGMAE'].apply(lambda x: bool(re.match(r'^[a-zA-Z]{3}', x)))]\n",
    "\n",
    "  #Pegando cod_mae na abcz\n",
    "  subtabela_mae['nome4caracteres'] = subtabela_mae['NOMEMAE'].str.slice(start=0, stop=4)\n",
    "  genealogia_abcz = genealogia_abcz.rename(columns={'cod_prod_pai_gen':'cod_prod_mae_gen'})\n",
    "  #criando coluna com os 10 caracteres do nome\n",
    "  genealogia_abcz_mae = genealogia_abcz\n",
    "  genealogia_abcz_mae = genealogia_abcz[genealogia_abcz['sexo']== 'F']\n",
    "  subtabela_mae = pd.merge(subtabela_mae, genealogia_abcz_mae[['RGVACA','nome4caracteres' ,'cod_prod_mae_gen']], left_on=['RGMAE', 'nome4caracteres'], right_on=['RGVACA', 'nome4caracteres'], how='left', indicator=True, suffixes=('', '_drop'))\n",
    "  subtabela_mae = subtabela_mae.drop_duplicates()\n",
    "  subtabela_mae = subtabela_mae.drop(subtabela_mae.filter(regex='_drop$').columns, axis=1)\n",
    "  subtabela_mae = subtabela_mae[subtabela_mae['_merge'] == 'both'].drop(columns='_merge')\n",
    "\n",
    "  #Adicionando coluna de cod_mae_gen no df\n",
    "  df = pd.merge(df, subtabela_mae[['RGMAE', 'cod_prod_mae_gen']], left_on=['RGMAE'], right_on=['RGMAE'], how='left', suffixes=('', '_drop'))\n",
    "  df = df.drop_duplicates()\n",
    "\n",
    "  #Atualizando cod_pai e cod_mae com base nas novas colunas\n",
    "  df['cod_pai'].fillna(df['cod_prod_pai_gen'], inplace=True)\n",
    "  df['cod_mae'].fillna(df['cod_prod_mae_gen'], inplace=True)\n",
    "  #Dando drop nas colunas antigas\n",
    "  df = df.drop(columns='cod_prod_pai_gen')\n",
    "  df = df.drop(columns='cod_prod_mae_gen')\n",
    "  return df"
   ],
   "metadata": {
    "collapsed": false
   }
  },
  {
   "cell_type": "markdown",
   "source": [
    "# Lendo planilhas"
   ],
   "metadata": {
    "collapsed": false
   }
  },
  {
   "cell_type": "code",
   "execution_count": 80,
   "outputs": [],
   "source": [
    "df_animais_sem_id = pd.read_hdf('df_animais_sem_id.h5', key='df')\n",
    "df_genealogia_embrapa = pd.read_hdf('df_genealogia_embrapa.h5', key='df')\n",
    "df_fazendas = pd.read_hdf('df_fazendas.h5', key='df')\n",
    "df_criadores = pd.read_hdf('df_criadores.h5', key='df')\n",
    "df_genealogia_abcz = pd.read_hdf('df_genealogia_abcz.h5', key='df')\n",
    "pedigree = pd.read_csv(\"pedrigree - Girolando - 17-02-2023.txt\", encoding='ISO-8859-1')"
   ],
   "metadata": {
    "collapsed": false
   }
  },
  {
   "cell_type": "markdown",
   "source": [
    "# Imprimindo dataframes"
   ],
   "metadata": {
    "collapsed": false
   }
  },
  {
   "cell_type": "code",
   "execution_count": 81,
   "outputs": [],
   "source": [
    "df_animais_sem_id = df_animais_sem_id.drop_duplicates()\n",
    "df_animais_sem_id = df_animais_sem_id.drop(columns='id_produto_x')\n",
    "df_animais_sem_id = df_animais_sem_id.drop(columns='id_produto_y')"
   ],
   "metadata": {
    "collapsed": false
   }
  },
  {
   "cell_type": "code",
   "execution_count": 82,
   "outputs": [],
   "source": [
    "df_animais_sem_id_completo = cria_dataframe_base(df_animais_sem_id, pedigree)"
   ],
   "metadata": {
    "collapsed": false
   }
  },
  {
   "cell_type": "code",
   "execution_count": 83,
   "outputs": [
    {
     "data": {
      "text/plain": "     reb_giro                            nomea  COMPRAC    RGVACA  \\\n0        7461   NANA IMPERADOR BAXTER RF SAO F     5858   6353-AH   \n1       10639  LANAA FIV AFTERSHOCK BON.BELEM       12   9592-AG   \n2        6039   EDILAINE IMPERIO FIV 4303 JARD       12  AADA0352   \n3        1945             ARMA MERIDIAN DA MBL       12   1025-AN   \n4       73119   CELESTE 136 TEATRO FIV COOPERR       12   1239-BF   \n..        ...                              ...      ...       ...   \n562      1945   JPZ QUIRERA SHAMROCK ASTER FIV       12    4032-Z   \n563      2381   DALIA I FIV BRADLEY JM NOVO HO       12   4906-AZ   \n564       132        QUINTA I COLE AGM TRIUNFO       34   9243-AG   \n565      6915                  LIA DAS ARABIAS     5858   6125-BR   \n566      6029          GERMANA FEBO FR RECREIO     5858   9069-AS   \n\n                             nomep  GSPAI     RGPAI  \\\n0      IMPERADOR BAXTER VOLTA FRIA     58      1459   \n1    MS ATLEES SHT AFTERSHOCK - ET     10  AX129928   \n2           IMPERIO TE STA EDWIGES     11    RIG163   \n3           SULLY HART MERIDIAN-ET     10  AX138576   \n4               TEATRO DA SILVANIA     11    EFC383   \n..                             ...    ...       ...   \n562     LADYS-MANOR PL SHAMROCK-ET     10  AX135714   \n563               ROCKALLI BRADLEY     10  AX117720   \n564         CO-OP TOYSTORY COLE-ET     10  AX129567   \n565              TURBO DAS ARABIAS   5858      0079   \n566                FEBO FR RECREIO     58    6300-N   \n\n                             nomem  GSMAE         RGMAE  ...  \\\n0    JURITI HERBY RF SAO FRANCISCO     58        6877-N  ...   \n1                 JOANE FIV KUBERA     11      ACFG1840  ...   \n2    SERTEC QATAR FABIANA PROGRESS     10  HBB/B-291392  ...   \n3                             FAMA     11        JNR167  ...   \n4       LAGOS ASTRE QUIMICA 795 TE     10      BX335536  ...   \n..                             ...    ...           ...  ...   \n562                  JPZ ASTER FIV     11         JPZ64  ...   \n563           DALIA NOVO HORIZONTE     11        JMCH76  ...   \n564                   QUINTA FIV M     12        0473-O  ...   \n565             LILIKA DAS ARABIAS     58       4916-AW  ...   \n566            CAMPANHA FR RECREIO     58        6180-N  ...   \n\n     nome10caracteres    AN                                   NOMEVACA  \\\n0          NANAIMPERA  2015     NANA IMPERADOR BAXTER RF SAO FRANCISCO   \n1           LANAAFIV  2014             LANCA FIV AFTERSHOCK BON.BELEM   \n2          EDILAINEIM  2013  EDILAINE IMPERIO FIV 4303 JARDIM DO TURVO   \n3          ARMAMERIDI  2015                       ARMA MERIDIAN DA MBL   \n4          CELESTE136  2016          CELESTE 136 TEATRO FIV COOPERRITA   \n..                ...   ...                                        ...   \n562        JPZQUIRERA  2014             JPZ QUIRERA SHAMROCK ASTER FIV   \n563         DALIAIFIV  2017      DALIA I FIV BRADLEY JM NOVO HORIZONTE   \n564         QUINTAICO  2015                  QUINTA I COLE AGM TRIUNFO   \n565         LIADASARA  2019                            LIA DAS ARABIAS   \n566        GERMANAFEB  2016                    GERMANA FEBO FR RECREIO   \n\n          DNASC  SEXO                        NOMEPAI  \\\n0    11/03/2015     F    IMPERADOR BAXTER VOLTA FRIA   \n1    22/12/2014     F  MS ATLEES SHT AFTERSHOCK - ET   \n2    18/10/2013     F         IMPERIO TE STA EDWIGES   \n3    27/04/2015     F         SULLY HART MERIDIAN-ET   \n4    05/02/2016     F             TEATRO DA SILVANIA   \n..          ...   ...                            ...   \n562  18/02/2014     F     LADYS-MANOR PL SHAMROCK-ET   \n563  19/08/2017     F               ROCKALLI BRADLEY   \n564  25/04/2015     F         CO-OP TOYSTORY COLE-ET   \n565  13/06/2019     F              TURBO DAS ARABIAS   \n566  16/07/2016     F                FEBO FR RECREIO   \n\n                           NOMEMAE         cgen_a  comb  _merge  \n0    JURITI HERBY RF SAO FRANCISCO  5/8HOL 3/8GIR   666    both  \n1                 JOANE FIV KUBERA  1/2HOL 1/2GIR   519    both  \n2    SERTEC QATAR FABIANA PROGRESS  1/2HOL 1/2GIR   519    both  \n3                             FAMA  1/2HOL 1/2GIR   519    both  \n4       LAGOS ASTRE QUIMICA 795 TE  1/2HOL 1/2GIR   519    both  \n..                             ...            ...   ...     ...  \n562                  JPZ ASTER FIV  1/2HOL 1/2GIR   519    both  \n563           DALIA NOVO HORIZONTE  1/2HOL 1/2GIR   519    both  \n564                   QUINTA FIV M  3/4HOL 1/4GIR   795    both  \n565             LILIKA DAS ARABIAS  5/8HOL 3/8GIR   666    both  \n566            CAMPANHA FR RECREIO  5/8HOL 3/8GIR   666    both  \n\n[558 rows x 61 columns]",
      "text/html": "<div>\n<style scoped>\n    .dataframe tbody tr th:only-of-type {\n        vertical-align: middle;\n    }\n\n    .dataframe tbody tr th {\n        vertical-align: top;\n    }\n\n    .dataframe thead th {\n        text-align: right;\n    }\n</style>\n<table border=\"1\" class=\"dataframe\">\n  <thead>\n    <tr style=\"text-align: right;\">\n      <th></th>\n      <th>reb_giro</th>\n      <th>nomea</th>\n      <th>COMPRAC</th>\n      <th>RGVACA</th>\n      <th>nomep</th>\n      <th>GSPAI</th>\n      <th>RGPAI</th>\n      <th>nomem</th>\n      <th>GSMAE</th>\n      <th>RGMAE</th>\n      <th>...</th>\n      <th>nome10caracteres</th>\n      <th>AN</th>\n      <th>NOMEVACA</th>\n      <th>DNASC</th>\n      <th>SEXO</th>\n      <th>NOMEPAI</th>\n      <th>NOMEMAE</th>\n      <th>cgen_a</th>\n      <th>comb</th>\n      <th>_merge</th>\n    </tr>\n  </thead>\n  <tbody>\n    <tr>\n      <th>0</th>\n      <td>7461</td>\n      <td>NANA IMPERADOR BAXTER RF SAO F</td>\n      <td>5858</td>\n      <td>6353-AH</td>\n      <td>IMPERADOR BAXTER VOLTA FRIA</td>\n      <td>58</td>\n      <td>1459</td>\n      <td>JURITI HERBY RF SAO FRANCISCO</td>\n      <td>58</td>\n      <td>6877-N</td>\n      <td>...</td>\n      <td>NANAIMPERA</td>\n      <td>2015</td>\n      <td>NANA IMPERADOR BAXTER RF SAO FRANCISCO</td>\n      <td>11/03/2015</td>\n      <td>F</td>\n      <td>IMPERADOR BAXTER VOLTA FRIA</td>\n      <td>JURITI HERBY RF SAO FRANCISCO</td>\n      <td>5/8HOL 3/8GIR</td>\n      <td>666</td>\n      <td>both</td>\n    </tr>\n    <tr>\n      <th>1</th>\n      <td>10639</td>\n      <td>LANAA FIV AFTERSHOCK BON.BELEM</td>\n      <td>12</td>\n      <td>9592-AG</td>\n      <td>MS ATLEES SHT AFTERSHOCK - ET</td>\n      <td>10</td>\n      <td>AX129928</td>\n      <td>JOANE FIV KUBERA</td>\n      <td>11</td>\n      <td>ACFG1840</td>\n      <td>...</td>\n      <td>LANAAFIV</td>\n      <td>2014</td>\n      <td>LANCA FIV AFTERSHOCK BON.BELEM</td>\n      <td>22/12/2014</td>\n      <td>F</td>\n      <td>MS ATLEES SHT AFTERSHOCK - ET</td>\n      <td>JOANE FIV KUBERA</td>\n      <td>1/2HOL 1/2GIR</td>\n      <td>519</td>\n      <td>both</td>\n    </tr>\n    <tr>\n      <th>2</th>\n      <td>6039</td>\n      <td>EDILAINE IMPERIO FIV 4303 JARD</td>\n      <td>12</td>\n      <td>AADA0352</td>\n      <td>IMPERIO TE STA EDWIGES</td>\n      <td>11</td>\n      <td>RIG163</td>\n      <td>SERTEC QATAR FABIANA PROGRESS</td>\n      <td>10</td>\n      <td>HBB/B-291392</td>\n      <td>...</td>\n      <td>EDILAINEIM</td>\n      <td>2013</td>\n      <td>EDILAINE IMPERIO FIV 4303 JARDIM DO TURVO</td>\n      <td>18/10/2013</td>\n      <td>F</td>\n      <td>IMPERIO TE STA EDWIGES</td>\n      <td>SERTEC QATAR FABIANA PROGRESS</td>\n      <td>1/2HOL 1/2GIR</td>\n      <td>519</td>\n      <td>both</td>\n    </tr>\n    <tr>\n      <th>3</th>\n      <td>1945</td>\n      <td>ARMA MERIDIAN DA MBL</td>\n      <td>12</td>\n      <td>1025-AN</td>\n      <td>SULLY HART MERIDIAN-ET</td>\n      <td>10</td>\n      <td>AX138576</td>\n      <td>FAMA</td>\n      <td>11</td>\n      <td>JNR167</td>\n      <td>...</td>\n      <td>ARMAMERIDI</td>\n      <td>2015</td>\n      <td>ARMA MERIDIAN DA MBL</td>\n      <td>27/04/2015</td>\n      <td>F</td>\n      <td>SULLY HART MERIDIAN-ET</td>\n      <td>FAMA</td>\n      <td>1/2HOL 1/2GIR</td>\n      <td>519</td>\n      <td>both</td>\n    </tr>\n    <tr>\n      <th>4</th>\n      <td>73119</td>\n      <td>CELESTE 136 TEATRO FIV COOPERR</td>\n      <td>12</td>\n      <td>1239-BF</td>\n      <td>TEATRO DA SILVANIA</td>\n      <td>11</td>\n      <td>EFC383</td>\n      <td>LAGOS ASTRE QUIMICA 795 TE</td>\n      <td>10</td>\n      <td>BX335536</td>\n      <td>...</td>\n      <td>CELESTE136</td>\n      <td>2016</td>\n      <td>CELESTE 136 TEATRO FIV COOPERRITA</td>\n      <td>05/02/2016</td>\n      <td>F</td>\n      <td>TEATRO DA SILVANIA</td>\n      <td>LAGOS ASTRE QUIMICA 795 TE</td>\n      <td>1/2HOL 1/2GIR</td>\n      <td>519</td>\n      <td>both</td>\n    </tr>\n    <tr>\n      <th>...</th>\n      <td>...</td>\n      <td>...</td>\n      <td>...</td>\n      <td>...</td>\n      <td>...</td>\n      <td>...</td>\n      <td>...</td>\n      <td>...</td>\n      <td>...</td>\n      <td>...</td>\n      <td>...</td>\n      <td>...</td>\n      <td>...</td>\n      <td>...</td>\n      <td>...</td>\n      <td>...</td>\n      <td>...</td>\n      <td>...</td>\n      <td>...</td>\n      <td>...</td>\n      <td>...</td>\n    </tr>\n    <tr>\n      <th>562</th>\n      <td>1945</td>\n      <td>JPZ QUIRERA SHAMROCK ASTER FIV</td>\n      <td>12</td>\n      <td>4032-Z</td>\n      <td>LADYS-MANOR PL SHAMROCK-ET</td>\n      <td>10</td>\n      <td>AX135714</td>\n      <td>JPZ ASTER FIV</td>\n      <td>11</td>\n      <td>JPZ64</td>\n      <td>...</td>\n      <td>JPZQUIRERA</td>\n      <td>2014</td>\n      <td>JPZ QUIRERA SHAMROCK ASTER FIV</td>\n      <td>18/02/2014</td>\n      <td>F</td>\n      <td>LADYS-MANOR PL SHAMROCK-ET</td>\n      <td>JPZ ASTER FIV</td>\n      <td>1/2HOL 1/2GIR</td>\n      <td>519</td>\n      <td>both</td>\n    </tr>\n    <tr>\n      <th>563</th>\n      <td>2381</td>\n      <td>DALIA I FIV BRADLEY JM NOVO HO</td>\n      <td>12</td>\n      <td>4906-AZ</td>\n      <td>ROCKALLI BRADLEY</td>\n      <td>10</td>\n      <td>AX117720</td>\n      <td>DALIA NOVO HORIZONTE</td>\n      <td>11</td>\n      <td>JMCH76</td>\n      <td>...</td>\n      <td>DALIAIFIV</td>\n      <td>2017</td>\n      <td>DALIA I FIV BRADLEY JM NOVO HORIZONTE</td>\n      <td>19/08/2017</td>\n      <td>F</td>\n      <td>ROCKALLI BRADLEY</td>\n      <td>DALIA NOVO HORIZONTE</td>\n      <td>1/2HOL 1/2GIR</td>\n      <td>519</td>\n      <td>both</td>\n    </tr>\n    <tr>\n      <th>564</th>\n      <td>132</td>\n      <td>QUINTA I COLE AGM TRIUNFO</td>\n      <td>34</td>\n      <td>9243-AG</td>\n      <td>CO-OP TOYSTORY COLE-ET</td>\n      <td>10</td>\n      <td>AX129567</td>\n      <td>QUINTA FIV M</td>\n      <td>12</td>\n      <td>0473-O</td>\n      <td>...</td>\n      <td>QUINTAICO</td>\n      <td>2015</td>\n      <td>QUINTA I COLE AGM TRIUNFO</td>\n      <td>25/04/2015</td>\n      <td>F</td>\n      <td>CO-OP TOYSTORY COLE-ET</td>\n      <td>QUINTA FIV M</td>\n      <td>3/4HOL 1/4GIR</td>\n      <td>795</td>\n      <td>both</td>\n    </tr>\n    <tr>\n      <th>565</th>\n      <td>6915</td>\n      <td>LIA DAS ARABIAS</td>\n      <td>5858</td>\n      <td>6125-BR</td>\n      <td>TURBO DAS ARABIAS</td>\n      <td>5858</td>\n      <td>0079</td>\n      <td>LILIKA DAS ARABIAS</td>\n      <td>58</td>\n      <td>4916-AW</td>\n      <td>...</td>\n      <td>LIADASARA</td>\n      <td>2019</td>\n      <td>LIA DAS ARABIAS</td>\n      <td>13/06/2019</td>\n      <td>F</td>\n      <td>TURBO DAS ARABIAS</td>\n      <td>LILIKA DAS ARABIAS</td>\n      <td>5/8HOL 3/8GIR</td>\n      <td>666</td>\n      <td>both</td>\n    </tr>\n    <tr>\n      <th>566</th>\n      <td>6029</td>\n      <td>GERMANA FEBO FR RECREIO</td>\n      <td>5858</td>\n      <td>9069-AS</td>\n      <td>FEBO FR RECREIO</td>\n      <td>58</td>\n      <td>6300-N</td>\n      <td>CAMPANHA FR RECREIO</td>\n      <td>58</td>\n      <td>6180-N</td>\n      <td>...</td>\n      <td>GERMANAFEB</td>\n      <td>2016</td>\n      <td>GERMANA FEBO FR RECREIO</td>\n      <td>16/07/2016</td>\n      <td>F</td>\n      <td>FEBO FR RECREIO</td>\n      <td>CAMPANHA FR RECREIO</td>\n      <td>5/8HOL 3/8GIR</td>\n      <td>666</td>\n      <td>both</td>\n    </tr>\n  </tbody>\n</table>\n<p>558 rows × 61 columns</p>\n</div>"
     },
     "execution_count": 83,
     "metadata": {},
     "output_type": "execute_result"
    }
   ],
   "source": [
    "cria_id_produto(df_animais_sem_id_completo)\n",
    "df_animais_sem_id_completo"
   ],
   "metadata": {
    "collapsed": false
   }
  },
  {
   "cell_type": "code",
   "execution_count": 84,
   "outputs": [
    {
     "data": {
      "text/plain": "     reb_giro                            nomea  COMPRAC    RGVACA  \\\n0        7461   NANA IMPERADOR BAXTER RF SAO F     5858   6353-AH   \n1       10639  LANAA FIV AFTERSHOCK BON.BELEM       12   9592-AG   \n2        6039   EDILAINE IMPERIO FIV 4303 JARD       12  AADA0352   \n3        1945             ARMA MERIDIAN DA MBL       12   1025-AN   \n4       73119   CELESTE 136 TEATRO FIV COOPERR       12   1239-BF   \n..        ...                              ...      ...       ...   \n554      1945   JPZ QUIRERA SHAMROCK ASTER FIV       12    4032-Z   \n555      2381   DALIA I FIV BRADLEY JM NOVO HO       12   4906-AZ   \n556       132        QUINTA I COLE AGM TRIUNFO       34   9243-AG   \n557      6915                  LIA DAS ARABIAS     5858   6125-BR   \n558      6029          GERMANA FEBO FR RECREIO     5858   9069-AS   \n\n                             nomep  GSPAI     RGPAI  \\\n0      IMPERADOR BAXTER VOLTA FRIA     58      1459   \n1    MS ATLEES SHT AFTERSHOCK - ET     10  AX129928   \n2           IMPERIO TE STA EDWIGES     11    RIG163   \n3           SULLY HART MERIDIAN-ET     10  AX138576   \n4               TEATRO DA SILVANIA     11    EFC383   \n..                             ...    ...       ...   \n554     LADYS-MANOR PL SHAMROCK-ET     10  AX135714   \n555               ROCKALLI BRADLEY     10  AX117720   \n556         CO-OP TOYSTORY COLE-ET     10  AX129567   \n557              TURBO DAS ARABIAS   5858      0079   \n558                FEBO FR RECREIO     58    6300-N   \n\n                             nomem  GSMAE         RGMAE  ...  \\\n0    JURITI HERBY RF SAO FRANCISCO     58        6877-N  ...   \n1                 JOANE FIV KUBERA     11      ACFG1840  ...   \n2    SERTEC QATAR FABIANA PROGRESS     10  HBB/B-291392  ...   \n3                             FAMA     11        JNR167  ...   \n4       LAGOS ASTRE QUIMICA 795 TE     10      BX335536  ...   \n..                             ...    ...           ...  ...   \n554                  JPZ ASTER FIV     11         JPZ64  ...   \n555           DALIA NOVO HORIZONTE     11        JMCH76  ...   \n556                   QUINTA FIV M     12        0473-O  ...   \n557             LILIKA DAS ARABIAS     58       4916-AW  ...   \n558            CAMPANHA FR RECREIO     58        6180-N  ...   \n\n                                      NOMEVACA       DNASC  SEXO  \\\n0       NANA IMPERADOR BAXTER RF SAO FRANCISCO  11/03/2015     F   \n1               LANCA FIV AFTERSHOCK BON.BELEM  22/12/2014     F   \n2    EDILAINE IMPERIO FIV 4303 JARDIM DO TURVO  18/10/2013     F   \n3                         ARMA MERIDIAN DA MBL  27/04/2015     F   \n4            CELESTE 136 TEATRO FIV COOPERRITA  05/02/2016     F   \n..                                         ...         ...   ...   \n554             JPZ QUIRERA SHAMROCK ASTER FIV  18/02/2014     F   \n555      DALIA I FIV BRADLEY JM NOVO HORIZONTE  19/08/2017     F   \n556                  QUINTA I COLE AGM TRIUNFO  25/04/2015     F   \n557                            LIA DAS ARABIAS  13/06/2019     F   \n558                    GERMANA FEBO FR RECREIO  16/07/2016     F   \n\n                           NOMEPAI                        NOMEMAE  \\\n0      IMPERADOR BAXTER VOLTA FRIA  JURITI HERBY RF SAO FRANCISCO   \n1    MS ATLEES SHT AFTERSHOCK - ET               JOANE FIV KUBERA   \n2           IMPERIO TE STA EDWIGES  SERTEC QATAR FABIANA PROGRESS   \n3           SULLY HART MERIDIAN-ET                           FAMA   \n4               TEATRO DA SILVANIA     LAGOS ASTRE QUIMICA 795 TE   \n..                             ...                            ...   \n554     LADYS-MANOR PL SHAMROCK-ET                  JPZ ASTER FIV   \n555               ROCKALLI BRADLEY           DALIA NOVO HORIZONTE   \n556         CO-OP TOYSTORY COLE-ET                   QUINTA FIV M   \n557              TURBO DAS ARABIAS             LILIKA DAS ARABIAS   \n558                FEBO FR RECREIO            CAMPANHA FR RECREIO   \n\n            cgen_a  comb  _merge  id_touro      id_vaca  \n0    5/8HOL 3/8GIR   666    both       NaN          NaN  \n1    1/2HOL 1/2GIR   519    both       NaN          NaN  \n2    1/2HOL 1/2GIR   519    both       NaN          NaN  \n3    1/2HOL 1/2GIR   519    both       NaN       JNR167  \n4    1/2HOL 1/2GIR   519    both       NaN  GIRO1086826  \n..             ...   ...     ...       ...          ...  \n554  1/2HOL 1/2GIR   519    both       NaN          NaN  \n555  1/2HOL 1/2GIR   519    both       NaN       JMCH76  \n556  3/4HOL 1/4GIR   795    both       NaN  GIRO1323923  \n557  5/8HOL 3/8GIR   666    both       NaN          NaN  \n558  5/8HOL 3/8GIR   666    both       NaN          NaN  \n\n[559 rows x 63 columns]",
      "text/html": "<div>\n<style scoped>\n    .dataframe tbody tr th:only-of-type {\n        vertical-align: middle;\n    }\n\n    .dataframe tbody tr th {\n        vertical-align: top;\n    }\n\n    .dataframe thead th {\n        text-align: right;\n    }\n</style>\n<table border=\"1\" class=\"dataframe\">\n  <thead>\n    <tr style=\"text-align: right;\">\n      <th></th>\n      <th>reb_giro</th>\n      <th>nomea</th>\n      <th>COMPRAC</th>\n      <th>RGVACA</th>\n      <th>nomep</th>\n      <th>GSPAI</th>\n      <th>RGPAI</th>\n      <th>nomem</th>\n      <th>GSMAE</th>\n      <th>RGMAE</th>\n      <th>...</th>\n      <th>NOMEVACA</th>\n      <th>DNASC</th>\n      <th>SEXO</th>\n      <th>NOMEPAI</th>\n      <th>NOMEMAE</th>\n      <th>cgen_a</th>\n      <th>comb</th>\n      <th>_merge</th>\n      <th>id_touro</th>\n      <th>id_vaca</th>\n    </tr>\n  </thead>\n  <tbody>\n    <tr>\n      <th>0</th>\n      <td>7461</td>\n      <td>NANA IMPERADOR BAXTER RF SAO F</td>\n      <td>5858</td>\n      <td>6353-AH</td>\n      <td>IMPERADOR BAXTER VOLTA FRIA</td>\n      <td>58</td>\n      <td>1459</td>\n      <td>JURITI HERBY RF SAO FRANCISCO</td>\n      <td>58</td>\n      <td>6877-N</td>\n      <td>...</td>\n      <td>NANA IMPERADOR BAXTER RF SAO FRANCISCO</td>\n      <td>11/03/2015</td>\n      <td>F</td>\n      <td>IMPERADOR BAXTER VOLTA FRIA</td>\n      <td>JURITI HERBY RF SAO FRANCISCO</td>\n      <td>5/8HOL 3/8GIR</td>\n      <td>666</td>\n      <td>both</td>\n      <td>NaN</td>\n      <td>NaN</td>\n    </tr>\n    <tr>\n      <th>1</th>\n      <td>10639</td>\n      <td>LANAA FIV AFTERSHOCK BON.BELEM</td>\n      <td>12</td>\n      <td>9592-AG</td>\n      <td>MS ATLEES SHT AFTERSHOCK - ET</td>\n      <td>10</td>\n      <td>AX129928</td>\n      <td>JOANE FIV KUBERA</td>\n      <td>11</td>\n      <td>ACFG1840</td>\n      <td>...</td>\n      <td>LANCA FIV AFTERSHOCK BON.BELEM</td>\n      <td>22/12/2014</td>\n      <td>F</td>\n      <td>MS ATLEES SHT AFTERSHOCK - ET</td>\n      <td>JOANE FIV KUBERA</td>\n      <td>1/2HOL 1/2GIR</td>\n      <td>519</td>\n      <td>both</td>\n      <td>NaN</td>\n      <td>NaN</td>\n    </tr>\n    <tr>\n      <th>2</th>\n      <td>6039</td>\n      <td>EDILAINE IMPERIO FIV 4303 JARD</td>\n      <td>12</td>\n      <td>AADA0352</td>\n      <td>IMPERIO TE STA EDWIGES</td>\n      <td>11</td>\n      <td>RIG163</td>\n      <td>SERTEC QATAR FABIANA PROGRESS</td>\n      <td>10</td>\n      <td>HBB/B-291392</td>\n      <td>...</td>\n      <td>EDILAINE IMPERIO FIV 4303 JARDIM DO TURVO</td>\n      <td>18/10/2013</td>\n      <td>F</td>\n      <td>IMPERIO TE STA EDWIGES</td>\n      <td>SERTEC QATAR FABIANA PROGRESS</td>\n      <td>1/2HOL 1/2GIR</td>\n      <td>519</td>\n      <td>both</td>\n      <td>NaN</td>\n      <td>NaN</td>\n    </tr>\n    <tr>\n      <th>3</th>\n      <td>1945</td>\n      <td>ARMA MERIDIAN DA MBL</td>\n      <td>12</td>\n      <td>1025-AN</td>\n      <td>SULLY HART MERIDIAN-ET</td>\n      <td>10</td>\n      <td>AX138576</td>\n      <td>FAMA</td>\n      <td>11</td>\n      <td>JNR167</td>\n      <td>...</td>\n      <td>ARMA MERIDIAN DA MBL</td>\n      <td>27/04/2015</td>\n      <td>F</td>\n      <td>SULLY HART MERIDIAN-ET</td>\n      <td>FAMA</td>\n      <td>1/2HOL 1/2GIR</td>\n      <td>519</td>\n      <td>both</td>\n      <td>NaN</td>\n      <td>JNR167</td>\n    </tr>\n    <tr>\n      <th>4</th>\n      <td>73119</td>\n      <td>CELESTE 136 TEATRO FIV COOPERR</td>\n      <td>12</td>\n      <td>1239-BF</td>\n      <td>TEATRO DA SILVANIA</td>\n      <td>11</td>\n      <td>EFC383</td>\n      <td>LAGOS ASTRE QUIMICA 795 TE</td>\n      <td>10</td>\n      <td>BX335536</td>\n      <td>...</td>\n      <td>CELESTE 136 TEATRO FIV COOPERRITA</td>\n      <td>05/02/2016</td>\n      <td>F</td>\n      <td>TEATRO DA SILVANIA</td>\n      <td>LAGOS ASTRE QUIMICA 795 TE</td>\n      <td>1/2HOL 1/2GIR</td>\n      <td>519</td>\n      <td>both</td>\n      <td>NaN</td>\n      <td>GIRO1086826</td>\n    </tr>\n    <tr>\n      <th>...</th>\n      <td>...</td>\n      <td>...</td>\n      <td>...</td>\n      <td>...</td>\n      <td>...</td>\n      <td>...</td>\n      <td>...</td>\n      <td>...</td>\n      <td>...</td>\n      <td>...</td>\n      <td>...</td>\n      <td>...</td>\n      <td>...</td>\n      <td>...</td>\n      <td>...</td>\n      <td>...</td>\n      <td>...</td>\n      <td>...</td>\n      <td>...</td>\n      <td>...</td>\n      <td>...</td>\n    </tr>\n    <tr>\n      <th>554</th>\n      <td>1945</td>\n      <td>JPZ QUIRERA SHAMROCK ASTER FIV</td>\n      <td>12</td>\n      <td>4032-Z</td>\n      <td>LADYS-MANOR PL SHAMROCK-ET</td>\n      <td>10</td>\n      <td>AX135714</td>\n      <td>JPZ ASTER FIV</td>\n      <td>11</td>\n      <td>JPZ64</td>\n      <td>...</td>\n      <td>JPZ QUIRERA SHAMROCK ASTER FIV</td>\n      <td>18/02/2014</td>\n      <td>F</td>\n      <td>LADYS-MANOR PL SHAMROCK-ET</td>\n      <td>JPZ ASTER FIV</td>\n      <td>1/2HOL 1/2GIR</td>\n      <td>519</td>\n      <td>both</td>\n      <td>NaN</td>\n      <td>NaN</td>\n    </tr>\n    <tr>\n      <th>555</th>\n      <td>2381</td>\n      <td>DALIA I FIV BRADLEY JM NOVO HO</td>\n      <td>12</td>\n      <td>4906-AZ</td>\n      <td>ROCKALLI BRADLEY</td>\n      <td>10</td>\n      <td>AX117720</td>\n      <td>DALIA NOVO HORIZONTE</td>\n      <td>11</td>\n      <td>JMCH76</td>\n      <td>...</td>\n      <td>DALIA I FIV BRADLEY JM NOVO HORIZONTE</td>\n      <td>19/08/2017</td>\n      <td>F</td>\n      <td>ROCKALLI BRADLEY</td>\n      <td>DALIA NOVO HORIZONTE</td>\n      <td>1/2HOL 1/2GIR</td>\n      <td>519</td>\n      <td>both</td>\n      <td>NaN</td>\n      <td>JMCH76</td>\n    </tr>\n    <tr>\n      <th>556</th>\n      <td>132</td>\n      <td>QUINTA I COLE AGM TRIUNFO</td>\n      <td>34</td>\n      <td>9243-AG</td>\n      <td>CO-OP TOYSTORY COLE-ET</td>\n      <td>10</td>\n      <td>AX129567</td>\n      <td>QUINTA FIV M</td>\n      <td>12</td>\n      <td>0473-O</td>\n      <td>...</td>\n      <td>QUINTA I COLE AGM TRIUNFO</td>\n      <td>25/04/2015</td>\n      <td>F</td>\n      <td>CO-OP TOYSTORY COLE-ET</td>\n      <td>QUINTA FIV M</td>\n      <td>3/4HOL 1/4GIR</td>\n      <td>795</td>\n      <td>both</td>\n      <td>NaN</td>\n      <td>GIRO1323923</td>\n    </tr>\n    <tr>\n      <th>557</th>\n      <td>6915</td>\n      <td>LIA DAS ARABIAS</td>\n      <td>5858</td>\n      <td>6125-BR</td>\n      <td>TURBO DAS ARABIAS</td>\n      <td>5858</td>\n      <td>0079</td>\n      <td>LILIKA DAS ARABIAS</td>\n      <td>58</td>\n      <td>4916-AW</td>\n      <td>...</td>\n      <td>LIA DAS ARABIAS</td>\n      <td>13/06/2019</td>\n      <td>F</td>\n      <td>TURBO DAS ARABIAS</td>\n      <td>LILIKA DAS ARABIAS</td>\n      <td>5/8HOL 3/8GIR</td>\n      <td>666</td>\n      <td>both</td>\n      <td>NaN</td>\n      <td>NaN</td>\n    </tr>\n    <tr>\n      <th>558</th>\n      <td>6029</td>\n      <td>GERMANA FEBO FR RECREIO</td>\n      <td>5858</td>\n      <td>9069-AS</td>\n      <td>FEBO FR RECREIO</td>\n      <td>58</td>\n      <td>6300-N</td>\n      <td>CAMPANHA FR RECREIO</td>\n      <td>58</td>\n      <td>6180-N</td>\n      <td>...</td>\n      <td>GERMANA FEBO FR RECREIO</td>\n      <td>16/07/2016</td>\n      <td>F</td>\n      <td>FEBO FR RECREIO</td>\n      <td>CAMPANHA FR RECREIO</td>\n      <td>5/8HOL 3/8GIR</td>\n      <td>666</td>\n      <td>both</td>\n      <td>NaN</td>\n      <td>NaN</td>\n    </tr>\n  </tbody>\n</table>\n<p>559 rows × 63 columns</p>\n</div>"
     },
     "execution_count": 84,
     "metadata": {},
     "output_type": "execute_result"
    }
   ],
   "source": [
    "df_animais_sem_id_completo = busca_id_pai_mae_na_genealogia_embrapa(df_animais_sem_id_completo)\n",
    "df_animais_sem_id_completo"
   ],
   "metadata": {
    "collapsed": false
   }
  },
  {
   "cell_type": "code",
   "execution_count": 85,
   "outputs": [
    {
     "data": {
      "text/plain": "     reb_giro                            nomea  COMPRAC    RGVACA  \\\n0        7461   NANA IMPERADOR BAXTER RF SAO F     5858   6353-AH   \n1       10639  LANAA FIV AFTERSHOCK BON.BELEM       12   9592-AG   \n2        6039   EDILAINE IMPERIO FIV 4303 JARD       12  AADA0352   \n3        1945             ARMA MERIDIAN DA MBL       12   1025-AN   \n4       73119   CELESTE 136 TEATRO FIV COOPERR       12   1239-BF   \n..        ...                              ...      ...       ...   \n554      1945   JPZ QUIRERA SHAMROCK ASTER FIV       12    4032-Z   \n555      2381   DALIA I FIV BRADLEY JM NOVO HO       12   4906-AZ   \n556       132        QUINTA I COLE AGM TRIUNFO       34   9243-AG   \n557      6915                  LIA DAS ARABIAS     5858   6125-BR   \n558      6029          GERMANA FEBO FR RECREIO     5858   9069-AS   \n\n                             nomep  GSPAI     RGPAI  \\\n0      IMPERADOR BAXTER VOLTA FRIA     58      1459   \n1    MS ATLEES SHT AFTERSHOCK - ET     10  AX129928   \n2           IMPERIO TE STA EDWIGES     11    RIG163   \n3           SULLY HART MERIDIAN-ET     10  AX138576   \n4               TEATRO DA SILVANIA     11    EFC383   \n..                             ...    ...       ...   \n554     LADYS-MANOR PL SHAMROCK-ET     10  AX135714   \n555               ROCKALLI BRADLEY     10  AX117720   \n556         CO-OP TOYSTORY COLE-ET     10  AX129567   \n557              TURBO DAS ARABIAS   5858      0079   \n558                FEBO FR RECREIO     58    6300-N   \n\n                             nomem  GSMAE         RGMAE  ...    AN  \\\n0    JURITI HERBY RF SAO FRANCISCO     58        6877-N  ...  2015   \n1                 JOANE FIV KUBERA     11      ACFG1840  ...  2014   \n2    SERTEC QATAR FABIANA PROGRESS     10  HBB/B-291392  ...  2013   \n3                             FAMA     11        JNR167  ...  2015   \n4       LAGOS ASTRE QUIMICA 795 TE     10      BX335536  ...  2016   \n..                             ...    ...           ...  ...   ...   \n554                  JPZ ASTER FIV     11         JPZ64  ...  2014   \n555           DALIA NOVO HORIZONTE     11        JMCH76  ...  2017   \n556                   QUINTA FIV M     12        0473-O  ...  2015   \n557             LILIKA DAS ARABIAS     58       4916-AW  ...  2019   \n558            CAMPANHA FR RECREIO     58        6180-N  ...  2016   \n\n                                      NOMEVACA       DNASC SEXO  \\\n0       NANA IMPERADOR BAXTER RF SAO FRANCISCO  11/03/2015    F   \n1               LANCA FIV AFTERSHOCK BON.BELEM  22/12/2014    F   \n2    EDILAINE IMPERIO FIV 4303 JARDIM DO TURVO  18/10/2013    F   \n3                         ARMA MERIDIAN DA MBL  27/04/2015    F   \n4            CELESTE 136 TEATRO FIV COOPERRITA  05/02/2016    F   \n..                                         ...         ...  ...   \n554             JPZ QUIRERA SHAMROCK ASTER FIV  18/02/2014    F   \n555      DALIA I FIV BRADLEY JM NOVO HORIZONTE  19/08/2017    F   \n556                  QUINTA I COLE AGM TRIUNFO  25/04/2015    F   \n557                            LIA DAS ARABIAS  13/06/2019    F   \n558                    GERMANA FEBO FR RECREIO  16/07/2016    F   \n\n                           NOMEPAI                        NOMEMAE  \\\n0      IMPERADOR BAXTER VOLTA FRIA  JURITI HERBY RF SAO FRANCISCO   \n1    MS ATLEES SHT AFTERSHOCK - ET               JOANE FIV KUBERA   \n2           IMPERIO TE STA EDWIGES  SERTEC QATAR FABIANA PROGRESS   \n3           SULLY HART MERIDIAN-ET                           FAMA   \n4               TEATRO DA SILVANIA     LAGOS ASTRE QUIMICA 795 TE   \n..                             ...                            ...   \n554     LADYS-MANOR PL SHAMROCK-ET                  JPZ ASTER FIV   \n555               ROCKALLI BRADLEY           DALIA NOVO HORIZONTE   \n556         CO-OP TOYSTORY COLE-ET                   QUINTA FIV M   \n557              TURBO DAS ARABIAS             LILIKA DAS ARABIAS   \n558                FEBO FR RECREIO            CAMPANHA FR RECREIO   \n\n            cgen_a  comb  id_touro      id_vaca  \n0    5/8HOL 3/8GIR   666       NaN          NaN  \n1    1/2HOL 1/2GIR   519       NaN     ACFG1840  \n2    1/2HOL 1/2GIR   519    RIG163          NaN  \n3    1/2HOL 1/2GIR   519       NaN       JNR167  \n4    1/2HOL 1/2GIR   519    EFC383  GIRO1086826  \n..             ...   ...       ...          ...  \n554  1/2HOL 1/2GIR   519       NaN        JPZ64  \n555  1/2HOL 1/2GIR   519       NaN       JMCH76  \n556  3/4HOL 1/4GIR   795       NaN  GIRO1323923  \n557  5/8HOL 3/8GIR   666       NaN          NaN  \n558  5/8HOL 3/8GIR   666       NaN          NaN  \n\n[559 rows x 62 columns]",
      "text/html": "<div>\n<style scoped>\n    .dataframe tbody tr th:only-of-type {\n        vertical-align: middle;\n    }\n\n    .dataframe tbody tr th {\n        vertical-align: top;\n    }\n\n    .dataframe thead th {\n        text-align: right;\n    }\n</style>\n<table border=\"1\" class=\"dataframe\">\n  <thead>\n    <tr style=\"text-align: right;\">\n      <th></th>\n      <th>reb_giro</th>\n      <th>nomea</th>\n      <th>COMPRAC</th>\n      <th>RGVACA</th>\n      <th>nomep</th>\n      <th>GSPAI</th>\n      <th>RGPAI</th>\n      <th>nomem</th>\n      <th>GSMAE</th>\n      <th>RGMAE</th>\n      <th>...</th>\n      <th>AN</th>\n      <th>NOMEVACA</th>\n      <th>DNASC</th>\n      <th>SEXO</th>\n      <th>NOMEPAI</th>\n      <th>NOMEMAE</th>\n      <th>cgen_a</th>\n      <th>comb</th>\n      <th>id_touro</th>\n      <th>id_vaca</th>\n    </tr>\n  </thead>\n  <tbody>\n    <tr>\n      <th>0</th>\n      <td>7461</td>\n      <td>NANA IMPERADOR BAXTER RF SAO F</td>\n      <td>5858</td>\n      <td>6353-AH</td>\n      <td>IMPERADOR BAXTER VOLTA FRIA</td>\n      <td>58</td>\n      <td>1459</td>\n      <td>JURITI HERBY RF SAO FRANCISCO</td>\n      <td>58</td>\n      <td>6877-N</td>\n      <td>...</td>\n      <td>2015</td>\n      <td>NANA IMPERADOR BAXTER RF SAO FRANCISCO</td>\n      <td>11/03/2015</td>\n      <td>F</td>\n      <td>IMPERADOR BAXTER VOLTA FRIA</td>\n      <td>JURITI HERBY RF SAO FRANCISCO</td>\n      <td>5/8HOL 3/8GIR</td>\n      <td>666</td>\n      <td>NaN</td>\n      <td>NaN</td>\n    </tr>\n    <tr>\n      <th>1</th>\n      <td>10639</td>\n      <td>LANAA FIV AFTERSHOCK BON.BELEM</td>\n      <td>12</td>\n      <td>9592-AG</td>\n      <td>MS ATLEES SHT AFTERSHOCK - ET</td>\n      <td>10</td>\n      <td>AX129928</td>\n      <td>JOANE FIV KUBERA</td>\n      <td>11</td>\n      <td>ACFG1840</td>\n      <td>...</td>\n      <td>2014</td>\n      <td>LANCA FIV AFTERSHOCK BON.BELEM</td>\n      <td>22/12/2014</td>\n      <td>F</td>\n      <td>MS ATLEES SHT AFTERSHOCK - ET</td>\n      <td>JOANE FIV KUBERA</td>\n      <td>1/2HOL 1/2GIR</td>\n      <td>519</td>\n      <td>NaN</td>\n      <td>ACFG1840</td>\n    </tr>\n    <tr>\n      <th>2</th>\n      <td>6039</td>\n      <td>EDILAINE IMPERIO FIV 4303 JARD</td>\n      <td>12</td>\n      <td>AADA0352</td>\n      <td>IMPERIO TE STA EDWIGES</td>\n      <td>11</td>\n      <td>RIG163</td>\n      <td>SERTEC QATAR FABIANA PROGRESS</td>\n      <td>10</td>\n      <td>HBB/B-291392</td>\n      <td>...</td>\n      <td>2013</td>\n      <td>EDILAINE IMPERIO FIV 4303 JARDIM DO TURVO</td>\n      <td>18/10/2013</td>\n      <td>F</td>\n      <td>IMPERIO TE STA EDWIGES</td>\n      <td>SERTEC QATAR FABIANA PROGRESS</td>\n      <td>1/2HOL 1/2GIR</td>\n      <td>519</td>\n      <td>RIG163</td>\n      <td>NaN</td>\n    </tr>\n    <tr>\n      <th>3</th>\n      <td>1945</td>\n      <td>ARMA MERIDIAN DA MBL</td>\n      <td>12</td>\n      <td>1025-AN</td>\n      <td>SULLY HART MERIDIAN-ET</td>\n      <td>10</td>\n      <td>AX138576</td>\n      <td>FAMA</td>\n      <td>11</td>\n      <td>JNR167</td>\n      <td>...</td>\n      <td>2015</td>\n      <td>ARMA MERIDIAN DA MBL</td>\n      <td>27/04/2015</td>\n      <td>F</td>\n      <td>SULLY HART MERIDIAN-ET</td>\n      <td>FAMA</td>\n      <td>1/2HOL 1/2GIR</td>\n      <td>519</td>\n      <td>NaN</td>\n      <td>JNR167</td>\n    </tr>\n    <tr>\n      <th>4</th>\n      <td>73119</td>\n      <td>CELESTE 136 TEATRO FIV COOPERR</td>\n      <td>12</td>\n      <td>1239-BF</td>\n      <td>TEATRO DA SILVANIA</td>\n      <td>11</td>\n      <td>EFC383</td>\n      <td>LAGOS ASTRE QUIMICA 795 TE</td>\n      <td>10</td>\n      <td>BX335536</td>\n      <td>...</td>\n      <td>2016</td>\n      <td>CELESTE 136 TEATRO FIV COOPERRITA</td>\n      <td>05/02/2016</td>\n      <td>F</td>\n      <td>TEATRO DA SILVANIA</td>\n      <td>LAGOS ASTRE QUIMICA 795 TE</td>\n      <td>1/2HOL 1/2GIR</td>\n      <td>519</td>\n      <td>EFC383</td>\n      <td>GIRO1086826</td>\n    </tr>\n    <tr>\n      <th>...</th>\n      <td>...</td>\n      <td>...</td>\n      <td>...</td>\n      <td>...</td>\n      <td>...</td>\n      <td>...</td>\n      <td>...</td>\n      <td>...</td>\n      <td>...</td>\n      <td>...</td>\n      <td>...</td>\n      <td>...</td>\n      <td>...</td>\n      <td>...</td>\n      <td>...</td>\n      <td>...</td>\n      <td>...</td>\n      <td>...</td>\n      <td>...</td>\n      <td>...</td>\n      <td>...</td>\n    </tr>\n    <tr>\n      <th>554</th>\n      <td>1945</td>\n      <td>JPZ QUIRERA SHAMROCK ASTER FIV</td>\n      <td>12</td>\n      <td>4032-Z</td>\n      <td>LADYS-MANOR PL SHAMROCK-ET</td>\n      <td>10</td>\n      <td>AX135714</td>\n      <td>JPZ ASTER FIV</td>\n      <td>11</td>\n      <td>JPZ64</td>\n      <td>...</td>\n      <td>2014</td>\n      <td>JPZ QUIRERA SHAMROCK ASTER FIV</td>\n      <td>18/02/2014</td>\n      <td>F</td>\n      <td>LADYS-MANOR PL SHAMROCK-ET</td>\n      <td>JPZ ASTER FIV</td>\n      <td>1/2HOL 1/2GIR</td>\n      <td>519</td>\n      <td>NaN</td>\n      <td>JPZ64</td>\n    </tr>\n    <tr>\n      <th>555</th>\n      <td>2381</td>\n      <td>DALIA I FIV BRADLEY JM NOVO HO</td>\n      <td>12</td>\n      <td>4906-AZ</td>\n      <td>ROCKALLI BRADLEY</td>\n      <td>10</td>\n      <td>AX117720</td>\n      <td>DALIA NOVO HORIZONTE</td>\n      <td>11</td>\n      <td>JMCH76</td>\n      <td>...</td>\n      <td>2017</td>\n      <td>DALIA I FIV BRADLEY JM NOVO HORIZONTE</td>\n      <td>19/08/2017</td>\n      <td>F</td>\n      <td>ROCKALLI BRADLEY</td>\n      <td>DALIA NOVO HORIZONTE</td>\n      <td>1/2HOL 1/2GIR</td>\n      <td>519</td>\n      <td>NaN</td>\n      <td>JMCH76</td>\n    </tr>\n    <tr>\n      <th>556</th>\n      <td>132</td>\n      <td>QUINTA I COLE AGM TRIUNFO</td>\n      <td>34</td>\n      <td>9243-AG</td>\n      <td>CO-OP TOYSTORY COLE-ET</td>\n      <td>10</td>\n      <td>AX129567</td>\n      <td>QUINTA FIV M</td>\n      <td>12</td>\n      <td>0473-O</td>\n      <td>...</td>\n      <td>2015</td>\n      <td>QUINTA I COLE AGM TRIUNFO</td>\n      <td>25/04/2015</td>\n      <td>F</td>\n      <td>CO-OP TOYSTORY COLE-ET</td>\n      <td>QUINTA FIV M</td>\n      <td>3/4HOL 1/4GIR</td>\n      <td>795</td>\n      <td>NaN</td>\n      <td>GIRO1323923</td>\n    </tr>\n    <tr>\n      <th>557</th>\n      <td>6915</td>\n      <td>LIA DAS ARABIAS</td>\n      <td>5858</td>\n      <td>6125-BR</td>\n      <td>TURBO DAS ARABIAS</td>\n      <td>5858</td>\n      <td>0079</td>\n      <td>LILIKA DAS ARABIAS</td>\n      <td>58</td>\n      <td>4916-AW</td>\n      <td>...</td>\n      <td>2019</td>\n      <td>LIA DAS ARABIAS</td>\n      <td>13/06/2019</td>\n      <td>F</td>\n      <td>TURBO DAS ARABIAS</td>\n      <td>LILIKA DAS ARABIAS</td>\n      <td>5/8HOL 3/8GIR</td>\n      <td>666</td>\n      <td>NaN</td>\n      <td>NaN</td>\n    </tr>\n    <tr>\n      <th>558</th>\n      <td>6029</td>\n      <td>GERMANA FEBO FR RECREIO</td>\n      <td>5858</td>\n      <td>9069-AS</td>\n      <td>FEBO FR RECREIO</td>\n      <td>58</td>\n      <td>6300-N</td>\n      <td>CAMPANHA FR RECREIO</td>\n      <td>58</td>\n      <td>6180-N</td>\n      <td>...</td>\n      <td>2016</td>\n      <td>GERMANA FEBO FR RECREIO</td>\n      <td>16/07/2016</td>\n      <td>F</td>\n      <td>FEBO FR RECREIO</td>\n      <td>CAMPANHA FR RECREIO</td>\n      <td>5/8HOL 3/8GIR</td>\n      <td>666</td>\n      <td>NaN</td>\n      <td>NaN</td>\n    </tr>\n  </tbody>\n</table>\n<p>559 rows × 62 columns</p>\n</div>"
     },
     "execution_count": 85,
     "metadata": {},
     "output_type": "execute_result"
    }
   ],
   "source": [
    "df_animais_sem_id_completo = busca_id_touro_e_id_vaca_pelo_cod_prod_genealogia_embrapa(df_animais_sem_id_completo)\n",
    "df_animais_sem_id_completo"
   ],
   "metadata": {
    "collapsed": false
   }
  },
  {
   "cell_type": "code",
   "execution_count": 86,
   "outputs": [
    {
     "data": {
      "text/plain": "     reb_giro                            nomea  COMPRAC    RGVACA  \\\n0        7461   NANA IMPERADOR BAXTER RF SAO F     5858   6353-AH   \n1       10639  LANAA FIV AFTERSHOCK BON.BELEM       12   9592-AG   \n2        6039   EDILAINE IMPERIO FIV 4303 JARD       12  AADA0352   \n3        1945             ARMA MERIDIAN DA MBL       12   1025-AN   \n4       73119   CELESTE 136 TEATRO FIV COOPERR       12   1239-BF   \n..        ...                              ...      ...       ...   \n554      1945   JPZ QUIRERA SHAMROCK ASTER FIV       12    4032-Z   \n555      2381   DALIA I FIV BRADLEY JM NOVO HO       12   4906-AZ   \n556       132        QUINTA I COLE AGM TRIUNFO       34   9243-AG   \n557      6915                  LIA DAS ARABIAS     5858   6125-BR   \n558      6029          GERMANA FEBO FR RECREIO     5858   9069-AS   \n\n                             nomep  GSPAI     RGPAI  \\\n0      IMPERADOR BAXTER VOLTA FRIA     58      1459   \n1    MS ATLEES SHT AFTERSHOCK - ET     10  AX129928   \n2           IMPERIO TE STA EDWIGES     11    RIG163   \n3           SULLY HART MERIDIAN-ET     10  AX138576   \n4               TEATRO DA SILVANIA     11    EFC383   \n..                             ...    ...       ...   \n554     LADYS-MANOR PL SHAMROCK-ET     10  AX135714   \n555               ROCKALLI BRADLEY     10  AX117720   \n556         CO-OP TOYSTORY COLE-ET     10  AX129567   \n557              TURBO DAS ARABIAS   5858      0079   \n558                FEBO FR RECREIO     58    6300-N   \n\n                             nomem  GSMAE         RGMAE  ...    AN  \\\n0    JURITI HERBY RF SAO FRANCISCO     58        6877-N  ...  2015   \n1                 JOANE FIV KUBERA     11      ACFG1840  ...  2014   \n2    SERTEC QATAR FABIANA PROGRESS     10  HBB/B-291392  ...  2013   \n3                             FAMA     11        JNR167  ...  2015   \n4       LAGOS ASTRE QUIMICA 795 TE     10      BX335536  ...  2016   \n..                             ...    ...           ...  ...   ...   \n554                  JPZ ASTER FIV     11         JPZ64  ...  2014   \n555           DALIA NOVO HORIZONTE     11        JMCH76  ...  2017   \n556                   QUINTA FIV M     12        0473-O  ...  2015   \n557             LILIKA DAS ARABIAS     58       4916-AW  ...  2019   \n558            CAMPANHA FR RECREIO     58        6180-N  ...  2016   \n\n                                      NOMEVACA       DNASC SEXO  \\\n0       NANA IMPERADOR BAXTER RF SAO FRANCISCO  11/03/2015    F   \n1               LANCA FIV AFTERSHOCK BON.BELEM  22/12/2014    F   \n2    EDILAINE IMPERIO FIV 4303 JARDIM DO TURVO  18/10/2013    F   \n3                         ARMA MERIDIAN DA MBL  27/04/2015    F   \n4            CELESTE 136 TEATRO FIV COOPERRITA  05/02/2016    F   \n..                                         ...         ...  ...   \n554             JPZ QUIRERA SHAMROCK ASTER FIV  18/02/2014    F   \n555      DALIA I FIV BRADLEY JM NOVO HORIZONTE  19/08/2017    F   \n556                  QUINTA I COLE AGM TRIUNFO  25/04/2015    F   \n557                            LIA DAS ARABIAS  13/06/2019    F   \n558                    GERMANA FEBO FR RECREIO  16/07/2016    F   \n\n                           NOMEPAI                        NOMEMAE  \\\n0      IMPERADOR BAXTER VOLTA FRIA  JURITI HERBY RF SAO FRANCISCO   \n1    MS ATLEES SHT AFTERSHOCK - ET               JOANE FIV KUBERA   \n2           IMPERIO TE STA EDWIGES  SERTEC QATAR FABIANA PROGRESS   \n3           SULLY HART MERIDIAN-ET                           FAMA   \n4               TEATRO DA SILVANIA     LAGOS ASTRE QUIMICA 795 TE   \n..                             ...                            ...   \n554     LADYS-MANOR PL SHAMROCK-ET                  JPZ ASTER FIV   \n555               ROCKALLI BRADLEY           DALIA NOVO HORIZONTE   \n556         CO-OP TOYSTORY COLE-ET                   QUINTA FIV M   \n557              TURBO DAS ARABIAS             LILIKA DAS ARABIAS   \n558                FEBO FR RECREIO            CAMPANHA FR RECREIO   \n\n            cgen_a  comb  id_touro      id_vaca  \n0    5/8HOL 3/8GIR   666       NaN          NaN  \n1    1/2HOL 1/2GIR   519       NaN     ACFG1840  \n2    1/2HOL 1/2GIR   519    RIG163          NaN  \n3    1/2HOL 1/2GIR   519       NaN       JNR167  \n4    1/2HOL 1/2GIR   519    EFC383  GIRO1086826  \n..             ...   ...       ...          ...  \n554  1/2HOL 1/2GIR   519       NaN        JPZ64  \n555  1/2HOL 1/2GIR   519       NaN       JMCH76  \n556  3/4HOL 1/4GIR   795       NaN  GIRO1323923  \n557  5/8HOL 3/8GIR   666       NaN          NaN  \n558  5/8HOL 3/8GIR   666       NaN          NaN  \n\n[559 rows x 62 columns]",
      "text/html": "<div>\n<style scoped>\n    .dataframe tbody tr th:only-of-type {\n        vertical-align: middle;\n    }\n\n    .dataframe tbody tr th {\n        vertical-align: top;\n    }\n\n    .dataframe thead th {\n        text-align: right;\n    }\n</style>\n<table border=\"1\" class=\"dataframe\">\n  <thead>\n    <tr style=\"text-align: right;\">\n      <th></th>\n      <th>reb_giro</th>\n      <th>nomea</th>\n      <th>COMPRAC</th>\n      <th>RGVACA</th>\n      <th>nomep</th>\n      <th>GSPAI</th>\n      <th>RGPAI</th>\n      <th>nomem</th>\n      <th>GSMAE</th>\n      <th>RGMAE</th>\n      <th>...</th>\n      <th>AN</th>\n      <th>NOMEVACA</th>\n      <th>DNASC</th>\n      <th>SEXO</th>\n      <th>NOMEPAI</th>\n      <th>NOMEMAE</th>\n      <th>cgen_a</th>\n      <th>comb</th>\n      <th>id_touro</th>\n      <th>id_vaca</th>\n    </tr>\n  </thead>\n  <tbody>\n    <tr>\n      <th>0</th>\n      <td>7461</td>\n      <td>NANA IMPERADOR BAXTER RF SAO F</td>\n      <td>5858</td>\n      <td>6353-AH</td>\n      <td>IMPERADOR BAXTER VOLTA FRIA</td>\n      <td>58</td>\n      <td>1459</td>\n      <td>JURITI HERBY RF SAO FRANCISCO</td>\n      <td>58</td>\n      <td>6877-N</td>\n      <td>...</td>\n      <td>2015</td>\n      <td>NANA IMPERADOR BAXTER RF SAO FRANCISCO</td>\n      <td>11/03/2015</td>\n      <td>F</td>\n      <td>IMPERADOR BAXTER VOLTA FRIA</td>\n      <td>JURITI HERBY RF SAO FRANCISCO</td>\n      <td>5/8HOL 3/8GIR</td>\n      <td>666</td>\n      <td>NaN</td>\n      <td>NaN</td>\n    </tr>\n    <tr>\n      <th>1</th>\n      <td>10639</td>\n      <td>LANAA FIV AFTERSHOCK BON.BELEM</td>\n      <td>12</td>\n      <td>9592-AG</td>\n      <td>MS ATLEES SHT AFTERSHOCK - ET</td>\n      <td>10</td>\n      <td>AX129928</td>\n      <td>JOANE FIV KUBERA</td>\n      <td>11</td>\n      <td>ACFG1840</td>\n      <td>...</td>\n      <td>2014</td>\n      <td>LANCA FIV AFTERSHOCK BON.BELEM</td>\n      <td>22/12/2014</td>\n      <td>F</td>\n      <td>MS ATLEES SHT AFTERSHOCK - ET</td>\n      <td>JOANE FIV KUBERA</td>\n      <td>1/2HOL 1/2GIR</td>\n      <td>519</td>\n      <td>NaN</td>\n      <td>ACFG1840</td>\n    </tr>\n    <tr>\n      <th>2</th>\n      <td>6039</td>\n      <td>EDILAINE IMPERIO FIV 4303 JARD</td>\n      <td>12</td>\n      <td>AADA0352</td>\n      <td>IMPERIO TE STA EDWIGES</td>\n      <td>11</td>\n      <td>RIG163</td>\n      <td>SERTEC QATAR FABIANA PROGRESS</td>\n      <td>10</td>\n      <td>HBB/B-291392</td>\n      <td>...</td>\n      <td>2013</td>\n      <td>EDILAINE IMPERIO FIV 4303 JARDIM DO TURVO</td>\n      <td>18/10/2013</td>\n      <td>F</td>\n      <td>IMPERIO TE STA EDWIGES</td>\n      <td>SERTEC QATAR FABIANA PROGRESS</td>\n      <td>1/2HOL 1/2GIR</td>\n      <td>519</td>\n      <td>RIG163</td>\n      <td>NaN</td>\n    </tr>\n    <tr>\n      <th>3</th>\n      <td>1945</td>\n      <td>ARMA MERIDIAN DA MBL</td>\n      <td>12</td>\n      <td>1025-AN</td>\n      <td>SULLY HART MERIDIAN-ET</td>\n      <td>10</td>\n      <td>AX138576</td>\n      <td>FAMA</td>\n      <td>11</td>\n      <td>JNR167</td>\n      <td>...</td>\n      <td>2015</td>\n      <td>ARMA MERIDIAN DA MBL</td>\n      <td>27/04/2015</td>\n      <td>F</td>\n      <td>SULLY HART MERIDIAN-ET</td>\n      <td>FAMA</td>\n      <td>1/2HOL 1/2GIR</td>\n      <td>519</td>\n      <td>NaN</td>\n      <td>JNR167</td>\n    </tr>\n    <tr>\n      <th>4</th>\n      <td>73119</td>\n      <td>CELESTE 136 TEATRO FIV COOPERR</td>\n      <td>12</td>\n      <td>1239-BF</td>\n      <td>TEATRO DA SILVANIA</td>\n      <td>11</td>\n      <td>EFC383</td>\n      <td>LAGOS ASTRE QUIMICA 795 TE</td>\n      <td>10</td>\n      <td>BX335536</td>\n      <td>...</td>\n      <td>2016</td>\n      <td>CELESTE 136 TEATRO FIV COOPERRITA</td>\n      <td>05/02/2016</td>\n      <td>F</td>\n      <td>TEATRO DA SILVANIA</td>\n      <td>LAGOS ASTRE QUIMICA 795 TE</td>\n      <td>1/2HOL 1/2GIR</td>\n      <td>519</td>\n      <td>EFC383</td>\n      <td>GIRO1086826</td>\n    </tr>\n    <tr>\n      <th>...</th>\n      <td>...</td>\n      <td>...</td>\n      <td>...</td>\n      <td>...</td>\n      <td>...</td>\n      <td>...</td>\n      <td>...</td>\n      <td>...</td>\n      <td>...</td>\n      <td>...</td>\n      <td>...</td>\n      <td>...</td>\n      <td>...</td>\n      <td>...</td>\n      <td>...</td>\n      <td>...</td>\n      <td>...</td>\n      <td>...</td>\n      <td>...</td>\n      <td>...</td>\n      <td>...</td>\n    </tr>\n    <tr>\n      <th>554</th>\n      <td>1945</td>\n      <td>JPZ QUIRERA SHAMROCK ASTER FIV</td>\n      <td>12</td>\n      <td>4032-Z</td>\n      <td>LADYS-MANOR PL SHAMROCK-ET</td>\n      <td>10</td>\n      <td>AX135714</td>\n      <td>JPZ ASTER FIV</td>\n      <td>11</td>\n      <td>JPZ64</td>\n      <td>...</td>\n      <td>2014</td>\n      <td>JPZ QUIRERA SHAMROCK ASTER FIV</td>\n      <td>18/02/2014</td>\n      <td>F</td>\n      <td>LADYS-MANOR PL SHAMROCK-ET</td>\n      <td>JPZ ASTER FIV</td>\n      <td>1/2HOL 1/2GIR</td>\n      <td>519</td>\n      <td>NaN</td>\n      <td>JPZ64</td>\n    </tr>\n    <tr>\n      <th>555</th>\n      <td>2381</td>\n      <td>DALIA I FIV BRADLEY JM NOVO HO</td>\n      <td>12</td>\n      <td>4906-AZ</td>\n      <td>ROCKALLI BRADLEY</td>\n      <td>10</td>\n      <td>AX117720</td>\n      <td>DALIA NOVO HORIZONTE</td>\n      <td>11</td>\n      <td>JMCH76</td>\n      <td>...</td>\n      <td>2017</td>\n      <td>DALIA I FIV BRADLEY JM NOVO HORIZONTE</td>\n      <td>19/08/2017</td>\n      <td>F</td>\n      <td>ROCKALLI BRADLEY</td>\n      <td>DALIA NOVO HORIZONTE</td>\n      <td>1/2HOL 1/2GIR</td>\n      <td>519</td>\n      <td>NaN</td>\n      <td>JMCH76</td>\n    </tr>\n    <tr>\n      <th>556</th>\n      <td>132</td>\n      <td>QUINTA I COLE AGM TRIUNFO</td>\n      <td>34</td>\n      <td>9243-AG</td>\n      <td>CO-OP TOYSTORY COLE-ET</td>\n      <td>10</td>\n      <td>AX129567</td>\n      <td>QUINTA FIV M</td>\n      <td>12</td>\n      <td>0473-O</td>\n      <td>...</td>\n      <td>2015</td>\n      <td>QUINTA I COLE AGM TRIUNFO</td>\n      <td>25/04/2015</td>\n      <td>F</td>\n      <td>CO-OP TOYSTORY COLE-ET</td>\n      <td>QUINTA FIV M</td>\n      <td>3/4HOL 1/4GIR</td>\n      <td>795</td>\n      <td>NaN</td>\n      <td>GIRO1323923</td>\n    </tr>\n    <tr>\n      <th>557</th>\n      <td>6915</td>\n      <td>LIA DAS ARABIAS</td>\n      <td>5858</td>\n      <td>6125-BR</td>\n      <td>TURBO DAS ARABIAS</td>\n      <td>5858</td>\n      <td>0079</td>\n      <td>LILIKA DAS ARABIAS</td>\n      <td>58</td>\n      <td>4916-AW</td>\n      <td>...</td>\n      <td>2019</td>\n      <td>LIA DAS ARABIAS</td>\n      <td>13/06/2019</td>\n      <td>F</td>\n      <td>TURBO DAS ARABIAS</td>\n      <td>LILIKA DAS ARABIAS</td>\n      <td>5/8HOL 3/8GIR</td>\n      <td>666</td>\n      <td>NaN</td>\n      <td>NaN</td>\n    </tr>\n    <tr>\n      <th>558</th>\n      <td>6029</td>\n      <td>GERMANA FEBO FR RECREIO</td>\n      <td>5858</td>\n      <td>9069-AS</td>\n      <td>FEBO FR RECREIO</td>\n      <td>58</td>\n      <td>6300-N</td>\n      <td>CAMPANHA FR RECREIO</td>\n      <td>58</td>\n      <td>6180-N</td>\n      <td>...</td>\n      <td>2016</td>\n      <td>GERMANA FEBO FR RECREIO</td>\n      <td>16/07/2016</td>\n      <td>F</td>\n      <td>FEBO FR RECREIO</td>\n      <td>CAMPANHA FR RECREIO</td>\n      <td>5/8HOL 3/8GIR</td>\n      <td>666</td>\n      <td>NaN</td>\n      <td>NaN</td>\n    </tr>\n  </tbody>\n</table>\n<p>559 rows × 62 columns</p>\n</div>"
     },
     "execution_count": 86,
     "metadata": {},
     "output_type": "execute_result"
    }
   ],
   "source": [
    "df_animais_sem_id_completo = pega_id_produto_genealogia_embrapa_registro_3_letras_e_GSPAI_GSMAE_11(df_animais_sem_id_completo)\n",
    "df_animais_sem_id_completo"
   ],
   "metadata": {
    "collapsed": false
   }
  },
  {
   "cell_type": "code",
   "execution_count": 87,
   "outputs": [
    {
     "data": {
      "text/plain": "   reb_giro                nomea  COMPRAC    RGVACA                  nomep  \\\n0      5191     MENINA MODELO 2K       12   4833-AR  MODELO TE DE BRASILIA   \n1      5191    MELISSA MODELO 2K       12   5416-AR  MODELO TE DE BRASILIA   \n2      1945  BROMELIA FIV DO JRD       11    JRDG28       RADAR DOS POCOES   \n3      5407            GARFIEIRA       11  PVBG1140       RADAR DOS POCOES   \n4      5407   FORTUNA DA CRISTAL       11   PVBG855       RADAR DOS POCOES   \n5      8030  VENTOSA CADARSO FZD       14   4241-AQ          CADARSO C-054   \n\n   GSPAI  RGPAI                  nomem  GSMAE   RGMAE  ...  SEXO  \\\n0     11  B5213          FEITICEIRA 2K     10  C-1072  ...     F   \n1     11  B5213                IOGA 2K     10  C-1073  ...     F   \n2     11  A7368              PROFANA 6     11   EBQG1  ...     F   \n3     11  A7368   LARA FIV DA SADONANA     11  SDNA34  ...     F   \n4     11  A7368    RADULA TE DO GAVIAO     11  GAV980  ...   NaN   \n5     11    B32  SAVANA PLANET FIV FZD     12  4961-U  ...   NaN   \n\n                     NOMEPAI             NOMEMAE         cgen_a   comb  \\\n0  SANDY-VALLEY BOLTON 2 ETN              APOSTA  1/2HOL 1/2GIR  519.0   \n1          DE-SU GILLESPY-ET              APOSTA  1/2HOL 1/2GIR  519.0   \n2       EDG SS SLADE 8314-ET  PL ZARA NAPOLITANO  1/2HOL 1/2GIR  519.0   \n3     CROTEAU LESPERRON UNIX   VAIDOSA F.INDIANA  1/2HOL 1/2GIR  519.0   \n4                        NaN                 NaN            NaN    NaN   \n5                        NaN                 NaN            NaN    NaN   \n\n   id_touro      id_vaca  nome4caracteres  id_vaca_encontrado  registro  \n0       NaN       618828             APOS              618828     E1438  \n1       NaN       618828             APOS              618828     E1438  \n2       NaN       155945             PL Z              155945     F6406  \n3       NaN  GIRO1179905             VAID         GIRO1179905      G726  \n4       NaN          NaN              NaN                 NaN       NaN  \n5       NaN          NaN              NaN                 NaN       NaN  \n\n[6 rows x 130 columns]",
      "text/html": "<div>\n<style scoped>\n    .dataframe tbody tr th:only-of-type {\n        vertical-align: middle;\n    }\n\n    .dataframe tbody tr th {\n        vertical-align: top;\n    }\n\n    .dataframe thead th {\n        text-align: right;\n    }\n</style>\n<table border=\"1\" class=\"dataframe\">\n  <thead>\n    <tr style=\"text-align: right;\">\n      <th></th>\n      <th>reb_giro</th>\n      <th>nomea</th>\n      <th>COMPRAC</th>\n      <th>RGVACA</th>\n      <th>nomep</th>\n      <th>GSPAI</th>\n      <th>RGPAI</th>\n      <th>nomem</th>\n      <th>GSMAE</th>\n      <th>RGMAE</th>\n      <th>...</th>\n      <th>SEXO</th>\n      <th>NOMEPAI</th>\n      <th>NOMEMAE</th>\n      <th>cgen_a</th>\n      <th>comb</th>\n      <th>id_touro</th>\n      <th>id_vaca</th>\n      <th>nome4caracteres</th>\n      <th>id_vaca_encontrado</th>\n      <th>registro</th>\n    </tr>\n  </thead>\n  <tbody>\n    <tr>\n      <th>0</th>\n      <td>5191</td>\n      <td>MENINA MODELO 2K</td>\n      <td>12</td>\n      <td>4833-AR</td>\n      <td>MODELO TE DE BRASILIA</td>\n      <td>11</td>\n      <td>B5213</td>\n      <td>FEITICEIRA 2K</td>\n      <td>10</td>\n      <td>C-1072</td>\n      <td>...</td>\n      <td>F</td>\n      <td>SANDY-VALLEY BOLTON 2 ETN</td>\n      <td>APOSTA</td>\n      <td>1/2HOL 1/2GIR</td>\n      <td>519.0</td>\n      <td>NaN</td>\n      <td>618828</td>\n      <td>APOS</td>\n      <td>618828</td>\n      <td>E1438</td>\n    </tr>\n    <tr>\n      <th>1</th>\n      <td>5191</td>\n      <td>MELISSA MODELO 2K</td>\n      <td>12</td>\n      <td>5416-AR</td>\n      <td>MODELO TE DE BRASILIA</td>\n      <td>11</td>\n      <td>B5213</td>\n      <td>IOGA 2K</td>\n      <td>10</td>\n      <td>C-1073</td>\n      <td>...</td>\n      <td>F</td>\n      <td>DE-SU GILLESPY-ET</td>\n      <td>APOSTA</td>\n      <td>1/2HOL 1/2GIR</td>\n      <td>519.0</td>\n      <td>NaN</td>\n      <td>618828</td>\n      <td>APOS</td>\n      <td>618828</td>\n      <td>E1438</td>\n    </tr>\n    <tr>\n      <th>2</th>\n      <td>1945</td>\n      <td>BROMELIA FIV DO JRD</td>\n      <td>11</td>\n      <td>JRDG28</td>\n      <td>RADAR DOS POCOES</td>\n      <td>11</td>\n      <td>A7368</td>\n      <td>PROFANA 6</td>\n      <td>11</td>\n      <td>EBQG1</td>\n      <td>...</td>\n      <td>F</td>\n      <td>EDG SS SLADE 8314-ET</td>\n      <td>PL ZARA NAPOLITANO</td>\n      <td>1/2HOL 1/2GIR</td>\n      <td>519.0</td>\n      <td>NaN</td>\n      <td>155945</td>\n      <td>PL Z</td>\n      <td>155945</td>\n      <td>F6406</td>\n    </tr>\n    <tr>\n      <th>3</th>\n      <td>5407</td>\n      <td>GARFIEIRA</td>\n      <td>11</td>\n      <td>PVBG1140</td>\n      <td>RADAR DOS POCOES</td>\n      <td>11</td>\n      <td>A7368</td>\n      <td>LARA FIV DA SADONANA</td>\n      <td>11</td>\n      <td>SDNA34</td>\n      <td>...</td>\n      <td>F</td>\n      <td>CROTEAU LESPERRON UNIX</td>\n      <td>VAIDOSA F.INDIANA</td>\n      <td>1/2HOL 1/2GIR</td>\n      <td>519.0</td>\n      <td>NaN</td>\n      <td>GIRO1179905</td>\n      <td>VAID</td>\n      <td>GIRO1179905</td>\n      <td>G726</td>\n    </tr>\n    <tr>\n      <th>4</th>\n      <td>5407</td>\n      <td>FORTUNA DA CRISTAL</td>\n      <td>11</td>\n      <td>PVBG855</td>\n      <td>RADAR DOS POCOES</td>\n      <td>11</td>\n      <td>A7368</td>\n      <td>RADULA TE DO GAVIAO</td>\n      <td>11</td>\n      <td>GAV980</td>\n      <td>...</td>\n      <td>NaN</td>\n      <td>NaN</td>\n      <td>NaN</td>\n      <td>NaN</td>\n      <td>NaN</td>\n      <td>NaN</td>\n      <td>NaN</td>\n      <td>NaN</td>\n      <td>NaN</td>\n      <td>NaN</td>\n    </tr>\n    <tr>\n      <th>5</th>\n      <td>8030</td>\n      <td>VENTOSA CADARSO FZD</td>\n      <td>14</td>\n      <td>4241-AQ</td>\n      <td>CADARSO C-054</td>\n      <td>11</td>\n      <td>B32</td>\n      <td>SAVANA PLANET FIV FZD</td>\n      <td>12</td>\n      <td>4961-U</td>\n      <td>...</td>\n      <td>NaN</td>\n      <td>NaN</td>\n      <td>NaN</td>\n      <td>NaN</td>\n      <td>NaN</td>\n      <td>NaN</td>\n      <td>NaN</td>\n      <td>NaN</td>\n      <td>NaN</td>\n      <td>NaN</td>\n    </tr>\n  </tbody>\n</table>\n<p>6 rows × 130 columns</p>\n</div>"
     },
     "execution_count": 87,
     "metadata": {},
     "output_type": "execute_result"
    }
   ],
   "source": [
    "lista = gera_lista_animais_pelo_id_produto_touros_vacas_genealogia_RG_menor_3(df_animais_sem_id_completo)\n",
    "lista\n",
    "#Conferencia Manual"
   ],
   "metadata": {
    "collapsed": false
   }
  },
  {
   "cell_type": "code",
   "execution_count": 92,
   "outputs": [
    {
     "data": {
      "text/plain": "2038826    2\n1631099    1\n2498996    1\n2677677    1\n2098291    1\n          ..\n2678433    1\n1539669    1\n2522343    1\n2499111    1\n1838611    1\nName: IDANIMAL, Length: 558, dtype: int64"
     },
     "execution_count": 92,
     "metadata": {},
     "output_type": "execute_result"
    }
   ],
   "source": [
    "#df_animais_sem_id_completo = adiciona_animais_rg_menor_3_no_dataframe_principal(df_animais_sem_id_completo, lista)\n",
    "df_animais_sem_id_completo['IDANIMAL'].value_counts()"
   ],
   "metadata": {
    "collapsed": false
   }
  },
  {
   "cell_type": "code",
   "execution_count": 94,
   "outputs": [
    {
     "data": {
      "text/plain": "    reb_giro                           nomea  COMPRAC   RGVACA  \\\n56      2381  FERTILIDADE ALTACEO JM NOVO HO       58  4899-AZ   \n57      2381  FERTILIDADE ALTACEO JM NOVO HO       58  4899-AZ   \n\n                  nomep  GSPAI     RGPAI                          nomem  \\\n56  RICKLAND ALTACEO-ET     10  AX138598  BALELA YANK JM NOVO HORIZONTE   \n57  RICKLAND ALTACEO-ET     10  AX138598  BALELA YANK JM NOVO HORIZONTE   \n\n    GSMAE   RGMAE  ...    AN                               NOMEVACA  \\\n56     38  3619-U  ...  2017  FERTILIDADE ALTACEO JM NOVO HORIZONTE   \n57     38  3619-U  ...  2017  FERTILIDADE ALTACEO JM NOVO HORIZONTE   \n\n         DNASC SEXO              NOMEPAI                        NOMEMAE  \\\n56  01/11/2017    F  RICKLAND ALTACEO-ET  BALELA YANK JM NOVO HORIZONTE   \n57  01/11/2017    F  RICKLAND ALTACEO-ET  BALELA YANK JM NOVO HORIZONTE   \n\n           cgen_a  comb  id_touro      id_vaca  \n56  5/8HOL 3/8GIR   693       NaN       206820  \n57  5/8HOL 3/8GIR   693       NaN  GIRO1398001  \n\n[2 rows x 62 columns]",
      "text/html": "<div>\n<style scoped>\n    .dataframe tbody tr th:only-of-type {\n        vertical-align: middle;\n    }\n\n    .dataframe tbody tr th {\n        vertical-align: top;\n    }\n\n    .dataframe thead th {\n        text-align: right;\n    }\n</style>\n<table border=\"1\" class=\"dataframe\">\n  <thead>\n    <tr style=\"text-align: right;\">\n      <th></th>\n      <th>reb_giro</th>\n      <th>nomea</th>\n      <th>COMPRAC</th>\n      <th>RGVACA</th>\n      <th>nomep</th>\n      <th>GSPAI</th>\n      <th>RGPAI</th>\n      <th>nomem</th>\n      <th>GSMAE</th>\n      <th>RGMAE</th>\n      <th>...</th>\n      <th>AN</th>\n      <th>NOMEVACA</th>\n      <th>DNASC</th>\n      <th>SEXO</th>\n      <th>NOMEPAI</th>\n      <th>NOMEMAE</th>\n      <th>cgen_a</th>\n      <th>comb</th>\n      <th>id_touro</th>\n      <th>id_vaca</th>\n    </tr>\n  </thead>\n  <tbody>\n    <tr>\n      <th>56</th>\n      <td>2381</td>\n      <td>FERTILIDADE ALTACEO JM NOVO HO</td>\n      <td>58</td>\n      <td>4899-AZ</td>\n      <td>RICKLAND ALTACEO-ET</td>\n      <td>10</td>\n      <td>AX138598</td>\n      <td>BALELA YANK JM NOVO HORIZONTE</td>\n      <td>38</td>\n      <td>3619-U</td>\n      <td>...</td>\n      <td>2017</td>\n      <td>FERTILIDADE ALTACEO JM NOVO HORIZONTE</td>\n      <td>01/11/2017</td>\n      <td>F</td>\n      <td>RICKLAND ALTACEO-ET</td>\n      <td>BALELA YANK JM NOVO HORIZONTE</td>\n      <td>5/8HOL 3/8GIR</td>\n      <td>693</td>\n      <td>NaN</td>\n      <td>206820</td>\n    </tr>\n    <tr>\n      <th>57</th>\n      <td>2381</td>\n      <td>FERTILIDADE ALTACEO JM NOVO HO</td>\n      <td>58</td>\n      <td>4899-AZ</td>\n      <td>RICKLAND ALTACEO-ET</td>\n      <td>10</td>\n      <td>AX138598</td>\n      <td>BALELA YANK JM NOVO HORIZONTE</td>\n      <td>38</td>\n      <td>3619-U</td>\n      <td>...</td>\n      <td>2017</td>\n      <td>FERTILIDADE ALTACEO JM NOVO HORIZONTE</td>\n      <td>01/11/2017</td>\n      <td>F</td>\n      <td>RICKLAND ALTACEO-ET</td>\n      <td>BALELA YANK JM NOVO HORIZONTE</td>\n      <td>5/8HOL 3/8GIR</td>\n      <td>693</td>\n      <td>NaN</td>\n      <td>GIRO1398001</td>\n    </tr>\n  </tbody>\n</table>\n<p>2 rows × 62 columns</p>\n</div>"
     },
     "execution_count": 94,
     "metadata": {},
     "output_type": "execute_result"
    }
   ],
   "source": [
    "df_animais_sem_id_completo.loc[df_animais_sem_id_completo['IDANIMAL'] == 2038826]"
   ],
   "metadata": {
    "collapsed": false
   }
  },
  {
   "cell_type": "code",
   "execution_count": null,
   "outputs": [],
   "source": [
    "lista_de_animais_com_id_vaca_touro = gera_lista_de_animais_com_id_vaca_touro(df_animais_sem_id_completo)\n",
    "lista_de_animais_com_id_vaca_touro"
   ],
   "metadata": {
    "collapsed": false
   }
  },
  {
   "cell_type": "code",
   "execution_count": null,
   "outputs": [],
   "source": [
    "lista_de_animais_sem_id_vaca_touro = gera_lista_de_animais_sem_id_vaca_e_ou_sem_id_touro(df_animais_sem_id_completo)\n",
    "lista_de_animais_sem_id_vaca_touro"
   ],
   "metadata": {
    "collapsed": false
   }
  },
  {
   "cell_type": "markdown",
   "source": [
    "1 - Criar id_touro (GIRO + id_pai)\n",
    "2 - juntar animais sem id com pedigree girolando (id_pai com IDANIMAL)\n",
    "3 - Juntar com genealogia_embrapa (IDANIMAL com IDANIMAL) - se der match ta pronto (adicionar aos animais que estao finalizados para o Pedigree) - add coluna geracao\n",
    "4 - Executar todas as funcoes exceto a primeira e segunda para preencher id_touro e id_vaca\n",
    "5 - resultado de  gera_lista_de_animais_com_id_vaca_touro sao os animais finalizados e prontos para o banco\n",
    "6 - pegar o resultado de gera_lista_de_animais_sem_id_vaca_e_ou_sem_id_touro e voltar para o passo 1\n",
    "5 - id_pai = IDANIMAL e id_produto = id_touro"
   ],
   "metadata": {
    "collapsed": false
   }
  },
  {
   "cell_type": "markdown",
   "source": [
    "1 - Criar id_touro (GIRO + id_pai)"
   ],
   "metadata": {
    "collapsed": false
   }
  },
  {
   "cell_type": "code",
   "execution_count": null,
   "outputs": [],
   "source": [
    "lista_de_animais_sem_id_vaca_touro['id_touro'] = lista_de_animais_sem_id_vaca_touro['id_touro'].fillna('GIRO' + lista_de_animais_sem_id_vaca_touro['IDPAI'].astype(str))\n",
    "lista_de_animais_sem_id_vaca_touro['id_vaca'] = lista_de_animais_sem_id_vaca_touro['id_vaca'].fillna('GIRO' + lista_de_animais_sem_id_vaca_touro['IDMAE'].astype(str))"
   ],
   "metadata": {
    "collapsed": false
   }
  },
  {
   "cell_type": "markdown",
   "source": [
    "2 - juntar animais sem id com pedigree girolando (id_pai com IDANIMAL)"
   ],
   "metadata": {
    "collapsed": false
   }
  },
  {
   "cell_type": "code",
   "execution_count": null,
   "outputs": [],
   "source": [
    "df_juntando_pai = pd.merge(lista_de_animais_sem_id_vaca_touro[['IDPAI']] , pedigree, left_on=['IDPAI'], right_on=['IDANIMAL'])\n",
    "df_juntando_pai = df_juntando_pai.drop(columns ='IDPAI_x')\n",
    "df_juntando_pai = df_juntando_pai.rename(columns={'IDPAI_y':'IDPAI'})\n",
    "df_juntando_pai = df_juntando_pai.drop_duplicates()\n",
    "df_juntando_mae = pd.merge(lista_de_animais_sem_id_vaca_touro[['IDMAE']] , pedigree, left_on=['IDMAE'], right_on=['IDANIMAL'])\n",
    "df_juntando_mae = df_juntando_mae.drop(columns='IDMAE_x')\n",
    "df_juntando_mae = df_juntando_mae.rename(columns={'IDMAE_y':'IDMAE'})\n",
    "df_juntando_mae = df_juntando_mae.drop_duplicates()\n",
    "df_pais_a_serem_add = pd.concat([df_juntando_pai, df_juntando_mae])\n",
    "df_pais_a_serem_add = df_pais_a_serem_add.drop_duplicates(subset='IDANIMAL')\n",
    "df_pais_a_serem_add"
   ],
   "metadata": {
    "collapsed": false
   }
  },
  {
   "cell_type": "markdown",
   "source": [
    "3 - Juntar com genealogia_embrapa (IDANIMAL com IDANIMAL) - se der match ta pronto (adicionar aos animais que estao finalizados para o Pedigree) - add coluna geracao"
   ],
   "metadata": {
    "collapsed": false
   }
  },
  {
   "cell_type": "code",
   "execution_count": null,
   "outputs": [],
   "source": [
    "df_match_genealogia = pd.merge(df_pais_a_serem_add, df_genealogia_embrapa, on=['IDANIMAL'], suffixes=('', '_drop'), how='left', indicator=True)\n",
    "lista_de_animais_2_ger_prontos = df_match_genealogia[df_match_genealogia['_merge']=='both']\n",
    "lista_de_animais_nao_encontrados = df_match_genealogia[df_match_genealogia['_merge']=='left_only']"
   ],
   "metadata": {
    "collapsed": false
   }
  },
  {
   "cell_type": "code",
   "execution_count": null,
   "outputs": [],
   "source": [
    "lista_de_animais_2_ger_prontos"
   ],
   "metadata": {
    "collapsed": false
   }
  },
  {
   "cell_type": "code",
   "execution_count": null,
   "outputs": [],
   "source": [
    "lista_de_animais_nao_encontrados"
   ],
   "metadata": {
    "collapsed": false
   }
  },
  {
   "cell_type": "markdown",
   "source": [
    "Adicionar cod_prod cod_pai e cod_mae"
   ],
   "metadata": {
    "collapsed": false
   }
  },
  {
   "cell_type": "code",
   "execution_count": null,
   "outputs": [],
   "source": [
    "lista_de_animais_nao_encontrados =adiciona_colunas_codprod_codpai_cod_mae(lista_de_animais_nao_encontrados, df_genealogia_abcz)\n",
    "lista_de_animais_nao_encontrados"
   ],
   "metadata": {
    "collapsed": false
   }
  },
  {
   "cell_type": "code",
   "execution_count": null,
   "outputs": [],
   "source": [
    "lista_de_animais_nao_encontrados = pegar_codpai_codmae_abcz_rg_3_letras(lista_de_animais_nao_encontrados, df_genealogia_abcz)\n",
    "lista_de_animais_nao_encontrados"
   ],
   "metadata": {
    "collapsed": false
   }
  },
  {
   "cell_type": "code",
   "execution_count": null,
   "outputs": [],
   "source": [
    "lista_de_animais_nao_encontrados = pegar_codpai_codmae_abcz_rg_diferente_3_letras(lista_de_animais_nao_encontrados, df_genealogia_abcz)\n",
    "lista_de_animais_nao_encontrados"
   ],
   "metadata": {
    "collapsed": false
   }
  },
  {
   "cell_type": "markdown",
   "source": [
    "4 - Executar todas as funcoes exceto a primeira e segunda para preencher id_touro e id_vaca"
   ],
   "metadata": {
    "collapsed": false
   }
  },
  {
   "cell_type": "code",
   "execution_count": null,
   "outputs": [],
   "source": [
    "lista_de_animais_nao_encontrados = cria_id_produto(lista_de_animais_nao_encontrados)\n",
    "lista_de_animais_nao_encontrados"
   ],
   "metadata": {
    "collapsed": false
   }
  },
  {
   "cell_type": "code",
   "execution_count": null,
   "outputs": [],
   "source": [
    "lista_de_animais_nao_encontrados = busca_id_pai_mae_na_genealogia_embrapa(lista_de_animais_nao_encontrados)\n",
    "lista_de_animais_nao_encontrados"
   ],
   "metadata": {
    "collapsed": false
   }
  },
  {
   "cell_type": "code",
   "execution_count": null,
   "outputs": [],
   "source": [
    "lista_de_animais_nao_encontrados = busca_id_touro_e_id_vaca_pelo_cod_prod_genealogia_embrapa(lista_de_animais_nao_encontrados)\n",
    "lista_de_animais_nao_encontrados"
   ],
   "metadata": {
    "collapsed": false
   }
  },
  {
   "cell_type": "code",
   "execution_count": null,
   "outputs": [],
   "source": [
    "lista_de_animais_nao_encontrados = pega_id_produto_genealogia_embrapa_registro_3_letras_e_GSPAI_GSMAE_11(lista_de_animais_nao_encontrados)\n",
    "lista_de_animais_nao_encontrados"
   ],
   "metadata": {
    "collapsed": false
   }
  },
  {
   "cell_type": "code",
   "execution_count": null,
   "outputs": [],
   "source": [
    "listat = gera_lista_animais_pelo_id_produto_touros_vacas_genealogia_RG_menor_3(lista_de_animais_nao_encontrados)\n",
    "listat"
   ],
   "metadata": {
    "collapsed": false
   }
  },
  {
   "cell_type": "code",
   "execution_count": null,
   "outputs": [],
   "source": [
    "lista_de_animais_nao_encontrados = adiciona_animais_rg_menor_3_no_dataframe_principal(lista_de_animais_nao_encontrados, lista)\n",
    "lista_de_animais_nao_encontrados"
   ],
   "metadata": {
    "collapsed": false
   }
  },
  {
   "cell_type": "code",
   "execution_count": null,
   "outputs": [],
   "source": [
    "lista_de_animais_com_id_vaca_touro_1 = gera_lista_de_animais_com_id_vaca_touro(lista_de_animais_nao_encontrados)\n",
    "lista_de_animais_com_id_vaca_touro_1"
   ],
   "metadata": {
    "collapsed": false
   }
  },
  {
   "cell_type": "code",
   "execution_count": null,
   "outputs": [],
   "source": [
    "lista_de_animais_nao_encontrados.columns"
   ],
   "metadata": {
    "collapsed": false
   }
  },
  {
   "cell_type": "code",
   "execution_count": null,
   "outputs": [],
   "source": [
    "lista_de_animais_sem_id_vaca_touro_1 = gera_lista_de_animais_sem_id_vaca_e_ou_sem_id_touro(lista_de_animais_nao_encontrados)\n",
    "lista_de_animais_sem_id_vaca_touro_1"
   ],
   "metadata": {
    "collapsed": false
   }
  },
  {
   "cell_type": "code",
   "execution_count": null,
   "outputs": [],
   "source": [],
   "metadata": {
    "collapsed": false
   }
  },
  {
   "cell_type": "code",
   "execution_count": null,
   "outputs": [],
   "source": [],
   "metadata": {
    "collapsed": false
   }
  },
  {
   "cell_type": "markdown",
   "source": [
    "df_animais_com_ids_abcz = formata_df_no_modelo_genealogia_embrapa(df_animais_com_ids_abcz)\n",
    "df_animais_com_ids = formata_df_no_modelo_genealogia_embrapa(df_animais_com_ids)\n",
    "df_animais_com_ids = pd.concat([df_animais_com_ids, df_animais_com_ids_abcz])\n",
    "df_animais_com_ids"
   ],
   "metadata": {
    "collapsed": false
   }
  }
 ],
 "metadata": {
  "kernelspec": {
   "display_name": "Python 3",
   "language": "python",
   "name": "python3"
  },
  "language_info": {
   "codemirror_mode": {
    "name": "ipython",
    "version": 2
   },
   "file_extension": ".py",
   "mimetype": "text/x-python",
   "name": "python",
   "nbconvert_exporter": "python",
   "pygments_lexer": "ipython2",
   "version": "2.7.6"
  }
 },
 "nbformat": 4,
 "nbformat_minor": 0
}
