{
 "cells": [
  {
   "cell_type": "code",
   "execution_count": 1,
   "outputs": [],
   "source": [
    "import pandas as pd\n",
    "import warnings\n",
    "import re\n",
    "import tables\n",
    "from datetime import datetime\n",
    "warnings.filterwarnings('ignore')"
   ],
   "metadata": {
    "collapsed": false
   }
  },
  {
   "cell_type": "markdown",
   "source": [
    "# Funcao que formata tabela no modelo da genealogia embrapa"
   ],
   "metadata": {
    "collapsed": false
   }
  },
  {
   "cell_type": "code",
   "execution_count": 2,
   "outputs": [],
   "source": [
    "def formata_df_no_modelo_genealogia_embrapa(df):\n",
    "    #trata o dnasc\n",
    "    if 'DNASC' in df.columns:\n",
    "        df = df.rename(columns={'DNASC':'nasc'})\n",
    "    #trata o formata_df_no_modelo_genealogia_embrapa\n",
    "    if 'NOMEVACA' in df.columns:\n",
    "        df = df.rename(columns={'NOMEVACA':'nome'})\n",
    "    # Adiciona coluna \"id\"\n",
    "    df = df.assign(id=None)\n",
    "    #Atribui valores de id_produto a id\n",
    "    df['id'] = df['id_produto']\n",
    "    # Adiciona coluna \"abcz\" com valores iguais a null\n",
    "    df = df.assign(abcz=None)\n",
    "    #renomeia RGVACA para registro\n",
    "    df = df.rename(columns={'RGVACA':'registro'})\n",
    "    #renomeia nomea para nome\n",
    "    df = df.rename(columns={'nomea':'nome'})\n",
    "    #renomeia SEXO para sexo\n",
    "    df = df.rename(columns={'SEXO':'sexo'})\n",
    "    # Adiciona coluna \"paternidade\" com valores iguais a null\n",
    "    df = df.assign(paternidade=None)\n",
    "    # Adiciona coluna \"ck_sire\" com valores iguais a null\n",
    "    df = df.assign(ck_sire=None)\n",
    "    # Adiciona coluna \"ck_dam\" com valores iguais a null\n",
    "    df = df.assign(ck_dam=None)\n",
    "    # Adiciona coluna \"gen_valido\" com valores iguais a null\n",
    "    df = df.assign(gen_valido=None)\n",
    "    # Adiciona coluna \"nasc_est\"\n",
    "    df = df.assign(nasc_est=None)\n",
    "    #Atribui os valores de nasc a nasc_est\n",
    "    df['nasc_est'] = df['nasc']\n",
    "    # Adiciona coluna \"gr_psg\"\n",
    "    df = df.assign(gr_psg=None)\n",
    "    # Adiciona coluna \"gr_ps\"\n",
    "    df = df.assign(gr_ps=None)\n",
    "    # Adiciona coluna \"gr_tp\"\n",
    "    df = df.assign(gr_tp=None)\n",
    "    # Adiciona coluna \"rebc2_cri\"\n",
    "    df = df.assign(rebc_cri=None)\n",
    "    #renomeia rebc_or para rebc_pr\n",
    "    df = df.rename(columns={'rebc_or':'rebc_pr'})\n",
    "    # Adiciona coluna \"cat\"\n",
    "    if 'cat' in df.columns:\n",
    "        pass\n",
    "    else:\n",
    "        df = df.assign(cat=None)\n",
    "    # Adiciona coluna \"ficha_a\"\n",
    "    df = df.assign(ficha_a=None)\n",
    "    #renomeia IDANIMAL para idanimal\n",
    "    df = df.rename(columns={'IDANIMAL':'idanimal'})\n",
    "    # Adiciona coluna \"origem\"\n",
    "    df = df.assign(origem='GIRO')\n",
    "    # Adiciona coluna \"data_insercao\"\n",
    "    df = df.assign(data_insercao=None)\n",
    "    data_atual = datetime.today().strftime('%Y-%m-%d')\n",
    "    df['data_insercao'] = data_atual\n",
    "    df = df[['id_produto', 'id', 'abcz', 'registro','nome','sexo','paternidade','ck_sire','id_touro','id_vaca','ck_dam','gen_valido','nasc','nasc_est','cgen_a','gs','gr_psg','gr_ps','gr_tp','rebc_cri','rebc_pr','cat','ficha_a','cod_prod','idanimal','origem', 'data_insercao']]\n",
    "    return df\n"
   ],
   "metadata": {
    "collapsed": false
   }
  },
  {
   "cell_type": "code",
   "execution_count": null,
   "outputs": [],
   "source": [
    "def busca_id_genealogia_embrapa(df):\n",
    "    df = pd.merge(df, df[['id_produto', 'IDANIMAL']],left_on=['IDPAI'], how='left', right_on=['IDANIMAL'], suffixes=('', '_drop'))\n",
    "    df = df.drop_duplicates()\n",
    "    df = pd.merge(df, df_genealogia_embrapa[['id_produto', 'IDANIMAL']],left_on=['IDMAE'], how='left', right_on=['IDANIMAL'], suffixes=('', '_tes'))\n",
    "    df = df.drop_duplicates()\n",
    "    df = df.rename(columns={'id_produto_drop':'id_touro'})\n",
    "    df = df.rename(columns={'id_produto_tes':'id_vaca'})\n",
    "    df = df.drop(columns='IDANIMAL_drop')\n",
    "    df = df.drop(columns='IDANIMAL_tes')\n",
    "    return df"
   ],
   "metadata": {
    "collapsed": false
   }
  },
  {
   "cell_type": "code",
   "execution_count": null,
   "outputs": [],
   "source": [
    "def busca_id_touro_e_id_vaca_pelo_cod_prod_genealogia_embrapa(df):\n",
    "    df_id_touro = pd.merge(df, df_genealogia_embrapa[['id_produto', 'cod_prod']], left_on=['cod_pai'], right_on=['cod_prod'], suffixes=('', '_drop'))\n",
    "    #ID_TOURO\n",
    "    df = pd.merge(df, df_id_touro[['IDANIMAL','id_produto_drop']], on=['IDANIMAL'], how='left')\n",
    "    df = df.drop_duplicates()\n",
    "    df['id_touro'].fillna(df['id_produto_drop'], inplace=True)\n",
    "    df = df.drop(columns='id_produto_drop')\n",
    "\n",
    "    #ID_VACA\n",
    "    df_id_vaca = pd.merge(df, df_genealogia_embrapa[['id_produto', 'cod_prod']], left_on=['cod_mae'], right_on=['cod_prod'], indicator=True, suffixes=('', '_drop'))\n",
    "    df = pd.merge(df, df_id_vaca[['IDANIMAL','id_produto_drop']], on=['IDANIMAL'], how='left')\n",
    "    df = df.drop_duplicates()\n",
    "    df['id_vaca'].fillna(df['id_produto_drop'], inplace=True)\n",
    "    df = df.drop(columns='id_produto_drop')\n",
    "    return df"
   ],
   "metadata": {
    "collapsed": false
   }
  },
  {
   "cell_type": "code",
   "execution_count": null,
   "outputs": [],
   "source": [
    "def pega_id_produto_genealogia_embrapa_registro_3_letras_e_GSPAI_GSMAE_11(df):\n",
    "    df_sub_tabela_gir = df[df['GSPAI']==11]\n",
    "    df_sub_tabela_gir = df[df['RGPAI'].apply(lambda x: bool(re.match(r'^[a-zA-Z]{3}', x)))]\n",
    "    df_sub_tabela_gir1 = df[df['GSMAE']==11]\n",
    "    df_sub_tabela_gir1 = df[df['RGMAE'].apply(lambda x: bool(re.match(r'^[a-zA-Z]{3}', x)))]\n",
    "    df_sub_touros_id = pd.merge(df_sub_tabela_gir, df_genealogia_embrapa[['id_produto','registro']], left_on=['RGPAI'], right_on=['registro'])\n",
    "    df_sub_vacas_id = pd.merge(df_sub_tabela_gir1, df_genealogia_embrapa[['id_produto','registro']], left_on=['RGMAE'], right_on=['registro'])\n",
    "\n",
    "    df = pd.merge(df, df_sub_touros_id[['IDANIMAL', 'id_produto_y']], on=['IDANIMAL'], how='left')\n",
    "    df['id_touro'].fillna(df['id_produto_y'], inplace=True)\n",
    "    df = df.drop(columns='id_produto_y')\n",
    "    df = pd.merge(df, df_sub_vacas_id[['IDANIMAL', 'id_produto_y']], on=['IDANIMAL'], how='left')\n",
    "    df['id_vaca'].fillna(df['id_produto_y'], inplace=True)\n",
    "    df = df.drop(columns='id_produto_y')\n",
    "    return df"
   ],
   "metadata": {
    "collapsed": false
   }
  },
  {
   "cell_type": "code",
   "execution_count": null,
   "outputs": [],
   "source": [
    "def pega_id_produto_touros_vacas_genealogia_RG_menor_3(df):\n",
    "    df_sub_tabela_gir1 = df[df['GSPAI']==11]\n",
    "    df_sub_tabela_gir1 = df_sub_tabela_gir1[~df_sub_tabela_gir1['RGPAI'].apply(lambda x: bool(re.match(r'^[a-zA-Z]{3}', x)))]\n",
    "    #Pegando os 4 primeiros caracteres do nome\n",
    "    df_sub_tabela_gir1['nome4caracteres'] = df_sub_tabela_gir1['nomep'].str.slice(start=0, stop=4)\n",
    "\n",
    "\n",
    "    df_subtabela_genealogia = df_genealogia_embrapa\n",
    "    df_subtabela_genealogia = df_subtabela_genealogia[df_subtabela_genealogia['gs']==0]\n",
    "    df_subtabela_genealogia = df_subtabela_genealogia[df_subtabela_genealogia['sexo']=='M']\n",
    "    df_subtabela_genealogia = df_subtabela_genealogia[~df_subtabela_genealogia['registro'].isnull()]\n",
    "    df_subtabela_genealogia = df_subtabela_genealogia[~df_subtabela_genealogia['nome'].isnull()]\n",
    "    df_subtabela_genealogia = df_subtabela_genealogia[~df_subtabela_genealogia['registro'].apply(lambda x: bool(re.match(r'^[a-zA-Z]{3}', x)))]\n",
    "    df_subtabela_genealogia['nome4caracteres'] = df_subtabela_genealogia['nome'].str.slice(start=0, stop=4)\n",
    "\n",
    "    dj_juntando_tabelas = pd.merge(df_sub_tabela_gir1, df_subtabela_genealogia[['id_produto', 'registro', 'nome4caracteres']], left_on=['nome4caracteres', 'RGPAI'], right_on=['nome4caracteres', 'registro'])\n",
    "\n",
    "    df_sub_tabela_gir2 = df[df['GSMAE']==11]\n",
    "    df_sub_tabela_gir2 = df_sub_tabela_gir2[~df_sub_tabela_gir2['RGMAE'].apply(lambda x: bool(re.match(r'^[a-zA-Z]{3}', x)))]\n",
    "    #Pegando os 4 primeiros caracteres do nome\n",
    "    df_sub_tabela_gir2['nome4caracteres'] = df_sub_tabela_gir2['nomem'].str.slice(start=0, stop=4)\n",
    "\n",
    "\n",
    "    df_subtabela_genealogia1 = df_genealogia_embrapa\n",
    "    df_subtabela_genealogia1 = df_subtabela_genealogia1[df_subtabela_genealogia1['gs']==0]\n",
    "    df_subtabela_genealogia1 = df_subtabela_genealogia1[df_subtabela_genealogia1['sexo']=='F']\n",
    "    df_subtabela_genealogia1 = df_subtabela_genealogia1[~df_subtabela_genealogia1['registro'].isnull()]\n",
    "    df_subtabela_genealogia1 = df_subtabela_genealogia1[~df_subtabela_genealogia1['nome'].isnull()]\n",
    "    df_subtabela_genealogia1 = df_subtabela_genealogia1[~df_subtabela_genealogia1['registro'].apply(lambda x: bool(re.match(r'^[a-zA-Z]{3}', x)))]\n",
    "    df_subtabela_genealogia1['nome4caracteres'] = df_subtabela_genealogia1['nome'].str.slice(start=0, stop=4)\n",
    "\n",
    "    dj_juntando_tabelas1 = pd.merge(df_sub_tabela_gir2, df_subtabela_genealogia1[['id_produto', 'registro', 'nome4caracteres']], left_on=['nome4caracteres', 'RGMAE'], right_on=['nome4caracteres', 'registro'])\n",
    "\n",
    "    df = pd.merge(df, dj_juntando_tabelas[['IDANIMAL', 'id_produto_y']], on=['IDANIMAL'], how='left')\n",
    "    df['id_touro'].fillna(df['id_produto_y'], inplace=True)\n",
    "    df = df.drop(columns='id_produto_y')\n",
    "    df = pd.merge(df, dj_juntando_tabelas1[['IDANIMAL', 'id_produto_y']], on=['IDANIMAL'], how='left')\n",
    "    df['id_vaca'].fillna(df['id_produto_y'], inplace=True)\n",
    "    df = df.drop(columns='id_produto_y')"
   ],
   "metadata": {
    "collapsed": false
   }
  },
  {
   "cell_type": "markdown",
   "source": [
    "# Lendo planilhas"
   ],
   "metadata": {
    "collapsed": false
   }
  },
  {
   "cell_type": "code",
   "execution_count": 3,
   "outputs": [],
   "source": [
    "df_animais_sem_id = pd.read_hdf('df_animais_sem_id.h5', key='df')\n",
    "df_genealogia_embrapa = pd.read_hdf('df_genealogia_embrapa.h5', key='df')\n",
    "df_fazendas = pd.read_hdf('df_fazendas.h5', key='df')\n",
    "df_criadores = pd.read_hdf('df_criadores.h5', key='df')\n",
    "df_genealogia_abcz = pd.read_hdf('df_genealogia_abcz.h5', key='df')\n",
    "pedigree = pd.read_csv(\"pedrigree - Girolando - 17-02-2023.txt\", encoding='ISO-8859-1')"
   ],
   "metadata": {
    "collapsed": false
   }
  },
  {
   "cell_type": "markdown",
   "source": [
    "# Imprimindo dataframes"
   ],
   "metadata": {
    "collapsed": false
   }
  },
  {
   "cell_type": "code",
   "execution_count": 4,
   "outputs": [],
   "source": [
    "df_animais_sem_id = df_animais_sem_id.drop_duplicates()\n",
    "df_animais_sem_id = df_animais_sem_id.drop(columns='id_produto_x')\n",
    "df_animais_sem_id = df_animais_sem_id.drop(columns='id_produto_y')\n",
    "#df_animais_sem_id"
   ],
   "metadata": {
    "collapsed": false
   }
  },
  {
   "cell_type": "markdown",
   "source": [
    "# Criando dataframe df_animais_sem_id_completo pela juncao do df_animais_sem_id com pedigree\n",
    "Obs: Mantendo somente o primeiro registro dos animais com IDANIMAL duplicados"
   ],
   "metadata": {
    "collapsed": false
   }
  },
  {
   "cell_type": "code",
   "execution_count": 5,
   "outputs": [],
   "source": [
    "df_animais_sem_id_completo = pd.merge(df_animais_sem_id, pedigree, on=['IDANIMAL'], how='left', indicator=True, suffixes=('','_drop'))\n",
    "df_animais_sem_id_completo = df_animais_sem_id_completo.drop(df_animais_sem_id_completo.filter(regex='_drop$').columns, axis=1)\n",
    "df_animais_sem_id_completo = df_animais_sem_id_completo[df_animais_sem_id_completo['_merge']=='both']\n",
    "df_animais_sem_id_completo = df_animais_sem_id_completo.drop_duplicates(subset='IDANIMAL')\n",
    "#df_animais_sem_id_completo"
   ],
   "metadata": {
    "collapsed": false
   }
  },
  {
   "cell_type": "markdown",
   "source": [
    "# Criando id_produto dos animais que não possuem id_produto\n",
    "obs: id_produto = giro+IDANIMAL"
   ],
   "metadata": {
    "collapsed": false
   }
  },
  {
   "cell_type": "code",
   "execution_count": 6,
   "outputs": [],
   "source": [
    "df_animais_sem_id_completo['id_produto'] = df_animais_sem_id_completo['id_produto'].fillna('GIRO' + df_animais_sem_id_completo['IDANIMAL'].astype(str))\n",
    "df_animais_sem_id_completo = df_animais_sem_id_completo.drop(columns='_merge')\n",
    "#df_animais_sem_id_completo"
   ],
   "metadata": {
    "collapsed": false
   }
  },
  {
   "cell_type": "markdown",
   "source": [
    "# Juntando df_animais_sem_id_completo (idpai) com genealogia_embrapa (idanimal) tabela separada para pedigree"
   ],
   "metadata": {
    "collapsed": false
   }
  },
  {
   "cell_type": "code",
   "execution_count": 7,
   "outputs": [],
   "source": [
    "df_animais_sem_id_completo = pd.merge(df_animais_sem_id_completo, df_genealogia_embrapa[['id_produto', 'IDANIMAL']],left_on=['IDPAI'], how='left', right_on=['IDANIMAL'], suffixes=('', '_drop'))\n",
    "df_animais_sem_id_completo = df_animais_sem_id_completo.drop_duplicates()\n",
    "#df_animais_sem_id_completo"
   ],
   "metadata": {
    "collapsed": false
   }
  },
  {
   "cell_type": "markdown",
   "source": [
    "# Juntando df_animais_sem_id_completo (idmae) com genealogia_embrapa (idanimal)"
   ],
   "metadata": {
    "collapsed": false
   }
  },
  {
   "cell_type": "code",
   "execution_count": 8,
   "outputs": [],
   "source": [
    "df_animais_sem_id_completo = pd.merge(df_animais_sem_id_completo, df_genealogia_embrapa[['id_produto', 'IDANIMAL']],left_on=['IDMAE'], how='left', right_on=['IDANIMAL'], suffixes=('', '_tes'))\n",
    "df_animais_sem_id_completo = df_animais_sem_id_completo.drop_duplicates()\n",
    "#df_animais_sem_id_completo"
   ],
   "metadata": {
    "collapsed": false
   }
  },
  {
   "cell_type": "markdown",
   "source": [
    "# Adicionando coluna IDTOURO e id_vaca no df_animais_sem_id_completo"
   ],
   "metadata": {
    "collapsed": false
   }
  },
  {
   "cell_type": "code",
   "execution_count": 9,
   "outputs": [],
   "source": [
    "df_animais_sem_id_completo = df_animais_sem_id_completo.rename(columns={'id_produto_drop':'id_touro'})\n",
    "df_animais_sem_id_completo = df_animais_sem_id_completo.rename(columns={'id_produto_tes':'id_vaca'})\n",
    "df_animais_sem_id_completo = df_animais_sem_id_completo.drop(columns='IDANIMAL_drop')\n",
    "df_animais_sem_id_completo = df_animais_sem_id_completo.drop(columns='IDANIMAL_tes')\n",
    "#df_animais_sem_id_completo"
   ],
   "metadata": {
    "collapsed": false
   }
  },
  {
   "cell_type": "markdown",
   "source": [
    "# Buscando o id_touro pelo cod_pai na genealogia_embrapa"
   ],
   "metadata": {
    "collapsed": false
   }
  },
  {
   "cell_type": "code",
   "execution_count": 10,
   "outputs": [],
   "source": [
    "df_id_touro = pd.merge(df_animais_sem_id_completo, df_genealogia_embrapa[['id_produto', 'cod_prod']], left_on=['cod_pai'], right_on=['cod_prod'], suffixes=('', '_drop'))\n",
    "#df_id_touro"
   ],
   "metadata": {
    "collapsed": false
   }
  },
  {
   "cell_type": "markdown",
   "source": [
    "# Adicionando o id_touro no dataframe com todas as colunas pelo id_animal"
   ],
   "metadata": {
    "collapsed": false
   }
  },
  {
   "cell_type": "code",
   "execution_count": 11,
   "outputs": [],
   "source": [
    "df_animais_sem_id_completo = pd.merge(df_animais_sem_id_completo, df_id_touro[['IDANIMAL','id_produto_drop']], on=['IDANIMAL'], how='left')\n",
    "df_animais_sem_id_completo = df_animais_sem_id_completo.drop_duplicates()\n",
    "df_animais_sem_id_completo['id_touro'].fillna(df_animais_sem_id_completo['id_produto_drop'], inplace=True)\n",
    "df_animais_sem_id_completo = df_animais_sem_id_completo.drop(columns='id_produto_drop')\n",
    "#df_animais_sem_id_completo"
   ],
   "metadata": {
    "collapsed": false
   }
  },
  {
   "cell_type": "markdown",
   "source": [
    "# Buscando o id_vaca pelo cod_vaca na genealogia_embrapa"
   ],
   "metadata": {
    "collapsed": false
   }
  },
  {
   "cell_type": "code",
   "execution_count": 12,
   "outputs": [],
   "source": [
    "df_id_vaca = pd.merge(df_animais_sem_id_completo, df_genealogia_embrapa[['id_produto', 'cod_prod']], left_on=['cod_mae'], right_on=['cod_prod'], indicator=True, suffixes=('', '_drop'))\n",
    "#df_id_vaca"
   ],
   "metadata": {
    "collapsed": false
   }
  },
  {
   "cell_type": "markdown",
   "source": [
    "# Adicionando id_vaca no dataframe com todas as colunas"
   ],
   "metadata": {
    "collapsed": false
   }
  },
  {
   "cell_type": "code",
   "execution_count": 13,
   "outputs": [],
   "source": [
    "df_animais_sem_id_completo = pd.merge(df_animais_sem_id_completo, df_id_vaca[['IDANIMAL','id_produto_drop']], on=['IDANIMAL'], how='left')\n",
    "df_animais_sem_id_completo = df_animais_sem_id_completo.drop_duplicates()\n",
    "df_animais_sem_id_completo['id_vaca'].fillna(df_animais_sem_id_completo['id_produto_drop'], inplace=True)\n",
    "df_animais_sem_id_completo = df_animais_sem_id_completo.drop(columns='id_produto_drop')\n",
    "#df_animais_sem_id_completo"
   ],
   "metadata": {
    "collapsed": false
   }
  },
  {
   "cell_type": "markdown",
   "source": [
    "# Pegando o id_produto que vira id_touro dos touros_gir na genealogia embrapa, em que o registro comeca com 3 letras"
   ],
   "metadata": {
    "collapsed": false
   }
  },
  {
   "cell_type": "code",
   "execution_count": 14,
   "outputs": [],
   "source": [
    "# somente gs_pai=11 e gs = 0 na genealogia\n",
    "df_sub_tabela_gir = df_animais_sem_id_completo[df_animais_sem_id_completo['GSPAI']==11]\n",
    "df_sub_tabela_gir = df_sub_tabela_gir[df_sub_tabela_gir['RGPAI'].apply(lambda x: bool(re.match(r'^[a-zA-Z]{3}', x)))]\n",
    "#df_sub_tabela_gir"
   ],
   "metadata": {
    "collapsed": false
   }
  },
  {
   "cell_type": "markdown",
   "source": [
    "# Pegando o id_produto que vira id_vaca das vacas_gir na genealogia embrapa, em que o registro comeca com 3 letras"
   ],
   "metadata": {
    "collapsed": false
   }
  },
  {
   "cell_type": "code",
   "execution_count": 15,
   "outputs": [],
   "source": [
    "# somente gs_pai=11 e gs = 0 na genealogia\n",
    "df_sub_tabela_gir1 = df_animais_sem_id_completo[df_animais_sem_id_completo['GSMAE']==11]\n",
    "df_sub_tabela_gir1 = df_sub_tabela_gir1[df_sub_tabela_gir1['RGMAE'].apply(lambda x: bool(re.match(r'^[a-zA-Z]{3}', x)))]\n",
    "#df_sub_tabela_gir1"
   ],
   "metadata": {
    "collapsed": false
   }
  },
  {
   "cell_type": "markdown",
   "source": [
    "# Juntando a genealogia embrapa com os touros comecando com 3 letras e gs 11"
   ],
   "metadata": {
    "collapsed": false
   }
  },
  {
   "cell_type": "code",
   "execution_count": 16,
   "outputs": [],
   "source": [
    "df_sub_touros_id = pd.merge(df_sub_tabela_gir, df_genealogia_embrapa[['id_produto','registro']], left_on=['RGPAI'], right_on=['registro'])\n",
    "#df_sub_touros_id"
   ],
   "metadata": {
    "collapsed": false
   }
  },
  {
   "cell_type": "markdown",
   "source": [
    "# Juntando a genealogia embrapa com as vacas comecando com 3 letras e gs 11"
   ],
   "metadata": {
    "collapsed": false
   }
  },
  {
   "cell_type": "code",
   "execution_count": 17,
   "outputs": [],
   "source": [
    "df_sub_vacas_id = pd.merge(df_sub_tabela_gir1, df_genealogia_embrapa[['id_produto','registro']], left_on=['RGMAE'], right_on=['registro'])\n",
    "#df_sub_vacas_id"
   ],
   "metadata": {
    "collapsed": false
   }
  },
  {
   "cell_type": "code",
   "execution_count": 18,
   "outputs": [],
   "source": [
    "df_animais_sem_id_completo = pd.merge(df_animais_sem_id_completo, df_sub_touros_id[['IDANIMAL', 'id_produto_y']], on=['IDANIMAL'], how='left')\n",
    "df_animais_sem_id_completo['id_touro'].fillna(df_animais_sem_id_completo['id_produto_y'], inplace=True)\n",
    "df_animais_sem_id_completo = df_animais_sem_id_completo.drop(columns='id_produto_y')\n",
    "df_animais_sem_id_completo = pd.merge(df_animais_sem_id_completo, df_sub_vacas_id[['IDANIMAL', 'id_produto_y']], on=['IDANIMAL'], how='left')\n",
    "df_animais_sem_id_completo['id_vaca'].fillna(df_animais_sem_id_completo['id_produto_y'], inplace=True)\n",
    "df_animais_sem_id_completo = df_animais_sem_id_completo.drop(columns='id_produto_y')\n",
    "#df_animais_sem_id_completo"
   ],
   "metadata": {
    "collapsed": false
   }
  },
  {
   "cell_type": "markdown",
   "source": [
    "Juntar codigo acima com genealogia\n",
    "RGPAI(df_sub_tabela_gir) liga com registro(genealogia)\n",
    "duplicar solucao para mae\n",
    "RGPAI RGMAE RGVACA GS=11 retirar acentos e espacos"
   ],
   "metadata": {
    "collapsed": false
   }
  },
  {
   "cell_type": "markdown",
   "source": [
    "# Pegando os id_produto's dos touros_gir na genealogia embrapa, em que o registro nao comeca com 3 letras"
   ],
   "metadata": {
    "collapsed": false
   }
  },
  {
   "cell_type": "code",
   "execution_count": 19,
   "outputs": [],
   "source": [
    "df_sub_tabela_gir1 = df_animais_sem_id_completo[df_animais_sem_id_completo['GSPAI']==11]\n",
    "df_sub_tabela_gir1 = df_sub_tabela_gir1[~df_sub_tabela_gir1['RGPAI'].apply(lambda x: bool(re.match(r'^[a-zA-Z]{3}', x)))]\n",
    "#Pegando os 4 primeiros caracteres do nome\n",
    "df_sub_tabela_gir1['nome4caracteres'] = df_sub_tabela_gir1['nomep'].str.slice(start=0, stop=4)\n",
    "\n",
    "\n",
    "df_subtabela_genealogia = df_genealogia_embrapa\n",
    "df_subtabela_genealogia = df_subtabela_genealogia[df_subtabela_genealogia['gs']==0]\n",
    "df_subtabela_genealogia = df_subtabela_genealogia[df_subtabela_genealogia['sexo']=='M']\n",
    "df_subtabela_genealogia = df_subtabela_genealogia[~df_subtabela_genealogia['registro'].isnull()]\n",
    "df_subtabela_genealogia = df_subtabela_genealogia[~df_subtabela_genealogia['nome'].isnull()]\n",
    "df_subtabela_genealogia = df_subtabela_genealogia[~df_subtabela_genealogia['registro'].apply(lambda x: bool(re.match(r'^[a-zA-Z]{3}', x)))]\n",
    "df_subtabela_genealogia['nome4caracteres'] = df_subtabela_genealogia['nome'].str.slice(start=0, stop=4)\n",
    "\n",
    "dj_juntando_tabelas = pd.merge(df_sub_tabela_gir1, df_subtabela_genealogia[['id_produto', 'registro', 'nome4caracteres']], left_on=['nome4caracteres', 'RGPAI'], right_on=['nome4caracteres', 'registro'])\n",
    "#dj_juntando_tabelas"
   ],
   "metadata": {
    "collapsed": false
   }
  },
  {
   "cell_type": "markdown",
   "source": [
    "# Pegando os id_produto’s das vacas na genealogia embrapa, em que o registro nao comeca com 3 letras"
   ],
   "metadata": {
    "collapsed": false
   }
  },
  {
   "cell_type": "code",
   "execution_count": 20,
   "outputs": [],
   "source": [
    "df_sub_tabela_gir2 = df_animais_sem_id_completo[df_animais_sem_id_completo['GSMAE']==11]\n",
    "df_sub_tabela_gir2 = df_sub_tabela_gir2[~df_sub_tabela_gir2['RGMAE'].apply(lambda x: bool(re.match(r'^[a-zA-Z]{3}', x)))]\n",
    "#Pegando os 4 primeiros caracteres do nome\n",
    "df_sub_tabela_gir2['nome4caracteres'] = df_sub_tabela_gir2['nomem'].str.slice(start=0, stop=4)\n",
    "\n",
    "\n",
    "df_subtabela_genealogia1 = df_genealogia_embrapa\n",
    "df_subtabela_genealogia1 = df_subtabela_genealogia1[df_subtabela_genealogia1['gs']==0]\n",
    "df_subtabela_genealogia1 = df_subtabela_genealogia1[df_subtabela_genealogia1['sexo']=='F']\n",
    "df_subtabela_genealogia1 = df_subtabela_genealogia1[~df_subtabela_genealogia1['registro'].isnull()]\n",
    "df_subtabela_genealogia1 = df_subtabela_genealogia1[~df_subtabela_genealogia1['nome'].isnull()]\n",
    "df_subtabela_genealogia1 = df_subtabela_genealogia1[~df_subtabela_genealogia1['registro'].apply(lambda x: bool(re.match(r'^[a-zA-Z]{3}', x)))]\n",
    "df_subtabela_genealogia1['nome4caracteres'] = df_subtabela_genealogia1['nome'].str.slice(start=0, stop=4)\n",
    "\n",
    "dj_juntando_tabelas1 = pd.merge(df_sub_tabela_gir2, df_subtabela_genealogia1[['id_produto', 'registro', 'nome4caracteres']], left_on=['nome4caracteres', 'RGMAE'], right_on=['nome4caracteres', 'registro'])\n",
    "#dj_juntando_tabelas1"
   ],
   "metadata": {
    "collapsed": false
   }
  },
  {
   "cell_type": "markdown",
   "source": [
    "# Adicionando ID's touros e ID's vacas encontrados em que o registro não comeca com 3 letras na df_animais_sem_id_completo"
   ],
   "metadata": {
    "collapsed": false
   }
  },
  {
   "cell_type": "code",
   "execution_count": 21,
   "outputs": [],
   "source": [
    "df_animais_sem_id_completo = pd.merge(df_animais_sem_id_completo, dj_juntando_tabelas[['IDANIMAL', 'id_produto_y']], on=['IDANIMAL'], how='left')\n",
    "df_animais_sem_id_completo['id_touro'].fillna(df_animais_sem_id_completo['id_produto_y'], inplace=True)\n",
    "df_animais_sem_id_completo = df_animais_sem_id_completo.drop(columns='id_produto_y')\n",
    "df_animais_sem_id_completo = pd.merge(df_animais_sem_id_completo, dj_juntando_tabelas1[['IDANIMAL', 'id_produto_y']], on=['IDANIMAL'], how='left')\n",
    "df_animais_sem_id_completo['id_vaca'].fillna(df_animais_sem_id_completo['id_produto_y'], inplace=True)\n",
    "df_animais_sem_id_completo = df_animais_sem_id_completo.drop(columns='id_produto_y')\n",
    "#df_animais_sem_id_completo"
   ],
   "metadata": {
    "collapsed": false
   }
  },
  {
   "cell_type": "markdown",
   "source": [
    "# Lista de animais com id_vaca E id_touro"
   ],
   "metadata": {
    "collapsed": false
   }
  },
  {
   "cell_type": "code",
   "execution_count": 22,
   "outputs": [],
   "source": [
    "df_animais_com_ids = df_animais_sem_id_completo[~df_animais_sem_id_completo['id_vaca'].isnull() & ~df_animais_sem_id_completo['id_touro'].isnull()]\n",
    "#df_animais_com_ids"
   ],
   "metadata": {
    "collapsed": false
   }
  },
  {
   "cell_type": "markdown",
   "source": [
    "# Lista de animais sem id_vaca"
   ],
   "metadata": {
    "collapsed": false
   }
  },
  {
   "cell_type": "code",
   "execution_count": 23,
   "outputs": [],
   "source": [
    "df_animais_sem_id_vaca = df_animais_sem_id_completo[df_animais_sem_id_completo['id_vaca'].isnull()]\n",
    "df_animais_sem_id_vaca = df_animais_sem_id_vaca.drop_duplicates()\n",
    "#df_animais_sem_id_vaca"
   ],
   "metadata": {
    "collapsed": false
   }
  },
  {
   "cell_type": "markdown",
   "source": [
    "# Lista de animais sem id_touro"
   ],
   "metadata": {
    "collapsed": false
   }
  },
  {
   "cell_type": "code",
   "execution_count": 24,
   "outputs": [],
   "source": [
    "df_animais_sem_id_touro = df_animais_sem_id_completo[df_animais_sem_id_completo['id_touro'].isnull()]\n",
    "df_animais_sem_id_touro = df_animais_sem_id_touro.drop_duplicates()\n",
    "#df_animais_sem_id_touro"
   ],
   "metadata": {
    "collapsed": false
   }
  },
  {
   "cell_type": "markdown",
   "source": [
    "# Lista de animais sem ID"
   ],
   "metadata": {
    "collapsed": false
   }
  },
  {
   "cell_type": "code",
   "execution_count": 25,
   "outputs": [],
   "source": [
    "df_animais_sem_id = pd.concat([df_animais_sem_id_touro, df_animais_sem_id_vaca])\n",
    "#df_animais_sem_id"
   ],
   "metadata": {
    "collapsed": false
   }
  },
  {
   "cell_type": "markdown",
   "source": [
    "# Juntando animais sem ID com o Pedigree"
   ],
   "metadata": {
    "collapsed": false
   }
  },
  {
   "cell_type": "code",
   "execution_count": 28,
   "outputs": [
    {
     "data": {
      "text/plain": "                              NOMEVACA    RGVACA  COMPRAC   IDANIMAL  \\\n0                SALINA NOBRE DO MORRO    C-4972       14   821357.0   \n1                   DIAMANTINA FIV ZBR    ZBR157       11  1230680.0   \n2                        UTOPIA FIV 2B   ZAB1116       11  2357203.0   \n3             PRATEADA FIV SANSAO JGVA    3599-F       14   984858.0   \n4    BERLINDA JAYVEN JM NOVO HORIZONTE   5203-AE       12  1388188.0   \n..                                 ...       ...      ...        ...   \n214              STANTONS CAPITAL GAIN  AX146382       10  1846259.0   \n215             POL BUTTE MC BEEMER-ET  AX145127       10  1606782.0   \n216                GALEGO FIV F. MUTUM    MUT899       11  1489363.0   \n217                    FEBO FR RECREIO    6300-N       58  1114289.0   \n219                  TURBO DAS ARABIAS      0079     5858  1155542.0   \n\n          DNASC SEXO                      NOMEPAI     RGPAI  GSPAI      IDPAI  \\\n0    26/09/2008    F                 NOBRE TE CAL   CAL4397   11.0     3142.0   \n1    10/10/2008    F           TEATRO DA SILVANIA    EFC383   11.0     5024.0   \n2    26/03/2015    F               TABU TE DA CAL   CAL6557   11.0   877840.0   \n3    05/10/2009    F                   C.A.SANSAO    KCA472   11.0     3234.0   \n4    03/06/2013    F            STOUDER JAYVEN-ET  AX134762   10.0  1104837.0   \n..          ...  ...                          ...       ...    ...        ...   \n214  13/02/2013    M  DE-SU BKM MCCUTCHEN 1174-ET  AX140261   10.0  1277724.0   \n215  11/04/2013    M  DE-SU BKM MCCUTCHEN 1174-ET  AX140261   10.0  1277724.0   \n216  08/08/2007    M                   C.A.SANSAO    KCA472   11.0     3234.0   \n217  20/12/2011    M                 STANBRO MORE  AX118094   10.0   991986.0   \n219  06/06/2011    M   TURBANTE TOUCH DAS ARABIAS      0945   58.0     4424.0   \n\n                        NOMEMAE        RGMAE  GSMAE      IDMAE  gs  \\\n0         OLIMPIADA DJ DO MORRO       X-6776   12.0     3142.0   2   \n1                  QUICA DA CAL      CAL5081   11.0     5024.0   0   \n2          INCISAO FIV DE BRAS.      RRP6711   11.0   877840.0   0   \n3            PATATIVA MARKOWICZ       U-1676   12.0     3234.0   2   \n4            P.L. ROSADA MARAJA       PNL187   11.0  1104837.0   4   \n..                          ...          ...    ...        ...  ..   \n214   MS CHASSITY OBS CLAIRE-ET  US141008075   10.0  1277724.0   8   \n215  BUTZ-BUTLER GOLD BANNER-ET  US140145517   10.0  1277724.0   8   \n216         URGENCIA 3R B.MONTE       LAC123   11.0     3234.0   0   \n217            LAPAZ FR RECREIO       B-0054   14.0   991986.0   5   \n219     PRETA JEWEL DAS ARABIAS       A-5732   58.0     4424.0   5   \n\n            cgen_a  comb     id_produto       id_touro        id_vaca  \n0    1/4HOL 3/4GIR   315        GIROnan     GIRO3142.0     GIRO3142.0  \n1              GIR    11        GIROnan     GIRO5024.0     GIRO5024.0  \n2              GIR    11        GIROnan   GIRO877840.0   GIRO877840.0  \n3    1/4HOL 3/4GIR   315        GIROnan     GIRO3234.0     GIRO3234.0  \n4    1/2HOL 1/2GIR   519        GIROnan  GIRO1104837.0  GIRO1104837.0  \n..             ...   ...            ...            ...            ...  \n214            HOL   999  GIRO1846259.0  GIRO1277724.0  GIRO1277724.0  \n215            HOL   999  GIRO1606782.0  GIRO1277724.0  GIRO1277724.0  \n216            GIR    11  GIRO1489363.0     GIRO3234.0     GIRO3234.0  \n217  5/8HOL 3/8GIR   693  GIRO1114289.0   GIRO991986.0   GIRO991986.0  \n219  5/8HOL 3/8GIR   666  GIRO1155542.0     GIRO4424.0     GIRO4424.0  \n\n[327 rows x 20 columns]",
      "text/html": "<div>\n<style scoped>\n    .dataframe tbody tr th:only-of-type {\n        vertical-align: middle;\n    }\n\n    .dataframe tbody tr th {\n        vertical-align: top;\n    }\n\n    .dataframe thead th {\n        text-align: right;\n    }\n</style>\n<table border=\"1\" class=\"dataframe\">\n  <thead>\n    <tr style=\"text-align: right;\">\n      <th></th>\n      <th>NOMEVACA</th>\n      <th>RGVACA</th>\n      <th>COMPRAC</th>\n      <th>IDANIMAL</th>\n      <th>DNASC</th>\n      <th>SEXO</th>\n      <th>NOMEPAI</th>\n      <th>RGPAI</th>\n      <th>GSPAI</th>\n      <th>IDPAI</th>\n      <th>NOMEMAE</th>\n      <th>RGMAE</th>\n      <th>GSMAE</th>\n      <th>IDMAE</th>\n      <th>gs</th>\n      <th>cgen_a</th>\n      <th>comb</th>\n      <th>id_produto</th>\n      <th>id_touro</th>\n      <th>id_vaca</th>\n    </tr>\n  </thead>\n  <tbody>\n    <tr>\n      <th>0</th>\n      <td>SALINA NOBRE DO MORRO</td>\n      <td>C-4972</td>\n      <td>14</td>\n      <td>821357.0</td>\n      <td>26/09/2008</td>\n      <td>F</td>\n      <td>NOBRE TE CAL</td>\n      <td>CAL4397</td>\n      <td>11.0</td>\n      <td>3142.0</td>\n      <td>OLIMPIADA DJ DO MORRO</td>\n      <td>X-6776</td>\n      <td>12.0</td>\n      <td>3142.0</td>\n      <td>2</td>\n      <td>1/4HOL 3/4GIR</td>\n      <td>315</td>\n      <td>GIROnan</td>\n      <td>GIRO3142.0</td>\n      <td>GIRO3142.0</td>\n    </tr>\n    <tr>\n      <th>1</th>\n      <td>DIAMANTINA FIV ZBR</td>\n      <td>ZBR157</td>\n      <td>11</td>\n      <td>1230680.0</td>\n      <td>10/10/2008</td>\n      <td>F</td>\n      <td>TEATRO DA SILVANIA</td>\n      <td>EFC383</td>\n      <td>11.0</td>\n      <td>5024.0</td>\n      <td>QUICA DA CAL</td>\n      <td>CAL5081</td>\n      <td>11.0</td>\n      <td>5024.0</td>\n      <td>0</td>\n      <td>GIR</td>\n      <td>11</td>\n      <td>GIROnan</td>\n      <td>GIRO5024.0</td>\n      <td>GIRO5024.0</td>\n    </tr>\n    <tr>\n      <th>2</th>\n      <td>UTOPIA FIV 2B</td>\n      <td>ZAB1116</td>\n      <td>11</td>\n      <td>2357203.0</td>\n      <td>26/03/2015</td>\n      <td>F</td>\n      <td>TABU TE DA CAL</td>\n      <td>CAL6557</td>\n      <td>11.0</td>\n      <td>877840.0</td>\n      <td>INCISAO FIV DE BRAS.</td>\n      <td>RRP6711</td>\n      <td>11.0</td>\n      <td>877840.0</td>\n      <td>0</td>\n      <td>GIR</td>\n      <td>11</td>\n      <td>GIROnan</td>\n      <td>GIRO877840.0</td>\n      <td>GIRO877840.0</td>\n    </tr>\n    <tr>\n      <th>3</th>\n      <td>PRATEADA FIV SANSAO JGVA</td>\n      <td>3599-F</td>\n      <td>14</td>\n      <td>984858.0</td>\n      <td>05/10/2009</td>\n      <td>F</td>\n      <td>C.A.SANSAO</td>\n      <td>KCA472</td>\n      <td>11.0</td>\n      <td>3234.0</td>\n      <td>PATATIVA MARKOWICZ</td>\n      <td>U-1676</td>\n      <td>12.0</td>\n      <td>3234.0</td>\n      <td>2</td>\n      <td>1/4HOL 3/4GIR</td>\n      <td>315</td>\n      <td>GIROnan</td>\n      <td>GIRO3234.0</td>\n      <td>GIRO3234.0</td>\n    </tr>\n    <tr>\n      <th>4</th>\n      <td>BERLINDA JAYVEN JM NOVO HORIZONTE</td>\n      <td>5203-AE</td>\n      <td>12</td>\n      <td>1388188.0</td>\n      <td>03/06/2013</td>\n      <td>F</td>\n      <td>STOUDER JAYVEN-ET</td>\n      <td>AX134762</td>\n      <td>10.0</td>\n      <td>1104837.0</td>\n      <td>P.L. ROSADA MARAJA</td>\n      <td>PNL187</td>\n      <td>11.0</td>\n      <td>1104837.0</td>\n      <td>4</td>\n      <td>1/2HOL 1/2GIR</td>\n      <td>519</td>\n      <td>GIROnan</td>\n      <td>GIRO1104837.0</td>\n      <td>GIRO1104837.0</td>\n    </tr>\n    <tr>\n      <th>...</th>\n      <td>...</td>\n      <td>...</td>\n      <td>...</td>\n      <td>...</td>\n      <td>...</td>\n      <td>...</td>\n      <td>...</td>\n      <td>...</td>\n      <td>...</td>\n      <td>...</td>\n      <td>...</td>\n      <td>...</td>\n      <td>...</td>\n      <td>...</td>\n      <td>...</td>\n      <td>...</td>\n      <td>...</td>\n      <td>...</td>\n      <td>...</td>\n      <td>...</td>\n    </tr>\n    <tr>\n      <th>214</th>\n      <td>STANTONS CAPITAL GAIN</td>\n      <td>AX146382</td>\n      <td>10</td>\n      <td>1846259.0</td>\n      <td>13/02/2013</td>\n      <td>M</td>\n      <td>DE-SU BKM MCCUTCHEN 1174-ET</td>\n      <td>AX140261</td>\n      <td>10.0</td>\n      <td>1277724.0</td>\n      <td>MS CHASSITY OBS CLAIRE-ET</td>\n      <td>US141008075</td>\n      <td>10.0</td>\n      <td>1277724.0</td>\n      <td>8</td>\n      <td>HOL</td>\n      <td>999</td>\n      <td>GIRO1846259.0</td>\n      <td>GIRO1277724.0</td>\n      <td>GIRO1277724.0</td>\n    </tr>\n    <tr>\n      <th>215</th>\n      <td>POL BUTTE MC BEEMER-ET</td>\n      <td>AX145127</td>\n      <td>10</td>\n      <td>1606782.0</td>\n      <td>11/04/2013</td>\n      <td>M</td>\n      <td>DE-SU BKM MCCUTCHEN 1174-ET</td>\n      <td>AX140261</td>\n      <td>10.0</td>\n      <td>1277724.0</td>\n      <td>BUTZ-BUTLER GOLD BANNER-ET</td>\n      <td>US140145517</td>\n      <td>10.0</td>\n      <td>1277724.0</td>\n      <td>8</td>\n      <td>HOL</td>\n      <td>999</td>\n      <td>GIRO1606782.0</td>\n      <td>GIRO1277724.0</td>\n      <td>GIRO1277724.0</td>\n    </tr>\n    <tr>\n      <th>216</th>\n      <td>GALEGO FIV F. MUTUM</td>\n      <td>MUT899</td>\n      <td>11</td>\n      <td>1489363.0</td>\n      <td>08/08/2007</td>\n      <td>M</td>\n      <td>C.A.SANSAO</td>\n      <td>KCA472</td>\n      <td>11.0</td>\n      <td>3234.0</td>\n      <td>URGENCIA 3R B.MONTE</td>\n      <td>LAC123</td>\n      <td>11.0</td>\n      <td>3234.0</td>\n      <td>0</td>\n      <td>GIR</td>\n      <td>11</td>\n      <td>GIRO1489363.0</td>\n      <td>GIRO3234.0</td>\n      <td>GIRO3234.0</td>\n    </tr>\n    <tr>\n      <th>217</th>\n      <td>FEBO FR RECREIO</td>\n      <td>6300-N</td>\n      <td>58</td>\n      <td>1114289.0</td>\n      <td>20/12/2011</td>\n      <td>M</td>\n      <td>STANBRO MORE</td>\n      <td>AX118094</td>\n      <td>10.0</td>\n      <td>991986.0</td>\n      <td>LAPAZ FR RECREIO</td>\n      <td>B-0054</td>\n      <td>14.0</td>\n      <td>991986.0</td>\n      <td>5</td>\n      <td>5/8HOL 3/8GIR</td>\n      <td>693</td>\n      <td>GIRO1114289.0</td>\n      <td>GIRO991986.0</td>\n      <td>GIRO991986.0</td>\n    </tr>\n    <tr>\n      <th>219</th>\n      <td>TURBO DAS ARABIAS</td>\n      <td>0079</td>\n      <td>5858</td>\n      <td>1155542.0</td>\n      <td>06/06/2011</td>\n      <td>M</td>\n      <td>TURBANTE TOUCH DAS ARABIAS</td>\n      <td>0945</td>\n      <td>58.0</td>\n      <td>4424.0</td>\n      <td>PRETA JEWEL DAS ARABIAS</td>\n      <td>A-5732</td>\n      <td>58.0</td>\n      <td>4424.0</td>\n      <td>5</td>\n      <td>5/8HOL 3/8GIR</td>\n      <td>666</td>\n      <td>GIRO1155542.0</td>\n      <td>GIRO4424.0</td>\n      <td>GIRO4424.0</td>\n    </tr>\n  </tbody>\n</table>\n<p>327 rows × 20 columns</p>\n</div>"
     },
     "execution_count": 28,
     "metadata": {},
     "output_type": "execute_result"
    }
   ],
   "source": [
    "df_animais_sem_id['id_touro'] = df_animais_sem_id['id_touro'].fillna('GIRO' + df_animais_sem_id['IDPAI'].astype(str))\n",
    "df_animais_sem_id['id_vaca'] = df_animais_sem_id['id_vaca'].fillna('GIRO' + df_animais_sem_id['IDMAE'].astype(str))\n",
    "\n",
    "df_animais_sem_id_completo = pd.merge(df_animais_sem_id_completo, df_genealogia_embrapa[['id_produto', 'IDANIMAL']],left_on=['IDPAI'], how='left', right_on=['IDANIMAL'], suffixes=('', '_drop'))\n",
    "df_animais_sem_id_completo = df_animais_sem_id_completo.drop_duplicates()\n",
    "#df_animais_sem_id_completo\n",
    "\n",
    "\n",
    "\n",
    "df_animais_sem_id_completo = pd.merge(df_animais_sem_id_completo, df_genealogia_embrapa[['id_produto', 'IDANIMAL']],left_on=['IDMAE'], how='left', right_on=['IDANIMAL'], suffixes=('', '_tes'))\n",
    "df_animais_sem_id_completo = df_animais_sem_id_completo.drop_duplicates()\n",
    "#df_animais_sem_id_completo\n",
    "\n",
    "\n",
    "\n",
    "\n",
    "df_juntando_teste = pd.merge(df_animais_sem_id['IDPAI'], pedigree, left_on=['IDPAI'], right_on=['IDANIMAL'], suffixes=['_drop', ''])\n",
    "df_juntando_teste = df_juntando_teste.drop_duplicates()\n",
    "df_juntando_teste1 = pd.merge(df_animais_sem_id['IDMAE'], pedigree, left_on=['IDMAE'], right_on=['IDANIMAL'], suffixes=['_drop', ''])\n",
    "df_juntando_teste1 = df_juntando_teste1.drop_duplicates()\n",
    "df_juntando_teste3 = pd.concat([df_juntando_teste1, df_juntando_teste])\n",
    "#Criando coluna id_produto= none e preenchendo id_produto\n",
    "df_juntando_teste3 = df_juntando_teste3.assign(id_produto=None)\n",
    "df_juntando_teste3['id_produto'] = df_juntando_teste3['id_produto'].fillna('GIRO' + df_juntando_teste3['IDPAI_drop'].astype(str))\n",
    "df_juntando_teste3['id_produto'] = df_juntando_teste3['id_produto'].fillna('GIRO' + df_juntando_teste3['IDMAE_drop'].astype(str))\n",
    "#Criando coluna id_touro= none\n",
    "df_juntando_teste3 = df_juntando_teste3.assign(id_touro=None)\n",
    "df_juntando_teste3 = df_juntando_teste3.assign(id_touro=None)\n",
    "df_juntando_teste3['IDPAI'] = df_juntando_teste3['IDPAI'].fillna('')\n",
    "df_juntando_teste3['id_touro'] = None\n",
    "for i in range(len(df_juntando_teste3)):\n",
    "    if df_juntando_teste3['IDPAI'].iloc[i] != '':\n",
    "        df_juntando_teste3['id_touro'].iloc[i] = 'GIRO' + str(df_juntando_teste3['IDPAI'].iloc[i])\n",
    "#Criando coluna id_vaca= none\n",
    "df_juntando_teste3 = df_juntando_teste3.assign(id_vaca=None)\n",
    "df_juntando_teste3['IDMAE'] = df_juntando_teste3['IDMAE'].fillna('')\n",
    "df_juntando_teste3['id_vaca'] = None\n",
    "for i in range(len(df_juntando_teste3)):\n",
    "    if df_juntando_teste3['IDMAE'].iloc[i] != '':\n",
    "        df_juntando_teste3['id_vaca'].iloc[i] = 'GIRO' + str(df_juntando_teste3['IDMAE'].iloc[i])\n",
    "\n",
    "\n",
    "# Pegando rebc2_pr da tabela de fazendas\n",
    "df_juntando_teste3 = pd.merge(df_juntando_teste3, df_criadores[['rebc_or', 'codgiro']], left_on=['reb_giro'], right_on=['codgiro'])\n",
    "df_animais_com_ids = df_animais_com_ids.drop_duplicates()\n",
    "\n",
    "\n",
    "\n",
    "\n",
    "\n",
    "df_juntando_teste3 = df_juntando_teste3.drop(df_juntando_teste3.filter(regex='_drop$').columns, axis=1)\n",
    "df_juntando_teste3"
   ],
   "metadata": {
    "collapsed": false
   }
  },
  {
   "cell_type": "code",
   "execution_count": null,
   "outputs": [],
   "source": [
    "# Cirnao"
   ],
   "metadata": {
    "collapsed": false
   }
  },
  {
   "cell_type": "code",
   "execution_count": 30,
   "outputs": [
    {
     "ename": "KeyError",
     "evalue": "\"['nome', 'id_touro', 'id_vaca', 'rebc_pr', 'cod_prod'] not in index\"",
     "output_type": "error",
     "traceback": [
      "\u001B[0;31m---------------------------------------------------------------------------\u001B[0m",
      "\u001B[0;31mKeyError\u001B[0m                                  Traceback (most recent call last)",
      "Cell \u001B[0;32mIn[30], line 1\u001B[0m\n\u001B[0;32m----> 1\u001B[0m test \u001B[38;5;241m=\u001B[39m \u001B[43mformata_df_no_modelo_genealogia_embrapa\u001B[49m\u001B[43m(\u001B[49m\u001B[43mdf_juntando_teste3\u001B[49m\u001B[43m)\u001B[49m\n\u001B[1;32m      2\u001B[0m test\n",
      "Cell \u001B[0;32mIn[29], line 54\u001B[0m, in \u001B[0;36mformata_df_no_modelo_genealogia_embrapa\u001B[0;34m(df)\u001B[0m\n\u001B[1;32m     52\u001B[0m data_atual \u001B[38;5;241m=\u001B[39m datetime\u001B[38;5;241m.\u001B[39mtoday()\u001B[38;5;241m.\u001B[39mstrftime(\u001B[38;5;124m'\u001B[39m\u001B[38;5;124m%\u001B[39m\u001B[38;5;124mY-\u001B[39m\u001B[38;5;124m%\u001B[39m\u001B[38;5;124mm-\u001B[39m\u001B[38;5;132;01m%d\u001B[39;00m\u001B[38;5;124m'\u001B[39m)\n\u001B[1;32m     53\u001B[0m df[\u001B[38;5;124m'\u001B[39m\u001B[38;5;124mdata_insercao\u001B[39m\u001B[38;5;124m'\u001B[39m] \u001B[38;5;241m=\u001B[39m data_atual\n\u001B[0;32m---> 54\u001B[0m df \u001B[38;5;241m=\u001B[39m \u001B[43mdf\u001B[49m\u001B[43m[\u001B[49m\u001B[43m[\u001B[49m\u001B[38;5;124;43m'\u001B[39;49m\u001B[38;5;124;43mid_produto\u001B[39;49m\u001B[38;5;124;43m'\u001B[39;49m\u001B[43m,\u001B[49m\u001B[43m \u001B[49m\u001B[38;5;124;43m'\u001B[39;49m\u001B[38;5;124;43mid\u001B[39;49m\u001B[38;5;124;43m'\u001B[39;49m\u001B[43m,\u001B[49m\u001B[43m \u001B[49m\u001B[38;5;124;43m'\u001B[39;49m\u001B[38;5;124;43mabcz\u001B[39;49m\u001B[38;5;124;43m'\u001B[39;49m\u001B[43m,\u001B[49m\u001B[43m \u001B[49m\u001B[38;5;124;43m'\u001B[39;49m\u001B[38;5;124;43mregistro\u001B[39;49m\u001B[38;5;124;43m'\u001B[39;49m\u001B[43m,\u001B[49m\u001B[38;5;124;43m'\u001B[39;49m\u001B[38;5;124;43mnome\u001B[39;49m\u001B[38;5;124;43m'\u001B[39;49m\u001B[43m,\u001B[49m\u001B[38;5;124;43m'\u001B[39;49m\u001B[38;5;124;43msexo\u001B[39;49m\u001B[38;5;124;43m'\u001B[39;49m\u001B[43m,\u001B[49m\u001B[38;5;124;43m'\u001B[39;49m\u001B[38;5;124;43mpaternidade\u001B[39;49m\u001B[38;5;124;43m'\u001B[39;49m\u001B[43m,\u001B[49m\u001B[38;5;124;43m'\u001B[39;49m\u001B[38;5;124;43mck_sire\u001B[39;49m\u001B[38;5;124;43m'\u001B[39;49m\u001B[43m,\u001B[49m\u001B[38;5;124;43m'\u001B[39;49m\u001B[38;5;124;43mid_touro\u001B[39;49m\u001B[38;5;124;43m'\u001B[39;49m\u001B[43m,\u001B[49m\u001B[38;5;124;43m'\u001B[39;49m\u001B[38;5;124;43mid_vaca\u001B[39;49m\u001B[38;5;124;43m'\u001B[39;49m\u001B[43m,\u001B[49m\u001B[38;5;124;43m'\u001B[39;49m\u001B[38;5;124;43mck_dam\u001B[39;49m\u001B[38;5;124;43m'\u001B[39;49m\u001B[43m,\u001B[49m\u001B[38;5;124;43m'\u001B[39;49m\u001B[38;5;124;43mgen_valido\u001B[39;49m\u001B[38;5;124;43m'\u001B[39;49m\u001B[43m,\u001B[49m\u001B[38;5;124;43m'\u001B[39;49m\u001B[38;5;124;43mnasc\u001B[39;49m\u001B[38;5;124;43m'\u001B[39;49m\u001B[43m,\u001B[49m\u001B[38;5;124;43m'\u001B[39;49m\u001B[38;5;124;43mnasc_est\u001B[39;49m\u001B[38;5;124;43m'\u001B[39;49m\u001B[43m,\u001B[49m\u001B[38;5;124;43m'\u001B[39;49m\u001B[38;5;124;43mcgen_a\u001B[39;49m\u001B[38;5;124;43m'\u001B[39;49m\u001B[43m,\u001B[49m\u001B[38;5;124;43m'\u001B[39;49m\u001B[38;5;124;43mgs\u001B[39;49m\u001B[38;5;124;43m'\u001B[39;49m\u001B[43m,\u001B[49m\u001B[38;5;124;43m'\u001B[39;49m\u001B[38;5;124;43mgr_psg\u001B[39;49m\u001B[38;5;124;43m'\u001B[39;49m\u001B[43m,\u001B[49m\u001B[38;5;124;43m'\u001B[39;49m\u001B[38;5;124;43mgr_ps\u001B[39;49m\u001B[38;5;124;43m'\u001B[39;49m\u001B[43m,\u001B[49m\u001B[38;5;124;43m'\u001B[39;49m\u001B[38;5;124;43mgr_tp\u001B[39;49m\u001B[38;5;124;43m'\u001B[39;49m\u001B[43m,\u001B[49m\u001B[38;5;124;43m'\u001B[39;49m\u001B[38;5;124;43mrebc_cri\u001B[39;49m\u001B[38;5;124;43m'\u001B[39;49m\u001B[43m,\u001B[49m\u001B[38;5;124;43m'\u001B[39;49m\u001B[38;5;124;43mrebc_pr\u001B[39;49m\u001B[38;5;124;43m'\u001B[39;49m\u001B[43m,\u001B[49m\u001B[38;5;124;43m'\u001B[39;49m\u001B[38;5;124;43mcat\u001B[39;49m\u001B[38;5;124;43m'\u001B[39;49m\u001B[43m,\u001B[49m\u001B[38;5;124;43m'\u001B[39;49m\u001B[38;5;124;43mficha_a\u001B[39;49m\u001B[38;5;124;43m'\u001B[39;49m\u001B[43m,\u001B[49m\u001B[38;5;124;43m'\u001B[39;49m\u001B[38;5;124;43mcod_prod\u001B[39;49m\u001B[38;5;124;43m'\u001B[39;49m\u001B[43m,\u001B[49m\u001B[38;5;124;43m'\u001B[39;49m\u001B[38;5;124;43midanimal\u001B[39;49m\u001B[38;5;124;43m'\u001B[39;49m\u001B[43m,\u001B[49m\u001B[38;5;124;43m'\u001B[39;49m\u001B[38;5;124;43morigem\u001B[39;49m\u001B[38;5;124;43m'\u001B[39;49m\u001B[43m,\u001B[49m\u001B[43m \u001B[49m\u001B[38;5;124;43m'\u001B[39;49m\u001B[38;5;124;43mdata_insercao\u001B[39;49m\u001B[38;5;124;43m'\u001B[39;49m\u001B[43m]\u001B[49m\u001B[43m]\u001B[49m\n\u001B[1;32m     55\u001B[0m \u001B[38;5;28;01mreturn\u001B[39;00m df\n",
      "File \u001B[0;32m/Library/Frameworks/Python.framework/Versions/3.10/lib/python3.10/site-packages/pandas/core/frame.py:3811\u001B[0m, in \u001B[0;36mDataFrame.__getitem__\u001B[0;34m(self, key)\u001B[0m\n\u001B[1;32m   3809\u001B[0m     \u001B[38;5;28;01mif\u001B[39;00m is_iterator(key):\n\u001B[1;32m   3810\u001B[0m         key \u001B[38;5;241m=\u001B[39m \u001B[38;5;28mlist\u001B[39m(key)\n\u001B[0;32m-> 3811\u001B[0m     indexer \u001B[38;5;241m=\u001B[39m \u001B[38;5;28;43mself\u001B[39;49m\u001B[38;5;241;43m.\u001B[39;49m\u001B[43mcolumns\u001B[49m\u001B[38;5;241;43m.\u001B[39;49m\u001B[43m_get_indexer_strict\u001B[49m\u001B[43m(\u001B[49m\u001B[43mkey\u001B[49m\u001B[43m,\u001B[49m\u001B[43m \u001B[49m\u001B[38;5;124;43m\"\u001B[39;49m\u001B[38;5;124;43mcolumns\u001B[39;49m\u001B[38;5;124;43m\"\u001B[39;49m\u001B[43m)\u001B[49m[\u001B[38;5;241m1\u001B[39m]\n\u001B[1;32m   3813\u001B[0m \u001B[38;5;66;03m# take() does not accept boolean indexers\u001B[39;00m\n\u001B[1;32m   3814\u001B[0m \u001B[38;5;28;01mif\u001B[39;00m \u001B[38;5;28mgetattr\u001B[39m(indexer, \u001B[38;5;124m\"\u001B[39m\u001B[38;5;124mdtype\u001B[39m\u001B[38;5;124m\"\u001B[39m, \u001B[38;5;28;01mNone\u001B[39;00m) \u001B[38;5;241m==\u001B[39m \u001B[38;5;28mbool\u001B[39m:\n",
      "File \u001B[0;32m/Library/Frameworks/Python.framework/Versions/3.10/lib/python3.10/site-packages/pandas/core/indexes/base.py:6108\u001B[0m, in \u001B[0;36mIndex._get_indexer_strict\u001B[0;34m(self, key, axis_name)\u001B[0m\n\u001B[1;32m   6105\u001B[0m \u001B[38;5;28;01melse\u001B[39;00m:\n\u001B[1;32m   6106\u001B[0m     keyarr, indexer, new_indexer \u001B[38;5;241m=\u001B[39m \u001B[38;5;28mself\u001B[39m\u001B[38;5;241m.\u001B[39m_reindex_non_unique(keyarr)\n\u001B[0;32m-> 6108\u001B[0m \u001B[38;5;28;43mself\u001B[39;49m\u001B[38;5;241;43m.\u001B[39;49m\u001B[43m_raise_if_missing\u001B[49m\u001B[43m(\u001B[49m\u001B[43mkeyarr\u001B[49m\u001B[43m,\u001B[49m\u001B[43m \u001B[49m\u001B[43mindexer\u001B[49m\u001B[43m,\u001B[49m\u001B[43m \u001B[49m\u001B[43maxis_name\u001B[49m\u001B[43m)\u001B[49m\n\u001B[1;32m   6110\u001B[0m keyarr \u001B[38;5;241m=\u001B[39m \u001B[38;5;28mself\u001B[39m\u001B[38;5;241m.\u001B[39mtake(indexer)\n\u001B[1;32m   6111\u001B[0m \u001B[38;5;28;01mif\u001B[39;00m \u001B[38;5;28misinstance\u001B[39m(key, Index):\n\u001B[1;32m   6112\u001B[0m     \u001B[38;5;66;03m# GH 42790 - Preserve name from an Index\u001B[39;00m\n",
      "File \u001B[0;32m/Library/Frameworks/Python.framework/Versions/3.10/lib/python3.10/site-packages/pandas/core/indexes/base.py:6171\u001B[0m, in \u001B[0;36mIndex._raise_if_missing\u001B[0;34m(self, key, indexer, axis_name)\u001B[0m\n\u001B[1;32m   6168\u001B[0m     \u001B[38;5;28;01mraise\u001B[39;00m \u001B[38;5;167;01mKeyError\u001B[39;00m(\u001B[38;5;124mf\u001B[39m\u001B[38;5;124m\"\u001B[39m\u001B[38;5;124mNone of [\u001B[39m\u001B[38;5;132;01m{\u001B[39;00mkey\u001B[38;5;132;01m}\u001B[39;00m\u001B[38;5;124m] are in the [\u001B[39m\u001B[38;5;132;01m{\u001B[39;00maxis_name\u001B[38;5;132;01m}\u001B[39;00m\u001B[38;5;124m]\u001B[39m\u001B[38;5;124m\"\u001B[39m)\n\u001B[1;32m   6170\u001B[0m not_found \u001B[38;5;241m=\u001B[39m \u001B[38;5;28mlist\u001B[39m(ensure_index(key)[missing_mask\u001B[38;5;241m.\u001B[39mnonzero()[\u001B[38;5;241m0\u001B[39m]]\u001B[38;5;241m.\u001B[39munique())\n\u001B[0;32m-> 6171\u001B[0m \u001B[38;5;28;01mraise\u001B[39;00m \u001B[38;5;167;01mKeyError\u001B[39;00m(\u001B[38;5;124mf\u001B[39m\u001B[38;5;124m\"\u001B[39m\u001B[38;5;132;01m{\u001B[39;00mnot_found\u001B[38;5;132;01m}\u001B[39;00m\u001B[38;5;124m not in index\u001B[39m\u001B[38;5;124m\"\u001B[39m)\n",
      "\u001B[0;31mKeyError\u001B[0m: \"['nome', 'id_touro', 'id_vaca', 'rebc_pr', 'cod_prod'] not in index\""
     ]
    }
   ],
   "source": [
    "test = formata_df_no_modelo_genealogia_embrapa(df_juntando_teste3)\n",
    "test"
   ],
   "metadata": {
    "collapsed": false
   }
  },
  {
   "cell_type": "markdown",
   "source": [
    "# IDPAI != Nan"
   ],
   "metadata": {
    "collapsed": false
   }
  },
  {
   "cell_type": "code",
   "execution_count": null,
   "outputs": [],
   "source": [
    "df_juntando_teste1 = df_juntando_teste\n",
    "#Transformando id_touro em id_produto no dataframe\n",
    "df_juntando_teste1['id_produto_pedigree'] = df_juntando_teste1['id_touro_original']\n",
    "#Zerando o id_touro_original\n",
    "df_juntando_teste1['id_touro_original'] = None\n",
    "#Zerando o id_vaca_original\n",
    "df_juntando_teste1['id_vaca_original'] = None\n",
    "#Renomeando id_touro_original para id_touro\n",
    "df_juntando_teste1 = df_juntando_teste1.rename(columns={'id_touro_original':'id_vaca'})\n",
    "df_juntando_teste1\n",
    "\n",
    "\n",
    "\n",
    "\n",
    "\n",
    "\n",
    "\n",
    "\n",
    "#df_juntando_teste1 = df_juntando_teste.drop(df_juntando_teste.filter(regex='_original$').columns, axis=1)\n"
   ],
   "metadata": {
    "collapsed": false
   }
  },
  {
   "cell_type": "markdown",
   "source": [
    "Lista abaixo juntar ID_PAI com id_animal no pedigree\n",
    "drop duplicate id_animal\n",
    "criar id_touro nessa tabela sendo GIRO+IDPAI (quando idPAI != nan)\n",
    "id_touro vai virar id_produto na df_animais_com_ids\n",
    "id_pai e id_mae nulo pausa a recursividade"
   ],
   "metadata": {
    "collapsed": false
   }
  },
  {
   "cell_type": "markdown",
   "source": [
    "# Juntar df_animais_sem_id_touro pelo id_pai com id_animal no pedigree\n",
    "GSPAI != 0"
   ],
   "metadata": {
    "collapsed": false
   }
  },
  {
   "cell_type": "code",
   "execution_count": null,
   "outputs": [],
   "source": [
    "df_animais_sem_id_touro['id_touro'] = df_animais_sem_id_touro['id_touro'].fillna('GIRO' + df_animais_sem_id_touro['IDPAI'].astype(str))\n",
    "df_teste = pd.merge(df_animais_sem_id_touro, pedigree, left_on=['IDPAI'], right_on=['IDANIMAL'], suffixes=('_dir', '_esq'))\n",
    "#df_teste = df_teste.drop(df_teste.filter(regex='_drop$').columns, axis=1)\n",
    "df_teste = df_teste.drop_duplicates()\n",
    "#df_teste = df_teste.drop_duplicates(subset='IDANIMAL')\n",
    "#Criando id_touro\n",
    "df_teste['id_produto'] = df_teste['id_touro'].fillna('GIRO' + df_teste['IDPAI'].astype(str))\n",
    "df_teste"
   ],
   "metadata": {
    "collapsed": false
   }
  },
  {
   "cell_type": "markdown",
   "source": [
    "Tabela de fazendas pegar o rebc2_pr -> rebc2-or (fazendas) <- reb_giro(df_animais_com_id)\n",
    "\n",
    "ABCZ - S = Quando cod prod > 0 ABCZ\n",
    "cat cod_prod >0 (5 comprac 11) ABCZ\n",
    "\n",
    "id = id_produto\n",
    "nas e nasc_est = DNASC\n"
   ],
   "metadata": {
    "collapsed": false
   }
  },
  {
   "cell_type": "markdown",
   "source": [
    "# Separando os animais com id_touro e id_vaca que possuem COMPRAC = 11 dos que nao possuem"
   ],
   "metadata": {
    "collapsed": false
   }
  },
  {
   "cell_type": "code",
   "execution_count": null,
   "outputs": [],
   "source": [
    "# Pegando rebc2_pr da tabela de fazendas\n",
    "df_animais_com_ids = pd.merge(df_animais_com_ids, df_criadores[['rebc_or', 'codgiro']], left_on=['reb_giro'], right_on=['codgiro'])\n",
    "df_animais_com_ids = df_animais_com_ids.drop_duplicates()\n",
    "df_animais_com_ids_abcz = df_animais_com_ids[df_animais_com_ids['COMPRAC']==11]\n",
    "df_animais_com_ids = df_animais_com_ids[df_animais_com_ids['COMPRAC']!=11]\n",
    "df_animais_com_ids"
   ],
   "metadata": {
    "collapsed": false
   }
  },
  {
   "cell_type": "markdown",
   "source": [
    "# Tabela com os animais que possuem comprac = 11"
   ],
   "metadata": {
    "collapsed": false
   }
  },
  {
   "cell_type": "code",
   "execution_count": null,
   "outputs": [],
   "source": [
    "df_animais_com_ids_abcz"
   ],
   "metadata": {
    "collapsed": false
   }
  },
  {
   "cell_type": "markdown",
   "source": [
    "# Juntando a tabela dos animais com ids encontrados que possuem comprac = 11 com o genealogia abcz"
   ],
   "metadata": {
    "collapsed": false
   }
  },
  {
   "cell_type": "code",
   "execution_count": null,
   "outputs": [],
   "source": [
    "df_animais_com_ids_abcz = pd.merge(df_animais_com_ids_abcz, df_genealogia_abcz[['cod_prod', 'cat']], on=['cod_prod'])\n",
    "df_animais_com_ids_abcz"
   ],
   "metadata": {
    "collapsed": false
   }
  },
  {
   "cell_type": "markdown",
   "source": [
    "# Formatando dataframes no modelo da tabela Genealogia Embrapa do Banco de dados"
   ],
   "metadata": {
    "collapsed": false
   }
  },
  {
   "cell_type": "code",
   "execution_count": null,
   "outputs": [],
   "source": [
    "df_animais_com_ids_abcz = formata_df_no_modelo_genealogia_embrapa(df_animais_com_ids_abcz)\n",
    "df_animais_com_ids = formata_df_no_modelo_genealogia_embrapa(df_animais_com_ids)\n",
    "df_animais_com_ids = pd.concat([df_animais_com_ids, df_animais_com_ids_abcz])\n",
    "df_animais_com_ids"
   ],
   "metadata": {
    "collapsed": false
   }
  },
  {
   "cell_type": "code",
   "execution_count": null,
   "outputs": [],
   "source": [],
   "metadata": {
    "collapsed": false
   }
  }
 ],
 "metadata": {
  "kernelspec": {
   "display_name": "Python 3",
   "language": "python",
   "name": "python3"
  },
  "language_info": {
   "codemirror_mode": {
    "name": "ipython",
    "version": 2
   },
   "file_extension": ".py",
   "mimetype": "text/x-python",
   "name": "python",
   "nbconvert_exporter": "python",
   "pygments_lexer": "ipython2",
   "version": "2.7.6"
  }
 },
 "nbformat": 4,
 "nbformat_minor": 0
}
