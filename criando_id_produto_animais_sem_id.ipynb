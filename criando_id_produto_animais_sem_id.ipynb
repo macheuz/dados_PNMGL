{
 "cells": [
  {
   "cell_type": "code",
   "execution_count": 1,
   "outputs": [],
   "source": [
    "import pandas as pd\n",
    "import warnings\n",
    "import re\n",
    "import tables\n",
    "warnings.filterwarnings('ignore')"
   ],
   "metadata": {
    "collapsed": false
   }
  },
  {
   "cell_type": "markdown",
   "source": [
    "# Lendo planilhas"
   ],
   "metadata": {
    "collapsed": false
   }
  },
  {
   "cell_type": "code",
   "execution_count": 2,
   "outputs": [],
   "source": [
    "df_animais_sem_id = pd.read_hdf('df_animais_sem_id.h5', key='df')\n",
    "df_genealogia_embrapa = pd.read_hdf('df_genealogia_embrapa.h5', key='df')\n",
    "df_fazendas = pd.read_hdf('df_fazendas.h5', key='df')\n",
    "df_criadores = pd.read_hdf('df_criadores.h5', key='df')\n",
    "pedigree = pd.read_csv(\"pedrigree - Girolando - 17-02-2023.txt\", encoding='ISO-8859-1')"
   ],
   "metadata": {
    "collapsed": false
   }
  },
  {
   "cell_type": "markdown",
   "source": [
    "# Imprimindo dataframes"
   ],
   "metadata": {
    "collapsed": false
   }
  },
  {
   "cell_type": "code",
   "execution_count": 3,
   "outputs": [],
   "source": [
    "df_animais_sem_id = df_animais_sem_id.drop_duplicates()\n",
    "df_animais_sem_id = df_animais_sem_id.drop(columns='id_produto_x')\n",
    "df_animais_sem_id = df_animais_sem_id.drop(columns='id_produto_y')\n",
    "#df_animais_sem_id"
   ],
   "metadata": {
    "collapsed": false
   }
  },
  {
   "cell_type": "markdown",
   "source": [
    "# Criando dataframe df_animais_sem_id_completo pela juncao do df_animais_sem_id com pedigree\n",
    "Obs: Mantendo somente o primeiro registro dos animais com IDANIMAL duplicados"
   ],
   "metadata": {
    "collapsed": false
   }
  },
  {
   "cell_type": "code",
   "execution_count": 4,
   "outputs": [],
   "source": [
    "df_animais_sem_id_completo = pd.merge(df_animais_sem_id, pedigree, on=['IDANIMAL'], how='left', indicator=True, suffixes=('','_drop'))\n",
    "df_animais_sem_id_completo = df_animais_sem_id_completo.drop(df_animais_sem_id_completo.filter(regex='_drop$').columns, axis=1)\n",
    "df_animais_sem_id_completo = df_animais_sem_id_completo[df_animais_sem_id_completo['_merge']=='both']\n",
    "df_animais_sem_id_completo = df_animais_sem_id_completo.drop_duplicates(subset='IDANIMAL')\n",
    "#df_animais_sem_id_completo"
   ],
   "metadata": {
    "collapsed": false
   }
  },
  {
   "cell_type": "markdown",
   "source": [
    "# Criando id_produto dos animais que não possuem id_produto\n",
    "obs: id_produto = giro+IDANIMAL"
   ],
   "metadata": {
    "collapsed": false
   }
  },
  {
   "cell_type": "code",
   "execution_count": 5,
   "outputs": [],
   "source": [
    "df_animais_sem_id_completo['id_produto'] = df_animais_sem_id_completo['id_produto'].fillna('GIRO' + df_animais_sem_id_completo['IDANIMAL'].astype(str))\n",
    "df_animais_sem_id_completo = df_animais_sem_id_completo.drop(columns='_merge')\n",
    "#df_animais_sem_id_completo"
   ],
   "metadata": {
    "collapsed": false
   }
  },
  {
   "cell_type": "markdown",
   "source": [
    "# Juntando df_animais_sem_id_completo (idpai) com genealogia_embrapa (idanimal) tabela separada para pedigree"
   ],
   "metadata": {
    "collapsed": false
   }
  },
  {
   "cell_type": "code",
   "execution_count": 6,
   "outputs": [],
   "source": [
    "df_animais_sem_id_completo = pd.merge(df_animais_sem_id_completo, df_genealogia_embrapa[['id_produto', 'IDANIMAL']],left_on=['IDPAI'], how='left', right_on=['IDANIMAL'], suffixes=('', '_drop'))\n",
    "df_animais_sem_id_completo = df_animais_sem_id_completo.drop_duplicates()\n",
    "#df_animais_sem_id_completo"
   ],
   "metadata": {
    "collapsed": false
   }
  },
  {
   "cell_type": "markdown",
   "source": [
    "# Juntando df_animais_sem_id_completo (idmae) com genealogia_embrapa (idanimal)"
   ],
   "metadata": {
    "collapsed": false
   }
  },
  {
   "cell_type": "code",
   "execution_count": 7,
   "outputs": [],
   "source": [
    "df_animais_sem_id_completo = pd.merge(df_animais_sem_id_completo, df_genealogia_embrapa[['id_produto', 'IDANIMAL']],left_on=['IDMAE'], how='left', right_on=['IDANIMAL'], suffixes=('', '_tes'))\n",
    "df_animais_sem_id_completo = df_animais_sem_id_completo.drop_duplicates()\n",
    "#df_animais_sem_id_completo"
   ],
   "metadata": {
    "collapsed": false
   }
  },
  {
   "cell_type": "markdown",
   "source": [
    "# Adicionando coluna IDTOURO e id_vaca no df_animais_sem_id_completo"
   ],
   "metadata": {
    "collapsed": false
   }
  },
  {
   "cell_type": "code",
   "execution_count": 8,
   "outputs": [],
   "source": [
    "df_animais_sem_id_completo = df_animais_sem_id_completo.rename(columns={'id_produto_drop':'id_touro'})\n",
    "df_animais_sem_id_completo = df_animais_sem_id_completo.rename(columns={'id_produto_tes':'id_vaca'})\n",
    "df_animais_sem_id_completo = df_animais_sem_id_completo.drop(columns='IDANIMAL_drop')\n",
    "df_animais_sem_id_completo = df_animais_sem_id_completo.drop(columns='IDANIMAL_tes')\n",
    "#df_animais_sem_id_completo"
   ],
   "metadata": {
    "collapsed": false
   }
  },
  {
   "cell_type": "markdown",
   "source": [
    "# Buscando o id_touro pelo cod_pai na genealogia_embrapa"
   ],
   "metadata": {
    "collapsed": false
   }
  },
  {
   "cell_type": "code",
   "execution_count": 9,
   "outputs": [],
   "source": [
    "df_id_touro = pd.merge(df_animais_sem_id_completo, df_genealogia_embrapa[['id_produto', 'cod_prod']], left_on=['cod_pai'], right_on=['cod_prod'], suffixes=('', '_drop'))\n",
    "#df_id_touro"
   ],
   "metadata": {
    "collapsed": false
   }
  },
  {
   "cell_type": "markdown",
   "source": [
    "# Adicionando o id_touro no dataframe com todas as colunas pelo id_animal"
   ],
   "metadata": {
    "collapsed": false
   }
  },
  {
   "cell_type": "code",
   "execution_count": 10,
   "outputs": [],
   "source": [
    "df_animais_sem_id_completo = pd.merge(df_animais_sem_id_completo, df_id_touro[['IDANIMAL','id_produto_drop']], on=['IDANIMAL'], how='left')\n",
    "df_animais_sem_id_completo = df_animais_sem_id_completo.drop_duplicates()\n",
    "df_animais_sem_id_completo['id_touro'].fillna(df_animais_sem_id_completo['id_produto_drop'], inplace=True)\n",
    "df_animais_sem_id_completo = df_animais_sem_id_completo.drop(columns='id_produto_drop')\n",
    "#df_animais_sem_id_completo"
   ],
   "metadata": {
    "collapsed": false
   }
  },
  {
   "cell_type": "markdown",
   "source": [
    "# Buscando o id_vaca pelo cod_vaca na genealogia_embrapa"
   ],
   "metadata": {
    "collapsed": false
   }
  },
  {
   "cell_type": "code",
   "execution_count": 11,
   "outputs": [],
   "source": [
    "df_id_vaca = pd.merge(df_animais_sem_id_completo, df_genealogia_embrapa[['id_produto', 'cod_prod']], left_on=['cod_mae'], right_on=['cod_prod'], indicator=True, suffixes=('', '_drop'))\n",
    "#df_id_vaca"
   ],
   "metadata": {
    "collapsed": false
   }
  },
  {
   "cell_type": "markdown",
   "source": [
    "# Adicionando id_vaca no dataframe com todas as colunas"
   ],
   "metadata": {
    "collapsed": false
   }
  },
  {
   "cell_type": "code",
   "execution_count": 12,
   "outputs": [],
   "source": [
    "df_animais_sem_id_completo = pd.merge(df_animais_sem_id_completo, df_id_vaca[['IDANIMAL','id_produto_drop']], on=['IDANIMAL'], how='left')\n",
    "df_animais_sem_id_completo = df_animais_sem_id_completo.drop_duplicates()\n",
    "df_animais_sem_id_completo['id_vaca'].fillna(df_animais_sem_id_completo['id_produto_drop'], inplace=True)\n",
    "df_animais_sem_id_completo = df_animais_sem_id_completo.drop(columns='id_produto_drop')\n",
    "#df_animais_sem_id_completo"
   ],
   "metadata": {
    "collapsed": false
   }
  },
  {
   "cell_type": "markdown",
   "source": [
    "# Pegando o id_produto que vira id_touro dos touros_gir na genealogia embrapa, em que o registro comeca com 3 letras"
   ],
   "metadata": {
    "collapsed": false
   }
  },
  {
   "cell_type": "code",
   "execution_count": 13,
   "outputs": [],
   "source": [
    "# somente gs_pai=11 e gs = 0 na genealogia\n",
    "df_sub_tabela_gir = df_animais_sem_id_completo[df_animais_sem_id_completo['GSPAI']==11]\n",
    "df_sub_tabela_gir = df_sub_tabela_gir[df_sub_tabela_gir['RGPAI'].apply(lambda x: bool(re.match(r'^[a-zA-Z]{3}', x)))]\n",
    "#df_sub_tabela_gir"
   ],
   "metadata": {
    "collapsed": false
   }
  },
  {
   "cell_type": "markdown",
   "source": [
    "# Pegando o id_produto que vira id_vaca das vacas_gir na genealogia embrapa, em que o registro comeca com 3 letras"
   ],
   "metadata": {
    "collapsed": false
   }
  },
  {
   "cell_type": "code",
   "execution_count": 14,
   "outputs": [],
   "source": [
    "# somente gs_pai=11 e gs = 0 na genealogia\n",
    "df_sub_tabela_gir1 = df_animais_sem_id_completo[df_animais_sem_id_completo['GSMAE']==11]\n",
    "df_sub_tabela_gir1 = df_sub_tabela_gir1[df_sub_tabela_gir1['RGMAE'].apply(lambda x: bool(re.match(r'^[a-zA-Z]{3}', x)))]\n",
    "#df_sub_tabela_gir1"
   ],
   "metadata": {
    "collapsed": false
   }
  },
  {
   "cell_type": "markdown",
   "source": [
    "# Juntando a genealogia embrapa com os touros comecando com 3 letras e gs 11"
   ],
   "metadata": {
    "collapsed": false
   }
  },
  {
   "cell_type": "code",
   "execution_count": 15,
   "outputs": [],
   "source": [
    "df_sub_touros_id = pd.merge(df_sub_tabela_gir, df_genealogia_embrapa[['id_produto','registro']], left_on=['RGPAI'], right_on=['registro'])\n",
    "#df_sub_touros_id"
   ],
   "metadata": {
    "collapsed": false
   }
  },
  {
   "cell_type": "markdown",
   "source": [
    "# Juntando a genealogia embrapa com as vacas comecando com 3 letras e gs 11"
   ],
   "metadata": {
    "collapsed": false
   }
  },
  {
   "cell_type": "code",
   "execution_count": 16,
   "outputs": [],
   "source": [
    "df_sub_vacas_id = pd.merge(df_sub_tabela_gir1, df_genealogia_embrapa[['id_produto','registro']], left_on=['RGMAE'], right_on=['registro'])\n",
    "#df_sub_vacas_id"
   ],
   "metadata": {
    "collapsed": false
   }
  },
  {
   "cell_type": "code",
   "execution_count": 17,
   "outputs": [],
   "source": [
    "df_animais_sem_id_completo = pd.merge(df_animais_sem_id_completo, df_sub_touros_id[['IDANIMAL', 'id_produto_y']], on=['IDANIMAL'], how='left')\n",
    "df_animais_sem_id_completo['id_touro'].fillna(df_animais_sem_id_completo['id_produto_y'], inplace=True)\n",
    "df_animais_sem_id_completo = df_animais_sem_id_completo.drop(columns='id_produto_y')\n",
    "df_animais_sem_id_completo = pd.merge(df_animais_sem_id_completo, df_sub_vacas_id[['IDANIMAL', 'id_produto_y']], on=['IDANIMAL'], how='left')\n",
    "df_animais_sem_id_completo['id_vaca'].fillna(df_animais_sem_id_completo['id_produto_y'], inplace=True)\n",
    "df_animais_sem_id_completo = df_animais_sem_id_completo.drop(columns='id_produto_y')\n",
    "#df_animais_sem_id_completo"
   ],
   "metadata": {
    "collapsed": false
   }
  },
  {
   "cell_type": "markdown",
   "source": [
    "Juntar codigo acima com genealogia\n",
    "RGPAI(df_sub_tabela_gir) liga com registro(genealogia)\n",
    "duplicar solucao para mae\n",
    "RGPAI RGMAE RGVACA GS=11 retirar acentos e espacos"
   ],
   "metadata": {
    "collapsed": false
   }
  },
  {
   "cell_type": "markdown",
   "source": [
    "# Pegando os id_produto's dos touros_gir na genealogia embrapa, em que o registro nao comeca com 3 letras"
   ],
   "metadata": {
    "collapsed": false
   }
  },
  {
   "cell_type": "code",
   "execution_count": 18,
   "outputs": [],
   "source": [
    "df_sub_tabela_gir1 = df_animais_sem_id_completo[df_animais_sem_id_completo['GSPAI']==11]\n",
    "df_sub_tabela_gir1 = df_sub_tabela_gir1[~df_sub_tabela_gir1['RGPAI'].apply(lambda x: bool(re.match(r'^[a-zA-Z]{3}', x)))]\n",
    "#Pegando os 4 primeiros caracteres do nome\n",
    "df_sub_tabela_gir1['nome4caracteres'] = df_sub_tabela_gir1['nomep'].str.slice(start=0, stop=4)\n",
    "\n",
    "\n",
    "df_subtabela_genealogia = df_genealogia_embrapa\n",
    "df_subtabela_genealogia = df_subtabela_genealogia[df_subtabela_genealogia['gs']==0]\n",
    "df_subtabela_genealogia = df_subtabela_genealogia[df_subtabela_genealogia['sexo']=='M']\n",
    "df_subtabela_genealogia = df_subtabela_genealogia[~df_subtabela_genealogia['registro'].isnull()]\n",
    "df_subtabela_genealogia = df_subtabela_genealogia[~df_subtabela_genealogia['nome'].isnull()]\n",
    "df_subtabela_genealogia = df_subtabela_genealogia[~df_subtabela_genealogia['registro'].apply(lambda x: bool(re.match(r'^[a-zA-Z]{3}', x)))]\n",
    "df_subtabela_genealogia['nome4caracteres'] = df_subtabela_genealogia['nome'].str.slice(start=0, stop=4)\n",
    "\n",
    "dj_juntando_tabelas = pd.merge(df_sub_tabela_gir1, df_subtabela_genealogia[['id_produto', 'registro', 'nome4caracteres']], left_on=['nome4caracteres', 'RGPAI'], right_on=['nome4caracteres', 'registro'])\n",
    "#dj_juntando_tabelas"
   ],
   "metadata": {
    "collapsed": false
   }
  },
  {
   "cell_type": "markdown",
   "source": [
    "# Pegando os id_produto’s das vacas na genealogia embrapa, em que o registro nao comeca com 3 letras"
   ],
   "metadata": {
    "collapsed": false
   }
  },
  {
   "cell_type": "code",
   "execution_count": 19,
   "outputs": [],
   "source": [
    "df_sub_tabela_gir2 = df_animais_sem_id_completo[df_animais_sem_id_completo['GSMAE']==11]\n",
    "df_sub_tabela_gir2 = df_sub_tabela_gir2[~df_sub_tabela_gir2['RGMAE'].apply(lambda x: bool(re.match(r'^[a-zA-Z]{3}', x)))]\n",
    "#Pegando os 4 primeiros caracteres do nome\n",
    "df_sub_tabela_gir2['nome4caracteres'] = df_sub_tabela_gir2['nomem'].str.slice(start=0, stop=4)\n",
    "\n",
    "\n",
    "df_subtabela_genealogia1 = df_genealogia_embrapa\n",
    "df_subtabela_genealogia1 = df_subtabela_genealogia1[df_subtabela_genealogia1['gs']==0]\n",
    "df_subtabela_genealogia1 = df_subtabela_genealogia1[df_subtabela_genealogia1['sexo']=='F']\n",
    "df_subtabela_genealogia1 = df_subtabela_genealogia1[~df_subtabela_genealogia1['registro'].isnull()]\n",
    "df_subtabela_genealogia1 = df_subtabela_genealogia1[~df_subtabela_genealogia1['nome'].isnull()]\n",
    "df_subtabela_genealogia1 = df_subtabela_genealogia1[~df_subtabela_genealogia1['registro'].apply(lambda x: bool(re.match(r'^[a-zA-Z]{3}', x)))]\n",
    "df_subtabela_genealogia1['nome4caracteres'] = df_subtabela_genealogia1['nome'].str.slice(start=0, stop=4)\n",
    "\n",
    "dj_juntando_tabelas1 = pd.merge(df_sub_tabela_gir2, df_subtabela_genealogia1[['id_produto', 'registro', 'nome4caracteres']], left_on=['nome4caracteres', 'RGMAE'], right_on=['nome4caracteres', 'registro'])\n",
    "#dj_juntando_tabelas1"
   ],
   "metadata": {
    "collapsed": false
   }
  },
  {
   "cell_type": "markdown",
   "source": [
    "# Adicionando ID's touros e ID's vacas encontrados em que o registro não comeca com 3 letras na df_animais_sem_id_completo"
   ],
   "metadata": {
    "collapsed": false
   }
  },
  {
   "cell_type": "code",
   "execution_count": 20,
   "outputs": [],
   "source": [
    "df_animais_sem_id_completo = pd.merge(df_animais_sem_id_completo, dj_juntando_tabelas[['IDANIMAL', 'id_produto_y']], on=['IDANIMAL'], how='left')\n",
    "df_animais_sem_id_completo['id_touro'].fillna(df_animais_sem_id_completo['id_produto_y'], inplace=True)\n",
    "df_animais_sem_id_completo = df_animais_sem_id_completo.drop(columns='id_produto_y')\n",
    "df_animais_sem_id_completo = pd.merge(df_animais_sem_id_completo, dj_juntando_tabelas1[['IDANIMAL', 'id_produto_y']], on=['IDANIMAL'], how='left')\n",
    "df_animais_sem_id_completo['id_vaca'].fillna(df_animais_sem_id_completo['id_produto_y'], inplace=True)\n",
    "df_animais_sem_id_completo = df_animais_sem_id_completo.drop(columns='id_produto_y')\n",
    "#df_animais_sem_id_completo"
   ],
   "metadata": {
    "collapsed": false
   }
  },
  {
   "cell_type": "markdown",
   "source": [
    "# Lista de animais com id_vaca E id_touro"
   ],
   "metadata": {
    "collapsed": false
   }
  },
  {
   "cell_type": "code",
   "execution_count": 21,
   "outputs": [],
   "source": [
    "df_animais_com_ids = df_animais_sem_id_completo[~df_animais_sem_id_completo['id_vaca'].isnull() & ~df_animais_sem_id_completo['id_touro'].isnull()]\n",
    "#df_animais_com_ids"
   ],
   "metadata": {
    "collapsed": false
   }
  },
  {
   "cell_type": "markdown",
   "source": [
    "# Lista de animais sem id_touro e sem id_vaca"
   ],
   "metadata": {
    "collapsed": false
   }
  },
  {
   "cell_type": "code",
   "execution_count": 22,
   "outputs": [
    {
     "data": {
      "text/plain": "     reb_giro                           nomea  COMPRAC   RGVACA  \\\n14       8494       WILY 1151 DA JCS C.BONITA       38  3468-BJ   \n35       5192  LIGIA FIV HUMBLENKIND 2403 RS        34  0578-BG   \n38       8494    VAIDOSA 1108 DA JCS C.BONITA       14  3470-BJ   \n54      10032       ELITE RECANTO DO COQUEIRO       58  8014-BH   \n65      10032      BELEZA RECANTO DO COQUEIRO       12  3748-AS   \n..        ...                             ...      ...      ...   \n523      1026             ARTEMIS FBS CAETANO       12  6396-AR   \n528      5191             ORGANICA 5/8-591 2K       34  3860-BD   \n530     10032          SERRA NEGRA DA SANQUIT       12  5043-AP   \n542      1129                     UARA ANGICO       34  8692-AX   \n553     10032              CATUABA F.DA BARRA       12  2720-BM   \n\n                            nomep  GSPAI     RGPAI               nomem  GSMAE  \\\n14                              0      0         0                   0      0   \n35    COOKIECUTTER HUMBLENKIND-ET     10  AX152772  KIRIA FIV ALAMBARI     12   \n38                              0      0         0                   0      0   \n54                              0      0         0                   0      0   \n65                              0      0         0                   0      0   \n..                            ...    ...       ...                 ...    ...   \n523                             0      0         0                   0      0   \n528  CACIQUE A. JORDAN NOVA TERRA     58    9140-M         GRINALDA 2K     78   \n530                             0      0         0                   0      0   \n542                             0      0         0                   0      0   \n553                             0      0         0                   0      0   \n\n       RGMAE  ...    AN                                        NOMEVACA  \\\n14         0  ...  2019                       WILY 1151 DA JCS C.BONITA   \n35   5885-AT  ...  2019  LIGIA FIV HUMBLENKIND 2403 RS DO RANCHO ALEGRE   \n38         0  ...  2018                    VAIDOSA 1108 DA JCS C.BONITA   \n54         0  ...  2019                       ELITE RECANTO DO COQUEIRO   \n65         0  ...  2014                      BELEZA RECANTO DO COQUEIRO   \n..       ...  ...   ...                                             ...   \n523        0  ...  2013                             ARTEMIS FBS CAETANO   \n528  6223-AA  ...  2018                             ORGANICA 5/8-591 2K   \n530        0  ...  2013                          SERRA NEGRA DA SANQUIT   \n542        0  ...  2017                                     UARA ANGICO   \n553        0  ...  2015                              CATUABA F.DA BARRA   \n\n          DNASC SEXO                       NOMEPAI             NOMEMAE  \\\n14   04/02/2019    F                           NaN                 NaN   \n35   30/04/2019    F   COOKIECUTTER HUMBLENKIND-ET  KIRIA FIV ALAMBARI   \n38   18/08/2018    F                           NaN                 NaN   \n54   25/08/2019    F                           NaN                 NaN   \n65   10/09/2014    F                           NaN                 NaN   \n..          ...  ...                           ...                 ...   \n523  22/10/2013    F                           NaN                 NaN   \n528  03/04/2018    F  CACIQUE A. JORDAN NOVA TERRA         GRINALDA 2K   \n530  31/05/2013    F                           NaN                 NaN   \n542  03/02/2017    F                           NaN                 NaN   \n553  01/09/2015    F                           NaN                 NaN   \n\n            cgen_a  comb  id_touro  id_vaca  \n14   3/8HOL 5/8GIR   417       NaN      NaN  \n35   3/4HOL 1/4GIR   795       NaN      NaN  \n38   1/4HOL 3/4GIR   315       NaN      NaN  \n54   5/8HOL 3/8GIR   693       NaN      NaN  \n65   1/2HOL 1/2GIR   519       NaN      NaN  \n..             ...   ...       ...      ...  \n523  1/2HOL 1/2GIR   519       NaN      NaN  \n528  3/4HOL 1/4GIR   795       NaN      NaN  \n530  1/2HOL 1/2GIR   519       NaN      NaN  \n542  3/4HOL 1/4GIR   795       NaN      NaN  \n553  1/2HOL 1/2GIR   519       NaN      NaN  \n\n[74 rows x 62 columns]",
      "text/html": "<div>\n<style scoped>\n    .dataframe tbody tr th:only-of-type {\n        vertical-align: middle;\n    }\n\n    .dataframe tbody tr th {\n        vertical-align: top;\n    }\n\n    .dataframe thead th {\n        text-align: right;\n    }\n</style>\n<table border=\"1\" class=\"dataframe\">\n  <thead>\n    <tr style=\"text-align: right;\">\n      <th></th>\n      <th>reb_giro</th>\n      <th>nomea</th>\n      <th>COMPRAC</th>\n      <th>RGVACA</th>\n      <th>nomep</th>\n      <th>GSPAI</th>\n      <th>RGPAI</th>\n      <th>nomem</th>\n      <th>GSMAE</th>\n      <th>RGMAE</th>\n      <th>...</th>\n      <th>AN</th>\n      <th>NOMEVACA</th>\n      <th>DNASC</th>\n      <th>SEXO</th>\n      <th>NOMEPAI</th>\n      <th>NOMEMAE</th>\n      <th>cgen_a</th>\n      <th>comb</th>\n      <th>id_touro</th>\n      <th>id_vaca</th>\n    </tr>\n  </thead>\n  <tbody>\n    <tr>\n      <th>14</th>\n      <td>8494</td>\n      <td>WILY 1151 DA JCS C.BONITA</td>\n      <td>38</td>\n      <td>3468-BJ</td>\n      <td>0</td>\n      <td>0</td>\n      <td>0</td>\n      <td>0</td>\n      <td>0</td>\n      <td>0</td>\n      <td>...</td>\n      <td>2019</td>\n      <td>WILY 1151 DA JCS C.BONITA</td>\n      <td>04/02/2019</td>\n      <td>F</td>\n      <td>NaN</td>\n      <td>NaN</td>\n      <td>3/8HOL 5/8GIR</td>\n      <td>417</td>\n      <td>NaN</td>\n      <td>NaN</td>\n    </tr>\n    <tr>\n      <th>35</th>\n      <td>5192</td>\n      <td>LIGIA FIV HUMBLENKIND 2403 RS</td>\n      <td>34</td>\n      <td>0578-BG</td>\n      <td>COOKIECUTTER HUMBLENKIND-ET</td>\n      <td>10</td>\n      <td>AX152772</td>\n      <td>KIRIA FIV ALAMBARI</td>\n      <td>12</td>\n      <td>5885-AT</td>\n      <td>...</td>\n      <td>2019</td>\n      <td>LIGIA FIV HUMBLENKIND 2403 RS DO RANCHO ALEGRE</td>\n      <td>30/04/2019</td>\n      <td>F</td>\n      <td>COOKIECUTTER HUMBLENKIND-ET</td>\n      <td>KIRIA FIV ALAMBARI</td>\n      <td>3/4HOL 1/4GIR</td>\n      <td>795</td>\n      <td>NaN</td>\n      <td>NaN</td>\n    </tr>\n    <tr>\n      <th>38</th>\n      <td>8494</td>\n      <td>VAIDOSA 1108 DA JCS C.BONITA</td>\n      <td>14</td>\n      <td>3470-BJ</td>\n      <td>0</td>\n      <td>0</td>\n      <td>0</td>\n      <td>0</td>\n      <td>0</td>\n      <td>0</td>\n      <td>...</td>\n      <td>2018</td>\n      <td>VAIDOSA 1108 DA JCS C.BONITA</td>\n      <td>18/08/2018</td>\n      <td>F</td>\n      <td>NaN</td>\n      <td>NaN</td>\n      <td>1/4HOL 3/4GIR</td>\n      <td>315</td>\n      <td>NaN</td>\n      <td>NaN</td>\n    </tr>\n    <tr>\n      <th>54</th>\n      <td>10032</td>\n      <td>ELITE RECANTO DO COQUEIRO</td>\n      <td>58</td>\n      <td>8014-BH</td>\n      <td>0</td>\n      <td>0</td>\n      <td>0</td>\n      <td>0</td>\n      <td>0</td>\n      <td>0</td>\n      <td>...</td>\n      <td>2019</td>\n      <td>ELITE RECANTO DO COQUEIRO</td>\n      <td>25/08/2019</td>\n      <td>F</td>\n      <td>NaN</td>\n      <td>NaN</td>\n      <td>5/8HOL 3/8GIR</td>\n      <td>693</td>\n      <td>NaN</td>\n      <td>NaN</td>\n    </tr>\n    <tr>\n      <th>65</th>\n      <td>10032</td>\n      <td>BELEZA RECANTO DO COQUEIRO</td>\n      <td>12</td>\n      <td>3748-AS</td>\n      <td>0</td>\n      <td>0</td>\n      <td>0</td>\n      <td>0</td>\n      <td>0</td>\n      <td>0</td>\n      <td>...</td>\n      <td>2014</td>\n      <td>BELEZA RECANTO DO COQUEIRO</td>\n      <td>10/09/2014</td>\n      <td>F</td>\n      <td>NaN</td>\n      <td>NaN</td>\n      <td>1/2HOL 1/2GIR</td>\n      <td>519</td>\n      <td>NaN</td>\n      <td>NaN</td>\n    </tr>\n    <tr>\n      <th>...</th>\n      <td>...</td>\n      <td>...</td>\n      <td>...</td>\n      <td>...</td>\n      <td>...</td>\n      <td>...</td>\n      <td>...</td>\n      <td>...</td>\n      <td>...</td>\n      <td>...</td>\n      <td>...</td>\n      <td>...</td>\n      <td>...</td>\n      <td>...</td>\n      <td>...</td>\n      <td>...</td>\n      <td>...</td>\n      <td>...</td>\n      <td>...</td>\n      <td>...</td>\n      <td>...</td>\n    </tr>\n    <tr>\n      <th>523</th>\n      <td>1026</td>\n      <td>ARTEMIS FBS CAETANO</td>\n      <td>12</td>\n      <td>6396-AR</td>\n      <td>0</td>\n      <td>0</td>\n      <td>0</td>\n      <td>0</td>\n      <td>0</td>\n      <td>0</td>\n      <td>...</td>\n      <td>2013</td>\n      <td>ARTEMIS FBS CAETANO</td>\n      <td>22/10/2013</td>\n      <td>F</td>\n      <td>NaN</td>\n      <td>NaN</td>\n      <td>1/2HOL 1/2GIR</td>\n      <td>519</td>\n      <td>NaN</td>\n      <td>NaN</td>\n    </tr>\n    <tr>\n      <th>528</th>\n      <td>5191</td>\n      <td>ORGANICA 5/8-591 2K</td>\n      <td>34</td>\n      <td>3860-BD</td>\n      <td>CACIQUE A. JORDAN NOVA TERRA</td>\n      <td>58</td>\n      <td>9140-M</td>\n      <td>GRINALDA 2K</td>\n      <td>78</td>\n      <td>6223-AA</td>\n      <td>...</td>\n      <td>2018</td>\n      <td>ORGANICA 5/8-591 2K</td>\n      <td>03/04/2018</td>\n      <td>F</td>\n      <td>CACIQUE A. JORDAN NOVA TERRA</td>\n      <td>GRINALDA 2K</td>\n      <td>3/4HOL 1/4GIR</td>\n      <td>795</td>\n      <td>NaN</td>\n      <td>NaN</td>\n    </tr>\n    <tr>\n      <th>530</th>\n      <td>10032</td>\n      <td>SERRA NEGRA DA SANQUIT</td>\n      <td>12</td>\n      <td>5043-AP</td>\n      <td>0</td>\n      <td>0</td>\n      <td>0</td>\n      <td>0</td>\n      <td>0</td>\n      <td>0</td>\n      <td>...</td>\n      <td>2013</td>\n      <td>SERRA NEGRA DA SANQUIT</td>\n      <td>31/05/2013</td>\n      <td>F</td>\n      <td>NaN</td>\n      <td>NaN</td>\n      <td>1/2HOL 1/2GIR</td>\n      <td>519</td>\n      <td>NaN</td>\n      <td>NaN</td>\n    </tr>\n    <tr>\n      <th>542</th>\n      <td>1129</td>\n      <td>UARA ANGICO</td>\n      <td>34</td>\n      <td>8692-AX</td>\n      <td>0</td>\n      <td>0</td>\n      <td>0</td>\n      <td>0</td>\n      <td>0</td>\n      <td>0</td>\n      <td>...</td>\n      <td>2017</td>\n      <td>UARA ANGICO</td>\n      <td>03/02/2017</td>\n      <td>F</td>\n      <td>NaN</td>\n      <td>NaN</td>\n      <td>3/4HOL 1/4GIR</td>\n      <td>795</td>\n      <td>NaN</td>\n      <td>NaN</td>\n    </tr>\n    <tr>\n      <th>553</th>\n      <td>10032</td>\n      <td>CATUABA F.DA BARRA</td>\n      <td>12</td>\n      <td>2720-BM</td>\n      <td>0</td>\n      <td>0</td>\n      <td>0</td>\n      <td>0</td>\n      <td>0</td>\n      <td>0</td>\n      <td>...</td>\n      <td>2015</td>\n      <td>CATUABA F.DA BARRA</td>\n      <td>01/09/2015</td>\n      <td>F</td>\n      <td>NaN</td>\n      <td>NaN</td>\n      <td>1/2HOL 1/2GIR</td>\n      <td>519</td>\n      <td>NaN</td>\n      <td>NaN</td>\n    </tr>\n  </tbody>\n</table>\n<p>74 rows × 62 columns</p>\n</div>"
     },
     "execution_count": 22,
     "metadata": {},
     "output_type": "execute_result"
    }
   ],
   "source": [
    "df_animais_sem_nenhum_ids = df_animais_sem_id_completo[df_animais_sem_id_completo['id_vaca'].isnull() & df_animais_sem_id_completo['id_touro'].isnull()]\n",
    "df_animais_sem_nenhum_ids"
   ],
   "metadata": {
    "collapsed": false
   }
  },
  {
   "cell_type": "markdown",
   "source": [
    "# Lista de animais sem id_vaca"
   ],
   "metadata": {
    "collapsed": false
   }
  },
  {
   "cell_type": "code",
   "execution_count": 23,
   "outputs": [
    {
     "data": {
      "text/plain": "     reb_giro                           nomea  COMPRAC    RGVACA  \\\n0        7461  NANA IMPERADOR BAXTER RF SAO F     5858   6353-AH   \n2        6039  EDILAINE IMPERIO FIV 4303 JARD       12  AADA0352   \n5       10586             JHV CANASTRA ENLEVO       12   5011-BG   \n8       22541  KELLY ESPELHO JF DA SANTA RITA       12   7974-AM   \n10       4406       VITORIA WINDSTAR IRARA II       34    6762-B   \n..        ...                             ...      ...       ...   \n546      9330                     PALMADA CAL       14   0383-BN   \n548      6029         GRAVINA FEBO FR RECREIO     5858   9073-AS   \n553     10032              CATUABA F.DA BARRA       12   2720-BM   \n557      6915                 LIA DAS ARABIAS     5858   6125-BR   \n558      6029         GERMANA FEBO FR RECREIO     5858   9069-AS   \n\n                           nomep  GSPAI     RGPAI  \\\n0    IMPERADOR BAXTER VOLTA FRIA     58      1459   \n2         IMPERIO TE STA EDWIGES     11    RIG163   \n5                ENLEVO SILVANIA     11    EFC717   \n8         ESPELHO TE DE BRASILIA     11   RRP5664   \n10           DUPASQUIER WINDSTAR     10  AX101932   \n..                           ...    ...       ...   \n546                  DIORITO CAL     11   CAL9630   \n548              FEBO FR RECREIO     58    6300-N   \n553                            0      0         0   \n557            TURBO DAS ARABIAS   5858      0079   \n558              FEBO FR RECREIO     58    6300-N   \n\n                             nomem  GSMAE         RGMAE  ...    AN  \\\n0    JURITI HERBY RF SAO FRANCISCO     58        6877-N  ...  2015   \n2    SERTEC QATAR FABIANA PROGRESS     10  HBB/B-291392  ...  2013   \n5                JHV FORMATURA 315     10        C-3602  ...  2019   \n8         RACKELY JF DA SANTA RITA     10        A-7744  ...  2012   \n10                  SANDI IRARA II     12        X-2396  ...  2009   \n..                             ...    ...           ...  ...   ...   \n546                  ILHOA FIV CAL     12       7229-AG  ...  2020   \n548              DORINA FR RECREIO     58        0860-T  ...  2016   \n553                              0      0             0  ...  2015   \n557             LILIKA DAS ARABIAS     58       4916-AW  ...  2019   \n558            CAMPANHA FR RECREIO     58        6180-N  ...  2016   \n\n                                      NOMEVACA       DNASC SEXO  \\\n0       NANA IMPERADOR BAXTER RF SAO FRANCISCO  11/03/2015    F   \n2    EDILAINE IMPERIO FIV 4303 JARDIM DO TURVO  18/10/2013    F   \n5                          JHV CANASTRA ENLEVO  18/06/2019    F   \n8               KELLY ESPELHO JF DA SANTA RITA  06/04/2012    F   \n10                   VITORIA WINDSTAR IRARA II  18/05/2009    F   \n..                                         ...         ...  ...   \n546                                PALMADA CAL  22/02/2020    F   \n548                    GRAVINA FEBO FR RECREIO  13/06/2016    F   \n553                         CATUABA F.DA BARRA  01/09/2015    F   \n557                            LIA DAS ARABIAS  13/06/2019    F   \n558                    GERMANA FEBO FR RECREIO  16/07/2016    F   \n\n                         NOMEPAI                        NOMEMAE  \\\n0    IMPERADOR BAXTER VOLTA FRIA  JURITI HERBY RF SAO FRANCISCO   \n2         IMPERIO TE STA EDWIGES  SERTEC QATAR FABIANA PROGRESS   \n5                ENLEVO SILVANIA              JHV FORMATURA 315   \n8         ESPELHO TE DE BRASILIA       RACKELY JF DA SANTA RITA   \n10           DUPASQUIER WINDSTAR                 SANDI IRARA II   \n..                           ...                            ...   \n546                  DIORITO CAL                  ILHOA FIV CAL   \n548              FEBO FR RECREIO              DORINA FR RECREIO   \n553                          NaN                            NaN   \n557            TURBO DAS ARABIAS             LILIKA DAS ARABIAS   \n558              FEBO FR RECREIO            CAMPANHA FR RECREIO   \n\n            cgen_a  comb     id_touro  id_vaca  \n0    5/8HOL 3/8GIR   666   GIRO977401      NaN  \n2    1/2HOL 1/2GIR   519       RIG163      NaN  \n5    1/2HOL 1/2GIR   519       EFC717      NaN  \n8    1/2HOL 1/2GIR   519      RRP5664      NaN  \n10   3/4HOL 1/4GIR   795       143607      NaN  \n..             ...   ...          ...      ...  \n546  1/4HOL 3/4GIR   315      CAL9630      NaN  \n548  5/8HOL 3/8GIR   666  GIRO1114289      NaN  \n553  1/2HOL 1/2GIR   519          NaN      NaN  \n557  5/8HOL 3/8GIR   666  GIRO1155542      NaN  \n558  5/8HOL 3/8GIR   666  GIRO1114289      NaN  \n\n[214 rows x 62 columns]",
      "text/html": "<div>\n<style scoped>\n    .dataframe tbody tr th:only-of-type {\n        vertical-align: middle;\n    }\n\n    .dataframe tbody tr th {\n        vertical-align: top;\n    }\n\n    .dataframe thead th {\n        text-align: right;\n    }\n</style>\n<table border=\"1\" class=\"dataframe\">\n  <thead>\n    <tr style=\"text-align: right;\">\n      <th></th>\n      <th>reb_giro</th>\n      <th>nomea</th>\n      <th>COMPRAC</th>\n      <th>RGVACA</th>\n      <th>nomep</th>\n      <th>GSPAI</th>\n      <th>RGPAI</th>\n      <th>nomem</th>\n      <th>GSMAE</th>\n      <th>RGMAE</th>\n      <th>...</th>\n      <th>AN</th>\n      <th>NOMEVACA</th>\n      <th>DNASC</th>\n      <th>SEXO</th>\n      <th>NOMEPAI</th>\n      <th>NOMEMAE</th>\n      <th>cgen_a</th>\n      <th>comb</th>\n      <th>id_touro</th>\n      <th>id_vaca</th>\n    </tr>\n  </thead>\n  <tbody>\n    <tr>\n      <th>0</th>\n      <td>7461</td>\n      <td>NANA IMPERADOR BAXTER RF SAO F</td>\n      <td>5858</td>\n      <td>6353-AH</td>\n      <td>IMPERADOR BAXTER VOLTA FRIA</td>\n      <td>58</td>\n      <td>1459</td>\n      <td>JURITI HERBY RF SAO FRANCISCO</td>\n      <td>58</td>\n      <td>6877-N</td>\n      <td>...</td>\n      <td>2015</td>\n      <td>NANA IMPERADOR BAXTER RF SAO FRANCISCO</td>\n      <td>11/03/2015</td>\n      <td>F</td>\n      <td>IMPERADOR BAXTER VOLTA FRIA</td>\n      <td>JURITI HERBY RF SAO FRANCISCO</td>\n      <td>5/8HOL 3/8GIR</td>\n      <td>666</td>\n      <td>GIRO977401</td>\n      <td>NaN</td>\n    </tr>\n    <tr>\n      <th>2</th>\n      <td>6039</td>\n      <td>EDILAINE IMPERIO FIV 4303 JARD</td>\n      <td>12</td>\n      <td>AADA0352</td>\n      <td>IMPERIO TE STA EDWIGES</td>\n      <td>11</td>\n      <td>RIG163</td>\n      <td>SERTEC QATAR FABIANA PROGRESS</td>\n      <td>10</td>\n      <td>HBB/B-291392</td>\n      <td>...</td>\n      <td>2013</td>\n      <td>EDILAINE IMPERIO FIV 4303 JARDIM DO TURVO</td>\n      <td>18/10/2013</td>\n      <td>F</td>\n      <td>IMPERIO TE STA EDWIGES</td>\n      <td>SERTEC QATAR FABIANA PROGRESS</td>\n      <td>1/2HOL 1/2GIR</td>\n      <td>519</td>\n      <td>RIG163</td>\n      <td>NaN</td>\n    </tr>\n    <tr>\n      <th>5</th>\n      <td>10586</td>\n      <td>JHV CANASTRA ENLEVO</td>\n      <td>12</td>\n      <td>5011-BG</td>\n      <td>ENLEVO SILVANIA</td>\n      <td>11</td>\n      <td>EFC717</td>\n      <td>JHV FORMATURA 315</td>\n      <td>10</td>\n      <td>C-3602</td>\n      <td>...</td>\n      <td>2019</td>\n      <td>JHV CANASTRA ENLEVO</td>\n      <td>18/06/2019</td>\n      <td>F</td>\n      <td>ENLEVO SILVANIA</td>\n      <td>JHV FORMATURA 315</td>\n      <td>1/2HOL 1/2GIR</td>\n      <td>519</td>\n      <td>EFC717</td>\n      <td>NaN</td>\n    </tr>\n    <tr>\n      <th>8</th>\n      <td>22541</td>\n      <td>KELLY ESPELHO JF DA SANTA RITA</td>\n      <td>12</td>\n      <td>7974-AM</td>\n      <td>ESPELHO TE DE BRASILIA</td>\n      <td>11</td>\n      <td>RRP5664</td>\n      <td>RACKELY JF DA SANTA RITA</td>\n      <td>10</td>\n      <td>A-7744</td>\n      <td>...</td>\n      <td>2012</td>\n      <td>KELLY ESPELHO JF DA SANTA RITA</td>\n      <td>06/04/2012</td>\n      <td>F</td>\n      <td>ESPELHO TE DE BRASILIA</td>\n      <td>RACKELY JF DA SANTA RITA</td>\n      <td>1/2HOL 1/2GIR</td>\n      <td>519</td>\n      <td>RRP5664</td>\n      <td>NaN</td>\n    </tr>\n    <tr>\n      <th>10</th>\n      <td>4406</td>\n      <td>VITORIA WINDSTAR IRARA II</td>\n      <td>34</td>\n      <td>6762-B</td>\n      <td>DUPASQUIER WINDSTAR</td>\n      <td>10</td>\n      <td>AX101932</td>\n      <td>SANDI IRARA II</td>\n      <td>12</td>\n      <td>X-2396</td>\n      <td>...</td>\n      <td>2009</td>\n      <td>VITORIA WINDSTAR IRARA II</td>\n      <td>18/05/2009</td>\n      <td>F</td>\n      <td>DUPASQUIER WINDSTAR</td>\n      <td>SANDI IRARA II</td>\n      <td>3/4HOL 1/4GIR</td>\n      <td>795</td>\n      <td>143607</td>\n      <td>NaN</td>\n    </tr>\n    <tr>\n      <th>...</th>\n      <td>...</td>\n      <td>...</td>\n      <td>...</td>\n      <td>...</td>\n      <td>...</td>\n      <td>...</td>\n      <td>...</td>\n      <td>...</td>\n      <td>...</td>\n      <td>...</td>\n      <td>...</td>\n      <td>...</td>\n      <td>...</td>\n      <td>...</td>\n      <td>...</td>\n      <td>...</td>\n      <td>...</td>\n      <td>...</td>\n      <td>...</td>\n      <td>...</td>\n      <td>...</td>\n    </tr>\n    <tr>\n      <th>546</th>\n      <td>9330</td>\n      <td>PALMADA CAL</td>\n      <td>14</td>\n      <td>0383-BN</td>\n      <td>DIORITO CAL</td>\n      <td>11</td>\n      <td>CAL9630</td>\n      <td>ILHOA FIV CAL</td>\n      <td>12</td>\n      <td>7229-AG</td>\n      <td>...</td>\n      <td>2020</td>\n      <td>PALMADA CAL</td>\n      <td>22/02/2020</td>\n      <td>F</td>\n      <td>DIORITO CAL</td>\n      <td>ILHOA FIV CAL</td>\n      <td>1/4HOL 3/4GIR</td>\n      <td>315</td>\n      <td>CAL9630</td>\n      <td>NaN</td>\n    </tr>\n    <tr>\n      <th>548</th>\n      <td>6029</td>\n      <td>GRAVINA FEBO FR RECREIO</td>\n      <td>5858</td>\n      <td>9073-AS</td>\n      <td>FEBO FR RECREIO</td>\n      <td>58</td>\n      <td>6300-N</td>\n      <td>DORINA FR RECREIO</td>\n      <td>58</td>\n      <td>0860-T</td>\n      <td>...</td>\n      <td>2016</td>\n      <td>GRAVINA FEBO FR RECREIO</td>\n      <td>13/06/2016</td>\n      <td>F</td>\n      <td>FEBO FR RECREIO</td>\n      <td>DORINA FR RECREIO</td>\n      <td>5/8HOL 3/8GIR</td>\n      <td>666</td>\n      <td>GIRO1114289</td>\n      <td>NaN</td>\n    </tr>\n    <tr>\n      <th>553</th>\n      <td>10032</td>\n      <td>CATUABA F.DA BARRA</td>\n      <td>12</td>\n      <td>2720-BM</td>\n      <td>0</td>\n      <td>0</td>\n      <td>0</td>\n      <td>0</td>\n      <td>0</td>\n      <td>0</td>\n      <td>...</td>\n      <td>2015</td>\n      <td>CATUABA F.DA BARRA</td>\n      <td>01/09/2015</td>\n      <td>F</td>\n      <td>NaN</td>\n      <td>NaN</td>\n      <td>1/2HOL 1/2GIR</td>\n      <td>519</td>\n      <td>NaN</td>\n      <td>NaN</td>\n    </tr>\n    <tr>\n      <th>557</th>\n      <td>6915</td>\n      <td>LIA DAS ARABIAS</td>\n      <td>5858</td>\n      <td>6125-BR</td>\n      <td>TURBO DAS ARABIAS</td>\n      <td>5858</td>\n      <td>0079</td>\n      <td>LILIKA DAS ARABIAS</td>\n      <td>58</td>\n      <td>4916-AW</td>\n      <td>...</td>\n      <td>2019</td>\n      <td>LIA DAS ARABIAS</td>\n      <td>13/06/2019</td>\n      <td>F</td>\n      <td>TURBO DAS ARABIAS</td>\n      <td>LILIKA DAS ARABIAS</td>\n      <td>5/8HOL 3/8GIR</td>\n      <td>666</td>\n      <td>GIRO1155542</td>\n      <td>NaN</td>\n    </tr>\n    <tr>\n      <th>558</th>\n      <td>6029</td>\n      <td>GERMANA FEBO FR RECREIO</td>\n      <td>5858</td>\n      <td>9069-AS</td>\n      <td>FEBO FR RECREIO</td>\n      <td>58</td>\n      <td>6300-N</td>\n      <td>CAMPANHA FR RECREIO</td>\n      <td>58</td>\n      <td>6180-N</td>\n      <td>...</td>\n      <td>2016</td>\n      <td>GERMANA FEBO FR RECREIO</td>\n      <td>16/07/2016</td>\n      <td>F</td>\n      <td>FEBO FR RECREIO</td>\n      <td>CAMPANHA FR RECREIO</td>\n      <td>5/8HOL 3/8GIR</td>\n      <td>666</td>\n      <td>GIRO1114289</td>\n      <td>NaN</td>\n    </tr>\n  </tbody>\n</table>\n<p>214 rows × 62 columns</p>\n</div>"
     },
     "execution_count": 23,
     "metadata": {},
     "output_type": "execute_result"
    }
   ],
   "source": [
    "df_animais_sem_id_vaca = df_animais_sem_id_completo[df_animais_sem_id_completo['id_vaca'].isnull()]\n",
    "df_animais_sem_id_vaca"
   ],
   "metadata": {
    "collapsed": false
   }
  },
  {
   "cell_type": "markdown",
   "source": [
    "# Lista de animais sem id_touro"
   ],
   "metadata": {
    "collapsed": false
   }
  },
  {
   "cell_type": "code",
   "execution_count": 24,
   "outputs": [
    {
     "data": {
      "text/plain": "     reb_giro                           nomea  COMPRAC   RGVACA  \\\n9       10586  MORANGA OPINIOSO DO SEGREDO VE       58  6930-BC   \n14       8494       WILY 1151 DA JCS C.BONITA       38  3468-BJ   \n15       4237         JADI DYNAMO FIV FUNDAO       12  3640-BK   \n16       5569  CLAIRE UTOPIA LAMBDA SH FIV 2B       12  9276-BK   \n21      52717       TANISHA FIV MORENO ALEGRE       58  4758-BB   \n..        ...                             ...      ...      ...   \n528      5191             ORGANICA 5/8-591 2K       34  3860-BD   \n530     10032          SERRA NEGRA DA SANQUIT       12  5043-AP   \n542      1129                     UARA ANGICO       34  8692-AX   \n553     10032              CATUABA F.DA BARRA       12  2720-BM   \n556       132       QUINTA I COLE AGM TRIUNFO       34  9243-AG   \n\n                              nomep  GSPAI     RGPAI  \\\n9    ARATINGA OPINIOSO 81 BROKAW TE     10  AX144696   \n14                                0      0         0   \n15             MR RUBICON DYNAMO-ET     10  AX152161   \n16          FARNEAR DELTA-LAMBDA-ET     10  AX152152   \n21               PEAK ALTAMORENO-ET     10  AX150663   \n..                              ...    ...       ...   \n528    CACIQUE A. JORDAN NOVA TERRA     58    9140-M   \n530                               0      0         0   \n542                               0      0         0   \n553                               0      0         0   \n556          CO-OP TOYSTORY COLE-ET     10  AX129567   \n\n                        nomem  GSMAE    RGMAE  ...    AN  \\\n9       SALINA NOBRE DO MORRO     14   C-4972  ...  2018   \n14                          0      0        0  ...  2019   \n15         DIAMANTINA FIV ZBR     11   ZBR157  ...  2019   \n16              UTOPIA FIV 2B     11  ZAB1116  ...  2019   \n21   PRATEADA FIV SANSAO JGVA     14   3599-F  ...  2018   \n..                        ...    ...      ...  ...   ...   \n528               GRINALDA 2K     78  6223-AA  ...  2018   \n530                         0      0        0  ...  2013   \n542                         0      0        0  ...  2017   \n553                         0      0        0  ...  2015   \n556              QUINTA FIV M     12   0473-O  ...  2015   \n\n                              NOMEVACA       DNASC SEXO  \\\n9    MORANGA OPINIOSO DO SEGREDO VELHO  07/08/2018    F   \n14           WILY 1151 DA JCS C.BONITA  04/02/2019    F   \n15              JADI DYNAMO FIV FUNDAO  14/09/2019    F   \n16      CLAIRE UTOPIA LAMBDA SH FIV 2B  02/10/2019    F   \n21           TANISHA FIV MORENO ALEGRE  19/03/2018    F   \n..                                 ...         ...  ...   \n528                ORGANICA 5/8-591 2K  03/04/2018    F   \n530             SERRA NEGRA DA SANQUIT  31/05/2013    F   \n542                        UARA ANGICO  03/02/2017    F   \n553                 CATUABA F.DA BARRA  01/09/2015    F   \n556          QUINTA I COLE AGM TRIUNFO  25/04/2015    F   \n\n                            NOMEPAI                   NOMEMAE         cgen_a  \\\n9    ARATINGA OPINIOSO 81 BROKAW TE     SALINA NOBRE DO MORRO  5/8HOL 3/8GIR   \n14                              NaN                       NaN  3/8HOL 5/8GIR   \n15             MR RUBICON DYNAMO-ET        DIAMANTINA FIV ZBR  1/2HOL 1/2GIR   \n16          FARNEAR DELTA-LAMBDA-ET             UTOPIA FIV 2B  1/2HOL 1/2GIR   \n21               PEAK ALTAMORENO-ET  PRATEADA FIV SANSAO JGVA  5/8HOL 3/8GIR   \n..                              ...                       ...            ...   \n528    CACIQUE A. JORDAN NOVA TERRA               GRINALDA 2K  3/4HOL 1/4GIR   \n530                             NaN                       NaN  1/2HOL 1/2GIR   \n542                             NaN                       NaN  3/4HOL 1/4GIR   \n553                             NaN                       NaN  1/2HOL 1/2GIR   \n556          CO-OP TOYSTORY COLE-ET              QUINTA FIV M  3/4HOL 1/4GIR   \n\n     comb  id_touro      id_vaca  \n9     693       NaN   GIRO821357  \n14    417       NaN          NaN  \n15    519       NaN       ZBR157  \n16    519       NaN      ZAB1116  \n21    693       NaN   GIRO984858  \n..    ...       ...          ...  \n528   795       NaN          NaN  \n530   519       NaN          NaN  \n542   795       NaN          NaN  \n553   519       NaN          NaN  \n556   795       NaN  GIRO1323923  \n\n[116 rows x 62 columns]",
      "text/html": "<div>\n<style scoped>\n    .dataframe tbody tr th:only-of-type {\n        vertical-align: middle;\n    }\n\n    .dataframe tbody tr th {\n        vertical-align: top;\n    }\n\n    .dataframe thead th {\n        text-align: right;\n    }\n</style>\n<table border=\"1\" class=\"dataframe\">\n  <thead>\n    <tr style=\"text-align: right;\">\n      <th></th>\n      <th>reb_giro</th>\n      <th>nomea</th>\n      <th>COMPRAC</th>\n      <th>RGVACA</th>\n      <th>nomep</th>\n      <th>GSPAI</th>\n      <th>RGPAI</th>\n      <th>nomem</th>\n      <th>GSMAE</th>\n      <th>RGMAE</th>\n      <th>...</th>\n      <th>AN</th>\n      <th>NOMEVACA</th>\n      <th>DNASC</th>\n      <th>SEXO</th>\n      <th>NOMEPAI</th>\n      <th>NOMEMAE</th>\n      <th>cgen_a</th>\n      <th>comb</th>\n      <th>id_touro</th>\n      <th>id_vaca</th>\n    </tr>\n  </thead>\n  <tbody>\n    <tr>\n      <th>9</th>\n      <td>10586</td>\n      <td>MORANGA OPINIOSO DO SEGREDO VE</td>\n      <td>58</td>\n      <td>6930-BC</td>\n      <td>ARATINGA OPINIOSO 81 BROKAW TE</td>\n      <td>10</td>\n      <td>AX144696</td>\n      <td>SALINA NOBRE DO MORRO</td>\n      <td>14</td>\n      <td>C-4972</td>\n      <td>...</td>\n      <td>2018</td>\n      <td>MORANGA OPINIOSO DO SEGREDO VELHO</td>\n      <td>07/08/2018</td>\n      <td>F</td>\n      <td>ARATINGA OPINIOSO 81 BROKAW TE</td>\n      <td>SALINA NOBRE DO MORRO</td>\n      <td>5/8HOL 3/8GIR</td>\n      <td>693</td>\n      <td>NaN</td>\n      <td>GIRO821357</td>\n    </tr>\n    <tr>\n      <th>14</th>\n      <td>8494</td>\n      <td>WILY 1151 DA JCS C.BONITA</td>\n      <td>38</td>\n      <td>3468-BJ</td>\n      <td>0</td>\n      <td>0</td>\n      <td>0</td>\n      <td>0</td>\n      <td>0</td>\n      <td>0</td>\n      <td>...</td>\n      <td>2019</td>\n      <td>WILY 1151 DA JCS C.BONITA</td>\n      <td>04/02/2019</td>\n      <td>F</td>\n      <td>NaN</td>\n      <td>NaN</td>\n      <td>3/8HOL 5/8GIR</td>\n      <td>417</td>\n      <td>NaN</td>\n      <td>NaN</td>\n    </tr>\n    <tr>\n      <th>15</th>\n      <td>4237</td>\n      <td>JADI DYNAMO FIV FUNDAO</td>\n      <td>12</td>\n      <td>3640-BK</td>\n      <td>MR RUBICON DYNAMO-ET</td>\n      <td>10</td>\n      <td>AX152161</td>\n      <td>DIAMANTINA FIV ZBR</td>\n      <td>11</td>\n      <td>ZBR157</td>\n      <td>...</td>\n      <td>2019</td>\n      <td>JADI DYNAMO FIV FUNDAO</td>\n      <td>14/09/2019</td>\n      <td>F</td>\n      <td>MR RUBICON DYNAMO-ET</td>\n      <td>DIAMANTINA FIV ZBR</td>\n      <td>1/2HOL 1/2GIR</td>\n      <td>519</td>\n      <td>NaN</td>\n      <td>ZBR157</td>\n    </tr>\n    <tr>\n      <th>16</th>\n      <td>5569</td>\n      <td>CLAIRE UTOPIA LAMBDA SH FIV 2B</td>\n      <td>12</td>\n      <td>9276-BK</td>\n      <td>FARNEAR DELTA-LAMBDA-ET</td>\n      <td>10</td>\n      <td>AX152152</td>\n      <td>UTOPIA FIV 2B</td>\n      <td>11</td>\n      <td>ZAB1116</td>\n      <td>...</td>\n      <td>2019</td>\n      <td>CLAIRE UTOPIA LAMBDA SH FIV 2B</td>\n      <td>02/10/2019</td>\n      <td>F</td>\n      <td>FARNEAR DELTA-LAMBDA-ET</td>\n      <td>UTOPIA FIV 2B</td>\n      <td>1/2HOL 1/2GIR</td>\n      <td>519</td>\n      <td>NaN</td>\n      <td>ZAB1116</td>\n    </tr>\n    <tr>\n      <th>21</th>\n      <td>52717</td>\n      <td>TANISHA FIV MORENO ALEGRE</td>\n      <td>58</td>\n      <td>4758-BB</td>\n      <td>PEAK ALTAMORENO-ET</td>\n      <td>10</td>\n      <td>AX150663</td>\n      <td>PRATEADA FIV SANSAO JGVA</td>\n      <td>14</td>\n      <td>3599-F</td>\n      <td>...</td>\n      <td>2018</td>\n      <td>TANISHA FIV MORENO ALEGRE</td>\n      <td>19/03/2018</td>\n      <td>F</td>\n      <td>PEAK ALTAMORENO-ET</td>\n      <td>PRATEADA FIV SANSAO JGVA</td>\n      <td>5/8HOL 3/8GIR</td>\n      <td>693</td>\n      <td>NaN</td>\n      <td>GIRO984858</td>\n    </tr>\n    <tr>\n      <th>...</th>\n      <td>...</td>\n      <td>...</td>\n      <td>...</td>\n      <td>...</td>\n      <td>...</td>\n      <td>...</td>\n      <td>...</td>\n      <td>...</td>\n      <td>...</td>\n      <td>...</td>\n      <td>...</td>\n      <td>...</td>\n      <td>...</td>\n      <td>...</td>\n      <td>...</td>\n      <td>...</td>\n      <td>...</td>\n      <td>...</td>\n      <td>...</td>\n      <td>...</td>\n      <td>...</td>\n    </tr>\n    <tr>\n      <th>528</th>\n      <td>5191</td>\n      <td>ORGANICA 5/8-591 2K</td>\n      <td>34</td>\n      <td>3860-BD</td>\n      <td>CACIQUE A. JORDAN NOVA TERRA</td>\n      <td>58</td>\n      <td>9140-M</td>\n      <td>GRINALDA 2K</td>\n      <td>78</td>\n      <td>6223-AA</td>\n      <td>...</td>\n      <td>2018</td>\n      <td>ORGANICA 5/8-591 2K</td>\n      <td>03/04/2018</td>\n      <td>F</td>\n      <td>CACIQUE A. JORDAN NOVA TERRA</td>\n      <td>GRINALDA 2K</td>\n      <td>3/4HOL 1/4GIR</td>\n      <td>795</td>\n      <td>NaN</td>\n      <td>NaN</td>\n    </tr>\n    <tr>\n      <th>530</th>\n      <td>10032</td>\n      <td>SERRA NEGRA DA SANQUIT</td>\n      <td>12</td>\n      <td>5043-AP</td>\n      <td>0</td>\n      <td>0</td>\n      <td>0</td>\n      <td>0</td>\n      <td>0</td>\n      <td>0</td>\n      <td>...</td>\n      <td>2013</td>\n      <td>SERRA NEGRA DA SANQUIT</td>\n      <td>31/05/2013</td>\n      <td>F</td>\n      <td>NaN</td>\n      <td>NaN</td>\n      <td>1/2HOL 1/2GIR</td>\n      <td>519</td>\n      <td>NaN</td>\n      <td>NaN</td>\n    </tr>\n    <tr>\n      <th>542</th>\n      <td>1129</td>\n      <td>UARA ANGICO</td>\n      <td>34</td>\n      <td>8692-AX</td>\n      <td>0</td>\n      <td>0</td>\n      <td>0</td>\n      <td>0</td>\n      <td>0</td>\n      <td>0</td>\n      <td>...</td>\n      <td>2017</td>\n      <td>UARA ANGICO</td>\n      <td>03/02/2017</td>\n      <td>F</td>\n      <td>NaN</td>\n      <td>NaN</td>\n      <td>3/4HOL 1/4GIR</td>\n      <td>795</td>\n      <td>NaN</td>\n      <td>NaN</td>\n    </tr>\n    <tr>\n      <th>553</th>\n      <td>10032</td>\n      <td>CATUABA F.DA BARRA</td>\n      <td>12</td>\n      <td>2720-BM</td>\n      <td>0</td>\n      <td>0</td>\n      <td>0</td>\n      <td>0</td>\n      <td>0</td>\n      <td>0</td>\n      <td>...</td>\n      <td>2015</td>\n      <td>CATUABA F.DA BARRA</td>\n      <td>01/09/2015</td>\n      <td>F</td>\n      <td>NaN</td>\n      <td>NaN</td>\n      <td>1/2HOL 1/2GIR</td>\n      <td>519</td>\n      <td>NaN</td>\n      <td>NaN</td>\n    </tr>\n    <tr>\n      <th>556</th>\n      <td>132</td>\n      <td>QUINTA I COLE AGM TRIUNFO</td>\n      <td>34</td>\n      <td>9243-AG</td>\n      <td>CO-OP TOYSTORY COLE-ET</td>\n      <td>10</td>\n      <td>AX129567</td>\n      <td>QUINTA FIV M</td>\n      <td>12</td>\n      <td>0473-O</td>\n      <td>...</td>\n      <td>2015</td>\n      <td>QUINTA I COLE AGM TRIUNFO</td>\n      <td>25/04/2015</td>\n      <td>F</td>\n      <td>CO-OP TOYSTORY COLE-ET</td>\n      <td>QUINTA FIV M</td>\n      <td>3/4HOL 1/4GIR</td>\n      <td>795</td>\n      <td>NaN</td>\n      <td>GIRO1323923</td>\n    </tr>\n  </tbody>\n</table>\n<p>116 rows × 62 columns</p>\n</div>"
     },
     "execution_count": 24,
     "metadata": {},
     "output_type": "execute_result"
    }
   ],
   "source": [
    "df_animais_sem_id_touro = df_animais_sem_id_completo[df_animais_sem_id_completo['id_touro'].isnull()]\n",
    "df_animais_sem_id_touro"
   ],
   "metadata": {
    "collapsed": false
   }
  },
  {
   "cell_type": "markdown",
   "source": [
    "# Separando touros"
   ],
   "metadata": {
    "collapsed": false
   }
  },
  {
   "cell_type": "code",
   "execution_count": 25,
   "outputs": [],
   "source": [
    "df_animais_sem_id_touro_gir = df_animais_sem_id_touro[df_animais_sem_id_touro['GSPAI']==11]\n",
    "#df_animais_sem_id_touro_gir"
   ],
   "metadata": {
    "collapsed": false
   }
  },
  {
   "cell_type": "code",
   "execution_count": 26,
   "outputs": [],
   "source": [
    "df_animais_sem_id_touro = df_animais_sem_id_touro[df_animais_sem_id_touro['GSPAI']!=11]\n",
    "#df_animais_sem_id_touro"
   ],
   "metadata": {
    "collapsed": false
   }
  },
  {
   "cell_type": "code",
   "execution_count": 27,
   "outputs": [
    {
     "data": {
      "text/plain": "1      1/2HOL 1/2GIR\n3      1/2HOL 1/2GIR\n4      1/2HOL 1/2GIR\n6      1/2HOL 1/2GIR\n7      1/2HOL 1/2GIR\n           ...      \n550    5/8HOL 3/8GIR\n551    3/4HOL 1/4GIR\n552    1/2HOL 1/2GIR\n554    1/2HOL 1/2GIR\n555    1/2HOL 1/2GIR\nName: cgen_a, Length: 303, dtype: object"
     },
     "execution_count": 27,
     "metadata": {},
     "output_type": "execute_result"
    }
   ],
   "source": [
    "df_animais_com_ids['cgen_a']"
   ],
   "metadata": {
    "collapsed": false
   }
  },
  {
   "cell_type": "markdown",
   "source": [
    "# Montando tabela pro banco de df_animais_com_ids\n",
    "OBS: Falta juntar com a genealogia embrapa(todas as colunas) e efetuar drop (ja feito) para a limpeza"
   ],
   "metadata": {
    "collapsed": false
   }
  },
  {
   "cell_type": "code",
   "execution_count": 28,
   "outputs": [
    {
     "data": {
      "text/plain": "     reb_giro                            nomea  COMPRAC   RGVACA  \\\n1       10639  LANAA FIV AFTERSHOCK BON.BELEM       12  9592-AG   \n3        1945             ARMA MERIDIAN DA MBL       12  1025-AN   \n4       73119   CELESTE 136 TEATRO FIV COOPERR       12  1239-BF   \n6       83436         PURA FIV DOORMAN SJ LALU       12  2678-BK   \n7        2381   GOTA CHELIOS JM NOVO HORIZONTE       12  7006-BC   \n..        ...                              ...      ...      ...   \n550      8490   REUNIDAS HD FILADELFIA 17237 F       58  0122-BB   \n551      5426  SHRTC ESPERANAA AUSTRIA GOLD C       34  9428-AQ   \n552      2381   ESTIVA QUIZAR JM NOVO HORIZONT       12  9958-AS   \n554      1945   JPZ QUIRERA SHAMROCK ASTER FIV       12   4032-Z   \n555      2381   DALIA I FIV BRADLEY JM NOVO HO       12  4906-AZ   \n\n                             nomep  GSPAI     RGPAI  \\\n1    MS ATLEES SHT AFTERSHOCK - ET     10  AX129928   \n3           SULLY HART MERIDIAN-ET     10  AX138576   \n4               TEATRO DA SILVANIA     11    EFC383   \n6               VAL-BISSON DOORMAN     10  AX140558   \n7                 DOMICOLE CHELIOS     10  AX131313   \n..                             ...    ...       ...   \n550          VIEW-HOME MONTEREY-ET     10  AX143697   \n551       MR CHASSITY GOLD CHIP-ET     10  AX135713   \n552            COLLEM FEVER QUIZAR     10  AX134708   \n554     LADYS-MANOR PL SHAMROCK-ET     10  AX135714   \n555               ROCKALLI BRADLEY     10  AX117720   \n\n                              nomem  GSMAE     RGMAE  ...    AN  \\\n1                  JOANE FIV KUBERA     11  ACFG1840  ...  2014   \n3                              FAMA     11    JNR167  ...  2015   \n4        LAGOS ASTRE QUIMICA 795 TE     10  BX335536  ...  2016   \n6                         KANETA DP     11    DPJ955  ...  2019   \n7              DALIA NOVO HORIZONTE     11    JMCH76  ...  2018   \n..                              ...    ...       ...  ...   ...   \n550  REUNIDAS HD BAGDA 14426 CASTEL     14    8010-L  ...  2018   \n551        SHRTC AUSTRIA TEATRO FIV     12    8739-X  ...  2016   \n552            SC MANCHETE PALADINO     11   MJJS411  ...  2016   \n554                   JPZ ASTER FIV     11     JPZ64  ...  2014   \n555            DALIA NOVO HORIZONTE     11    JMCH76  ...  2017   \n\n                                      NOMEVACA       DNASC SEXO  \\\n1               LANCA FIV AFTERSHOCK BON.BELEM  22/12/2014    F   \n3                         ARMA MERIDIAN DA MBL  27/04/2015    F   \n4            CELESTE 136 TEATRO FIV COOPERRITA  05/02/2016    F   \n6                     PURA FIV DOORMAN SJ LALU  29/08/2019    F   \n7               GOTA CHELIOS JM NOVO HORIZONTE  13/06/2018    F   \n..                                         ...         ...  ...   \n550  REUNIDAS HD FILADELFIA 17237 FIV MONTEREY  31/07/2018    F   \n551  SHRTC ESPERANCA AUSTRIA GOLD CHIP FIV 497  22/04/2016    F   \n552            ESTIVA QUIZAR JM NOVO HORIZONTE  16/05/2016    F   \n554             JPZ QUIRERA SHAMROCK ASTER FIV  18/02/2014    F   \n555      DALIA I FIV BRADLEY JM NOVO HORIZONTE  19/08/2017    F   \n\n                           NOMEPAI                         NOMEMAE  \\\n1    MS ATLEES SHT AFTERSHOCK - ET                JOANE FIV KUBERA   \n3           SULLY HART MERIDIAN-ET                            FAMA   \n4               TEATRO DA SILVANIA      LAGOS ASTRE QUIMICA 795 TE   \n6               VAL-BISSON DOORMAN                       KANETA DP   \n7                 DOMICOLE CHELIOS            DALIA NOVO HORIZONTE   \n..                             ...                             ...   \n550          VIEW-HOME MONTEREY-ET  REUNIDAS HD BAGDA 14426 CASTEL   \n551       MR CHASSITY GOLD CHIP-ET        SHRTC AUSTRIA TEATRO FIV   \n552            COLLEM FEVER QUIZAR            SC MANCHETE PALADINO   \n554     LADYS-MANOR PL SHAMROCK-ET                   JPZ ASTER FIV   \n555               ROCKALLI BRADLEY            DALIA NOVO HORIZONTE   \n\n            cgen_a  comb     id_touro      id_vaca  \n1    1/2HOL 1/2GIR   519       207142     ACFG1840  \n3    1/2HOL 1/2GIR   519  GIRO1369768       JNR167  \n4    1/2HOL 1/2GIR   519       EFC383  GIRO1086826  \n6    1/2HOL 1/2GIR   519  GIRO1407888       DPJ955  \n7    1/2HOL 1/2GIR   519  GIRO1336133       JMCH76  \n..             ...   ...          ...          ...  \n550  5/8HOL 3/8GIR   693  GIRO1531445  GIRO1265445  \n551  3/4HOL 1/4GIR   795       210297  GIRO1191848  \n552  1/2HOL 1/2GIR   519  GIRO1481509      MJJS411  \n554  1/2HOL 1/2GIR   519       207140        JPZ64  \n555  1/2HOL 1/2GIR   519       210342       JMCH76  \n\n[303 rows x 62 columns]",
      "text/html": "<div>\n<style scoped>\n    .dataframe tbody tr th:only-of-type {\n        vertical-align: middle;\n    }\n\n    .dataframe tbody tr th {\n        vertical-align: top;\n    }\n\n    .dataframe thead th {\n        text-align: right;\n    }\n</style>\n<table border=\"1\" class=\"dataframe\">\n  <thead>\n    <tr style=\"text-align: right;\">\n      <th></th>\n      <th>reb_giro</th>\n      <th>nomea</th>\n      <th>COMPRAC</th>\n      <th>RGVACA</th>\n      <th>nomep</th>\n      <th>GSPAI</th>\n      <th>RGPAI</th>\n      <th>nomem</th>\n      <th>GSMAE</th>\n      <th>RGMAE</th>\n      <th>...</th>\n      <th>AN</th>\n      <th>NOMEVACA</th>\n      <th>DNASC</th>\n      <th>SEXO</th>\n      <th>NOMEPAI</th>\n      <th>NOMEMAE</th>\n      <th>cgen_a</th>\n      <th>comb</th>\n      <th>id_touro</th>\n      <th>id_vaca</th>\n    </tr>\n  </thead>\n  <tbody>\n    <tr>\n      <th>1</th>\n      <td>10639</td>\n      <td>LANAA FIV AFTERSHOCK BON.BELEM</td>\n      <td>12</td>\n      <td>9592-AG</td>\n      <td>MS ATLEES SHT AFTERSHOCK - ET</td>\n      <td>10</td>\n      <td>AX129928</td>\n      <td>JOANE FIV KUBERA</td>\n      <td>11</td>\n      <td>ACFG1840</td>\n      <td>...</td>\n      <td>2014</td>\n      <td>LANCA FIV AFTERSHOCK BON.BELEM</td>\n      <td>22/12/2014</td>\n      <td>F</td>\n      <td>MS ATLEES SHT AFTERSHOCK - ET</td>\n      <td>JOANE FIV KUBERA</td>\n      <td>1/2HOL 1/2GIR</td>\n      <td>519</td>\n      <td>207142</td>\n      <td>ACFG1840</td>\n    </tr>\n    <tr>\n      <th>3</th>\n      <td>1945</td>\n      <td>ARMA MERIDIAN DA MBL</td>\n      <td>12</td>\n      <td>1025-AN</td>\n      <td>SULLY HART MERIDIAN-ET</td>\n      <td>10</td>\n      <td>AX138576</td>\n      <td>FAMA</td>\n      <td>11</td>\n      <td>JNR167</td>\n      <td>...</td>\n      <td>2015</td>\n      <td>ARMA MERIDIAN DA MBL</td>\n      <td>27/04/2015</td>\n      <td>F</td>\n      <td>SULLY HART MERIDIAN-ET</td>\n      <td>FAMA</td>\n      <td>1/2HOL 1/2GIR</td>\n      <td>519</td>\n      <td>GIRO1369768</td>\n      <td>JNR167</td>\n    </tr>\n    <tr>\n      <th>4</th>\n      <td>73119</td>\n      <td>CELESTE 136 TEATRO FIV COOPERR</td>\n      <td>12</td>\n      <td>1239-BF</td>\n      <td>TEATRO DA SILVANIA</td>\n      <td>11</td>\n      <td>EFC383</td>\n      <td>LAGOS ASTRE QUIMICA 795 TE</td>\n      <td>10</td>\n      <td>BX335536</td>\n      <td>...</td>\n      <td>2016</td>\n      <td>CELESTE 136 TEATRO FIV COOPERRITA</td>\n      <td>05/02/2016</td>\n      <td>F</td>\n      <td>TEATRO DA SILVANIA</td>\n      <td>LAGOS ASTRE QUIMICA 795 TE</td>\n      <td>1/2HOL 1/2GIR</td>\n      <td>519</td>\n      <td>EFC383</td>\n      <td>GIRO1086826</td>\n    </tr>\n    <tr>\n      <th>6</th>\n      <td>83436</td>\n      <td>PURA FIV DOORMAN SJ LALU</td>\n      <td>12</td>\n      <td>2678-BK</td>\n      <td>VAL-BISSON DOORMAN</td>\n      <td>10</td>\n      <td>AX140558</td>\n      <td>KANETA DP</td>\n      <td>11</td>\n      <td>DPJ955</td>\n      <td>...</td>\n      <td>2019</td>\n      <td>PURA FIV DOORMAN SJ LALU</td>\n      <td>29/08/2019</td>\n      <td>F</td>\n      <td>VAL-BISSON DOORMAN</td>\n      <td>KANETA DP</td>\n      <td>1/2HOL 1/2GIR</td>\n      <td>519</td>\n      <td>GIRO1407888</td>\n      <td>DPJ955</td>\n    </tr>\n    <tr>\n      <th>7</th>\n      <td>2381</td>\n      <td>GOTA CHELIOS JM NOVO HORIZONTE</td>\n      <td>12</td>\n      <td>7006-BC</td>\n      <td>DOMICOLE CHELIOS</td>\n      <td>10</td>\n      <td>AX131313</td>\n      <td>DALIA NOVO HORIZONTE</td>\n      <td>11</td>\n      <td>JMCH76</td>\n      <td>...</td>\n      <td>2018</td>\n      <td>GOTA CHELIOS JM NOVO HORIZONTE</td>\n      <td>13/06/2018</td>\n      <td>F</td>\n      <td>DOMICOLE CHELIOS</td>\n      <td>DALIA NOVO HORIZONTE</td>\n      <td>1/2HOL 1/2GIR</td>\n      <td>519</td>\n      <td>GIRO1336133</td>\n      <td>JMCH76</td>\n    </tr>\n    <tr>\n      <th>...</th>\n      <td>...</td>\n      <td>...</td>\n      <td>...</td>\n      <td>...</td>\n      <td>...</td>\n      <td>...</td>\n      <td>...</td>\n      <td>...</td>\n      <td>...</td>\n      <td>...</td>\n      <td>...</td>\n      <td>...</td>\n      <td>...</td>\n      <td>...</td>\n      <td>...</td>\n      <td>...</td>\n      <td>...</td>\n      <td>...</td>\n      <td>...</td>\n      <td>...</td>\n      <td>...</td>\n    </tr>\n    <tr>\n      <th>550</th>\n      <td>8490</td>\n      <td>REUNIDAS HD FILADELFIA 17237 F</td>\n      <td>58</td>\n      <td>0122-BB</td>\n      <td>VIEW-HOME MONTEREY-ET</td>\n      <td>10</td>\n      <td>AX143697</td>\n      <td>REUNIDAS HD BAGDA 14426 CASTEL</td>\n      <td>14</td>\n      <td>8010-L</td>\n      <td>...</td>\n      <td>2018</td>\n      <td>REUNIDAS HD FILADELFIA 17237 FIV MONTEREY</td>\n      <td>31/07/2018</td>\n      <td>F</td>\n      <td>VIEW-HOME MONTEREY-ET</td>\n      <td>REUNIDAS HD BAGDA 14426 CASTEL</td>\n      <td>5/8HOL 3/8GIR</td>\n      <td>693</td>\n      <td>GIRO1531445</td>\n      <td>GIRO1265445</td>\n    </tr>\n    <tr>\n      <th>551</th>\n      <td>5426</td>\n      <td>SHRTC ESPERANAA AUSTRIA GOLD C</td>\n      <td>34</td>\n      <td>9428-AQ</td>\n      <td>MR CHASSITY GOLD CHIP-ET</td>\n      <td>10</td>\n      <td>AX135713</td>\n      <td>SHRTC AUSTRIA TEATRO FIV</td>\n      <td>12</td>\n      <td>8739-X</td>\n      <td>...</td>\n      <td>2016</td>\n      <td>SHRTC ESPERANCA AUSTRIA GOLD CHIP FIV 497</td>\n      <td>22/04/2016</td>\n      <td>F</td>\n      <td>MR CHASSITY GOLD CHIP-ET</td>\n      <td>SHRTC AUSTRIA TEATRO FIV</td>\n      <td>3/4HOL 1/4GIR</td>\n      <td>795</td>\n      <td>210297</td>\n      <td>GIRO1191848</td>\n    </tr>\n    <tr>\n      <th>552</th>\n      <td>2381</td>\n      <td>ESTIVA QUIZAR JM NOVO HORIZONT</td>\n      <td>12</td>\n      <td>9958-AS</td>\n      <td>COLLEM FEVER QUIZAR</td>\n      <td>10</td>\n      <td>AX134708</td>\n      <td>SC MANCHETE PALADINO</td>\n      <td>11</td>\n      <td>MJJS411</td>\n      <td>...</td>\n      <td>2016</td>\n      <td>ESTIVA QUIZAR JM NOVO HORIZONTE</td>\n      <td>16/05/2016</td>\n      <td>F</td>\n      <td>COLLEM FEVER QUIZAR</td>\n      <td>SC MANCHETE PALADINO</td>\n      <td>1/2HOL 1/2GIR</td>\n      <td>519</td>\n      <td>GIRO1481509</td>\n      <td>MJJS411</td>\n    </tr>\n    <tr>\n      <th>554</th>\n      <td>1945</td>\n      <td>JPZ QUIRERA SHAMROCK ASTER FIV</td>\n      <td>12</td>\n      <td>4032-Z</td>\n      <td>LADYS-MANOR PL SHAMROCK-ET</td>\n      <td>10</td>\n      <td>AX135714</td>\n      <td>JPZ ASTER FIV</td>\n      <td>11</td>\n      <td>JPZ64</td>\n      <td>...</td>\n      <td>2014</td>\n      <td>JPZ QUIRERA SHAMROCK ASTER FIV</td>\n      <td>18/02/2014</td>\n      <td>F</td>\n      <td>LADYS-MANOR PL SHAMROCK-ET</td>\n      <td>JPZ ASTER FIV</td>\n      <td>1/2HOL 1/2GIR</td>\n      <td>519</td>\n      <td>207140</td>\n      <td>JPZ64</td>\n    </tr>\n    <tr>\n      <th>555</th>\n      <td>2381</td>\n      <td>DALIA I FIV BRADLEY JM NOVO HO</td>\n      <td>12</td>\n      <td>4906-AZ</td>\n      <td>ROCKALLI BRADLEY</td>\n      <td>10</td>\n      <td>AX117720</td>\n      <td>DALIA NOVO HORIZONTE</td>\n      <td>11</td>\n      <td>JMCH76</td>\n      <td>...</td>\n      <td>2017</td>\n      <td>DALIA I FIV BRADLEY JM NOVO HORIZONTE</td>\n      <td>19/08/2017</td>\n      <td>F</td>\n      <td>ROCKALLI BRADLEY</td>\n      <td>DALIA NOVO HORIZONTE</td>\n      <td>1/2HOL 1/2GIR</td>\n      <td>519</td>\n      <td>210342</td>\n      <td>JMCH76</td>\n    </tr>\n  </tbody>\n</table>\n<p>303 rows × 62 columns</p>\n</div>"
     },
     "execution_count": 28,
     "metadata": {},
     "output_type": "execute_result"
    }
   ],
   "source": [
    "teste = pd.merge(df_animais_com_ids, df_genealogia_embrapa, on=['cod_prod'], suffixes=('', '_drop'))\n",
    "df_animais_com_ids"
   ],
   "metadata": {
    "collapsed": false
   }
  },
  {
   "cell_type": "markdown",
   "source": [
    "Tabela de fazendas pegar o rebc2_pr -> rebc2-or (fazendas) <- reb_giro(df_animais_com_id)\n",
    "\n",
    "ABCZ - S = Quando cod prod > 0 ABCZ\n",
    "cat cod_prod >0 (5 comprac 11) ABCZ\n",
    "\n",
    "id = id_produto\n",
    "nas e nasc_est = DNASC\n"
   ],
   "metadata": {
    "collapsed": false
   }
  },
  {
   "cell_type": "code",
   "execution_count": 29,
   "outputs": [
    {
     "data": {
      "text/plain": "     reb_giro                            nomea  COMPRAC   RGVACA  \\\n0       10639  LANAA FIV AFTERSHOCK BON.BELEM       12  9592-AG   \n1       10639      FLORENTINA FIV ATWOOD SAMPA       12  0949-AK   \n2       10639   JGSA 1216 FIV GILCREST PORTEIR       12  9419-BI   \n3       10639   CANJA FIV FINEST PORTEIRA AZUL       12  5893-AU   \n4       10639      BEATRIZ TEATRO DO MEU SONHO       12  5941-AU   \n..        ...                              ...      ...      ...   \n299      8030            SAVANA PLANET FIV FZD       12   4961-U   \n300      8030            SAVANA PLANET FIV FZD       12   4961-U   \n301      2389   TEQUILA GENGIS KHAN FIV CAMPAN       12  5278-AZ   \n302      2384   BATUCADA 5003 EXPANDER FIV JM        34  7184-BC   \n303      2384  AEROMOAA 1410 BEEMER FIV JM MO       34  6792-AY   \n\n                             nomep  GSPAI     RGPAI  \\\n0    MS ATLEES SHT AFTERSHOCK - ET     10  AX129928   \n1      MAPLE-DOWNS-I G W ATWOOD-ET     10  AX130581   \n2            DE-SU ALTAGILCREST-ET     10  AX141066   \n3              PENN-GATE FINEST-ET     10  AX117712   \n4               TEATRO DA SILVANIA     11    EFC383   \n..                             ...    ...       ...   \n299       ENSENADA TABOO PLANET-ET     10  AX125509   \n300       ENSENADA TABOO PLANET-ET     10  AX125509   \n301        GENGIS KHAN DE BRASILIA     11   RRP6097   \n302           STANTONS EXPANDER-ET     10  AX149579   \n303         POL BUTTE MC BEEMER-ET     10  AX145127   \n\n                              nomem  GSMAE     RGMAE  ...       DNASC  SEXO  \\\n0                  JOANE FIV KUBERA     11  ACFG1840  ...  22/12/2014     F   \n1                  JULIA FIV KUBERA     11  ACFG1848  ...  05/08/2014     F   \n2                          HERDEIRA     11    ERD137  ...  08/08/2018     F   \n3                    VALSA DA CINEL     11   LVRG574  ...  31/01/2014     F   \n4               FABULA DO MEU SONHO     10    C-3722  ...  12/05/2016     F   \n..                              ...    ...       ...  ...         ...   ...   \n299                     NINA JAGUAR     11    FAZP84  ...  31/07/2013     F   \n300                     NINA JAGUAR     11    FAZP84  ...  31/07/2013     F   \n301  RHOELANDT 384 BETSY SPIRIT ROY     10  BX323094  ...  16/02/2017     F   \n302         COROLA JM MONTE ALVERNE     12   AA-7520  ...  01/12/2017     F   \n303        BISTECA JM MONTE ALVERNE     12   AB-0427  ...  20/10/2016     F   \n\n                           NOMEPAI                         NOMEMAE  \\\n0    MS ATLEES SHT AFTERSHOCK - ET                JOANE FIV KUBERA   \n1      MAPLE-DOWNS-I G W ATWOOD-ET                JULIA FIV KUBERA   \n2            DE-SU ALTAGILCREST-ET                        HERDEIRA   \n3              PENN-GATE FINEST-ET                  VALSA DA CINEL   \n4               TEATRO DA SILVANIA             FABULA DO MEU SONHO   \n..                             ...                             ...   \n299       ENSENADA TABOO PLANET-ET                     NINA JAGUAR   \n300       ENSENADA TABOO PLANET-ET                     NINA JAGUAR   \n301        GENGIS KHAN DE BRASILIA  RHOELANDT 384 BETSY SPIRIT ROY   \n302           STANTONS EXPANDER-ET         COROLA JM MONTE ALVERNE   \n303         POL BUTTE MC BEEMER-ET        BISTECA JM MONTE ALVERNE   \n\n            cgen_a  comb     id_touro      id_vaca     rebc_or  codgiro  \n0    1/2HOL 1/2GIR   519       207142     ACFG1840  10639-GIRO    10639  \n1    1/2HOL 1/2GIR   519       208574     ACFG1848  10639-GIRO    10639  \n2    1/2HOL 1/2GIR   519  GIRO1455287       ERD137  10639-GIRO    10639  \n3    1/2HOL 1/2GIR   519   GIRO812244      LVRG574  10639-GIRO    10639  \n4    1/2HOL 1/2GIR   519       EFC383  GIRO1845621  10639-GIRO    10639  \n..             ...   ...          ...          ...         ...      ...  \n299  1/2HOL 1/2GIR   519       212019       FAZP84  26363-ABCZ     8030  \n300  1/2HOL 1/2GIR   519       212019       FAZP84   4655-ABCZ     8030  \n301  1/2HOL 1/2GIR   519      RRP6097  GIRO1054443   2389-GIRO     2389  \n302  3/4HOL 1/4GIR   795  GIRO1857624   GIRO793074   2384-GIRO     2384  \n303  3/4HOL 1/4GIR   795  GIRO1606782   GIRO793040   2384-GIRO     2384  \n\n[304 rows x 64 columns]",
      "text/html": "<div>\n<style scoped>\n    .dataframe tbody tr th:only-of-type {\n        vertical-align: middle;\n    }\n\n    .dataframe tbody tr th {\n        vertical-align: top;\n    }\n\n    .dataframe thead th {\n        text-align: right;\n    }\n</style>\n<table border=\"1\" class=\"dataframe\">\n  <thead>\n    <tr style=\"text-align: right;\">\n      <th></th>\n      <th>reb_giro</th>\n      <th>nomea</th>\n      <th>COMPRAC</th>\n      <th>RGVACA</th>\n      <th>nomep</th>\n      <th>GSPAI</th>\n      <th>RGPAI</th>\n      <th>nomem</th>\n      <th>GSMAE</th>\n      <th>RGMAE</th>\n      <th>...</th>\n      <th>DNASC</th>\n      <th>SEXO</th>\n      <th>NOMEPAI</th>\n      <th>NOMEMAE</th>\n      <th>cgen_a</th>\n      <th>comb</th>\n      <th>id_touro</th>\n      <th>id_vaca</th>\n      <th>rebc_or</th>\n      <th>codgiro</th>\n    </tr>\n  </thead>\n  <tbody>\n    <tr>\n      <th>0</th>\n      <td>10639</td>\n      <td>LANAA FIV AFTERSHOCK BON.BELEM</td>\n      <td>12</td>\n      <td>9592-AG</td>\n      <td>MS ATLEES SHT AFTERSHOCK - ET</td>\n      <td>10</td>\n      <td>AX129928</td>\n      <td>JOANE FIV KUBERA</td>\n      <td>11</td>\n      <td>ACFG1840</td>\n      <td>...</td>\n      <td>22/12/2014</td>\n      <td>F</td>\n      <td>MS ATLEES SHT AFTERSHOCK - ET</td>\n      <td>JOANE FIV KUBERA</td>\n      <td>1/2HOL 1/2GIR</td>\n      <td>519</td>\n      <td>207142</td>\n      <td>ACFG1840</td>\n      <td>10639-GIRO</td>\n      <td>10639</td>\n    </tr>\n    <tr>\n      <th>1</th>\n      <td>10639</td>\n      <td>FLORENTINA FIV ATWOOD SAMPA</td>\n      <td>12</td>\n      <td>0949-AK</td>\n      <td>MAPLE-DOWNS-I G W ATWOOD-ET</td>\n      <td>10</td>\n      <td>AX130581</td>\n      <td>JULIA FIV KUBERA</td>\n      <td>11</td>\n      <td>ACFG1848</td>\n      <td>...</td>\n      <td>05/08/2014</td>\n      <td>F</td>\n      <td>MAPLE-DOWNS-I G W ATWOOD-ET</td>\n      <td>JULIA FIV KUBERA</td>\n      <td>1/2HOL 1/2GIR</td>\n      <td>519</td>\n      <td>208574</td>\n      <td>ACFG1848</td>\n      <td>10639-GIRO</td>\n      <td>10639</td>\n    </tr>\n    <tr>\n      <th>2</th>\n      <td>10639</td>\n      <td>JGSA 1216 FIV GILCREST PORTEIR</td>\n      <td>12</td>\n      <td>9419-BI</td>\n      <td>DE-SU ALTAGILCREST-ET</td>\n      <td>10</td>\n      <td>AX141066</td>\n      <td>HERDEIRA</td>\n      <td>11</td>\n      <td>ERD137</td>\n      <td>...</td>\n      <td>08/08/2018</td>\n      <td>F</td>\n      <td>DE-SU ALTAGILCREST-ET</td>\n      <td>HERDEIRA</td>\n      <td>1/2HOL 1/2GIR</td>\n      <td>519</td>\n      <td>GIRO1455287</td>\n      <td>ERD137</td>\n      <td>10639-GIRO</td>\n      <td>10639</td>\n    </tr>\n    <tr>\n      <th>3</th>\n      <td>10639</td>\n      <td>CANJA FIV FINEST PORTEIRA AZUL</td>\n      <td>12</td>\n      <td>5893-AU</td>\n      <td>PENN-GATE FINEST-ET</td>\n      <td>10</td>\n      <td>AX117712</td>\n      <td>VALSA DA CINEL</td>\n      <td>11</td>\n      <td>LVRG574</td>\n      <td>...</td>\n      <td>31/01/2014</td>\n      <td>F</td>\n      <td>PENN-GATE FINEST-ET</td>\n      <td>VALSA DA CINEL</td>\n      <td>1/2HOL 1/2GIR</td>\n      <td>519</td>\n      <td>GIRO812244</td>\n      <td>LVRG574</td>\n      <td>10639-GIRO</td>\n      <td>10639</td>\n    </tr>\n    <tr>\n      <th>4</th>\n      <td>10639</td>\n      <td>BEATRIZ TEATRO DO MEU SONHO</td>\n      <td>12</td>\n      <td>5941-AU</td>\n      <td>TEATRO DA SILVANIA</td>\n      <td>11</td>\n      <td>EFC383</td>\n      <td>FABULA DO MEU SONHO</td>\n      <td>10</td>\n      <td>C-3722</td>\n      <td>...</td>\n      <td>12/05/2016</td>\n      <td>F</td>\n      <td>TEATRO DA SILVANIA</td>\n      <td>FABULA DO MEU SONHO</td>\n      <td>1/2HOL 1/2GIR</td>\n      <td>519</td>\n      <td>EFC383</td>\n      <td>GIRO1845621</td>\n      <td>10639-GIRO</td>\n      <td>10639</td>\n    </tr>\n    <tr>\n      <th>...</th>\n      <td>...</td>\n      <td>...</td>\n      <td>...</td>\n      <td>...</td>\n      <td>...</td>\n      <td>...</td>\n      <td>...</td>\n      <td>...</td>\n      <td>...</td>\n      <td>...</td>\n      <td>...</td>\n      <td>...</td>\n      <td>...</td>\n      <td>...</td>\n      <td>...</td>\n      <td>...</td>\n      <td>...</td>\n      <td>...</td>\n      <td>...</td>\n      <td>...</td>\n      <td>...</td>\n    </tr>\n    <tr>\n      <th>299</th>\n      <td>8030</td>\n      <td>SAVANA PLANET FIV FZD</td>\n      <td>12</td>\n      <td>4961-U</td>\n      <td>ENSENADA TABOO PLANET-ET</td>\n      <td>10</td>\n      <td>AX125509</td>\n      <td>NINA JAGUAR</td>\n      <td>11</td>\n      <td>FAZP84</td>\n      <td>...</td>\n      <td>31/07/2013</td>\n      <td>F</td>\n      <td>ENSENADA TABOO PLANET-ET</td>\n      <td>NINA JAGUAR</td>\n      <td>1/2HOL 1/2GIR</td>\n      <td>519</td>\n      <td>212019</td>\n      <td>FAZP84</td>\n      <td>26363-ABCZ</td>\n      <td>8030</td>\n    </tr>\n    <tr>\n      <th>300</th>\n      <td>8030</td>\n      <td>SAVANA PLANET FIV FZD</td>\n      <td>12</td>\n      <td>4961-U</td>\n      <td>ENSENADA TABOO PLANET-ET</td>\n      <td>10</td>\n      <td>AX125509</td>\n      <td>NINA JAGUAR</td>\n      <td>11</td>\n      <td>FAZP84</td>\n      <td>...</td>\n      <td>31/07/2013</td>\n      <td>F</td>\n      <td>ENSENADA TABOO PLANET-ET</td>\n      <td>NINA JAGUAR</td>\n      <td>1/2HOL 1/2GIR</td>\n      <td>519</td>\n      <td>212019</td>\n      <td>FAZP84</td>\n      <td>4655-ABCZ</td>\n      <td>8030</td>\n    </tr>\n    <tr>\n      <th>301</th>\n      <td>2389</td>\n      <td>TEQUILA GENGIS KHAN FIV CAMPAN</td>\n      <td>12</td>\n      <td>5278-AZ</td>\n      <td>GENGIS KHAN DE BRASILIA</td>\n      <td>11</td>\n      <td>RRP6097</td>\n      <td>RHOELANDT 384 BETSY SPIRIT ROY</td>\n      <td>10</td>\n      <td>BX323094</td>\n      <td>...</td>\n      <td>16/02/2017</td>\n      <td>F</td>\n      <td>GENGIS KHAN DE BRASILIA</td>\n      <td>RHOELANDT 384 BETSY SPIRIT ROY</td>\n      <td>1/2HOL 1/2GIR</td>\n      <td>519</td>\n      <td>RRP6097</td>\n      <td>GIRO1054443</td>\n      <td>2389-GIRO</td>\n      <td>2389</td>\n    </tr>\n    <tr>\n      <th>302</th>\n      <td>2384</td>\n      <td>BATUCADA 5003 EXPANDER FIV JM</td>\n      <td>34</td>\n      <td>7184-BC</td>\n      <td>STANTONS EXPANDER-ET</td>\n      <td>10</td>\n      <td>AX149579</td>\n      <td>COROLA JM MONTE ALVERNE</td>\n      <td>12</td>\n      <td>AA-7520</td>\n      <td>...</td>\n      <td>01/12/2017</td>\n      <td>F</td>\n      <td>STANTONS EXPANDER-ET</td>\n      <td>COROLA JM MONTE ALVERNE</td>\n      <td>3/4HOL 1/4GIR</td>\n      <td>795</td>\n      <td>GIRO1857624</td>\n      <td>GIRO793074</td>\n      <td>2384-GIRO</td>\n      <td>2384</td>\n    </tr>\n    <tr>\n      <th>303</th>\n      <td>2384</td>\n      <td>AEROMOAA 1410 BEEMER FIV JM MO</td>\n      <td>34</td>\n      <td>6792-AY</td>\n      <td>POL BUTTE MC BEEMER-ET</td>\n      <td>10</td>\n      <td>AX145127</td>\n      <td>BISTECA JM MONTE ALVERNE</td>\n      <td>12</td>\n      <td>AB-0427</td>\n      <td>...</td>\n      <td>20/10/2016</td>\n      <td>F</td>\n      <td>POL BUTTE MC BEEMER-ET</td>\n      <td>BISTECA JM MONTE ALVERNE</td>\n      <td>3/4HOL 1/4GIR</td>\n      <td>795</td>\n      <td>GIRO1606782</td>\n      <td>GIRO793040</td>\n      <td>2384-GIRO</td>\n      <td>2384</td>\n    </tr>\n  </tbody>\n</table>\n<p>304 rows × 64 columns</p>\n</div>"
     },
     "execution_count": 29,
     "metadata": {},
     "output_type": "execute_result"
    }
   ],
   "source": [
    "# Pegando rebc2_pr da tabela de fazendas\n",
    "df_animais_com_ids = pd.merge(df_animais_com_ids, df_criadores[['rebc_or', 'codgiro']], left_on=['reb_giro'], right_on=['codgiro'])\n",
    "\n",
    "df_animais_com_ids"
   ],
   "metadata": {
    "collapsed": false
   }
  },
  {
   "cell_type": "code",
   "execution_count": 30,
   "outputs": [
    {
     "data": {
      "text/plain": "      id_produto           id  abcz registro                             nome  \\\n0    GIRO1588703  GIRO1588703  None  9592-AG  LANAA FIV AFTERSHOCK BON.BELEM   \n1    GIRO1544370  GIRO1544370  None  0949-AK      FLORENTINA FIV ATWOOD SAMPA   \n2    GIRO2678185  GIRO2678185  None  9419-BI   JGSA 1216 FIV GILCREST PORTEIR   \n3    GIRO1550355  GIRO1550355  None  5893-AU   CANJA FIV FINEST PORTEIRA AZUL   \n4    GIRO1845642  GIRO1845642  None  5941-AU      BEATRIZ TEATRO DO MEU SONHO   \n..           ...          ...   ...      ...                              ...   \n299  GIRO1383169  GIRO1383169  None   4961-U            SAVANA PLANET FIV FZD   \n300  GIRO1383169  GIRO1383169  None   4961-U            SAVANA PLANET FIV FZD   \n301  GIRO2030237  GIRO2030237  None  5278-AZ   TEQUILA GENGIS KHAN FIV CAMPAN   \n302  GIRO2055307  GIRO2055307  None  7184-BC   BATUCADA 5003 EXPANDER FIV JM    \n303  GIRO1930130  GIRO1930130  None  6792-AY  AEROMOAA 1410 BEEMER FIV JM MO   \n\n    SEXO paternidade ck_sire     id_touro      id_vaca  ... gr_ps gr_tp  \\\n0      F        None    None       207142     ACFG1840  ...  None  None   \n1      F        None    None       208574     ACFG1848  ...  None  None   \n2      F        None    None  GIRO1455287       ERD137  ...  None  None   \n3      F        None    None   GIRO812244      LVRG574  ...  None  None   \n4      F        None    None       EFC383  GIRO1845621  ...  None  None   \n..   ...         ...     ...          ...          ...  ...   ...   ...   \n299    F        None    None       212019       FAZP84  ...  None  None   \n300    F        None    None       212019       FAZP84  ...  None  None   \n301    F        None    None      RRP6097  GIRO1054443  ...  None  None   \n302    F        None    None  GIRO1857624   GIRO793074  ...  None  None   \n303    F        None    None  GIRO1606782   GIRO793040  ...  None  None   \n\n    rebc_cri     rebc_pr   cat  ficha_a cod_prod idanimal origem data_insercao  \n0       None  10639-GIRO  None     None      NaN  1588703   GIRO    2023-03-07  \n1       None  10639-GIRO  None     None      NaN  1544370   GIRO    2023-03-07  \n2       None  10639-GIRO  None     None      NaN  2678185   GIRO    2023-03-07  \n3       None  10639-GIRO  None     None      NaN  1550355   GIRO    2023-03-07  \n4       None  10639-GIRO  None     None      NaN  1845642   GIRO    2023-03-07  \n..       ...         ...   ...      ...      ...      ...    ...           ...  \n299     None  26363-ABCZ  None     None      NaN  1383169   GIRO    2023-03-07  \n300     None   4655-ABCZ  None     None      NaN  1383169   GIRO    2023-03-07  \n301     None   2389-GIRO  None     None      NaN  2030237   GIRO    2023-03-07  \n302     None   2384-GIRO  None     None      NaN  2055307   GIRO    2023-03-07  \n303     None   2384-GIRO  None     None      NaN  1930130   GIRO    2023-03-07  \n\n[304 rows x 27 columns]",
      "text/html": "<div>\n<style scoped>\n    .dataframe tbody tr th:only-of-type {\n        vertical-align: middle;\n    }\n\n    .dataframe tbody tr th {\n        vertical-align: top;\n    }\n\n    .dataframe thead th {\n        text-align: right;\n    }\n</style>\n<table border=\"1\" class=\"dataframe\">\n  <thead>\n    <tr style=\"text-align: right;\">\n      <th></th>\n      <th>id_produto</th>\n      <th>id</th>\n      <th>abcz</th>\n      <th>registro</th>\n      <th>nome</th>\n      <th>SEXO</th>\n      <th>paternidade</th>\n      <th>ck_sire</th>\n      <th>id_touro</th>\n      <th>id_vaca</th>\n      <th>...</th>\n      <th>gr_ps</th>\n      <th>gr_tp</th>\n      <th>rebc_cri</th>\n      <th>rebc_pr</th>\n      <th>cat</th>\n      <th>ficha_a</th>\n      <th>cod_prod</th>\n      <th>idanimal</th>\n      <th>origem</th>\n      <th>data_insercao</th>\n    </tr>\n  </thead>\n  <tbody>\n    <tr>\n      <th>0</th>\n      <td>GIRO1588703</td>\n      <td>GIRO1588703</td>\n      <td>None</td>\n      <td>9592-AG</td>\n      <td>LANAA FIV AFTERSHOCK BON.BELEM</td>\n      <td>F</td>\n      <td>None</td>\n      <td>None</td>\n      <td>207142</td>\n      <td>ACFG1840</td>\n      <td>...</td>\n      <td>None</td>\n      <td>None</td>\n      <td>None</td>\n      <td>10639-GIRO</td>\n      <td>None</td>\n      <td>None</td>\n      <td>NaN</td>\n      <td>1588703</td>\n      <td>GIRO</td>\n      <td>2023-03-07</td>\n    </tr>\n    <tr>\n      <th>1</th>\n      <td>GIRO1544370</td>\n      <td>GIRO1544370</td>\n      <td>None</td>\n      <td>0949-AK</td>\n      <td>FLORENTINA FIV ATWOOD SAMPA</td>\n      <td>F</td>\n      <td>None</td>\n      <td>None</td>\n      <td>208574</td>\n      <td>ACFG1848</td>\n      <td>...</td>\n      <td>None</td>\n      <td>None</td>\n      <td>None</td>\n      <td>10639-GIRO</td>\n      <td>None</td>\n      <td>None</td>\n      <td>NaN</td>\n      <td>1544370</td>\n      <td>GIRO</td>\n      <td>2023-03-07</td>\n    </tr>\n    <tr>\n      <th>2</th>\n      <td>GIRO2678185</td>\n      <td>GIRO2678185</td>\n      <td>None</td>\n      <td>9419-BI</td>\n      <td>JGSA 1216 FIV GILCREST PORTEIR</td>\n      <td>F</td>\n      <td>None</td>\n      <td>None</td>\n      <td>GIRO1455287</td>\n      <td>ERD137</td>\n      <td>...</td>\n      <td>None</td>\n      <td>None</td>\n      <td>None</td>\n      <td>10639-GIRO</td>\n      <td>None</td>\n      <td>None</td>\n      <td>NaN</td>\n      <td>2678185</td>\n      <td>GIRO</td>\n      <td>2023-03-07</td>\n    </tr>\n    <tr>\n      <th>3</th>\n      <td>GIRO1550355</td>\n      <td>GIRO1550355</td>\n      <td>None</td>\n      <td>5893-AU</td>\n      <td>CANJA FIV FINEST PORTEIRA AZUL</td>\n      <td>F</td>\n      <td>None</td>\n      <td>None</td>\n      <td>GIRO812244</td>\n      <td>LVRG574</td>\n      <td>...</td>\n      <td>None</td>\n      <td>None</td>\n      <td>None</td>\n      <td>10639-GIRO</td>\n      <td>None</td>\n      <td>None</td>\n      <td>NaN</td>\n      <td>1550355</td>\n      <td>GIRO</td>\n      <td>2023-03-07</td>\n    </tr>\n    <tr>\n      <th>4</th>\n      <td>GIRO1845642</td>\n      <td>GIRO1845642</td>\n      <td>None</td>\n      <td>5941-AU</td>\n      <td>BEATRIZ TEATRO DO MEU SONHO</td>\n      <td>F</td>\n      <td>None</td>\n      <td>None</td>\n      <td>EFC383</td>\n      <td>GIRO1845621</td>\n      <td>...</td>\n      <td>None</td>\n      <td>None</td>\n      <td>None</td>\n      <td>10639-GIRO</td>\n      <td>None</td>\n      <td>None</td>\n      <td>NaN</td>\n      <td>1845642</td>\n      <td>GIRO</td>\n      <td>2023-03-07</td>\n    </tr>\n    <tr>\n      <th>...</th>\n      <td>...</td>\n      <td>...</td>\n      <td>...</td>\n      <td>...</td>\n      <td>...</td>\n      <td>...</td>\n      <td>...</td>\n      <td>...</td>\n      <td>...</td>\n      <td>...</td>\n      <td>...</td>\n      <td>...</td>\n      <td>...</td>\n      <td>...</td>\n      <td>...</td>\n      <td>...</td>\n      <td>...</td>\n      <td>...</td>\n      <td>...</td>\n      <td>...</td>\n      <td>...</td>\n    </tr>\n    <tr>\n      <th>299</th>\n      <td>GIRO1383169</td>\n      <td>GIRO1383169</td>\n      <td>None</td>\n      <td>4961-U</td>\n      <td>SAVANA PLANET FIV FZD</td>\n      <td>F</td>\n      <td>None</td>\n      <td>None</td>\n      <td>212019</td>\n      <td>FAZP84</td>\n      <td>...</td>\n      <td>None</td>\n      <td>None</td>\n      <td>None</td>\n      <td>26363-ABCZ</td>\n      <td>None</td>\n      <td>None</td>\n      <td>NaN</td>\n      <td>1383169</td>\n      <td>GIRO</td>\n      <td>2023-03-07</td>\n    </tr>\n    <tr>\n      <th>300</th>\n      <td>GIRO1383169</td>\n      <td>GIRO1383169</td>\n      <td>None</td>\n      <td>4961-U</td>\n      <td>SAVANA PLANET FIV FZD</td>\n      <td>F</td>\n      <td>None</td>\n      <td>None</td>\n      <td>212019</td>\n      <td>FAZP84</td>\n      <td>...</td>\n      <td>None</td>\n      <td>None</td>\n      <td>None</td>\n      <td>4655-ABCZ</td>\n      <td>None</td>\n      <td>None</td>\n      <td>NaN</td>\n      <td>1383169</td>\n      <td>GIRO</td>\n      <td>2023-03-07</td>\n    </tr>\n    <tr>\n      <th>301</th>\n      <td>GIRO2030237</td>\n      <td>GIRO2030237</td>\n      <td>None</td>\n      <td>5278-AZ</td>\n      <td>TEQUILA GENGIS KHAN FIV CAMPAN</td>\n      <td>F</td>\n      <td>None</td>\n      <td>None</td>\n      <td>RRP6097</td>\n      <td>GIRO1054443</td>\n      <td>...</td>\n      <td>None</td>\n      <td>None</td>\n      <td>None</td>\n      <td>2389-GIRO</td>\n      <td>None</td>\n      <td>None</td>\n      <td>NaN</td>\n      <td>2030237</td>\n      <td>GIRO</td>\n      <td>2023-03-07</td>\n    </tr>\n    <tr>\n      <th>302</th>\n      <td>GIRO2055307</td>\n      <td>GIRO2055307</td>\n      <td>None</td>\n      <td>7184-BC</td>\n      <td>BATUCADA 5003 EXPANDER FIV JM</td>\n      <td>F</td>\n      <td>None</td>\n      <td>None</td>\n      <td>GIRO1857624</td>\n      <td>GIRO793074</td>\n      <td>...</td>\n      <td>None</td>\n      <td>None</td>\n      <td>None</td>\n      <td>2384-GIRO</td>\n      <td>None</td>\n      <td>None</td>\n      <td>NaN</td>\n      <td>2055307</td>\n      <td>GIRO</td>\n      <td>2023-03-07</td>\n    </tr>\n    <tr>\n      <th>303</th>\n      <td>GIRO1930130</td>\n      <td>GIRO1930130</td>\n      <td>None</td>\n      <td>6792-AY</td>\n      <td>AEROMOAA 1410 BEEMER FIV JM MO</td>\n      <td>F</td>\n      <td>None</td>\n      <td>None</td>\n      <td>GIRO1606782</td>\n      <td>GIRO793040</td>\n      <td>...</td>\n      <td>None</td>\n      <td>None</td>\n      <td>None</td>\n      <td>2384-GIRO</td>\n      <td>None</td>\n      <td>None</td>\n      <td>NaN</td>\n      <td>1930130</td>\n      <td>GIRO</td>\n      <td>2023-03-07</td>\n    </tr>\n  </tbody>\n</table>\n<p>304 rows × 27 columns</p>\n</div>"
     },
     "execution_count": 30,
     "metadata": {},
     "output_type": "execute_result"
    }
   ],
   "source": [
    "from datetime import datetime\n",
    "\n",
    "#df_animais_sem_id_touro = df_animais_sem_id_touro.drop(['reb_giro', 'GSPAI', 'GSMAE', 'RGPAI', 'RGMAE','GSMAE', 'DNV', 'MNV', 'ANV', 'UF', 'OP', 'DP', 'MP', 'AP', 'DURLAC', 'LTOT', ''], axis=1)\n",
    "\n",
    "# Adiciona coluna \"id\"\n",
    "df_animais_com_ids = df_animais_com_ids.assign(id=None)\n",
    "#Atribui valores de id_produto a id\n",
    "df_animais_com_ids['id'] = df_animais_com_ids['id_produto']\n",
    "# Adiciona coluna \"abcz\" com valores iguais a null\n",
    "df_animais_com_ids = df_animais_com_ids.assign(abcz=None)\n",
    "#renomeia RGVACA para registro\n",
    "df_animais_com_ids = df_animais_com_ids.rename(columns={'RGVACA':'registro'})\n",
    "#renomeia nomea para nome\n",
    "df_animais_com_ids = df_animais_com_ids.rename(columns={'nomea':'nome'})\n",
    "# Adiciona coluna \"paternidade\" com valores iguais a null\n",
    "df_animais_com_ids = df_animais_com_ids.assign(paternidade=None)\n",
    "# Adiciona coluna \"ck_sire\" com valores iguais a null\n",
    "df_animais_com_ids = df_animais_com_ids.assign(ck_sire=None)\n",
    "# Adiciona coluna \"ck_dam\" com valores iguais a null\n",
    "df_animais_com_ids = df_animais_com_ids.assign(ck_dam=None)\n",
    "# Adiciona coluna \"gen_valido\" com valores iguais a null\n",
    "df_animais_com_ids = df_animais_com_ids.assign(gen_valido=None)\n",
    "# Adiciona coluna \"nasc_est\" com valores da nasc\n",
    "df_animais_com_ids = df_animais_com_ids.assign(nasc_est=None)\n",
    "#Atribui os valores de nasc a nasc_est\n",
    "df_animais_com_ids['nasc_est'] = df_animais_com_ids['nasc']\n",
    "# Adiciona coluna \"gr_psg\" com valores da nasc\n",
    "df_animais_com_ids = df_animais_com_ids.assign(gr_psg=None)\n",
    "# Adiciona coluna \"gr_ps\" com valores da nasc\n",
    "df_animais_com_ids = df_animais_com_ids.assign(gr_ps=None)\n",
    "# Adiciona coluna \"gr_tp\" com valores da nasc\n",
    "df_animais_com_ids = df_animais_com_ids.assign(gr_tp=None)\n",
    "# Adiciona coluna \"rebc2_cri\" com valores da nasc\n",
    "df_animais_com_ids = df_animais_com_ids.assign(rebc_cri=None)\n",
    "#renomeia rebc_or para rebc_pr\n",
    "df_animais_com_ids = df_animais_com_ids.rename(columns={'rebc_or':'rebc_pr'})\n",
    "# Adiciona coluna \"cat\" com valores da nasc\n",
    "df_animais_com_ids = df_animais_com_ids.assign(cat=None)\n",
    "# Adiciona coluna \"ficha_a\" com valores da nasc\n",
    "df_animais_com_ids = df_animais_com_ids.assign(ficha_a=None)\n",
    "#renomeia IDANIMAL para idanimal\n",
    "df_animais_com_ids = df_animais_com_ids.rename(columns={'IDANIMAL':'idanimal'})\n",
    "# Adiciona coluna \"origem\" com valores da nasc\n",
    "df_animais_com_ids = df_animais_com_ids.assign(origem='GIRO')\n",
    "# Adiciona coluna \"data_insercao\" com valores da nasc\n",
    "df_animais_com_ids = df_animais_com_ids.assign(data_insercao=None)\n",
    "# Adiciona uma nova coluna com a data atual no formato \"YYYY-MM-DD\"\n",
    "data_atual = datetime.today().strftime('%Y-%m-%d')\n",
    "df_animais_com_ids['data_insercao'] = data_atual\n",
    "\n",
    "\n",
    "tt = df_animais_com_ids[['id_produto', 'id', 'abcz', 'registro','nome','SEXO','paternidade','ck_sire','id_touro','id_vaca','ck_dam','gen_valido','nasc','nasc_est','cgen_a','gs','gr_psg','gr_ps','gr_tp','rebc_cri','rebc_pr','cat','ficha_a','cod_prod','idanimal','origem', 'data_insercao']]\n",
    "\n",
    "tt\n"
   ],
   "metadata": {
    "collapsed": false
   }
  },
  {
   "cell_type": "code",
   "execution_count": 30,
   "outputs": [],
   "source": [],
   "metadata": {
    "collapsed": false
   }
  }
 ],
 "metadata": {
  "kernelspec": {
   "display_name": "Python 3",
   "language": "python",
   "name": "python3"
  },
  "language_info": {
   "codemirror_mode": {
    "name": "ipython",
    "version": 2
   },
   "file_extension": ".py",
   "mimetype": "text/x-python",
   "name": "python",
   "nbconvert_exporter": "python",
   "pygments_lexer": "ipython2",
   "version": "2.7.6"
  }
 },
 "nbformat": 4,
 "nbformat_minor": 0
}
