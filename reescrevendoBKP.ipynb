{
 "cells": [
  {
   "cell_type": "code",
   "execution_count": null,
   "outputs": [],
   "source": [
    "import pandas as pd\n",
    "import warnings\n",
    "import re\n",
    "import tables\n",
    "import mysql.connector\n",
    "warnings.filterwarnings('ignore')"
   ],
   "metadata": {
    "collapsed": false
   }
  },
  {
   "cell_type": "code",
   "execution_count": null,
   "outputs": [],
   "source": [
    "def abre_conexao_banco_de_dados():\n",
    "  global mydb\n",
    "  mydb = mysql.connector.connect(\n",
    "  host=\"127.0.0.1\",\n",
    "  user=\"root\",\n",
    "  password=\"4d5f0l9k\",\n",
    "  database=\"bioinformatica_new\"\n",
    ")"
   ],
   "metadata": {
    "collapsed": false
   }
  },
  {
   "cell_type": "code",
   "execution_count": null,
   "outputs": [],
   "source": [
    "def retorna_tabelas_banco_de_dados(nomeTabela):\n",
    "  if nomeTabela =='genealogia_embrapa':\n",
    "    sql = f\"WITH tabela_virtual AS (SELECT * FROM genealogia_embrapa) SELECT tv.*, (SELECT registro FROM tabela_virtual AS pai WHERE pai.id_produto = tv.id_touro) AS registro_pai, (SELECT registro FROM tabela_virtual AS mae WHERE mae.id_produto = tv.id_vaca) AS registro_mae FROM tabela_virtual AS tv\"\n",
    "  else:\n",
    "    sql = f\"SELECT * FROM {nomeTabela}\"\n",
    "  df =  pd.read_sql(sql, mydb)\n",
    "  return df"
   ],
   "metadata": {
    "collapsed": false
   }
  },
  {
   "cell_type": "code",
   "execution_count": null,
   "outputs": [],
   "source": [
    "def cria_df_com_somente_os_dados_novos(planilhaAntiga, planilhaNova):\n",
    "  dados_em_comum = pd.merge(dados_2023, dados_2022, on=['IDANIMAL', 'AP', 'MP','L305', 'LTOT', 'L365', 'ME', 'AE', 'CAUSA'],suffixes=('', '_drop'))\n",
    "  dados_em_comum = dados_em_comum.drop(dados_em_comum.filter(regex='_drop$').columns, axis=1)\n",
    "  dados_em_comum = dados_em_comum.drop_duplicates()\n",
    "  df_merge = pd.merge(dados_2023, dados_em_comum, how='left', indicator=True, suffixes=('', '_drop'))\n",
    "  # filtra somente as linhas que estão no dataframe da esquerda\n",
    "  df_dados_novos = df_merge[df_merge['_merge'] == 'left_only']\n",
    "  # remove a coluna \"_merge\"\n",
    "  df_dados_novos.drop('_merge', axis=1, inplace=True)\n",
    "  df_dados_novos = df_dados_novos.drop(df_merge.filter(regex='_drop$').columns, axis=1)\n",
    "  df_dados_novos = df_dados_novos.drop_duplicates()\n",
    "  return df_dados_novos"
   ],
   "metadata": {
    "collapsed": false
   }
  },
  {
   "cell_type": "code",
   "execution_count": null,
   "outputs": [],
   "source": [
    "def adiciona_coluna_gs_aos_dados_novos(df,df_pedigree ):\n",
    "  df_temporaria = pd.merge(df, df_pedigree[['IDANIMAL', 'gs', 'SEXO']], on=['IDANIMAL'], suffixes=('', '_drop'))\n",
    "  df=df_temporaria\n",
    "  nome_antigo = 'SEXO'\n",
    "  nome_novo = 'sexo'\n",
    "  indice_coluna = df.columns.get_loc(nome_antigo)\n",
    "  df.rename(columns={nome_antigo: nome_novo}, inplace=True)\n",
    "  return df"
   ],
   "metadata": {
    "collapsed": false
   }
  },
  {
   "cell_type": "code",
   "execution_count": null,
   "outputs": [],
   "source": [
    "def retira_acentos_espacos(df):\n",
    "  # remoção dos hifens e espaços em branco da coluna RGVACA\n",
    "  df.loc[df['COMPRAC'] == 11, 'RGVACA'] = df.loc[df['COMPRAC'] == 11, 'RGVACA'].str.replace('-', '').str.replace(' ', '')\n",
    "\n",
    "  df.loc[df['GSMAE'] == 11, 'RGMAE'] = df.loc[df['GSMAE'] == 11, 'RGMAE'].str.replace('-', '').str.replace(' ', '')\n",
    "\n",
    "  df.loc[df['GSPAI'] == 11, 'RGPAI'] = df.loc[df['GSPAI'] == 11, 'RGPAI'].str.replace('-', '').str.replace(' ', '')\n",
    "  return df"
   ],
   "metadata": {
    "collapsed": false
   }
  },
  {
   "cell_type": "code",
   "execution_count": null,
   "outputs": [],
   "source": [
    "def adiciona_colunas_codprod_codpai_cod_mae(df, genealogia_abcz):\n",
    "  sub_tabela_gs_0 = df[df['gs'] == 0]\n",
    "  genealogia_abcz = genealogia_abcz.rename(columns={'rgd2': 'RGVACA'})\n",
    "  df_temporaria1 = pd.merge(sub_tabela_gs_0, genealogia_abcz[['RGVACA', 'cod_prod', 'cod_pai', 'cod_mae']], on=['RGVACA'], how='left', suffixes=('', '_drop'))\n",
    "  sub_tabela_gs_0=df_temporaria1\n",
    "  sub_tabela_gs_0 = sub_tabela_gs_0.drop_duplicates()\n",
    "\n",
    "  df_temporaria4 = pd.merge(df, sub_tabela_gs_0[['RGVACA', 'cod_prod', 'cod_pai', 'cod_mae', 'IDANIMAL']], on=['RGVACA', 'IDANIMAL'], how='left', suffixes=('', '_drop'))\n",
    "  df=df_temporaria4\n",
    "  df = df.drop_duplicates()\n",
    "  return df"
   ],
   "metadata": {
    "collapsed": false
   }
  },
  {
   "cell_type": "code",
   "execution_count": null,
   "outputs": [],
   "source": [
    "def pegar_codpai_codmae_abcz_rg_3_letras(df, genealogia_abcz):\n",
    "\n",
    "  genealogia_abcz = genealogia_abcz.rename(columns={'rgd2': 'RGVACA'})\n",
    "  #Criando subtabela para maes\n",
    "  subtabela_mae = df[df['GSMAE'] == 11]\n",
    "  #e o cod_mae e nulo\n",
    "  subtabela_mae\n",
    "  # selecionar apenas as linhas que começam com letras\n",
    "  subtabela_mae = subtabela_mae[subtabela_mae['RGMAE'].apply(lambda x: bool(re.match(r'^[a-zA-Z]{3}', x)))]\n",
    "\n",
    "  #Buscando cod_mae na abcz\n",
    "  genealogia_abcz = genealogia_abcz.rename(columns={'cod_prod':'cod_prod_mae_gen'})\n",
    "  subtabela_mae = pd.merge(subtabela_mae, genealogia_abcz[['RGVACA', 'cod_prod_mae_gen']], left_on=['RGMAE'], right_on=['RGVACA'], how='left', indicator=True, suffixes=('', '_drop'))\n",
    "  subtabela_mae = subtabela_mae.drop_duplicates()\n",
    "  subtabela_mae = subtabela_mae.drop(subtabela_mae.filter(regex='_drop$').columns, axis=1)\n",
    "  subtabela_mae = subtabela_mae[subtabela_mae['_merge'] == 'both'].drop(columns='_merge')\n",
    "\n",
    "  #Adicionando coluna cod_prod_mae no df\n",
    "  df = pd.merge(df, subtabela_mae[['RGMAE', 'cod_prod_mae_gen']], left_on=['RGMAE'], right_on=['RGMAE'], how='left', suffixes=('', '_drop'))\n",
    "  df = df.drop_duplicates()\n",
    "\n",
    "  #Criando subtabela em que gspai = 11\n",
    "  subtabela_pai = df[df['GSPAI'] == 11]\n",
    "\n",
    "  # selecionar apenas as linhas que começam com letras\n",
    "  subtabela_pai = subtabela_pai[subtabela_pai['RGPAI'].apply(lambda x: bool(re.match(r'^[a-zA-Z]{3}', x)))]\n",
    "\n",
    "  #Pegando cod_pai na ABCZ\n",
    "  genealogia_abcz = genealogia_abcz.rename(columns={'cod_prod_mae_gen':'cod_prod_pai_gen'})\n",
    "  subtabela_pai = pd.merge(subtabela_pai, genealogia_abcz[['RGVACA', 'cod_prod_pai_gen']], left_on=['RGPAI'], right_on=['RGVACA'], how='left', indicator=True, suffixes=('', '_drop'))\n",
    "  subtabela_pai = subtabela_pai.drop_duplicates()\n",
    "  subtabela_pai = subtabela_pai.drop(subtabela_pai.filter(regex='_drop$').columns, axis=1)\n",
    "  subtabela_pai = subtabela_pai[subtabela_pai['_merge'] == 'both'].drop(columns='_merge')\n",
    "\n",
    "  #Criando coluna do cod_prod_pai_gen no df\n",
    "  df = pd.merge(df, subtabela_pai[['RGPAI', 'cod_prod_pai_gen']], left_on=['RGPAI'], right_on=['RGPAI'], how='left', suffixes=('', '_drop'))\n",
    "  df = df.drop_duplicates()\n",
    "\n",
    "  #Atualizando valores da cod_pai e cod_mae do df com os valores das colunas inseridas\n",
    "  df['cod_pai'].fillna(df['cod_prod_pai_gen'], inplace=True)\n",
    "  df['cod_mae'].fillna(df['cod_prod_mae_gen'], inplace=True)\n",
    "  #Dando drop nas colunas antigas\n",
    "  df = df.drop(columns='cod_prod_pai_gen')\n",
    "  df = df.drop(columns='cod_prod_mae_gen')\n",
    "\n",
    "  return df\n"
   ],
   "metadata": {
    "collapsed": false
   }
  },
  {
   "cell_type": "code",
   "execution_count": null,
   "outputs": [],
   "source": [
    "def pegar_codpai_codmae_abcz_rg_diferente_3_letras(df, genealogia_abcz):\n",
    "  genealogia_abcz = genealogia_abcz.rename(columns={'rgd2': 'RGVACA'})\n",
    "  #Criando subtabela\n",
    "  subtabela_pai = df[df['GSPAI'] == 11]\n",
    "  # selecionar apenas as linhas que NÃO começam com letras\n",
    "  subtabela_pai = subtabela_pai[~subtabela_pai['RGPAI'].apply(lambda x: bool(re.match(r'^[a-zA-Z]{3}', x)))]\n",
    "\n",
    "  #Pegando cod_pai na abcz\n",
    "  genealogia_abcz = genealogia_abcz.rename(columns={'cod_prod':'cod_prod_pai_gen'})\n",
    "  subtabela_pai = subtabela_pai.drop_duplicates()\n",
    "  genealogia_abcz = genealogia_abcz.drop_duplicates()\n",
    "  subtabela_pai['nome4caracteres'] = subtabela_pai['nomep'].str.slice(start=0, stop=4)\n",
    "  genealogia_abcz['nome4caracteres'] = genealogia_abcz['nome'].str.slice(start=0, stop=4)\n",
    "  subtabela_pai = pd.merge(subtabela_pai, genealogia_abcz[['RGVACA', 'nome4caracteres','cod_prod_pai_gen']], left_on=['RGPAI', 'nome4caracteres'], right_on=['RGVACA', 'nome4caracteres'], how='left', indicator=True, suffixes=('', '_drop'))\n",
    "  subtabela_pai = subtabela_pai.drop_duplicates()\n",
    "  subtabela_pai = subtabela_pai.drop(subtabela_pai.filter(regex='_drop$').columns, axis=1)\n",
    "  subtabela_pai = subtabela_pai[subtabela_pai['_merge'] == 'both'].drop(columns='_merge')\n",
    "\n",
    "  #Adicionando coluna de cod_pai_gen no df\n",
    "  df = pd.merge(df, subtabela_pai[['RGPAI', 'cod_prod_pai_gen']], left_on=['RGPAI'], right_on=['RGPAI'], how='left', suffixes=('', '_drop'))\n",
    "  df = df.drop_duplicates()\n",
    "\n",
    "  #Criando subtabela mae\n",
    "  genealogia_abcz = genealogia_abcz.rename(columns={'cod_prod':'cod_prod_mae_gen'})\n",
    "  subtabela_mae = df[df['GSMAE'] == 11]\n",
    "  # selecionar apenas as linhas que NÃO começam com letras\n",
    "  subtabela_mae = subtabela_mae[~subtabela_mae['RGMAE'].apply(lambda x: bool(re.match(r'^[a-zA-Z]{3}', x)))]\n",
    "\n",
    "  #Pegando cod_mae na abcz\n",
    "  subtabela_mae['nome11caracteres'] = subtabela_mae['nomem'].str.slice(start=0, stop=11)\n",
    "  genealogia_abcz = genealogia_abcz.rename(columns={'cod_prod_pai_gen':'cod_prod_mae_gen'})\n",
    "  #criando coluna com os 10 caracteres do nome\n",
    "  subtabela_mae = pd.merge(subtabela_mae, genealogia_abcz[['RGVACA','nome4caracteres' ,'cod_prod_mae_gen']], left_on=['RGMAE', 'nome11caracteres'], right_on=['RGVACA', 'nome4caracteres'], how='left', indicator=True, suffixes=('', '_drop'))\n",
    "  subtabela_mae = subtabela_mae.drop_duplicates()\n",
    "  subtabela_mae = subtabela_mae.drop(subtabela_mae.filter(regex='_drop$').columns, axis=1)\n",
    "  subtabela_mae = subtabela_mae[subtabela_mae['_merge'] == 'both'].drop(columns='_merge')\n",
    "\n",
    "  #Adicionando coluna de cod_mae_gen no df\n",
    "  df = pd.merge(df, subtabela_mae[['RGMAE', 'cod_prod_mae_gen']], left_on=['RGMAE'], right_on=['RGMAE'], how='left', suffixes=('', '_drop'))\n",
    "  df = df.drop_duplicates()\n",
    "\n",
    "  #Atualizando cod_pai e cod_mae com base nas novas colunas\n",
    "  df['cod_pai'].fillna(df['cod_prod_pai_gen'], inplace=True)\n",
    "  df['cod_mae'].fillna(df['cod_prod_mae_gen'], inplace=True)\n",
    "  #Dando drop nas colunas antigas\n",
    "  df = df.drop(columns='cod_prod_pai_gen')\n",
    "  df = df.drop(columns='cod_prod_mae_gen')\n",
    "  return df"
   ],
   "metadata": {
    "collapsed": false
   }
  },
  {
   "cell_type": "code",
   "execution_count": 17,
   "outputs": [],
   "source": [
    "def adiciona_coluna_reb(df, criadores):\n",
    "  criadores = criadores.rename(columns={'codgiro':'reb_giro'})\n",
    "  df = pd.merge(df, criadores[['reb_giro', 'reb']], on=['reb_giro'], how='left')\n",
    "  df = df.drop_duplicates()\n",
    "  return df"
   ],
   "metadata": {
    "collapsed": false
   }
  },
  {
   "cell_type": "code",
   "execution_count": null,
   "outputs": [],
   "source": [
    "abre_conexao_banco_de_dados()\n",
    "df_genealogia_embrapa = retorna_tabelas_banco_de_dados('genealogia_embrapa')\n",
    "df_genealogia_embrapa =df_genealogia_embrapa.rename(columns={'idanimal': 'IDANIMAL'})\n",
    "df_genealogia_abcz = retorna_tabelas_banco_de_dados('genealogia_abcz')\n",
    "df_criadores = retorna_tabelas_banco_de_dados('criadores')\n",
    "df_producao = retorna_tabelas_banco_de_dados('producao_embrapa')\n",
    "df_fazendas = retorna_tabelas_banco_de_dados('fazendas')\n",
    "pedigree = pd.read_csv(\"pedrigree - Girolando - 17-02-2023.txt\", encoding='ISO-8859-1')\n",
    "dados_2023 = pd.read_csv(\"PNMGL - Dados girolando - 17-02-23.txt\", encoding='ISO-8859-1')\n",
    "dados_2022 = pd.read_csv(\"PNMGL - Dados_old - 17-02-2023.txt\", encoding='ISO-8859-1')"
   ],
   "metadata": {
    "collapsed": false
   }
  },
  {
   "cell_type": "code",
   "execution_count": null,
   "outputs": [],
   "source": [
    "df_dados_novos = cria_df_com_somente_os_dados_novos(dados_2022, dados_2023)"
   ],
   "metadata": {
    "collapsed": false
   }
  },
  {
   "cell_type": "code",
   "execution_count": null,
   "outputs": [],
   "source": [
    "df_dados_novos = adiciona_coluna_gs_aos_dados_novos(df_dados_novos, pedigree)"
   ],
   "metadata": {
    "collapsed": false
   }
  },
  {
   "cell_type": "code",
   "execution_count": null,
   "outputs": [],
   "source": [
    "df_dados_novos = retira_acentos_espacos(df_dados_novos)"
   ],
   "metadata": {
    "collapsed": false
   }
  },
  {
   "cell_type": "code",
   "execution_count": null,
   "outputs": [],
   "source": [
    "df_dados_novos =adiciona_colunas_codprod_codpai_cod_mae(df_dados_novos, df_genealogia_abcz)"
   ],
   "metadata": {
    "collapsed": false
   }
  },
  {
   "cell_type": "code",
   "execution_count": null,
   "outputs": [],
   "source": [
    "df_dados_novos = pegar_codpai_codmae_abcz_rg_3_letras(df_dados_novos, df_genealogia_abcz)"
   ],
   "metadata": {
    "collapsed": false
   }
  },
  {
   "cell_type": "code",
   "execution_count": null,
   "outputs": [],
   "source": [
    "df_dados_novos = pegar_codpai_codmae_abcz_rg_diferente_3_letras(df_dados_novos, df_genealogia_abcz)"
   ],
   "metadata": {
    "collapsed": false
   }
  },
  {
   "cell_type": "code",
   "execution_count": 18,
   "outputs": [
    {
     "data": {
      "text/plain": "      reb_giro                            nomea  COMPRAC    RGVACA  \\\n0         7461   NANA IMPERADOR BAXTER RF SAO F     5858   6353-AH   \n2        10639  LANAA FIV AFTERSHOCK BON.BELEM       12   9592-AG   \n3         6039   EDILAINE IMPERIO FIV 4303 JARD       12  AADA0352   \n4         1945             ARMA MERIDIAN DA MBL       12   1025-AN   \n5        73119   CELESTE 136 TEATRO FIV COOPERR       12   1239-BF   \n...        ...                              ...      ...       ...   \n1150      6029                DUNCAN FR RECREIO       14    0928-T   \n1151       132        QUINTA I COLE AGM TRIUNFO       34   9243-AG   \n1152      6915                  LIA DAS ARABIAS     5858   6125-BR   \n1153      6029          GERMANA FEBO FR RECREIO     5858   9069-AS   \n1154     83436                    LINDA SJ LALU       34   2734-BK   \n\n                              nomep  GSPAI     RGPAI  \\\n0       IMPERADOR BAXTER VOLTA FRIA     58      1459   \n2     MS ATLEES SHT AFTERSHOCK - ET     10  AX129928   \n3            IMPERIO TE STA EDWIGES     11    RIG163   \n4            SULLY HART MERIDIAN-ET     10  AX138576   \n5                TEATRO DA SILVANIA     11    EFC383   \n...                             ...    ...       ...   \n1150           JAGUAR TE DO GAVIAO     11    GAV291   \n1151         CO-OP TOYSTORY COLE-ET     10  AX129567   \n1152              TURBO DAS ARABIAS   5858      0079   \n1153                FEBO FR RECREIO     58    6300-N   \n1154                              0      0         0   \n\n                              nomem  GSMAE         RGMAE  ...  rac  nordc  \\\n0     JURITI HERBY RF SAO FRANCISCO     58        6877-N  ...    2      2   \n2                  JOANE FIV KUBERA     11      ACFG1840  ...    2      2   \n3     SERTEC QATAR FABIANA PROGRESS     10  HBB/B-291392  ...    2      2   \n4                              FAMA     11        JNR167  ...    2      2   \n5        LAGOS ASTRE QUIMICA 795 TE     10      BX335536  ...    2      2   \n...                             ...    ...           ...  ...  ...    ...   \n1150           NILOPOLIS FR RECREIO     12       AB-0524  ...    2      2   \n1151                   QUINTA FIV M     12        0473-O  ...    2      2   \n1152             LILIKA DAS ARABIAS     58       4916-AW  ...    2      2   \n1153            CAMPANHA FR RECREIO     58        6180-N  ...    2      2   \n1154                              0      0             0  ...    3      2   \n\n           rebanoe ordem  gs  sexo  cod_prod    cod_pai     cod_mae  \\\n0      74612019122   NaN   5     F       NaN        NaN         NaN   \n2     106392021122   NaN   4     F       NaN        NaN   9513273.0   \n3      60392020122   NaN   4     F       NaN  4320031.0         NaN   \n4      19452021222   NaN   4     F       NaN        NaN  10621711.0   \n5     731192021222   NaN   4     F       NaN  3540404.0         NaN   \n...            ...   ...  ..   ...       ...        ...         ...   \n1150   60292021222   NaN   2     F       NaN  4176523.0         NaN   \n1151    1322019222   NaN   6     F       NaN        NaN         NaN   \n1152   69152021222   NaN   5     F       NaN        NaN         NaN   \n1153   60292019122   NaN   5     F       NaN        NaN         NaN   \n1154  834362021232   NaN   6     F       NaN        NaN         NaN   \n\n             reb  \n0           1291  \n2     10639-GIRO  \n3            NaN  \n4     37634-ABCZ  \n5            NaN  \n...          ...  \n1150  31365-ABCZ  \n1151  31835-ABCZ  \n1152  27729-ABCZ  \n1153  31365-ABCZ  \n1154  83436-GIRO  \n\n[1039 rows x 50 columns]",
      "text/html": "<div>\n<style scoped>\n    .dataframe tbody tr th:only-of-type {\n        vertical-align: middle;\n    }\n\n    .dataframe tbody tr th {\n        vertical-align: top;\n    }\n\n    .dataframe thead th {\n        text-align: right;\n    }\n</style>\n<table border=\"1\" class=\"dataframe\">\n  <thead>\n    <tr style=\"text-align: right;\">\n      <th></th>\n      <th>reb_giro</th>\n      <th>nomea</th>\n      <th>COMPRAC</th>\n      <th>RGVACA</th>\n      <th>nomep</th>\n      <th>GSPAI</th>\n      <th>RGPAI</th>\n      <th>nomem</th>\n      <th>GSMAE</th>\n      <th>RGMAE</th>\n      <th>...</th>\n      <th>rac</th>\n      <th>nordc</th>\n      <th>rebanoe</th>\n      <th>ordem</th>\n      <th>gs</th>\n      <th>sexo</th>\n      <th>cod_prod</th>\n      <th>cod_pai</th>\n      <th>cod_mae</th>\n      <th>reb</th>\n    </tr>\n  </thead>\n  <tbody>\n    <tr>\n      <th>0</th>\n      <td>7461</td>\n      <td>NANA IMPERADOR BAXTER RF SAO F</td>\n      <td>5858</td>\n      <td>6353-AH</td>\n      <td>IMPERADOR BAXTER VOLTA FRIA</td>\n      <td>58</td>\n      <td>1459</td>\n      <td>JURITI HERBY RF SAO FRANCISCO</td>\n      <td>58</td>\n      <td>6877-N</td>\n      <td>...</td>\n      <td>2</td>\n      <td>2</td>\n      <td>74612019122</td>\n      <td>NaN</td>\n      <td>5</td>\n      <td>F</td>\n      <td>NaN</td>\n      <td>NaN</td>\n      <td>NaN</td>\n      <td>1291</td>\n    </tr>\n    <tr>\n      <th>2</th>\n      <td>10639</td>\n      <td>LANAA FIV AFTERSHOCK BON.BELEM</td>\n      <td>12</td>\n      <td>9592-AG</td>\n      <td>MS ATLEES SHT AFTERSHOCK - ET</td>\n      <td>10</td>\n      <td>AX129928</td>\n      <td>JOANE FIV KUBERA</td>\n      <td>11</td>\n      <td>ACFG1840</td>\n      <td>...</td>\n      <td>2</td>\n      <td>2</td>\n      <td>106392021122</td>\n      <td>NaN</td>\n      <td>4</td>\n      <td>F</td>\n      <td>NaN</td>\n      <td>NaN</td>\n      <td>9513273.0</td>\n      <td>10639-GIRO</td>\n    </tr>\n    <tr>\n      <th>3</th>\n      <td>6039</td>\n      <td>EDILAINE IMPERIO FIV 4303 JARD</td>\n      <td>12</td>\n      <td>AADA0352</td>\n      <td>IMPERIO TE STA EDWIGES</td>\n      <td>11</td>\n      <td>RIG163</td>\n      <td>SERTEC QATAR FABIANA PROGRESS</td>\n      <td>10</td>\n      <td>HBB/B-291392</td>\n      <td>...</td>\n      <td>2</td>\n      <td>2</td>\n      <td>60392020122</td>\n      <td>NaN</td>\n      <td>4</td>\n      <td>F</td>\n      <td>NaN</td>\n      <td>4320031.0</td>\n      <td>NaN</td>\n      <td>NaN</td>\n    </tr>\n    <tr>\n      <th>4</th>\n      <td>1945</td>\n      <td>ARMA MERIDIAN DA MBL</td>\n      <td>12</td>\n      <td>1025-AN</td>\n      <td>SULLY HART MERIDIAN-ET</td>\n      <td>10</td>\n      <td>AX138576</td>\n      <td>FAMA</td>\n      <td>11</td>\n      <td>JNR167</td>\n      <td>...</td>\n      <td>2</td>\n      <td>2</td>\n      <td>19452021222</td>\n      <td>NaN</td>\n      <td>4</td>\n      <td>F</td>\n      <td>NaN</td>\n      <td>NaN</td>\n      <td>10621711.0</td>\n      <td>37634-ABCZ</td>\n    </tr>\n    <tr>\n      <th>5</th>\n      <td>73119</td>\n      <td>CELESTE 136 TEATRO FIV COOPERR</td>\n      <td>12</td>\n      <td>1239-BF</td>\n      <td>TEATRO DA SILVANIA</td>\n      <td>11</td>\n      <td>EFC383</td>\n      <td>LAGOS ASTRE QUIMICA 795 TE</td>\n      <td>10</td>\n      <td>BX335536</td>\n      <td>...</td>\n      <td>2</td>\n      <td>2</td>\n      <td>731192021222</td>\n      <td>NaN</td>\n      <td>4</td>\n      <td>F</td>\n      <td>NaN</td>\n      <td>3540404.0</td>\n      <td>NaN</td>\n      <td>NaN</td>\n    </tr>\n    <tr>\n      <th>...</th>\n      <td>...</td>\n      <td>...</td>\n      <td>...</td>\n      <td>...</td>\n      <td>...</td>\n      <td>...</td>\n      <td>...</td>\n      <td>...</td>\n      <td>...</td>\n      <td>...</td>\n      <td>...</td>\n      <td>...</td>\n      <td>...</td>\n      <td>...</td>\n      <td>...</td>\n      <td>...</td>\n      <td>...</td>\n      <td>...</td>\n      <td>...</td>\n      <td>...</td>\n      <td>...</td>\n    </tr>\n    <tr>\n      <th>1150</th>\n      <td>6029</td>\n      <td>DUNCAN FR RECREIO</td>\n      <td>14</td>\n      <td>0928-T</td>\n      <td>JAGUAR TE DO GAVIAO</td>\n      <td>11</td>\n      <td>GAV291</td>\n      <td>NILOPOLIS FR RECREIO</td>\n      <td>12</td>\n      <td>AB-0524</td>\n      <td>...</td>\n      <td>2</td>\n      <td>2</td>\n      <td>60292021222</td>\n      <td>NaN</td>\n      <td>2</td>\n      <td>F</td>\n      <td>NaN</td>\n      <td>4176523.0</td>\n      <td>NaN</td>\n      <td>31365-ABCZ</td>\n    </tr>\n    <tr>\n      <th>1151</th>\n      <td>132</td>\n      <td>QUINTA I COLE AGM TRIUNFO</td>\n      <td>34</td>\n      <td>9243-AG</td>\n      <td>CO-OP TOYSTORY COLE-ET</td>\n      <td>10</td>\n      <td>AX129567</td>\n      <td>QUINTA FIV M</td>\n      <td>12</td>\n      <td>0473-O</td>\n      <td>...</td>\n      <td>2</td>\n      <td>2</td>\n      <td>1322019222</td>\n      <td>NaN</td>\n      <td>6</td>\n      <td>F</td>\n      <td>NaN</td>\n      <td>NaN</td>\n      <td>NaN</td>\n      <td>31835-ABCZ</td>\n    </tr>\n    <tr>\n      <th>1152</th>\n      <td>6915</td>\n      <td>LIA DAS ARABIAS</td>\n      <td>5858</td>\n      <td>6125-BR</td>\n      <td>TURBO DAS ARABIAS</td>\n      <td>5858</td>\n      <td>0079</td>\n      <td>LILIKA DAS ARABIAS</td>\n      <td>58</td>\n      <td>4916-AW</td>\n      <td>...</td>\n      <td>2</td>\n      <td>2</td>\n      <td>69152021222</td>\n      <td>NaN</td>\n      <td>5</td>\n      <td>F</td>\n      <td>NaN</td>\n      <td>NaN</td>\n      <td>NaN</td>\n      <td>27729-ABCZ</td>\n    </tr>\n    <tr>\n      <th>1153</th>\n      <td>6029</td>\n      <td>GERMANA FEBO FR RECREIO</td>\n      <td>5858</td>\n      <td>9069-AS</td>\n      <td>FEBO FR RECREIO</td>\n      <td>58</td>\n      <td>6300-N</td>\n      <td>CAMPANHA FR RECREIO</td>\n      <td>58</td>\n      <td>6180-N</td>\n      <td>...</td>\n      <td>2</td>\n      <td>2</td>\n      <td>60292019122</td>\n      <td>NaN</td>\n      <td>5</td>\n      <td>F</td>\n      <td>NaN</td>\n      <td>NaN</td>\n      <td>NaN</td>\n      <td>31365-ABCZ</td>\n    </tr>\n    <tr>\n      <th>1154</th>\n      <td>83436</td>\n      <td>LINDA SJ LALU</td>\n      <td>34</td>\n      <td>2734-BK</td>\n      <td>0</td>\n      <td>0</td>\n      <td>0</td>\n      <td>0</td>\n      <td>0</td>\n      <td>0</td>\n      <td>...</td>\n      <td>3</td>\n      <td>2</td>\n      <td>834362021232</td>\n      <td>NaN</td>\n      <td>6</td>\n      <td>F</td>\n      <td>NaN</td>\n      <td>NaN</td>\n      <td>NaN</td>\n      <td>83436-GIRO</td>\n    </tr>\n  </tbody>\n</table>\n<p>1039 rows × 50 columns</p>\n</div>"
     },
     "execution_count": 18,
     "metadata": {},
     "output_type": "execute_result"
    }
   ],
   "source": [
    "df_dados_novos = adiciona_coluna_reb(df_dados_novos, df_criadores)"
   ],
   "metadata": {
    "collapsed": false
   }
  }
 ],
 "metadata": {
  "kernelspec": {
   "display_name": "Python 3",
   "language": "python",
   "name": "python3"
  },
  "language_info": {
   "codemirror_mode": {
    "name": "ipython",
    "version": 2
   },
   "file_extension": ".py",
   "mimetype": "text/x-python",
   "name": "python",
   "nbconvert_exporter": "python",
   "pygments_lexer": "ipython2",
   "version": "2.7.6"
  }
 },
 "nbformat": 4,
 "nbformat_minor": 0
}
