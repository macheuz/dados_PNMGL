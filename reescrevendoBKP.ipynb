{
 "cells": [
  {
   "cell_type": "code",
   "execution_count": 1,
   "outputs": [],
   "source": [
    "import pandas as pd\n",
    "import warnings\n",
    "import re\n",
    "import tables\n",
    "import mysql.connector\n",
    "warnings.filterwarnings('ignore')"
   ],
   "metadata": {
    "collapsed": false
   }
  },
  {
   "cell_type": "code",
   "execution_count": 2,
   "outputs": [],
   "source": [
    "def abre_conexao_banco_de_dados():\n",
    "  global mydb\n",
    "  mydb = mysql.connector.connect(\n",
    "  host=\"127.0.0.1\",\n",
    "  user=\"root\",\n",
    "  password=\"4d5f0l9k\",\n",
    "  database=\"bioinformatica_new\"\n",
    ")"
   ],
   "metadata": {
    "collapsed": false
   }
  },
  {
   "cell_type": "code",
   "execution_count": 3,
   "outputs": [],
   "source": [
    "def retorna_tabelas_banco_de_dados(nomeTabela):\n",
    "  if nomeTabela =='genealogia_embrapa':\n",
    "    sql = f\"WITH tabela_virtual AS (SELECT * FROM genealogia_embrapa) SELECT tv.*, (SELECT registro FROM tabela_virtual AS pai WHERE pai.id_produto = tv.id_touro) AS registro_pai, (SELECT registro FROM tabela_virtual AS mae WHERE mae.id_produto = tv.id_vaca) AS registro_mae FROM tabela_virtual AS tv\"\n",
    "  else:\n",
    "    sql = f\"SELECT * FROM {nomeTabela}\"\n",
    "  df =  pd.read_sql(sql, mydb)\n",
    "  return df"
   ],
   "metadata": {
    "collapsed": false
   }
  },
  {
   "cell_type": "code",
   "execution_count": 4,
   "outputs": [],
   "source": [
    "def cria_df_com_somente_os_dados_novos(planilhaAntiga, planilhaNova):\n",
    "  dados_em_comum = pd.merge(dados_2023, dados_2022, on=['IDANIMAL', 'AP', 'MP','L305', 'LTOT', 'L365', 'ME', 'AE', 'CAUSA'],suffixes=('', '_drop'))\n",
    "  dados_em_comum = dados_em_comum.drop(dados_em_comum.filter(regex='_drop$').columns, axis=1)\n",
    "  dados_em_comum = dados_em_comum.drop_duplicates()\n",
    "  df_merge = pd.merge(dados_2023, dados_em_comum, how='left', indicator=True, suffixes=('', '_drop'))\n",
    "  # filtra somente as linhas que estão no dataframe da esquerda\n",
    "  df_dados_novos = df_merge[df_merge['_merge'] == 'left_only']\n",
    "  # remove a coluna \"_merge\"\n",
    "  df_dados_novos.drop('_merge', axis=1, inplace=True)\n",
    "  df_dados_novos = df_dados_novos.drop(df_merge.filter(regex='_drop$').columns, axis=1)\n",
    "  df_dados_novos = df_dados_novos.drop_duplicates()\n",
    "  return df_dados_novos"
   ],
   "metadata": {
    "collapsed": false
   }
  },
  {
   "cell_type": "code",
   "execution_count": 5,
   "outputs": [],
   "source": [
    "def adiciona_coluna_gs_aos_dados_novos(df,df_pedigree ):\n",
    "  df_temporaria = pd.merge(df, df_pedigree[['IDANIMAL', 'gs', 'SEXO']], on=['IDANIMAL'], suffixes=('', '_drop'))\n",
    "  df=df_temporaria\n",
    "  nome_antigo = 'SEXO'\n",
    "  nome_novo = 'sexo'\n",
    "  indice_coluna = df.columns.get_loc(nome_antigo)\n",
    "  df.rename(columns={nome_antigo: nome_novo}, inplace=True)\n",
    "  return df"
   ],
   "metadata": {
    "collapsed": false
   }
  },
  {
   "cell_type": "code",
   "execution_count": 6,
   "outputs": [],
   "source": [
    "def retira_acentos_espacos(df):\n",
    "  # remoção dos hifens e espaços em branco da coluna RGVACA\n",
    "  df.loc[df['COMPRAC'] == 11, 'RGVACA'] = df.loc[df['COMPRAC'] == 11, 'RGVACA'].str.replace('-', '').str.replace(' ', '')\n",
    "\n",
    "  df.loc[df['GSMAE'] == 11, 'RGMAE'] = df.loc[df['GSMAE'] == 11, 'RGMAE'].str.replace('-', '').str.replace(' ', '')\n",
    "\n",
    "  df.loc[df['GSPAI'] == 11, 'RGPAI'] = df.loc[df['GSPAI'] == 11, 'RGPAI'].str.replace('-', '').str.replace(' ', '')\n",
    "  return df"
   ],
   "metadata": {
    "collapsed": false
   }
  },
  {
   "cell_type": "code",
   "execution_count": 7,
   "outputs": [],
   "source": [
    "def adiciona_colunas_codprod_codpai_cod_mae(df, genealogia_abcz):\n",
    "  sub_tabela_gs_0 = df[df['gs'] == 0]\n",
    "  genealogia_abcz = genealogia_abcz.rename(columns={'rgd2': 'RGVACA'})\n",
    "  df_temporaria1 = pd.merge(sub_tabela_gs_0, genealogia_abcz[['RGVACA', 'cod_prod', 'cod_pai', 'cod_mae']], on=['RGVACA'], how='left', suffixes=('', '_drop'))\n",
    "  sub_tabela_gs_0=df_temporaria1\n",
    "  sub_tabela_gs_0 = sub_tabela_gs_0.drop_duplicates()\n",
    "\n",
    "  df_temporaria4 = pd.merge(df, sub_tabela_gs_0[['RGVACA', 'cod_prod', 'cod_pai', 'cod_mae', 'IDANIMAL']], on=['RGVACA', 'IDANIMAL'], how='left', suffixes=('', '_drop'))\n",
    "  df=df_temporaria4\n",
    "  df = df.drop_duplicates()\n",
    "  return df"
   ],
   "metadata": {
    "collapsed": false
   }
  },
  {
   "cell_type": "code",
   "execution_count": 8,
   "outputs": [],
   "source": [
    "def pegar_codpai_codmae_abcz_rg_3_letras(df, genealogia_abcz):\n",
    "\n",
    "  genealogia_abcz = genealogia_abcz.rename(columns={'rgd2': 'RGVACA'})\n",
    "  #Criando subtabela para maes\n",
    "  subtabela_mae = df[df['GSMAE'] == 11]\n",
    "  #e o cod_mae e nulo\n",
    "  subtabela_mae\n",
    "  # selecionar apenas as linhas que começam com letras\n",
    "  subtabela_mae = subtabela_mae[subtabela_mae['RGMAE'].apply(lambda x: bool(re.match(r'^[a-zA-Z]{3}', x)))]\n",
    "\n",
    "  #Buscando cod_mae na abcz\n",
    "  genealogia_abcz = genealogia_abcz.rename(columns={'cod_prod':'cod_prod_mae_gen'})\n",
    "  subtabela_mae = pd.merge(subtabela_mae, genealogia_abcz[['RGVACA', 'cod_prod_mae_gen']], left_on=['RGMAE'], right_on=['RGVACA'], how='left', indicator=True, suffixes=('', '_drop'))\n",
    "  subtabela_mae = subtabela_mae.drop_duplicates()\n",
    "  subtabela_mae = subtabela_mae.drop(subtabela_mae.filter(regex='_drop$').columns, axis=1)\n",
    "  subtabela_mae = subtabela_mae[subtabela_mae['_merge'] == 'both'].drop(columns='_merge')\n",
    "\n",
    "  #Adicionando coluna cod_prod_mae no df\n",
    "  df = pd.merge(df, subtabela_mae[['RGMAE', 'cod_prod_mae_gen']], left_on=['RGMAE'], right_on=['RGMAE'], how='left', suffixes=('', '_drop'))\n",
    "  df = df.drop_duplicates()\n",
    "\n",
    "  #Criando subtabela em que gspai = 11\n",
    "  subtabela_pai = df[df['GSPAI'] == 11]\n",
    "\n",
    "  # selecionar apenas as linhas que começam com letras\n",
    "  subtabela_pai = subtabela_pai[subtabela_pai['RGPAI'].apply(lambda x: bool(re.match(r'^[a-zA-Z]{3}', x)))]\n",
    "\n",
    "  #Pegando cod_pai na ABCZ\n",
    "  genealogia_abcz = genealogia_abcz.rename(columns={'cod_prod_mae_gen':'cod_prod_pai_gen'})\n",
    "  subtabela_pai = pd.merge(subtabela_pai, genealogia_abcz[['RGVACA', 'cod_prod_pai_gen']], left_on=['RGPAI'], right_on=['RGVACA'], how='left', indicator=True, suffixes=('', '_drop'))\n",
    "  subtabela_pai = subtabela_pai.drop_duplicates()\n",
    "  subtabela_pai = subtabela_pai.drop(subtabela_pai.filter(regex='_drop$').columns, axis=1)\n",
    "  subtabela_pai = subtabela_pai[subtabela_pai['_merge'] == 'both'].drop(columns='_merge')\n",
    "\n",
    "  #Criando coluna do cod_prod_pai_gen no df\n",
    "  df = pd.merge(df, subtabela_pai[['RGPAI', 'cod_prod_pai_gen']], left_on=['RGPAI'], right_on=['RGPAI'], how='left', suffixes=('', '_drop'))\n",
    "  df = df.drop_duplicates()\n",
    "\n",
    "  #Atualizando valores da cod_pai e cod_mae do df com os valores das colunas inseridas\n",
    "  df['cod_pai'].fillna(df['cod_prod_pai_gen'], inplace=True)\n",
    "  df['cod_mae'].fillna(df['cod_prod_mae_gen'], inplace=True)\n",
    "  #Dando drop nas colunas antigas\n",
    "  df = df.drop(columns='cod_prod_pai_gen')\n",
    "  df = df.drop(columns='cod_prod_mae_gen')\n",
    "\n",
    "  return df\n"
   ],
   "metadata": {
    "collapsed": false
   }
  },
  {
   "cell_type": "code",
   "execution_count": 9,
   "outputs": [],
   "source": [
    "def pegar_codpai_codmae_abcz_rg_diferente_3_letras(df, genealogia_abcz):\n",
    "  genealogia_abcz = genealogia_abcz.rename(columns={'rgd2': 'RGVACA'})\n",
    "  #Criando subtabela\n",
    "  subtabela_pai = df[df['GSPAI'] == 11]\n",
    "  # selecionar apenas as linhas que NÃO começam com letras\n",
    "  subtabela_pai = subtabela_pai[~subtabela_pai['RGPAI'].apply(lambda x: bool(re.match(r'^[a-zA-Z]{3}', x)))]\n",
    "\n",
    "  #Pegando cod_pai na abcz\n",
    "  genealogia_abcz = genealogia_abcz.rename(columns={'cod_prod':'cod_prod_pai_gen'})\n",
    "  subtabela_pai = subtabela_pai.drop_duplicates()\n",
    "  genealogia_abcz = genealogia_abcz.drop_duplicates()\n",
    "  subtabela_pai['nome4caracteres'] = subtabela_pai['nomep'].str.slice(start=0, stop=4)\n",
    "  genealogia_abcz['nome4caracteres'] = genealogia_abcz['nome'].str.slice(start=0, stop=4)\n",
    "  genealogia_abcz_pai = genealogia_abcz\n",
    "  genealogia_abcz_pai = genealogia_abcz[genealogia_abcz['sexo']== 'M']\n",
    "  subtabela_pai = pd.merge(subtabela_pai, genealogia_abcz_pai[['RGVACA', 'nome4caracteres','cod_prod_pai_gen']], left_on=['RGPAI', 'nome4caracteres'], right_on=['RGVACA', 'nome4caracteres'], how='left', indicator=True, suffixes=('', '_drop'))\n",
    "  subtabela_pai = subtabela_pai.drop_duplicates()\n",
    "  subtabela_pai = subtabela_pai.drop(subtabela_pai.filter(regex='_drop$').columns, axis=1)\n",
    "  subtabela_pai = subtabela_pai[subtabela_pai['_merge'] == 'both'].drop(columns='_merge')\n",
    "\n",
    "  #Adicionando coluna de cod_pai_gen no df\n",
    "  df = pd.merge(df, subtabela_pai[['RGPAI', 'cod_prod_pai_gen']], left_on=['RGPAI'], right_on=['RGPAI'], how='left', suffixes=('', '_drop'))\n",
    "  df = df.drop_duplicates()\n",
    "\n",
    "  #Criando subtabela mae\n",
    "  genealogia_abcz = genealogia_abcz.rename(columns={'cod_prod':'cod_prod_mae_gen'})\n",
    "  subtabela_mae = df[df['GSMAE'] == 11]\n",
    "  # selecionar apenas as linhas que NÃO começam com letras\n",
    "  subtabela_mae = subtabela_mae[~subtabela_mae['RGMAE'].apply(lambda x: bool(re.match(r'^[a-zA-Z]{3}', x)))]\n",
    "\n",
    "  #Pegando cod_mae na abcz\n",
    "  subtabela_mae['nome4caracteres'] = subtabela_mae['nomem'].str.slice(start=0, stop=4)\n",
    "  genealogia_abcz = genealogia_abcz.rename(columns={'cod_prod_pai_gen':'cod_prod_mae_gen'})\n",
    "  #criando coluna com os 10 caracteres do nome\n",
    "  genealogia_abcz_mae = genealogia_abcz\n",
    "  genealogia_abcz_mae = genealogia_abcz[genealogia_abcz['sexo']== 'F']\n",
    "  subtabela_mae = pd.merge(subtabela_mae, genealogia_abcz_mae[['RGVACA','nome4caracteres' ,'cod_prod_mae_gen']], left_on=['RGMAE', 'nome4caracteres'], right_on=['RGVACA', 'nome4caracteres'], how='left', indicator=True, suffixes=('', '_drop'))\n",
    "  subtabela_mae = subtabela_mae.drop_duplicates()\n",
    "  subtabela_mae = subtabela_mae.drop(subtabela_mae.filter(regex='_drop$').columns, axis=1)\n",
    "  subtabela_mae = subtabela_mae[subtabela_mae['_merge'] == 'both'].drop(columns='_merge')\n",
    "\n",
    "  #Adicionando coluna de cod_mae_gen no df\n",
    "  df = pd.merge(df, subtabela_mae[['RGMAE', 'cod_prod_mae_gen']], left_on=['RGMAE'], right_on=['RGMAE'], how='left', suffixes=('', '_drop'))\n",
    "  df = df.drop_duplicates()\n",
    "\n",
    "  #Atualizando cod_pai e cod_mae com base nas novas colunas\n",
    "  df['cod_pai'].fillna(df['cod_prod_pai_gen'], inplace=True)\n",
    "  df['cod_mae'].fillna(df['cod_prod_mae_gen'], inplace=True)\n",
    "  #Dando drop nas colunas antigas\n",
    "  df = df.drop(columns='cod_prod_pai_gen')\n",
    "  df = df.drop(columns='cod_prod_mae_gen')\n",
    "  return df"
   ],
   "metadata": {
    "collapsed": false
   }
  },
  {
   "cell_type": "code",
   "execution_count": 10,
   "outputs": [],
   "source": [
    "def adiciona_coluna_reb(df, criadores):\n",
    "  criadores = criadores.rename(columns={'codgiro':'reb_giro'})\n",
    "  df = pd.merge(df, criadores[['reb_giro', 'reb']], on=['reb_giro'], how='left')\n",
    "  df = df.drop_duplicates()\n",
    "  return df"
   ],
   "metadata": {
    "collapsed": false
   }
  },
  {
   "cell_type": "code",
   "execution_count": 11,
   "outputs": [],
   "source": [
    "def calcula_dias_de_diferenca_entre_partos(df, data_2022):\n",
    "  df_diferenca_entre_partos_novos_e_do_banco = pd.merge(df, data_2022, on=['IDANIMAL'], suffixes=('', '_drop'))\n",
    "  df_diferenca_entre_partos_novos_e_do_banco = df_diferenca_entre_partos_novos_e_do_banco.drop_duplicates()\n",
    "  #df_diferenca_entre_partos_novos_e_do_banco = df_diferenca_entre_partos_novos_e_do_banco.drop(df_diferenca_entre_partos_novos_e_do_banco.filter(regex='_drop$').columns, axis=1)\n",
    "  df_diferenca_entre_partos_novos_e_do_banco[['parto', 'parto_drop']] = df_diferenca_entre_partos_novos_e_do_banco[['parto', 'parto_drop']].astype(str)\n",
    "  df_diferenca_entre_partos_novos_e_do_banco[['parto', 'parto_drop']] = df_diferenca_entre_partos_novos_e_do_banco[['parto', 'parto_drop']].apply(pd.to_datetime)\n",
    "  df_diferenca_entre_partos_novos_e_do_banco['diferenca_em_dias'] = (df_diferenca_entre_partos_novos_e_do_banco['parto'] - df_diferenca_entre_partos_novos_e_do_banco['parto_drop']).dt.days\n",
    "  return df_diferenca_entre_partos_novos_e_do_banco\n",
    "  #df_diferenca_entre_partos_novos_e_do_banco[['parto', 'parto_drop', 'diferenca_em_dias']]"
   ],
   "metadata": {
    "collapsed": false
   }
  },
  {
   "cell_type": "code",
   "execution_count": 12,
   "outputs": [],
   "source": [
    "def verifica_se_ha_id_animal_planilha_antiga(df, df_antigo):\n",
    "  df_animais_com_ID = pd.merge(df, df_antigo, on =['IDANIMAL'], suffixes=('', '_drop'))\n",
    "  df_animais_com_ID = df_animais_com_ID.drop(df_animais_com_ID.filter(regex='_drop$').columns, axis=1)\n",
    "  df_animais_com_ID = df_animais_com_ID.drop_duplicates()\n",
    "  return df_animais_com_ID"
   ],
   "metadata": {
    "collapsed": false
   }
  },
  {
   "cell_type": "code",
   "execution_count": 13,
   "outputs": [],
   "source": [
    "def gera_df_animais_sem_id_planilha_antiga(df, planilha_antiga):\n",
    "  df_animais_sem_id = pd.merge(df, planilha_antiga, on='IDANIMAL', how='left', indicator=True, suffixes=('', '_drop'))\n",
    "  df_animais_sem_id = df_animais_sem_id.drop(df_animais_sem_id.filter(regex='_drop$').columns, axis=1)\n",
    "  df_animais_sem_id = df_animais_sem_id[df_animais_sem_id['_merge'] == 'left_only'].drop(columns='_merge')\n",
    "  return df_animais_sem_id"
   ],
   "metadata": {
    "collapsed": false
   }
  },
  {
   "cell_type": "code",
   "execution_count": 14,
   "outputs": [],
   "source": [
    "def adiciona_id_produto_nos_animais_com_id(df, genealogia_embrapa):\n",
    "  df_genealogia_embrapa['IDANIMAL'] = df_genealogia_embrapa['IDANIMAL'].astype('int')\n",
    "  df = pd.merge(df, df_genealogia_embrapa[['IDANIMAL', 'id_produto']], on='IDANIMAL', how='left', indicator=True)\n",
    "  df = df.drop_duplicates()\n",
    "  df = df.drop(columns='_merge')\n",
    "  return df"
   ],
   "metadata": {
    "collapsed": false
   }
  },
  {
   "cell_type": "code",
   "execution_count": 15,
   "outputs": [],
   "source": [
    "def adiciona_animais_sem_id_que_possuem_id_na_gen_embrapa_ao_df_animais_com_id(animais_sem_id, df_animais_id, genealogia_embrapa):\n",
    "  ids_encontrados = pd.merge(animais_sem_id, genealogia_embrapa['IDANIMAL'], left_on=['IDANIMAL'], right_on=['IDANIMAL'], how='left', suffixes=('', '_drop'), indicator=True)\n",
    "  ids_encontrados = ids_encontrados.drop_duplicates()\n",
    "  ids_encontrados = ids_encontrados.drop(ids_encontrados.filter(regex='_drop$').columns.difference(['IDANIMAL_drop']), axis=1)\n",
    "  ids_encontrados = ids_encontrados[ids_encontrados['_merge'] == 'both']\n",
    "\n",
    "  # dropa as colunas que não são necessárias\n",
    "  ids_encontrados = ids_encontrados.drop(columns='_merge')\n",
    "  df_animais_id = pd.concat([df_animais_id, ids_encontrados])\n",
    "  df_animais_id = df_animais_id.drop_duplicates()\n",
    "  return df_animais_id"
   ],
   "metadata": {
    "collapsed": false
   }
  },
  {
   "cell_type": "code",
   "execution_count": 16,
   "outputs": [],
   "source": [
    "def atualiza_animais_sem_id(animais_sem_id, df_animais_id):\n",
    "\n",
    "  #Tirando o sufixo da tabela\n",
    "\n",
    "  animais_sem_id = pd.merge(animais_sem_id, df_animais_id[['IDANIMAL', 'id_produto']], on=['IDANIMAL'], how='left', indicator=True, suffixes=('', '_drop'))\n",
    "  animais_sem_id = animais_sem_id[animais_sem_id['_merge']=='left_only']\n",
    "  #animais_sem_id = animais_sem_id.drop(animais_sem_id.filter(regex='_drop$').columns, axis=1)\n",
    "  # Seleciona apenas as linhas que possuem valores nulos na coluna \"id_produto\"\n",
    "\n",
    "  animais_sem_id = animais_sem_id.drop(columns='_merge')\n",
    "  return animais_sem_id"
   ],
   "metadata": {
    "collapsed": false
   }
  },
  {
   "cell_type": "code",
   "execution_count": 17,
   "outputs": [],
   "source": [
    "def buscar_ids_tabela_producao(sem_id, producao):\n",
    "  producao['parto'] = producao['parto'].astype(str)\n",
    "  producao['AP'] = producao['parto'].str.slice(start=0, stop=4)\n",
    "  producao['MP'] = producao['parto'].str.slice(start=5, stop=7)\n",
    "  #Pegando os 10 primeiros caracteres de nome dos dataframes aniamis sem id e producao\n",
    "  producao['nome10caracteres'] = producao['nome'].str.slice(start=0, stop=11)\n",
    "  sem_id['nome10caracteres'] = sem_id['nomea'].str.slice(start=0, stop=11)\n",
    "  #removendo os espacos em branco das celulas\n",
    "  producao['nome10caracteres'] = producao['nome10caracteres'].str.replace('\\s+', '', regex=True)\n",
    "  sem_id['nome10caracteres'] = sem_id['nome10caracteres'].str.replace('\\s+', '', regex=True)\n",
    "\n",
    "  sem_id = sem_id.drop(sem_id.filter(regex='_drop$').columns, axis=1)\n",
    "  producao = producao.drop(producao.filter(regex='_drop$').columns, axis=1)\n",
    "\n",
    "  producao['AP'] = producao['AP'].astype(int)\n",
    "  producao['MP'] = producao['MP'].astype(int)\n",
    "  sem_id['AP'] = sem_id['AP'].astype(int)\n",
    "  sem_id['MP'] = sem_id['MP'].astype(int)\n",
    "  id_encontrado_na_producao = pd.merge(sem_id, producao[['reb','AP', 'MP', 'nome10caracteres','id_produto']], on=['reb', 'AP', 'MP', 'nome10caracteres'], how='left', indicator=True, suffixes=('', '_drop'))\n",
    "  id_encontrado_na_producao = id_encontrado_na_producao[id_encontrado_na_producao['_merge'] == 'both']\n",
    "  id_encontrado_na_producao = id_encontrado_na_producao.drop(columns={'_merge', 'id_produto'})\n",
    "  id_encontrado_na_producao = id_encontrado_na_producao.rename(columns={'id_produto_drop': 'id_produto'})\n",
    "  return id_encontrado_na_producao"
   ],
   "metadata": {
    "collapsed": false
   }
  },
  {
   "cell_type": "code",
   "execution_count": 18,
   "outputs": [],
   "source": [
    "def adiciona_animais_encontrados_na_producao_aos_animais_com_id(animais_id, animais_encontrados_producao):\n",
    "  animais_id = pd.concat([animais_id, animais_encontrados_producao])\n",
    "  return animais_id"
   ],
   "metadata": {
    "collapsed": false
   }
  },
  {
   "cell_type": "code",
   "execution_count": 19,
   "outputs": [],
   "source": [
    "def procura_animais_comprac11_rg_3_na_genealogia_emb(animais_sem_id, genealogia_embrapa):\n",
    "  subtabela_animais_sem_id = animais_sem_id[animais_sem_id['COMPRAC']==11]\n",
    "  # selecionar apenas as linhas que começam com letras\n",
    "  subtabela_animais_sem_id = subtabela_animais_sem_id[subtabela_animais_sem_id['RGVACA'].apply(lambda x: bool(re.match(r'^[a-zA-Z]{3}', x)))]\n",
    "\n",
    "  #Tirando o sufixo da tabela\n",
    "  df_genealogia_embrapa = genealogia_embrapa.rename(columns=lambda x: x.replace('_dir', '') if '_dir' in x else x)\n",
    "  df_subtabela_genealogia_emb = genealogia_embrapa[genealogia_embrapa['gs']==0]\n",
    "  df_subtabela_genealogia_emb\n",
    "\n",
    "  df_animais_encontrados_subtabela_genealogia = pd.merge(subtabela_animais_sem_id,df_subtabela_genealogia_emb[['id_produto', 'registro']], left_on=['RGVACA'], right_on=['registro'], how='left', indicator=True)\n",
    "  df_animais_encontrados_subtabela_genealogia = df_animais_encontrados_subtabela_genealogia[df_animais_encontrados_subtabela_genealogia['_merge'] == 'both']\n",
    "  df_animais_encontrados_subtabela_genealogia = df_animais_encontrados_subtabela_genealogia.drop(columns='_merge')\n",
    "  df_animais_encontrados_subtabela_genealogia = df_animais_encontrados_subtabela_genealogia.drop(columns='registro')\n",
    "  df_animais_encontrados_subtabela_genealogia = df_animais_encontrados_subtabela_genealogia.drop_duplicates()\n",
    "  return df_animais_encontrados_subtabela_genealogia"
   ],
   "metadata": {
    "collapsed": false
   }
  },
  {
   "cell_type": "code",
   "execution_count": 49,
   "outputs": [],
   "source": [
    "def procura_animais_comprac_dif_11_rg_3_na_genealogia_emb(animais_sem_id, genealogia_embrapa):\n",
    "  subtabela_animais_sem_id = animais_sem_id[animais_sem_id['COMPRAC']!=11]\n",
    "  # selecionar apenas as linhas que começam com letras\n",
    "  subtabela_animais_sem_id = subtabela_animais_sem_id[subtabela_animais_sem_id['RGVACA'].apply(lambda x: bool(re.match(r'^[a-zA-Z]{3}', x)))]\n",
    "\n",
    "  #Tirando o sufixo da tabela\n",
    "  genealogia_embrapa = genealogia_embrapa.rename(columns=lambda x: x.replace('_dir', '') if '_dir' in x else x)\n",
    "  df_subtabela_genealogia_emb = genealogia_embrapa[genealogia_embrapa['gs']!=0]\n",
    "  df_subtabela_genealogia_emb\n",
    "  df_subtabela_genealogia_emb['nome4caracteres'] = df_subtabela_genealogia_emb['nome'].str.slice(start=0, stop=4)\n",
    "  subtabela_animais_sem_id['nome4caracteres'] = subtabela_animais_sem_id['nomea'].str.slice(start=0, stop=4)\n",
    "\n",
    "  df_animais_encontrados_subtabela_genealogia = pd.merge(subtabela_animais_sem_id,df_subtabela_genealogia_emb[['id_produto', 'registro', 'nome4caracteres']], left_on=['RGVACA', 'nome4caracteres'], right_on=['registro', 'nome4caracteres'], how='left', indicator=True)\n",
    "  df_animais_encontrados_subtabela_genealogia = df_animais_encontrados_subtabela_genealogia[df_animais_encontrados_subtabela_genealogia['_merge'] == 'both']\n",
    "  df_animais_encontrados_subtabela_genealogia = df_animais_encontrados_subtabela_genealogia.drop(columns='_merge')\n",
    "  df_animais_encontrados_subtabela_genealogia = df_animais_encontrados_subtabela_genealogia.drop(columns='registro')\n",
    "  df_animais_encontrados_subtabela_genealogia = df_animais_encontrados_subtabela_genealogia.drop_duplicates()\n",
    "  return df_animais_encontrados_subtabela_genealogia"
   ],
   "metadata": {
    "collapsed": false
   }
  },
  {
   "cell_type": "code",
   "execution_count": 21,
   "outputs": [],
   "source": [
    "def adiciona_animais_encontrados_na_genealogia_aos_animais_com_id(animais_id, animais_encontrados_genealogia):\n",
    "  animais_id = pd.concat([animais_id, animais_encontrados_genealogia])\n",
    "\n",
    "  animais_id['id_produto'].fillna(animais_id['id_produto_x'], inplace=True)\n",
    "  animais_id['id_produto'].fillna(animais_id['id_produto_y'], inplace=True)\n",
    "  animais_id = animais_id.drop(columns='id_produto_x')\n",
    "  animais_id = animais_id.drop(columns='id_produto_y')\n",
    "  animais_id = animais_id.drop_duplicates()\n",
    "\n",
    "  return animais_id"
   ],
   "metadata": {
    "collapsed": false
   }
  },
  {
   "cell_type": "code",
   "execution_count": 22,
   "outputs": [],
   "source": [
    "def busca_por_campos_personalizados_genealogia_embrapa(animais_sem_id, genealogia_embrapa):\n",
    "  #Retirando sufixo tabela genealogia\n",
    "  genealogia_embrapa = genealogia_embrapa.rename(columns=lambda x: x.replace('_dir', '') if '_dir' in x else x)\n",
    "  #Pegando ano nascimento nas colunas\n",
    "  genealogia_embrapa['nasc_est'] = genealogia_embrapa['nasc_est'].astype(str)\n",
    "  genealogia_embrapa['AN'] = genealogia_embrapa['nasc_est'].str.slice(start=0, stop=4)\n",
    "  animais_sem_id['nasc'] = animais_sem_id['nasc'].astype(str)\n",
    "  animais_sem_id['AN'] = animais_sem_id['nasc'].str.slice(start=0, stop=4)\n",
    "  #Criando coluna com os 10 caracteres do nome na genealogia_embrapa\n",
    "  genealogia_embrapa['nome10caracteres'] = genealogia_embrapa['nome'].str.slice(start=0, stop=11)\n",
    "  #Convertendo coluna ano e mes para tipo inteiro\n",
    "  #genealogia_embrapa['AN'] = genealogia_embrapa['AN'].astype(int)\n",
    "  #Limpando tabelas\n",
    "  animais_sem_id = animais_sem_id.drop(animais_sem_id.filter(regex='_drop$').columns, axis=1)\n",
    "  genealogia_embrapa = genealogia_embrapa.drop(genealogia_embrapa.filter(regex='_drop$').columns, axis=1)\n",
    "  #criando dataframe com os ids_encontrados\n",
    "  df_animais_com_id_na_genealogia = pd.merge(animais_sem_id, genealogia_embrapa[['nome10caracteres','gs', 'registro_mae', 'registro_pai', 'sexo', 'AN','id_produto']], left_on=['nome10caracteres', 'gs','RGMAE', 'RGPAI', 'sexo', 'AN'], right_on=['nome10caracteres','gs', 'registro_mae', 'registro_pai', 'sexo', 'AN'], how='left', indicator=True, suffixes=('', '_drop'))\n",
    "  df_animais_com_id_na_genealogia = df_animais_com_id_na_genealogia[df_animais_com_id_na_genealogia['_merge'] == 'both']\n",
    "  df_animais_com_id_na_genealogia = df_animais_com_id_na_genealogia.drop(columns={'_merge', 'id_produto', 'registro_mae', 'registro_pai'})\n",
    "  df_animais_com_id_na_genealogia = df_animais_com_id_na_genealogia.rename(columns={'id_produto_drop': 'id_produto'})\n",
    "  df_animais_com_id_na_genealogia = df_animais_com_id_na_genealogia.drop(df_animais_com_id_na_genealogia.filter(regex='_drop$').columns, axis=1)\n",
    "  return df_animais_com_id_na_genealogia"
   ],
   "metadata": {
    "collapsed": false
   }
  },
  {
   "cell_type": "code",
   "execution_count": 23,
   "outputs": [],
   "source": [
    "def busca_ampla_genealogia_embrapa(animais_sem_id, genealogia_embrapa):\n",
    "\n",
    "  genealogia_embrapa['nasc_est'] = genealogia_embrapa['nasc_est'].astype(str)\n",
    "  genealogia_embrapa['AN'] = genealogia_embrapa['nasc_est'].str.slice(start=0, stop=4)\n",
    "  animais_sem_id['nasc'] = animais_sem_id['nasc'].astype(str)\n",
    "  animais_sem_id['AN'] = animais_sem_id['nasc'].str.slice(start=0, stop=4)\n",
    "  #Criando coluna com os 10 caracteres do nome na genealogia_embrapa\n",
    "  genealogia_embrapa['nome10caracteres'] = genealogia_embrapa['nome'].str.slice(start=0, stop=11)\n",
    "  df_animais_com_id_na_genealogia = pd.merge(animais_sem_id, genealogia_embrapa[['nome10caracteres','gs', 'sexo', 'AN','id_produto']], left_on=['nome10caracteres', 'gs', 'sexo', 'AN'], right_on=['nome10caracteres','gs', 'sexo', 'AN'], how='left', indicator=True, suffixes=('', '_drop'))\n",
    "  df_animais_com_id_na_genealogia = df_animais_com_id_na_genealogia[df_animais_com_id_na_genealogia['_merge'] == 'both']\n",
    "  return df_animais_com_id_na_genealogia"
   ],
   "metadata": {
    "collapsed": false
   }
  },
  {
   "cell_type": "code",
   "execution_count": 24,
   "outputs": [],
   "source": [
    "def salvar_arquivos():\n",
    "  df_fazendas.to_hdf('df_fazendas.h5', key='df', mode='w')\n",
    "  df_criadores.to_hdf('df_criadores.h5', key='df', mode='w')\n",
    "  df_genealogia_abcz.to_hdf('df_genealogia_abcz.h5', key='df', mode='w')\n",
    "  df_animais_sem_id.to_hdf('df_animais_sem_id.h5', key='df', mode='w')\n",
    "  df_animais_com_id.to_hdf('df_animais_com_id.h5', key='df', mode='w')\n",
    "  df_genealogia_embrapa.to_hdf('df_genealogia_embrapa.h5', key='df', mode='w')"
   ],
   "metadata": {
    "collapsed": false
   }
  },
  {
   "cell_type": "code",
   "execution_count": 25,
   "outputs": [],
   "source": [
    "abre_conexao_banco_de_dados()\n",
    "df_genealogia_embrapa = retorna_tabelas_banco_de_dados('genealogia_embrapa')\n",
    "df_genealogia_embrapa =df_genealogia_embrapa.rename(columns={'idanimal': 'IDANIMAL'})\n",
    "df_genealogia_abcz = retorna_tabelas_banco_de_dados('genealogia_abcz')\n",
    "df_criadores = retorna_tabelas_banco_de_dados('criadores')\n",
    "df_producao = retorna_tabelas_banco_de_dados('producao_embrapa')\n",
    "df_fazendas = retorna_tabelas_banco_de_dados('fazendas')\n",
    "pedigree = pd.read_csv(\"pedrigree - Girolando - 17-02-2023.txt\", encoding='ISO-8859-1')\n",
    "dados_2023 = pd.read_csv(\"PNMGL - Dados girolando - 17-02-23.txt\", encoding='ISO-8859-1')\n",
    "dados_2022 = pd.read_csv(\"PNMGL - Dados_old - 17-02-2023.txt\", encoding='ISO-8859-1')"
   ],
   "metadata": {
    "collapsed": false
   }
  },
  {
   "cell_type": "code",
   "execution_count": 26,
   "outputs": [],
   "source": [
    "df_dados_novos = cria_df_com_somente_os_dados_novos(dados_2022, dados_2023)"
   ],
   "metadata": {
    "collapsed": false
   }
  },
  {
   "cell_type": "code",
   "execution_count": 27,
   "outputs": [],
   "source": [
    "df_dados_novos = adiciona_coluna_gs_aos_dados_novos(df_dados_novos, pedigree)"
   ],
   "metadata": {
    "collapsed": false
   }
  },
  {
   "cell_type": "code",
   "execution_count": 28,
   "outputs": [],
   "source": [
    "df_dados_novos = retira_acentos_espacos(df_dados_novos)"
   ],
   "metadata": {
    "collapsed": false
   }
  },
  {
   "cell_type": "code",
   "execution_count": 29,
   "outputs": [],
   "source": [
    "df_dados_novos =adiciona_colunas_codprod_codpai_cod_mae(df_dados_novos, df_genealogia_abcz)"
   ],
   "metadata": {
    "collapsed": false
   }
  },
  {
   "cell_type": "code",
   "execution_count": 30,
   "outputs": [],
   "source": [
    "df_dados_novos = pegar_codpai_codmae_abcz_rg_3_letras(df_dados_novos, df_genealogia_abcz)"
   ],
   "metadata": {
    "collapsed": false
   }
  },
  {
   "cell_type": "code",
   "execution_count": 31,
   "outputs": [],
   "source": [
    "df_dados_novos = pegar_codpai_codmae_abcz_rg_diferente_3_letras(df_dados_novos, df_genealogia_abcz)"
   ],
   "metadata": {
    "collapsed": false
   }
  },
  {
   "cell_type": "code",
   "execution_count": 32,
   "outputs": [],
   "source": [
    "df_dados_novos = adiciona_coluna_reb(df_dados_novos, df_criadores)"
   ],
   "metadata": {
    "collapsed": false
   }
  },
  {
   "cell_type": "code",
   "execution_count": 33,
   "outputs": [],
   "source": [
    "dif_partos = calcula_dias_de_diferenca_entre_partos(df_dados_novos, dados_2022)"
   ],
   "metadata": {
    "collapsed": false
   }
  },
  {
   "cell_type": "code",
   "execution_count": 34,
   "outputs": [],
   "source": [
    "df_animais_com_id = verifica_se_ha_id_animal_planilha_antiga(df_dados_novos, dados_2022)"
   ],
   "metadata": {
    "collapsed": false
   }
  },
  {
   "cell_type": "code",
   "execution_count": 35,
   "outputs": [],
   "source": [
    "df_animais_sem_id = gera_df_animais_sem_id_planilha_antiga(df_dados_novos, dados_2022)"
   ],
   "metadata": {
    "collapsed": false
   }
  },
  {
   "cell_type": "code",
   "execution_count": 36,
   "outputs": [],
   "source": [
    "df_animais_com_id = adiciona_id_produto_nos_animais_com_id(df_animais_com_id, df_genealogia_embrapa)"
   ],
   "metadata": {
    "collapsed": false
   }
  },
  {
   "cell_type": "code",
   "execution_count": 37,
   "outputs": [],
   "source": [
    "df_animais_com_id = adiciona_animais_sem_id_que_possuem_id_na_gen_embrapa_ao_df_animais_com_id(df_animais_sem_id, df_animais_com_id, df_genealogia_embrapa)"
   ],
   "metadata": {
    "collapsed": false
   }
  },
  {
   "cell_type": "code",
   "execution_count": 38,
   "outputs": [],
   "source": [
    "df_animais_sem_id = atualiza_animais_sem_id(df_animais_sem_id, df_animais_com_id)"
   ],
   "metadata": {
    "collapsed": false
   }
  },
  {
   "cell_type": "code",
   "execution_count": 39,
   "outputs": [],
   "source": [
    "lista_animais_encontrados_producao = buscar_ids_tabela_producao(df_animais_sem_id, df_producao)"
   ],
   "metadata": {
    "collapsed": false
   }
  },
  {
   "cell_type": "code",
   "execution_count": 40,
   "outputs": [],
   "source": [
    "df_animais_com_id = adiciona_animais_encontrados_na_producao_aos_animais_com_id(df_animais_com_id, lista_animais_encontrados_producao)"
   ],
   "metadata": {
    "collapsed": false
   }
  },
  {
   "cell_type": "code",
   "execution_count": 41,
   "outputs": [],
   "source": [
    "df_animais_sem_id = atualiza_animais_sem_id(df_animais_sem_id, df_animais_com_id)"
   ],
   "metadata": {
    "collapsed": false
   }
  },
  {
   "cell_type": "code",
   "execution_count": 42,
   "outputs": [
    {
     "data": {
      "text/plain": "    reb_giro                   nomea  COMPRAC    RGVACA  \\\n2       5192  URUPIANGA FIV DE BRAS.       11   RRP8772   \n3       5192     PRENDA FIV DE BRAS.       11   RRP8191   \n5      22541   FELICE FIV CABO VERDE       11  JCVL3334   \n7      42583         BARILOCHE KENYO       11    KOK844   \n9       5192      RAGIN FIV DE BRAS.       11   RRP8395   \n10      5192          RUANA DE BRAS.       11   RRP8430   \n11      5192              LIZ TEATRO       11    RARS10   \n12     42583            MILENA KENYO       11    KOK846   \n17      5192       REDE FIV DE BRAS.       11   RRP8488   \n18      5192   RENUNCIA FIV DE BRAS.       11   RRP8249   \n19      5192     ROTINA FIV DE BRAS.       11   RRP8273   \n24      5192     PILLAR FIV DE BRAS.       11   RRP8130   \n25      2389   RELIQUIA FIV DE BRAS.       11   RRP8261   \n\n                      nomep  GSPAI    RGPAI                           nomem  \\\n2      JAGUAR TE DO GAVIAO     11   GAV291              HONDA FIV DE BRAS.   \n3   GENGIS KHAN DE BRASILIA     11  RRP6097         FERVURA FIV DE BRASILIA   \n5      JAGUAR TE DO GAVIAO     11   GAV291            ZILAH FIV CABO VERDE   \n7        ELDORADO FIV KENYO     11    KOK96              IZABELLE FIV KENYO   \n9      JAGUAR TE DO GAVIAO     11   GAV291                ISCA DE BRASILIA   \n10             BACO DA RTPA     11   NLT130                   LALA DE BRAS.   \n11       TEATRO DA SILVANIA     11   EFC383           RENUNCIA FIV DE BRAS.   \n12            NOBRE TE CAL      11  CAL4397                JARANA FIV KENYO   \n17  GENGIS KHAN DE BRASILIA     11  RRP6097                   DELI DE BRAS.   \n18        FARDO FIV F.MUTUM     11   MUT697  ESFERA DE BRASILIA TN2 DE BRAS   \n19        FARDO FIV F.MUTUM     11   MUT697               ILDA FIV DE BRAS.   \n24  DIAMANTE TE DE BRASILIA     11  RRP5640         JAMARIA FIV DE BRASILIA   \n25        FARDO FIV F.MUTUM     11   MUT697         JAMARIA FIV DE BRASILIA   \n\n    GSMAE     RGMAE  ...  gs  sexo    cod_prod     cod_pai     cod_mae  \\\n2      11   RRP6268  ...   0     F  17054525.0   4176523.0  13961623.0   \n3      11   RRP5998  ...   0     F  14926361.0   9265878.0   8720772.0   \n5      11  JCVL1624  ...   0     F  17198554.0   4176523.0  13865301.0   \n7      11    KOK526  ...   0     F  14672175.0   9451056.0  12324993.0   \n9      11   RRP6699  ...   0     F  15421321.0   4176523.0  11066847.0   \n10     11   RRP7119  ...   0     F  15438291.0  12480405.0  12161575.0   \n11     11   RRP8249  ...   0     F  17112475.0   3540404.0  15128061.0   \n12     11    KOK625  ...   0     F  14673091.0   2989503.0  12894710.0   \n17     11   RRP5562  ...   0     F  15617034.0   9265878.0   6293655.0   \n18     11   RRP7530  ...   0     F  15128061.0   8530023.0  13305655.0   \n19     11   RRP6695  ...   0     F  15163671.0   8530023.0  11066844.0   \n24     11   RRP6958  ...   0     F  14820082.0   6716196.0  11600828.0   \n25     11   RRP6958  ...   0     F  15128073.0   8530023.0  11600828.0   \n\n          reb  id_produto_x  nome10caracteres  id_produto_drop  id_produto_y  \n2   5192-GIRO           NaN        URUPIANGAF              NaN       RRP8772  \n3   5192-GIRO           NaN         PRENDAFIV              NaN       RRP8191  \n5         NaN           NaN         FELICEFIV              NaN      JCVL3334  \n7         NaN           NaN        BARILOCHEK              NaN        KOK844  \n9   5192-GIRO           NaN         RAGINFIVD              NaN       RRP8395  \n10  5192-GIRO           NaN         RUANADEBR              NaN       RRP8430  \n11  5192-GIRO           NaN         LIZTEATRO              NaN        RARS10  \n12        NaN           NaN        MILENAKENY              NaN        KOK846  \n17  5192-GIRO           NaN         REDEFIVDE              NaN       RRP8488  \n18  5192-GIRO           NaN        RENUNCIAFI              NaN       RRP8249  \n19  5192-GIRO           NaN         ROTINAFIV              NaN       RRP8273  \n24  5192-GIRO           NaN         PILLARFIV              NaN       RRP8130  \n25  2389-GIRO           NaN        RELIQUIAFI              NaN       RRP8261  \n\n[13 rows x 54 columns]",
      "text/html": "<div>\n<style scoped>\n    .dataframe tbody tr th:only-of-type {\n        vertical-align: middle;\n    }\n\n    .dataframe tbody tr th {\n        vertical-align: top;\n    }\n\n    .dataframe thead th {\n        text-align: right;\n    }\n</style>\n<table border=\"1\" class=\"dataframe\">\n  <thead>\n    <tr style=\"text-align: right;\">\n      <th></th>\n      <th>reb_giro</th>\n      <th>nomea</th>\n      <th>COMPRAC</th>\n      <th>RGVACA</th>\n      <th>nomep</th>\n      <th>GSPAI</th>\n      <th>RGPAI</th>\n      <th>nomem</th>\n      <th>GSMAE</th>\n      <th>RGMAE</th>\n      <th>...</th>\n      <th>gs</th>\n      <th>sexo</th>\n      <th>cod_prod</th>\n      <th>cod_pai</th>\n      <th>cod_mae</th>\n      <th>reb</th>\n      <th>id_produto_x</th>\n      <th>nome10caracteres</th>\n      <th>id_produto_drop</th>\n      <th>id_produto_y</th>\n    </tr>\n  </thead>\n  <tbody>\n    <tr>\n      <th>2</th>\n      <td>5192</td>\n      <td>URUPIANGA FIV DE BRAS.</td>\n      <td>11</td>\n      <td>RRP8772</td>\n      <td>JAGUAR TE DO GAVIAO</td>\n      <td>11</td>\n      <td>GAV291</td>\n      <td>HONDA FIV DE BRAS.</td>\n      <td>11</td>\n      <td>RRP6268</td>\n      <td>...</td>\n      <td>0</td>\n      <td>F</td>\n      <td>17054525.0</td>\n      <td>4176523.0</td>\n      <td>13961623.0</td>\n      <td>5192-GIRO</td>\n      <td>NaN</td>\n      <td>URUPIANGAF</td>\n      <td>NaN</td>\n      <td>RRP8772</td>\n    </tr>\n    <tr>\n      <th>3</th>\n      <td>5192</td>\n      <td>PRENDA FIV DE BRAS.</td>\n      <td>11</td>\n      <td>RRP8191</td>\n      <td>GENGIS KHAN DE BRASILIA</td>\n      <td>11</td>\n      <td>RRP6097</td>\n      <td>FERVURA FIV DE BRASILIA</td>\n      <td>11</td>\n      <td>RRP5998</td>\n      <td>...</td>\n      <td>0</td>\n      <td>F</td>\n      <td>14926361.0</td>\n      <td>9265878.0</td>\n      <td>8720772.0</td>\n      <td>5192-GIRO</td>\n      <td>NaN</td>\n      <td>PRENDAFIV</td>\n      <td>NaN</td>\n      <td>RRP8191</td>\n    </tr>\n    <tr>\n      <th>5</th>\n      <td>22541</td>\n      <td>FELICE FIV CABO VERDE</td>\n      <td>11</td>\n      <td>JCVL3334</td>\n      <td>JAGUAR TE DO GAVIAO</td>\n      <td>11</td>\n      <td>GAV291</td>\n      <td>ZILAH FIV CABO VERDE</td>\n      <td>11</td>\n      <td>JCVL1624</td>\n      <td>...</td>\n      <td>0</td>\n      <td>F</td>\n      <td>17198554.0</td>\n      <td>4176523.0</td>\n      <td>13865301.0</td>\n      <td>NaN</td>\n      <td>NaN</td>\n      <td>FELICEFIV</td>\n      <td>NaN</td>\n      <td>JCVL3334</td>\n    </tr>\n    <tr>\n      <th>7</th>\n      <td>42583</td>\n      <td>BARILOCHE KENYO</td>\n      <td>11</td>\n      <td>KOK844</td>\n      <td>ELDORADO FIV KENYO</td>\n      <td>11</td>\n      <td>KOK96</td>\n      <td>IZABELLE FIV KENYO</td>\n      <td>11</td>\n      <td>KOK526</td>\n      <td>...</td>\n      <td>0</td>\n      <td>F</td>\n      <td>14672175.0</td>\n      <td>9451056.0</td>\n      <td>12324993.0</td>\n      <td>NaN</td>\n      <td>NaN</td>\n      <td>BARILOCHEK</td>\n      <td>NaN</td>\n      <td>KOK844</td>\n    </tr>\n    <tr>\n      <th>9</th>\n      <td>5192</td>\n      <td>RAGIN FIV DE BRAS.</td>\n      <td>11</td>\n      <td>RRP8395</td>\n      <td>JAGUAR TE DO GAVIAO</td>\n      <td>11</td>\n      <td>GAV291</td>\n      <td>ISCA DE BRASILIA</td>\n      <td>11</td>\n      <td>RRP6699</td>\n      <td>...</td>\n      <td>0</td>\n      <td>F</td>\n      <td>15421321.0</td>\n      <td>4176523.0</td>\n      <td>11066847.0</td>\n      <td>5192-GIRO</td>\n      <td>NaN</td>\n      <td>RAGINFIVD</td>\n      <td>NaN</td>\n      <td>RRP8395</td>\n    </tr>\n    <tr>\n      <th>10</th>\n      <td>5192</td>\n      <td>RUANA DE BRAS.</td>\n      <td>11</td>\n      <td>RRP8430</td>\n      <td>BACO DA RTPA</td>\n      <td>11</td>\n      <td>NLT130</td>\n      <td>LALA DE BRAS.</td>\n      <td>11</td>\n      <td>RRP7119</td>\n      <td>...</td>\n      <td>0</td>\n      <td>F</td>\n      <td>15438291.0</td>\n      <td>12480405.0</td>\n      <td>12161575.0</td>\n      <td>5192-GIRO</td>\n      <td>NaN</td>\n      <td>RUANADEBR</td>\n      <td>NaN</td>\n      <td>RRP8430</td>\n    </tr>\n    <tr>\n      <th>11</th>\n      <td>5192</td>\n      <td>LIZ TEATRO</td>\n      <td>11</td>\n      <td>RARS10</td>\n      <td>TEATRO DA SILVANIA</td>\n      <td>11</td>\n      <td>EFC383</td>\n      <td>RENUNCIA FIV DE BRAS.</td>\n      <td>11</td>\n      <td>RRP8249</td>\n      <td>...</td>\n      <td>0</td>\n      <td>F</td>\n      <td>17112475.0</td>\n      <td>3540404.0</td>\n      <td>15128061.0</td>\n      <td>5192-GIRO</td>\n      <td>NaN</td>\n      <td>LIZTEATRO</td>\n      <td>NaN</td>\n      <td>RARS10</td>\n    </tr>\n    <tr>\n      <th>12</th>\n      <td>42583</td>\n      <td>MILENA KENYO</td>\n      <td>11</td>\n      <td>KOK846</td>\n      <td>NOBRE TE CAL</td>\n      <td>11</td>\n      <td>CAL4397</td>\n      <td>JARANA FIV KENYO</td>\n      <td>11</td>\n      <td>KOK625</td>\n      <td>...</td>\n      <td>0</td>\n      <td>F</td>\n      <td>14673091.0</td>\n      <td>2989503.0</td>\n      <td>12894710.0</td>\n      <td>NaN</td>\n      <td>NaN</td>\n      <td>MILENAKENY</td>\n      <td>NaN</td>\n      <td>KOK846</td>\n    </tr>\n    <tr>\n      <th>17</th>\n      <td>5192</td>\n      <td>REDE FIV DE BRAS.</td>\n      <td>11</td>\n      <td>RRP8488</td>\n      <td>GENGIS KHAN DE BRASILIA</td>\n      <td>11</td>\n      <td>RRP6097</td>\n      <td>DELI DE BRAS.</td>\n      <td>11</td>\n      <td>RRP5562</td>\n      <td>...</td>\n      <td>0</td>\n      <td>F</td>\n      <td>15617034.0</td>\n      <td>9265878.0</td>\n      <td>6293655.0</td>\n      <td>5192-GIRO</td>\n      <td>NaN</td>\n      <td>REDEFIVDE</td>\n      <td>NaN</td>\n      <td>RRP8488</td>\n    </tr>\n    <tr>\n      <th>18</th>\n      <td>5192</td>\n      <td>RENUNCIA FIV DE BRAS.</td>\n      <td>11</td>\n      <td>RRP8249</td>\n      <td>FARDO FIV F.MUTUM</td>\n      <td>11</td>\n      <td>MUT697</td>\n      <td>ESFERA DE BRASILIA TN2 DE BRAS</td>\n      <td>11</td>\n      <td>RRP7530</td>\n      <td>...</td>\n      <td>0</td>\n      <td>F</td>\n      <td>15128061.0</td>\n      <td>8530023.0</td>\n      <td>13305655.0</td>\n      <td>5192-GIRO</td>\n      <td>NaN</td>\n      <td>RENUNCIAFI</td>\n      <td>NaN</td>\n      <td>RRP8249</td>\n    </tr>\n    <tr>\n      <th>19</th>\n      <td>5192</td>\n      <td>ROTINA FIV DE BRAS.</td>\n      <td>11</td>\n      <td>RRP8273</td>\n      <td>FARDO FIV F.MUTUM</td>\n      <td>11</td>\n      <td>MUT697</td>\n      <td>ILDA FIV DE BRAS.</td>\n      <td>11</td>\n      <td>RRP6695</td>\n      <td>...</td>\n      <td>0</td>\n      <td>F</td>\n      <td>15163671.0</td>\n      <td>8530023.0</td>\n      <td>11066844.0</td>\n      <td>5192-GIRO</td>\n      <td>NaN</td>\n      <td>ROTINAFIV</td>\n      <td>NaN</td>\n      <td>RRP8273</td>\n    </tr>\n    <tr>\n      <th>24</th>\n      <td>5192</td>\n      <td>PILLAR FIV DE BRAS.</td>\n      <td>11</td>\n      <td>RRP8130</td>\n      <td>DIAMANTE TE DE BRASILIA</td>\n      <td>11</td>\n      <td>RRP5640</td>\n      <td>JAMARIA FIV DE BRASILIA</td>\n      <td>11</td>\n      <td>RRP6958</td>\n      <td>...</td>\n      <td>0</td>\n      <td>F</td>\n      <td>14820082.0</td>\n      <td>6716196.0</td>\n      <td>11600828.0</td>\n      <td>5192-GIRO</td>\n      <td>NaN</td>\n      <td>PILLARFIV</td>\n      <td>NaN</td>\n      <td>RRP8130</td>\n    </tr>\n    <tr>\n      <th>25</th>\n      <td>2389</td>\n      <td>RELIQUIA FIV DE BRAS.</td>\n      <td>11</td>\n      <td>RRP8261</td>\n      <td>FARDO FIV F.MUTUM</td>\n      <td>11</td>\n      <td>MUT697</td>\n      <td>JAMARIA FIV DE BRASILIA</td>\n      <td>11</td>\n      <td>RRP6958</td>\n      <td>...</td>\n      <td>0</td>\n      <td>F</td>\n      <td>15128073.0</td>\n      <td>8530023.0</td>\n      <td>11600828.0</td>\n      <td>2389-GIRO</td>\n      <td>NaN</td>\n      <td>RELIQUIAFI</td>\n      <td>NaN</td>\n      <td>RRP8261</td>\n    </tr>\n  </tbody>\n</table>\n<p>13 rows × 54 columns</p>\n</div>"
     },
     "execution_count": 42,
     "metadata": {},
     "output_type": "execute_result"
    }
   ],
   "source": [
    "lista_animais_encontrados_genealogia = procura_animais_comprac11_rg_3_na_genealogia_emb(df_animais_sem_id, df_genealogia_embrapa)\n",
    "lista_animais_encontrados_genealogia"
   ],
   "metadata": {
    "collapsed": false
   }
  },
  {
   "cell_type": "code",
   "execution_count": 43,
   "outputs": [],
   "source": [
    "df_animais_com_id = adiciona_animais_encontrados_na_genealogia_aos_animais_com_id(df_animais_com_id, lista_animais_encontrados_genealogia)"
   ],
   "metadata": {
    "collapsed": false
   }
  },
  {
   "cell_type": "code",
   "execution_count": 44,
   "outputs": [],
   "source": [
    "df_animais_sem_id = atualiza_animais_sem_id(df_animais_sem_id, df_animais_com_id)"
   ],
   "metadata": {
    "collapsed": false
   }
  },
  {
   "cell_type": "code",
   "execution_count": 51,
   "outputs": [
    {
     "data": {
      "text/plain": "    reb_giro                           nomea  COMPRAC   RGVACA  \\\n59      2381  FERTILIDADE ALTACEO JM NOVO HO       58  4899-AZ   \n\n                  nomep  GSPAI     RGPAI                          nomem  \\\n59  RICKLAND ALTACEO-ET     10  AX138598  BALELA YANK JM NOVO HORIZONTE   \n\n    GSMAE   RGMAE  ...  gs  sexo  cod_prod cod_pai  cod_mae         reb  \\\n59     38  3619-U  ...   5     F       NaN     NaN      NaN  31300-ABCZ   \n\n    id_produto  nome10caracteres  id_produto_drop  id_produto_drop  \n59         NaN       FERTILIDADE              NaN              NaN  \n\n[1 rows x 54 columns]",
      "text/html": "<div>\n<style scoped>\n    .dataframe tbody tr th:only-of-type {\n        vertical-align: middle;\n    }\n\n    .dataframe tbody tr th {\n        vertical-align: top;\n    }\n\n    .dataframe thead th {\n        text-align: right;\n    }\n</style>\n<table border=\"1\" class=\"dataframe\">\n  <thead>\n    <tr style=\"text-align: right;\">\n      <th></th>\n      <th>reb_giro</th>\n      <th>nomea</th>\n      <th>COMPRAC</th>\n      <th>RGVACA</th>\n      <th>nomep</th>\n      <th>GSPAI</th>\n      <th>RGPAI</th>\n      <th>nomem</th>\n      <th>GSMAE</th>\n      <th>RGMAE</th>\n      <th>...</th>\n      <th>gs</th>\n      <th>sexo</th>\n      <th>cod_prod</th>\n      <th>cod_pai</th>\n      <th>cod_mae</th>\n      <th>reb</th>\n      <th>id_produto</th>\n      <th>nome10caracteres</th>\n      <th>id_produto_drop</th>\n      <th>id_produto_drop</th>\n    </tr>\n  </thead>\n  <tbody>\n    <tr>\n      <th>59</th>\n      <td>2381</td>\n      <td>FERTILIDADE ALTACEO JM NOVO HO</td>\n      <td>58</td>\n      <td>4899-AZ</td>\n      <td>RICKLAND ALTACEO-ET</td>\n      <td>10</td>\n      <td>AX138598</td>\n      <td>BALELA YANK JM NOVO HORIZONTE</td>\n      <td>38</td>\n      <td>3619-U</td>\n      <td>...</td>\n      <td>5</td>\n      <td>F</td>\n      <td>NaN</td>\n      <td>NaN</td>\n      <td>NaN</td>\n      <td>31300-ABCZ</td>\n      <td>NaN</td>\n      <td>FERTILIDADE</td>\n      <td>NaN</td>\n      <td>NaN</td>\n    </tr>\n  </tbody>\n</table>\n<p>1 rows × 54 columns</p>\n</div>"
     },
     "execution_count": 51,
     "metadata": {},
     "output_type": "execute_result"
    }
   ],
   "source": [
    "df_animais_sem_id\n",
    "df_animais_sem_id.loc[df_animais_sem_id['IDANIMAL'] == 2038826]"
   ],
   "metadata": {
    "collapsed": false
   }
  },
  {
   "cell_type": "code",
   "execution_count": 54,
   "outputs": [
    {
     "data": {
      "text/plain": "       id_produto         id  abcz registro      nome sexo paternidade  \\\n0            0001       0001  None     None       nan    M        None   \n1            0003       0003  None     None       nan    M        None   \n2            0006       0006  None     None       nan    M        None   \n3       02418-249  02418-249  None     2418       nan    F        None   \n4              03         03  None     None       nan    M        None   \n...           ...        ...   ...      ...       ...  ...         ...   \n463543       ZZZ7       ZZZ7     S     ZZZ7   AMBICAO    F        None   \n463544       ZZZ8       ZZZ8     S     ZZZ8  AGASALHO    M        None   \n463545       ZZZ9       ZZZ9     S     ZZZ9   BACABAL    M        None   \n463546      ZZZA1      ZZZA1     S    ZZZA1     ANITA    F        None   \n463547      ZZZA2      ZZZA2     S    ZZZA2    ANDREA    F        None   \n\n       ck_sire id_touro  id_vaca  ... gr_tp     rebc2_cri      rebc2_pr   cat  \\\n0         None     None     None  ...     0         99999         99999  None   \n1         None     None     None  ...     0         99999         99999  None   \n2         None     None     None  ...     0         99999         99999  None   \n3         None   108115   108615  ...     0         99999         99999  None   \n4         None     None     None  ...     0         99999         99999  None   \n...        ...      ...      ...  ...   ...           ...           ...   ...   \n463543    None   KCA472   135177  ...     0   7145-ABCZ 1  11958-ABCZ 1    PO   \n463544    None   121118   131985  ...     0   7145-ABCZ 1   7145-ABCZ 1    PO   \n463545    None   133175   178922  ...     0   7145-ABCZ 1   7145-ABCZ 1    PO   \n463546    None   EFC383  JDRB874  ...     0   7145-ABCZ 1   7145-ABCZ 1    PO   \n463547    None  RRP5224   177993  ...     0   7145-ABCZ 1   7145-ABCZ 1    PO   \n\n        ficha_a  cod_prod  IDANIMAL  origem  registro_pai registro_mae  \n0             0         0         0  OUTRAS          None         None  \n1             0         0         0  OUTRAS          None         None  \n2             0         0         0  OUTRAS          None         None  \n3             0         0         0  OUTRAS         A1343        18935  \n4             0         0         0  OUTRAS          None         None  \n...         ...       ...       ...     ...           ...          ...  \n463543  1351780   3158020         0  ABCGIL        KCA472        KB429  \n463544        0   3247323         0    ABCZ          K830       KA7368  \n463545        0   3247322         0    ABCZ          K974       KA9422  \n463546        0   9499094         0    ABCZ        EFC383      JDRB874  \n463547        0   9499095         0    ABCZ       RRP5224       AB7320  \n\n[463548 rows x 28 columns]",
      "text/html": "<div>\n<style scoped>\n    .dataframe tbody tr th:only-of-type {\n        vertical-align: middle;\n    }\n\n    .dataframe tbody tr th {\n        vertical-align: top;\n    }\n\n    .dataframe thead th {\n        text-align: right;\n    }\n</style>\n<table border=\"1\" class=\"dataframe\">\n  <thead>\n    <tr style=\"text-align: right;\">\n      <th></th>\n      <th>id_produto</th>\n      <th>id</th>\n      <th>abcz</th>\n      <th>registro</th>\n      <th>nome</th>\n      <th>sexo</th>\n      <th>paternidade</th>\n      <th>ck_sire</th>\n      <th>id_touro</th>\n      <th>id_vaca</th>\n      <th>...</th>\n      <th>gr_tp</th>\n      <th>rebc2_cri</th>\n      <th>rebc2_pr</th>\n      <th>cat</th>\n      <th>ficha_a</th>\n      <th>cod_prod</th>\n      <th>IDANIMAL</th>\n      <th>origem</th>\n      <th>registro_pai</th>\n      <th>registro_mae</th>\n    </tr>\n  </thead>\n  <tbody>\n    <tr>\n      <th>0</th>\n      <td>0001</td>\n      <td>0001</td>\n      <td>None</td>\n      <td>None</td>\n      <td>nan</td>\n      <td>M</td>\n      <td>None</td>\n      <td>None</td>\n      <td>None</td>\n      <td>None</td>\n      <td>...</td>\n      <td>0</td>\n      <td>99999</td>\n      <td>99999</td>\n      <td>None</td>\n      <td>0</td>\n      <td>0</td>\n      <td>0</td>\n      <td>OUTRAS</td>\n      <td>None</td>\n      <td>None</td>\n    </tr>\n    <tr>\n      <th>1</th>\n      <td>0003</td>\n      <td>0003</td>\n      <td>None</td>\n      <td>None</td>\n      <td>nan</td>\n      <td>M</td>\n      <td>None</td>\n      <td>None</td>\n      <td>None</td>\n      <td>None</td>\n      <td>...</td>\n      <td>0</td>\n      <td>99999</td>\n      <td>99999</td>\n      <td>None</td>\n      <td>0</td>\n      <td>0</td>\n      <td>0</td>\n      <td>OUTRAS</td>\n      <td>None</td>\n      <td>None</td>\n    </tr>\n    <tr>\n      <th>2</th>\n      <td>0006</td>\n      <td>0006</td>\n      <td>None</td>\n      <td>None</td>\n      <td>nan</td>\n      <td>M</td>\n      <td>None</td>\n      <td>None</td>\n      <td>None</td>\n      <td>None</td>\n      <td>...</td>\n      <td>0</td>\n      <td>99999</td>\n      <td>99999</td>\n      <td>None</td>\n      <td>0</td>\n      <td>0</td>\n      <td>0</td>\n      <td>OUTRAS</td>\n      <td>None</td>\n      <td>None</td>\n    </tr>\n    <tr>\n      <th>3</th>\n      <td>02418-249</td>\n      <td>02418-249</td>\n      <td>None</td>\n      <td>2418</td>\n      <td>nan</td>\n      <td>F</td>\n      <td>None</td>\n      <td>None</td>\n      <td>108115</td>\n      <td>108615</td>\n      <td>...</td>\n      <td>0</td>\n      <td>99999</td>\n      <td>99999</td>\n      <td>None</td>\n      <td>0</td>\n      <td>0</td>\n      <td>0</td>\n      <td>OUTRAS</td>\n      <td>A1343</td>\n      <td>18935</td>\n    </tr>\n    <tr>\n      <th>4</th>\n      <td>03</td>\n      <td>03</td>\n      <td>None</td>\n      <td>None</td>\n      <td>nan</td>\n      <td>M</td>\n      <td>None</td>\n      <td>None</td>\n      <td>None</td>\n      <td>None</td>\n      <td>...</td>\n      <td>0</td>\n      <td>99999</td>\n      <td>99999</td>\n      <td>None</td>\n      <td>0</td>\n      <td>0</td>\n      <td>0</td>\n      <td>OUTRAS</td>\n      <td>None</td>\n      <td>None</td>\n    </tr>\n    <tr>\n      <th>...</th>\n      <td>...</td>\n      <td>...</td>\n      <td>...</td>\n      <td>...</td>\n      <td>...</td>\n      <td>...</td>\n      <td>...</td>\n      <td>...</td>\n      <td>...</td>\n      <td>...</td>\n      <td>...</td>\n      <td>...</td>\n      <td>...</td>\n      <td>...</td>\n      <td>...</td>\n      <td>...</td>\n      <td>...</td>\n      <td>...</td>\n      <td>...</td>\n      <td>...</td>\n      <td>...</td>\n    </tr>\n    <tr>\n      <th>463543</th>\n      <td>ZZZ7</td>\n      <td>ZZZ7</td>\n      <td>S</td>\n      <td>ZZZ7</td>\n      <td>AMBICAO</td>\n      <td>F</td>\n      <td>None</td>\n      <td>None</td>\n      <td>KCA472</td>\n      <td>135177</td>\n      <td>...</td>\n      <td>0</td>\n      <td>7145-ABCZ 1</td>\n      <td>11958-ABCZ 1</td>\n      <td>PO</td>\n      <td>1351780</td>\n      <td>3158020</td>\n      <td>0</td>\n      <td>ABCGIL</td>\n      <td>KCA472</td>\n      <td>KB429</td>\n    </tr>\n    <tr>\n      <th>463544</th>\n      <td>ZZZ8</td>\n      <td>ZZZ8</td>\n      <td>S</td>\n      <td>ZZZ8</td>\n      <td>AGASALHO</td>\n      <td>M</td>\n      <td>None</td>\n      <td>None</td>\n      <td>121118</td>\n      <td>131985</td>\n      <td>...</td>\n      <td>0</td>\n      <td>7145-ABCZ 1</td>\n      <td>7145-ABCZ 1</td>\n      <td>PO</td>\n      <td>0</td>\n      <td>3247323</td>\n      <td>0</td>\n      <td>ABCZ</td>\n      <td>K830</td>\n      <td>KA7368</td>\n    </tr>\n    <tr>\n      <th>463545</th>\n      <td>ZZZ9</td>\n      <td>ZZZ9</td>\n      <td>S</td>\n      <td>ZZZ9</td>\n      <td>BACABAL</td>\n      <td>M</td>\n      <td>None</td>\n      <td>None</td>\n      <td>133175</td>\n      <td>178922</td>\n      <td>...</td>\n      <td>0</td>\n      <td>7145-ABCZ 1</td>\n      <td>7145-ABCZ 1</td>\n      <td>PO</td>\n      <td>0</td>\n      <td>3247322</td>\n      <td>0</td>\n      <td>ABCZ</td>\n      <td>K974</td>\n      <td>KA9422</td>\n    </tr>\n    <tr>\n      <th>463546</th>\n      <td>ZZZA1</td>\n      <td>ZZZA1</td>\n      <td>S</td>\n      <td>ZZZA1</td>\n      <td>ANITA</td>\n      <td>F</td>\n      <td>None</td>\n      <td>None</td>\n      <td>EFC383</td>\n      <td>JDRB874</td>\n      <td>...</td>\n      <td>0</td>\n      <td>7145-ABCZ 1</td>\n      <td>7145-ABCZ 1</td>\n      <td>PO</td>\n      <td>0</td>\n      <td>9499094</td>\n      <td>0</td>\n      <td>ABCZ</td>\n      <td>EFC383</td>\n      <td>JDRB874</td>\n    </tr>\n    <tr>\n      <th>463547</th>\n      <td>ZZZA2</td>\n      <td>ZZZA2</td>\n      <td>S</td>\n      <td>ZZZA2</td>\n      <td>ANDREA</td>\n      <td>F</td>\n      <td>None</td>\n      <td>None</td>\n      <td>RRP5224</td>\n      <td>177993</td>\n      <td>...</td>\n      <td>0</td>\n      <td>7145-ABCZ 1</td>\n      <td>7145-ABCZ 1</td>\n      <td>PO</td>\n      <td>0</td>\n      <td>9499095</td>\n      <td>0</td>\n      <td>ABCZ</td>\n      <td>RRP5224</td>\n      <td>AB7320</td>\n    </tr>\n  </tbody>\n</table>\n<p>463548 rows × 28 columns</p>\n</div>"
     },
     "execution_count": 54,
     "metadata": {},
     "output_type": "execute_result"
    }
   ],
   "source": [
    "df_genealogia_embrapa"
   ],
   "metadata": {
    "collapsed": false
   }
  },
  {
   "cell_type": "code",
   "execution_count": 50,
   "outputs": [
    {
     "data": {
      "text/plain": "Empty DataFrame\nColumns: [reb_giro, nomea, COMPRAC, RGVACA, nomep, GSPAI, RGPAI, nomem, GSMAE, RGMAE, DNV, MNV, ANV, UF, OP, DP, MP, AP, DURLAC, LTOT, L365, L305, DE, ME, AE, CAUSA, INTER, IDPAI, IDMAE, IDANIMAL, TORNEIO, RA, TIPO, QTD_ORDENHAS, nasc, parto, secagem, anopc, anop_menos1c, rebc, rac, nordc, rebanoe, ordem, gs, sexo, cod_prod, cod_pai, cod_mae, reb, id_produto_x, nome10caracteres, id_produto_drop, id_produto_drop, nome4caracteres, id_produto_y]\nIndex: []\n\n[0 rows x 56 columns]",
      "text/html": "<div>\n<style scoped>\n    .dataframe tbody tr th:only-of-type {\n        vertical-align: middle;\n    }\n\n    .dataframe tbody tr th {\n        vertical-align: top;\n    }\n\n    .dataframe thead th {\n        text-align: right;\n    }\n</style>\n<table border=\"1\" class=\"dataframe\">\n  <thead>\n    <tr style=\"text-align: right;\">\n      <th></th>\n      <th>reb_giro</th>\n      <th>nomea</th>\n      <th>COMPRAC</th>\n      <th>RGVACA</th>\n      <th>nomep</th>\n      <th>GSPAI</th>\n      <th>RGPAI</th>\n      <th>nomem</th>\n      <th>GSMAE</th>\n      <th>RGMAE</th>\n      <th>...</th>\n      <th>cod_prod</th>\n      <th>cod_pai</th>\n      <th>cod_mae</th>\n      <th>reb</th>\n      <th>id_produto_x</th>\n      <th>nome10caracteres</th>\n      <th>id_produto_drop</th>\n      <th>id_produto_drop</th>\n      <th>nome4caracteres</th>\n      <th>id_produto_y</th>\n    </tr>\n  </thead>\n  <tbody>\n  </tbody>\n</table>\n<p>0 rows × 56 columns</p>\n</div>"
     },
     "execution_count": 50,
     "metadata": {},
     "output_type": "execute_result"
    }
   ],
   "source": [
    "lista_animais_encontrados_genealogia = procura_animais_comprac_dif_11_rg_3_na_genealogia_emb(df_animais_sem_id, df_genealogia_embrapa)\n",
    "lista_animais_encontrados_genealogia"
   ],
   "metadata": {
    "collapsed": false
   }
  },
  {
   "cell_type": "code",
   "execution_count": null,
   "outputs": [],
   "source": [
    "lista_animais_encontrados_genealogia_busca_personalizada = busca_por_campos_personalizados_genealogia_embrapa(df_animais_sem_id, df_genealogia_embrapa)"
   ],
   "metadata": {
    "collapsed": false
   }
  },
  {
   "cell_type": "code",
   "execution_count": null,
   "outputs": [],
   "source": [
    "lista_animais_encontrados_genealogia_busca_ampla = busca_ampla_genealogia_embrapa(df_animais_sem_id, df_genealogia_embrapa)"
   ],
   "metadata": {
    "collapsed": false
   }
  },
  {
   "cell_type": "code",
   "execution_count": null,
   "outputs": [],
   "source": [
    "#salvar_arquivos()"
   ],
   "metadata": {
    "collapsed": false
   }
  }
 ],
 "metadata": {
  "kernelspec": {
   "display_name": "Python 3",
   "language": "python",
   "name": "python3"
  },
  "language_info": {
   "codemirror_mode": {
    "name": "ipython",
    "version": 2
   },
   "file_extension": ".py",
   "mimetype": "text/x-python",
   "name": "python",
   "nbconvert_exporter": "python",
   "pygments_lexer": "ipython2",
   "version": "2.7.6"
  }
 },
 "nbformat": 4,
 "nbformat_minor": 0
}
