{
 "cells": [
  {
   "cell_type": "code",
   "execution_count": 33,
   "outputs": [],
   "source": [
    "import pandas as pd\n",
    "import warnings\n",
    "import re\n",
    "import tables\n",
    "import mysql.connector\n",
    "warnings.filterwarnings('ignore')"
   ],
   "metadata": {
    "collapsed": false
   }
  },
  {
   "cell_type": "code",
   "execution_count": 34,
   "outputs": [],
   "source": [
    "def abre_conexao_banco_de_dados():\n",
    "  global mydb\n",
    "  mydb = mysql.connector.connect(\n",
    "  host=\"127.0.0.1\",\n",
    "  user=\"root\",\n",
    "  password=\"4d5f0l9k\",\n",
    "  database=\"bioinformatica_new\"\n",
    ")"
   ],
   "metadata": {
    "collapsed": false
   }
  },
  {
   "cell_type": "code",
   "execution_count": 35,
   "outputs": [],
   "source": [
    "def retorna_tabelas_banco_de_dados(nomeTabela):\n",
    "  if nomeTabela =='genealogia_embrapa':\n",
    "    sql = f\"WITH tabela_virtual AS (SELECT * FROM genealogia_embrapa) SELECT tv.*, (SELECT registro FROM tabela_virtual AS pai WHERE pai.id_produto = tv.id_touro) AS registro_pai, (SELECT registro FROM tabela_virtual AS mae WHERE mae.id_produto = tv.id_vaca) AS registro_mae FROM tabela_virtual AS tv\"\n",
    "  else:\n",
    "    sql = f\"SELECT * FROM {nomeTabela}\"\n",
    "  df =  pd.read_sql(sql, mydb)\n",
    "  return df"
   ],
   "metadata": {
    "collapsed": false
   }
  },
  {
   "cell_type": "code",
   "execution_count": 36,
   "outputs": [],
   "source": [
    "def cria_df_com_somente_os_dados_novos(planilhaAntiga, planilhaNova):\n",
    "  dados_em_comum = pd.merge(dados_2023, dados_2022, on=['IDANIMAL', 'AP', 'MP','L305', 'LTOT', 'L365', 'ME', 'AE', 'CAUSA'],suffixes=('', '_drop'))\n",
    "  dados_em_comum = dados_em_comum.drop(dados_em_comum.filter(regex='_drop$').columns, axis=1)\n",
    "  dados_em_comum = dados_em_comum.drop_duplicates()\n",
    "  df_merge = pd.merge(dados_2023, dados_em_comum, how='left', indicator=True, suffixes=('', '_drop'))\n",
    "  # filtra somente as linhas que estão no dataframe da esquerda\n",
    "  df_dados_novos = df_merge[df_merge['_merge'] == 'left_only']\n",
    "  # remove a coluna \"_merge\"\n",
    "  df_dados_novos.drop('_merge', axis=1, inplace=True)\n",
    "  df_dados_novos = df_dados_novos.drop(df_merge.filter(regex='_drop$').columns, axis=1)\n",
    "  df_dados_novos = df_dados_novos.drop_duplicates()\n",
    "  return df_dados_novos"
   ],
   "metadata": {
    "collapsed": false
   }
  },
  {
   "cell_type": "code",
   "execution_count": 37,
   "outputs": [],
   "source": [
    "def adiciona_coluna_gs_aos_dados_novos(df,df_pedigree ):\n",
    "  df_temporaria = pd.merge(df, df_pedigree[['IDANIMAL', 'gs', 'SEXO']], on=['IDANIMAL'], suffixes=('', '_drop'))\n",
    "  df=df_temporaria\n",
    "  nome_antigo = 'SEXO'\n",
    "  nome_novo = 'sexo'\n",
    "  indice_coluna = df.columns.get_loc(nome_antigo)\n",
    "  df.rename(columns={nome_antigo: nome_novo}, inplace=True)\n",
    "  return df"
   ],
   "metadata": {
    "collapsed": false
   }
  },
  {
   "cell_type": "code",
   "execution_count": 38,
   "outputs": [],
   "source": [
    "def retira_acentos_espacos(df):\n",
    "  # remoção dos hifens e espaços em branco da coluna RGVACA\n",
    "  df.loc[df['COMPRAC'] == 11, 'RGVACA'] = df.loc[df['COMPRAC'] == 11, 'RGVACA'].str.replace('-', '').str.replace(' ', '')\n",
    "\n",
    "  df.loc[df['GSMAE'] == 11, 'RGMAE'] = df.loc[df['GSMAE'] == 11, 'RGMAE'].str.replace('-', '').str.replace(' ', '')\n",
    "\n",
    "  df.loc[df['GSPAI'] == 11, 'RGPAI'] = df.loc[df['GSPAI'] == 11, 'RGPAI'].str.replace('-', '').str.replace(' ', '')\n",
    "  return df"
   ],
   "metadata": {
    "collapsed": false
   }
  },
  {
   "cell_type": "code",
   "execution_count": 39,
   "outputs": [],
   "source": [
    "def adiciona_colunas_codprod_codpai_cod_mae(df, genealogia_abcz):\n",
    "  sub_tabela_gs_0 = df[df['gs'] == 0]\n",
    "  genealogia_abcz = genealogia_abcz.rename(columns={'rgd2': 'RGVACA'})\n",
    "  df_temporaria1 = pd.merge(sub_tabela_gs_0, genealogia_abcz[['RGVACA', 'cod_prod', 'cod_pai', 'cod_mae']], on=['RGVACA'], how='left', suffixes=('', '_drop'))\n",
    "  sub_tabela_gs_0=df_temporaria1\n",
    "  sub_tabela_gs_0 = sub_tabela_gs_0.drop_duplicates()\n",
    "\n",
    "  df_temporaria4 = pd.merge(df, sub_tabela_gs_0[['RGVACA', 'cod_prod', 'cod_pai', 'cod_mae', 'IDANIMAL']], on=['RGVACA', 'IDANIMAL'], how='left', suffixes=('', '_drop'))\n",
    "  df=df_temporaria4\n",
    "  df = df.drop_duplicates()\n",
    "  return df"
   ],
   "metadata": {
    "collapsed": false
   }
  },
  {
   "cell_type": "code",
   "execution_count": 40,
   "outputs": [],
   "source": [
    "def pegar_codpai_codmae_abcz_rg_3_letras(df, genealogia_abcz):\n",
    "\n",
    "  genealogia_abcz = genealogia_abcz.rename(columns={'rgd2': 'RGVACA'})\n",
    "  #Criando subtabela para maes\n",
    "  subtabela_mae = df[df['GSMAE'] == 11]\n",
    "  #e o cod_mae e nulo\n",
    "  subtabela_mae\n",
    "  # selecionar apenas as linhas que começam com letras\n",
    "  subtabela_mae = subtabela_mae[subtabela_mae['RGMAE'].apply(lambda x: bool(re.match(r'^[a-zA-Z]{3}', x)))]\n",
    "\n",
    "  #Buscando cod_mae na abcz\n",
    "  genealogia_abcz = genealogia_abcz.rename(columns={'cod_prod':'cod_prod_mae_gen'})\n",
    "  subtabela_mae = pd.merge(subtabela_mae, genealogia_abcz[['RGVACA', 'cod_prod_mae_gen']], left_on=['RGMAE'], right_on=['RGVACA'], how='left', indicator=True, suffixes=('', '_drop'))\n",
    "  subtabela_mae = subtabela_mae.drop_duplicates()\n",
    "  subtabela_mae = subtabela_mae.drop(subtabela_mae.filter(regex='_drop$').columns, axis=1)\n",
    "  subtabela_mae = subtabela_mae[subtabela_mae['_merge'] == 'both'].drop(columns='_merge')\n",
    "\n",
    "  #Adicionando coluna cod_prod_mae no df\n",
    "  df = pd.merge(df, subtabela_mae[['RGMAE', 'cod_prod_mae_gen']], left_on=['RGMAE'], right_on=['RGMAE'], how='left', suffixes=('', '_drop'))\n",
    "  df = df.drop_duplicates()\n",
    "\n",
    "  #Criando subtabela em que gspai = 11\n",
    "  subtabela_pai = df[df['GSPAI'] == 11]\n",
    "\n",
    "  # selecionar apenas as linhas que começam com letras\n",
    "  subtabela_pai = subtabela_pai[subtabela_pai['RGPAI'].apply(lambda x: bool(re.match(r'^[a-zA-Z]{3}', x)))]\n",
    "\n",
    "  #Pegando cod_pai na ABCZ\n",
    "  genealogia_abcz = genealogia_abcz.rename(columns={'cod_prod_mae_gen':'cod_prod_pai_gen'})\n",
    "  subtabela_pai = pd.merge(subtabela_pai, genealogia_abcz[['RGVACA', 'cod_prod_pai_gen']], left_on=['RGPAI'], right_on=['RGVACA'], how='left', indicator=True, suffixes=('', '_drop'))\n",
    "  subtabela_pai = subtabela_pai.drop_duplicates()\n",
    "  subtabela_pai = subtabela_pai.drop(subtabela_pai.filter(regex='_drop$').columns, axis=1)\n",
    "  subtabela_pai = subtabela_pai[subtabela_pai['_merge'] == 'both'].drop(columns='_merge')\n",
    "\n",
    "  #Criando coluna do cod_prod_pai_gen no df\n",
    "  df = pd.merge(df, subtabela_pai[['RGPAI', 'cod_prod_pai_gen']], left_on=['RGPAI'], right_on=['RGPAI'], how='left', suffixes=('', '_drop'))\n",
    "  df = df.drop_duplicates()\n",
    "\n",
    "  #Atualizando valores da cod_pai e cod_mae do df com os valores das colunas inseridas\n",
    "  df['cod_pai'].fillna(df['cod_prod_pai_gen'], inplace=True)\n",
    "  df['cod_mae'].fillna(df['cod_prod_mae_gen'], inplace=True)\n",
    "  #Dando drop nas colunas antigas\n",
    "  df = df.drop(columns='cod_prod_pai_gen')\n",
    "  df = df.drop(columns='cod_prod_mae_gen')\n",
    "\n",
    "  return df\n"
   ],
   "metadata": {
    "collapsed": false
   }
  },
  {
   "cell_type": "code",
   "execution_count": 41,
   "outputs": [],
   "source": [
    "def pegar_codpai_codmae_abcz_rg_diferente_3_letras(df, genealogia_abcz):\n",
    "  genealogia_abcz = genealogia_abcz.rename(columns={'rgd2': 'RGVACA'})\n",
    "  #Criando subtabela\n",
    "  subtabela_pai = df[df['GSPAI'] == 11]\n",
    "  # selecionar apenas as linhas que NÃO começam com letras\n",
    "  subtabela_pai = subtabela_pai[~subtabela_pai['RGPAI'].apply(lambda x: bool(re.match(r'^[a-zA-Z]{3}', x)))]\n",
    "\n",
    "  #Pegando cod_pai na abcz\n",
    "  genealogia_abcz = genealogia_abcz.rename(columns={'cod_prod':'cod_prod_pai_gen'})\n",
    "  subtabela_pai = subtabela_pai.drop_duplicates()\n",
    "  genealogia_abcz = genealogia_abcz.drop_duplicates()\n",
    "  subtabela_pai['nome4caracteres'] = subtabela_pai['nomep'].str.slice(start=0, stop=4)\n",
    "  genealogia_abcz['nome4caracteres'] = genealogia_abcz['nome'].str.slice(start=0, stop=4)\n",
    "  subtabela_pai = pd.merge(subtabela_pai, genealogia_abcz[['RGVACA', 'nome4caracteres','cod_prod_pai_gen']], left_on=['RGPAI', 'nome4caracteres'], right_on=['RGVACA', 'nome4caracteres'], how='left', indicator=True, suffixes=('', '_drop'))\n",
    "  subtabela_pai = subtabela_pai.drop_duplicates()\n",
    "  subtabela_pai = subtabela_pai.drop(subtabela_pai.filter(regex='_drop$').columns, axis=1)\n",
    "  subtabela_pai = subtabela_pai[subtabela_pai['_merge'] == 'both'].drop(columns='_merge')\n",
    "\n",
    "  #Adicionando coluna de cod_pai_gen no df\n",
    "  df = pd.merge(df, subtabela_pai[['RGPAI', 'cod_prod_pai_gen']], left_on=['RGPAI'], right_on=['RGPAI'], how='left', suffixes=('', '_drop'))\n",
    "  df = df.drop_duplicates()\n",
    "\n",
    "  #Criando subtabela mae\n",
    "  genealogia_abcz = genealogia_abcz.rename(columns={'cod_prod':'cod_prod_mae_gen'})\n",
    "  subtabela_mae = df[df['GSMAE'] == 11]\n",
    "  # selecionar apenas as linhas que NÃO começam com letras\n",
    "  subtabela_mae = subtabela_mae[~subtabela_mae['RGMAE'].apply(lambda x: bool(re.match(r'^[a-zA-Z]{3}', x)))]\n",
    "\n",
    "  #Pegando cod_mae na abcz\n",
    "  subtabela_mae['nome11caracteres'] = subtabela_mae['nomem'].str.slice(start=0, stop=11)\n",
    "  genealogia_abcz = genealogia_abcz.rename(columns={'cod_prod_pai_gen':'cod_prod_mae_gen'})\n",
    "  #criando coluna com os 10 caracteres do nome\n",
    "  subtabela_mae = pd.merge(subtabela_mae, genealogia_abcz[['RGVACA','nome4caracteres' ,'cod_prod_mae_gen']], left_on=['RGMAE', 'nome11caracteres'], right_on=['RGVACA', 'nome4caracteres'], how='left', indicator=True, suffixes=('', '_drop'))\n",
    "  subtabela_mae = subtabela_mae.drop_duplicates()\n",
    "  subtabela_mae = subtabela_mae.drop(subtabela_mae.filter(regex='_drop$').columns, axis=1)\n",
    "  subtabela_mae = subtabela_mae[subtabela_mae['_merge'] == 'both'].drop(columns='_merge')\n",
    "\n",
    "  #Adicionando coluna de cod_mae_gen no df\n",
    "  df = pd.merge(df, subtabela_mae[['RGMAE', 'cod_prod_mae_gen']], left_on=['RGMAE'], right_on=['RGMAE'], how='left', suffixes=('', '_drop'))\n",
    "  df = df.drop_duplicates()\n",
    "\n",
    "  #Atualizando cod_pai e cod_mae com base nas novas colunas\n",
    "  df['cod_pai'].fillna(df['cod_prod_pai_gen'], inplace=True)\n",
    "  df['cod_mae'].fillna(df['cod_prod_mae_gen'], inplace=True)\n",
    "  #Dando drop nas colunas antigas\n",
    "  df = df.drop(columns='cod_prod_pai_gen')\n",
    "  df = df.drop(columns='cod_prod_mae_gen')\n",
    "  return df"
   ],
   "metadata": {
    "collapsed": false
   }
  },
  {
   "cell_type": "code",
   "execution_count": 42,
   "outputs": [],
   "source": [
    "def adiciona_coluna_reb(df, criadores):\n",
    "  criadores = criadores.rename(columns={'codgiro':'reb_giro'})\n",
    "  df = pd.merge(df, criadores[['reb_giro', 'reb']], on=['reb_giro'], how='left')\n",
    "  df = df.drop_duplicates()\n",
    "  return df"
   ],
   "metadata": {
    "collapsed": false
   }
  },
  {
   "cell_type": "code",
   "execution_count": 43,
   "outputs": [],
   "source": [
    "def calcula_dias_de_diferenca_entre_partos(df, data_2022):\n",
    "  df_diferenca_entre_partos_novos_e_do_banco = pd.merge(df, data_2022, on=['IDANIMAL'], suffixes=('', '_drop'))\n",
    "  df_diferenca_entre_partos_novos_e_do_banco = df_diferenca_entre_partos_novos_e_do_banco.drop_duplicates()\n",
    "  #df_diferenca_entre_partos_novos_e_do_banco = df_diferenca_entre_partos_novos_e_do_banco.drop(df_diferenca_entre_partos_novos_e_do_banco.filter(regex='_drop$').columns, axis=1)\n",
    "  df_diferenca_entre_partos_novos_e_do_banco[['parto', 'parto_drop']] = df_diferenca_entre_partos_novos_e_do_banco[['parto', 'parto_drop']].astype(str)\n",
    "  df_diferenca_entre_partos_novos_e_do_banco[['parto', 'parto_drop']] = df_diferenca_entre_partos_novos_e_do_banco[['parto', 'parto_drop']].apply(pd.to_datetime)\n",
    "  df_diferenca_entre_partos_novos_e_do_banco['diferenca_em_dias'] = (df_diferenca_entre_partos_novos_e_do_banco['parto'] - df_diferenca_entre_partos_novos_e_do_banco['parto_drop']).dt.days\n",
    "  return df_diferenca_entre_partos_novos_e_do_banco\n",
    "  #df_diferenca_entre_partos_novos_e_do_banco[['parto', 'parto_drop', 'diferenca_em_dias']]"
   ],
   "metadata": {
    "collapsed": false
   }
  },
  {
   "cell_type": "code",
   "execution_count": 44,
   "outputs": [],
   "source": [
    "def verifica_se_ha_id_animal_planilha_antiga(df, df_antigo):\n",
    "  df_animais_com_ID = pd.merge(df, df_antigo, on =['IDANIMAL'], suffixes=('', '_drop'))\n",
    "  df_animais_com_ID = df_animais_com_ID.drop(df_animais_com_ID.filter(regex='_drop$').columns, axis=1)\n",
    "  df_animais_com_ID = df_animais_com_ID.drop_duplicates()\n",
    "  return df_animais_com_ID"
   ],
   "metadata": {
    "collapsed": false
   }
  },
  {
   "cell_type": "code",
   "execution_count": 45,
   "outputs": [],
   "source": [
    "def gera_df_animais_sem_id_planilha_antiga(df, planilha_antiga):\n",
    "  df_animais_sem_id = pd.merge(df, planilha_antiga, on='IDANIMAL', how='left', indicator=True, suffixes=('', '_drop'))\n",
    "  df_animais_sem_id = df_animais_sem_id.drop(df_animais_sem_id.filter(regex='_drop$').columns, axis=1)\n",
    "  df_animais_sem_id = df_animais_sem_id[df_animais_sem_id['_merge'] == 'left_only'].drop(columns='_merge')\n",
    "  return df_animais_sem_id"
   ],
   "metadata": {
    "collapsed": false
   }
  },
  {
   "cell_type": "code",
   "execution_count": 46,
   "outputs": [],
   "source": [
    "def adiciona_id_produto_nos_animais_com_id(df, genealogia_embrapa):\n",
    "  df_genealogia_embrapa['IDANIMAL'] = df_genealogia_embrapa['IDANIMAL'].astype('int')\n",
    "  df = pd.merge(df, df_genealogia_embrapa[['IDANIMAL', 'id_produto']], on='IDANIMAL', how='left', indicator=True)\n",
    "  df = df.drop_duplicates()\n",
    "  df = df.drop(columns='_merge')\n",
    "  return df"
   ],
   "metadata": {
    "collapsed": false
   }
  },
  {
   "cell_type": "code",
   "execution_count": 47,
   "outputs": [],
   "source": [
    "abre_conexao_banco_de_dados()\n",
    "df_genealogia_embrapa = retorna_tabelas_banco_de_dados('genealogia_embrapa')\n",
    "df_genealogia_embrapa =df_genealogia_embrapa.rename(columns={'idanimal': 'IDANIMAL'})\n",
    "df_genealogia_abcz = retorna_tabelas_banco_de_dados('genealogia_abcz')\n",
    "df_criadores = retorna_tabelas_banco_de_dados('criadores')\n",
    "df_producao = retorna_tabelas_banco_de_dados('producao_embrapa')\n",
    "df_fazendas = retorna_tabelas_banco_de_dados('fazendas')\n",
    "pedigree = pd.read_csv(\"pedrigree - Girolando - 17-02-2023.txt\", encoding='ISO-8859-1')\n",
    "dados_2023 = pd.read_csv(\"PNMGL - Dados girolando - 17-02-23.txt\", encoding='ISO-8859-1')\n",
    "dados_2022 = pd.read_csv(\"PNMGL - Dados_old - 17-02-2023.txt\", encoding='ISO-8859-1')"
   ],
   "metadata": {
    "collapsed": false
   }
  },
  {
   "cell_type": "code",
   "execution_count": 48,
   "outputs": [],
   "source": [
    "df_dados_novos = cria_df_com_somente_os_dados_novos(dados_2022, dados_2023)"
   ],
   "metadata": {
    "collapsed": false
   }
  },
  {
   "cell_type": "code",
   "execution_count": 49,
   "outputs": [],
   "source": [
    "df_dados_novos = adiciona_coluna_gs_aos_dados_novos(df_dados_novos, pedigree)"
   ],
   "metadata": {
    "collapsed": false
   }
  },
  {
   "cell_type": "code",
   "execution_count": 50,
   "outputs": [],
   "source": [
    "df_dados_novos = retira_acentos_espacos(df_dados_novos)"
   ],
   "metadata": {
    "collapsed": false
   }
  },
  {
   "cell_type": "code",
   "execution_count": 51,
   "outputs": [],
   "source": [
    "df_dados_novos =adiciona_colunas_codprod_codpai_cod_mae(df_dados_novos, df_genealogia_abcz)"
   ],
   "metadata": {
    "collapsed": false
   }
  },
  {
   "cell_type": "code",
   "execution_count": 52,
   "outputs": [],
   "source": [
    "df_dados_novos = pegar_codpai_codmae_abcz_rg_3_letras(df_dados_novos, df_genealogia_abcz)"
   ],
   "metadata": {
    "collapsed": false
   }
  },
  {
   "cell_type": "code",
   "execution_count": 53,
   "outputs": [],
   "source": [
    "df_dados_novos = pegar_codpai_codmae_abcz_rg_diferente_3_letras(df_dados_novos, df_genealogia_abcz)"
   ],
   "metadata": {
    "collapsed": false
   }
  },
  {
   "cell_type": "code",
   "execution_count": 54,
   "outputs": [],
   "source": [
    "df_dados_novos = adiciona_coluna_reb(df_dados_novos, df_criadores)"
   ],
   "metadata": {
    "collapsed": false
   }
  },
  {
   "cell_type": "code",
   "execution_count": 55,
   "outputs": [],
   "source": [
    "dif_partos = calcula_dias_de_diferenca_entre_partos(df_dados_novos, dados_2022)"
   ],
   "metadata": {
    "collapsed": false
   }
  },
  {
   "cell_type": "code",
   "execution_count": 56,
   "outputs": [],
   "source": [
    "df_animais_com_id = verifica_se_ha_id_animal_planilha_antiga(df_dados_novos, dados_2022)"
   ],
   "metadata": {
    "collapsed": false
   }
  },
  {
   "cell_type": "code",
   "execution_count": 57,
   "outputs": [
    {
     "data": {
      "text/plain": "      reb_giro                            nomea  COMPRAC    RGVACA  \\\n0         7461   NANA IMPERADOR BAXTER RF SAO F     5858   6353-AH   \n1        10639  LANAA FIV AFTERSHOCK BON.BELEM       12   9592-AG   \n2         6039   EDILAINE IMPERIO FIV 4303 JARD       12  AADA0352   \n3         1945             ARMA MERIDIAN DA MBL       12   1025-AN   \n4        73119   CELESTE 136 TEATRO FIV COOPERR       12   1239-BF   \n...        ...                              ...      ...       ...   \n1301      1945   JPZ QUIRERA SHAMROCK ASTER FIV       12    4032-Z   \n1302      2381   DALIA I FIV BRADLEY JM NOVO HO       12   4906-AZ   \n1305       132        QUINTA I COLE AGM TRIUNFO       34   9243-AG   \n1306      6915                  LIA DAS ARABIAS     5858   6125-BR   \n1307      6029          GERMANA FEBO FR RECREIO     5858   9069-AS   \n\n                              nomep  GSPAI     RGPAI  \\\n0       IMPERADOR BAXTER VOLTA FRIA     58      1459   \n1     MS ATLEES SHT AFTERSHOCK - ET     10  AX129928   \n2            IMPERIO TE STA EDWIGES     11    RIG163   \n3            SULLY HART MERIDIAN-ET     10  AX138576   \n4                TEATRO DA SILVANIA     11    EFC383   \n...                             ...    ...       ...   \n1301     LADYS-MANOR PL SHAMROCK-ET     10  AX135714   \n1302               ROCKALLI BRADLEY     10  AX117720   \n1305         CO-OP TOYSTORY COLE-ET     10  AX129567   \n1306              TURBO DAS ARABIAS   5858      0079   \n1307                FEBO FR RECREIO     58    6300-N   \n\n                              nomem  GSMAE         RGMAE  ...  rac  nordc  \\\n0     JURITI HERBY RF SAO FRANCISCO     58        6877-N  ...    2      2   \n1                  JOANE FIV KUBERA     11      ACFG1840  ...    2      2   \n2     SERTEC QATAR FABIANA PROGRESS     10  HBB/B-291392  ...    2      2   \n3                              FAMA     11        JNR167  ...    2      2   \n4        LAGOS ASTRE QUIMICA 795 TE     10      BX335536  ...    2      2   \n...                             ...    ...           ...  ...  ...    ...   \n1301                  JPZ ASTER FIV     11         JPZ64  ...    2      2   \n1302           DALIA NOVO HORIZONTE     11        JMCH76  ...    2      2   \n1305                   QUINTA FIV M     12        0473-O  ...    2      2   \n1306             LILIKA DAS ARABIAS     58       4916-AW  ...    2      2   \n1307            CAMPANHA FR RECREIO     58        6180-N  ...    2      2   \n\n           rebanoe ordem  gs  sexo  cod_prod    cod_pai     cod_mae  \\\n0      74612019122   NaN   5     F       NaN        NaN         NaN   \n1     106392021122   NaN   4     F       NaN        NaN   9513273.0   \n2      60392020122   NaN   4     F       NaN  4320031.0         NaN   \n3      19452021222   NaN   4     F       NaN        NaN  10621711.0   \n4     731192021222   NaN   4     F       NaN  3540404.0         NaN   \n...            ...   ...  ..   ...       ...        ...         ...   \n1301   19452022222   NaN   4     F       NaN        NaN  11428022.0   \n1302   23812021222   NaN   4     F       NaN        NaN  12866148.0   \n1305    1322019222   NaN   6     F       NaN        NaN         NaN   \n1306   69152021222   NaN   5     F       NaN        NaN         NaN   \n1307   60292019122   NaN   5     F       NaN        NaN         NaN   \n\n             reb  \n0           1291  \n1     10639-GIRO  \n2            NaN  \n3     37634-ABCZ  \n4            NaN  \n...          ...  \n1301  37634-ABCZ  \n1302  31300-ABCZ  \n1305  31835-ABCZ  \n1306  27729-ABCZ  \n1307  31365-ABCZ  \n\n[622 rows x 50 columns]",
      "text/html": "<div>\n<style scoped>\n    .dataframe tbody tr th:only-of-type {\n        vertical-align: middle;\n    }\n\n    .dataframe tbody tr th {\n        vertical-align: top;\n    }\n\n    .dataframe thead th {\n        text-align: right;\n    }\n</style>\n<table border=\"1\" class=\"dataframe\">\n  <thead>\n    <tr style=\"text-align: right;\">\n      <th></th>\n      <th>reb_giro</th>\n      <th>nomea</th>\n      <th>COMPRAC</th>\n      <th>RGVACA</th>\n      <th>nomep</th>\n      <th>GSPAI</th>\n      <th>RGPAI</th>\n      <th>nomem</th>\n      <th>GSMAE</th>\n      <th>RGMAE</th>\n      <th>...</th>\n      <th>rac</th>\n      <th>nordc</th>\n      <th>rebanoe</th>\n      <th>ordem</th>\n      <th>gs</th>\n      <th>sexo</th>\n      <th>cod_prod</th>\n      <th>cod_pai</th>\n      <th>cod_mae</th>\n      <th>reb</th>\n    </tr>\n  </thead>\n  <tbody>\n    <tr>\n      <th>0</th>\n      <td>7461</td>\n      <td>NANA IMPERADOR BAXTER RF SAO F</td>\n      <td>5858</td>\n      <td>6353-AH</td>\n      <td>IMPERADOR BAXTER VOLTA FRIA</td>\n      <td>58</td>\n      <td>1459</td>\n      <td>JURITI HERBY RF SAO FRANCISCO</td>\n      <td>58</td>\n      <td>6877-N</td>\n      <td>...</td>\n      <td>2</td>\n      <td>2</td>\n      <td>74612019122</td>\n      <td>NaN</td>\n      <td>5</td>\n      <td>F</td>\n      <td>NaN</td>\n      <td>NaN</td>\n      <td>NaN</td>\n      <td>1291</td>\n    </tr>\n    <tr>\n      <th>1</th>\n      <td>10639</td>\n      <td>LANAA FIV AFTERSHOCK BON.BELEM</td>\n      <td>12</td>\n      <td>9592-AG</td>\n      <td>MS ATLEES SHT AFTERSHOCK - ET</td>\n      <td>10</td>\n      <td>AX129928</td>\n      <td>JOANE FIV KUBERA</td>\n      <td>11</td>\n      <td>ACFG1840</td>\n      <td>...</td>\n      <td>2</td>\n      <td>2</td>\n      <td>106392021122</td>\n      <td>NaN</td>\n      <td>4</td>\n      <td>F</td>\n      <td>NaN</td>\n      <td>NaN</td>\n      <td>9513273.0</td>\n      <td>10639-GIRO</td>\n    </tr>\n    <tr>\n      <th>2</th>\n      <td>6039</td>\n      <td>EDILAINE IMPERIO FIV 4303 JARD</td>\n      <td>12</td>\n      <td>AADA0352</td>\n      <td>IMPERIO TE STA EDWIGES</td>\n      <td>11</td>\n      <td>RIG163</td>\n      <td>SERTEC QATAR FABIANA PROGRESS</td>\n      <td>10</td>\n      <td>HBB/B-291392</td>\n      <td>...</td>\n      <td>2</td>\n      <td>2</td>\n      <td>60392020122</td>\n      <td>NaN</td>\n      <td>4</td>\n      <td>F</td>\n      <td>NaN</td>\n      <td>4320031.0</td>\n      <td>NaN</td>\n      <td>NaN</td>\n    </tr>\n    <tr>\n      <th>3</th>\n      <td>1945</td>\n      <td>ARMA MERIDIAN DA MBL</td>\n      <td>12</td>\n      <td>1025-AN</td>\n      <td>SULLY HART MERIDIAN-ET</td>\n      <td>10</td>\n      <td>AX138576</td>\n      <td>FAMA</td>\n      <td>11</td>\n      <td>JNR167</td>\n      <td>...</td>\n      <td>2</td>\n      <td>2</td>\n      <td>19452021222</td>\n      <td>NaN</td>\n      <td>4</td>\n      <td>F</td>\n      <td>NaN</td>\n      <td>NaN</td>\n      <td>10621711.0</td>\n      <td>37634-ABCZ</td>\n    </tr>\n    <tr>\n      <th>4</th>\n      <td>73119</td>\n      <td>CELESTE 136 TEATRO FIV COOPERR</td>\n      <td>12</td>\n      <td>1239-BF</td>\n      <td>TEATRO DA SILVANIA</td>\n      <td>11</td>\n      <td>EFC383</td>\n      <td>LAGOS ASTRE QUIMICA 795 TE</td>\n      <td>10</td>\n      <td>BX335536</td>\n      <td>...</td>\n      <td>2</td>\n      <td>2</td>\n      <td>731192021222</td>\n      <td>NaN</td>\n      <td>4</td>\n      <td>F</td>\n      <td>NaN</td>\n      <td>3540404.0</td>\n      <td>NaN</td>\n      <td>NaN</td>\n    </tr>\n    <tr>\n      <th>...</th>\n      <td>...</td>\n      <td>...</td>\n      <td>...</td>\n      <td>...</td>\n      <td>...</td>\n      <td>...</td>\n      <td>...</td>\n      <td>...</td>\n      <td>...</td>\n      <td>...</td>\n      <td>...</td>\n      <td>...</td>\n      <td>...</td>\n      <td>...</td>\n      <td>...</td>\n      <td>...</td>\n      <td>...</td>\n      <td>...</td>\n      <td>...</td>\n      <td>...</td>\n      <td>...</td>\n    </tr>\n    <tr>\n      <th>1301</th>\n      <td>1945</td>\n      <td>JPZ QUIRERA SHAMROCK ASTER FIV</td>\n      <td>12</td>\n      <td>4032-Z</td>\n      <td>LADYS-MANOR PL SHAMROCK-ET</td>\n      <td>10</td>\n      <td>AX135714</td>\n      <td>JPZ ASTER FIV</td>\n      <td>11</td>\n      <td>JPZ64</td>\n      <td>...</td>\n      <td>2</td>\n      <td>2</td>\n      <td>19452022222</td>\n      <td>NaN</td>\n      <td>4</td>\n      <td>F</td>\n      <td>NaN</td>\n      <td>NaN</td>\n      <td>11428022.0</td>\n      <td>37634-ABCZ</td>\n    </tr>\n    <tr>\n      <th>1302</th>\n      <td>2381</td>\n      <td>DALIA I FIV BRADLEY JM NOVO HO</td>\n      <td>12</td>\n      <td>4906-AZ</td>\n      <td>ROCKALLI BRADLEY</td>\n      <td>10</td>\n      <td>AX117720</td>\n      <td>DALIA NOVO HORIZONTE</td>\n      <td>11</td>\n      <td>JMCH76</td>\n      <td>...</td>\n      <td>2</td>\n      <td>2</td>\n      <td>23812021222</td>\n      <td>NaN</td>\n      <td>4</td>\n      <td>F</td>\n      <td>NaN</td>\n      <td>NaN</td>\n      <td>12866148.0</td>\n      <td>31300-ABCZ</td>\n    </tr>\n    <tr>\n      <th>1305</th>\n      <td>132</td>\n      <td>QUINTA I COLE AGM TRIUNFO</td>\n      <td>34</td>\n      <td>9243-AG</td>\n      <td>CO-OP TOYSTORY COLE-ET</td>\n      <td>10</td>\n      <td>AX129567</td>\n      <td>QUINTA FIV M</td>\n      <td>12</td>\n      <td>0473-O</td>\n      <td>...</td>\n      <td>2</td>\n      <td>2</td>\n      <td>1322019222</td>\n      <td>NaN</td>\n      <td>6</td>\n      <td>F</td>\n      <td>NaN</td>\n      <td>NaN</td>\n      <td>NaN</td>\n      <td>31835-ABCZ</td>\n    </tr>\n    <tr>\n      <th>1306</th>\n      <td>6915</td>\n      <td>LIA DAS ARABIAS</td>\n      <td>5858</td>\n      <td>6125-BR</td>\n      <td>TURBO DAS ARABIAS</td>\n      <td>5858</td>\n      <td>0079</td>\n      <td>LILIKA DAS ARABIAS</td>\n      <td>58</td>\n      <td>4916-AW</td>\n      <td>...</td>\n      <td>2</td>\n      <td>2</td>\n      <td>69152021222</td>\n      <td>NaN</td>\n      <td>5</td>\n      <td>F</td>\n      <td>NaN</td>\n      <td>NaN</td>\n      <td>NaN</td>\n      <td>27729-ABCZ</td>\n    </tr>\n    <tr>\n      <th>1307</th>\n      <td>6029</td>\n      <td>GERMANA FEBO FR RECREIO</td>\n      <td>5858</td>\n      <td>9069-AS</td>\n      <td>FEBO FR RECREIO</td>\n      <td>58</td>\n      <td>6300-N</td>\n      <td>CAMPANHA FR RECREIO</td>\n      <td>58</td>\n      <td>6180-N</td>\n      <td>...</td>\n      <td>2</td>\n      <td>2</td>\n      <td>60292019122</td>\n      <td>NaN</td>\n      <td>5</td>\n      <td>F</td>\n      <td>NaN</td>\n      <td>NaN</td>\n      <td>NaN</td>\n      <td>31365-ABCZ</td>\n    </tr>\n  </tbody>\n</table>\n<p>622 rows × 50 columns</p>\n</div>"
     },
     "execution_count": 57,
     "metadata": {},
     "output_type": "execute_result"
    }
   ],
   "source": [
    "df_animais_sem_id = gera_df_animais_sem_id_planilha_antiga(df_dados_novos, dados_2022)\n",
    "df_animais_sem_id"
   ],
   "metadata": {
    "collapsed": false
   }
  },
  {
   "cell_type": "code",
   "execution_count": 58,
   "outputs": [
    {
     "data": {
      "text/plain": "     reb_giro                            nomea  COMPRAC   RGVACA  \\\n0        6029               DEMASIA FR RECREIO       14   0869-T   \n1        7450                JACA JAYZ SJ LALU       34  6411-AH   \n2        3304   CAITA OCIDENTE MJP DA CAPELA P       12   8634-X   \n3        5569   LONDRINA GENGIS KHAN RECANTO D       12  0021-AW   \n4        5569          BABALU METEORO DO MORRO       38  0148-AK   \n..        ...                              ...      ...      ...   \n415      1129                   MORADIA ANGICO        7   9556-F   \n416      2381  CLASSICA OCIDENTE JM NOVO HORI       14  5193-AE   \n417      5569           GABI FIV VALE OURO EVD       14  4417-AT   \n418      6029                DUNCAN FR RECREIO       14   0928-T   \n419     83436                    LINDA SJ LALU       34  2734-BK   \n\n                       nomep  GSPAI     RGPAI                           nomem  \\\n0       JAGUAR TE DO GAVIAO     11    GAV291            ERMELINDA MERGULHAO    \n1           HORNLAND JAYZ-ET     10  AX118150         GAYA FIV SANSAO SJ LALU   \n2    OCIDENTE BEM FEITOR CAL     11   CAL4605          MARINA DA CAPELA PAIVA   \n3    GENGIS KHAN DE BRASILIA     11   RRP6097   MEARA JUDITH GOLDWYN BELLA-TE   \n4        METEORO DE BRASILIA     11     B5226                SEGUNDA DO MORRO   \n..                       ...    ...       ...                             ...   \n415    VALE OURO DE BRASILIA     11     A6796                   CABANA ANGICO   \n416  OCIDENTE BEM FEITOR CAL     11   CAL4605  CINDERELA MODELO JM NOVO HORIZ   \n417    VALE OURO TE SILVANIA     11    EFC464    LAMBADA DRAMATIC SANTA LUZIA   \n418     JAGUAR TE DO GAVIAO     11    GAV291            NILOPOLIS FR RECREIO   \n419                        0      0         0                               0   \n\n     GSMAE     RGMAE  ...  nordc       rebanoe  ordem gs  sexo  cod_prod  \\\n0       12   AD-1407  ...      2   60292021122    NaN  2     F       NaN   \n1       12    1898-P  ...      2   74502020132    NaN  6     F       NaN   \n2       10    A-3096  ...      2   33042020122    NaN  4     F       NaN   \n3       10  BX410396  ...      2   55692021222    NaN  4     F       NaN   \n4       34    7468-T  ...      2   55692021222    NaN  3     F       NaN   \n..     ...       ...  ...    ...           ...    ... ..   ...       ...   \n415     78      1606  ...      2   11292021222    NaN  4     F       NaN   \n416     12   AF-2652  ...      2   23812020122    NaN  2     F       NaN   \n417     12   AG-0944  ...      2   55692020122    NaN  2     F       NaN   \n418     12   AB-0524  ...      2   60292021222    NaN  2     F       NaN   \n419      0         0  ...      2  834362021232    NaN  6     F       NaN   \n\n       cod_pai  cod_mae         reb   id_produto  \n0    4176523.0      NaN  31365-ABCZ  GIRO1383626  \n1          NaN      NaN   7450-GIRO  GIRO1608903  \n2    3287666.0      NaN   3304-GIRO  GIRO1215331  \n3    9265878.0      NaN   5569-GIRO  GIRO2022656  \n4    2225848.0      NaN   5569-GIRO  GIRO1653303  \n..         ...      ...         ...          ...  \n415  1351076.0      NaN       52721  GIRO1066128  \n416  3287666.0      NaN  31300-ABCZ  GIRO1571455  \n417  3890526.0      NaN   5569-GIRO  GIRO1797713  \n418  4176523.0      NaN  31365-ABCZ  GIRO1383629  \n419        NaN      NaN  83436-GIRO  GIRO2900035  \n\n[420 rows x 51 columns]",
      "text/html": "<div>\n<style scoped>\n    .dataframe tbody tr th:only-of-type {\n        vertical-align: middle;\n    }\n\n    .dataframe tbody tr th {\n        vertical-align: top;\n    }\n\n    .dataframe thead th {\n        text-align: right;\n    }\n</style>\n<table border=\"1\" class=\"dataframe\">\n  <thead>\n    <tr style=\"text-align: right;\">\n      <th></th>\n      <th>reb_giro</th>\n      <th>nomea</th>\n      <th>COMPRAC</th>\n      <th>RGVACA</th>\n      <th>nomep</th>\n      <th>GSPAI</th>\n      <th>RGPAI</th>\n      <th>nomem</th>\n      <th>GSMAE</th>\n      <th>RGMAE</th>\n      <th>...</th>\n      <th>nordc</th>\n      <th>rebanoe</th>\n      <th>ordem</th>\n      <th>gs</th>\n      <th>sexo</th>\n      <th>cod_prod</th>\n      <th>cod_pai</th>\n      <th>cod_mae</th>\n      <th>reb</th>\n      <th>id_produto</th>\n    </tr>\n  </thead>\n  <tbody>\n    <tr>\n      <th>0</th>\n      <td>6029</td>\n      <td>DEMASIA FR RECREIO</td>\n      <td>14</td>\n      <td>0869-T</td>\n      <td>JAGUAR TE DO GAVIAO</td>\n      <td>11</td>\n      <td>GAV291</td>\n      <td>ERMELINDA MERGULHAO</td>\n      <td>12</td>\n      <td>AD-1407</td>\n      <td>...</td>\n      <td>2</td>\n      <td>60292021122</td>\n      <td>NaN</td>\n      <td>2</td>\n      <td>F</td>\n      <td>NaN</td>\n      <td>4176523.0</td>\n      <td>NaN</td>\n      <td>31365-ABCZ</td>\n      <td>GIRO1383626</td>\n    </tr>\n    <tr>\n      <th>1</th>\n      <td>7450</td>\n      <td>JACA JAYZ SJ LALU</td>\n      <td>34</td>\n      <td>6411-AH</td>\n      <td>HORNLAND JAYZ-ET</td>\n      <td>10</td>\n      <td>AX118150</td>\n      <td>GAYA FIV SANSAO SJ LALU</td>\n      <td>12</td>\n      <td>1898-P</td>\n      <td>...</td>\n      <td>2</td>\n      <td>74502020132</td>\n      <td>NaN</td>\n      <td>6</td>\n      <td>F</td>\n      <td>NaN</td>\n      <td>NaN</td>\n      <td>NaN</td>\n      <td>7450-GIRO</td>\n      <td>GIRO1608903</td>\n    </tr>\n    <tr>\n      <th>2</th>\n      <td>3304</td>\n      <td>CAITA OCIDENTE MJP DA CAPELA P</td>\n      <td>12</td>\n      <td>8634-X</td>\n      <td>OCIDENTE BEM FEITOR CAL</td>\n      <td>11</td>\n      <td>CAL4605</td>\n      <td>MARINA DA CAPELA PAIVA</td>\n      <td>10</td>\n      <td>A-3096</td>\n      <td>...</td>\n      <td>2</td>\n      <td>33042020122</td>\n      <td>NaN</td>\n      <td>4</td>\n      <td>F</td>\n      <td>NaN</td>\n      <td>3287666.0</td>\n      <td>NaN</td>\n      <td>3304-GIRO</td>\n      <td>GIRO1215331</td>\n    </tr>\n    <tr>\n      <th>3</th>\n      <td>5569</td>\n      <td>LONDRINA GENGIS KHAN RECANTO D</td>\n      <td>12</td>\n      <td>0021-AW</td>\n      <td>GENGIS KHAN DE BRASILIA</td>\n      <td>11</td>\n      <td>RRP6097</td>\n      <td>MEARA JUDITH GOLDWYN BELLA-TE</td>\n      <td>10</td>\n      <td>BX410396</td>\n      <td>...</td>\n      <td>2</td>\n      <td>55692021222</td>\n      <td>NaN</td>\n      <td>4</td>\n      <td>F</td>\n      <td>NaN</td>\n      <td>9265878.0</td>\n      <td>NaN</td>\n      <td>5569-GIRO</td>\n      <td>GIRO2022656</td>\n    </tr>\n    <tr>\n      <th>4</th>\n      <td>5569</td>\n      <td>BABALU METEORO DO MORRO</td>\n      <td>38</td>\n      <td>0148-AK</td>\n      <td>METEORO DE BRASILIA</td>\n      <td>11</td>\n      <td>B5226</td>\n      <td>SEGUNDA DO MORRO</td>\n      <td>34</td>\n      <td>7468-T</td>\n      <td>...</td>\n      <td>2</td>\n      <td>55692021222</td>\n      <td>NaN</td>\n      <td>3</td>\n      <td>F</td>\n      <td>NaN</td>\n      <td>2225848.0</td>\n      <td>NaN</td>\n      <td>5569-GIRO</td>\n      <td>GIRO1653303</td>\n    </tr>\n    <tr>\n      <th>...</th>\n      <td>...</td>\n      <td>...</td>\n      <td>...</td>\n      <td>...</td>\n      <td>...</td>\n      <td>...</td>\n      <td>...</td>\n      <td>...</td>\n      <td>...</td>\n      <td>...</td>\n      <td>...</td>\n      <td>...</td>\n      <td>...</td>\n      <td>...</td>\n      <td>...</td>\n      <td>...</td>\n      <td>...</td>\n      <td>...</td>\n      <td>...</td>\n      <td>...</td>\n      <td>...</td>\n    </tr>\n    <tr>\n      <th>415</th>\n      <td>1129</td>\n      <td>MORADIA ANGICO</td>\n      <td>7</td>\n      <td>9556-F</td>\n      <td>VALE OURO DE BRASILIA</td>\n      <td>11</td>\n      <td>A6796</td>\n      <td>CABANA ANGICO</td>\n      <td>78</td>\n      <td>1606</td>\n      <td>...</td>\n      <td>2</td>\n      <td>11292021222</td>\n      <td>NaN</td>\n      <td>4</td>\n      <td>F</td>\n      <td>NaN</td>\n      <td>1351076.0</td>\n      <td>NaN</td>\n      <td>52721</td>\n      <td>GIRO1066128</td>\n    </tr>\n    <tr>\n      <th>416</th>\n      <td>2381</td>\n      <td>CLASSICA OCIDENTE JM NOVO HORI</td>\n      <td>14</td>\n      <td>5193-AE</td>\n      <td>OCIDENTE BEM FEITOR CAL</td>\n      <td>11</td>\n      <td>CAL4605</td>\n      <td>CINDERELA MODELO JM NOVO HORIZ</td>\n      <td>12</td>\n      <td>AF-2652</td>\n      <td>...</td>\n      <td>2</td>\n      <td>23812020122</td>\n      <td>NaN</td>\n      <td>2</td>\n      <td>F</td>\n      <td>NaN</td>\n      <td>3287666.0</td>\n      <td>NaN</td>\n      <td>31300-ABCZ</td>\n      <td>GIRO1571455</td>\n    </tr>\n    <tr>\n      <th>417</th>\n      <td>5569</td>\n      <td>GABI FIV VALE OURO EVD</td>\n      <td>14</td>\n      <td>4417-AT</td>\n      <td>VALE OURO TE SILVANIA</td>\n      <td>11</td>\n      <td>EFC464</td>\n      <td>LAMBADA DRAMATIC SANTA LUZIA</td>\n      <td>12</td>\n      <td>AG-0944</td>\n      <td>...</td>\n      <td>2</td>\n      <td>55692020122</td>\n      <td>NaN</td>\n      <td>2</td>\n      <td>F</td>\n      <td>NaN</td>\n      <td>3890526.0</td>\n      <td>NaN</td>\n      <td>5569-GIRO</td>\n      <td>GIRO1797713</td>\n    </tr>\n    <tr>\n      <th>418</th>\n      <td>6029</td>\n      <td>DUNCAN FR RECREIO</td>\n      <td>14</td>\n      <td>0928-T</td>\n      <td>JAGUAR TE DO GAVIAO</td>\n      <td>11</td>\n      <td>GAV291</td>\n      <td>NILOPOLIS FR RECREIO</td>\n      <td>12</td>\n      <td>AB-0524</td>\n      <td>...</td>\n      <td>2</td>\n      <td>60292021222</td>\n      <td>NaN</td>\n      <td>2</td>\n      <td>F</td>\n      <td>NaN</td>\n      <td>4176523.0</td>\n      <td>NaN</td>\n      <td>31365-ABCZ</td>\n      <td>GIRO1383629</td>\n    </tr>\n    <tr>\n      <th>419</th>\n      <td>83436</td>\n      <td>LINDA SJ LALU</td>\n      <td>34</td>\n      <td>2734-BK</td>\n      <td>0</td>\n      <td>0</td>\n      <td>0</td>\n      <td>0</td>\n      <td>0</td>\n      <td>0</td>\n      <td>...</td>\n      <td>2</td>\n      <td>834362021232</td>\n      <td>NaN</td>\n      <td>6</td>\n      <td>F</td>\n      <td>NaN</td>\n      <td>NaN</td>\n      <td>NaN</td>\n      <td>83436-GIRO</td>\n      <td>GIRO2900035</td>\n    </tr>\n  </tbody>\n</table>\n<p>420 rows × 51 columns</p>\n</div>"
     },
     "execution_count": 58,
     "metadata": {},
     "output_type": "execute_result"
    }
   ],
   "source": [
    "df_animais_com_id = adiciona_id_produto_nos_animais_com_id(df_animais_com_id, df_genealogia_embrapa)\n",
    "df_animais_com_id"
   ],
   "metadata": {
    "collapsed": false
   }
  },
  {
   "cell_type": "code",
   "execution_count": 59,
   "outputs": [],
   "source": [
    "def adiciona_animais_sem_id_que_possuem_id_na_gen_embrapa_ao_df_animais_com_id(animais_sem_id, df_animais_id, genealogia_embrapa):\n",
    "  ids_encontrados = pd.merge(animais_sem_id, genealogia_embrapa['IDANIMAL'], left_on=['IDANIMAL'], right_on=['IDANIMAL'], how='left', suffixes=('', '_drop'), indicator=True)\n",
    "  ids_encontrados = ids_encontrados.drop_duplicates()\n",
    "  ids_encontrados = ids_encontrados.drop(ids_encontrados.filter(regex='_drop$').columns.difference(['IDANIMAL_drop']), axis=1)\n",
    "  ids_encontrados = ids_encontrados[ids_encontrados['_merge'] == 'both']\n",
    "\n",
    "  # dropa as colunas que não são necessárias\n",
    "  ids_encontrados = ids_encontrados.drop(columns='_merge')\n",
    "  df_animais_id = pd.concat([df_animais_id, ids_encontrados])\n",
    "  df_animais_id = df_animais_id.drop_duplicates()\n",
    "  return df_animais_id"
   ],
   "metadata": {
    "collapsed": false
   }
  },
  {
   "cell_type": "code",
   "execution_count": 60,
   "outputs": [
    {
     "data": {
      "text/plain": "     reb_giro                           nomea  COMPRAC    RGVACA  \\\n0        6029              DEMASIA FR RECREIO       14    0869-T   \n1        7450               JACA JAYZ SJ LALU       34   6411-AH   \n2        3304  CAITA OCIDENTE MJP DA CAPELA P       12    8634-X   \n3        5569  LONDRINA GENGIS KHAN RECANTO D       12   0021-AW   \n4        5569         BABALU METEORO DO MORRO       38   0148-AK   \n..        ...                             ...      ...       ...   \n535      8689         JOA EMBAIXADOR LAGLORIA       14    6341-M   \n544      9373            JAB BARONEZA OPINION       78   8900-AI   \n563      5192          SUGESTIVA FIV DE BRAS.       11   RRP8637   \n569      6029                GRUTA FR RECREIO       12   4847-BG   \n591      1945           ABAMA 2 FIV M. VERDE        11  ISPG1286   \n\n                       nomep  GSPAI     RGPAI                          nomem  \\\n0       JAGUAR TE DO GAVIAO     11    GAV291           ERMELINDA MERGULHAO    \n1           HORNLAND JAYZ-ET     10  AX118150        GAYA FIV SANSAO SJ LALU   \n2    OCIDENTE BEM FEITOR CAL     11   CAL4605         MARINA DA CAPELA PAIVA   \n3    GENGIS KHAN DE BRASILIA     11   RRP6097  MEARA JUDITH GOLDWYN BELLA-TE   \n4        METEORO DE BRASILIA     11     B5226               SEGUNDA DO MORRO   \n..                       ...    ...       ...                            ...   \n535      EMBAIXADOR LAGLORIA     11    MAFV20              FLORINDA LAGLORIA   \n544  ROYAL OPINION DECEMBER      10  AX119971  INTEGRALAT FIV 77761 KIRKLAND   \n563     JAGUAR TE DO GAVIAO     11    GAV291               JESSICA DE BRAS.   \n569                        0      0         0                              0   \n591             C.A.SANSAO      11    KCA472             ABAMA TE DE KUBERA   \n\n     GSMAE     RGMAE  ...  nordc      rebanoe  ordem gs  sexo    cod_prod  \\\n0       12   AD-1407  ...      2  60292021122    NaN  2     F         NaN   \n1       12    1898-P  ...      2  74502020132    NaN  6     F         NaN   \n2       10    A-3096  ...      2  33042020122    NaN  4     F         NaN   \n3       10  BX410396  ...      2  55692021222    NaN  4     F         NaN   \n4       34    7468-T  ...      2  55692021222    NaN  3     F         NaN   \n..     ...       ...  ...    ...          ...    ... ..   ...         ...   \n535     12   AE-2426  ...      2  86892019122    NaN  2     F         NaN   \n544     34   AP-1389  ...      2  93732020122    NaN  7     F         NaN   \n563     11   RRP6775  ...      2  51922020132    NaN  0     F  16309606.0   \n569      0         0  ...      2  60292021222    NaN  4     F         NaN   \n591     11    ACFG80  ...      2  19452021222    NaN  0     F  11869706.0   \n\n       cod_pai     cod_mae         reb   id_produto  \n0    4176523.0         NaN  31365-ABCZ  GIRO1383626  \n1          NaN         NaN   7450-GIRO  GIRO1608903  \n2    3287666.0         NaN   3304-GIRO  GIRO1215331  \n3    9265878.0         NaN   5569-GIRO  GIRO2022656  \n4    2225848.0         NaN   5569-GIRO  GIRO1653303  \n..         ...         ...         ...          ...  \n535  9392611.0         NaN   8689-GIRO          NaN  \n544        NaN         NaN       52706          NaN  \n563  4176523.0  11309453.0   5192-GIRO          NaN  \n569        NaN         NaN  31365-ABCZ          NaN  \n591  2730835.0   3332560.0  37634-ABCZ          NaN  \n\n[459 rows x 51 columns]",
      "text/html": "<div>\n<style scoped>\n    .dataframe tbody tr th:only-of-type {\n        vertical-align: middle;\n    }\n\n    .dataframe tbody tr th {\n        vertical-align: top;\n    }\n\n    .dataframe thead th {\n        text-align: right;\n    }\n</style>\n<table border=\"1\" class=\"dataframe\">\n  <thead>\n    <tr style=\"text-align: right;\">\n      <th></th>\n      <th>reb_giro</th>\n      <th>nomea</th>\n      <th>COMPRAC</th>\n      <th>RGVACA</th>\n      <th>nomep</th>\n      <th>GSPAI</th>\n      <th>RGPAI</th>\n      <th>nomem</th>\n      <th>GSMAE</th>\n      <th>RGMAE</th>\n      <th>...</th>\n      <th>nordc</th>\n      <th>rebanoe</th>\n      <th>ordem</th>\n      <th>gs</th>\n      <th>sexo</th>\n      <th>cod_prod</th>\n      <th>cod_pai</th>\n      <th>cod_mae</th>\n      <th>reb</th>\n      <th>id_produto</th>\n    </tr>\n  </thead>\n  <tbody>\n    <tr>\n      <th>0</th>\n      <td>6029</td>\n      <td>DEMASIA FR RECREIO</td>\n      <td>14</td>\n      <td>0869-T</td>\n      <td>JAGUAR TE DO GAVIAO</td>\n      <td>11</td>\n      <td>GAV291</td>\n      <td>ERMELINDA MERGULHAO</td>\n      <td>12</td>\n      <td>AD-1407</td>\n      <td>...</td>\n      <td>2</td>\n      <td>60292021122</td>\n      <td>NaN</td>\n      <td>2</td>\n      <td>F</td>\n      <td>NaN</td>\n      <td>4176523.0</td>\n      <td>NaN</td>\n      <td>31365-ABCZ</td>\n      <td>GIRO1383626</td>\n    </tr>\n    <tr>\n      <th>1</th>\n      <td>7450</td>\n      <td>JACA JAYZ SJ LALU</td>\n      <td>34</td>\n      <td>6411-AH</td>\n      <td>HORNLAND JAYZ-ET</td>\n      <td>10</td>\n      <td>AX118150</td>\n      <td>GAYA FIV SANSAO SJ LALU</td>\n      <td>12</td>\n      <td>1898-P</td>\n      <td>...</td>\n      <td>2</td>\n      <td>74502020132</td>\n      <td>NaN</td>\n      <td>6</td>\n      <td>F</td>\n      <td>NaN</td>\n      <td>NaN</td>\n      <td>NaN</td>\n      <td>7450-GIRO</td>\n      <td>GIRO1608903</td>\n    </tr>\n    <tr>\n      <th>2</th>\n      <td>3304</td>\n      <td>CAITA OCIDENTE MJP DA CAPELA P</td>\n      <td>12</td>\n      <td>8634-X</td>\n      <td>OCIDENTE BEM FEITOR CAL</td>\n      <td>11</td>\n      <td>CAL4605</td>\n      <td>MARINA DA CAPELA PAIVA</td>\n      <td>10</td>\n      <td>A-3096</td>\n      <td>...</td>\n      <td>2</td>\n      <td>33042020122</td>\n      <td>NaN</td>\n      <td>4</td>\n      <td>F</td>\n      <td>NaN</td>\n      <td>3287666.0</td>\n      <td>NaN</td>\n      <td>3304-GIRO</td>\n      <td>GIRO1215331</td>\n    </tr>\n    <tr>\n      <th>3</th>\n      <td>5569</td>\n      <td>LONDRINA GENGIS KHAN RECANTO D</td>\n      <td>12</td>\n      <td>0021-AW</td>\n      <td>GENGIS KHAN DE BRASILIA</td>\n      <td>11</td>\n      <td>RRP6097</td>\n      <td>MEARA JUDITH GOLDWYN BELLA-TE</td>\n      <td>10</td>\n      <td>BX410396</td>\n      <td>...</td>\n      <td>2</td>\n      <td>55692021222</td>\n      <td>NaN</td>\n      <td>4</td>\n      <td>F</td>\n      <td>NaN</td>\n      <td>9265878.0</td>\n      <td>NaN</td>\n      <td>5569-GIRO</td>\n      <td>GIRO2022656</td>\n    </tr>\n    <tr>\n      <th>4</th>\n      <td>5569</td>\n      <td>BABALU METEORO DO MORRO</td>\n      <td>38</td>\n      <td>0148-AK</td>\n      <td>METEORO DE BRASILIA</td>\n      <td>11</td>\n      <td>B5226</td>\n      <td>SEGUNDA DO MORRO</td>\n      <td>34</td>\n      <td>7468-T</td>\n      <td>...</td>\n      <td>2</td>\n      <td>55692021222</td>\n      <td>NaN</td>\n      <td>3</td>\n      <td>F</td>\n      <td>NaN</td>\n      <td>2225848.0</td>\n      <td>NaN</td>\n      <td>5569-GIRO</td>\n      <td>GIRO1653303</td>\n    </tr>\n    <tr>\n      <th>...</th>\n      <td>...</td>\n      <td>...</td>\n      <td>...</td>\n      <td>...</td>\n      <td>...</td>\n      <td>...</td>\n      <td>...</td>\n      <td>...</td>\n      <td>...</td>\n      <td>...</td>\n      <td>...</td>\n      <td>...</td>\n      <td>...</td>\n      <td>...</td>\n      <td>...</td>\n      <td>...</td>\n      <td>...</td>\n      <td>...</td>\n      <td>...</td>\n      <td>...</td>\n      <td>...</td>\n    </tr>\n    <tr>\n      <th>535</th>\n      <td>8689</td>\n      <td>JOA EMBAIXADOR LAGLORIA</td>\n      <td>14</td>\n      <td>6341-M</td>\n      <td>EMBAIXADOR LAGLORIA</td>\n      <td>11</td>\n      <td>MAFV20</td>\n      <td>FLORINDA LAGLORIA</td>\n      <td>12</td>\n      <td>AE-2426</td>\n      <td>...</td>\n      <td>2</td>\n      <td>86892019122</td>\n      <td>NaN</td>\n      <td>2</td>\n      <td>F</td>\n      <td>NaN</td>\n      <td>9392611.0</td>\n      <td>NaN</td>\n      <td>8689-GIRO</td>\n      <td>NaN</td>\n    </tr>\n    <tr>\n      <th>544</th>\n      <td>9373</td>\n      <td>JAB BARONEZA OPINION</td>\n      <td>78</td>\n      <td>8900-AI</td>\n      <td>ROYAL OPINION DECEMBER</td>\n      <td>10</td>\n      <td>AX119971</td>\n      <td>INTEGRALAT FIV 77761 KIRKLAND</td>\n      <td>34</td>\n      <td>AP-1389</td>\n      <td>...</td>\n      <td>2</td>\n      <td>93732020122</td>\n      <td>NaN</td>\n      <td>7</td>\n      <td>F</td>\n      <td>NaN</td>\n      <td>NaN</td>\n      <td>NaN</td>\n      <td>52706</td>\n      <td>NaN</td>\n    </tr>\n    <tr>\n      <th>563</th>\n      <td>5192</td>\n      <td>SUGESTIVA FIV DE BRAS.</td>\n      <td>11</td>\n      <td>RRP8637</td>\n      <td>JAGUAR TE DO GAVIAO</td>\n      <td>11</td>\n      <td>GAV291</td>\n      <td>JESSICA DE BRAS.</td>\n      <td>11</td>\n      <td>RRP6775</td>\n      <td>...</td>\n      <td>2</td>\n      <td>51922020132</td>\n      <td>NaN</td>\n      <td>0</td>\n      <td>F</td>\n      <td>16309606.0</td>\n      <td>4176523.0</td>\n      <td>11309453.0</td>\n      <td>5192-GIRO</td>\n      <td>NaN</td>\n    </tr>\n    <tr>\n      <th>569</th>\n      <td>6029</td>\n      <td>GRUTA FR RECREIO</td>\n      <td>12</td>\n      <td>4847-BG</td>\n      <td>0</td>\n      <td>0</td>\n      <td>0</td>\n      <td>0</td>\n      <td>0</td>\n      <td>0</td>\n      <td>...</td>\n      <td>2</td>\n      <td>60292021222</td>\n      <td>NaN</td>\n      <td>4</td>\n      <td>F</td>\n      <td>NaN</td>\n      <td>NaN</td>\n      <td>NaN</td>\n      <td>31365-ABCZ</td>\n      <td>NaN</td>\n    </tr>\n    <tr>\n      <th>591</th>\n      <td>1945</td>\n      <td>ABAMA 2 FIV M. VERDE</td>\n      <td>11</td>\n      <td>ISPG1286</td>\n      <td>C.A.SANSAO</td>\n      <td>11</td>\n      <td>KCA472</td>\n      <td>ABAMA TE DE KUBERA</td>\n      <td>11</td>\n      <td>ACFG80</td>\n      <td>...</td>\n      <td>2</td>\n      <td>19452021222</td>\n      <td>NaN</td>\n      <td>0</td>\n      <td>F</td>\n      <td>11869706.0</td>\n      <td>2730835.0</td>\n      <td>3332560.0</td>\n      <td>37634-ABCZ</td>\n      <td>NaN</td>\n    </tr>\n  </tbody>\n</table>\n<p>459 rows × 51 columns</p>\n</div>"
     },
     "execution_count": 60,
     "metadata": {},
     "output_type": "execute_result"
    }
   ],
   "source": [
    "df_animais_com_id = adiciona_animais_sem_id_que_possuem_id_na_gen_embrapa_ao_df_animais_com_id(df_animais_sem_id, df_animais_com_id, df_genealogia_embrapa)\n",
    "df_animais_com_id"
   ],
   "metadata": {
    "collapsed": false
   }
  },
  {
   "cell_type": "code",
   "execution_count": 61,
   "outputs": [],
   "source": [
    "def atualiza_animais_sem_id(animais_sem_id, df_animais_id):\n",
    "\n",
    "  #Tirando o sufixo da tabela\n",
    "\n",
    "  animais_sem_id = pd.merge(animais_sem_id, df_animais_id, on=['IDANIMAL'], how='left', indicator=True, suffixes=('', '_drop'))\n",
    "  animais_sem_id = animais_sem_id[animais_sem_id['id_produto'].isnull()]\n",
    "  animais_sem_id = animais_sem_id.drop(animais_sem_id.filter(regex='_drop$').columns, axis=1)\n",
    "  # Seleciona apenas as linhas que possuem valores nulos na coluna \"id_produto\"\n",
    "\n",
    "  animais_sem_id = animais_sem_id.drop(columns='_merge')\n",
    "  return animais_sem_id"
   ],
   "metadata": {
    "collapsed": false
   }
  },
  {
   "cell_type": "code",
   "execution_count": 62,
   "outputs": [
    {
     "data": {
      "text/plain": "     reb_giro                            nomea  COMPRAC    RGVACA  \\\n0        7461   NANA IMPERADOR BAXTER RF SAO F     5858   6353-AH   \n1       10639  LANAA FIV AFTERSHOCK BON.BELEM       12   9592-AG   \n2        6039   EDILAINE IMPERIO FIV 4303 JARD       12  AADA0352   \n3        1945             ARMA MERIDIAN DA MBL       12   1025-AN   \n4       73119   CELESTE 136 TEATRO FIV COOPERR       12   1239-BF   \n..        ...                              ...      ...       ...   \n619      1945   JPZ QUIRERA SHAMROCK ASTER FIV       12    4032-Z   \n620      2381   DALIA I FIV BRADLEY JM NOVO HO       12   4906-AZ   \n621       132        QUINTA I COLE AGM TRIUNFO       34   9243-AG   \n622      6915                  LIA DAS ARABIAS     5858   6125-BR   \n623      6029          GERMANA FEBO FR RECREIO     5858   9069-AS   \n\n                             nomep  GSPAI     RGPAI  \\\n0      IMPERADOR BAXTER VOLTA FRIA     58      1459   \n1    MS ATLEES SHT AFTERSHOCK - ET     10  AX129928   \n2           IMPERIO TE STA EDWIGES     11    RIG163   \n3           SULLY HART MERIDIAN-ET     10  AX138576   \n4               TEATRO DA SILVANIA     11    EFC383   \n..                             ...    ...       ...   \n619     LADYS-MANOR PL SHAMROCK-ET     10  AX135714   \n620               ROCKALLI BRADLEY     10  AX117720   \n621         CO-OP TOYSTORY COLE-ET     10  AX129567   \n622              TURBO DAS ARABIAS   5858      0079   \n623                FEBO FR RECREIO     58    6300-N   \n\n                             nomem  GSMAE         RGMAE  ...  nordc  \\\n0    JURITI HERBY RF SAO FRANCISCO     58        6877-N  ...      2   \n1                 JOANE FIV KUBERA     11      ACFG1840  ...      2   \n2    SERTEC QATAR FABIANA PROGRESS     10  HBB/B-291392  ...      2   \n3                             FAMA     11        JNR167  ...      2   \n4       LAGOS ASTRE QUIMICA 795 TE     10      BX335536  ...      2   \n..                             ...    ...           ...  ...    ...   \n619                  JPZ ASTER FIV     11         JPZ64  ...      2   \n620           DALIA NOVO HORIZONTE     11        JMCH76  ...      2   \n621                   QUINTA FIV M     12        0473-O  ...      2   \n622             LILIKA DAS ARABIAS     58       4916-AW  ...      2   \n623            CAMPANHA FR RECREIO     58        6180-N  ...      2   \n\n          rebanoe  ordem gs  sexo  cod_prod    cod_pai     cod_mae  \\\n0     74612019122    NaN  5     F       NaN        NaN         NaN   \n1    106392021122    NaN  4     F       NaN        NaN   9513273.0   \n2     60392020122    NaN  4     F       NaN  4320031.0         NaN   \n3     19452021222    NaN  4     F       NaN        NaN  10621711.0   \n4    731192021222    NaN  4     F       NaN  3540404.0         NaN   \n..            ...    ... ..   ...       ...        ...         ...   \n619   19452022222    NaN  4     F       NaN        NaN  11428022.0   \n620   23812021222    NaN  4     F       NaN        NaN  12866148.0   \n621    1322019222    NaN  6     F       NaN        NaN         NaN   \n622   69152021222    NaN  5     F       NaN        NaN         NaN   \n623   60292019122    NaN  5     F       NaN        NaN         NaN   \n\n            reb  id_produto  \n0          1291         NaN  \n1    10639-GIRO         NaN  \n2           NaN         NaN  \n3    37634-ABCZ         NaN  \n4           NaN         NaN  \n..          ...         ...  \n619  37634-ABCZ         NaN  \n620  31300-ABCZ         NaN  \n621  31835-ABCZ         NaN  \n622  27729-ABCZ         NaN  \n623  31365-ABCZ         NaN  \n\n[624 rows x 51 columns]",
      "text/html": "<div>\n<style scoped>\n    .dataframe tbody tr th:only-of-type {\n        vertical-align: middle;\n    }\n\n    .dataframe tbody tr th {\n        vertical-align: top;\n    }\n\n    .dataframe thead th {\n        text-align: right;\n    }\n</style>\n<table border=\"1\" class=\"dataframe\">\n  <thead>\n    <tr style=\"text-align: right;\">\n      <th></th>\n      <th>reb_giro</th>\n      <th>nomea</th>\n      <th>COMPRAC</th>\n      <th>RGVACA</th>\n      <th>nomep</th>\n      <th>GSPAI</th>\n      <th>RGPAI</th>\n      <th>nomem</th>\n      <th>GSMAE</th>\n      <th>RGMAE</th>\n      <th>...</th>\n      <th>nordc</th>\n      <th>rebanoe</th>\n      <th>ordem</th>\n      <th>gs</th>\n      <th>sexo</th>\n      <th>cod_prod</th>\n      <th>cod_pai</th>\n      <th>cod_mae</th>\n      <th>reb</th>\n      <th>id_produto</th>\n    </tr>\n  </thead>\n  <tbody>\n    <tr>\n      <th>0</th>\n      <td>7461</td>\n      <td>NANA IMPERADOR BAXTER RF SAO F</td>\n      <td>5858</td>\n      <td>6353-AH</td>\n      <td>IMPERADOR BAXTER VOLTA FRIA</td>\n      <td>58</td>\n      <td>1459</td>\n      <td>JURITI HERBY RF SAO FRANCISCO</td>\n      <td>58</td>\n      <td>6877-N</td>\n      <td>...</td>\n      <td>2</td>\n      <td>74612019122</td>\n      <td>NaN</td>\n      <td>5</td>\n      <td>F</td>\n      <td>NaN</td>\n      <td>NaN</td>\n      <td>NaN</td>\n      <td>1291</td>\n      <td>NaN</td>\n    </tr>\n    <tr>\n      <th>1</th>\n      <td>10639</td>\n      <td>LANAA FIV AFTERSHOCK BON.BELEM</td>\n      <td>12</td>\n      <td>9592-AG</td>\n      <td>MS ATLEES SHT AFTERSHOCK - ET</td>\n      <td>10</td>\n      <td>AX129928</td>\n      <td>JOANE FIV KUBERA</td>\n      <td>11</td>\n      <td>ACFG1840</td>\n      <td>...</td>\n      <td>2</td>\n      <td>106392021122</td>\n      <td>NaN</td>\n      <td>4</td>\n      <td>F</td>\n      <td>NaN</td>\n      <td>NaN</td>\n      <td>9513273.0</td>\n      <td>10639-GIRO</td>\n      <td>NaN</td>\n    </tr>\n    <tr>\n      <th>2</th>\n      <td>6039</td>\n      <td>EDILAINE IMPERIO FIV 4303 JARD</td>\n      <td>12</td>\n      <td>AADA0352</td>\n      <td>IMPERIO TE STA EDWIGES</td>\n      <td>11</td>\n      <td>RIG163</td>\n      <td>SERTEC QATAR FABIANA PROGRESS</td>\n      <td>10</td>\n      <td>HBB/B-291392</td>\n      <td>...</td>\n      <td>2</td>\n      <td>60392020122</td>\n      <td>NaN</td>\n      <td>4</td>\n      <td>F</td>\n      <td>NaN</td>\n      <td>4320031.0</td>\n      <td>NaN</td>\n      <td>NaN</td>\n      <td>NaN</td>\n    </tr>\n    <tr>\n      <th>3</th>\n      <td>1945</td>\n      <td>ARMA MERIDIAN DA MBL</td>\n      <td>12</td>\n      <td>1025-AN</td>\n      <td>SULLY HART MERIDIAN-ET</td>\n      <td>10</td>\n      <td>AX138576</td>\n      <td>FAMA</td>\n      <td>11</td>\n      <td>JNR167</td>\n      <td>...</td>\n      <td>2</td>\n      <td>19452021222</td>\n      <td>NaN</td>\n      <td>4</td>\n      <td>F</td>\n      <td>NaN</td>\n      <td>NaN</td>\n      <td>10621711.0</td>\n      <td>37634-ABCZ</td>\n      <td>NaN</td>\n    </tr>\n    <tr>\n      <th>4</th>\n      <td>73119</td>\n      <td>CELESTE 136 TEATRO FIV COOPERR</td>\n      <td>12</td>\n      <td>1239-BF</td>\n      <td>TEATRO DA SILVANIA</td>\n      <td>11</td>\n      <td>EFC383</td>\n      <td>LAGOS ASTRE QUIMICA 795 TE</td>\n      <td>10</td>\n      <td>BX335536</td>\n      <td>...</td>\n      <td>2</td>\n      <td>731192021222</td>\n      <td>NaN</td>\n      <td>4</td>\n      <td>F</td>\n      <td>NaN</td>\n      <td>3540404.0</td>\n      <td>NaN</td>\n      <td>NaN</td>\n      <td>NaN</td>\n    </tr>\n    <tr>\n      <th>...</th>\n      <td>...</td>\n      <td>...</td>\n      <td>...</td>\n      <td>...</td>\n      <td>...</td>\n      <td>...</td>\n      <td>...</td>\n      <td>...</td>\n      <td>...</td>\n      <td>...</td>\n      <td>...</td>\n      <td>...</td>\n      <td>...</td>\n      <td>...</td>\n      <td>...</td>\n      <td>...</td>\n      <td>...</td>\n      <td>...</td>\n      <td>...</td>\n      <td>...</td>\n      <td>...</td>\n    </tr>\n    <tr>\n      <th>619</th>\n      <td>1945</td>\n      <td>JPZ QUIRERA SHAMROCK ASTER FIV</td>\n      <td>12</td>\n      <td>4032-Z</td>\n      <td>LADYS-MANOR PL SHAMROCK-ET</td>\n      <td>10</td>\n      <td>AX135714</td>\n      <td>JPZ ASTER FIV</td>\n      <td>11</td>\n      <td>JPZ64</td>\n      <td>...</td>\n      <td>2</td>\n      <td>19452022222</td>\n      <td>NaN</td>\n      <td>4</td>\n      <td>F</td>\n      <td>NaN</td>\n      <td>NaN</td>\n      <td>11428022.0</td>\n      <td>37634-ABCZ</td>\n      <td>NaN</td>\n    </tr>\n    <tr>\n      <th>620</th>\n      <td>2381</td>\n      <td>DALIA I FIV BRADLEY JM NOVO HO</td>\n      <td>12</td>\n      <td>4906-AZ</td>\n      <td>ROCKALLI BRADLEY</td>\n      <td>10</td>\n      <td>AX117720</td>\n      <td>DALIA NOVO HORIZONTE</td>\n      <td>11</td>\n      <td>JMCH76</td>\n      <td>...</td>\n      <td>2</td>\n      <td>23812021222</td>\n      <td>NaN</td>\n      <td>4</td>\n      <td>F</td>\n      <td>NaN</td>\n      <td>NaN</td>\n      <td>12866148.0</td>\n      <td>31300-ABCZ</td>\n      <td>NaN</td>\n    </tr>\n    <tr>\n      <th>621</th>\n      <td>132</td>\n      <td>QUINTA I COLE AGM TRIUNFO</td>\n      <td>34</td>\n      <td>9243-AG</td>\n      <td>CO-OP TOYSTORY COLE-ET</td>\n      <td>10</td>\n      <td>AX129567</td>\n      <td>QUINTA FIV M</td>\n      <td>12</td>\n      <td>0473-O</td>\n      <td>...</td>\n      <td>2</td>\n      <td>1322019222</td>\n      <td>NaN</td>\n      <td>6</td>\n      <td>F</td>\n      <td>NaN</td>\n      <td>NaN</td>\n      <td>NaN</td>\n      <td>31835-ABCZ</td>\n      <td>NaN</td>\n    </tr>\n    <tr>\n      <th>622</th>\n      <td>6915</td>\n      <td>LIA DAS ARABIAS</td>\n      <td>5858</td>\n      <td>6125-BR</td>\n      <td>TURBO DAS ARABIAS</td>\n      <td>5858</td>\n      <td>0079</td>\n      <td>LILIKA DAS ARABIAS</td>\n      <td>58</td>\n      <td>4916-AW</td>\n      <td>...</td>\n      <td>2</td>\n      <td>69152021222</td>\n      <td>NaN</td>\n      <td>5</td>\n      <td>F</td>\n      <td>NaN</td>\n      <td>NaN</td>\n      <td>NaN</td>\n      <td>27729-ABCZ</td>\n      <td>NaN</td>\n    </tr>\n    <tr>\n      <th>623</th>\n      <td>6029</td>\n      <td>GERMANA FEBO FR RECREIO</td>\n      <td>5858</td>\n      <td>9069-AS</td>\n      <td>FEBO FR RECREIO</td>\n      <td>58</td>\n      <td>6300-N</td>\n      <td>CAMPANHA FR RECREIO</td>\n      <td>58</td>\n      <td>6180-N</td>\n      <td>...</td>\n      <td>2</td>\n      <td>60292019122</td>\n      <td>NaN</td>\n      <td>5</td>\n      <td>F</td>\n      <td>NaN</td>\n      <td>NaN</td>\n      <td>NaN</td>\n      <td>31365-ABCZ</td>\n      <td>NaN</td>\n    </tr>\n  </tbody>\n</table>\n<p>624 rows × 51 columns</p>\n</div>"
     },
     "execution_count": 62,
     "metadata": {},
     "output_type": "execute_result"
    }
   ],
   "source": [
    "df_animais_sem_id = atualiza_animais_sem_id(df_animais_sem_id, df_animais_com_id)\n",
    "df_animais_sem_id"
   ],
   "metadata": {
    "collapsed": false
   }
  },
  {
   "cell_type": "code",
   "execution_count": 63,
   "outputs": [
    {
     "data": {
      "text/plain": "     reb_giro                            nomea  COMPRAC    RGVACA  \\\n0        7461   NANA IMPERADOR BAXTER RF SAO F     5858   6353-AH   \n1       10639  LANAA FIV AFTERSHOCK BON.BELEM       12   9592-AG   \n2        6039   EDILAINE IMPERIO FIV 4303 JARD       12  AADA0352   \n3        1945             ARMA MERIDIAN DA MBL       12   1025-AN   \n4       73119   CELESTE 136 TEATRO FIV COOPERR       12   1239-BF   \n..        ...                              ...      ...       ...   \n619      1945   JPZ QUIRERA SHAMROCK ASTER FIV       12    4032-Z   \n620      2381   DALIA I FIV BRADLEY JM NOVO HO       12   4906-AZ   \n621       132        QUINTA I COLE AGM TRIUNFO       34   9243-AG   \n622      6915                  LIA DAS ARABIAS     5858   6125-BR   \n623      6029          GERMANA FEBO FR RECREIO     5858   9069-AS   \n\n                             nomep  GSPAI     RGPAI  \\\n0      IMPERADOR BAXTER VOLTA FRIA     58      1459   \n1    MS ATLEES SHT AFTERSHOCK - ET     10  AX129928   \n2           IMPERIO TE STA EDWIGES     11    RIG163   \n3           SULLY HART MERIDIAN-ET     10  AX138576   \n4               TEATRO DA SILVANIA     11    EFC383   \n..                             ...    ...       ...   \n619     LADYS-MANOR PL SHAMROCK-ET     10  AX135714   \n620               ROCKALLI BRADLEY     10  AX117720   \n621         CO-OP TOYSTORY COLE-ET     10  AX129567   \n622              TURBO DAS ARABIAS   5858      0079   \n623                FEBO FR RECREIO     58    6300-N   \n\n                             nomem  GSMAE         RGMAE  ...  nordc  \\\n0    JURITI HERBY RF SAO FRANCISCO     58        6877-N  ...      2   \n1                 JOANE FIV KUBERA     11      ACFG1840  ...      2   \n2    SERTEC QATAR FABIANA PROGRESS     10  HBB/B-291392  ...      2   \n3                             FAMA     11        JNR167  ...      2   \n4       LAGOS ASTRE QUIMICA 795 TE     10      BX335536  ...      2   \n..                             ...    ...           ...  ...    ...   \n619                  JPZ ASTER FIV     11         JPZ64  ...      2   \n620           DALIA NOVO HORIZONTE     11        JMCH76  ...      2   \n621                   QUINTA FIV M     12        0473-O  ...      2   \n622             LILIKA DAS ARABIAS     58       4916-AW  ...      2   \n623            CAMPANHA FR RECREIO     58        6180-N  ...      2   \n\n          rebanoe  ordem gs  sexo  cod_prod    cod_pai     cod_mae  \\\n0     74612019122    NaN  5     F       NaN        NaN         NaN   \n1    106392021122    NaN  4     F       NaN        NaN   9513273.0   \n2     60392020122    NaN  4     F       NaN  4320031.0         NaN   \n3     19452021222    NaN  4     F       NaN        NaN  10621711.0   \n4    731192021222    NaN  4     F       NaN  3540404.0         NaN   \n..            ...    ... ..   ...       ...        ...         ...   \n619   19452022222    NaN  4     F       NaN        NaN  11428022.0   \n620   23812021222    NaN  4     F       NaN        NaN  12866148.0   \n621    1322019222    NaN  6     F       NaN        NaN         NaN   \n622   69152021222    NaN  5     F       NaN        NaN         NaN   \n623   60292019122    NaN  5     F       NaN        NaN         NaN   \n\n            reb  id_produto  \n0          1291         NaN  \n1    10639-GIRO         NaN  \n2           NaN         NaN  \n3    37634-ABCZ         NaN  \n4           NaN         NaN  \n..          ...         ...  \n619  37634-ABCZ         NaN  \n620  31300-ABCZ         NaN  \n621  31835-ABCZ         NaN  \n622  27729-ABCZ         NaN  \n623  31365-ABCZ         NaN  \n\n[622 rows x 51 columns]",
      "text/html": "<div>\n<style scoped>\n    .dataframe tbody tr th:only-of-type {\n        vertical-align: middle;\n    }\n\n    .dataframe tbody tr th {\n        vertical-align: top;\n    }\n\n    .dataframe thead th {\n        text-align: right;\n    }\n</style>\n<table border=\"1\" class=\"dataframe\">\n  <thead>\n    <tr style=\"text-align: right;\">\n      <th></th>\n      <th>reb_giro</th>\n      <th>nomea</th>\n      <th>COMPRAC</th>\n      <th>RGVACA</th>\n      <th>nomep</th>\n      <th>GSPAI</th>\n      <th>RGPAI</th>\n      <th>nomem</th>\n      <th>GSMAE</th>\n      <th>RGMAE</th>\n      <th>...</th>\n      <th>nordc</th>\n      <th>rebanoe</th>\n      <th>ordem</th>\n      <th>gs</th>\n      <th>sexo</th>\n      <th>cod_prod</th>\n      <th>cod_pai</th>\n      <th>cod_mae</th>\n      <th>reb</th>\n      <th>id_produto</th>\n    </tr>\n  </thead>\n  <tbody>\n    <tr>\n      <th>0</th>\n      <td>7461</td>\n      <td>NANA IMPERADOR BAXTER RF SAO F</td>\n      <td>5858</td>\n      <td>6353-AH</td>\n      <td>IMPERADOR BAXTER VOLTA FRIA</td>\n      <td>58</td>\n      <td>1459</td>\n      <td>JURITI HERBY RF SAO FRANCISCO</td>\n      <td>58</td>\n      <td>6877-N</td>\n      <td>...</td>\n      <td>2</td>\n      <td>74612019122</td>\n      <td>NaN</td>\n      <td>5</td>\n      <td>F</td>\n      <td>NaN</td>\n      <td>NaN</td>\n      <td>NaN</td>\n      <td>1291</td>\n      <td>NaN</td>\n    </tr>\n    <tr>\n      <th>1</th>\n      <td>10639</td>\n      <td>LANAA FIV AFTERSHOCK BON.BELEM</td>\n      <td>12</td>\n      <td>9592-AG</td>\n      <td>MS ATLEES SHT AFTERSHOCK - ET</td>\n      <td>10</td>\n      <td>AX129928</td>\n      <td>JOANE FIV KUBERA</td>\n      <td>11</td>\n      <td>ACFG1840</td>\n      <td>...</td>\n      <td>2</td>\n      <td>106392021122</td>\n      <td>NaN</td>\n      <td>4</td>\n      <td>F</td>\n      <td>NaN</td>\n      <td>NaN</td>\n      <td>9513273.0</td>\n      <td>10639-GIRO</td>\n      <td>NaN</td>\n    </tr>\n    <tr>\n      <th>2</th>\n      <td>6039</td>\n      <td>EDILAINE IMPERIO FIV 4303 JARD</td>\n      <td>12</td>\n      <td>AADA0352</td>\n      <td>IMPERIO TE STA EDWIGES</td>\n      <td>11</td>\n      <td>RIG163</td>\n      <td>SERTEC QATAR FABIANA PROGRESS</td>\n      <td>10</td>\n      <td>HBB/B-291392</td>\n      <td>...</td>\n      <td>2</td>\n      <td>60392020122</td>\n      <td>NaN</td>\n      <td>4</td>\n      <td>F</td>\n      <td>NaN</td>\n      <td>4320031.0</td>\n      <td>NaN</td>\n      <td>NaN</td>\n      <td>NaN</td>\n    </tr>\n    <tr>\n      <th>3</th>\n      <td>1945</td>\n      <td>ARMA MERIDIAN DA MBL</td>\n      <td>12</td>\n      <td>1025-AN</td>\n      <td>SULLY HART MERIDIAN-ET</td>\n      <td>10</td>\n      <td>AX138576</td>\n      <td>FAMA</td>\n      <td>11</td>\n      <td>JNR167</td>\n      <td>...</td>\n      <td>2</td>\n      <td>19452021222</td>\n      <td>NaN</td>\n      <td>4</td>\n      <td>F</td>\n      <td>NaN</td>\n      <td>NaN</td>\n      <td>10621711.0</td>\n      <td>37634-ABCZ</td>\n      <td>NaN</td>\n    </tr>\n    <tr>\n      <th>4</th>\n      <td>73119</td>\n      <td>CELESTE 136 TEATRO FIV COOPERR</td>\n      <td>12</td>\n      <td>1239-BF</td>\n      <td>TEATRO DA SILVANIA</td>\n      <td>11</td>\n      <td>EFC383</td>\n      <td>LAGOS ASTRE QUIMICA 795 TE</td>\n      <td>10</td>\n      <td>BX335536</td>\n      <td>...</td>\n      <td>2</td>\n      <td>731192021222</td>\n      <td>NaN</td>\n      <td>4</td>\n      <td>F</td>\n      <td>NaN</td>\n      <td>3540404.0</td>\n      <td>NaN</td>\n      <td>NaN</td>\n      <td>NaN</td>\n    </tr>\n    <tr>\n      <th>...</th>\n      <td>...</td>\n      <td>...</td>\n      <td>...</td>\n      <td>...</td>\n      <td>...</td>\n      <td>...</td>\n      <td>...</td>\n      <td>...</td>\n      <td>...</td>\n      <td>...</td>\n      <td>...</td>\n      <td>...</td>\n      <td>...</td>\n      <td>...</td>\n      <td>...</td>\n      <td>...</td>\n      <td>...</td>\n      <td>...</td>\n      <td>...</td>\n      <td>...</td>\n      <td>...</td>\n    </tr>\n    <tr>\n      <th>619</th>\n      <td>1945</td>\n      <td>JPZ QUIRERA SHAMROCK ASTER FIV</td>\n      <td>12</td>\n      <td>4032-Z</td>\n      <td>LADYS-MANOR PL SHAMROCK-ET</td>\n      <td>10</td>\n      <td>AX135714</td>\n      <td>JPZ ASTER FIV</td>\n      <td>11</td>\n      <td>JPZ64</td>\n      <td>...</td>\n      <td>2</td>\n      <td>19452022222</td>\n      <td>NaN</td>\n      <td>4</td>\n      <td>F</td>\n      <td>NaN</td>\n      <td>NaN</td>\n      <td>11428022.0</td>\n      <td>37634-ABCZ</td>\n      <td>NaN</td>\n    </tr>\n    <tr>\n      <th>620</th>\n      <td>2381</td>\n      <td>DALIA I FIV BRADLEY JM NOVO HO</td>\n      <td>12</td>\n      <td>4906-AZ</td>\n      <td>ROCKALLI BRADLEY</td>\n      <td>10</td>\n      <td>AX117720</td>\n      <td>DALIA NOVO HORIZONTE</td>\n      <td>11</td>\n      <td>JMCH76</td>\n      <td>...</td>\n      <td>2</td>\n      <td>23812021222</td>\n      <td>NaN</td>\n      <td>4</td>\n      <td>F</td>\n      <td>NaN</td>\n      <td>NaN</td>\n      <td>12866148.0</td>\n      <td>31300-ABCZ</td>\n      <td>NaN</td>\n    </tr>\n    <tr>\n      <th>621</th>\n      <td>132</td>\n      <td>QUINTA I COLE AGM TRIUNFO</td>\n      <td>34</td>\n      <td>9243-AG</td>\n      <td>CO-OP TOYSTORY COLE-ET</td>\n      <td>10</td>\n      <td>AX129567</td>\n      <td>QUINTA FIV M</td>\n      <td>12</td>\n      <td>0473-O</td>\n      <td>...</td>\n      <td>2</td>\n      <td>1322019222</td>\n      <td>NaN</td>\n      <td>6</td>\n      <td>F</td>\n      <td>NaN</td>\n      <td>NaN</td>\n      <td>NaN</td>\n      <td>31835-ABCZ</td>\n      <td>NaN</td>\n    </tr>\n    <tr>\n      <th>622</th>\n      <td>6915</td>\n      <td>LIA DAS ARABIAS</td>\n      <td>5858</td>\n      <td>6125-BR</td>\n      <td>TURBO DAS ARABIAS</td>\n      <td>5858</td>\n      <td>0079</td>\n      <td>LILIKA DAS ARABIAS</td>\n      <td>58</td>\n      <td>4916-AW</td>\n      <td>...</td>\n      <td>2</td>\n      <td>69152021222</td>\n      <td>NaN</td>\n      <td>5</td>\n      <td>F</td>\n      <td>NaN</td>\n      <td>NaN</td>\n      <td>NaN</td>\n      <td>27729-ABCZ</td>\n      <td>NaN</td>\n    </tr>\n    <tr>\n      <th>623</th>\n      <td>6029</td>\n      <td>GERMANA FEBO FR RECREIO</td>\n      <td>5858</td>\n      <td>9069-AS</td>\n      <td>FEBO FR RECREIO</td>\n      <td>58</td>\n      <td>6300-N</td>\n      <td>CAMPANHA FR RECREIO</td>\n      <td>58</td>\n      <td>6180-N</td>\n      <td>...</td>\n      <td>2</td>\n      <td>60292019122</td>\n      <td>NaN</td>\n      <td>5</td>\n      <td>F</td>\n      <td>NaN</td>\n      <td>NaN</td>\n      <td>NaN</td>\n      <td>31365-ABCZ</td>\n      <td>NaN</td>\n    </tr>\n  </tbody>\n</table>\n<p>622 rows × 51 columns</p>\n</div>"
     },
     "execution_count": 63,
     "metadata": {},
     "output_type": "execute_result"
    }
   ],
   "source": [
    "df_animais_sem_id = df_animais_sem_id.drop_duplicates()\n",
    "df_animais_sem_id"
   ],
   "metadata": {
    "collapsed": false
   }
  },
  {
   "cell_type": "code",
   "execution_count": 63,
   "outputs": [],
   "source": [],
   "metadata": {
    "collapsed": false
   }
  }
 ],
 "metadata": {
  "kernelspec": {
   "display_name": "Python 3",
   "language": "python",
   "name": "python3"
  },
  "language_info": {
   "codemirror_mode": {
    "name": "ipython",
    "version": 2
   },
   "file_extension": ".py",
   "mimetype": "text/x-python",
   "name": "python",
   "nbconvert_exporter": "python",
   "pygments_lexer": "ipython2",
   "version": "2.7.6"
  }
 },
 "nbformat": 4,
 "nbformat_minor": 0
}
